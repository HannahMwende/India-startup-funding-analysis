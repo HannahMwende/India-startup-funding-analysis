{
 "cells": [
  {
   "cell_type": "markdown",
   "metadata": {},
   "source": [
    "### In our hypothesis testing we will use ANOVA analysis guided by the following general ANOVA hypotheses:\n",
    "* Null hypothesis: Groups means are equal (no variation in means of groups)\n",
    "* Alternative hypothesis: At least, one group mean is different from other groups\n"
   ]
  },
  {
   "cell_type": "markdown",
   "metadata": {},
   "source": [
    "## The following theree hypothesis were developed for testing:\n",
    "### Hypothesis 1: <br>\n",
    "```Null```: The funding received by start-ups in India has not demonstrated consistent upward trajectory over the years.<br>\n",
    "```Alternate```: The funding received by start-ups in India has demonstrated a consistent upward trajectory over the years.\n",
    "\n",
    "### Hypothesis 2: <br>\n",
    "```Null```: There are no significant disparities in funding received by all sectors of the Indian startups. <br>\n",
    "```Alternate```: The technology sectors receive higher funding compared to other industries.\n",
    "\n",
    "### Hypothesis 3: <br>\n",
    "```Null```: Situating a startup in a particular city does not influence funding.<br>\n",
    "```Alternate```: Situating a startup in a particular city significantly affects funding."
   ]
  },
  {
   "cell_type": "markdown",
   "metadata": {},
   "source": [
    "### To test these hypotheses, we will conduct the following analyses: \n",
    "* #### For Hypothesis 1, we will analyze the year-by-year funding amounts and calculate the average growth rate of funding.\n",
    "* #### To investigate Hypothesis 2, we will categorize start-ups based on industry and compare the funding amounts received by each sector.\n",
    "* #### Regarding Hypothesis 3, we will examine the distribution of start-ups across cities and deduce which cities harbour most highly-funded start-ups."
   ]
  },
  {
   "cell_type": "markdown",
   "metadata": {},
   "source": []
  }
 ],
 "metadata": {
  "kernelspec": {
   "display_name": "base",
   "language": "python",
   "name": "python3"
  },
  "language_info": {
   "codemirror_mode": {
    "name": "ipython",
    "version": 3
   },
   "file_extension": ".py",
   "mimetype": "text/x-python",
   "name": "python",
   "nbconvert_exporter": "python",
   "pygments_lexer": "ipython3",
   "version": "3.10.9"
  },
  "orig_nbformat": 4
 },
 "nbformat": 4,
 "nbformat_minor": 2
}
