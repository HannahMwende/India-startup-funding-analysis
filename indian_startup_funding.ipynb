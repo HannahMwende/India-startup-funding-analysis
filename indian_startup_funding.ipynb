{
 "cells": [
  {
   "attachments": {},
   "cell_type": "markdown",
   "metadata": {},
   "source": [
    "# Analysis of Funding Received by Start-ups in India from 2018 to 2021\n",
    "\n",
    "## 1. Business Understanding\n",
    "\n",
    "### 1.1 Project Description\n",
    "This data analysis project focuses on the funding received by start-ups in India from 2018 to 2021. The objective is to gain insights into the Indian start-up ecosystem and propose the best course of action for our team's venture. By analyzing the data on funding amounts, start-up details, and investor information, we aim to unearth prevailing patterns and gain insights about the opportunities in India's start-up ecosystem to inform decision-making.\n",
    "\n",
    "### 1.2 The type of the problem\n",
    "This project is of the exploratory data analytics and visualization type as it is our aim to deduce hidden insights and patterns from the available data.\n",
    "\n",
    "\n",
    "\n",
    "## 2. Data understanding\n",
    "The data used in this project was sampled from different start-up companies in India. The dataset used in this analysis is a combination of four different datasets . 2 datasets for the year 2020 and 2021 are obtained from the database.The datasets contain funding history of various startups for the period 2018 - 2021."
   ]
  },
  {
   "attachments": {},
   "cell_type": "markdown",
   "metadata": {},
   "source": [
    "## 3. Data preparation\n",
    "### 3.1 Installing and importing libraries"
   ]
  },
  {
   "cell_type": "code",
   "execution_count": 3,
   "metadata": {},
   "outputs": [
    {
     "name": "stdout",
     "output_type": "stream",
     "text": [
<<<<<<< HEAD
      "Requirement already satisfied: pyodbc in c:\\users\\ur\\anaconda3\\envs\\learn-env\\lib\\site-packages (4.0.39)\n",
=======
>>>>>>> 43b96b4dfa7bddb17435e2b2cac05525a713e75a
      "Note: you may need to restart the kernel to use updated packages.\n"
     ]
    },
    {
<<<<<<< HEAD
     "name": "stdout",
     "output_type": "stream",
     "text": [
      "Requirement already satisfied: python-dotenv in c:\\users\\ur\\anaconda3\\envs\\learn-env\\lib\\site-packages (1.0.0)\n",
      "Note: you may need to restart the kernel to use updated packages.\n",
      "Requirement already satisfied: fuzzywuzzy in c:\\users\\ur\\anaconda3\\envs\\learn-env\\lib\\site-packages (0.18.0)Note: you may need to restart the kernel to use updated packages.\n",
      "\n"
=======
     "name": "stderr",
     "output_type": "stream",
     "text": [
      "\n",
      "[notice] A new release of pip is available: 23.1 -> 23.1.2\n",
      "[notice] To update, run: python.exe -m pip install --upgrade pip\n"
     ]
    },
    {
     "name": "stdout",
     "output_type": "stream",
     "text": [
      "Requirement already satisfied: pyodbc in c:\\users\\cynthia.mutisya\\appdata\\local\\anaconda3\\lib\\site-packages (4.0.34)\n",
      "Requirement already satisfied: python-dotenv in c:\\users\\cynthia.mutisya\\appdata\\local\\anaconda3\\lib\\site-packages (1.0.0)\n",
      "Note: you may need to restart the kernel to use updated packages.\n"
     ]
    },
    {
     "name": "stderr",
     "output_type": "stream",
     "text": [
      "\n",
      "[notice] A new release of pip is available: 23.1 -> 23.1.2\n",
      "[notice] To update, run: python.exe -m pip install --upgrade pip\n"
     ]
    },
    {
     "name": "stdout",
     "output_type": "stream",
     "text": [
      "Requirement already satisfied: fuzzywuzzy in c:\\users\\cynthia.mutisya\\appdata\\local\\anaconda3\\lib\\site-packages (0.18.0)\n",
      "Note: you may need to restart the kernel to use updated packages.\n"
     ]
    },
    {
     "name": "stderr",
     "output_type": "stream",
     "text": [
      "\n",
      "[notice] A new release of pip is available: 23.1 -> 23.1.2\n",
      "[notice] To update, run: python.exe -m pip install --upgrade pip\n"
>>>>>>> 43b96b4dfa7bddb17435e2b2cac05525a713e75a
     ]
    }
   ],
   "source": [
    "%pip install pyodbc  \n",
    "%pip install python-dotenv \n",
    "%pip install fuzzywuzzy"
   ]
  },
  {
   "cell_type": "code",
<<<<<<< HEAD
   "execution_count": 2,
=======
   "execution_count": 4,
>>>>>>> 43b96b4dfa7bddb17435e2b2cac05525a713e75a
   "metadata": {},
   "outputs": [
    {
     "name": "stderr",
     "output_type": "stream",
     "text": [
      "c:\\Users\\ur\\anaconda3\\envs\\learn-env\\lib\\site-packages\\fuzzywuzzy\\fuzz.py:11: UserWarning: Using slow pure-python SequenceMatcher. Install python-Levenshtein to remove this warning\n",
      "  warnings.warn('Using slow pure-python SequenceMatcher. Install python-Levenshtein to remove this warning')\n"
     ]
    }
   ],
   "source": [
    "import pyodbc\n",
    "from dotenv import dotenv_values \n",
    "\n",
    "# Analysis libraries\n",
    "import pandas as pd \n",
    "import numpy as np\n",
    "from sklearn.impute import SimpleImputer\n",
    "import re\n",
    "import datetime\n",
    "from datetime import datetime\n",
    "from fuzzywuzzy import fuzz\n",
    "from fuzzywuzzy import process\n",
    "\n",
    "# Visualization libraries\n",
    "import matplotlib.pyplot as plt\n",
    "%matplotlib inline\n",
    "import seaborn as sns\n",
    "# Warning libraries\n",
    "import warnings\n",
    "warnings.filterwarnings('ignore')"
   ]
  },
  {
   "attachments": {},
   "cell_type": "markdown",
   "metadata": {},
   "source": [
    "### 3.2 Loading data"
   ]
  },
  {
   "cell_type": "markdown",
   "metadata": {},
   "source": [
    "<h4> Loading 2018 data</h4>"
   ]
  },
  {
   "cell_type": "code",
<<<<<<< HEAD
   "execution_count": 3,
=======
   "execution_count": 31,
>>>>>>> 43b96b4dfa7bddb17435e2b2cac05525a713e75a
   "metadata": {},
   "outputs": [
    {
     "data": {
      "text/html": [
       "<div>\n",
       "<style scoped>\n",
       "    .dataframe tbody tr th:only-of-type {\n",
       "        vertical-align: middle;\n",
       "    }\n",
       "\n",
       "    .dataframe tbody tr th {\n",
       "        vertical-align: top;\n",
       "    }\n",
       "\n",
       "    .dataframe thead th {\n",
       "        text-align: right;\n",
       "    }\n",
       "</style>\n",
       "<table border=\"1\" class=\"dataframe\">\n",
       "  <thead>\n",
       "    <tr style=\"text-align: right;\">\n",
       "      <th></th>\n",
       "      <th>Company Name</th>\n",
       "      <th>Industry</th>\n",
       "      <th>Round/Series</th>\n",
       "      <th>Amount</th>\n",
       "      <th>Location</th>\n",
       "      <th>About Company</th>\n",
       "    </tr>\n",
       "  </thead>\n",
       "  <tbody>\n",
       "    <tr>\n",
       "      <th>0</th>\n",
       "      <td>TheCollegeFever</td>\n",
       "      <td>Brand Marketing, Event Promotion, Marketing, S...</td>\n",
       "      <td>Seed</td>\n",
       "      <td>250000</td>\n",
       "      <td>Bangalore, Karnataka, India</td>\n",
       "      <td>TheCollegeFever is a hub for fun, fiesta and f...</td>\n",
       "    </tr>\n",
       "    <tr>\n",
       "      <th>1</th>\n",
       "      <td>Happy Cow Dairy</td>\n",
       "      <td>Agriculture, Farming</td>\n",
       "      <td>Seed</td>\n",
       "      <td>₹40,000,000</td>\n",
       "      <td>Mumbai, Maharashtra, India</td>\n",
       "      <td>A startup which aggregates milk from dairy far...</td>\n",
       "    </tr>\n",
       "    <tr>\n",
       "      <th>2</th>\n",
       "      <td>MyLoanCare</td>\n",
       "      <td>Credit, Financial Services, Lending, Marketplace</td>\n",
       "      <td>Series A</td>\n",
       "      <td>₹65,000,000</td>\n",
       "      <td>Gurgaon, Haryana, India</td>\n",
       "      <td>Leading Online Loans Marketplace in India</td>\n",
       "    </tr>\n",
       "    <tr>\n",
       "      <th>3</th>\n",
       "      <td>PayMe India</td>\n",
       "      <td>Financial Services, FinTech</td>\n",
       "      <td>Angel</td>\n",
       "      <td>2000000</td>\n",
       "      <td>Noida, Uttar Pradesh, India</td>\n",
       "      <td>PayMe India is an innovative FinTech organizat...</td>\n",
       "    </tr>\n",
       "    <tr>\n",
       "      <th>4</th>\n",
       "      <td>Eunimart</td>\n",
       "      <td>E-Commerce Platforms, Retail, SaaS</td>\n",
       "      <td>Seed</td>\n",
       "      <td>—</td>\n",
       "      <td>Hyderabad, Andhra Pradesh, India</td>\n",
       "      <td>Eunimart is a one stop solution for merchants ...</td>\n",
       "    </tr>\n",
       "  </tbody>\n",
       "</table>\n",
       "</div>"
      ],
      "text/plain": [
       "      Company Name                                           Industry  \\\n",
       "0  TheCollegeFever  Brand Marketing, Event Promotion, Marketing, S...   \n",
       "1  Happy Cow Dairy                               Agriculture, Farming   \n",
       "2       MyLoanCare   Credit, Financial Services, Lending, Marketplace   \n",
       "3      PayMe India                        Financial Services, FinTech   \n",
       "4         Eunimart                 E-Commerce Platforms, Retail, SaaS   \n",
       "\n",
       "  Round/Series       Amount                          Location  \\\n",
       "0         Seed       250000       Bangalore, Karnataka, India   \n",
       "1         Seed  ₹40,000,000        Mumbai, Maharashtra, India   \n",
       "2     Series A  ₹65,000,000           Gurgaon, Haryana, India   \n",
       "3        Angel      2000000       Noida, Uttar Pradesh, India   \n",
       "4         Seed            —  Hyderabad, Andhra Pradesh, India   \n",
       "\n",
       "                                       About Company  \n",
       "0  TheCollegeFever is a hub for fun, fiesta and f...  \n",
       "1  A startup which aggregates milk from dairy far...  \n",
       "2          Leading Online Loans Marketplace in India  \n",
       "3  PayMe India is an innovative FinTech organizat...  \n",
       "4  Eunimart is a one stop solution for merchants ...  "
      ]
     },
<<<<<<< HEAD
     "execution_count": 3,
=======
     "execution_count": 31,
>>>>>>> 43b96b4dfa7bddb17435e2b2cac05525a713e75a
     "metadata": {},
     "output_type": "execute_result"
    }
   ],
   "source": [
    "data2018 = pd.read_csv('data\\startup_funding2018.csv')\n",
    "data2018.head()"
   ]
  },
  {
   "cell_type": "markdown",
   "metadata": {},
   "source": [
    "<h4> Loading 2019 data</h4>"
   ]
  },
  {
   "cell_type": "code",
<<<<<<< HEAD
   "execution_count": 4,
=======
   "execution_count": 32,
>>>>>>> 43b96b4dfa7bddb17435e2b2cac05525a713e75a
   "metadata": {},
   "outputs": [
    {
     "data": {
      "text/html": [
       "<div>\n",
       "<style scoped>\n",
       "    .dataframe tbody tr th:only-of-type {\n",
       "        vertical-align: middle;\n",
       "    }\n",
       "\n",
       "    .dataframe tbody tr th {\n",
       "        vertical-align: top;\n",
       "    }\n",
       "\n",
       "    .dataframe thead th {\n",
       "        text-align: right;\n",
       "    }\n",
       "</style>\n",
       "<table border=\"1\" class=\"dataframe\">\n",
       "  <thead>\n",
       "    <tr style=\"text-align: right;\">\n",
       "      <th></th>\n",
       "      <th>Company/Brand</th>\n",
       "      <th>Founded</th>\n",
       "      <th>HeadQuarter</th>\n",
       "      <th>Sector</th>\n",
       "      <th>What it does</th>\n",
       "      <th>Founders</th>\n",
       "      <th>Investor</th>\n",
       "      <th>Amount($)</th>\n",
       "      <th>Stage</th>\n",
       "    </tr>\n",
       "  </thead>\n",
       "  <tbody>\n",
       "    <tr>\n",
       "      <th>0</th>\n",
       "      <td>Bombay Shaving</td>\n",
       "      <td>NaN</td>\n",
       "      <td>NaN</td>\n",
       "      <td>Ecommerce</td>\n",
       "      <td>Provides a range of male grooming products</td>\n",
       "      <td>Shantanu Deshpande</td>\n",
       "      <td>Sixth Sense Ventures</td>\n",
       "      <td>$6,300,000</td>\n",
       "      <td>NaN</td>\n",
       "    </tr>\n",
       "    <tr>\n",
       "      <th>1</th>\n",
       "      <td>Ruangguru</td>\n",
       "      <td>2014.0</td>\n",
       "      <td>Mumbai</td>\n",
       "      <td>Edtech</td>\n",
       "      <td>A learning platform that provides topic-based ...</td>\n",
       "      <td>Adamas Belva Syah Devara, Iman Usman.</td>\n",
       "      <td>General Atlantic</td>\n",
       "      <td>$150,000,000</td>\n",
       "      <td>Series C</td>\n",
       "    </tr>\n",
       "    <tr>\n",
       "      <th>2</th>\n",
       "      <td>Eduisfun</td>\n",
       "      <td>NaN</td>\n",
       "      <td>Mumbai</td>\n",
       "      <td>Edtech</td>\n",
       "      <td>It aims to make learning fun via games.</td>\n",
       "      <td>Jatin Solanki</td>\n",
       "      <td>Deepak Parekh, Amitabh Bachchan, Piyush Pandey</td>\n",
       "      <td>$28,000,000</td>\n",
       "      <td>Fresh funding</td>\n",
       "    </tr>\n",
       "    <tr>\n",
       "      <th>3</th>\n",
       "      <td>HomeLane</td>\n",
       "      <td>2014.0</td>\n",
       "      <td>Chennai</td>\n",
       "      <td>Interior design</td>\n",
       "      <td>Provides interior designing solutions</td>\n",
       "      <td>Srikanth Iyer, Rama Harinath</td>\n",
       "      <td>Evolvence India Fund (EIF), Pidilite Group, FJ...</td>\n",
       "      <td>$30,000,000</td>\n",
       "      <td>Series D</td>\n",
       "    </tr>\n",
       "    <tr>\n",
       "      <th>4</th>\n",
       "      <td>Nu Genes</td>\n",
       "      <td>2004.0</td>\n",
       "      <td>Telangana</td>\n",
       "      <td>AgriTech</td>\n",
       "      <td>It is a seed company engaged in production, pr...</td>\n",
       "      <td>Narayana Reddy Punyala</td>\n",
       "      <td>Innovation in Food and Agriculture (IFA)</td>\n",
       "      <td>$6,000,000</td>\n",
       "      <td>NaN</td>\n",
       "    </tr>\n",
       "  </tbody>\n",
       "</table>\n",
       "</div>"
      ],
      "text/plain": [
       "    Company/Brand  Founded HeadQuarter           Sector  \\\n",
       "0  Bombay Shaving      NaN         NaN        Ecommerce   \n",
       "1       Ruangguru   2014.0      Mumbai           Edtech   \n",
       "2        Eduisfun      NaN      Mumbai           Edtech   \n",
       "3        HomeLane   2014.0     Chennai  Interior design   \n",
       "4        Nu Genes   2004.0   Telangana         AgriTech   \n",
       "\n",
       "                                        What it does  \\\n",
       "0         Provides a range of male grooming products   \n",
       "1  A learning platform that provides topic-based ...   \n",
       "2            It aims to make learning fun via games.   \n",
       "3              Provides interior designing solutions   \n",
       "4  It is a seed company engaged in production, pr...   \n",
       "\n",
       "                                Founders  \\\n",
       "0                     Shantanu Deshpande   \n",
       "1  Adamas Belva Syah Devara, Iman Usman.   \n",
       "2                          Jatin Solanki   \n",
       "3           Srikanth Iyer, Rama Harinath   \n",
       "4                 Narayana Reddy Punyala   \n",
       "\n",
       "                                            Investor     Amount($)  \\\n",
       "0                               Sixth Sense Ventures    $6,300,000   \n",
       "1                                   General Atlantic  $150,000,000   \n",
       "2     Deepak Parekh, Amitabh Bachchan, Piyush Pandey   $28,000,000   \n",
       "3  Evolvence India Fund (EIF), Pidilite Group, FJ...   $30,000,000   \n",
       "4           Innovation in Food and Agriculture (IFA)    $6,000,000   \n",
       "\n",
       "           Stage  \n",
       "0            NaN  \n",
       "1       Series C  \n",
       "2  Fresh funding  \n",
       "3       Series D  \n",
       "4            NaN  "
      ]
     },
<<<<<<< HEAD
     "execution_count": 4,
=======
     "execution_count": 32,
>>>>>>> 43b96b4dfa7bddb17435e2b2cac05525a713e75a
     "metadata": {},
     "output_type": "execute_result"
    }
   ],
   "source": [
<<<<<<< HEAD
    "data_2019 = pd.read_csv('data/startup_funding2019.csv')\n",
    "data_2019.head()"
=======
    "data2019 = pd.read_csv('data\\startup_funding2019.csv')\n",
    "data2019.head()"
>>>>>>> 43b96b4dfa7bddb17435e2b2cac05525a713e75a
   ]
  },
  {
   "cell_type": "markdown",
   "metadata": {},
   "source": [
    "<h4>Import data from database from 2020 and 2021</h4>"
   ]
  },
  {
   "cell_type": "code",
<<<<<<< HEAD
   "execution_count": 5,
=======
   "execution_count": 6,
>>>>>>> 43b96b4dfa7bddb17435e2b2cac05525a713e75a
   "metadata": {},
   "outputs": [],
   "source": [
    "# Load environment variables from .env file into a dictionary\n",
    "environment_variables = dotenv_values('.env')\n",
    "\n",
    "\n",
    "# Get the values for the credentials you set in the '.env' file\n",
    "database = environment_variables.get(\"DATABASE\")\n",
    "server = environment_variables.get(\"SERVER\")\n",
    "username = environment_variables.get(\"USERNAME\")\n",
    "password = environment_variables.get(\"PASSWORD\")\n",
<<<<<<< HEAD
    "\n",
    "\n",
    "connection_string = f\"DRIVER={{SQL Server}};SERVER={server};DATABASE={database};UID={username};PWD={password}\""
   ]
  },
  {
   "cell_type": "code",
   "execution_count": 6,
   "metadata": {},
   "outputs": [],
   "source": [
    "# Use the connect method of the pyodbc library and pass in the connection string.\n",
    "# This will connect to the server and might take a few seconds to be complete. \n",
    "# Check your internet connection if it takes more time than necessary\n",
    "\n",
=======
    "connection_string = f\"DRIVER={{SQL Server}};SERVER={server};DATABASE={database};UID={username};PWD={password}\"\n",
>>>>>>> 43b96b4dfa7bddb17435e2b2cac05525a713e75a
    "connection = pyodbc.connect(connection_string)"
   ]
  },
  {
<<<<<<< HEAD
   "cell_type": "code",
   "execution_count": 7,
=======
   "cell_type": "markdown",
>>>>>>> 43b96b4dfa7bddb17435e2b2cac05525a713e75a
   "metadata": {},
   "source": [
    "<h4>Load 2020 data</h4>"
   ]
  },
  {
   "cell_type": "code",
<<<<<<< HEAD
   "execution_count": 8,
=======
   "execution_count": 7,
>>>>>>> 43b96b4dfa7bddb17435e2b2cac05525a713e75a
   "metadata": {},
   "outputs": [
    {
     "data": {
      "text/html": [
       "<div>\n",
       "<style scoped>\n",
       "    .dataframe tbody tr th:only-of-type {\n",
       "        vertical-align: middle;\n",
       "    }\n",
       "\n",
       "    .dataframe tbody tr th {\n",
       "        vertical-align: top;\n",
       "    }\n",
       "\n",
       "    .dataframe thead th {\n",
       "        text-align: right;\n",
       "    }\n",
       "</style>\n",
       "<table border=\"1\" class=\"dataframe\">\n",
       "  <thead>\n",
       "    <tr style=\"text-align: right;\">\n",
       "      <th></th>\n",
       "      <th>Company_Brand</th>\n",
       "      <th>Founded</th>\n",
       "      <th>HeadQuarter</th>\n",
       "      <th>Sector</th>\n",
       "      <th>What_it_does</th>\n",
       "      <th>Founders</th>\n",
       "      <th>Investor</th>\n",
       "      <th>Amount</th>\n",
       "      <th>Stage</th>\n",
       "      <th>column10</th>\n",
       "    </tr>\n",
       "  </thead>\n",
       "  <tbody>\n",
       "    <tr>\n",
       "      <th>0</th>\n",
       "      <td>Aqgromalin</td>\n",
       "      <td>2019.0</td>\n",
       "      <td>Chennai</td>\n",
       "      <td>AgriTech</td>\n",
       "      <td>Cultivating Ideas for Profit</td>\n",
       "      <td>Prasanna Manogaran, Bharani C L</td>\n",
       "      <td>Angel investors</td>\n",
       "      <td>200000.0</td>\n",
       "      <td>None</td>\n",
       "      <td>None</td>\n",
       "    </tr>\n",
       "    <tr>\n",
       "      <th>1</th>\n",
       "      <td>Krayonnz</td>\n",
       "      <td>2019.0</td>\n",
       "      <td>Bangalore</td>\n",
       "      <td>EdTech</td>\n",
       "      <td>An academy-guardian-scholar centric ecosystem ...</td>\n",
       "      <td>Saurabh Dixit, Gurudutt Upadhyay</td>\n",
       "      <td>GSF Accelerator</td>\n",
       "      <td>100000.0</td>\n",
       "      <td>Pre-seed</td>\n",
       "      <td>None</td>\n",
       "    </tr>\n",
       "    <tr>\n",
       "      <th>2</th>\n",
       "      <td>PadCare Labs</td>\n",
       "      <td>2018.0</td>\n",
       "      <td>Pune</td>\n",
       "      <td>Hygiene management</td>\n",
       "      <td>Converting bio-hazardous waste to harmless waste</td>\n",
       "      <td>Ajinkya Dhariya</td>\n",
       "      <td>Venture Center</td>\n",
       "      <td>NaN</td>\n",
       "      <td>Pre-seed</td>\n",
       "      <td>None</td>\n",
       "    </tr>\n",
       "    <tr>\n",
       "      <th>3</th>\n",
       "      <td>NCOME</td>\n",
       "      <td>2020.0</td>\n",
       "      <td>New Delhi</td>\n",
       "      <td>Escrow</td>\n",
       "      <td>Escrow-as-a-service platform</td>\n",
       "      <td>Ritesh Tiwari</td>\n",
       "      <td>Venture Catalysts, PointOne Capital</td>\n",
       "      <td>400000.0</td>\n",
       "      <td>None</td>\n",
       "      <td>None</td>\n",
       "    </tr>\n",
       "    <tr>\n",
       "      <th>4</th>\n",
       "      <td>Gramophone</td>\n",
       "      <td>2016.0</td>\n",
       "      <td>Indore</td>\n",
       "      <td>AgriTech</td>\n",
       "      <td>Gramophone is an AgTech platform enabling acce...</td>\n",
       "      <td>Ashish Rajan Singh, Harshit Gupta, Nishant Mah...</td>\n",
       "      <td>Siana Capital Management, Info Edge</td>\n",
       "      <td>340000.0</td>\n",
       "      <td>None</td>\n",
       "      <td>None</td>\n",
       "    </tr>\n",
       "  </tbody>\n",
       "</table>\n",
       "</div>"
      ],
      "text/plain": [
       "  Company_Brand  Founded HeadQuarter              Sector  \\\n",
       "0    Aqgromalin   2019.0     Chennai            AgriTech   \n",
       "1      Krayonnz   2019.0   Bangalore              EdTech   \n",
       "2  PadCare Labs   2018.0        Pune  Hygiene management   \n",
       "3         NCOME   2020.0   New Delhi              Escrow   \n",
       "4    Gramophone   2016.0      Indore            AgriTech   \n",
       "\n",
       "                                        What_it_does  \\\n",
       "0                       Cultivating Ideas for Profit   \n",
       "1  An academy-guardian-scholar centric ecosystem ...   \n",
       "2   Converting bio-hazardous waste to harmless waste   \n",
       "3                       Escrow-as-a-service platform   \n",
       "4  Gramophone is an AgTech platform enabling acce...   \n",
       "\n",
       "                                            Founders  \\\n",
       "0                    Prasanna Manogaran, Bharani C L   \n",
       "1                   Saurabh Dixit, Gurudutt Upadhyay   \n",
       "2                                    Ajinkya Dhariya   \n",
       "3                                      Ritesh Tiwari   \n",
       "4  Ashish Rajan Singh, Harshit Gupta, Nishant Mah...   \n",
       "\n",
       "                              Investor    Amount     Stage column10  \n",
       "0                      Angel investors  200000.0      None     None  \n",
       "1                      GSF Accelerator  100000.0  Pre-seed     None  \n",
       "2                       Venture Center       NaN  Pre-seed     None  \n",
       "3  Venture Catalysts, PointOne Capital  400000.0      None     None  \n",
       "4  Siana Capital Management, Info Edge  340000.0      None     None  "
      ]
     },
<<<<<<< HEAD
     "execution_count": 8,
=======
     "execution_count": 7,
>>>>>>> 43b96b4dfa7bddb17435e2b2cac05525a713e75a
     "metadata": {},
     "output_type": "execute_result"
    }
   ],
   "source": [
    "# Now the sql query to get the data is what what you see below. \n",
    "# Note that you will not have permissions to insert delete or update this database table. \n",
    "\n",
    "query = \"Select * from dbo.LP1_startup_funding2020\"\n",
    "data2020 = pd.read_sql(query, connection)\n",
    "data2020.head()"
   ]
  },
  {
<<<<<<< HEAD
   "cell_type": "code",
   "execution_count": 9,
=======
   "cell_type": "markdown",
>>>>>>> 43b96b4dfa7bddb17435e2b2cac05525a713e75a
   "metadata": {},
   "source": [
    "<h4>Load 2021 data</h4>"
   ]
  },
  {
   "cell_type": "code",
<<<<<<< HEAD
   "execution_count": 10,
=======
   "execution_count": 8,
>>>>>>> 43b96b4dfa7bddb17435e2b2cac05525a713e75a
   "metadata": {},
   "outputs": [
    {
     "data": {
      "text/html": [
       "<div>\n",
       "<style scoped>\n",
       "    .dataframe tbody tr th:only-of-type {\n",
       "        vertical-align: middle;\n",
       "    }\n",
       "\n",
       "    .dataframe tbody tr th {\n",
       "        vertical-align: top;\n",
       "    }\n",
       "\n",
       "    .dataframe thead th {\n",
       "        text-align: right;\n",
       "    }\n",
       "</style>\n",
       "<table border=\"1\" class=\"dataframe\">\n",
       "  <thead>\n",
       "    <tr style=\"text-align: right;\">\n",
       "      <th></th>\n",
       "      <th>Company_Brand</th>\n",
       "      <th>Founded</th>\n",
       "      <th>HeadQuarter</th>\n",
       "      <th>Sector</th>\n",
       "      <th>What_it_does</th>\n",
       "      <th>Founders</th>\n",
       "      <th>Investor</th>\n",
       "      <th>Amount</th>\n",
       "      <th>Stage</th>\n",
       "    </tr>\n",
       "  </thead>\n",
       "  <tbody>\n",
       "    <tr>\n",
       "      <th>0</th>\n",
       "      <td>Unbox Robotics</td>\n",
       "      <td>2019.0</td>\n",
       "      <td>Bangalore</td>\n",
       "      <td>AI startup</td>\n",
       "      <td>Unbox Robotics builds on-demand AI-driven ware...</td>\n",
       "      <td>Pramod Ghadge, Shahid Memon</td>\n",
       "      <td>BEENEXT, Entrepreneur First</td>\n",
       "      <td>$1,200,000</td>\n",
       "      <td>Pre-series A</td>\n",
       "    </tr>\n",
       "    <tr>\n",
       "      <th>1</th>\n",
       "      <td>upGrad</td>\n",
       "      <td>2015.0</td>\n",
       "      <td>Mumbai</td>\n",
       "      <td>EdTech</td>\n",
       "      <td>UpGrad is an online higher education platform.</td>\n",
       "      <td>Mayank Kumar, Phalgun Kompalli, Ravijot Chugh,...</td>\n",
       "      <td>Unilazer Ventures, IIFL Asset Management</td>\n",
       "      <td>$120,000,000</td>\n",
       "      <td>None</td>\n",
       "    </tr>\n",
       "    <tr>\n",
       "      <th>2</th>\n",
       "      <td>Lead School</td>\n",
       "      <td>2012.0</td>\n",
       "      <td>Mumbai</td>\n",
       "      <td>EdTech</td>\n",
       "      <td>LEAD School offers technology based school tra...</td>\n",
       "      <td>Smita Deorah, Sumeet Mehta</td>\n",
       "      <td>GSV Ventures, Westbridge Capital</td>\n",
       "      <td>$30,000,000</td>\n",
       "      <td>Series D</td>\n",
       "    </tr>\n",
       "    <tr>\n",
       "      <th>3</th>\n",
       "      <td>Bizongo</td>\n",
       "      <td>2015.0</td>\n",
       "      <td>Mumbai</td>\n",
       "      <td>B2B E-commerce</td>\n",
       "      <td>Bizongo is a business-to-business online marke...</td>\n",
       "      <td>Aniket Deb, Ankit Tomar, Sachin Agrawal</td>\n",
       "      <td>CDC Group, IDG Capital</td>\n",
       "      <td>$51,000,000</td>\n",
       "      <td>Series C</td>\n",
       "    </tr>\n",
       "    <tr>\n",
       "      <th>4</th>\n",
       "      <td>FypMoney</td>\n",
       "      <td>2021.0</td>\n",
       "      <td>Gurugram</td>\n",
       "      <td>FinTech</td>\n",
       "      <td>FypMoney is Digital NEO Bank for Teenagers, em...</td>\n",
       "      <td>Kapil Banwari</td>\n",
       "      <td>Liberatha Kallat, Mukesh Yadav, Dinesh Nagpal</td>\n",
       "      <td>$2,000,000</td>\n",
       "      <td>Seed</td>\n",
       "    </tr>\n",
       "  </tbody>\n",
       "</table>\n",
       "</div>"
      ],
      "text/plain": [
       "    Company_Brand  Founded HeadQuarter          Sector  \\\n",
       "0  Unbox Robotics   2019.0   Bangalore      AI startup   \n",
       "1          upGrad   2015.0      Mumbai          EdTech   \n",
       "2     Lead School   2012.0      Mumbai          EdTech   \n",
       "3         Bizongo   2015.0      Mumbai  B2B E-commerce   \n",
       "4        FypMoney   2021.0    Gurugram         FinTech   \n",
       "\n",
       "                                        What_it_does  \\\n",
       "0  Unbox Robotics builds on-demand AI-driven ware...   \n",
       "1     UpGrad is an online higher education platform.   \n",
       "2  LEAD School offers technology based school tra...   \n",
       "3  Bizongo is a business-to-business online marke...   \n",
       "4  FypMoney is Digital NEO Bank for Teenagers, em...   \n",
       "\n",
       "                                            Founders  \\\n",
       "0                        Pramod Ghadge, Shahid Memon   \n",
       "1  Mayank Kumar, Phalgun Kompalli, Ravijot Chugh,...   \n",
       "2                         Smita Deorah, Sumeet Mehta   \n",
       "3            Aniket Deb, Ankit Tomar, Sachin Agrawal   \n",
       "4                                      Kapil Banwari   \n",
       "\n",
       "                                        Investor        Amount         Stage  \n",
       "0                    BEENEXT, Entrepreneur First    $1,200,000  Pre-series A  \n",
       "1       Unilazer Ventures, IIFL Asset Management  $120,000,000          None  \n",
       "2               GSV Ventures, Westbridge Capital   $30,000,000      Series D  \n",
       "3                         CDC Group, IDG Capital   $51,000,000      Series C  \n",
       "4  Liberatha Kallat, Mukesh Yadav, Dinesh Nagpal    $2,000,000          Seed  "
      ]
     },
<<<<<<< HEAD
     "execution_count": 10,
=======
     "execution_count": 8,
>>>>>>> 43b96b4dfa7bddb17435e2b2cac05525a713e75a
     "metadata": {},
     "output_type": "execute_result"
    }
   ],
   "source": [
    "query1 = \"Select * from dbo.LP1_startup_funding2021\"\n",
    "data2021 = pd.read_sql(query1, connection)\n",
    "data2021.head()"
   ]
  },
  {
   "attachments": {},
   "cell_type": "markdown",
   "metadata": {},
   "source": [
    "### To guide our analysis, we have formulated 5 SMART questions:\n",
    "* What is the overall trend in funding received by start-ups in India from 2018 to 2021?\n",
    "* Which industries or sectors have received the highest funding during this period?\n",
    "* What is the distribution of startups across the cities in India?\n",
    "* What is the average funding amount received by start-ups in India during this period?\n",
    "* Is there a correlation between the funding amount and the number of investors involved in funding rounds?\n",
    "\n",
    "###  We have also developed three hypotheses for testing:\n",
    "Hypothesis 1:<br>\n",
    "Null: The funding received by start-ups in India has not demonstrated consistent upward trajectory over the years.<br>\n",
    "Alternate: The funding received by start-ups in India has demonstrated a consistent upward trajectory over the years.\n",
    "\n",
    "Hypothesis 2: <br>\n",
    "Null: There are no significant disparities in funding received by all sectors of the Indian startups. <br>\n",
    "Alternate: The technology sectors receive higher funding compared to other industries.\n",
    "\n",
    "Hypothesis 3: <br>\n",
    "Null: Situating a startup in a particular city does not influence funding.<br>\n",
    "Alternate: Situating a startup in a particular city significantly affects funding.\n",
    "\n",
    "To test these hypotheses, we will conduct the following analyses: \n",
    "* For Hypothesis 1, we will analyze the year-by-year funding amounts and calculate the average growth rate of funding.\n",
    "* To investigate Hypothesis 2, we will categorize start-ups based on industry and compare the funding amounts received by each sector.\n",
    "* Regarding Hypothesis 3, we will examine the distribution of start-ups across cities and deduce which cities harbour most highly-funded start-ups.\n",
    "\n",
    "## 3.2 Data Cleaning\n"
   ]
  },
  {
   "cell_type": "markdown",
   "metadata": {},
   "source": [
    "### 3.2.1: Cleaning 2018 Data"
   ]
  },
  {
   "cell_type": "markdown",
   "metadata": {},
   "source": [
    "First, the 2018 data will be inspected then cleaned."
   ]
  },
  {
   "cell_type": "code",
<<<<<<< HEAD
   "execution_count": 11,
   "metadata": {},
   "outputs": [
    {
     "data": {
      "text/html": [
       "<div>\n",
       "<style scoped>\n",
       "    .dataframe tbody tr th:only-of-type {\n",
       "        vertical-align: middle;\n",
       "    }\n",
       "\n",
       "    .dataframe tbody tr th {\n",
       "        vertical-align: top;\n",
       "    }\n",
       "\n",
       "    .dataframe thead th {\n",
       "        text-align: right;\n",
       "    }\n",
       "</style>\n",
       "<table border=\"1\" class=\"dataframe\">\n",
       "  <thead>\n",
       "    <tr style=\"text-align: right;\">\n",
       "      <th></th>\n",
       "      <th>Company Name</th>\n",
       "      <th>Industry</th>\n",
       "      <th>Round/Series</th>\n",
       "      <th>Amount</th>\n",
       "      <th>Location</th>\n",
       "      <th>About Company</th>\n",
       "    </tr>\n",
       "  </thead>\n",
       "  <tbody>\n",
       "    <tr>\n",
       "      <th>0</th>\n",
       "      <td>TheCollegeFever</td>\n",
       "      <td>Brand Marketing, Event Promotion, Marketing, S...</td>\n",
       "      <td>Seed</td>\n",
       "      <td>250000</td>\n",
       "      <td>Bangalore, Karnataka, India</td>\n",
       "      <td>TheCollegeFever is a hub for fun, fiesta and f...</td>\n",
       "    </tr>\n",
       "    <tr>\n",
       "      <th>1</th>\n",
       "      <td>Happy Cow Dairy</td>\n",
       "      <td>Agriculture, Farming</td>\n",
       "      <td>Seed</td>\n",
       "      <td>₹40,000,000</td>\n",
       "      <td>Mumbai, Maharashtra, India</td>\n",
       "      <td>A startup which aggregates milk from dairy far...</td>\n",
       "    </tr>\n",
       "    <tr>\n",
       "      <th>2</th>\n",
       "      <td>MyLoanCare</td>\n",
       "      <td>Credit, Financial Services, Lending, Marketplace</td>\n",
       "      <td>Series A</td>\n",
       "      <td>₹65,000,000</td>\n",
       "      <td>Gurgaon, Haryana, India</td>\n",
       "      <td>Leading Online Loans Marketplace in India</td>\n",
       "    </tr>\n",
       "    <tr>\n",
       "      <th>3</th>\n",
       "      <td>PayMe India</td>\n",
       "      <td>Financial Services, FinTech</td>\n",
       "      <td>Angel</td>\n",
       "      <td>2000000</td>\n",
       "      <td>Noida, Uttar Pradesh, India</td>\n",
       "      <td>PayMe India is an innovative FinTech organizat...</td>\n",
       "    </tr>\n",
       "    <tr>\n",
       "      <th>4</th>\n",
       "      <td>Eunimart</td>\n",
       "      <td>E-Commerce Platforms, Retail, SaaS</td>\n",
       "      <td>Seed</td>\n",
       "      <td>—</td>\n",
       "      <td>Hyderabad, Andhra Pradesh, India</td>\n",
       "      <td>Eunimart is a one stop solution for merchants ...</td>\n",
       "    </tr>\n",
       "    <tr>\n",
       "      <th>5</th>\n",
       "      <td>Hasura</td>\n",
       "      <td>Cloud Infrastructure, PaaS, SaaS</td>\n",
       "      <td>Seed</td>\n",
       "      <td>1600000</td>\n",
       "      <td>Bengaluru, Karnataka, India</td>\n",
       "      <td>Hasura is a platform that allows developers to...</td>\n",
       "    </tr>\n",
       "    <tr>\n",
       "      <th>6</th>\n",
       "      <td>Tripshelf</td>\n",
       "      <td>Internet, Leisure, Marketplace</td>\n",
       "      <td>Seed</td>\n",
       "      <td>₹16,000,000</td>\n",
       "      <td>Kalkaji, Delhi, India</td>\n",
       "      <td>Tripshelf is an online market place for holida...</td>\n",
       "    </tr>\n",
       "    <tr>\n",
       "      <th>7</th>\n",
       "      <td>Hyperdata.IO</td>\n",
       "      <td>Market Research</td>\n",
       "      <td>Angel</td>\n",
       "      <td>₹50,000,000</td>\n",
       "      <td>Hyderabad, Andhra Pradesh, India</td>\n",
       "      <td>Hyperdata combines advanced machine learning w...</td>\n",
       "    </tr>\n",
       "    <tr>\n",
       "      <th>8</th>\n",
       "      <td>Freightwalla</td>\n",
       "      <td>Information Services, Information Technology</td>\n",
       "      <td>Seed</td>\n",
       "      <td>—</td>\n",
       "      <td>Mumbai, Maharashtra, India</td>\n",
       "      <td>Freightwalla is an international forwarder tha...</td>\n",
       "    </tr>\n",
       "    <tr>\n",
       "      <th>9</th>\n",
       "      <td>Microchip Payments</td>\n",
       "      <td>Mobile Payments</td>\n",
       "      <td>Seed</td>\n",
       "      <td>—</td>\n",
       "      <td>Bangalore, Karnataka, India</td>\n",
       "      <td>Microchip payments is a mobile-based payment a...</td>\n",
       "    </tr>\n",
       "  </tbody>\n",
       "</table>\n",
       "</div>"
      ],
      "text/plain": [
       "         Company Name                                           Industry  \\\n",
       "0     TheCollegeFever  Brand Marketing, Event Promotion, Marketing, S...   \n",
       "1     Happy Cow Dairy                               Agriculture, Farming   \n",
       "2          MyLoanCare   Credit, Financial Services, Lending, Marketplace   \n",
       "3         PayMe India                        Financial Services, FinTech   \n",
       "4            Eunimart                 E-Commerce Platforms, Retail, SaaS   \n",
       "5              Hasura                   Cloud Infrastructure, PaaS, SaaS   \n",
       "6           Tripshelf                     Internet, Leisure, Marketplace   \n",
       "7        Hyperdata.IO                                    Market Research   \n",
       "8        Freightwalla       Information Services, Information Technology   \n",
       "9  Microchip Payments                                    Mobile Payments   \n",
       "\n",
       "  Round/Series       Amount                          Location  \\\n",
       "0         Seed       250000       Bangalore, Karnataka, India   \n",
       "1         Seed  ₹40,000,000        Mumbai, Maharashtra, India   \n",
       "2     Series A  ₹65,000,000           Gurgaon, Haryana, India   \n",
       "3        Angel      2000000       Noida, Uttar Pradesh, India   \n",
       "4         Seed            —  Hyderabad, Andhra Pradesh, India   \n",
       "5         Seed      1600000       Bengaluru, Karnataka, India   \n",
       "6         Seed  ₹16,000,000             Kalkaji, Delhi, India   \n",
       "7        Angel  ₹50,000,000  Hyderabad, Andhra Pradesh, India   \n",
       "8         Seed            —        Mumbai, Maharashtra, India   \n",
       "9         Seed            —       Bangalore, Karnataka, India   \n",
       "\n",
       "                                       About Company  \n",
       "0  TheCollegeFever is a hub for fun, fiesta and f...  \n",
       "1  A startup which aggregates milk from dairy far...  \n",
       "2          Leading Online Loans Marketplace in India  \n",
       "3  PayMe India is an innovative FinTech organizat...  \n",
       "4  Eunimart is a one stop solution for merchants ...  \n",
       "5  Hasura is a platform that allows developers to...  \n",
       "6  Tripshelf is an online market place for holida...  \n",
       "7  Hyperdata combines advanced machine learning w...  \n",
       "8  Freightwalla is an international forwarder tha...  \n",
       "9  Microchip payments is a mobile-based payment a...  "
      ]
     },
     "execution_count": 11,
     "metadata": {},
     "output_type": "execute_result"
    }
   ],
   "source": [
    "#Overview of the first 5 rows \n",
    "data2018.head(10)"
   ]
  },
  {
   "cell_type": "code",
=======
>>>>>>> 43b96b4dfa7bddb17435e2b2cac05525a713e75a
   "execution_count": 12,
   "metadata": {},
   "outputs": [
    {
     "name": "stdout",
     "output_type": "stream",
     "text": [
      "<class 'pandas.core.frame.DataFrame'>\n",
      "RangeIndex: 526 entries, 0 to 525\n",
      "Data columns (total 6 columns):\n",
      " #   Column         Non-Null Count  Dtype \n",
      "---  ------         --------------  ----- \n",
      " 0   Company Name   526 non-null    object\n",
      " 1   Industry       526 non-null    object\n",
      " 2   Round/Series   526 non-null    object\n",
      " 3   Amount         526 non-null    object\n",
      " 4   Location       526 non-null    object\n",
      " 5   About Company  526 non-null    object\n",
      "dtypes: object(6)\n",
      "memory usage: 24.8+ KB\n"
     ]
    }
   ],
   "source": [
    "#Summary of the data\n",
    "data2018.info()"
   ]
  },
  {
<<<<<<< HEAD
   "cell_type": "markdown",
   "metadata": {},
=======
   "cell_type": "code",
   "execution_count": 13,
   "metadata": {},
   "outputs": [
    {
     "data": {
      "text/plain": [
       "TheCollegeFever                      2\n",
       "NIRAMAI Health Analytix              1\n",
       "Drivezy                              1\n",
       "Hush - Speak Up. Make Work Better    1\n",
       "The Souled Store                     1\n",
       "                                    ..\n",
       "Qandle                               1\n",
       "iChamp                               1\n",
       "Credy                                1\n",
       "Survaider                            1\n",
       "Netmeds                              1\n",
       "Name: Company Name, Length: 525, dtype: int64"
      ]
     },
     "execution_count": 13,
     "metadata": {},
     "output_type": "execute_result"
    }
   ],
>>>>>>> 43b96b4dfa7bddb17435e2b2cac05525a713e75a
   "source": [
    "From the displayed summary:\n",
    "* our data has no missing values\n",
    "* All the columns are in string data type "
   ]
  },
  {
   "cell_type": "code",
   "execution_count": 13,
   "metadata": {},
   "outputs": [],
   "source": [
    "#defining a function that returns counts of unique values\n",
    "def value(column):\n",
    "    return data2018[column].value_counts()                         "
   ]
  },
  {
   "cell_type": "code",
   "execution_count": 14,
   "metadata": {},
   "outputs": [
    {
     "data": {
      "text/plain": [
       "—                                                                      30\n",
       "Financial Services                                                     15\n",
       "Education                                                               8\n",
       "Information Technology                                                  7\n",
       "Finance, Financial Services                                             5\n",
       "                                                                       ..\n",
       "Battery, Electric Vehicle, Energy, Renewable Energy, Transportation     1\n",
       "Dental, Elder Care, Health Care, Home Health Care, Personal Health      1\n",
       "Advertising, Human Resources, Marketing                                 1\n",
       "Automotive, E-Commerce, Information Services                            1\n",
       "Mobile, Software, Travel                                                1\n",
       "Name: Industry, Length: 405, dtype: int64"
      ]
     },
     "execution_count": 14,
     "metadata": {},
     "output_type": "execute_result"
    }
   ],
   "source": [
    "value(\"Industry\")"
   ]
  },
  {
   "cell_type": "code",
   "execution_count": 15,
   "metadata": {},
   "outputs": [
    {
     "data": {
      "text/plain": [
       "Seed                                                                                                       280\n",
       "Series A                                                                                                    73\n",
       "Angel                                                                                                       37\n",
       "Venture - Series Unknown                                                                                    37\n",
       "Series B                                                                                                    20\n",
       "Series C                                                                                                    16\n",
       "Debt Financing                                                                                              13\n",
       "Private Equity                                                                                              10\n",
       "Corporate Round                                                                                              8\n",
       "Pre-Seed                                                                                                     6\n",
       "Series E                                                                                                     5\n",
       "Grant                                                                                                        4\n",
       "Secondary Market                                                                                             3\n",
       "Post-IPO Equity                                                                                              3\n",
       "Series D                                                                                                     3\n",
       "Undisclosed                                                                                                  2\n",
       "Post-IPO Debt                                                                                                2\n",
       "Series H                                                                                                     1\n",
       "https://docs.google.com/spreadsheets/d/1x9ziNeaz6auNChIHnMI8U6kS7knTr3byy_YBGfQaoUA/edit#gid=1861303593      1\n",
       "Funding Round                                                                                                1\n",
       "Non-equity Assistance                                                                                        1\n",
       "Name: Round/Series, dtype: int64"
      ]
     },
     "execution_count": 15,
     "metadata": {},
     "output_type": "execute_result"
    }
   ],
   "source": [
    "value(\"Round/Series\")"
   ]
  },
  {
   "cell_type": "code",
   "execution_count": 16,
   "metadata": {},
   "outputs": [
    {
     "data": {
      "text/plain": [
       "Bangalore, Karnataka, India         102\n",
       "Mumbai, Maharashtra, India           94\n",
       "Bengaluru, Karnataka, India          55\n",
       "Gurgaon, Haryana, India              52\n",
       "New Delhi, Delhi, India              51\n",
       "Pune, Maharashtra, India             20\n",
       "Chennai, Tamil Nadu, India           19\n",
       "Hyderabad, Andhra Pradesh, India     18\n",
       "Delhi, Delhi, India                  16\n",
       "Noida, Uttar Pradesh, India          15\n",
       "Haryana, Haryana, India              11\n",
       "Jaipur, Rajasthan, India              9\n",
       "Kolkata, West Bengal, India           6\n",
       "Ahmedabad, Gujarat, India             6\n",
       "Bangalore City, Karnataka, India      5\n",
       "India, Asia                           4\n",
       "Indore, Madhya Pradesh, India         4\n",
       "Kormangala, Karnataka, India          3\n",
       "Bhopal, Madhya Pradesh, India         2\n",
       "Ghaziabad, Uttar Pradesh, India       2\n",
       "Kochi, Kerala, India                  2\n",
       "Thane, Maharashtra, India             2\n",
       "Guindy, Tamil Nadu, India             1\n",
       "Anand, Gujarat, India                 1\n",
       "Chandigarh, Chandigarh, India         1\n",
       "Worli, Maharashtra, India             1\n",
       "Jodhpur, Rajasthan, India             1\n",
       "Kota, Rajasthan, India                1\n",
       "Ernakulam, Kerala, India              1\n",
       "Lucknow, Uttar Pradesh, India         1\n",
       "Alleppey, Kerala, India               1\n",
       "Margão, Goa, India                    1\n",
       "Kanpur, Uttar Pradesh, India          1\n",
       "Kalpakkam, Tamil Nadu, India          1\n",
       "Kannur, Kerala, India                 1\n",
       "Alwar, Rajasthan, India               1\n",
       "Faridabad, Haryana, India             1\n",
       "Andheri, Maharashtra, India           1\n",
       "Trivandrum, Kerala, India             1\n",
       "Belgaum, Karnataka, India             1\n",
       "Uttar Pradesh, India, Asia            1\n",
       "Mylapore, Tamil Nadu, India           1\n",
       "Powai, Assam, India                   1\n",
       "Mohali, Punjab, India                 1\n",
       "Hubli, Karnataka, India               1\n",
       "Guntur, Andhra Pradesh, India         1\n",
       "Coimbatore, Tamil Nadu, India         1\n",
       "Cochin, Kerala, India                 1\n",
       "Azadpur, Delhi, India                 1\n",
       "Kalkaji, Delhi, India                 1\n",
       "Name: Location, dtype: int64"
      ]
     },
     "execution_count": 16,
     "metadata": {},
     "output_type": "execute_result"
    }
   ],
   "source": [
    "value(\"Location\")"
   ]
  },
  {
   "cell_type": "code",
   "execution_count": 17,
   "metadata": {},
   "outputs": [
    {
     "data": {
      "text/plain": [
       "—               148\n",
       "1000000          24\n",
       "500000           13\n",
       "2000000          12\n",
       "₹50,000,000       9\n",
       "               ... \n",
       "22000000          1\n",
       "70000             1\n",
       "$28,500,000       1\n",
       "₹342,000,000      1\n",
       "35000000          1\n",
       "Name: Amount, Length: 198, dtype: int64"
      ]
     },
     "execution_count": 17,
     "metadata": {},
     "output_type": "execute_result"
    }
   ],
   "source": [
    "value(\"Amount\")"
   ]
  },
  {
   "cell_type": "markdown",
   "metadata": {},
   "source": [
    "#### Issues arising from the data:\n",
    "* The Amount column is in string data type yet it contains numerical values.\n",
    "* ```_``` characters in Amount and Industry columns which indicates the values are missing.\n",
    "* Some amounts have characters such as ```₹```, ```,``` ,```$```\n",
    "* Industry column contains many names for one industry."
   ]
  },
  {
   "attachments": {},
   "cell_type": "markdown",
   "metadata": {},
   "source": [
    " #### Dealing with duplicates"
   ]
  },
  {
   "cell_type": "code",
   "execution_count": 18,
   "metadata": {},
   "outputs": [
    {
     "data": {
      "text/plain": [
       "False    525\n",
       "True       1\n",
       "dtype: int64"
      ]
     },
     "execution_count": 18,
     "metadata": {},
     "output_type": "execute_result"
    }
   ],
   "source": [
    "#checking for duplicates\n",
    "data2018.duplicated().value_counts()"
   ]
  },
  {
   "attachments": {},
   "cell_type": "markdown",
   "metadata": {},
   "source": [
    "Our 2018 data contains one duplicate which is marked by 'True' value."
   ]
  },
  {
   "cell_type": "code",
<<<<<<< HEAD
   "execution_count": 19,
=======
   "execution_count": 14,
>>>>>>> 43b96b4dfa7bddb17435e2b2cac05525a713e75a
   "metadata": {},
   "outputs": [
    {
     "data": {
      "text/html": [
       "<div>\n",
       "<style scoped>\n",
       "    .dataframe tbody tr th:only-of-type {\n",
       "        vertical-align: middle;\n",
       "    }\n",
       "\n",
       "    .dataframe tbody tr th {\n",
       "        vertical-align: top;\n",
       "    }\n",
       "\n",
       "    .dataframe thead th {\n",
       "        text-align: right;\n",
       "    }\n",
       "</style>\n",
       "<table border=\"1\" class=\"dataframe\">\n",
       "  <thead>\n",
       "    <tr style=\"text-align: right;\">\n",
       "      <th></th>\n",
       "      <th>Company Name</th>\n",
       "      <th>Industry</th>\n",
       "      <th>Round/Series</th>\n",
       "      <th>Amount</th>\n",
       "      <th>Location</th>\n",
       "      <th>About Company</th>\n",
       "    </tr>\n",
       "  </thead>\n",
       "  <tbody>\n",
       "    <tr>\n",
       "      <th>0</th>\n",
       "      <td>TheCollegeFever</td>\n",
       "      <td>Brand Marketing, Event Promotion, Marketing, S...</td>\n",
       "      <td>Seed</td>\n",
       "      <td>250000</td>\n",
       "      <td>Bangalore, Karnataka, India</td>\n",
       "      <td>TheCollegeFever is a hub for fun, fiesta and f...</td>\n",
       "    </tr>\n",
       "    <tr>\n",
       "      <th>348</th>\n",
       "      <td>TheCollegeFever</td>\n",
       "      <td>Brand Marketing, Event Promotion, Marketing, S...</td>\n",
       "      <td>Seed</td>\n",
       "      <td>250000</td>\n",
       "      <td>Bangalore, Karnataka, India</td>\n",
       "      <td>TheCollegeFever is a hub for fun, fiesta and f...</td>\n",
       "    </tr>\n",
       "  </tbody>\n",
       "</table>\n",
       "</div>"
      ],
      "text/plain": [
       "        Company Name                                           Industry  \\\n",
       "0    TheCollegeFever  Brand Marketing, Event Promotion, Marketing, S...   \n",
       "348  TheCollegeFever  Brand Marketing, Event Promotion, Marketing, S...   \n",
       "\n",
       "    Round/Series  Amount                     Location  \\\n",
       "0           Seed  250000  Bangalore, Karnataka, India   \n",
       "348         Seed  250000  Bangalore, Karnataka, India   \n",
       "\n",
       "                                         About Company  \n",
       "0    TheCollegeFever is a hub for fun, fiesta and f...  \n",
       "348  TheCollegeFever is a hub for fun, fiesta and f...  "
      ]
     },
<<<<<<< HEAD
     "execution_count": 19,
=======
     "execution_count": 14,
>>>>>>> 43b96b4dfa7bddb17435e2b2cac05525a713e75a
     "metadata": {},
     "output_type": "execute_result"
    }
   ],
   "source": [
    "#print out all the duplicates next to each other\n",
    "data2018[data2018.duplicated(keep=False)]"
   ]
  },
  {
   "cell_type": "code",
<<<<<<< HEAD
   "execution_count": 20,
=======
   "execution_count": 15,
>>>>>>> 43b96b4dfa7bddb17435e2b2cac05525a713e75a
   "metadata": {},
   "outputs": [],
   "source": [
    "#dropping all duplicates\n",
    "data2018=data2018.drop_duplicates()"
   ]
  },
  {
   "cell_type": "code",
<<<<<<< HEAD
   "execution_count": 21,
=======
   "execution_count": 16,
>>>>>>> 43b96b4dfa7bddb17435e2b2cac05525a713e75a
   "metadata": {},
   "outputs": [
    {
     "data": {
      "text/plain": [
       "False    525\n",
       "dtype: int64"
      ]
     },
<<<<<<< HEAD
     "execution_count": 21,
=======
     "execution_count": 16,
>>>>>>> 43b96b4dfa7bddb17435e2b2cac05525a713e75a
     "metadata": {},
     "output_type": "execute_result"
    }
   ],
   "source": [
    "#RECHECK IF THERE ANY DUPLICATES LEFT\n",
    "data2018.duplicated().value_counts()"
   ]
  },
  {
   "attachments": {},
   "cell_type": "markdown",
   "metadata": {},
   "source": [
    "#### Data type conversion"
   ]
  },
  {
<<<<<<< HEAD
=======
   "cell_type": "code",
   "execution_count": 17,
   "metadata": {},
   "outputs": [
    {
     "name": "stdout",
     "output_type": "stream",
     "text": [
      "<class 'pandas.core.frame.DataFrame'>\n",
      "Int64Index: 525 entries, 0 to 525\n",
      "Data columns (total 6 columns):\n",
      " #   Column         Non-Null Count  Dtype \n",
      "---  ------         --------------  ----- \n",
      " 0   Company Name   525 non-null    object\n",
      " 1   Industry       525 non-null    object\n",
      " 2   Round/Series   525 non-null    object\n",
      " 3   Amount         525 non-null    object\n",
      " 4   Location       525 non-null    object\n",
      " 5   About Company  525 non-null    object\n",
      "dtypes: object(6)\n",
      "memory usage: 28.7+ KB\n"
     ]
    }
   ],
   "source": [
    "data2018.info()"
   ]
  },
  {
   "cell_type": "code",
   "execution_count": 178,
   "metadata": {},
   "outputs": [
    {
     "data": {
      "text/plain": [
       "—                  148\n",
       "1000000             24\n",
       "500000              13\n",
       "2000000             12\n",
       "₹50,000,000          9\n",
       "₹20,000,000          8\n",
       "4000000              7\n",
       "5000000              7\n",
       "₹40,000,000          6\n",
       "250000               5\n",
       "₹35,000,000          5\n",
       "$100,000             4\n",
       "300000               4\n",
       "1500000              4\n",
       "₹30,000,000          4\n",
       "3000000              4\n",
       "1100000              4\n",
       "₹250,000,000         3\n",
       "₹600,000,000         3\n",
       "₹2,000,000,000       3\n",
       "120000               3\n",
       "30000000             3\n",
       "$1,000,000           3\n",
       "200000               3\n",
       "₹70,000,000          3\n",
       "400000               3\n",
       "$1,500,000           3\n",
       "₹100,000,000         3\n",
       "₹10,000,000          3\n",
       "$100,000,000         3\n",
       "150000               3\n",
       "₹5,000,000           3\n",
       "1300000              3\n",
       "$11,000,000          3\n",
       "$2,000,000           3\n",
       "₹140,000,000         3\n",
       "$10,000,000          2\n",
       "$900,000             2\n",
       "₹650,000,000         2\n",
       "$50,000,000          2\n",
       "$5,000,000           2\n",
       "15000000             2\n",
       "$6,000,000           2\n",
       "₹1,200,000           2\n",
       "$3,000,000           2\n",
       "1400000              2\n",
       "₹72,000,000          2\n",
       "₹150,000,000         2\n",
       "₹135,000,000         2\n",
       "50000                2\n",
       "₹120,000,000         2\n",
       "4200000              2\n",
       "4500000              2\n",
       "600000               2\n",
       "₹12,000,000          2\n",
       "3500000              2\n",
       "₹2,500,000,000       2\n",
       "₹60,000,000          2\n",
       "50000000             2\n",
       "₹25,000,000          2\n",
       "₹1,000,000,000       2\n",
       "100000               2\n",
       "₹100,000             2\n",
       "₹15,000,000          2\n",
       "₹45,000,000          2\n",
       "650000               2\n",
       "₹12,500,000          2\n",
       "6000000              2\n",
       "₹550,000,000         2\n",
       "₹16,000,000          2\n",
       "₹400,000,000         2\n",
       "1600000              2\n",
       "₹240,000,000         2\n",
       "₹64,000,000          2\n",
       "$250,000             1\n",
       "$37,680,000          1\n",
       "$20,000              1\n",
       "₹730,000,000         1\n",
       "₹510,000,000         1\n",
       "₹810,000,000         1\n",
       "22000000             1\n",
       "70000                1\n",
       "₹1,130,000,000       1\n",
       "₹2,200,000,000       1\n",
       "₹580,000,000         1\n",
       "$210,000,000         1\n",
       "₹340,000,000         1\n",
       "₹36,000,000          1\n",
       "₹1,400,000,000       1\n",
       "14900000             1\n",
       "$3,300,000           1\n",
       "$200,000             1\n",
       "$3,530,000           1\n",
       "₹1,410,000,000       1\n",
       "$41,900,000          1\n",
       "225000000            1\n",
       "7500                 1\n",
       "10000000             1\n",
       "₹20,000,000,000      1\n",
       "100000000            1\n",
       "550000               1\n",
       "80000000             1\n",
       "2500000              1\n",
       "750000               1\n",
       "₹800,000,000         1\n",
       "₹280,000,000         1\n",
       "3700000              1\n",
       "2700000              1\n",
       "5600000              1\n",
       "₹260,000,000         1\n",
       "99230000             1\n",
       "70000000             1\n",
       "1760000              1\n",
       "₹80,000,000          1\n",
       "40000                1\n",
       "75000000             1\n",
       "₹264,000,000         1\n",
       "₹2,029,600,000       1\n",
       "210000000            1\n",
       "₹210,000,000         1\n",
       "365000000            1\n",
       "₹8,750,000           1\n",
       "700000               1\n",
       "₹165,000,000         1\n",
       "65000000             1\n",
       "185000000            1\n",
       "₹4,000,000,000       1\n",
       "₹78,000,000          1\n",
       "28000000             1\n",
       "25000000             1\n",
       "₹15,392,000,000      1\n",
       "₹1,540,000,000       1\n",
       "₹7,000,000           1\n",
       "$1,100,000           1\n",
       "₹102,500,000         1\n",
       "₹1,600,000,000       1\n",
       "$540,000,000         1\n",
       "$3,240,000           1\n",
       "₹44,000,000          1\n",
       "$150,000             1\n",
       "$23,000,000          1\n",
       "$30,000,000          1\n",
       "$2,400,000           1\n",
       "$28,500,000          1\n",
       "$35,000,000          1\n",
       "$7,000,000           1\n",
       "$1,000,000,000       1\n",
       "$10,000              1\n",
       "$3,980,000           1\n",
       "$742,000,000         1\n",
       "$143,145             1\n",
       "₹342,000,000         1\n",
       "₹34,000,000          1\n",
       "20000                1\n",
       "9000000              1\n",
       "₹60,000              1\n",
       "₹8,000,000           1\n",
       "₹26,400,000          1\n",
       "13400000             1\n",
       "₹104,000,000         1\n",
       "1700000              1\n",
       "2800000              1\n",
       "₹500,000             1\n",
       "₹65,000,000          1\n",
       "$14,000,000          1\n",
       "₹5,200,000,000       1\n",
       "$40,000,000          1\n",
       "$800,000             1\n",
       "12000000             1\n",
       "₹32,000,000          1\n",
       "17200000             1\n",
       "₹34,900,000          1\n",
       "130000               1\n",
       "125000               1\n",
       "₹33,000,000          1\n",
       "₹16,600,000          1\n",
       "₹200,000             1\n",
       "1450000              1\n",
       "175000               1\n",
       "₹103,000,000         1\n",
       "₹19,200,000          1\n",
       "180000               1\n",
       "1250000              1\n",
       "₹140,200,000         1\n",
       "13200000             1\n",
       "₹22,500,000          1\n",
       "₹1,400,000           1\n",
       "364846               1\n",
       "4300000              1\n",
       "6830000              1\n",
       "₹9,500,000           1\n",
       "3600000              1\n",
       "1800000              1\n",
       "2200000              1\n",
       "1200000              1\n",
       "$15,000              1\n",
       "$1,041,000           1\n",
       "35000000             1\n",
       "Name: Amount, dtype: int64"
      ]
     },
     "execution_count": 178,
     "metadata": {},
     "output_type": "execute_result"
    }
   ],
   "source": [
    "value(\"Amount\")"
   ]
  },
  {
>>>>>>> 43b96b4dfa7bddb17435e2b2cac05525a713e75a
   "attachments": {},
   "cell_type": "markdown",
   "metadata": {},
   "source": [
    "The ```Amount``` column is categorised as a string data type yet amount should be in integer. This is brought about by several problems in this column:\n",
    "* The ```,``` ,```$``` ,```₹``` characters which should be removed.\n",
    "* Also there are ```_``` characters which indicate null values.\n",
    "* Some currencies are Indian rupees while others US Dollars , so for standard currency the Indian rupee will be converted to US Dollar.\n",
    "* Finally, the ```Amount``` column will be converted to numeric data type."
   ]
  },
  {
   "cell_type": "code",
<<<<<<< HEAD
   "execution_count": 22,
=======
   "execution_count": 18,
>>>>>>> 43b96b4dfa7bddb17435e2b2cac05525a713e75a
   "metadata": {},
   "outputs": [
    {
     "data": {
      "text/plain": [
<<<<<<< HEAD
       "516    ₹1400000000\n",
       "517      ₹10000000\n",
       "518              —\n",
       "519        6000000\n",
       "520       14900000\n",
       "521      225000000\n",
       "522              —\n",
       "523           7500\n",
       "524      ₹35000000\n",
       "525       35000000\n",
       "Name: Amount, dtype: object"
      ]
     },
     "execution_count": 22,
=======
       "0         250000\n",
       "1      ₹40000000\n",
       "2      ₹65000000\n",
       "3        2000000\n",
       "4              —\n",
       "         ...    \n",
       "521    225000000\n",
       "522            —\n",
       "523         7500\n",
       "524    ₹35000000\n",
       "525     35000000\n",
       "Name: Amount, Length: 525, dtype: object"
      ]
     },
     "execution_count": 18,
>>>>>>> 43b96b4dfa7bddb17435e2b2cac05525a713e75a
     "metadata": {},
     "output_type": "execute_result"
    }
   ],
   "source": [
    "#Removing ',' from the Amount column\n",
    "data2018['Amount'].replace(',','', regex=True, inplace=True)\n",
    "data2018['Amount'].tail(10)"
   ]
  },
  {
   "cell_type": "code",
<<<<<<< HEAD
   "execution_count": 23,
=======
   "execution_count": 19,
>>>>>>> 43b96b4dfa7bddb17435e2b2cac05525a713e75a
   "metadata": {},
   "outputs": [],
   "source": [
    "#Function to convert Indian rupee currency to dollars\n",
    "def convert_to_dollars(value):\n",
    "\n",
    "    if '₹' in str(value):\n",
    "        # Remove the currency symbol\n",
    "        amount = value.replace('₹', '')\n",
    "\n",
    "       # Convert to dollars using the exchange rate for 2018\n",
    "        return pd.to_numeric(amount, errors='coerce') * 0.146\n",
    "\n",
    "    elif '$' in str(value):\n",
    "\n",
    "        return value.replace('$', '')\n",
    "\n",
    "    elif \"—\" in str(value):\n",
    "\n",
    "        return None  #  a suitable value to represent missing/invalid data\n",
    "\n",
    "    else:\n",
    "\n",
    "        return value\n",
    "\n",
    "#Displays the Amount column to 1 decimal place\n",
    "pd.set_option('display.float_format', '{:.1f}'.format)\n",
    "\n",
    "data2018 = data2018.applymap(convert_to_dollars)\n",
    "\n",
    "\n",
    "    \n",
    "        "
   ]
  },
  {
   "cell_type": "code",
<<<<<<< HEAD
   "execution_count": 24,
=======
   "execution_count": 20,
>>>>>>> 43b96b4dfa7bddb17435e2b2cac05525a713e75a
   "metadata": {},
   "outputs": [
    {
     "data": {
      "text/plain": [
       "dtype('float64')"
      ]
     },
<<<<<<< HEAD
     "execution_count": 24,
=======
     "execution_count": 20,
>>>>>>> 43b96b4dfa7bddb17435e2b2cac05525a713e75a
     "metadata": {},
     "output_type": "execute_result"
    }
   ],
   "source": [
    "#Converting the column to a numeric data type\n",
    "data2018[\"Amount\"]=data2018[\"Amount\"].astype(float)\n",
    "data2018[\"Amount\"].dtype"
   ]
  },
  {
   "cell_type": "code",
<<<<<<< HEAD
   "execution_count": 25,
=======
   "execution_count": 21,
>>>>>>> 43b96b4dfa7bddb17435e2b2cac05525a713e75a
   "metadata": {},
   "outputs": [
    {
     "data": {
      "text/plain": [
<<<<<<< HEAD
       "0      250000.0\n",
       "1     5840000.0\n",
       "2     9490000.0\n",
       "3     2000000.0\n",
       "4           nan\n",
       "5     1600000.0\n",
       "6     2336000.0\n",
       "7     7300000.0\n",
       "8           nan\n",
       "9           nan\n",
       "10          nan\n",
       "11          nan\n",
       "12          nan\n",
       "13          nan\n",
       "14          nan\n",
       "15   14600000.0\n",
       "16     150000.0\n",
       "17    1100000.0\n",
       "18          nan\n",
       "19      73000.0\n",
       "Name: Amount, dtype: float64"
      ]
     },
     "execution_count": 25,
=======
       "0        250000.0\n",
       "1       5840000.0\n",
       "2       9490000.0\n",
       "3       2000000.0\n",
       "4             NaN\n",
       "          ...    \n",
       "521   225000000.0\n",
       "522           NaN\n",
       "523        7500.0\n",
       "524     5110000.0\n",
       "525    35000000.0\n",
       "Name: Amount, Length: 525, dtype: float64"
      ]
     },
     "execution_count": 21,
>>>>>>> 43b96b4dfa7bddb17435e2b2cac05525a713e75a
     "metadata": {},
     "output_type": "execute_result"
    }
   ],
   "source": [
    "data2018[\"Amount\"].head(20)"
   ]
  },
  {
   "attachments": {},
   "cell_type": "markdown",
   "metadata": {},
   "source": [
    "#### Data Uniformity\n",
    "For data uniformity across the 4 datasets which will later make merging easier, ```Location``` and ```Industry``` columns will only remain with the first word."
   ]
  },
  {
   "cell_type": "code",
<<<<<<< HEAD
   "execution_count": 26,
=======
   "execution_count": 22,
>>>>>>> 43b96b4dfa7bddb17435e2b2cac05525a713e75a
   "metadata": {},
   "outputs": [
    {
     "data": {
      "text/plain": [
<<<<<<< HEAD
       "506    Bangalore\n",
       "507       Mumbai\n",
       "508    New Delhi\n",
       "509       Mumbai\n",
       "510    Bengaluru\n",
       "511       Mumbai\n",
       "512       Jaipur\n",
       "513       Mumbai\n",
       "514    New Delhi\n",
       "515         Pune\n",
       "516    New Delhi\n",
       "517    Bengaluru\n",
       "518    Ghaziabad\n",
       "519    Bangalore\n",
       "520    Bengaluru\n",
=======
       "0      Bangalore\n",
       "1         Mumbai\n",
       "2        Gurgaon\n",
       "3          Noida\n",
       "4      Hyderabad\n",
       "         ...    \n",
>>>>>>> 43b96b4dfa7bddb17435e2b2cac05525a713e75a
       "521    Bangalore\n",
       "522      Haryana\n",
       "523       Mumbai\n",
       "524       Mumbai\n",
       "525      Chennai\n",
<<<<<<< HEAD
       "Name: Location, dtype: object"
      ]
     },
     "execution_count": 26,
=======
       "Name: Location, Length: 525, dtype: object"
      ]
     },
     "execution_count": 22,
>>>>>>> 43b96b4dfa7bddb17435e2b2cac05525a713e75a
     "metadata": {},
     "output_type": "execute_result"
    }
   ],
   "source": [
    "#maintianing first word before comma in the location column\n",
    "data2018[\"Location\"] = data2018[\"Location\"].map(lambda x: x.split(',')[0])\n",
    "data2018[\"Location\"].tail(20)"
   ]
  },
  {
   "cell_type": "code",
<<<<<<< HEAD
   "execution_count": 27,
=======
   "execution_count": 23,
>>>>>>> 43b96b4dfa7bddb17435e2b2cac05525a713e75a
   "metadata": {},
   "outputs": [
    {
     "data": {
      "text/plain": [
       "0             Brand Marketing\n",
       "1                 Agriculture\n",
       "2                      Credit\n",
       "3          Financial Services\n",
       "4        E-Commerce Platforms\n",
<<<<<<< HEAD
       "5        Cloud Infrastructure\n",
       "6                    Internet\n",
       "7             Market Research\n",
       "8        Information Services\n",
       "9             Mobile Payments\n",
       "10                        B2B\n",
       "11                   Internet\n",
       "12                       Apps\n",
       "13              Food Delivery\n",
       "14      Industrial Automation\n",
       "15                 Automotive\n",
       "16                    Finance\n",
       "17                 Accounting\n",
       "18    Artificial Intelligence\n",
       "19         Internet of Things\n",
       "Name: Industry, dtype: object"
      ]
     },
     "execution_count": 27,
=======
       "                ...          \n",
       "521                       B2B\n",
       "522                   Tourism\n",
       "523         Food and Beverage\n",
       "524    Information Technology\n",
       "525             Biotechnology\n",
       "Name: Industry, Length: 525, dtype: object"
      ]
     },
     "execution_count": 23,
>>>>>>> 43b96b4dfa7bddb17435e2b2cac05525a713e75a
     "metadata": {},
     "output_type": "execute_result"
    }
   ],
   "source": [
    "#maintianing first word before comma in the industry column\n",
    "data2018[\"Industry\"] = data2018[\"Industry\"].map(lambda x: str(x).split(',')[0])\n",
    "data2018[\"Industry\"].head(20)"
   ]
  },
  {
   "attachments": {},
   "cell_type": "markdown",
   "metadata": {},
   "source": [
    "Earlier, it was noticed that the ```Industry``` column had '-' characters which indicate the values are missing. So the missing values are going to be replaced with ```Unknown ``` value given the column is a categorical data type."
   ]
  },
  {
   "cell_type": "code",
<<<<<<< HEAD
   "execution_count": 28,
=======
   "execution_count": 24,
>>>>>>> 43b96b4dfa7bddb17435e2b2cac05525a713e75a
   "metadata": {},
   "outputs": [
    {
     "data": {
      "text/plain": [
       "0             Brand Marketing\n",
       "1                 Agriculture\n",
       "2                      Credit\n",
       "3          Financial Services\n",
       "4        E-Commerce Platforms\n",
<<<<<<< HEAD
       "5        Cloud Infrastructure\n",
       "6                    Internet\n",
       "7             Market Research\n",
       "8        Information Services\n",
       "9             Mobile Payments\n",
       "10                        B2B\n",
       "11                   Internet\n",
       "12                       Apps\n",
       "13              Food Delivery\n",
       "14      Industrial Automation\n",
       "15                 Automotive\n",
       "16                    Finance\n",
       "17                 Accounting\n",
       "18    Artificial Intelligence\n",
       "19         Internet of Things\n",
       "Name: Industry, dtype: object"
      ]
     },
     "execution_count": 28,
=======
       "                ...          \n",
       "521                       B2B\n",
       "522                   Tourism\n",
       "523         Food and Beverage\n",
       "524    Information Technology\n",
       "525             Biotechnology\n",
       "Name: Industry, Length: 525, dtype: object"
      ]
     },
     "execution_count": 24,
>>>>>>> 43b96b4dfa7bddb17435e2b2cac05525a713e75a
     "metadata": {},
     "output_type": "execute_result"
    }
   ],
   "source": [
    "#Replacing '_' with Unknown values\n",
    "data2018[\"Industry\"]=data2018[\"Industry\"].replace('—', \"Unknown\", regex=True)\n",
    "data2018[\"Industry\"].head(20)"
   ]
  },
  {
   "attachments": {},
   "cell_type": "markdown",
   "metadata": {},
   "source": [
    "####  Handling Missing values"
   ]
  },
  {
   "cell_type": "code",
<<<<<<< HEAD
   "execution_count": 29,
=======
   "execution_count": 25,
>>>>>>> 43b96b4dfa7bddb17435e2b2cac05525a713e75a
   "metadata": {},
   "outputs": [
    {
     "data": {
      "text/plain": [
       "Company Name       0\n",
       "Industry           0\n",
       "Round/Series       0\n",
       "Amount           148\n",
       "Location           0\n",
       "About Company      0\n",
       "dtype: int64"
      ]
     },
<<<<<<< HEAD
     "execution_count": 29,
=======
     "execution_count": 25,
>>>>>>> 43b96b4dfa7bddb17435e2b2cac05525a713e75a
     "metadata": {},
     "output_type": "execute_result"
    }
   ],
   "source": [
    "#Checking for missing values \n",
    "data2018.isnull().sum()"
   ]
  },
  {
   "cell_type": "code",
<<<<<<< HEAD
   "execution_count": 30,
=======
   "execution_count": 26,
>>>>>>> 43b96b4dfa7bddb17435e2b2cac05525a713e75a
   "metadata": {},
   "outputs": [
    {
     "data": {
      "text/html": [
       "<div>\n",
       "<style scoped>\n",
       "    .dataframe tbody tr th:only-of-type {\n",
       "        vertical-align: middle;\n",
       "    }\n",
       "\n",
       "    .dataframe tbody tr th {\n",
       "        vertical-align: top;\n",
       "    }\n",
       "\n",
       "    .dataframe thead th {\n",
       "        text-align: right;\n",
       "    }\n",
       "</style>\n",
       "<table border=\"1\" class=\"dataframe\">\n",
       "  <thead>\n",
       "    <tr style=\"text-align: right;\">\n",
       "      <th></th>\n",
       "      <th>Amount</th>\n",
       "    </tr>\n",
       "  </thead>\n",
       "  <tbody>\n",
       "    <tr>\n",
       "      <th>count</th>\n",
       "      <td>377.0</td>\n",
       "    </tr>\n",
       "    <tr>\n",
       "      <th>mean</th>\n",
       "      <td>47244478.4</td>\n",
       "    </tr>\n",
       "    <tr>\n",
       "      <th>std</th>\n",
       "      <td>212692748.2</td>\n",
       "    </tr>\n",
       "    <tr>\n",
       "      <th>min</th>\n",
       "      <td>7500.0</td>\n",
       "    </tr>\n",
       "    <tr>\n",
       "      <th>25%</th>\n",
       "      <td>1000000.0</td>\n",
       "    </tr>\n",
       "    <tr>\n",
       "      <th>50%</th>\n",
       "      <td>3530000.0</td>\n",
       "    </tr>\n",
       "    <tr>\n",
       "      <th>75%</th>\n",
       "      <td>14965000.0</td>\n",
       "    </tr>\n",
       "    <tr>\n",
       "      <th>max</th>\n",
       "      <td>2920000000.0</td>\n",
       "    </tr>\n",
       "  </tbody>\n",
       "</table>\n",
       "</div>"
      ],
      "text/plain": [
       "            Amount\n",
       "count        377.0\n",
       "mean    47244478.4\n",
       "std    212692748.2\n",
       "min         7500.0\n",
       "25%      1000000.0\n",
       "50%      3530000.0\n",
       "75%     14965000.0\n",
       "max   2920000000.0"
      ]
     },
<<<<<<< HEAD
     "execution_count": 30,
=======
     "execution_count": 26,
>>>>>>> 43b96b4dfa7bddb17435e2b2cac05525a713e75a
     "metadata": {},
     "output_type": "execute_result"
    }
   ],
   "source": [
    "#Computing summary of statistics for 2018 data\n",
    "data2018.describe()"
   ]
  },
  {
   "attachments": {},
   "cell_type": "markdown",
   "metadata": {},
   "source": [
    "The ```Amount``` column contains several missing values. Given the column is numerical, the best strategy would be to replace the missing values with the median  as it is less sensitive to outliers than the mean."
   ]
  },
  {
   "cell_type": "code",
<<<<<<< HEAD
   "execution_count": 31,
=======
   "execution_count": 27,
>>>>>>> 43b96b4dfa7bddb17435e2b2cac05525a713e75a
   "metadata": {},
   "outputs": [],
   "source": [
    "#Imputing missing values\n",
    "array= data2018[\"Amount\"].values.reshape(-1,1)\n",
    "imputer=SimpleImputer(strategy=\"median\")\n",
    "\n",
    "data2018[\"Amount\"]=imputer.fit_transform(array)"
   ]
  },
  {
   "cell_type": "code",
<<<<<<< HEAD
   "execution_count": 32,
=======
   "execution_count": 28,
>>>>>>> 43b96b4dfa7bddb17435e2b2cac05525a713e75a
   "metadata": {},
   "outputs": [
    {
     "data": {
      "text/plain": [
       "Company Name     0\n",
       "Industry         0\n",
       "Round/Series     0\n",
       "Amount           0\n",
       "Location         0\n",
       "About Company    0\n",
       "dtype: int64"
      ]
     },
<<<<<<< HEAD
     "execution_count": 32,
=======
     "execution_count": 28,
>>>>>>> 43b96b4dfa7bddb17435e2b2cac05525a713e75a
     "metadata": {},
     "output_type": "execute_result"
    }
   ],
   "source": [
    "#Confirming there are no more missing values\n",
    "data2018.isnull().sum()"
   ]
  },
  {
   "attachments": {},
   "cell_type": "markdown",
   "metadata": {},
   "source": [
    "<h4>Inorder to make merging and analysis after merging easier, a column named ```Year Funded ``` which contains the respective years for the dataset will be formed</h4>"
   ]
  },
  {
   "cell_type": "code",
<<<<<<< HEAD
   "execution_count": 35,
=======
   "execution_count": 29,
>>>>>>> 43b96b4dfa7bddb17435e2b2cac05525a713e75a
   "metadata": {},
   "outputs": [
    {
     "data": {
      "text/html": [
       "<div>\n",
       "<style scoped>\n",
       "    .dataframe tbody tr th:only-of-type {\n",
       "        vertical-align: middle;\n",
       "    }\n",
       "\n",
       "    .dataframe tbody tr th {\n",
       "        vertical-align: top;\n",
       "    }\n",
       "\n",
       "    .dataframe thead th {\n",
       "        text-align: right;\n",
       "    }\n",
       "</style>\n",
       "<table border=\"1\" class=\"dataframe\">\n",
       "  <thead>\n",
       "    <tr style=\"text-align: right;\">\n",
       "      <th></th>\n",
       "      <th>Company Name</th>\n",
       "      <th>Industry</th>\n",
       "      <th>Round/Series</th>\n",
       "      <th>Amount</th>\n",
       "      <th>Location</th>\n",
       "      <th>About Company</th>\n",
       "      <th>Year Funded</th>\n",
       "    </tr>\n",
       "  </thead>\n",
       "  <tbody>\n",
       "    <tr>\n",
       "      <th>0</th>\n",
       "      <td>TheCollegeFever</td>\n",
       "      <td>Brand Marketing</td>\n",
       "      <td>Seed</td>\n",
       "      <td>250000.0</td>\n",
       "      <td>Bangalore</td>\n",
       "      <td>TheCollegeFever is a hub for fun, fiesta and f...</td>\n",
       "      <td>2018</td>\n",
       "    </tr>\n",
       "    <tr>\n",
       "      <th>1</th>\n",
       "      <td>Happy Cow Dairy</td>\n",
       "      <td>Agriculture</td>\n",
       "      <td>Seed</td>\n",
       "      <td>5840000.0</td>\n",
       "      <td>Mumbai</td>\n",
       "      <td>A startup which aggregates milk from dairy far...</td>\n",
       "      <td>2018</td>\n",
       "    </tr>\n",
       "    <tr>\n",
       "      <th>2</th>\n",
       "      <td>MyLoanCare</td>\n",
       "      <td>Credit</td>\n",
       "      <td>Series A</td>\n",
       "      <td>9490000.0</td>\n",
       "      <td>Gurgaon</td>\n",
       "      <td>Leading Online Loans Marketplace in India</td>\n",
       "      <td>2018</td>\n",
       "    </tr>\n",
       "    <tr>\n",
       "      <th>3</th>\n",
       "      <td>PayMe India</td>\n",
       "      <td>Financial Services</td>\n",
       "      <td>Angel</td>\n",
       "      <td>2000000.0</td>\n",
       "      <td>Noida</td>\n",
       "      <td>PayMe India is an innovative FinTech organizat...</td>\n",
       "      <td>2018</td>\n",
       "    </tr>\n",
       "    <tr>\n",
       "      <th>4</th>\n",
       "      <td>Eunimart</td>\n",
       "      <td>E-Commerce Platforms</td>\n",
       "      <td>Seed</td>\n",
       "      <td>3530000.0</td>\n",
       "      <td>Hyderabad</td>\n",
       "      <td>Eunimart is a one stop solution for merchants ...</td>\n",
       "      <td>2018</td>\n",
       "    </tr>\n",
       "  </tbody>\n",
       "</table>\n",
       "</div>"
      ],
      "text/plain": [
       "      Company Name              Industry Round/Series    Amount   Location  \\\n",
       "0  TheCollegeFever       Brand Marketing         Seed  250000.0  Bangalore   \n",
       "1  Happy Cow Dairy           Agriculture         Seed 5840000.0     Mumbai   \n",
       "2       MyLoanCare                Credit     Series A 9490000.0    Gurgaon   \n",
       "3      PayMe India    Financial Services        Angel 2000000.0      Noida   \n",
       "4         Eunimart  E-Commerce Platforms         Seed 3530000.0  Hyderabad   \n",
       "\n",
       "                                       About Company  Year Funded  \n",
       "0  TheCollegeFever is a hub for fun, fiesta and f...         2018  \n",
       "1  A startup which aggregates milk from dairy far...         2018  \n",
       "2          Leading Online Loans Marketplace in India         2018  \n",
       "3  PayMe India is an innovative FinTech organizat...         2018  \n",
       "4  Eunimart is a one stop solution for merchants ...         2018  "
      ]
     },
<<<<<<< HEAD
     "execution_count": 35,
=======
     "execution_count": 29,
>>>>>>> 43b96b4dfa7bddb17435e2b2cac05525a713e75a
     "metadata": {},
     "output_type": "execute_result"
    }
   ],
   "source": [
    "data2018['Year Funded'] = 2018\n",
    "data2018.head()"
   ]
  },
  {
   "cell_type": "markdown",
   "metadata": {},
   "source": [
    "### 3.3.2 2019 Data"
   ]
  },
  {
   "cell_type": "markdown",
   "metadata": {},
   "source": [
<<<<<<< HEAD
=======
    "#### Data Loading"
   ]
  },
  {
   "cell_type": "markdown",
   "metadata": {},
   "source": [
    "For loading data files into appropriate variables."
   ]
  },
  {
   "cell_type": "markdown",
   "metadata": {},
   "source": [
>>>>>>> 43b96b4dfa7bddb17435e2b2cac05525a713e75a
    "#### Data Exploration"
   ]
  },
  {
   "cell_type": "markdown",
   "metadata": {},
   "source": [
    "\n",
    "The exploration techniques vary for numerical, categorical, or time-series variables. Currently, \n",
    "\n",
    "Here we typically:\n",
    "\n",
    "- look at example records in the dataset\n",
    "- investigate the datatypes of variables in the dataset\n",
    "- calculate and investigate descriptive statistics (ex: central tendencies, variability etc.)\n",
    "\n",
    "Common steps to check the health of the data:\n",
    "\n",
    "- Check for missing data\n",
    "- Check the skewness of the data, outlier detection\n",
    "- etc..."
   ]
  },
  {
   "cell_type": "markdown",
   "metadata": {},
   "source": [
    "Look at Example Records"
   ]
  },
  {
   "cell_type": "code",
   "execution_count": 36,
   "metadata": {},
   "outputs": [
    {
     "data": {
      "text/html": [
       "<div>\n",
       "<style scoped>\n",
       "    .dataframe tbody tr th:only-of-type {\n",
       "        vertical-align: middle;\n",
       "    }\n",
       "\n",
       "    .dataframe tbody tr th {\n",
       "        vertical-align: top;\n",
       "    }\n",
       "\n",
       "    .dataframe thead th {\n",
       "        text-align: right;\n",
       "    }\n",
       "</style>\n",
       "<table border=\"1\" class=\"dataframe\">\n",
       "  <thead>\n",
       "    <tr style=\"text-align: right;\">\n",
       "      <th></th>\n",
       "      <th>Company/Brand</th>\n",
       "      <th>Founded</th>\n",
       "      <th>HeadQuarter</th>\n",
       "      <th>Sector</th>\n",
       "      <th>What it does</th>\n",
       "      <th>Founders</th>\n",
       "      <th>Investor</th>\n",
       "      <th>Amount($)</th>\n",
       "      <th>Stage</th>\n",
       "    </tr>\n",
       "  </thead>\n",
       "  <tbody>\n",
       "    <tr>\n",
       "      <th>58</th>\n",
       "      <td>Origo</td>\n",
       "      <td>2010.0</td>\n",
       "      <td>Gurugram</td>\n",
       "      <td>AgriTech</td>\n",
       "      <td>It provides post-harvest management services f...</td>\n",
       "      <td>Mayank Dhanuka, Sunoor Kaul</td>\n",
       "      <td>Oikocredit, Caspian SME Impact Fund IV,  Triod...</td>\n",
       "      <td>$6,800,000</td>\n",
       "      <td>NaN</td>\n",
       "    </tr>\n",
       "    <tr>\n",
       "      <th>87</th>\n",
       "      <td>Spinny</td>\n",
       "      <td>2015.0</td>\n",
       "      <td>Delhi</td>\n",
       "      <td>Automobile</td>\n",
       "      <td>Online car retailer</td>\n",
       "      <td>Niraj Singh, Ramanshu Mahaur, Ganesh Pawar, Mo...</td>\n",
       "      <td>Norwest Venture Partners, General Catalyst, Fu...</td>\n",
       "      <td>$50,000,000</td>\n",
       "      <td>NaN</td>\n",
       "    </tr>\n",
       "    <tr>\n",
       "      <th>29</th>\n",
       "      <td>Bijak</td>\n",
       "      <td>2019.0</td>\n",
       "      <td>NaN</td>\n",
       "      <td>AgriTech</td>\n",
       "      <td>B2B platform for agricultural commodities.</td>\n",
       "      <td>Nukul Upadhye, Mahesh Jakhotia, Jitender Bedwa...</td>\n",
       "      <td>Omnivore and Omidyar Network India, Sequoia Ca...</td>\n",
       "      <td>$2,500,000</td>\n",
       "      <td>Seed fund</td>\n",
       "    </tr>\n",
       "    <tr>\n",
       "      <th>70</th>\n",
       "      <td>Zebu</td>\n",
       "      <td>2015.0</td>\n",
       "      <td>NaN</td>\n",
       "      <td>Cybersecurity</td>\n",
       "      <td>Platform uses encryption technology to allow b...</td>\n",
       "      <td>Team of Waterloo-based software developers</td>\n",
       "      <td>Undisclosed</td>\n",
       "      <td>$4,000,000</td>\n",
       "      <td>Seed round</td>\n",
       "    </tr>\n",
       "    <tr>\n",
       "      <th>85</th>\n",
       "      <td>Oyo</td>\n",
       "      <td>2013.0</td>\n",
       "      <td>Gurugram</td>\n",
       "      <td>Hospitality</td>\n",
       "      <td>Provides rooms for comfortable stay</td>\n",
       "      <td>Ritesh Agarwal</td>\n",
       "      <td>MyPreferred Transformation, Avendus Finance, S...</td>\n",
       "      <td>$693,000,000</td>\n",
       "      <td>NaN</td>\n",
       "    </tr>\n",
       "    <tr>\n",
       "      <th>26</th>\n",
       "      <td>Toffee Insurance</td>\n",
       "      <td>2017.0</td>\n",
       "      <td>Haryana</td>\n",
       "      <td>Insurance technology</td>\n",
       "      <td>Provides variety of insurance plans and policies</td>\n",
       "      <td>Nishant Jain, Rohan Kumar</td>\n",
       "      <td>IVM Intersurer</td>\n",
       "      <td>$5,500,000</td>\n",
       "      <td>Series A</td>\n",
       "    </tr>\n",
       "    <tr>\n",
       "      <th>82</th>\n",
       "      <td>Kratikal</td>\n",
       "      <td>nan</td>\n",
       "      <td>Uttar pradesh</td>\n",
       "      <td>Technology</td>\n",
       "      <td>Provides cyber security solutions</td>\n",
       "      <td>Pavan Kushwaha</td>\n",
       "      <td>Gilda VC, Art Venture, Rajeev Chitrabhanu</td>\n",
       "      <td>$1,000,000</td>\n",
       "      <td>Pre-series A</td>\n",
       "    </tr>\n",
       "    <tr>\n",
       "      <th>5</th>\n",
       "      <td>FlytBase</td>\n",
       "      <td>nan</td>\n",
       "      <td>Pune</td>\n",
       "      <td>Technology</td>\n",
       "      <td>A drone automation platform</td>\n",
       "      <td>Nitin Gupta</td>\n",
       "      <td>Undisclosed</td>\n",
       "      <td>Undisclosed</td>\n",
       "      <td>NaN</td>\n",
       "    </tr>\n",
       "    <tr>\n",
       "      <th>34</th>\n",
       "      <td>Rivigo</td>\n",
       "      <td>2014.0</td>\n",
       "      <td>NaN</td>\n",
       "      <td>Logistics</td>\n",
       "      <td>It offers delivery services across India to re...</td>\n",
       "      <td>Deepak Garg, Gazal Kalra</td>\n",
       "      <td>SAIF Partners India VI Ltd, Spring Canter Inve...</td>\n",
       "      <td>$20,000,000</td>\n",
       "      <td>Series F</td>\n",
       "    </tr>\n",
       "    <tr>\n",
       "      <th>40</th>\n",
       "      <td>Trell</td>\n",
       "      <td>2016.0</td>\n",
       "      <td>Bangalore</td>\n",
       "      <td>Social Media</td>\n",
       "      <td>Blogging platform that enables people to creat...</td>\n",
       "      <td>Pulkit Agrawal, Prashant Sachan, Arun Lodhi, B...</td>\n",
       "      <td>Ruizheng Investment, Tej Kapoor, Krinshavatara...</td>\n",
       "      <td>$2,000,000</td>\n",
       "      <td>Pre series A</td>\n",
       "    </tr>\n",
       "  </tbody>\n",
       "</table>\n",
       "</div>"
      ],
      "text/plain": [
       "       Company/Brand  Founded    HeadQuarter                Sector  \\\n",
       "58             Origo   2010.0       Gurugram              AgriTech   \n",
       "87            Spinny   2015.0          Delhi            Automobile   \n",
       "29             Bijak   2019.0            NaN              AgriTech   \n",
       "70              Zebu   2015.0            NaN         Cybersecurity   \n",
       "85               Oyo   2013.0       Gurugram           Hospitality   \n",
       "26  Toffee Insurance   2017.0        Haryana  Insurance technology   \n",
       "82          Kratikal      nan  Uttar pradesh            Technology   \n",
       "5           FlytBase      nan           Pune            Technology   \n",
       "34            Rivigo   2014.0            NaN             Logistics   \n",
       "40             Trell   2016.0      Bangalore          Social Media   \n",
       "\n",
       "                                         What it does  \\\n",
       "58  It provides post-harvest management services f...   \n",
       "87                                Online car retailer   \n",
       "29         B2B platform for agricultural commodities.   \n",
       "70  Platform uses encryption technology to allow b...   \n",
       "85                Provides rooms for comfortable stay   \n",
       "26   Provides variety of insurance plans and policies   \n",
       "82                  Provides cyber security solutions   \n",
       "5                         A drone automation platform   \n",
       "34  It offers delivery services across India to re...   \n",
       "40  Blogging platform that enables people to creat...   \n",
       "\n",
       "                                             Founders  \\\n",
       "58                        Mayank Dhanuka, Sunoor Kaul   \n",
       "87  Niraj Singh, Ramanshu Mahaur, Ganesh Pawar, Mo...   \n",
       "29  Nukul Upadhye, Mahesh Jakhotia, Jitender Bedwa...   \n",
       "70         Team of Waterloo-based software developers   \n",
       "85                                     Ritesh Agarwal   \n",
       "26                          Nishant Jain, Rohan Kumar   \n",
       "82                                     Pavan Kushwaha   \n",
       "5                                         Nitin Gupta   \n",
       "34                           Deepak Garg, Gazal Kalra   \n",
       "40  Pulkit Agrawal, Prashant Sachan, Arun Lodhi, B...   \n",
       "\n",
       "                                             Investor     Amount($)  \\\n",
       "58  Oikocredit, Caspian SME Impact Fund IV,  Triod...    $6,800,000   \n",
       "87  Norwest Venture Partners, General Catalyst, Fu...   $50,000,000   \n",
       "29  Omnivore and Omidyar Network India, Sequoia Ca...    $2,500,000   \n",
       "70                                        Undisclosed    $4,000,000   \n",
       "85  MyPreferred Transformation, Avendus Finance, S...  $693,000,000   \n",
       "26                                     IVM Intersurer    $5,500,000   \n",
       "82          Gilda VC, Art Venture, Rajeev Chitrabhanu    $1,000,000   \n",
       "5                                         Undisclosed   Undisclosed   \n",
       "34  SAIF Partners India VI Ltd, Spring Canter Inve...   $20,000,000   \n",
       "40  Ruizheng Investment, Tej Kapoor, Krinshavatara...    $2,000,000   \n",
       "\n",
       "           Stage  \n",
       "58           NaN  \n",
       "87           NaN  \n",
       "29     Seed fund  \n",
       "70    Seed round  \n",
       "85           NaN  \n",
       "26      Series A  \n",
       "82  Pre-series A  \n",
       "5            NaN  \n",
       "34      Series F  \n",
       "40  Pre series A  "
      ]
     },
     "execution_count": 36,
     "metadata": {},
     "output_type": "execute_result"
    }
   ],
   "source": [
    " # display 10 random rows from the dataset \n",
    "data_2019.sample(10)"
   ]
  },
  {
   "cell_type": "markdown",
   "metadata": {},
   "source": [
    "#### Data-types, completeness Information\n",
    "\n",
    "Using the Pandas \"info\" function, in addition to the data-type information for the dataset, we can look at counts of available records/missing records too."
   ]
  },
  {
   "cell_type": "code",
<<<<<<< HEAD
   "execution_count": 37,
=======
   "execution_count": 34,
>>>>>>> 43b96b4dfa7bddb17435e2b2cac05525a713e75a
   "metadata": {},
   "outputs": [
    {
     "name": "stdout",
     "output_type": "stream",
     "text": [
      "<class 'pandas.core.frame.DataFrame'>\n",
      "RangeIndex: 89 entries, 0 to 88\n",
      "Data columns (total 9 columns):\n",
      " #   Column         Non-Null Count  Dtype  \n",
      "---  ------         --------------  -----  \n",
      " 0   Company/Brand  89 non-null     object \n",
      " 1   Founded        60 non-null     float64\n",
      " 2   HeadQuarter    70 non-null     object \n",
      " 3   Sector         84 non-null     object \n",
      " 4   What it does   89 non-null     object \n",
      " 5   Founders       86 non-null     object \n",
      " 6   Investor       89 non-null     object \n",
      " 7   Amount($)      89 non-null     object \n",
      " 8   Stage          43 non-null     object \n",
      "dtypes: float64(1), object(8)\n",
      "memory usage: 6.4+ KB\n"
     ]
    }
   ],
   "source": [
    "data_2019=data2019\n",
    "data_2019.info()"
   ]
  },
  {
   "cell_type": "markdown",
   "metadata": {},
   "source": [
    "From the summary above:\n",
    "* All data types are string except the Founded column\n",
    "* There are missing values in Founded, Headquarter, Sector, Founders, Stage columns\n"
   ]
  },
  {
   "cell_type": "code",
<<<<<<< HEAD
   "execution_count": 38,
=======
   "execution_count": 35,
   "metadata": {},
   "outputs": [
    {
     "name": "stdout",
     "output_type": "stream",
     "text": [
      "               Missing Values  Percentage Missing\n",
      "Company/Brand               0                 0.0\n",
      "Founded                    29                32.6\n",
      "HeadQuarter                19                21.3\n",
      "Sector                      5                 5.6\n",
      "What it does                0                 0.0\n",
      "Founders                    3                 3.4\n",
      "Investor                    0                 0.0\n",
      "Amount($)                   0                 0.0\n",
      "Stage                      46                51.7\n"
     ]
    }
   ],
   "source": [
    "# Calculate the count of missing values for each column\n",
    "missing_values = data_2019.isnull().sum()\n",
    "\n",
    "# Calculate the total number of rows in the dataset\n",
    "total_rows = len(data_2019)\n",
    "\n",
    "# Calculate the percentage of missing values for each column\n",
    "percentage_missing = (missing_values / total_rows) * 100\n",
    "\n",
    "# Create a DataFrame to display the missing values count and percentage for each column\n",
    "missing_data_summary = pd.DataFrame({\n",
    "    'Missing Values': missing_values,\n",
    "    'Percentage Missing': percentage_missing\n",
    "})\n",
    "\n",
    "# Print the missing data summary\n",
    "print(missing_data_summary)"
   ]
  },
  {
   "cell_type": "markdown",
   "metadata": {},
   "source": [
    "#### Descriptive Statistics"
   ]
  },
  {
   "cell_type": "code",
   "execution_count": 36,
   "metadata": {},
   "outputs": [
    {
     "data": {
      "text/html": [
       "<div>\n",
       "<style scoped>\n",
       "    .dataframe tbody tr th:only-of-type {\n",
       "        vertical-align: middle;\n",
       "    }\n",
       "\n",
       "    .dataframe tbody tr th {\n",
       "        vertical-align: top;\n",
       "    }\n",
       "\n",
       "    .dataframe thead th {\n",
       "        text-align: right;\n",
       "    }\n",
       "</style>\n",
       "<table border=\"1\" class=\"dataframe\">\n",
       "  <thead>\n",
       "    <tr style=\"text-align: right;\">\n",
       "      <th></th>\n",
       "      <th>Company/Brand</th>\n",
       "      <th>Founded</th>\n",
       "      <th>HeadQuarter</th>\n",
       "      <th>Sector</th>\n",
       "      <th>What it does</th>\n",
       "      <th>Founders</th>\n",
       "      <th>Investor</th>\n",
       "      <th>Amount($)</th>\n",
       "      <th>Stage</th>\n",
       "    </tr>\n",
       "  </thead>\n",
       "  <tbody>\n",
       "    <tr>\n",
       "      <th>count</th>\n",
       "      <td>89</td>\n",
       "      <td>60.0</td>\n",
       "      <td>70</td>\n",
       "      <td>84</td>\n",
       "      <td>89</td>\n",
       "      <td>86</td>\n",
       "      <td>89</td>\n",
       "      <td>89</td>\n",
       "      <td>43</td>\n",
       "    </tr>\n",
       "    <tr>\n",
       "      <th>unique</th>\n",
       "      <td>87</td>\n",
       "      <td>NaN</td>\n",
       "      <td>17</td>\n",
       "      <td>52</td>\n",
       "      <td>88</td>\n",
       "      <td>85</td>\n",
       "      <td>86</td>\n",
       "      <td>50</td>\n",
       "      <td>15</td>\n",
       "    </tr>\n",
       "    <tr>\n",
       "      <th>top</th>\n",
       "      <td>Kratikal</td>\n",
       "      <td>NaN</td>\n",
       "      <td>Bangalore</td>\n",
       "      <td>Edtech</td>\n",
       "      <td>Online meat shop</td>\n",
       "      <td>Vivek Gupta, Abhay Hanjura</td>\n",
       "      <td>Undisclosed</td>\n",
       "      <td>Undisclosed</td>\n",
       "      <td>Series A</td>\n",
       "    </tr>\n",
       "    <tr>\n",
       "      <th>freq</th>\n",
       "      <td>2</td>\n",
       "      <td>NaN</td>\n",
       "      <td>21</td>\n",
       "      <td>7</td>\n",
       "      <td>2</td>\n",
       "      <td>2</td>\n",
       "      <td>3</td>\n",
       "      <td>12</td>\n",
       "      <td>10</td>\n",
       "    </tr>\n",
       "    <tr>\n",
       "      <th>mean</th>\n",
       "      <td>NaN</td>\n",
       "      <td>2014.5</td>\n",
       "      <td>NaN</td>\n",
       "      <td>NaN</td>\n",
       "      <td>NaN</td>\n",
       "      <td>NaN</td>\n",
       "      <td>NaN</td>\n",
       "      <td>NaN</td>\n",
       "      <td>NaN</td>\n",
       "    </tr>\n",
       "    <tr>\n",
       "      <th>std</th>\n",
       "      <td>NaN</td>\n",
       "      <td>2.9</td>\n",
       "      <td>NaN</td>\n",
       "      <td>NaN</td>\n",
       "      <td>NaN</td>\n",
       "      <td>NaN</td>\n",
       "      <td>NaN</td>\n",
       "      <td>NaN</td>\n",
       "      <td>NaN</td>\n",
       "    </tr>\n",
       "    <tr>\n",
       "      <th>min</th>\n",
       "      <td>NaN</td>\n",
       "      <td>2004.0</td>\n",
       "      <td>NaN</td>\n",
       "      <td>NaN</td>\n",
       "      <td>NaN</td>\n",
       "      <td>NaN</td>\n",
       "      <td>NaN</td>\n",
       "      <td>NaN</td>\n",
       "      <td>NaN</td>\n",
       "    </tr>\n",
       "    <tr>\n",
       "      <th>25%</th>\n",
       "      <td>NaN</td>\n",
       "      <td>2013.0</td>\n",
       "      <td>NaN</td>\n",
       "      <td>NaN</td>\n",
       "      <td>NaN</td>\n",
       "      <td>NaN</td>\n",
       "      <td>NaN</td>\n",
       "      <td>NaN</td>\n",
       "      <td>NaN</td>\n",
       "    </tr>\n",
       "    <tr>\n",
       "      <th>50%</th>\n",
       "      <td>NaN</td>\n",
       "      <td>2015.0</td>\n",
       "      <td>NaN</td>\n",
       "      <td>NaN</td>\n",
       "      <td>NaN</td>\n",
       "      <td>NaN</td>\n",
       "      <td>NaN</td>\n",
       "      <td>NaN</td>\n",
       "      <td>NaN</td>\n",
       "    </tr>\n",
       "    <tr>\n",
       "      <th>75%</th>\n",
       "      <td>NaN</td>\n",
       "      <td>2016.2</td>\n",
       "      <td>NaN</td>\n",
       "      <td>NaN</td>\n",
       "      <td>NaN</td>\n",
       "      <td>NaN</td>\n",
       "      <td>NaN</td>\n",
       "      <td>NaN</td>\n",
       "      <td>NaN</td>\n",
       "    </tr>\n",
       "    <tr>\n",
       "      <th>max</th>\n",
       "      <td>NaN</td>\n",
       "      <td>2019.0</td>\n",
       "      <td>NaN</td>\n",
       "      <td>NaN</td>\n",
       "      <td>NaN</td>\n",
       "      <td>NaN</td>\n",
       "      <td>NaN</td>\n",
       "      <td>NaN</td>\n",
       "      <td>NaN</td>\n",
       "    </tr>\n",
       "  </tbody>\n",
       "</table>\n",
       "</div>"
      ],
      "text/plain": [
       "       Company/Brand  Founded HeadQuarter  Sector      What it does  \\\n",
       "count             89     60.0          70      84                89   \n",
       "unique            87      NaN          17      52                88   \n",
       "top         Kratikal      NaN   Bangalore  Edtech  Online meat shop   \n",
       "freq               2      NaN          21       7                 2   \n",
       "mean             NaN   2014.5         NaN     NaN               NaN   \n",
       "std              NaN      2.9         NaN     NaN               NaN   \n",
       "min              NaN   2004.0         NaN     NaN               NaN   \n",
       "25%              NaN   2013.0         NaN     NaN               NaN   \n",
       "50%              NaN   2015.0         NaN     NaN               NaN   \n",
       "75%              NaN   2016.2         NaN     NaN               NaN   \n",
       "max              NaN   2019.0         NaN     NaN               NaN   \n",
       "\n",
       "                          Founders     Investor    Amount($)     Stage  \n",
       "count                           86           89           89        43  \n",
       "unique                          85           86           50        15  \n",
       "top     Vivek Gupta, Abhay Hanjura  Undisclosed  Undisclosed  Series A  \n",
       "freq                             2            3           12        10  \n",
       "mean                           NaN          NaN          NaN       NaN  \n",
       "std                            NaN          NaN          NaN       NaN  \n",
       "min                            NaN          NaN          NaN       NaN  \n",
       "25%                            NaN          NaN          NaN       NaN  \n",
       "50%                            NaN          NaN          NaN       NaN  \n",
       "75%                            NaN          NaN          NaN       NaN  \n",
       "max                            NaN          NaN          NaN       NaN  "
      ]
     },
     "execution_count": 36,
     "metadata": {},
     "output_type": "execute_result"
    }
   ],
   "source": [
    "# Descriptive statistics for all columns\n",
    "data_2019.describe(include='all')"
   ]
  },
  {
   "cell_type": "markdown",
   "metadata": {},
   "source": [
    "Variables in the dataset"
   ]
  },
  {
   "cell_type": "code",
   "execution_count": 37,
>>>>>>> 43b96b4dfa7bddb17435e2b2cac05525a713e75a
   "metadata": {},
   "outputs": [
    {
     "data": {
      "text/plain": [
       "Index(['Company/Brand', 'Founded', 'HeadQuarter', 'Sector', 'What it does',\n",
       "       'Founders', 'Investor', 'Amount($)', 'Stage'],\n",
       "      dtype='object')"
      ]
     },
<<<<<<< HEAD
     "execution_count": 38,
=======
     "execution_count": 37,
>>>>>>> 43b96b4dfa7bddb17435e2b2cac05525a713e75a
     "metadata": {},
     "output_type": "execute_result"
    }
   ],
   "source": [
    "# check the columns \n",
    "data_2019.columns"
   ]
  },
  {
   "cell_type": "markdown",
   "metadata": {},
   "source": [
<<<<<<< HEAD
=======
    "#### Outlier Detection"
   ]
  },
  {
   "cell_type": "markdown",
   "metadata": {},
   "source": [
    "The presence of outliers can often skew results which take into consideration these data points. \n",
    "\n",
    "One approach to detect outliers is to use Tukey's Method for identfying them: An outlier step is calculated as 1.5 times the interquartile range (IQR). A data point with a feature that is beyond an outlier step outside of the IQR for that feature is considered abnormal.\n",
    "\n",
    "One such pipeline for detecting outliers is below:"
   ]
  },
  {
   "cell_type": "code",
   "execution_count": 38,
   "metadata": {},
   "outputs": [],
   "source": [
    "def find_outliers(data, features_to_investigate):\n",
    "    outliers = []\n",
    "    \n",
    "    for feature in features_to_investigate:\n",
    "        Q1 = np.percentile(data[feature], 25)\n",
    "        Q3 = np.percentile(data[feature], 75)\n",
    "        step = (Q3 - Q1) * 1.5\n",
    "        out = data[~((data[feature] >= Q1 - step) & (data[feature] <= Q3 + step))]\n",
    "        outliers.extend(out.index.values)\n",
    "        \n",
    "    outliers = list(set([x for x in outliers if outliers.count(x) > 1]))\n",
    "    \n",
    "    return outliers"
   ]
  },
  {
   "cell_type": "markdown",
   "metadata": {},
   "source": [
>>>>>>> 43b96b4dfa7bddb17435e2b2cac05525a713e75a
    "#### Data Cleaning \n",
    "\n",
    "Renaming columns"
   ]
  },
  {
   "cell_type": "code",
   "execution_count": 39,
   "metadata": {},
   "outputs": [],
   "source": [
    "# define the new column names\n",
    "new_columns = ['Company Name', 'Year Founded', 'Headquarter', 'Sector', 'Business Description', 'Founders', 'Investor', 'Funding Amount ($)', 'Funding Round']\n",
    "\n",
    "# Rename the columns in the dataframe\n",
    "data_2019 = data_2019.rename(columns=dict(zip(data_2019.columns, new_columns)))"
   ]
  },
  {
   "cell_type": "code",
   "execution_count": 40,
   "metadata": {},
   "outputs": [
    {
     "data": {
      "text/html": [
       "<div>\n",
       "<style scoped>\n",
       "    .dataframe tbody tr th:only-of-type {\n",
       "        vertical-align: middle;\n",
       "    }\n",
       "\n",
       "    .dataframe tbody tr th {\n",
       "        vertical-align: top;\n",
       "    }\n",
       "\n",
       "    .dataframe thead th {\n",
       "        text-align: right;\n",
       "    }\n",
       "</style>\n",
       "<table border=\"1\" class=\"dataframe\">\n",
       "  <thead>\n",
       "    <tr style=\"text-align: right;\">\n",
       "      <th></th>\n",
       "      <th>Company Name</th>\n",
       "      <th>Year Founded</th>\n",
       "      <th>Headquarter</th>\n",
       "      <th>Sector</th>\n",
       "      <th>Business Description</th>\n",
       "      <th>Founders</th>\n",
       "      <th>Investor</th>\n",
       "      <th>Funding Amount ($)</th>\n",
       "      <th>Funding Round</th>\n",
       "    </tr>\n",
       "  </thead>\n",
       "  <tbody>\n",
       "    <tr>\n",
       "      <th>0</th>\n",
       "      <td>Bombay Shaving</td>\n",
       "      <td>nan</td>\n",
       "      <td>NaN</td>\n",
       "      <td>Ecommerce</td>\n",
       "      <td>Provides a range of male grooming products</td>\n",
       "      <td>Shantanu Deshpande</td>\n",
       "      <td>Sixth Sense Ventures</td>\n",
       "      <td>$6,300,000</td>\n",
       "      <td>NaN</td>\n",
       "    </tr>\n",
       "    <tr>\n",
       "      <th>1</th>\n",
       "      <td>Ruangguru</td>\n",
       "      <td>2014.0</td>\n",
       "      <td>Mumbai</td>\n",
       "      <td>Edtech</td>\n",
       "      <td>A learning platform that provides topic-based ...</td>\n",
       "      <td>Adamas Belva Syah Devara, Iman Usman.</td>\n",
       "      <td>General Atlantic</td>\n",
       "      <td>$150,000,000</td>\n",
       "      <td>Series C</td>\n",
       "    </tr>\n",
       "    <tr>\n",
       "      <th>2</th>\n",
       "      <td>Eduisfun</td>\n",
       "      <td>nan</td>\n",
       "      <td>Mumbai</td>\n",
       "      <td>Edtech</td>\n",
       "      <td>It aims to make learning fun via games.</td>\n",
       "      <td>Jatin Solanki</td>\n",
       "      <td>Deepak Parekh, Amitabh Bachchan, Piyush Pandey</td>\n",
       "      <td>$28,000,000</td>\n",
       "      <td>Fresh funding</td>\n",
       "    </tr>\n",
       "    <tr>\n",
       "      <th>3</th>\n",
       "      <td>HomeLane</td>\n",
       "      <td>2014.0</td>\n",
       "      <td>Chennai</td>\n",
       "      <td>Interior design</td>\n",
       "      <td>Provides interior designing solutions</td>\n",
       "      <td>Srikanth Iyer, Rama Harinath</td>\n",
       "      <td>Evolvence India Fund (EIF), Pidilite Group, FJ...</td>\n",
       "      <td>$30,000,000</td>\n",
       "      <td>Series D</td>\n",
       "    </tr>\n",
       "    <tr>\n",
       "      <th>4</th>\n",
       "      <td>Nu Genes</td>\n",
       "      <td>2004.0</td>\n",
       "      <td>Telangana</td>\n",
       "      <td>AgriTech</td>\n",
       "      <td>It is a seed company engaged in production, pr...</td>\n",
       "      <td>Narayana Reddy Punyala</td>\n",
       "      <td>Innovation in Food and Agriculture (IFA)</td>\n",
       "      <td>$6,000,000</td>\n",
       "      <td>NaN</td>\n",
       "    </tr>\n",
       "  </tbody>\n",
       "</table>\n",
       "</div>"
      ],
      "text/plain": [
       "     Company Name  Year Founded Headquarter           Sector  \\\n",
       "0  Bombay Shaving           nan         NaN        Ecommerce   \n",
       "1       Ruangguru        2014.0      Mumbai           Edtech   \n",
       "2        Eduisfun           nan      Mumbai           Edtech   \n",
       "3        HomeLane        2014.0     Chennai  Interior design   \n",
       "4        Nu Genes        2004.0   Telangana         AgriTech   \n",
       "\n",
       "                                Business Description  \\\n",
       "0         Provides a range of male grooming products   \n",
       "1  A learning platform that provides topic-based ...   \n",
       "2            It aims to make learning fun via games.   \n",
       "3              Provides interior designing solutions   \n",
       "4  It is a seed company engaged in production, pr...   \n",
       "\n",
       "                                Founders  \\\n",
       "0                     Shantanu Deshpande   \n",
       "1  Adamas Belva Syah Devara, Iman Usman.   \n",
       "2                          Jatin Solanki   \n",
       "3           Srikanth Iyer, Rama Harinath   \n",
       "4                 Narayana Reddy Punyala   \n",
       "\n",
       "                                            Investor Funding Amount ($)  \\\n",
       "0                               Sixth Sense Ventures         $6,300,000   \n",
       "1                                   General Atlantic       $150,000,000   \n",
       "2     Deepak Parekh, Amitabh Bachchan, Piyush Pandey        $28,000,000   \n",
       "3  Evolvence India Fund (EIF), Pidilite Group, FJ...        $30,000,000   \n",
       "4           Innovation in Food and Agriculture (IFA)         $6,000,000   \n",
       "\n",
       "   Funding Round  \n",
       "0            NaN  \n",
       "1       Series C  \n",
       "2  Fresh funding  \n",
       "3       Series D  \n",
       "4            NaN  "
      ]
     },
     "execution_count": 40,
     "metadata": {},
     "output_type": "execute_result"
    }
   ],
   "source": [
    "data_2019.head()"
   ]
  },
  {
   "cell_type": "markdown",
   "metadata": {},
   "source": [
    "To reduce code repetition, a few fuctions were created to :\n",
    "* Calculate descriptive statistics of a variable\n",
    "* Plot the data distribution of a variable using a histogram\n",
    "* Check for missing values in a variable\n"
   ]
  },
  {
   "cell_type": "code",
<<<<<<< HEAD
   "execution_count": 41,
=======
   "execution_count": 40,
   "metadata": {},
   "outputs": [
    {
     "name": "stdout",
     "output_type": "stream",
     "text": [
      "\n",
      "The total missing values:  102\n",
      "\n",
      "Company Name             0\n",
      "Year Founded            29\n",
      "Headquarter             19\n",
      "Sector                   5\n",
      "Business Description     0\n",
      "Founders                 3\n",
      "Investor                 0\n",
      "Funding Amount ($)       0\n",
      "Funding Round           46\n",
      "dtype: int64\n"
     ]
    }
   ],
   "source": [
    "# total missing values\n",
    "print(\"\\nThe total missing values: \", data_2019.isnull().sum().sum())\n",
    "print(\"\")\n",
    "\n",
    "# missing values per column\n",
    "print(data_2019.isnull().sum())"
   ]
  },
  {
   "cell_type": "markdown",
   "metadata": {},
   "source": [
    "#### Visualizing missing values"
   ]
  },
  {
   "cell_type": "code",
   "execution_count": 41,
   "metadata": {},
   "outputs": [],
   "source": [
    "def plot_missing_values_heatmap(dataframe):\n",
    "    # Creating a DataFrame indicating missing values\n",
    "    missing_values = dataframe.isnull()\n",
    "    # Plotting the missing values heatmap\n",
    "    sns.heatmap(missing_values, cmap='viridis')\n",
    "    # Setting plot properties\n",
    "    plt.title('Missing Values Heatmap')\n",
    "    plt.xlabel('Columns')\n",
    "    plt.ylabel('Rows')\n",
    "    # Display the plot\n",
    "    plt.show()"
   ]
  },
  {
   "cell_type": "code",
   "execution_count": 202,
   "metadata": {},
   "outputs": [
    {
     "data": {
      "image/png": "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",
      "text/plain": [
       "<Figure size 640x480 with 2 Axes>"
      ]
     },
     "metadata": {},
     "output_type": "display_data"
    }
   ],
   "source": [
    "plot_missing_values_heatmap(data_2019)"
   ]
  },
  {
   "cell_type": "markdown",
   "metadata": {},
   "source": [
    "#### Exploration Data Analysis"
   ]
  },
  {
   "cell_type": "code",
   "execution_count": 43,
>>>>>>> 43b96b4dfa7bddb17435e2b2cac05525a713e75a
   "metadata": {},
   "outputs": [],
   "source": [
    "# Function to calculate descriptive statistics of a variable\n",
    "def calculate_descriptive_stats(variable):\n",
    "    return variable.describe()\n",
    "\n",
    "# Function to plot the data distribution of a variable using a histogram\n",
    "def plot_data_distribution(variable):\n",
    "    plt.hist(variable)\n",
    "    plt.xlabel('Values')\n",
    "    plt.ylabel('Frequency')\n",
    "    plt.title('Histogram')\n",
    "    plt.show()\n",
    "\n",
    "# Function to check for missing values in a variable\n",
    "def check_missing_values(variable):\n",
    "    return variable.isnull().sum()\n",
    "\n",
    "# detect outliers\n",
    "def detect_outliers(data, column):\n",
    "    Q1 = data[column].quantile(0.25)\n",
    "    Q3 = data[column].quantile(0.75)\n",
    "    IQR = Q3 - Q1\n",
    "    lower_bound = Q1 - 1.5 * IQR\n",
    "    upper_bound = Q3 + 1.5 * IQR\n",
    "    outliers = data[(data[column] < lower_bound) | (data[column] > upper_bound)]\n",
    "    return outliers\n",
    "  \n",
    "\n"
   ]
  },
  {
   "cell_type": "markdown",
   "metadata": {},
   "source": [
    "#### Investigating missing Values"
   ]
  },
  {
   "cell_type": "code",
   "execution_count": 42,
   "metadata": {},
   "outputs": [
    {
     "data": {
      "text/plain": [
       "Company Name             0\n",
       "Year Founded            29\n",
       "Headquarter             19\n",
       "Sector                   5\n",
       "Business Description     0\n",
       "Founders                 3\n",
       "Investor                 0\n",
       "Funding Amount ($)       0\n",
       "Funding Round           46\n",
       "dtype: int64"
      ]
     },
     "execution_count": 42,
     "metadata": {},
     "output_type": "execute_result"
    }
   ],
   "source": [
    "check_missing_values(data_2019)"
   ]
  },
  {
   "cell_type": "markdown",
   "metadata": {},
   "source": [
    "#### Visualizing missing values"
   ]
  },
  {
   "cell_type": "code",
   "execution_count": 43,
   "metadata": {},
   "outputs": [],
   "source": [
    "def plot_missing_values_heatmap(dataframe):\n",
    "    # Creating a DataFrame indicating missing values\n",
    "    missing_values = dataframe.isnull()\n",
    "    # Plotting the missing values heatmap\n",
    "    sns.heatmap(missing_values, cmap='viridis')\n",
    "    # Setting plot properties\n",
    "    plt.title('Missing Values Heatmap')\n",
    "    plt.xlabel('Columns')\n",
    "    plt.ylabel('Rows')\n",
    "    # Display the plot\n",
    "    plt.show()"
   ]
  },
  {
   "cell_type": "code",
   "execution_count": 44,
   "metadata": {},
   "outputs": [
    {
     "data": {
      "image/png": "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",
      "text/plain": [
       "<Figure size 432x288 with 2 Axes>"
      ]
     },
     "metadata": {
      "needs_background": "light"
     },
     "output_type": "display_data"
    }
   ],
   "source": [
    "plot_missing_values_heatmap(data_2019)"
   ]
  },
  {
   "cell_type": "markdown",
   "metadata": {},
   "source": [
    "#### Dealing with Duplicates"
   ]
  },
  {
   "cell_type": "code",
   "execution_count": 45,
   "metadata": {},
   "outputs": [
    {
     "data": {
      "text/plain": [
       "False    89\n",
       "dtype: int64"
      ]
     },
     "execution_count": 45,
     "metadata": {},
     "output_type": "execute_result"
    }
   ],
   "source": [
    "#checking for duplicates\n",
    "data_2019.duplicated().value_counts()"
   ]
  },
  {
   "cell_type": "markdown",
   "metadata": {},
   "source": [
    "The data 2019 has no duplicates."
   ]
  },
  {
   "cell_type": "markdown",
   "metadata": {},
   "source": [
    "#### **Company Name Exploration**"
   ]
  },
  {
   "cell_type": "markdown",
   "metadata": {},
   "source": [
    "The **company name** variable is a categorical variable. It represents the names of different companies in the dataset.\n",
    "\n",
    "\n",
    "Data Cleaning Steps:\n",
    "- Data Exploration and Descriptive Statistics\n",
    "- Number of Company Names\n",
    "- Remove leading, trailing spaces and Standardize case\n",
    "- Handle missing values"
   ]
  },
  {
   "cell_type": "markdown",
   "metadata": {},
   "source": [
    "Data Exploration and Descriptive Statistics"
   ]
  },
  {
   "cell_type": "code",
<<<<<<< HEAD
   "execution_count": 46,
=======
   "execution_count": 44,
>>>>>>> 43b96b4dfa7bddb17435e2b2cac05525a713e75a
   "metadata": {},
   "outputs": [
    {
     "name": "stdout",
     "output_type": "stream",
     "text": [
      "Count of Unique Company Names: 87\n",
      "\n",
      "Most Common Company Name(s):\n",
      "Licious     2\n",
      "Kratikal    2\n",
      "Name: Company Name, dtype: int64\n"
     ]
    }
   ],
   "source": [
    "# Calculate the count of unique company names\n",
    "unique_company_count = data_2019['Company Name'].nunique()\n",
    "print(\"Count of Unique Company Names: {}\".format(unique_company_count))\n",
    "\n",
    "# Examine the most common company names\n",
    "company_name_counts = data_2019['Company Name'].value_counts()\n",
    "most_common_names = company_name_counts[company_name_counts == company_name_counts.max()]\n",
    "print(\"\\nMost Common Company Name(s):\")\n",
    "print(most_common_names)"
   ]
  },
  {
   "cell_type": "markdown",
   "metadata": {},
   "source": [
<<<<<<< HEAD
=======
    "Number of Company Names"
   ]
  },
  {
   "cell_type": "code",
   "execution_count": 45,
   "metadata": {},
   "outputs": [
    {
     "name": "stdout",
     "output_type": "stream",
     "text": [
      "Count of Unique Company Names: 87\n"
     ]
    }
   ],
   "source": [
    "# Calculate the count of unique company names\n",
    "unique_company_count = data_2019['Company Name'].nunique()\n",
    "print(\"Count of Unique Company Names: {}\".format(unique_company_count))"
   ]
  },
  {
   "cell_type": "markdown",
   "metadata": {},
   "source": [
>>>>>>> 43b96b4dfa7bddb17435e2b2cac05525a713e75a
    "Remove leading, trailing spaces and Standardize case"
   ]
  },
  {
   "cell_type": "code",
<<<<<<< HEAD
   "execution_count": 47,
=======
   "execution_count": 46,
>>>>>>> 43b96b4dfa7bddb17435e2b2cac05525a713e75a
   "metadata": {},
   "outputs": [],
   "source": [
    "# Remove leading and trailing spaces from the 'Company Name' column\n",
    "data_2019['Company Name'] = data_2019['Company Name'].str.strip()\n",
    "\n",
    "# standardize city name to lower case\n",
    "data_2019['Company Name'] = data_2019['Company Name'].str.title()"
   ]
  },
  {
   "cell_type": "markdown",
   "metadata": {},
   "source": [
<<<<<<< HEAD
=======
    "Detect Duplicates"
   ]
  },
  {
   "cell_type": "code",
   "execution_count": 47,
   "metadata": {},
   "outputs": [
    {
     "name": "stdout",
     "output_type": "stream",
     "text": [
      "\n",
      "\n",
      "\n",
      "Number of duplicates in 'Company Name' variable: 2\n",
      "\n",
      "\n",
      "Duplicate Rows:\n",
      "   Company Name  Year Founded    Headquarter      Sector  \\\n",
      "68      Licious        2015.0      Bangalore        Food   \n",
      "82     Kratikal           NaN  Uttar pradesh  Technology   \n",
      "\n",
      "                 Business Description                    Founders  \\\n",
      "68                   Online meat shop  Vivek Gupta, Abhay Hanjura   \n",
      "82  Provides cyber security solutions              Pavan Kushwaha   \n",
      "\n",
      "                                     Investor Funding Amount ($) Funding Round  \n",
      "68                            Vertex Ventures        $25,000,000      Series D  \n",
      "82  Gilda VC, Art Venture, Rajeev Chitrabhanu         $1,000,000  Pre-series A  \n"
     ]
    },
    {
     "data": {
      "text/html": [
       "<div>\n",
       "<style scoped>\n",
       "    .dataframe tbody tr th:only-of-type {\n",
       "        vertical-align: middle;\n",
       "    }\n",
       "\n",
       "    .dataframe tbody tr th {\n",
       "        vertical-align: top;\n",
       "    }\n",
       "\n",
       "    .dataframe thead th {\n",
       "        text-align: right;\n",
       "    }\n",
       "</style>\n",
       "<table border=\"1\" class=\"dataframe\">\n",
       "  <thead>\n",
       "    <tr style=\"text-align: right;\">\n",
       "      <th></th>\n",
       "      <th>Company Name</th>\n",
       "      <th>Year Founded</th>\n",
       "      <th>Headquarter</th>\n",
       "      <th>Sector</th>\n",
       "      <th>Business Description</th>\n",
       "      <th>Founders</th>\n",
       "      <th>Investor</th>\n",
       "      <th>Funding Amount ($)</th>\n",
       "      <th>Funding Round</th>\n",
       "    </tr>\n",
       "  </thead>\n",
       "  <tbody>\n",
       "    <tr>\n",
       "      <th>68</th>\n",
       "      <td>Licious</td>\n",
       "      <td>2015.0</td>\n",
       "      <td>Bangalore</td>\n",
       "      <td>Food</td>\n",
       "      <td>Online meat shop</td>\n",
       "      <td>Vivek Gupta, Abhay Hanjura</td>\n",
       "      <td>Vertex Ventures</td>\n",
       "      <td>$25,000,000</td>\n",
       "      <td>Series D</td>\n",
       "    </tr>\n",
       "    <tr>\n",
       "      <th>82</th>\n",
       "      <td>Kratikal</td>\n",
       "      <td>NaN</td>\n",
       "      <td>Uttar pradesh</td>\n",
       "      <td>Technology</td>\n",
       "      <td>Provides cyber security solutions</td>\n",
       "      <td>Pavan Kushwaha</td>\n",
       "      <td>Gilda VC, Art Venture, Rajeev Chitrabhanu</td>\n",
       "      <td>$1,000,000</td>\n",
       "      <td>Pre-series A</td>\n",
       "    </tr>\n",
       "  </tbody>\n",
       "</table>\n",
       "</div>"
      ],
      "text/plain": [
       "   Company Name  Year Founded    Headquarter      Sector  \\\n",
       "68      Licious        2015.0      Bangalore        Food   \n",
       "82     Kratikal           NaN  Uttar pradesh  Technology   \n",
       "\n",
       "                 Business Description                    Founders  \\\n",
       "68                   Online meat shop  Vivek Gupta, Abhay Hanjura   \n",
       "82  Provides cyber security solutions              Pavan Kushwaha   \n",
       "\n",
       "                                     Investor Funding Amount ($) Funding Round  \n",
       "68                            Vertex Ventures        $25,000,000      Series D  \n",
       "82  Gilda VC, Art Venture, Rajeev Chitrabhanu         $1,000,000  Pre-series A  "
      ]
     },
     "execution_count": 47,
     "metadata": {},
     "output_type": "execute_result"
    }
   ],
   "source": [
    "# check duplicates\n",
    "check_categorical_duplicates(data_2019, 'Company Name')"
   ]
  },
  {
   "cell_type": "markdown",
   "metadata": {},
   "source": [
>>>>>>> 43b96b4dfa7bddb17435e2b2cac05525a713e75a
    "Handle missing values"
   ]
  },
  {
   "cell_type": "code",
   "execution_count": 48,
   "metadata": {},
   "outputs": [
    {
     "data": {
      "text/plain": [
       "0"
      ]
     },
     "execution_count": 48,
     "metadata": {},
     "output_type": "execute_result"
    }
   ],
   "source": [
    "# Check missing values\n",
    "check_missing_values(data_2019['Company Name'])"
   ]
  },
  {
   "cell_type": "markdown",
   "metadata": {},
   "source": [
    "The ```Company Name``` column has no missing values."
   ]
  },
  {
   "cell_type": "markdown",
   "metadata": {},
   "source": [
    "#### **Year Founded Exploration**"
   ]
  },
  {
   "cell_type": "markdown",
   "metadata": {},
   "source": [
    "**The \"Year Founded\"** variable is a quantitative variable representing the year in which each company was founded.\n",
    "- Validate data format\n",
    "- Handle missing values\n",
    "- Identifying Outliers"
   ]
  },
  {
   "cell_type": "markdown",
   "metadata": {},
   "source": [
    "Handle the missing values"
   ]
  },
  {
   "cell_type": "code",
   "execution_count": 49,
<<<<<<< HEAD
   "metadata": {},
   "outputs": [
    {
     "data": {
      "text/plain": [
       "29"
      ]
     },
     "execution_count": 49,
     "metadata": {},
     "output_type": "execute_result"
    }
   ],
   "source": [
    "# Check missing values\n",
    "check_missing_values(data_2019['Year Founded'])"
   ]
  },
  {
   "cell_type": "markdown",
   "metadata": {},
   "source": [
    "The column ```Year Founded``` contains 29 missing values which will handle by replacing them with the mode."
   ]
  },
  {
   "cell_type": "code",
   "execution_count": 50,
=======
>>>>>>> 43b96b4dfa7bddb17435e2b2cac05525a713e75a
   "metadata": {},
   "outputs": [],
   "source": [
    "# Create an instance of the SimpleImputer with the median strategy\n",
    "array = data_2019['Year Founded'].values.reshape(-1,1)\n",
    "imputer = SimpleImputer(strategy='most_frequent')\n",
    "\n",
    "# Fit the imputer on the 'Year Founded' column and transform the column to impute missing values\n",
    "data_2019['Year Founded'] = imputer.fit_transform(array)"
   ]
  },
  {
   "cell_type": "markdown",
   "metadata": {},
   "source": [
    "Validate data format<br>\n",
    "The column will be converted into an interger from the earlier float data type."
   ]
  },
  {
   "cell_type": "code",
<<<<<<< HEAD
   "execution_count": 51,
=======
   "execution_count": 50,
>>>>>>> 43b96b4dfa7bddb17435e2b2cac05525a713e75a
   "metadata": {},
   "outputs": [],
   "source": [
    "# Convert the 'Year Founded' column to integer\n",
    "data_2019['Year Founded'] = data_2019['Year Founded'].astype(int)"
   ]
  },
  {
   "cell_type": "code",
<<<<<<< HEAD
   "execution_count": 52,
=======
   "execution_count": 51,
>>>>>>> 43b96b4dfa7bddb17435e2b2cac05525a713e75a
   "metadata": {},
   "outputs": [
    {
     "data": {
      "text/plain": [
       "0    2015\n",
       "1    2014\n",
       "2    2015\n",
       "3    2014\n",
       "4    2004\n",
       "Name: Year Founded, dtype: int32"
      ]
     },
<<<<<<< HEAD
     "execution_count": 52,
=======
     "execution_count": 51,
>>>>>>> 43b96b4dfa7bddb17435e2b2cac05525a713e75a
     "metadata": {},
     "output_type": "execute_result"
    }
   ],
   "source": [
    "data_2019['Year Founded'].head()"
   ]
  },
  {
   "cell_type": "markdown",
   "metadata": {},
   "source": [
<<<<<<< HEAD
    "#### **Headquarter Exploration**"
=======
    "Detect Duplicates"
   ]
  },
  {
   "cell_type": "code",
   "execution_count": 52,
   "metadata": {},
   "outputs": [
    {
     "name": "stdout",
     "output_type": "stream",
     "text": [
      "\n",
      "\n",
      "\n",
      "Number of duplicates in 'Year Founded' variable: 77\n",
      "\n",
      "\n",
      "Duplicate Rows:\n",
      "  Company Name  Year Founded Headquarter           Sector  \\\n",
      "2     Eduisfun          2015      Mumbai           Edtech   \n",
      "3     Homelane          2014     Chennai  Interior design   \n",
      "5     Flytbase          2015        Pune       Technology   \n",
      "6        Finly          2015   Bangalore             SaaS   \n",
      "8    Quantiphi          2015         NaN        AI & Tech   \n",
      "\n",
      "                                Business Description  \\\n",
      "2            It aims to make learning fun via games.   \n",
      "3              Provides interior designing solutions   \n",
      "5                        A drone automation platform   \n",
      "6  It builds software products that makes work si...   \n",
      "8  It is an AI and big data services company prov...   \n",
      "\n",
      "                       Founders  \\\n",
      "2                 Jatin Solanki   \n",
      "3  Srikanth Iyer, Rama Harinath   \n",
      "5                   Nitin Gupta   \n",
      "6     Vivek AG, Veekshith C Rai   \n",
      "8                Renuka Ramnath   \n",
      "\n",
      "                                            Investor Funding Amount ($)  \\\n",
      "2     Deepak Parekh, Amitabh Bachchan, Piyush Pandey        $28,000,000   \n",
      "3  Evolvence India Fund (EIF), Pidilite Group, FJ...        $30,000,000   \n",
      "5                                        Undisclosed        Undisclosed   \n",
      "6  Social Capital, AngelList India, Gemba Capital...        Undisclosed   \n",
      "8               Multiples Alternate Asset Management        $20,000,000   \n",
      "\n",
      "   Funding Round  \n",
      "2  Fresh funding  \n",
      "3       Series D  \n",
      "5            NaN  \n",
      "6            NaN  \n",
      "8       Series A  \n"
     ]
    },
    {
     "data": {
      "text/html": [
       "<div>\n",
       "<style scoped>\n",
       "    .dataframe tbody tr th:only-of-type {\n",
       "        vertical-align: middle;\n",
       "    }\n",
       "\n",
       "    .dataframe tbody tr th {\n",
       "        vertical-align: top;\n",
       "    }\n",
       "\n",
       "    .dataframe thead th {\n",
       "        text-align: right;\n",
       "    }\n",
       "</style>\n",
       "<table border=\"1\" class=\"dataframe\">\n",
       "  <thead>\n",
       "    <tr style=\"text-align: right;\">\n",
       "      <th></th>\n",
       "      <th>Company Name</th>\n",
       "      <th>Year Founded</th>\n",
       "      <th>Headquarter</th>\n",
       "      <th>Sector</th>\n",
       "      <th>Business Description</th>\n",
       "      <th>Founders</th>\n",
       "      <th>Investor</th>\n",
       "      <th>Funding Amount ($)</th>\n",
       "      <th>Funding Round</th>\n",
       "    </tr>\n",
       "  </thead>\n",
       "  <tbody>\n",
       "    <tr>\n",
       "      <th>2</th>\n",
       "      <td>Eduisfun</td>\n",
       "      <td>2015</td>\n",
       "      <td>Mumbai</td>\n",
       "      <td>Edtech</td>\n",
       "      <td>It aims to make learning fun via games.</td>\n",
       "      <td>Jatin Solanki</td>\n",
       "      <td>Deepak Parekh, Amitabh Bachchan, Piyush Pandey</td>\n",
       "      <td>$28,000,000</td>\n",
       "      <td>Fresh funding</td>\n",
       "    </tr>\n",
       "    <tr>\n",
       "      <th>3</th>\n",
       "      <td>Homelane</td>\n",
       "      <td>2014</td>\n",
       "      <td>Chennai</td>\n",
       "      <td>Interior design</td>\n",
       "      <td>Provides interior designing solutions</td>\n",
       "      <td>Srikanth Iyer, Rama Harinath</td>\n",
       "      <td>Evolvence India Fund (EIF), Pidilite Group, FJ...</td>\n",
       "      <td>$30,000,000</td>\n",
       "      <td>Series D</td>\n",
       "    </tr>\n",
       "    <tr>\n",
       "      <th>5</th>\n",
       "      <td>Flytbase</td>\n",
       "      <td>2015</td>\n",
       "      <td>Pune</td>\n",
       "      <td>Technology</td>\n",
       "      <td>A drone automation platform</td>\n",
       "      <td>Nitin Gupta</td>\n",
       "      <td>Undisclosed</td>\n",
       "      <td>Undisclosed</td>\n",
       "      <td>NaN</td>\n",
       "    </tr>\n",
       "    <tr>\n",
       "      <th>6</th>\n",
       "      <td>Finly</td>\n",
       "      <td>2015</td>\n",
       "      <td>Bangalore</td>\n",
       "      <td>SaaS</td>\n",
       "      <td>It builds software products that makes work si...</td>\n",
       "      <td>Vivek AG, Veekshith C Rai</td>\n",
       "      <td>Social Capital, AngelList India, Gemba Capital...</td>\n",
       "      <td>Undisclosed</td>\n",
       "      <td>NaN</td>\n",
       "    </tr>\n",
       "    <tr>\n",
       "      <th>8</th>\n",
       "      <td>Quantiphi</td>\n",
       "      <td>2015</td>\n",
       "      <td>NaN</td>\n",
       "      <td>AI &amp; Tech</td>\n",
       "      <td>It is an AI and big data services company prov...</td>\n",
       "      <td>Renuka Ramnath</td>\n",
       "      <td>Multiples Alternate Asset Management</td>\n",
       "      <td>$20,000,000</td>\n",
       "      <td>Series A</td>\n",
       "    </tr>\n",
       "    <tr>\n",
       "      <th>...</th>\n",
       "      <td>...</td>\n",
       "      <td>...</td>\n",
       "      <td>...</td>\n",
       "      <td>...</td>\n",
       "      <td>...</td>\n",
       "      <td>...</td>\n",
       "      <td>...</td>\n",
       "      <td>...</td>\n",
       "      <td>...</td>\n",
       "    </tr>\n",
       "    <tr>\n",
       "      <th>84</th>\n",
       "      <td>Infra.Market</td>\n",
       "      <td>2015</td>\n",
       "      <td>Mumbai</td>\n",
       "      <td>Infratech</td>\n",
       "      <td>It connects client requirements to their suppl...</td>\n",
       "      <td>Aaditya Sharda, Souvik Sengupta</td>\n",
       "      <td>Tiger Global, Nexus Venture Partners, Accel Pa...</td>\n",
       "      <td>$20,000,000</td>\n",
       "      <td>Series A</td>\n",
       "    </tr>\n",
       "    <tr>\n",
       "      <th>85</th>\n",
       "      <td>Oyo</td>\n",
       "      <td>2013</td>\n",
       "      <td>Gurugram</td>\n",
       "      <td>Hospitality</td>\n",
       "      <td>Provides rooms for comfortable stay</td>\n",
       "      <td>Ritesh Agarwal</td>\n",
       "      <td>MyPreferred Transformation, Avendus Finance, S...</td>\n",
       "      <td>$693,000,000</td>\n",
       "      <td>NaN</td>\n",
       "    </tr>\n",
       "    <tr>\n",
       "      <th>86</th>\n",
       "      <td>Gomechanic</td>\n",
       "      <td>2016</td>\n",
       "      <td>Delhi</td>\n",
       "      <td>Automobile &amp; Technology</td>\n",
       "      <td>Find automobile repair and maintenance service...</td>\n",
       "      <td>Amit Bhasin, Kushal Karwa, Nitin Rana, Rishabh...</td>\n",
       "      <td>Sequoia Capital</td>\n",
       "      <td>$5,000,000</td>\n",
       "      <td>Series B</td>\n",
       "    </tr>\n",
       "    <tr>\n",
       "      <th>87</th>\n",
       "      <td>Spinny</td>\n",
       "      <td>2015</td>\n",
       "      <td>Delhi</td>\n",
       "      <td>Automobile</td>\n",
       "      <td>Online car retailer</td>\n",
       "      <td>Niraj Singh, Ramanshu Mahaur, Ganesh Pawar, Mo...</td>\n",
       "      <td>Norwest Venture Partners, General Catalyst, Fu...</td>\n",
       "      <td>$50,000,000</td>\n",
       "      <td>NaN</td>\n",
       "    </tr>\n",
       "    <tr>\n",
       "      <th>88</th>\n",
       "      <td>Ess Kay Fincorp</td>\n",
       "      <td>2015</td>\n",
       "      <td>Rajasthan</td>\n",
       "      <td>Banking</td>\n",
       "      <td>Organised Non-Banking Finance Company</td>\n",
       "      <td>Rajendra Setia</td>\n",
       "      <td>TPG, Norwest Venture Partners, Evolvence India</td>\n",
       "      <td>$33,000,000</td>\n",
       "      <td>NaN</td>\n",
       "    </tr>\n",
       "  </tbody>\n",
       "</table>\n",
       "<p>77 rows × 9 columns</p>\n",
       "</div>"
      ],
      "text/plain": [
       "       Company Name  Year Founded Headquarter                   Sector  \\\n",
       "2          Eduisfun          2015      Mumbai                   Edtech   \n",
       "3          Homelane          2014     Chennai          Interior design   \n",
       "5          Flytbase          2015        Pune               Technology   \n",
       "6             Finly          2015   Bangalore                     SaaS   \n",
       "8         Quantiphi          2015         NaN                AI & Tech   \n",
       "..              ...           ...         ...                      ...   \n",
       "84     Infra.Market          2015      Mumbai                Infratech   \n",
       "85              Oyo          2013    Gurugram              Hospitality   \n",
       "86       Gomechanic          2016       Delhi  Automobile & Technology   \n",
       "87           Spinny          2015       Delhi               Automobile   \n",
       "88  Ess Kay Fincorp          2015   Rajasthan                  Banking   \n",
       "\n",
       "                                 Business Description  \\\n",
       "2             It aims to make learning fun via games.   \n",
       "3               Provides interior designing solutions   \n",
       "5                         A drone automation platform   \n",
       "6   It builds software products that makes work si...   \n",
       "8   It is an AI and big data services company prov...   \n",
       "..                                                ...   \n",
       "84  It connects client requirements to their suppl...   \n",
       "85                Provides rooms for comfortable stay   \n",
       "86  Find automobile repair and maintenance service...   \n",
       "87                                Online car retailer   \n",
       "88              Organised Non-Banking Finance Company   \n",
       "\n",
       "                                             Founders  \\\n",
       "2                                       Jatin Solanki   \n",
       "3                        Srikanth Iyer, Rama Harinath   \n",
       "5                                         Nitin Gupta   \n",
       "6                           Vivek AG, Veekshith C Rai   \n",
       "8                                      Renuka Ramnath   \n",
       "..                                                ...   \n",
       "84                    Aaditya Sharda, Souvik Sengupta   \n",
       "85                                     Ritesh Agarwal   \n",
       "86  Amit Bhasin, Kushal Karwa, Nitin Rana, Rishabh...   \n",
       "87  Niraj Singh, Ramanshu Mahaur, Ganesh Pawar, Mo...   \n",
       "88                                     Rajendra Setia   \n",
       "\n",
       "                                             Investor Funding Amount ($)  \\\n",
       "2      Deepak Parekh, Amitabh Bachchan, Piyush Pandey        $28,000,000   \n",
       "3   Evolvence India Fund (EIF), Pidilite Group, FJ...        $30,000,000   \n",
       "5                                         Undisclosed        Undisclosed   \n",
       "6   Social Capital, AngelList India, Gemba Capital...        Undisclosed   \n",
       "8                Multiples Alternate Asset Management        $20,000,000   \n",
       "..                                                ...                ...   \n",
       "84  Tiger Global, Nexus Venture Partners, Accel Pa...        $20,000,000   \n",
       "85  MyPreferred Transformation, Avendus Finance, S...       $693,000,000   \n",
       "86                                    Sequoia Capital         $5,000,000   \n",
       "87  Norwest Venture Partners, General Catalyst, Fu...        $50,000,000   \n",
       "88     TPG, Norwest Venture Partners, Evolvence India        $33,000,000   \n",
       "\n",
       "    Funding Round  \n",
       "2   Fresh funding  \n",
       "3        Series D  \n",
       "5             NaN  \n",
       "6             NaN  \n",
       "8        Series A  \n",
       "..            ...  \n",
       "84       Series A  \n",
       "85            NaN  \n",
       "86       Series B  \n",
       "87            NaN  \n",
       "88            NaN  \n",
       "\n",
       "[77 rows x 9 columns]"
      ]
     },
     "execution_count": 52,
     "metadata": {},
     "output_type": "execute_result"
    }
   ],
   "source": [
    "# check duplicates\n",
    "check_categorical_duplicates(data_2019, 'Year Founded')"
   ]
  },
  {
   "cell_type": "markdown",
   "metadata": {},
   "source": [
    "#### **Explore Headquarter**"
>>>>>>> 43b96b4dfa7bddb17435e2b2cac05525a713e75a
   ]
  },
  {
   "cell_type": "markdown",
   "metadata": {},
   "source": [
    "**The \"Headquater\"** variable is a categorical variable representing the city in which each company is Located.\n",
    "- Remove leading, trailing spaces and Standardize case\n",
    "- Handle missing values\n",
    "- Number of cities\n",
    "- Examine the most common cities"
   ]
  },
  {
   "cell_type": "markdown",
   "metadata": {},
   "source": [
    "Remove leading, trailing spaces and Standardize case"
   ]
  },
  {
   "cell_type": "code",
   "execution_count": 53,
   "metadata": {},
   "outputs": [],
   "source": [
    "# Standardize case\n",
    "data_2019['Headquarter'] = data_2019['Headquarter'].str.title()\n",
    "\n",
    "# Remove leading and trailing spaces\n",
    "data_2019['Headquarter'] = data_2019['Headquarter'].str.strip()"
   ]
  },
  {
   "cell_type": "markdown",
   "metadata": {},
   "source": [
    "Handle the missing Values"
   ]
  },
  {
   "cell_type": "code",
   "execution_count": 54,
<<<<<<< HEAD
   "metadata": {},
   "outputs": [
    {
     "data": {
      "text/plain": [
       "19"
      ]
     },
     "execution_count": 54,
     "metadata": {},
     "output_type": "execute_result"
    }
   ],
   "source": [
    "# Check missing values\n",
    "check_missing_values(data_2019['Headquarter'])"
   ]
  },
  {
   "cell_type": "markdown",
   "metadata": {},
   "source": [
    "The columns contains 19 missing values which will replace with 'Unknown' ."
   ]
  },
  {
   "cell_type": "code",
   "execution_count": 55,
=======
>>>>>>> 43b96b4dfa7bddb17435e2b2cac05525a713e75a
   "metadata": {},
   "outputs": [],
   "source": [
    "# fill the null categorical values with 'Unknown'\n",
    "data_2019['Headquarter'] = data_2019['Headquarter'].fillna('Unknown')"
   ]
  },
  {
   "cell_type": "markdown",
   "metadata": {},
   "source": [
    "All Headquarter cities"
   ]
  },
  {
   "cell_type": "code",
<<<<<<< HEAD
   "execution_count": 56,
=======
   "execution_count": 55,
>>>>>>> 43b96b4dfa7bddb17435e2b2cac05525a713e75a
   "metadata": {},
   "outputs": [
    {
     "name": "stdout",
     "output_type": "stream",
     "text": [
      "Count of Unique Cities: 18\n"
     ]
    }
   ],
   "source": [
    "# Calculate the count of unique cities\n",
    "unique_city_count = data_2019['Headquarter'].nunique()\n",
    "print(\"Count of Unique Cities: {}\".format(unique_city_count))"
   ]
  },
  {
   "cell_type": "markdown",
   "metadata": {},
   "source": [
    "Examine the most common cities"
   ]
  },
  {
   "cell_type": "code",
<<<<<<< HEAD
   "execution_count": 57,
=======
   "execution_count": 56,
>>>>>>> 43b96b4dfa7bddb17435e2b2cac05525a713e75a
   "metadata": {},
   "outputs": [
    {
     "name": "stdout",
     "output_type": "stream",
     "text": [
      "\n",
      "Most Common Cities:\n",
      "Bangalore    21\n",
      "Name: Headquarter, dtype: int64\n"
     ]
    }
   ],
   "source": [
    "# Examine the most common cities\n",
    "city_counts = data_2019['Headquarter'].value_counts()\n",
    "most_common_cities = city_counts[city_counts == city_counts.max()]\n",
    "print(\"\\nMost Common Cities:\")\n",
    "print(most_common_cities)"
   ]
  },
  {
   "cell_type": "markdown",
   "metadata": {},
   "source": [
    "#### **Explore Sector**"
   ]
  },
  {
   "cell_type": "markdown",
   "metadata": {},
   "source": [
    " INTRO\n",
    "\n",
    "Data Cleaning Steps:\n",
    "- Data Exploration and Descriptive Statistics\n",
    "- Clean sector name\n",
    "- Remove leading, trailing spaces and Standardize case\n",
    "- Handle missing values"
   ]
  },
  {
   "cell_type": "markdown",
   "metadata": {},
   "source": [
    "Data Exploration and Descriptive Statistics"
   ]
  },
  {
   "cell_type": "code",
<<<<<<< HEAD
   "execution_count": 58,
=======
   "execution_count": 57,
>>>>>>> 43b96b4dfa7bddb17435e2b2cac05525a713e75a
   "metadata": {},
   "outputs": [
    {
     "name": "stdout",
     "output_type": "stream",
     "text": [
      "Count of Unique Sectors: 52\n",
      "\n",
      "Most Common Sectors:\n",
      "Edtech    7\n",
      "Name: Sector, dtype: int64\n"
     ]
    }
   ],
   "source": [
    "# Calculate the count of unique sectors\n",
    "unique_sector_count = data_2019['Sector'].nunique()\n",
    "print(\"Count of Unique Sectors: {}\".format(unique_sector_count))\n",
    "\n",
    "# Examine the most common sectors\n",
    "sector_counts = data_2019['Sector'].value_counts()\n",
    "most_common_sectors = sector_counts[sector_counts == sector_counts.max()]\n",
    "print(\"\\nMost Common Sectors:\")\n",
    "print(most_common_sectors)"
   ]
  },
  {
   "cell_type": "markdown",
   "metadata": {},
   "source": [
    "Clean sector names"
   ]
  },
  {
   "cell_type": "code",
<<<<<<< HEAD
   "execution_count": 59,
=======
   "execution_count": 58,
>>>>>>> 43b96b4dfa7bddb17435e2b2cac05525a713e75a
   "metadata": {},
   "outputs": [],
   "source": [
    "# cleaning sectory names\n",
    "sector_replacements = {\n",
    "    'AI & Tech': 'AI',\n",
    "    'Ai': 'AI',\n",
    "    'Automobile & Technology': 'Automobile',\n",
    "    'Automotive tech': 'Automobile',\n",
    "    'Automotive Tech': 'Automobile',\n",
    "    'B2B Supply Chain': 'B2B',\n",
    "    'E-commerce & AR': 'E-commerce',\n",
    "    'E-commerce & Ar': 'E-commerce',\n",
    "    'E-Commerce & Ar': 'E-commerce',\n",
    "    'Ecommerce': 'E-commerce',\n",
    "    'Food & Nutrition': 'Food',\n",
    "    'Food & tech': 'Food',\n",
    "    'Food & Tech': 'Food',\n",
    "    'Food Tech': 'Food',\n",
    "    'Foodtech': 'Food',\n",
    "    'Games': 'Gaming',\n",
    "    'Healthcare': 'Health',\n",
    "    'Healthtech': 'Health',\n",
    "    'Manufacturing': 'Industrial',\n",
    "    'Marketing & Customer loyalty': 'Marketing',\n",
    "    'Marketing & Customer Loyalty': 'Marketing',\n",
    "    'Pharmaceutical': 'Pharma',\n",
    "    'Robotics & AI': 'AI',\n",
    "    'Robotics & Ai': 'AI',\n",
    "    'SaaS': 'Software',\n",
    "    'Safety tech': 'Security',\n",
    "    'Social Media': 'SocialMedia',\n",
    "    'Transport & Rentals': 'Transportation',\n",
    "    'Virtual Banking': 'Banking',\n",
    "    'Yoga & wellness': 'Wellness',\n",
    "    'Hr Tech': \"Human Resource\",\n",
    "    'Ai & Tech': 'AI',\n",
    "}\n",
    "data_2019['Sector'] = data_2019['Sector'].replace(sector_replacements)"
   ]
  },
  {
   "cell_type": "markdown",
   "metadata": {},
   "source": [
    "Remove leading, trailing spaces and Standardize case"
   ]
  },
  {
   "cell_type": "code",
<<<<<<< HEAD
   "execution_count": 60,
=======
   "execution_count": 59,
>>>>>>> 43b96b4dfa7bddb17435e2b2cac05525a713e75a
   "metadata": {},
   "outputs": [],
   "source": [
    "# Standardize case\n",
    "data_2019['Sector'] = data_2019['Sector'].str.title()\n",
    "\n",
    "# Remove leading and trailing spaces\n",
    "data_2019['Sector'] = data_2019['Sector'].str.strip()"
   ]
  },
  {
   "cell_type": "markdown",
   "metadata": {},
   "source": [
    "Handle missing values"
   ]
  },
  {
   "cell_type": "code",
<<<<<<< HEAD
   "execution_count": 61,
   "metadata": {},
   "outputs": [
    {
     "data": {
      "text/plain": [
       "5"
      ]
     },
     "execution_count": 61,
     "metadata": {},
     "output_type": "execute_result"
    }
   ],
   "source": [
    "# Check missing values\n",
    "check_missing_values(data_2019['Sector'])"
   ]
  },
  {
   "cell_type": "markdown",
   "metadata": {},
   "source": [
    "The column contains 5 missing values which will be replaced by 'Unknown' value"
   ]
  },
  {
   "cell_type": "code",
   "execution_count": 62,
=======
   "execution_count": 60,
>>>>>>> 43b96b4dfa7bddb17435e2b2cac05525a713e75a
   "metadata": {},
   "outputs": [],
   "source": [
    "# Handle missing values\n",
    "data_2019['Sector'] = data_2019['Sector'].fillna('Unknown')"
   ]
  },
  {
   "cell_type": "markdown",
   "metadata": {},
   "source": [
    "#### **Explore Business Description**"
   ]
  },
  {
   "cell_type": "markdown",
   "metadata": {},
   "source": [
    "The **Intro** variable is a categorical variable. It represents the names of different companies in the dataset.\n",
    "\n",
    "- Text cleaning"
   ]
  },
  {
   "cell_type": "markdown",
   "metadata": {},
   "source": [
    "Text cleaning"
   ]
  },
  {
   "cell_type": "code",
<<<<<<< HEAD
   "execution_count": 63,
=======
   "execution_count": 61,
>>>>>>> 43b96b4dfa7bddb17435e2b2cac05525a713e75a
   "metadata": {},
   "outputs": [],
   "source": [
    "# Text cleaning\n",
    "data_2019['Business Description'] = data_2019['Business Description'].str.replace('[^\\w\\s]', '')\n",
    "data_2019['Business Description'] = data_2019['Business Description'].str.lower()"
   ]
  },
  {
   "cell_type": "markdown",
   "metadata": {},
   "source": [
    "**Explore Founders**"
   ]
  },
  {
   "cell_type": "markdown",
   "metadata": {},
   "source": [
    "The **Founders** variable is a categorical variable. It represents the founders of different companies in the dataset.\n",
    "\n",
    "\n",
    "Data Cleaning Steps:\n",
    "- Data Exploration and Descriptive Statistics\n",
    "- Remove leading, trailing spaces and Standardize case\n",
    "- Handle missing values"
   ]
  },
  {
   "cell_type": "markdown",
   "metadata": {},
   "source": [
    "#### Data Exploration and Descriptive Statistics"
   ]
  },
  {
   "cell_type": "code",
<<<<<<< HEAD
   "execution_count": 64,
=======
   "execution_count": 62,
>>>>>>> 43b96b4dfa7bddb17435e2b2cac05525a713e75a
   "metadata": {},
   "outputs": [
    {
     "name": "stdout",
     "output_type": "stream",
     "text": [
      "Count of Unique Founders: 85\n",
      "\n",
      "Most Common Founders(s):\n",
      "Vivek Gupta, Abhay Hanjura    2\n",
      "Name: Founders, dtype: int64\n"
     ]
    }
   ],
   "source": [
    "# Calculate the count of unique founder names\n",
    "unique_founders_count = data_2019['Founders'].nunique()\n",
    "print(\"Count of Unique Founders: {}\".format(unique_founders_count))\n",
    "\n",
    "# Examine the most common Founderss\n",
    "founders_name_counts = data_2019['Founders'].value_counts()\n",
    "most_common_founders = founders_name_counts[founders_name_counts == founders_name_counts.max()]\n",
    "print(\"\\nMost Common Founders(s):\")\n",
    "print(most_common_founders)"
   ]
  },
  {
   "cell_type": "markdown",
   "metadata": {},
   "source": [
    "In some instances the ```Founders``` column contains two or more names therefore will split the names and only remain with first name.\n"
   ]
  },
  {
   "cell_type": "code",
<<<<<<< HEAD
   "execution_count": 65,
=======
   "execution_count": 63,
>>>>>>> 43b96b4dfa7bddb17435e2b2cac05525a713e75a
   "metadata": {},
   "outputs": [
    {
     "data": {
      "text/plain": [
       "0           Shantanu Deshpande\n",
       "1     Adamas Belva Syah Devara\n",
       "2                Jatin Solanki\n",
       "3                Srikanth Iyer\n",
       "4       Narayana Reddy Punyala\n",
       "                ...           \n",
       "84              Aaditya Sharda\n",
       "85              Ritesh Agarwal\n",
       "86                 Amit Bhasin\n",
       "87                 Niraj Singh\n",
       "88              Rajendra Setia\n",
       "Name: Founders, Length: 89, dtype: object"
      ]
     },
     "execution_count": 65,
     "metadata": {},
     "output_type": "execute_result"
    }
   ],
   "source": [
    "# Cleaning founder names\n",
    "data_2019['Founders'] = data_2019['Founders'].map(lambda x:str(x).split(',')[0])\n",
    "data_2019['Founders']"
   ]
  },
  {
   "cell_type": "markdown",
   "metadata": {},
   "source": [
    "#### Handle missing values\n"
   ]
  },
  {
   "cell_type": "code",
<<<<<<< HEAD
   "execution_count": 66,
   "metadata": {},
   "outputs": [
    {
     "data": {
      "text/plain": [
       "0"
      ]
     },
     "execution_count": 66,
     "metadata": {},
     "output_type": "execute_result"
    }
   ],
   "source": [
    "# Check missing values\n",
    "check_missing_values(data_2019['Founders'])"
   ]
  },
  {
   "cell_type": "markdown",
   "metadata": {},
   "source": [
    "The column contains 3 missing values which will handled by replacing them with 'Unknown' value."
   ]
  },
  {
   "cell_type": "code",
   "execution_count": 67,
=======
   "execution_count": 64,
>>>>>>> 43b96b4dfa7bddb17435e2b2cac05525a713e75a
   "metadata": {},
   "outputs": [],
   "source": [
    "# Replacing 'Unknown' with an empty string for single Founders\n",
    "data_2019['Founders'] = data_2019['Founders'].replace('', 'Unknown')\n",
    "\n",
    "# replace all the null values with 'Unknown'\n",
    "data_2019['Founders'] = data_2019['Founders'].fillna('Unknown')"
   ]
  },
  {
   "cell_type": "markdown",
   "metadata": {},
   "source": [
    "#### **Explore Investor**"
   ]
  },
  {
   "cell_type": "markdown",
   "metadata": {},
   "source": [
    "The **explore** variable is a categorical variable. It represents the investors of different companies in the dataset.\n",
    "\n",
    "\n",
    "Data Cleaning Steps:\n",
    "- Data Exploration and Descriptive Statistics\n",
    "- Remove leading, trailing spaces and Standardize case\n",
    "- Detect duplicates\n",
    "- Handle missing values"
   ]
  },
  {
   "cell_type": "markdown",
   "metadata": {},
   "source": [
    "Data Exploration and Descriptive Statistics"
   ]
  },
  {
   "cell_type": "code",
<<<<<<< HEAD
   "execution_count": 68,
=======
   "execution_count": 65,
>>>>>>> 43b96b4dfa7bddb17435e2b2cac05525a713e75a
   "metadata": {},
   "outputs": [
    {
     "name": "stdout",
     "output_type": "stream",
     "text": [
      "Count of Unique Investors: 86\n",
      "\n",
      "Most Common Investor(s):\n",
      "Undisclosed    3\n",
      "Name: Investor, dtype: int64\n"
     ]
    }
   ],
   "source": [
    "# Calculate the count of unique Investor names\n",
    "unique_investors_count = data_2019['Investor'].nunique()\n",
    "print(\"Count of Unique Investors: {}\".format(unique_investors_count))\n",
    "\n",
    "# Examine the most common Investors\n",
    "investors_name_counts = data_2019['Investor'].value_counts()\n",
    "most_common_Investors = investors_name_counts[investors_name_counts == investors_name_counts.max()]\n",
    "print(\"\\nMost Common Investor(s):\")\n",
    "print(most_common_Investors)"
   ]
  },
  {
   "cell_type": "markdown",
   "metadata": {},
   "source": [
    "Remove leading, trailing spaces and Standardize case"
   ]
  },
  {
   "cell_type": "code",
<<<<<<< HEAD
   "execution_count": 69,
=======
   "execution_count": 66,
>>>>>>> 43b96b4dfa7bddb17435e2b2cac05525a713e75a
   "metadata": {},
   "outputs": [],
   "source": [
    "# Cleaning Investor names\n",
    "data_2019['Investor'] = data_2019['Investor'].str.strip()\n",
    "data_2019['Investor'] = data_2019['Investor'].str.split(',')\n",
    "\n",
    "# Formatting Investors\n",
    "data_2019['Investor'] = data_2019['Investor'].apply(lambda x: ' & '.join([str(name).strip() for name in x]))"
   ]
  },
  {
   "cell_type": "code",
<<<<<<< HEAD
   "execution_count": 70,
=======
   "execution_count": 67,
>>>>>>> 43b96b4dfa7bddb17435e2b2cac05525a713e75a
   "metadata": {},
   "outputs": [
    {
     "data": {
      "text/plain": [
       "0                                 Sixth Sense Ventures\n",
       "1                                     General Atlantic\n",
       "2     Deepak Parekh & Amitabh Bachchan & Piyush Pandey\n",
       "3    Evolvence India Fund (EIF) & Pidilite Group & ...\n",
       "4             Innovation in Food and Agriculture (IFA)\n",
       "5                                          Undisclosed\n",
       "6    Social Capital & AngelList India & Gemba Capit...\n",
       "7         Gilda VC & Art Venture & Rajeev Chitrabhanu.\n",
       "8                 Multiples Alternate Asset Management\n",
       "9                                             SoftBank\n",
       "Name: Investor, dtype: object"
      ]
     },
<<<<<<< HEAD
     "execution_count": 70,
=======
     "execution_count": 67,
>>>>>>> 43b96b4dfa7bddb17435e2b2cac05525a713e75a
     "metadata": {},
     "output_type": "execute_result"
    }
   ],
   "source": [
    "data_2019['Investor'].head(10)"
   ]
  },
  {
   "cell_type": "markdown",
   "metadata": {},
   "source": [
    "#### Handle missing values\n"
   ]
  },
  {
   "cell_type": "code",
<<<<<<< HEAD
   "execution_count": 71,
=======
   "execution_count": 68,
>>>>>>> 43b96b4dfa7bddb17435e2b2cac05525a713e75a
   "metadata": {},
   "outputs": [
    {
     "data": {
      "text/plain": [
       "0"
      ]
     },
     "execution_count": 71,
     "metadata": {},
     "output_type": "execute_result"
    }
   ],
   "source": [
    "# Check missing values\n",
    "check_missing_values(data_2019['Investor'])"
   ]
  },
  {
   "cell_type": "markdown",
   "metadata": {},
   "source": [
    "The column does not contain any missing values."
   ]
  },
  {
   "cell_type": "markdown",
   "metadata": {},
   "source": [
    "#### **Explore Funding Amount**"
   ]
  },
  {
   "cell_type": "markdown",
   "metadata": {},
   "source": [
    "The **Funding Amount** variable is a numerical variable. It represents the funding amount of each company.\n",
    "\n",
    "Data Cleaning Steps:\n",
    "- Data Exploration and Descriptive Statistics\n",
    "- Remove and replacing empty spaces, leading and trailing spaces\n",
    "- Handle missing values\n",
    "- Visualize the distribution\n",
    "- Detecting and removing Outliers"
   ]
  },
  {
   "cell_type": "code",
<<<<<<< HEAD
   "execution_count": 72,
=======
   "execution_count": 69,
>>>>>>> 43b96b4dfa7bddb17435e2b2cac05525a713e75a
   "metadata": {},
   "outputs": [
    {
     "data": {
      "text/plain": [
       "0       $6,300,000\n",
       "1     $150,000,000\n",
       "2      $28,000,000\n",
       "3      $30,000,000\n",
       "4       $6,000,000\n",
       "          ...     \n",
       "84     $20,000,000\n",
       "85    $693,000,000\n",
       "86      $5,000,000\n",
       "87     $50,000,000\n",
       "88     $33,000,000\n",
       "Name: Funding Amount ($), Length: 89, dtype: object"
      ]
     },
<<<<<<< HEAD
     "execution_count": 72,
=======
     "execution_count": 69,
>>>>>>> 43b96b4dfa7bddb17435e2b2cac05525a713e75a
     "metadata": {},
     "output_type": "execute_result"
    }
   ],
   "source": [
    "\n",
    "data_2019['Funding Amount ($)']"
   ]
  },
  {
   "cell_type": "markdown",
   "metadata": {},
   "source": [
    "Data Exploration and Descriptive Statistics"
   ]
  },
  {
   "cell_type": "code",
<<<<<<< HEAD
   "execution_count": 73,
=======
   "execution_count": 70,
>>>>>>> 43b96b4dfa7bddb17435e2b2cac05525a713e75a
   "metadata": {},
   "outputs": [
    {
     "name": "stdout",
     "output_type": "stream",
     "text": [
      "Descriptive Statistics:\n",
      "count              89\n",
      "unique             50\n",
      "top       Undisclosed\n",
      "freq               12\n",
      "Name: Funding Amount ($), dtype: object\n",
      "\n"
     ]
    }
   ],
   "source": [
    "# Data Exploration and Descriptive Statistics\n",
    "print(\"Descriptive Statistics:\")\n",
    "print(data_2019['Funding Amount ($)'].describe())\n",
    "print()"
   ]
  },
  {
   "cell_type": "markdown",
   "metadata": {},
   "source": [
    "Remove and replacing empty spaces, leading and trailing spaces"
   ]
  },
  {
   "cell_type": "code",
<<<<<<< HEAD
   "execution_count": 74,
=======
   "execution_count": 71,
>>>>>>> 43b96b4dfa7bddb17435e2b2cac05525a713e75a
   "metadata": {},
   "outputs": [],
   "source": [
    "# Remove the dollar sign\n",
    "data_2019['Funding Amount ($)'] = data_2019['Funding Amount ($)'].str.replace('$','').replace(',', '', regex=True)\n",
    "\n",
    "# Cleaning the Funding Amount ($)\n",
    "data_2019['Funding Amount ($)'] = pd.to_numeric(data_2019['Funding Amount ($)'], errors='coerce')"
   ]
  },
  {
   "cell_type": "markdown",
   "metadata": {},
   "source": [
    "Handle Undisclosed Values"
   ]
  },
  {
   "cell_type": "code",
<<<<<<< HEAD
   "execution_count": 75,
=======
   "execution_count": 72,
>>>>>>> 43b96b4dfa7bddb17435e2b2cac05525a713e75a
   "metadata": {},
   "outputs": [],
   "source": [
    "# handling undisclosed\n",
    "data_2019['Funding Amount ($)'] = data_2019['Funding Amount ($)'].replace('Undisclosed', np.nan)"
   ]
  },
  {
   "cell_type": "code",
<<<<<<< HEAD
   "execution_count": 76,
=======
   "execution_count": 73,
>>>>>>> 43b96b4dfa7bddb17435e2b2cac05525a713e75a
   "metadata": {},
   "outputs": [],
   "source": [
    "# Create an instance of the SimpleImputer with the median strategy\n",
    "imputer = SimpleImputer(strategy='median')\n",
    "\n",
    "# Fit the imputer on the 'Year Founded' column and transform the column to impute missing values\n",
    "data_2019['Funding Amount ($)'] = imputer.fit_transform(data_2019[['Funding Amount ($)']])"
   ]
  },
  {
   "cell_type": "markdown",
   "metadata": {},
   "source": [
    "#### Detecting and removing Outliers"
   ]
  },
  {
   "cell_type": "code",
<<<<<<< HEAD
   "execution_count": 77,
=======
   "execution_count": 74,
>>>>>>> 43b96b4dfa7bddb17435e2b2cac05525a713e75a
   "metadata": {},
   "outputs": [
    {
     "data": {
      "text/plain": [
       "count          89.0\n",
       "mean     38297002.2\n",
       "std     103599437.8\n",
       "min        100000.0\n",
       "25%       4000000.0\n",
       "50%       6000000.0\n",
       "75%      26000000.0\n",
       "max     693000000.0\n",
       "Name: Funding Amount ($), dtype: float64"
      ]
     },
<<<<<<< HEAD
     "execution_count": 77,
=======
     "execution_count": 74,
>>>>>>> 43b96b4dfa7bddb17435e2b2cac05525a713e75a
     "metadata": {},
     "output_type": "execute_result"
    }
   ],
   "source": [
    "data_2019['Funding Amount ($)'].describe()"
   ]
  },
  {
   "cell_type": "code",
<<<<<<< HEAD
   "execution_count": 78,
=======
   "execution_count": 75,
>>>>>>> 43b96b4dfa7bddb17435e2b2cac05525a713e75a
   "metadata": {},
   "outputs": [
    {
     "data": {
<<<<<<< HEAD
      "image/png": "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",
=======
      "image/png": "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",
>>>>>>> 43b96b4dfa7bddb17435e2b2cac05525a713e75a
      "text/plain": [
       "<Figure size 576x432 with 1 Axes>"
      ]
     },
     "metadata": {
      "needs_background": "light"
     },
     "output_type": "display_data"
    }
   ],
   "source": [
    "# Box Plot to visualize outliers\n",
    "plt.figure(figsize=(8, 6))\n",
    "sns.boxplot(x=data_2019['Funding Amount ($)'])\n",
    "plt.title('Box Plot - Funding Amount ($)')\n",
    "plt.xlabel('Funding Amount ($)')\n",
    "plt.show()"
   ]
  },
  {
   "cell_type": "markdown",
   "metadata": {},
   "source": [
    "#### Handle Outliers"
   ]
  },
  {
   "cell_type": "code",
<<<<<<< HEAD
   "execution_count": 79,
=======
   "execution_count": 76,
>>>>>>> 43b96b4dfa7bddb17435e2b2cac05525a713e75a
   "metadata": {},
   "outputs": [
    {
     "name": "stdout",
     "output_type": "stream",
     "text": [
      "Number of Outliers: 10\n",
      "\n",
      "Number of Outliers after Handling: 7\n"
     ]
    }
   ],
   "source": [
    "# Detecting outliers:\n",
    "outliers = detect_outliers(data_2019, 'Funding Amount ($)')\n",
    "print(\"Number of Outliers: {}\".format(len(outliers)))\n",
    "print()\n",
    "\n",
    "# removing outliers:\n",
    "data_2019 = data_2019[~data_2019['Funding Amount ($)'].isin(outliers['Funding Amount ($)'])]\n",
    "\n",
    "# Verify if outliers were handled\n",
    "outliers_after_handling = detect_outliers(data_2019, 'Funding Amount ($)')\n",
    "print(\"Number of Outliers after Handling: {}\".format(len(outliers_after_handling)))"
   ]
  },
  {
   "cell_type": "markdown",
   "metadata": {},
   "source": [
    "After handling the outliers"
   ]
  },
  {
   "cell_type": "code",
<<<<<<< HEAD
   "execution_count": 80,
=======
   "execution_count": 77,
>>>>>>> 43b96b4dfa7bddb17435e2b2cac05525a713e75a
   "metadata": {},
   "outputs": [
    {
     "data": {
<<<<<<< HEAD
      "image/png": "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",
=======
      "image/png": "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",
>>>>>>> 43b96b4dfa7bddb17435e2b2cac05525a713e75a
      "text/plain": [
       "<Figure size 576x432 with 1 Axes>"
      ]
     },
     "metadata": {
      "needs_background": "light"
     },
     "output_type": "display_data"
    }
   ],
   "source": [
    "# Box Plot to visualize outliers\n",
    "plt.figure(figsize=(8, 6))\n",
    "sns.boxplot(x=data_2019['Funding Amount ($)'])\n",
    "plt.title('Box Plot - Funding Amount ($)')\n",
    "plt.xlabel('Funding Amount ($)')\n",
    "plt.show()"
   ]
  },
  {
   "cell_type": "code",
<<<<<<< HEAD
   "execution_count": 81,
=======
   "execution_count": 78,
>>>>>>> 43b96b4dfa7bddb17435e2b2cac05525a713e75a
   "metadata": {},
   "outputs": [
    {
     "name": "stdout",
     "output_type": "stream",
     "text": [
      "\n",
      "Number of Outliers reduced to: 7\n",
      "\n"
     ]
    }
   ],
   "source": [
    "# Detecting outliers:\n",
    "outliers = detect_outliers(data_2019, 'Funding Amount ($)')\n",
    "print(\"\\nNumber of Outliers reduced to: {}\".format(len(outliers)))\n",
    "print()"
   ]
  },
  {
   "cell_type": "markdown",
   "metadata": {},
   "source": [
    "#### **Explore Funding Round**"
   ]
  },
  {
   "cell_type": "markdown",
   "metadata": {},
   "source": [
    "Clean Funding Round names"
   ]
  },
  {
   "cell_type": "code",
<<<<<<< HEAD
   "execution_count": 82,
   "metadata": {},
   "outputs": [
    {
     "data": {
      "text/plain": [
       "Series A         10\n",
       "Series B          8\n",
       "Pre series A      8\n",
       "Series C          2\n",
       "Series D          2\n",
       "Seed fund         1\n",
       "Series E          1\n",
       "Post series A     1\n",
       "Seed funding      1\n",
       "Series F          1\n",
       "Series B+         1\n",
       "Seed round        1\n",
       "Pre-series A      1\n",
       "Fresh funding     1\n",
       "Name: Funding Round, dtype: int64"
      ]
     },
     "execution_count": 82,
     "metadata": {},
     "output_type": "execute_result"
    }
   ],
   "source": [
    "data_2019[\"Funding Round\"].value_counts()"
   ]
  },
  {
   "cell_type": "code",
   "execution_count": 83,
=======
   "execution_count": 79,
>>>>>>> 43b96b4dfa7bddb17435e2b2cac05525a713e75a
   "metadata": {},
   "outputs": [],
   "source": [
    "#cleaning Funding round names\n",
    "funding_round_replacement = {\n",
    "    \"Fresh funding\" :\"Seed\",\n",
    "    \"Seed funding\":\"Seed\",\n",
    "    \"Seed fund\" :\"Seed\",\n",
    "    \"Pre series A\": \"Pre-series A\",\n",
    "    \"Series B+\" : \"Series B\",\n",
    "    \"Seed round\" :\"Seed\"}\n",
    "data_2019['Funding Round'] = data_2019['Funding Round'].replace(funding_round_replacement)"
   ]
  },
  {
   "cell_type": "code",
   "execution_count": 84,
   "metadata": {},
   "outputs": [
    {
     "data": {
      "text/plain": [
       "Series A         10\n",
       "Series B          9\n",
       "Pre-series A      9\n",
       "Seed              4\n",
       "Series C          2\n",
       "Series D          2\n",
       "Series E          1\n",
       "Series F          1\n",
       "Post series A     1\n",
       "Name: Funding Round, dtype: int64"
      ]
     },
     "execution_count": 84,
     "metadata": {},
     "output_type": "execute_result"
    }
   ],
   "source": [
    "data_2019[\"Funding Round\"].value_counts()"
   ]
  },
  {
   "cell_type": "markdown",
   "metadata": {},
   "source": [
    "#### Handle missing values"
   ]
  },
  {
   "cell_type": "code",
<<<<<<< HEAD
   "execution_count": 85,
   "metadata": {},
   "outputs": [
    {
     "data": {
      "text/plain": [
       "40"
      ]
     },
     "execution_count": 85,
     "metadata": {},
     "output_type": "execute_result"
    }
   ],
   "source": [
    "# Check missing values\n",
    "check_missing_values(data_2019['Funding Round'])"
   ]
  },
  {
   "cell_type": "markdown",
   "metadata": {},
   "source": [
    "The column contains 46 missing values which will handle by filling them in with 'Unknown' value."
   ]
  },
  {
   "cell_type": "code",
   "execution_count": 86,
=======
   "execution_count": 80,
>>>>>>> 43b96b4dfa7bddb17435e2b2cac05525a713e75a
   "metadata": {},
   "outputs": [],
   "source": [
    "data_2019['Funding Round'] = data_2019['Funding Round'].fillna('Unknown')"
   ]
  },
  {
   "cell_type": "markdown",
   "metadata": {},
   "source": [
    "Preview after Data cleaning"
   ]
  },
  {
   "cell_type": "markdown",
   "metadata": {},
   "source": [
    "check for any missing values in the dataset"
   ]
  },
  {
   "cell_type": "code",
<<<<<<< HEAD
   "execution_count": 87,
=======
   "execution_count": 81,
>>>>>>> 43b96b4dfa7bddb17435e2b2cac05525a713e75a
   "metadata": {},
   "outputs": [
    {
     "name": "stdout",
     "output_type": "stream",
     "text": [
      "\n",
      "\n",
      " No missing values found. Data cleaning is complete\n"
     ]
    },
    {
     "data": {
<<<<<<< HEAD
      "image/png": "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",
=======
      "image/png": "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",
>>>>>>> 43b96b4dfa7bddb17435e2b2cac05525a713e75a
      "text/plain": [
       "<Figure size 432x288 with 2 Axes>"
      ]
     },
     "metadata": {
      "needs_background": "light"
     },
     "output_type": "display_data"
    }
   ],
   "source": [
    "# check for any missing values\n",
    "missing_values = data_2019.isnull().sum()\n",
    "if missing_values.any():\n",
    "    print(\"\\n\\nMissing values still exist in the dataset\")\n",
    "else:\n",
    "    print(\"\\n\\n No missing values found. Data cleaning is complete\")\n",
    "\n",
    "# plot missing values\n",
    "plot_missing_values_heatmap(data_2019)"
   ]
  },
  {
   "cell_type": "markdown",
   "metadata": {},
   "source": [
    "#### Check for Duplicates"
   ]
  },
  {
   "cell_type": "code",
<<<<<<< HEAD
   "execution_count": 88,
=======
   "execution_count": 82,
>>>>>>> 43b96b4dfa7bddb17435e2b2cac05525a713e75a
   "metadata": {},
   "outputs": [
    {
     "name": "stdout",
     "output_type": "stream",
     "text": [
      "\n",
      "\n",
      "No duplicate records found. Data cleaning is complete.\n"
     ]
    }
   ],
   "source": [
    "duplicates = data_2019.duplicated()\n",
    "if duplicates.any():\n",
    "    print(\"\\n\\nDuplicate records still exist in the dataset.\")\n",
    "else:\n",
    "    print(\"\\n\\nNo duplicate records found. Data cleaning is complete.\")\n"
   ]
  },
  {
   "cell_type": "code",
   "execution_count": 89,
   "metadata": {},
   "outputs": [],
   "source": [
    "#Creating a column named 'Year Funded'\n",
    "data2021['Year Funded'] = 2019"
   ]
  },
  {
   "cell_type": "markdown",
   "metadata": {},
   "source": [
    "### 3.2.3  2020 Data"
   ]
  },
  {
   "cell_type": "code",
   "execution_count": 88,
   "metadata": {},
   "outputs": [
    {
     "data": {
      "text/plain": [
       "Index(['Company_Brand', 'Founded', 'HeadQuarter', 'Sector', 'What_it_does',\n",
       "       'Founders', 'Investor', 'Amount', 'Stage', 'column10'],\n",
       "      dtype='object')"
      ]
     },
     "execution_count": 88,
     "metadata": {},
     "output_type": "execute_result"
    }
   ],
   "source": [
    "data2020.columns"
   ]
  },
  {
   "cell_type": "markdown",
   "metadata": {},
   "source": [
    "<h5>Data Exploration. The columns in the data are:</h5>\n",
    "<div>\n",
    "<li style=\"list-style: none;\">\n",
    "<ol>Company_Brand</ol>\n",
    "<ol>Founded</ol>\n",
    "<ol>HeadQuarter</ol>\n",
    "<ol>Sector</ol>\n",
    "<ol>What_it_does</ol>\n",
    "<ol>Founders</ol>\n",
    "<ol>Investor</ol>\n",
    "<ol>Amount</ol>\n",
    "<ol>Stage</ol>\n",
    "<ol>column10</ol>\n",
    "</li>\n",
    "</div>\n"
   ]
  },
  {
   "cell_type": "code",
<<<<<<< HEAD
   "execution_count": 90,
=======
   "execution_count": 83,
>>>>>>> 43b96b4dfa7bddb17435e2b2cac05525a713e75a
   "metadata": {},
   "outputs": [
    {
     "data": {
      "text/plain": [
       "Index(['Company_Brand', 'Founded', 'HeadQuarter', 'Sector', 'What_it_does',\n",
       "       'Founders', 'Investor', 'Amount', 'Stage', 'column10'],\n",
       "      dtype='object')"
      ]
     },
<<<<<<< HEAD
     "execution_count": 90,
=======
     "execution_count": 83,
>>>>>>> 43b96b4dfa7bddb17435e2b2cac05525a713e75a
     "metadata": {},
     "output_type": "execute_result"
    }
   ],
   "source": [
    "#display the columns in the dataframe\n",
    "data2020.columns"
   ]
  },
  {
   "cell_type": "code",
<<<<<<< HEAD
   "execution_count": 91,
=======
   "execution_count": 89,
   "metadata": {},
   "outputs": [
    {
     "data": {
      "text/plain": [
       "Company_Brand     object\n",
       "Founded          float64\n",
       "HeadQuarter       object\n",
       "Sector            object\n",
       "What_it_does      object\n",
       "Founders          object\n",
       "Investor          object\n",
       "Amount           float64\n",
       "Stage             object\n",
       "column10          object\n",
       "dtype: object"
      ]
     },
     "execution_count": 89,
     "metadata": {},
     "output_type": "execute_result"
    }
   ],
   "source": [
    "#display the datatypes in each column\n",
    "data2020.dtypes"
   ]
  },
  {
   "cell_type": "code",
   "execution_count": 90,
>>>>>>> 43b96b4dfa7bddb17435e2b2cac05525a713e75a
   "metadata": {},
   "outputs": [
    {
     "data": {
      "text/plain": [
       "(1055, 10)"
      ]
     },
<<<<<<< HEAD
     "execution_count": 91,
=======
     "execution_count": 90,
>>>>>>> 43b96b4dfa7bddb17435e2b2cac05525a713e75a
     "metadata": {},
     "output_type": "execute_result"
    }
   ],
   "source": [
    "#shape of the data\n",
    "data2020.shape"
   ]
  },
  {
   "cell_type": "markdown",
   "metadata": {},
   "source": [
    "#### Check for duplicates\n"
   ]
  },
  {
   "cell_type": "code",
<<<<<<< HEAD
   "execution_count": 92,
   "metadata": {},
   "outputs": [
    {
     "name": "stdout",
     "output_type": "stream",
     "text": [
      "<class 'pandas.core.frame.DataFrame'>\n",
      "RangeIndex: 1055 entries, 0 to 1054\n",
      "Data columns (total 10 columns):\n",
      " #   Column         Non-Null Count  Dtype  \n",
      "---  ------         --------------  -----  \n",
      " 0   Company_Brand  1055 non-null   object \n",
      " 1   Founded        842 non-null    float64\n",
      " 2   HeadQuarter    961 non-null    object \n",
      " 3   Sector         1042 non-null   object \n",
      " 4   What_it_does   1055 non-null   object \n",
      " 5   Founders       1043 non-null   object \n",
      " 6   Investor       1017 non-null   object \n",
      " 7   Amount         801 non-null    float64\n",
      " 8   Stage          591 non-null    object \n",
      " 9   column10       2 non-null      object \n",
      "dtypes: float64(2), object(8)\n",
      "memory usage: 82.5+ KB\n"
     ]
    }
   ],
   "source": [
    "#display the summary of the data\n",
    "data2020.info()"
=======
   "execution_count": 185,
   "metadata": {},
   "outputs": [
    {
     "data": {
      "text/html": [
       "<div>\n",
       "<style scoped>\n",
       "    .dataframe tbody tr th:only-of-type {\n",
       "        vertical-align: middle;\n",
       "    }\n",
       "\n",
       "    .dataframe tbody tr th {\n",
       "        vertical-align: top;\n",
       "    }\n",
       "\n",
       "    .dataframe thead th {\n",
       "        text-align: right;\n",
       "    }\n",
       "</style>\n",
       "<table border=\"1\" class=\"dataframe\">\n",
       "  <thead>\n",
       "    <tr style=\"text-align: right;\">\n",
       "      <th></th>\n",
       "      <th>Company_Brand</th>\n",
       "      <th>Founded</th>\n",
       "      <th>HeadQuarter</th>\n",
       "      <th>Sector</th>\n",
       "      <th>What_it_does</th>\n",
       "      <th>Founders</th>\n",
       "      <th>Investor</th>\n",
       "      <th>Amount</th>\n",
       "      <th>Stage</th>\n",
       "      <th>column10</th>\n",
       "      <th>global_sector</th>\n",
       "    </tr>\n",
       "  </thead>\n",
       "  <tbody>\n",
       "    <tr>\n",
       "      <th>145</th>\n",
       "      <td>Krimanshi</td>\n",
       "      <td>2015.0</td>\n",
       "      <td>Jodhpur</td>\n",
       "      <td>Biotechnology company</td>\n",
       "      <td>Krimanshi aims to increase rural income by imp...</td>\n",
       "      <td>Nikhil Bohra</td>\n",
       "      <td>Rajasthan Venture Capital Fund, AIM Smart City</td>\n",
       "      <td>600000.0</td>\n",
       "      <td>Seed</td>\n",
       "      <td>Undisclosed</td>\n",
       "      <td>Biotechnology</td>\n",
       "    </tr>\n",
       "    <tr>\n",
       "      <th>205</th>\n",
       "      <td>Nykaa</td>\n",
       "      <td>2012.0</td>\n",
       "      <td>Mumbai</td>\n",
       "      <td>Cosmetics</td>\n",
       "      <td>Nykaa is an online marketplace for different b...</td>\n",
       "      <td>Falguni Nayar</td>\n",
       "      <td>Alia Bhatt, Katrina Kaif</td>\n",
       "      <td>3000000.0</td>\n",
       "      <td>Undisclosed</td>\n",
       "      <td>Undisclosed</td>\n",
       "      <td>Consumer Goods</td>\n",
       "    </tr>\n",
       "    <tr>\n",
       "      <th>362</th>\n",
       "      <td>Byju’s</td>\n",
       "      <td>2011.0</td>\n",
       "      <td>Bangalore</td>\n",
       "      <td>EdTech</td>\n",
       "      <td>An Indian educational technology and online tu...</td>\n",
       "      <td>Byju Raveendran</td>\n",
       "      <td>Owl Ventures, Tiger Global Management</td>\n",
       "      <td>500000000.0</td>\n",
       "      <td>Undisclosed</td>\n",
       "      <td>Undisclosed</td>\n",
       "      <td>Education</td>\n",
       "    </tr>\n",
       "  </tbody>\n",
       "</table>\n",
       "</div>"
      ],
      "text/plain": [
       "    Company_Brand  Founded HeadQuarter                 Sector  \\\n",
       "145     Krimanshi   2015.0     Jodhpur  Biotechnology company   \n",
       "205         Nykaa   2012.0      Mumbai              Cosmetics   \n",
       "362        Byju’s   2011.0   Bangalore                 EdTech   \n",
       "\n",
       "                                          What_it_does         Founders  \\\n",
       "145  Krimanshi aims to increase rural income by imp...     Nikhil Bohra   \n",
       "205  Nykaa is an online marketplace for different b...    Falguni Nayar   \n",
       "362  An Indian educational technology and online tu...  Byju Raveendran   \n",
       "\n",
       "                                           Investor      Amount        Stage  \\\n",
       "145  Rajasthan Venture Capital Fund, AIM Smart City    600000.0         Seed   \n",
       "205                        Alia Bhatt, Katrina Kaif   3000000.0  Undisclosed   \n",
       "362           Owl Ventures, Tiger Global Management 500000000.0  Undisclosed   \n",
       "\n",
       "        column10   global_sector  \n",
       "145  Undisclosed   Biotechnology  \n",
       "205  Undisclosed  Consumer Goods  \n",
       "362  Undisclosed       Education  "
      ]
     },
     "execution_count": 185,
     "metadata": {},
     "output_type": "execute_result"
    }
   ],
   "source": [
    "# Confirm duplicated records\n",
    "\n",
    "data2020.duplicated().sum()\n",
    "data2020[data2020.duplicated()].head()\n",
    "\n",
    "\n"
   ]
  },
  {
   "cell_type": "markdown",
   "metadata": {},
   "source": [
    "#### Since they are uncorrelated we choose to ignore them"
   ]
  },
  {
   "cell_type": "markdown",
   "metadata": {},
   "source": [
    "#### Check for outliers"
   ]
  },
  {
   "cell_type": "code",
   "execution_count": 204,
   "metadata": {},
   "outputs": [],
   "source": [
    "def get_outliers(data, column):\n",
    "    \"\"\"\n",
    "    Function that identifies outliers from the dataframe\n",
    "\n",
    "    Args:\n",
    "        data : pandas dataframe\n",
    "            Contains the data where the outliers are to be found\n",
    "        column : str\n",
    "            Usually a string with the name of the column\n",
    "    \n",
    "    Returns:\n",
    "        None: prints number of outliers \n",
    "    \"\"\"\n",
    "    \n",
    "    # calculate interquartile range\n",
    "    q25, q75 = np.percentile(data2021['Amount'], 25), np.percentile(data2021['Amount'], 75)\n",
    "    iqr = q75 - q25\n",
    "    print('Percentiles: 25th = %.3f, 75th = %.3f, IQR = %.3f' % (q25, q75, iqr))\n",
    "    \n",
    "    # calculate the outlier cutoff\n",
    "    cut_off = iqr * 1.5\n",
    "    lower, upper = q25 - cut_off, q75 + cut_off\n",
    "    \n",
    "    # identify outliers\n",
    "    indx = np.where((data2021['Amount'] < lower) | (data2021['Amount'] > upper))\n",
    "    print('Identified outliers: %d' % len(indx[0]))\n",
    "    \n",
    "  "
   ]
  },
  {
   "cell_type": "code",
   "execution_count": 205,
   "metadata": {},
   "outputs": [
    {
     "name": "stdout",
     "output_type": "stream",
     "text": [
      "Percentiles: 25th = 1000000.000, 75th = 11000000.000, IQR = 10000000.000\n",
      "Identified outliers: 203\n"
     ]
    }
   ],
   "source": [
    "get_outliers(data2020,data2020['Amount'])"
   ]
  },
  {
   "cell_type": "markdown",
   "metadata": {},
   "source": [
    "#### We choose to ignore outliers since they are more than 20%\n"
   ]
  },
  {
   "cell_type": "markdown",
   "metadata": {},
   "source": [
    "####  Overview of each column"
   ]
  },
  {
   "cell_type": "code",
   "execution_count": 91,
   "metadata": {},
   "outputs": [
    {
     "data": {
      "text/plain": [
       "Company_Brand       0\n",
       "Founded           213\n",
       "HeadQuarter        94\n",
       "Sector             13\n",
       "What_it_does        0\n",
       "Founders           12\n",
       "Investor           38\n",
       "Amount            254\n",
       "Stage             464\n",
       "column10         1053\n",
       "dtype: int64"
      ]
     },
     "execution_count": 91,
     "metadata": {},
     "output_type": "execute_result"
    }
   ],
   "source": [
    "#give an overview of each column\n",
    "\n",
    "#Founded\n",
    "data2020['Founded']#represents year founded should be date\n",
    "data2020['column10']\n",
    "\n",
    "#column 10\n",
    "\n",
    "#check if to drop column 10 since it has all null values\n",
    "data2020.isnull().sum()"
   ]
  },
  {
   "cell_type": "markdown",
   "metadata": {},
   "source": [
    "#### Analysing the amount column"
   ]
  },
  {
   "cell_type": "code",
   "execution_count": 92,
   "metadata": {},
   "outputs": [
    {
     "data": {
      "text/plain": [
       "count           801.00\n",
       "mean      113042969.54\n",
       "std      2476634939.89\n",
       "min           12700.00\n",
       "25%         1000000.00\n",
       "50%         3000000.00\n",
       "75%        11000000.00\n",
       "max     70000000000.00\n",
       "Name: Amount, dtype: float64"
      ]
     },
     "execution_count": 92,
     "metadata": {},
     "output_type": "execute_result"
    }
   ],
   "source": [
    "#amount column \n",
    "# Use describe() function\n",
    "summary=data2020['Amount'].dropna().describe()\n",
    "# Set the option to display large numbers without scientific notation\n",
    "pd.set_option('display.float_format', '{:.2f}'.format)\n",
    "\n",
    "# Print the summary\n",
    "summary\n",
    "\n"
>>>>>>> 43b96b4dfa7bddb17435e2b2cac05525a713e75a
   ]
  },
  {
   "cell_type": "markdown",
   "metadata": {},
   "source": [
<<<<<<< HEAD
    "From the summary above:\n",
    "* All columns are string data type except ```Founded``` and ```Amount```\n",
    "* All columns contain missing values except for ```Company Name``` and ```What_it_does```"
=======
    "#### Print statistics to investigate the Founded column"
>>>>>>> 43b96b4dfa7bddb17435e2b2cac05525a713e75a
   ]
  },
  {
   "cell_type": "code",
   "execution_count": 93,
   "metadata": {},
   "outputs": [
    {
     "data": {
      "text/plain": [
       "0       None\n",
       "1       None\n",
       "2       None\n",
       "3       None\n",
       "4       None\n",
       "        ... \n",
       "1050    None\n",
       "1051    None\n",
       "1052    None\n",
       "1053    None\n",
       "1054    None\n",
       "Name: column10, Length: 1055, dtype: object"
      ]
     },
     "execution_count": 93,
     "metadata": {},
     "output_type": "execute_result"
    }
   ],
   "source": [
    "#Overview of column 10\n",
    "data2020['column10']"
   ]
  },
  {
   "cell_type": "code",
   "execution_count": 94,
   "metadata": {},
   "outputs": [
    {
     "data": {
      "text/plain": [
       "0      2019.0\n",
       "1      2019.0\n",
       "2      2018.0\n",
       "3      2020.0\n",
       "4      2016.0\n",
       "        ...  \n",
       "1050      nan\n",
       "1051      nan\n",
       "1052   2012.0\n",
       "1053   2015.0\n",
       "1054   2017.0\n",
       "Name: Founded, Length: 1055, dtype: float64"
      ]
     },
     "execution_count": 94,
     "metadata": {},
     "output_type": "execute_result"
    }
   ],
   "source": [
    "#Overview of column 10\n",
    "data2020['Founded']"
   ]
  },
  {
   "cell_type": "markdown",
   "metadata": {},
   "source": [
    "#### Dealing with duplicates"
   ]
  },
  {
   "cell_type": "code",
   "execution_count": 95,
   "metadata": {},
   "outputs": [
    {
     "data": {
      "text/plain": [
       "False    1052\n",
       "True        3\n",
       "dtype: int64"
      ]
     },
     "execution_count": 95,
     "metadata": {},
     "output_type": "execute_result"
    }
   ],
   "source": [
    "data2020.duplicated().value_counts()"
   ]
  },
  {
   "cell_type": "markdown",
   "metadata": {},
   "source": [
    "The 2020 data contains 3 duplicates which will later drop"
   ]
  },
  {
   "cell_type": "code",
   "execution_count": 96,
   "metadata": {},
   "outputs": [
    {
     "data": {
      "text/html": [
       "<div>\n",
       "<style scoped>\n",
       "    .dataframe tbody tr th:only-of-type {\n",
       "        vertical-align: middle;\n",
       "    }\n",
       "\n",
       "    .dataframe tbody tr th {\n",
       "        vertical-align: top;\n",
       "    }\n",
       "\n",
       "    .dataframe thead th {\n",
       "        text-align: right;\n",
       "    }\n",
       "</style>\n",
       "<table border=\"1\" class=\"dataframe\">\n",
       "  <thead>\n",
       "    <tr style=\"text-align: right;\">\n",
       "      <th></th>\n",
       "      <th>Company_Brand</th>\n",
       "      <th>Founded</th>\n",
       "      <th>HeadQuarter</th>\n",
       "      <th>Sector</th>\n",
       "      <th>What_it_does</th>\n",
       "      <th>Founders</th>\n",
       "      <th>Investor</th>\n",
       "      <th>Amount</th>\n",
       "      <th>Stage</th>\n",
       "      <th>column10</th>\n",
       "    </tr>\n",
       "  </thead>\n",
       "  <tbody>\n",
       "    <tr>\n",
       "      <th>120</th>\n",
       "      <td>Nykaa</td>\n",
       "      <td>2012.0</td>\n",
       "      <td>Mumbai</td>\n",
       "      <td>Cosmetics</td>\n",
       "      <td>Nykaa is an online marketplace for different b...</td>\n",
       "      <td>Falguni Nayar</td>\n",
       "      <td>Alia Bhatt, Katrina Kaif</td>\n",
       "      <td>nan</td>\n",
       "      <td>None</td>\n",
       "      <td>None</td>\n",
       "    </tr>\n",
       "    <tr>\n",
       "      <th>129</th>\n",
       "      <td>Krimanshi</td>\n",
       "      <td>2015.0</td>\n",
       "      <td>Jodhpur</td>\n",
       "      <td>Biotechnology company</td>\n",
       "      <td>Krimanshi aims to increase rural income by imp...</td>\n",
       "      <td>Nikhil Bohra</td>\n",
       "      <td>Rajasthan Venture Capital Fund, AIM Smart City</td>\n",
       "      <td>600000.0</td>\n",
       "      <td>Seed</td>\n",
       "      <td>None</td>\n",
       "    </tr>\n",
       "    <tr>\n",
       "      <th>145</th>\n",
       "      <td>Krimanshi</td>\n",
       "      <td>2015.0</td>\n",
       "      <td>Jodhpur</td>\n",
       "      <td>Biotechnology company</td>\n",
       "      <td>Krimanshi aims to increase rural income by imp...</td>\n",
       "      <td>Nikhil Bohra</td>\n",
       "      <td>Rajasthan Venture Capital Fund, AIM Smart City</td>\n",
       "      <td>600000.0</td>\n",
       "      <td>Seed</td>\n",
       "      <td>None</td>\n",
       "    </tr>\n",
       "    <tr>\n",
       "      <th>205</th>\n",
       "      <td>Nykaa</td>\n",
       "      <td>2012.0</td>\n",
       "      <td>Mumbai</td>\n",
       "      <td>Cosmetics</td>\n",
       "      <td>Nykaa is an online marketplace for different b...</td>\n",
       "      <td>Falguni Nayar</td>\n",
       "      <td>Alia Bhatt, Katrina Kaif</td>\n",
       "      <td>nan</td>\n",
       "      <td>None</td>\n",
       "      <td>None</td>\n",
       "    </tr>\n",
       "    <tr>\n",
       "      <th>326</th>\n",
       "      <td>Byju’s</td>\n",
       "      <td>2011.0</td>\n",
       "      <td>Bangalore</td>\n",
       "      <td>EdTech</td>\n",
       "      <td>An Indian educational technology and online tu...</td>\n",
       "      <td>Byju Raveendran</td>\n",
       "      <td>Owl Ventures, Tiger Global Management</td>\n",
       "      <td>500000000.0</td>\n",
       "      <td>None</td>\n",
       "      <td>None</td>\n",
       "    </tr>\n",
       "    <tr>\n",
       "      <th>362</th>\n",
       "      <td>Byju’s</td>\n",
       "      <td>2011.0</td>\n",
       "      <td>Bangalore</td>\n",
       "      <td>EdTech</td>\n",
       "      <td>An Indian educational technology and online tu...</td>\n",
       "      <td>Byju Raveendran</td>\n",
       "      <td>Owl Ventures, Tiger Global Management</td>\n",
       "      <td>500000000.0</td>\n",
       "      <td>None</td>\n",
       "      <td>None</td>\n",
       "    </tr>\n",
       "  </tbody>\n",
       "</table>\n",
       "</div>"
      ],
      "text/plain": [
       "    Company_Brand  Founded HeadQuarter                 Sector  \\\n",
       "120         Nykaa   2012.0      Mumbai              Cosmetics   \n",
       "129     Krimanshi   2015.0     Jodhpur  Biotechnology company   \n",
       "145     Krimanshi   2015.0     Jodhpur  Biotechnology company   \n",
       "205         Nykaa   2012.0      Mumbai              Cosmetics   \n",
       "326        Byju’s   2011.0   Bangalore                 EdTech   \n",
       "362        Byju’s   2011.0   Bangalore                 EdTech   \n",
       "\n",
       "                                          What_it_does         Founders  \\\n",
       "120  Nykaa is an online marketplace for different b...    Falguni Nayar   \n",
       "129  Krimanshi aims to increase rural income by imp...     Nikhil Bohra   \n",
       "145  Krimanshi aims to increase rural income by imp...     Nikhil Bohra   \n",
       "205  Nykaa is an online marketplace for different b...    Falguni Nayar   \n",
       "326  An Indian educational technology and online tu...  Byju Raveendran   \n",
       "362  An Indian educational technology and online tu...  Byju Raveendran   \n",
       "\n",
       "                                           Investor      Amount Stage column10  \n",
       "120                        Alia Bhatt, Katrina Kaif         nan  None     None  \n",
       "129  Rajasthan Venture Capital Fund, AIM Smart City    600000.0  Seed     None  \n",
       "145  Rajasthan Venture Capital Fund, AIM Smart City    600000.0  Seed     None  \n",
       "205                        Alia Bhatt, Katrina Kaif         nan  None     None  \n",
       "326           Owl Ventures, Tiger Global Management 500000000.0  None     None  \n",
       "362           Owl Ventures, Tiger Global Management 500000000.0  None     None  "
      ]
     },
     "execution_count": 96,
     "metadata": {},
     "output_type": "execute_result"
    }
   ],
   "source": [
    "#print out all the duplicates next to each other\n",
    "data2020[data2020.duplicated(keep=False)]"
   ]
  },
  {
   "cell_type": "code",
   "execution_count": 97,
   "metadata": {},
   "outputs": [],
   "source": [
    "#Drop the duplicate\n",
    "data2020=data2020.drop_duplicates()"
   ]
  },
  {
   "cell_type": "code",
   "execution_count": 98,
   "metadata": {},
   "outputs": [
    {
     "data": {
      "text/plain": [
       "False    1052\n",
       "dtype: int64"
      ]
     },
     "execution_count": 98,
     "metadata": {},
     "output_type": "execute_result"
    }
   ],
   "source": [
    "#Confirming the duplicates are dealt with\n",
    "data2020.duplicated().value_counts()"
   ]
  },
  {
   "cell_type": "markdown",
   "metadata": {},
   "source": [
    "\n",
    "\n",
    "<h3>Decisions made:</h3>\n",
    "\n",
    "* Change the ```Founded``` column to numerical data type.\n",
    "* Drop ```column 10``` \n",
    "* Handle missing values\n",
    "\n",
    "\n",
    "\n",
    "\n",
    "\n",
    "\n",
    "\n"
   ]
  },
  {
   "cell_type": "markdown",
   "metadata": {},
   "source": [
    "<span>\n",
    "\n",
    "<h4>Decisions made:</h4>\n",
    "<!-- <span style=\"color:orange\"> -->\n",
    "<li style=\"list-style: none; font-type: italics;\">\n",
    "<ol> Change the <span style=\"color:orange\">Founded</span> to <span style=\"color:orange\">year</span> in date type </ol>\n",
    "<ol> Drop <span style=\"color:orange\">column 10</span> </ol>\n",
    "<ol> Replace missing numerical columns with values with mean value </ol>\n",
    "<ol>Convert <span style=\"color:orange\">Founded</span> to date </ol>\n",
    "</li>\n",
    "\n",
    "</span>\n",
    "\n",
    "\n",
    "\n",
    "\n",
    "\n"
   ]
  },
  {
   "cell_type": "markdown",
   "metadata": {},
   "source": [
    "#### Drop the column 10 column since it doesnt potray any data related to the dataset"
   ]
  },
  {
   "cell_type": "code",
   "execution_count": 99,
   "metadata": {},
   "outputs": [
    {
     "data": {
      "text/html": [
       "<div>\n",
       "<style scoped>\n",
       "    .dataframe tbody tr th:only-of-type {\n",
       "        vertical-align: middle;\n",
       "    }\n",
       "\n",
       "    .dataframe tbody tr th {\n",
       "        vertical-align: top;\n",
       "    }\n",
       "\n",
       "    .dataframe thead th {\n",
       "        text-align: right;\n",
       "    }\n",
       "</style>\n",
       "<table border=\"1\" class=\"dataframe\">\n",
       "  <thead>\n",
       "    <tr style=\"text-align: right;\">\n",
       "      <th></th>\n",
       "      <th>Company_Brand</th>\n",
       "      <th>Founded</th>\n",
       "      <th>HeadQuarter</th>\n",
       "      <th>Sector</th>\n",
       "      <th>What_it_does</th>\n",
       "      <th>Founders</th>\n",
       "      <th>Investor</th>\n",
       "      <th>Amount</th>\n",
       "      <th>Stage</th>\n",
       "    </tr>\n",
       "  </thead>\n",
       "  <tbody>\n",
       "    <tr>\n",
       "      <th>0</th>\n",
       "      <td>Aqgromalin</td>\n",
       "      <td>2019.0</td>\n",
       "      <td>Chennai</td>\n",
       "      <td>AgriTech</td>\n",
       "      <td>Cultivating Ideas for Profit</td>\n",
       "      <td>Prasanna Manogaran, Bharani C L</td>\n",
       "      <td>Angel investors</td>\n",
       "      <td>200000.0</td>\n",
       "      <td>None</td>\n",
       "    </tr>\n",
       "    <tr>\n",
       "      <th>1</th>\n",
       "      <td>Krayonnz</td>\n",
       "      <td>2019.0</td>\n",
       "      <td>Bangalore</td>\n",
       "      <td>EdTech</td>\n",
       "      <td>An academy-guardian-scholar centric ecosystem ...</td>\n",
       "      <td>Saurabh Dixit, Gurudutt Upadhyay</td>\n",
       "      <td>GSF Accelerator</td>\n",
       "      <td>100000.0</td>\n",
       "      <td>Pre-seed</td>\n",
       "    </tr>\n",
       "    <tr>\n",
       "      <th>2</th>\n",
       "      <td>PadCare Labs</td>\n",
       "      <td>2018.0</td>\n",
       "      <td>Pune</td>\n",
       "      <td>Hygiene management</td>\n",
       "      <td>Converting bio-hazardous waste to harmless waste</td>\n",
       "      <td>Ajinkya Dhariya</td>\n",
       "      <td>Venture Center</td>\n",
       "      <td>nan</td>\n",
       "      <td>Pre-seed</td>\n",
       "    </tr>\n",
       "    <tr>\n",
       "      <th>3</th>\n",
       "      <td>NCOME</td>\n",
       "      <td>2020.0</td>\n",
       "      <td>New Delhi</td>\n",
       "      <td>Escrow</td>\n",
       "      <td>Escrow-as-a-service platform</td>\n",
       "      <td>Ritesh Tiwari</td>\n",
       "      <td>Venture Catalysts, PointOne Capital</td>\n",
       "      <td>400000.0</td>\n",
       "      <td>None</td>\n",
       "    </tr>\n",
       "    <tr>\n",
       "      <th>4</th>\n",
       "      <td>Gramophone</td>\n",
       "      <td>2016.0</td>\n",
       "      <td>Indore</td>\n",
       "      <td>AgriTech</td>\n",
       "      <td>Gramophone is an AgTech platform enabling acce...</td>\n",
       "      <td>Ashish Rajan Singh, Harshit Gupta, Nishant Mah...</td>\n",
       "      <td>Siana Capital Management, Info Edge</td>\n",
       "      <td>340000.0</td>\n",
       "      <td>None</td>\n",
       "    </tr>\n",
       "  </tbody>\n",
       "</table>\n",
       "</div>"
      ],
      "text/plain": [
       "  Company_Brand  Founded HeadQuarter              Sector  \\\n",
       "0    Aqgromalin   2019.0     Chennai            AgriTech   \n",
       "1      Krayonnz   2019.0   Bangalore              EdTech   \n",
       "2  PadCare Labs   2018.0        Pune  Hygiene management   \n",
       "3         NCOME   2020.0   New Delhi              Escrow   \n",
       "4    Gramophone   2016.0      Indore            AgriTech   \n",
       "\n",
       "                                        What_it_does  \\\n",
       "0                       Cultivating Ideas for Profit   \n",
       "1  An academy-guardian-scholar centric ecosystem ...   \n",
       "2   Converting bio-hazardous waste to harmless waste   \n",
       "3                       Escrow-as-a-service platform   \n",
       "4  Gramophone is an AgTech platform enabling acce...   \n",
       "\n",
       "                                            Founders  \\\n",
       "0                    Prasanna Manogaran, Bharani C L   \n",
       "1                   Saurabh Dixit, Gurudutt Upadhyay   \n",
       "2                                    Ajinkya Dhariya   \n",
       "3                                      Ritesh Tiwari   \n",
       "4  Ashish Rajan Singh, Harshit Gupta, Nishant Mah...   \n",
       "\n",
       "                              Investor   Amount     Stage  \n",
       "0                      Angel investors 200000.0      None  \n",
       "1                      GSF Accelerator 100000.0  Pre-seed  \n",
       "2                       Venture Center      nan  Pre-seed  \n",
       "3  Venture Catalysts, PointOne Capital 400000.0      None  \n",
       "4  Siana Capital Management, Info Edge 340000.0      None  "
      ]
     },
     "execution_count": 99,
     "metadata": {},
     "output_type": "execute_result"
    }
   ],
   "source": [
    "#drop the column named column 10\n",
    "# Assuming data2020 is your DataFrame and 'column_name' is the column you want to drop\n",
    "data2020=data2020.drop(['column10'],axis=1)\n",
    "data2020.head()\n"
   ]
  },
  {
   "cell_type": "markdown",
   "metadata": {},
   "source": [
    "#### The most recurring year in founded column"
   ]
  },
  {
   "cell_type": "code",
<<<<<<< HEAD
   "execution_count": 100,
   "metadata": {},
   "outputs": [
    {
     "name": "stdout",
     "output_type": "stream",
     "text": [
      "<class 'pandas.core.frame.DataFrame'>\n",
      "Int64Index: 1052 entries, 0 to 1054\n",
      "Data columns (total 9 columns):\n",
      " #   Column         Non-Null Count  Dtype  \n",
      "---  ------         --------------  -----  \n",
      " 0   Company_Brand  1052 non-null   object \n",
      " 1   Founded        839 non-null    float64\n",
      " 2   HeadQuarter    958 non-null    object \n",
      " 3   Sector         1039 non-null   object \n",
      " 4   What_it_does   1052 non-null   object \n",
      " 5   Founders       1040 non-null   object \n",
      " 6   Investor       1014 non-null   object \n",
      " 7   Amount         799 non-null    float64\n",
      " 8   Stage          590 non-null    object \n",
      "dtypes: float64(2), object(7)\n",
      "memory usage: 82.2+ KB\n"
     ]
    }
   ],
   "source": [
    "data2020.info()"
   ]
  },
  {
   "cell_type": "markdown",
   "metadata": {},
   "source": [
    "#### Handling missing values"
   ]
  },
  {
   "cell_type": "code",
   "execution_count": 101,
=======
   "execution_count": 93,
>>>>>>> 43b96b4dfa7bddb17435e2b2cac05525a713e75a
   "metadata": {},
   "outputs": [
    {
     "data": {
      "text/plain": [
       "Company_Brand      0\n",
       "Founded          213\n",
       "HeadQuarter       94\n",
       "Sector            13\n",
       "What_it_does       0\n",
       "Founders          12\n",
       "Investor          38\n",
       "Amount           253\n",
       "Stage            462\n",
       "dtype: int64"
      ]
     },
<<<<<<< HEAD
     "execution_count": 101,
=======
     "execution_count": 93,
>>>>>>> 43b96b4dfa7bddb17435e2b2cac05525a713e75a
     "metadata": {},
     "output_type": "execute_result"
    }
   ],
   "source": [
    "#Checking missing values\n",
    "data2020.isnull().sum()"
   ]
  },
  {
   "cell_type": "markdown",
   "metadata": {},
   "source": [
    "#### Using simple imputer to replace missing values in founded column using most frequent value and median value for amount column"
   ]
  },
  {
   "cell_type": "code",
<<<<<<< HEAD
   "execution_count": 102,
=======
   "execution_count": 94,
   "metadata": {},
   "outputs": [],
   "source": [
    "#Imputing missing values in the amount column using simple imputer method\n",
    "\n",
    "array= data2020[\"Amount\"].values.reshape(-1,1)\n",
    "\n",
    "imputer=SimpleImputer(strategy=\"median\")\n",
    "\n",
    "\n",
    "\n",
    "\n",
    "data2020[\"Amount\"]=imputer.fit_transform(array)\n",
    "#data2020"
   ]
  },
  {
   "cell_type": "code",
   "execution_count": 95,
>>>>>>> 43b96b4dfa7bddb17435e2b2cac05525a713e75a
   "metadata": {},
   "outputs": [],
   "source": [
    "#Imputing missing values in the Founded column using simple imputer method with most frequest value\n",
    "array= data2020[\"Founded\"].values.reshape(-1,1)\n",
    "imputer=SimpleImputer(strategy=\"most_frequent\")\n",
    "\n",
    "data2020[\"Founded\"]=imputer.fit_transform(array)\n",
    "\n"
   ]
  },
  {
   "cell_type": "code",
<<<<<<< HEAD
   "execution_count": 103,
   "metadata": {},
   "outputs": [
    {
     "data": {
      "text/plain": [
       "count           799.0\n",
       "mean      112699397.5\n",
       "std      2479695497.0\n",
       "min           12700.0\n",
       "25%         1000000.0\n",
       "50%         3000000.0\n",
       "75%        11000000.0\n",
       "max     70000000000.0\n",
       "Name: Amount, dtype: float64"
      ]
     },
     "execution_count": 103,
     "metadata": {},
     "output_type": "execute_result"
    }
   ],
   "source": [
    "#Statistical summary for Amount column\n",
    "data2020[\"Amount\"].describe()"
   ]
  },
  {
   "cell_type": "markdown",
   "metadata": {},
   "source": [
    "For the ```Amount``` column the missing values will be replaced using the median since it is less sensitive to outliers than the mean."
   ]
  },
  {
   "cell_type": "code",
   "execution_count": 104,
   "metadata": {},
   "outputs": [],
   "source": [
    "#Imputing missing values in the amount column using simple imputer method\n",
    "array= data2020[\"Amount\"].values.reshape(-1,1)\n",
    "imputer=SimpleImputer(strategy=\"median\")\n",
    "\n",
    "data2020[\"Amount\"]=imputer.fit_transform(array)\n"
   ]
  },
  {
   "cell_type": "code",
   "execution_count": 105,
=======
   "execution_count": 99,
>>>>>>> 43b96b4dfa7bddb17435e2b2cac05525a713e75a
   "metadata": {},
   "outputs": [
    {
     "data": {
      "text/plain": [
<<<<<<< HEAD
       "Company_Brand      0\n",
       "Founded            0\n",
       "HeadQuarter       94\n",
       "Sector            13\n",
       "What_it_does       0\n",
       "Founders          12\n",
       "Investor          38\n",
       "Amount             0\n",
       "Stage            462\n",
       "dtype: int64"
      ]
     },
     "execution_count": 105,
=======
       "Company_Brand       0\n",
       "Founded             0\n",
       "HeadQuarter        94\n",
       "Sector             13\n",
       "What_it_does        0\n",
       "Founders           12\n",
       "Investor           38\n",
       "Amount              0\n",
       "Stage             464\n",
       "column10         1053\n",
       "dtype: int64"
      ]
     },
     "execution_count": 99,
>>>>>>> 43b96b4dfa7bddb17435e2b2cac05525a713e75a
     "metadata": {},
     "output_type": "execute_result"
    }
   ],
   "source": [
    "#Confirming the missing values are dealt with for the Amount and Founded column\n",
    "data2020.isnull().sum()"
   ]
  },
  {
   "cell_type": "markdown",
   "metadata": {},
   "source": [
<<<<<<< HEAD
    "Given the other columns with missing values are catergorical, they will be replaced using \"Undisclosed\" value."
=======
    "#### Describing the stage column"
>>>>>>> 43b96b4dfa7bddb17435e2b2cac05525a713e75a
   ]
  },
  {
   "cell_type": "code",
<<<<<<< HEAD
   "execution_count": 106,
=======
   "execution_count": 103,
>>>>>>> 43b96b4dfa7bddb17435e2b2cac05525a713e75a
   "metadata": {},
   "outputs": [
    {
     "data": {
      "text/plain": [
<<<<<<< HEAD
       "Company_Brand    0\n",
       "Founded          0\n",
       "HeadQuarter      0\n",
       "Sector           0\n",
       "What_it_does     0\n",
       "Founders         0\n",
       "Investor         0\n",
       "Amount           0\n",
       "Stage            0\n",
       "dtype: int64"
      ]
     },
     "execution_count": 106,
=======
       "<bound method IndexOpsMixin.value_counts of 0           None\n",
       "1       Pre-seed\n",
       "2       Pre-seed\n",
       "3           None\n",
       "4           None\n",
       "          ...   \n",
       "1050        None\n",
       "1051        Seed\n",
       "1052        None\n",
       "1053    Series C\n",
       "1054    Series A\n",
       "Name: Stage, Length: 1055, dtype: object>"
      ]
     },
     "execution_count": 103,
>>>>>>> 43b96b4dfa7bddb17435e2b2cac05525a713e75a
     "metadata": {},
     "output_type": "execute_result"
    }
   ],
   "source": [
<<<<<<< HEAD
    "data2020=data2020.fillna(\"Undisclosed\")\n",
    "data2020.isnull().sum()"
   ]
  },
  {
   "cell_type": "markdown",
   "metadata": {},
   "source": [
    "#### Data uniformity\n",
    "There some values in the ```Stage``` column which have different casing therefore all the values will be made consistent and uniform.\n"
=======
    "data2020['Stage'].value_counts"
>>>>>>> 43b96b4dfa7bddb17435e2b2cac05525a713e75a
   ]
  },
  {
   "cell_type": "code",
<<<<<<< HEAD
   "execution_count": 107,
   "metadata": {},
   "outputs": [
    {
     "data": {
      "text/plain": [
       "Undisclosed              462\n",
       "Series A                  96\n",
       "Seed                      79\n",
       "Seed Round                69\n",
       "Series B                  57\n",
       "Pre series A              54\n",
       "Pre-series A              53\n",
       "Series C                  50\n",
       "Series D                  22\n",
       "Debt                      18\n",
       "Pre Series A              12\n",
       "Pre-seed                  11\n",
       "Seed round                 9\n",
       "Series E                   6\n",
       "Bridge                     6\n",
       "Angel Round                4\n",
       "Series F                   4\n",
       "Pre-series B               4\n",
       "Pre seed round             4\n",
       "Pre-Seed                   2\n",
       "Pre-seed Round             2\n",
       "Seed Funding               2\n",
       "Seed funding               2\n",
       "Pre-Series B               2\n",
       "Pre-series C               2\n",
       "Pre series B               2\n",
       "Series B2                  2\n",
       "Series H                   1\n",
       "Seed A                     1\n",
       "Mid series                 1\n",
       "Pre series C               1\n",
       "Pre-series                 1\n",
       "Series E2                  1\n",
       "Seed Round & Series A      1\n",
       "Pre- series A              1\n",
       "Series C, D                1\n",
       "Edge                       1\n",
       "Series D1                  1\n",
       "Pre seed Round             1\n",
       "Series A-1                 1\n",
       "Seed Investment            1\n",
       "Bridge Round               1\n",
       "Pre series A1              1\n",
       "Name: Stage, dtype: int64"
      ]
     },
     "execution_count": 107,
     "metadata": {},
     "output_type": "execute_result"
    }
   ],
   "source": [
    "#Overview of the Stage column\n",
    "data2020[\"Stage\"].value_counts()"
   ]
  },
  {
   "cell_type": "code",
   "execution_count": 108,
=======
   "execution_count": 104,
>>>>>>> 43b96b4dfa7bddb17435e2b2cac05525a713e75a
   "metadata": {},
   "outputs": [],
   "source": [
    "#Handling the inconsistent values \n",
    "data2020.replace({\"Stage\": {\"Seed Round\" : \"Seed\",\n",
    "                            \"Pre series A\": \"Pre-series A\",\n",
    "                            \"Pre Series A\" : \"Pre-series A\" ,\n",
    "                            \"Seed round\" :   \"Seed\",\n",
    "                            \"Pre seed round\" :\"Pre-seed\",\n",
    "                            \"Series B2\" :    \"Series B\",\n",
    "                            \"Pre series B\" : \"Pre-series B\",\n",
    "                            \"Seed Funding\" : \"Seed\",\n",
    "                            \"Pre-Series B\" : \"Pre-series B\",\n",
    "                            \"Pre-Seed\"  :    \"Pre-seed\",\n",
    "                            \"Seed funding\" : \"Seed\",\n",
    "                            \"Pre-seed Round\" :\"Pre-seed\",\n",
    "                            \"Series E2\" :     \"Series E\",\n",
    "                            \"Pre series A1\" : \"Pre-series A\",\n",
    "                            \"Series D1\" :     \"Series\",\n",
    "                            \"Pre seed Round\" :\"Pre-seed\",\n",
    "                            \"Pre series C\"  : \"Pre-Series C\",\n",
    "                            \"Bridge Round\" :  \"Bridge\",\n",
    "                            \"Series A-1\" :    \"Series\",\n",
    "                            \"Pre- series A\":  \"Pre-series A\",\n",
    "                            \"Seed Investment\" :\"Seed\"}},inplace =True)"
   ]
  },
  {
   "cell_type": "code",
<<<<<<< HEAD
   "execution_count": 109,
   "metadata": {},
   "outputs": [
    {
     "data": {
      "text/plain": [
       "Undisclosed              462\n",
       "Seed                     162\n",
       "Pre-series A             121\n",
       "Series A                  96\n",
       "Series B                  59\n",
       "Series C                  50\n",
       "Series D                  22\n",
       "Pre-seed                  20\n",
       "Debt                      18\n",
       "Pre-series B               8\n",
       "Series E                   7\n",
       "Bridge                     7\n",
       "Series F                   4\n",
       "Angel Round                4\n",
       "Pre-series C               2\n",
       "Series                     2\n",
       "Edge                       1\n",
       "Pre-series                 1\n",
       "Series C, D                1\n",
       "Pre-Series C               1\n",
       "Seed A                     1\n",
       "Series H                   1\n",
       "Mid series                 1\n",
       "Seed Round & Series A      1\n",
       "Name: Stage, dtype: int64"
      ]
     },
     "execution_count": 109,
     "metadata": {},
     "output_type": "execute_result"
    }
   ],
   "source": [
    "#Confirming data uniformity\n",
    "data2020[\"Stage\"].value_counts()"
   ]
  },
  {
   "cell_type": "markdown",
   "metadata": {},
   "source": [
    "In the ```HeadQuarter``` column,there were locations outside India yet our analysis focuses on India .Therefore , the locations will be named outside India."
   ]
  },
  {
   "cell_type": "code",
   "execution_count": 110,
=======
   "execution_count": 105,
>>>>>>> 43b96b4dfa7bddb17435e2b2cac05525a713e75a
   "metadata": {},
   "outputs": [],
   "source": [
    "data2020.loc[data2020['HeadQuarter'] == 'San Francisco, California, United States', 'HeadQuater'] = 'Outside India'\n",
    "\n",
    "data2020.loc[data2020['HeadQuarter'] == 'London, England, United Kingdom', 'HeadQuater'] = 'Outside India'\n",
    "\n",
    "data2020.loc[data2020['HeadQuarter'] == 'San Francisco Bay Area, Silicon Valley, West Coast', 'HeadQuater'] = 'Outside India'\n",
    "\n",
    "data2020.loc[data2020['HeadQuarter'] == 'New York, United States', 'HeadQuater'] = 'Outside India'\n",
    "\n",
    "data2020.loc[data2020['HeadQuarter'] == 'San Francisco, United States', 'HeadQuater'] = 'Outside India'\n",
    "\n",
    "data2020.loc[data2020['HeadQuarter'] == 'Tirunelveli, Tamilnadu', 'HeadQuarter'] = 'Chennai'\n",
    "\n",
    "data2020.loc[data2020['HeadQuarter'] == 'Tangerang, Jawa Barat, Indonesia', 'HeadQuater'] = 'Outside India'\n",
    "\n",
    "data2020.loc[data2020['HeadQuarter'] == 'San Ramon, California ', 'HeadQuater'] = 'Outside India'\n",
    "\n",
    "data2020.loc[data2020['HeadQuarter'] == 'Frisco, Texas, United States ', 'HeadQuater'] = 'Outside India'\n",
    "\n",
    "data2020.loc[data2020['HeadQuarter'] == 'Paris, Ile-de-France, France', 'HeadQuater'] = 'Outside India'\n",
    "\n",
    "data2020.loc[data2020['HeadQuarter'] == 'Plano, Texas, United States', 'HeadQuater'] = 'Outside India'\n",
    "\n",
    "data2020.loc[data2020['HeadQuarter'] == 'Palmwoods, Queensland, Australia', 'HeadQuater'] = 'Outside India'\n",
    "\n",
    "data2020.loc[data2020['HeadQuarter'] == 'France', 'HeadQuater'] = 'Outside India'\n",
    "\n",
    "data2020.loc[data2020['HeadQuarter'] == 'San Ramon, California', 'HeadQuater'] = 'Outside India'\n",
    "\n",
    "data2020.loc[data2020['HeadQuarter'] == 'San Francisco Bay Area, West Coast, Western US', 'HeadQuater'] = 'Outside India'\n",
    "\n",
    "data2020.loc[data2020['HeadQuarter'] == 'Trivandrum, Kerala, India', 'HeadQuater'] = 'Trivandrum'\n",
    "\n",
    "data2020.loc[data2020['HeadQuarter'] == 'Samastipur, Bihar', 'HeadQuater'] = 'Samastipur'\n",
    "\n",
    "data2020.loc[data2020['HeadQuarter'] == 'Irvine, California, United States', 'HeadQuater'] = 'Outside India'\n",
    "\n",
    "data2020.loc[data2020['HeadQuarter'] == 'Tumkur, Karnataka', 'HeadQuater'] = 'Tumkur'\n",
    "\n",
    "data2020.loc[data2020['HeadQuarter'] == 'Newcastle Upon Tyne, Newcastle upon Tyne, United Kingdom', 'HeadQuater'] = 'Outside India'\n",
    "\n",
    "data2020.loc[data2020['HeadQuarter'] == 'Shanghai, China', 'HeadQuater'] = 'Outside India'\n",
    "\n",
    "data2020.loc[data2020['HeadQuarter'] == 'Jiaxing, Zhejiang, China', 'HeadQuater'] = 'Outside India'\n",
    "\n",
    "data2020.loc[data2020['HeadQuarter'] == 'Sydney, New South Wales, Australia', 'HeadQuater'] = 'Outside India'"
   ]
  },
  {
   "cell_type": "markdown",
   "metadata": {},
   "source": [
    "#### For any missing values in the columns replace with undisclosed"
   ]
  },
  {
   "cell_type": "code",
<<<<<<< HEAD
   "execution_count": 111,
   "metadata": {},
   "outputs": [],
   "source": [
    "#Creating a column named 'year Funded'\n",
    "data2021['Year Funded'] = 2020"
=======
   "execution_count": 107,
   "metadata": {},
   "outputs": [
    {
     "data": {
      "text/html": [
       "<div>\n",
       "<style scoped>\n",
       "    .dataframe tbody tr th:only-of-type {\n",
       "        vertical-align: middle;\n",
       "    }\n",
       "\n",
       "    .dataframe tbody tr th {\n",
       "        vertical-align: top;\n",
       "    }\n",
       "\n",
       "    .dataframe thead th {\n",
       "        text-align: right;\n",
       "    }\n",
       "</style>\n",
       "<table border=\"1\" class=\"dataframe\">\n",
       "  <thead>\n",
       "    <tr style=\"text-align: right;\">\n",
       "      <th></th>\n",
       "      <th>Company_Brand</th>\n",
       "      <th>Founded</th>\n",
       "      <th>HeadQuarter</th>\n",
       "      <th>Sector</th>\n",
       "      <th>What_it_does</th>\n",
       "      <th>Founders</th>\n",
       "      <th>Investor</th>\n",
       "      <th>Amount</th>\n",
       "      <th>Stage</th>\n",
       "      <th>column10</th>\n",
       "    </tr>\n",
       "  </thead>\n",
       "  <tbody>\n",
       "    <tr>\n",
       "      <th>0</th>\n",
       "      <td>Aqgromalin</td>\n",
       "      <td>2019.00</td>\n",
       "      <td>Chennai</td>\n",
       "      <td>AgriTech</td>\n",
       "      <td>Cultivating Ideas for Profit</td>\n",
       "      <td>Prasanna Manogaran, Bharani C L</td>\n",
       "      <td>Angel investors</td>\n",
       "      <td>200000.00</td>\n",
       "      <td>Undisclosed</td>\n",
       "      <td>Undisclosed</td>\n",
       "    </tr>\n",
       "    <tr>\n",
       "      <th>1</th>\n",
       "      <td>Krayonnz</td>\n",
       "      <td>2019.00</td>\n",
       "      <td>Bangalore</td>\n",
       "      <td>EdTech</td>\n",
       "      <td>An academy-guardian-scholar centric ecosystem ...</td>\n",
       "      <td>Saurabh Dixit, Gurudutt Upadhyay</td>\n",
       "      <td>GSF Accelerator</td>\n",
       "      <td>100000.00</td>\n",
       "      <td>Pre-seed</td>\n",
       "      <td>Undisclosed</td>\n",
       "    </tr>\n",
       "    <tr>\n",
       "      <th>2</th>\n",
       "      <td>PadCare Labs</td>\n",
       "      <td>2018.00</td>\n",
       "      <td>Pune</td>\n",
       "      <td>Hygiene management</td>\n",
       "      <td>Converting bio-hazardous waste to harmless waste</td>\n",
       "      <td>Ajinkya Dhariya</td>\n",
       "      <td>Venture Center</td>\n",
       "      <td>3000000.00</td>\n",
       "      <td>Pre-seed</td>\n",
       "      <td>Undisclosed</td>\n",
       "    </tr>\n",
       "    <tr>\n",
       "      <th>3</th>\n",
       "      <td>NCOME</td>\n",
       "      <td>2020.00</td>\n",
       "      <td>New Delhi</td>\n",
       "      <td>Escrow</td>\n",
       "      <td>Escrow-as-a-service platform</td>\n",
       "      <td>Ritesh Tiwari</td>\n",
       "      <td>Venture Catalysts, PointOne Capital</td>\n",
       "      <td>400000.00</td>\n",
       "      <td>Undisclosed</td>\n",
       "      <td>Undisclosed</td>\n",
       "    </tr>\n",
       "    <tr>\n",
       "      <th>4</th>\n",
       "      <td>Gramophone</td>\n",
       "      <td>2016.00</td>\n",
       "      <td>Indore</td>\n",
       "      <td>AgriTech</td>\n",
       "      <td>Gramophone is an AgTech platform enabling acce...</td>\n",
       "      <td>Ashish Rajan Singh, Harshit Gupta, Nishant Mah...</td>\n",
       "      <td>Siana Capital Management, Info Edge</td>\n",
       "      <td>340000.00</td>\n",
       "      <td>Undisclosed</td>\n",
       "      <td>Undisclosed</td>\n",
       "    </tr>\n",
       "  </tbody>\n",
       "</table>\n",
       "</div>"
      ],
      "text/plain": [
       "  Company_Brand  Founded HeadQuarter              Sector  \\\n",
       "0    Aqgromalin  2019.00     Chennai            AgriTech   \n",
       "1      Krayonnz  2019.00   Bangalore              EdTech   \n",
       "2  PadCare Labs  2018.00        Pune  Hygiene management   \n",
       "3         NCOME  2020.00   New Delhi              Escrow   \n",
       "4    Gramophone  2016.00      Indore            AgriTech   \n",
       "\n",
       "                                        What_it_does  \\\n",
       "0                       Cultivating Ideas for Profit   \n",
       "1  An academy-guardian-scholar centric ecosystem ...   \n",
       "2   Converting bio-hazardous waste to harmless waste   \n",
       "3                       Escrow-as-a-service platform   \n",
       "4  Gramophone is an AgTech platform enabling acce...   \n",
       "\n",
       "                                            Founders  \\\n",
       "0                    Prasanna Manogaran, Bharani C L   \n",
       "1                   Saurabh Dixit, Gurudutt Upadhyay   \n",
       "2                                    Ajinkya Dhariya   \n",
       "3                                      Ritesh Tiwari   \n",
       "4  Ashish Rajan Singh, Harshit Gupta, Nishant Mah...   \n",
       "\n",
       "                              Investor     Amount        Stage     column10  \n",
       "0                      Angel investors  200000.00  Undisclosed  Undisclosed  \n",
       "1                      GSF Accelerator  100000.00     Pre-seed  Undisclosed  \n",
       "2                       Venture Center 3000000.00     Pre-seed  Undisclosed  \n",
       "3  Venture Catalysts, PointOne Capital  400000.00  Undisclosed  Undisclosed  \n",
       "4  Siana Capital Management, Info Edge  340000.00  Undisclosed  Undisclosed  "
      ]
     },
     "execution_count": 107,
     "metadata": {},
     "output_type": "execute_result"
    }
   ],
   "source": [
    "data2020=data2020.fillna('Undisclosed')\n",
    "data2020.head()\n",
    "data2020.isnull().sum()"
   ]
  },
  {
   "cell_type": "markdown",
   "metadata": {},
   "source": [
    "#### Investigating the sector column"
   ]
  },
  {
   "cell_type": "code",
   "execution_count": 109,
   "metadata": {},
   "outputs": [
    {
     "data": {
      "text/plain": [
       "<bound method IndexOpsMixin.value_counts of 0                 AgriTech\n",
       "1                   EdTech\n",
       "2       Hygiene management\n",
       "3                   Escrow\n",
       "4                 AgriTech\n",
       "               ...        \n",
       "1050                Edtech\n",
       "1051               Fintech\n",
       "1052             Cosmetics\n",
       "1053             Transport\n",
       "1054              Logitech\n",
       "Name: Sector, Length: 1055, dtype: object>"
      ]
     },
     "execution_count": 109,
     "metadata": {},
     "output_type": "execute_result"
    }
   ],
   "source": [
    "data2020['Sector'].value_counts"
   ]
  },
  {
   "cell_type": "markdown",
   "metadata": {},
   "source": [
    "#### The sectors are too many thus we use the global sector classification using a global sector classifiation system"
   ]
  },
  {
   "cell_type": "markdown",
   "metadata": {},
   "source": [
    "##### Import the global sector claasification dataset. The dataset is obtained from crunchbase website"
   ]
  },
  {
   "cell_type": "code",
   "execution_count": 111,
   "metadata": {},
   "outputs": [
    {
     "data": {
      "text/plain": [
       "Index(['Industry Group', 'Industries'], dtype='object')"
      ]
     },
     "execution_count": 111,
     "metadata": {},
     "output_type": "execute_result"
    }
   ],
   "source": [
    "global_sector=pd.read_csv('data/global_ind.csv',delimiter=',')\n",
    "global_sector.dropna(inplace=True)\n",
    "global_sector.columns"
   ]
  },
  {
   "cell_type": "markdown",
   "metadata": {},
   "source": [
    "##### Itterate the global sector dataset to classify the sectors in the dataset into more general sectors"
   ]
  },
  {
   "cell_type": "code",
   "execution_count": 113,
   "metadata": {},
   "outputs": [],
   "source": [
    "# Create a new column named \"global_sector\" in the data2020 DataFrame\n",
    "data2020[\"global_sector\"] = \"\"\n",
    "\n",
    "# Loop through each row in the data2020 DataFrame\n",
    "for index, row in data2020.iterrows():\n",
    "    sector = row[\"Sector\"]\n",
    "    \n",
    "    # Find the best match for the sector value using fuzzy matching\n",
    "    matches = process.extractOne(sector, global_sector[\"Industries\"])\n",
    "    \n",
    "    # If a match is found with a similarity score of 50% or higher, assign the corresponding global industry value to the \"global_sector\" column in data2020 DataFrame\n",
    "    if matches[1] >= 49.9:\n",
    "        global_sector_val = global_sector.loc[matches[2], \"Industry Group\"]\n",
    "        data2020.at[index, \"global_sector\"] = global_sector_val\n",
    "\n",
    "# Print the updated data2020 DataFrame\n",
    "#data2020 "
>>>>>>> 43b96b4dfa7bddb17435e2b2cac05525a713e75a
   ]
  },
  {
   "cell_type": "markdown",
   "metadata": {},
   "source": [
    "### 3.2.4 2021 Data"
   ]
  },
  {
   "cell_type": "markdown",
   "metadata": {},
   "source": [
    "#### Inspect the data"
   ]
  },
  {
   "cell_type": "code",
<<<<<<< HEAD
   "execution_count": 112,
=======
   "execution_count": 114,
>>>>>>> 43b96b4dfa7bddb17435e2b2cac05525a713e75a
   "metadata": {},
   "outputs": [
    {
     "data": {
      "text/html": [
       "<div>\n",
       "<style scoped>\n",
       "    .dataframe tbody tr th:only-of-type {\n",
       "        vertical-align: middle;\n",
       "    }\n",
       "\n",
       "    .dataframe tbody tr th {\n",
       "        vertical-align: top;\n",
       "    }\n",
       "\n",
       "    .dataframe thead th {\n",
       "        text-align: right;\n",
       "    }\n",
       "</style>\n",
       "<table border=\"1\" class=\"dataframe\">\n",
       "  <thead>\n",
       "    <tr style=\"text-align: right;\">\n",
       "      <th></th>\n",
       "      <th>Company_Brand</th>\n",
       "      <th>Founded</th>\n",
       "      <th>HeadQuarter</th>\n",
       "      <th>Sector</th>\n",
       "      <th>What_it_does</th>\n",
       "      <th>Founders</th>\n",
       "      <th>Investor</th>\n",
       "      <th>Amount</th>\n",
       "      <th>Stage</th>\n",
       "      <th>Year Funded</th>\n",
       "    </tr>\n",
       "  </thead>\n",
       "  <tbody>\n",
       "    <tr>\n",
       "      <th>0</th>\n",
       "      <td>Unbox Robotics</td>\n",
       "      <td>2019.0</td>\n",
       "      <td>Bangalore</td>\n",
       "      <td>AI startup</td>\n",
       "      <td>Unbox Robotics builds on-demand AI-driven ware...</td>\n",
       "      <td>Pramod Ghadge, Shahid Memon</td>\n",
       "      <td>BEENEXT, Entrepreneur First</td>\n",
       "      <td>$1,200,000</td>\n",
       "      <td>Pre-series A</td>\n",
       "      <td>2020</td>\n",
       "    </tr>\n",
       "    <tr>\n",
       "      <th>1</th>\n",
       "      <td>upGrad</td>\n",
       "      <td>2015.0</td>\n",
       "      <td>Mumbai</td>\n",
       "      <td>EdTech</td>\n",
       "      <td>UpGrad is an online higher education platform.</td>\n",
       "      <td>Mayank Kumar, Phalgun Kompalli, Ravijot Chugh,...</td>\n",
       "      <td>Unilazer Ventures, IIFL Asset Management</td>\n",
       "      <td>$120,000,000</td>\n",
       "      <td>None</td>\n",
       "      <td>2020</td>\n",
       "    </tr>\n",
       "    <tr>\n",
       "      <th>2</th>\n",
       "      <td>Lead School</td>\n",
       "      <td>2012.0</td>\n",
       "      <td>Mumbai</td>\n",
       "      <td>EdTech</td>\n",
       "      <td>LEAD School offers technology based school tra...</td>\n",
       "      <td>Smita Deorah, Sumeet Mehta</td>\n",
       "      <td>GSV Ventures, Westbridge Capital</td>\n",
       "      <td>$30,000,000</td>\n",
       "      <td>Series D</td>\n",
       "      <td>2020</td>\n",
       "    </tr>\n",
       "    <tr>\n",
       "      <th>3</th>\n",
       "      <td>Bizongo</td>\n",
       "      <td>2015.0</td>\n",
       "      <td>Mumbai</td>\n",
       "      <td>B2B E-commerce</td>\n",
       "      <td>Bizongo is a business-to-business online marke...</td>\n",
       "      <td>Aniket Deb, Ankit Tomar, Sachin Agrawal</td>\n",
       "      <td>CDC Group, IDG Capital</td>\n",
       "      <td>$51,000,000</td>\n",
       "      <td>Series C</td>\n",
       "      <td>2020</td>\n",
       "    </tr>\n",
       "    <tr>\n",
       "      <th>4</th>\n",
       "      <td>FypMoney</td>\n",
       "      <td>2021.0</td>\n",
       "      <td>Gurugram</td>\n",
       "      <td>FinTech</td>\n",
       "      <td>FypMoney is Digital NEO Bank for Teenagers, em...</td>\n",
       "      <td>Kapil Banwari</td>\n",
       "      <td>Liberatha Kallat, Mukesh Yadav, Dinesh Nagpal</td>\n",
       "      <td>$2,000,000</td>\n",
       "      <td>Seed</td>\n",
       "      <td>2020</td>\n",
       "    </tr>\n",
       "    <tr>\n",
       "      <th>5</th>\n",
       "      <td>Urban Company</td>\n",
       "      <td>2014.0</td>\n",
       "      <td>New Delhi</td>\n",
       "      <td>Home services</td>\n",
       "      <td>Urban Company (Formerly UrbanClap) is a home a...</td>\n",
       "      <td>Abhiraj Singh Bhal, Raghav Chandra, Varun Khaitan</td>\n",
       "      <td>Vy Capital</td>\n",
       "      <td>$188,000,000</td>\n",
       "      <td>None</td>\n",
       "      <td>2020</td>\n",
       "    </tr>\n",
       "    <tr>\n",
       "      <th>6</th>\n",
       "      <td>Comofi Medtech</td>\n",
       "      <td>2018.0</td>\n",
       "      <td>Bangalore</td>\n",
       "      <td>HealthTech</td>\n",
       "      <td>Comofi Medtech is a healthcare robotics startup.</td>\n",
       "      <td>Gururaj KB</td>\n",
       "      <td>CIIE.CO, KIIT-TBI</td>\n",
       "      <td>$200,000</td>\n",
       "      <td>None</td>\n",
       "      <td>2020</td>\n",
       "    </tr>\n",
       "    <tr>\n",
       "      <th>7</th>\n",
       "      <td>Qube Health</td>\n",
       "      <td>2016.0</td>\n",
       "      <td>Mumbai</td>\n",
       "      <td>HealthTech</td>\n",
       "      <td>India's Most Respected Workplace Healthcare Ma...</td>\n",
       "      <td>Gagan Kapur</td>\n",
       "      <td>Inflection Point Ventures</td>\n",
       "      <td>Undisclosed</td>\n",
       "      <td>Pre-series A</td>\n",
       "      <td>2020</td>\n",
       "    </tr>\n",
       "    <tr>\n",
       "      <th>8</th>\n",
       "      <td>Vitra.ai</td>\n",
       "      <td>2020.0</td>\n",
       "      <td>Bangalore</td>\n",
       "      <td>Tech Startup</td>\n",
       "      <td>Vitra.ai is an AI-based video translation plat...</td>\n",
       "      <td>Akash Nidhi PS</td>\n",
       "      <td>Inflexor Ventures</td>\n",
       "      <td>Undisclosed</td>\n",
       "      <td>None</td>\n",
       "      <td>2020</td>\n",
       "    </tr>\n",
       "    <tr>\n",
       "      <th>9</th>\n",
       "      <td>Taikee</td>\n",
       "      <td>2010.0</td>\n",
       "      <td>Mumbai</td>\n",
       "      <td>E-commerce</td>\n",
       "      <td>Taikee is the ISO-certified, B2B e-commerce pl...</td>\n",
       "      <td>Nidhi Ramachandran, Sachin Chhabra</td>\n",
       "      <td>None</td>\n",
       "      <td>$1,000,000</td>\n",
       "      <td>None</td>\n",
       "      <td>2020</td>\n",
       "    </tr>\n",
       "  </tbody>\n",
       "</table>\n",
       "</div>"
      ],
      "text/plain": [
       "    Company_Brand  Founded HeadQuarter          Sector  \\\n",
       "0  Unbox Robotics   2019.0   Bangalore      AI startup   \n",
       "1          upGrad   2015.0      Mumbai          EdTech   \n",
       "2     Lead School   2012.0      Mumbai          EdTech   \n",
       "3         Bizongo   2015.0      Mumbai  B2B E-commerce   \n",
       "4        FypMoney   2021.0    Gurugram         FinTech   \n",
       "5   Urban Company   2014.0   New Delhi   Home services   \n",
       "6  Comofi Medtech   2018.0   Bangalore      HealthTech   \n",
       "7     Qube Health   2016.0      Mumbai      HealthTech   \n",
       "8        Vitra.ai   2020.0   Bangalore    Tech Startup   \n",
       "9          Taikee   2010.0      Mumbai      E-commerce   \n",
       "\n",
       "                                        What_it_does  \\\n",
       "0  Unbox Robotics builds on-demand AI-driven ware...   \n",
       "1     UpGrad is an online higher education platform.   \n",
       "2  LEAD School offers technology based school tra...   \n",
       "3  Bizongo is a business-to-business online marke...   \n",
       "4  FypMoney is Digital NEO Bank for Teenagers, em...   \n",
       "5  Urban Company (Formerly UrbanClap) is a home a...   \n",
       "6   Comofi Medtech is a healthcare robotics startup.   \n",
       "7  India's Most Respected Workplace Healthcare Ma...   \n",
       "8  Vitra.ai is an AI-based video translation plat...   \n",
       "9  Taikee is the ISO-certified, B2B e-commerce pl...   \n",
       "\n",
       "                                            Founders  \\\n",
       "0                        Pramod Ghadge, Shahid Memon   \n",
       "1  Mayank Kumar, Phalgun Kompalli, Ravijot Chugh,...   \n",
       "2                         Smita Deorah, Sumeet Mehta   \n",
       "3            Aniket Deb, Ankit Tomar, Sachin Agrawal   \n",
       "4                                      Kapil Banwari   \n",
       "5  Abhiraj Singh Bhal, Raghav Chandra, Varun Khaitan   \n",
       "6                                         Gururaj KB   \n",
       "7                                        Gagan Kapur   \n",
       "8                                     Akash Nidhi PS   \n",
       "9                 Nidhi Ramachandran, Sachin Chhabra   \n",
       "\n",
       "                                        Investor        Amount         Stage  \\\n",
       "0                    BEENEXT, Entrepreneur First    $1,200,000  Pre-series A   \n",
       "1       Unilazer Ventures, IIFL Asset Management  $120,000,000          None   \n",
       "2               GSV Ventures, Westbridge Capital   $30,000,000      Series D   \n",
       "3                         CDC Group, IDG Capital   $51,000,000      Series C   \n",
       "4  Liberatha Kallat, Mukesh Yadav, Dinesh Nagpal    $2,000,000          Seed   \n",
       "5                                     Vy Capital  $188,000,000          None   \n",
       "6                              CIIE.CO, KIIT-TBI      $200,000          None   \n",
       "7                      Inflection Point Ventures   Undisclosed  Pre-series A   \n",
       "8                              Inflexor Ventures   Undisclosed          None   \n",
       "9                                           None    $1,000,000          None   \n",
       "\n",
       "   Year Funded  \n",
       "0         2020  \n",
       "1         2020  \n",
       "2         2020  \n",
       "3         2020  \n",
       "4         2020  \n",
       "5         2020  \n",
       "6         2020  \n",
       "7         2020  \n",
       "8         2020  \n",
       "9         2020  "
      ]
     },
<<<<<<< HEAD
     "execution_count": 112,
=======
     "execution_count": 114,
>>>>>>> 43b96b4dfa7bddb17435e2b2cac05525a713e75a
     "metadata": {},
     "output_type": "execute_result"
    }
   ],
   "source": [
    "data2021.head(10) # View first 10 rows of data2021"
   ]
  },
  {
   "cell_type": "code",
<<<<<<< HEAD
   "execution_count": 113,
=======
   "execution_count": 116,
>>>>>>> 43b96b4dfa7bddb17435e2b2cac05525a713e75a
   "metadata": {},
   "outputs": [
    {
     "name": "stdout",
     "output_type": "stream",
     "text": [
      "<class 'pandas.core.frame.DataFrame'>\n",
      "RangeIndex: 1209 entries, 0 to 1208\n",
      "Data columns (total 10 columns):\n",
      " #   Column         Non-Null Count  Dtype  \n",
      "---  ------         --------------  -----  \n",
      " 0   Company_Brand  1209 non-null   object \n",
      " 1   Founded        1208 non-null   float64\n",
      " 2   HeadQuarter    1208 non-null   object \n",
      " 3   Sector         1209 non-null   object \n",
      " 4   What_it_does   1209 non-null   object \n",
      " 5   Founders       1205 non-null   object \n",
      " 6   Investor       1147 non-null   object \n",
      " 7   Amount         1206 non-null   object \n",
      " 8   Stage          781 non-null    object \n",
      " 9   Year Funded    1209 non-null   int64  \n",
      "dtypes: float64(1), int64(1), object(8)\n",
      "memory usage: 94.6+ KB\n"
     ]
    }
   ],
   "source": [
    "# Get summarised info about missing values and data types of the columns in data2021\n",
    "\n",
    "data2021.info()"
   ]
  },
  {
   "cell_type": "markdown",
   "metadata": {},
   "source": [
    "#### From the displayed information about data2021 :\n",
    "\n",
    "* ##### *Founded*, *HeadQuarter*, *Founders*, *Investor*, *Amount* and *Stage* columns have some missing data\n",
    "* ##### All columns are of the object data type except *Founded* which is a float."
   ]
  },
  {
   "cell_type": "markdown",
   "metadata": {},
   "source": [
    "#### We take a critical look at all the data"
   ]
  },
  {
   "cell_type": "code",
<<<<<<< HEAD
   "execution_count": 114,
=======
   "execution_count": 118,
>>>>>>> 43b96b4dfa7bddb17435e2b2cac05525a713e75a
   "metadata": {},
   "outputs": [
    {
     "data": {
      "text/html": [
       "<div>\n",
       "<style scoped>\n",
       "    .dataframe tbody tr th:only-of-type {\n",
       "        vertical-align: middle;\n",
       "    }\n",
       "\n",
       "    .dataframe tbody tr th {\n",
       "        vertical-align: top;\n",
       "    }\n",
       "\n",
       "    .dataframe thead th {\n",
       "        text-align: right;\n",
       "    }\n",
       "</style>\n",
       "<table border=\"1\" class=\"dataframe\">\n",
       "  <thead>\n",
       "    <tr style=\"text-align: right;\">\n",
       "      <th></th>\n",
       "      <th>Company_Brand</th>\n",
       "      <th>Founded</th>\n",
       "      <th>HeadQuarter</th>\n",
       "      <th>Sector</th>\n",
       "      <th>What_it_does</th>\n",
       "      <th>Founders</th>\n",
       "      <th>Investor</th>\n",
       "      <th>Amount</th>\n",
       "      <th>Stage</th>\n",
       "      <th>Year Funded</th>\n",
       "    </tr>\n",
       "  </thead>\n",
       "  <tbody>\n",
       "    <tr>\n",
       "      <th>0</th>\n",
       "      <td>Unbox Robotics</td>\n",
       "      <td>2019.0</td>\n",
       "      <td>Bangalore</td>\n",
       "      <td>AI startup</td>\n",
       "      <td>Unbox Robotics builds on-demand AI-driven ware...</td>\n",
       "      <td>Pramod Ghadge, Shahid Memon</td>\n",
       "      <td>BEENEXT, Entrepreneur First</td>\n",
       "      <td>$1,200,000</td>\n",
       "      <td>Pre-series A</td>\n",
       "      <td>2020</td>\n",
       "    </tr>\n",
       "    <tr>\n",
       "      <th>1</th>\n",
       "      <td>upGrad</td>\n",
       "      <td>2015.0</td>\n",
       "      <td>Mumbai</td>\n",
       "      <td>EdTech</td>\n",
       "      <td>UpGrad is an online higher education platform.</td>\n",
       "      <td>Mayank Kumar, Phalgun Kompalli, Ravijot Chugh,...</td>\n",
       "      <td>Unilazer Ventures, IIFL Asset Management</td>\n",
       "      <td>$120,000,000</td>\n",
       "      <td>None</td>\n",
       "      <td>2020</td>\n",
       "    </tr>\n",
       "    <tr>\n",
       "      <th>2</th>\n",
       "      <td>Lead School</td>\n",
       "      <td>2012.0</td>\n",
       "      <td>Mumbai</td>\n",
       "      <td>EdTech</td>\n",
       "      <td>LEAD School offers technology based school tra...</td>\n",
       "      <td>Smita Deorah, Sumeet Mehta</td>\n",
       "      <td>GSV Ventures, Westbridge Capital</td>\n",
       "      <td>$30,000,000</td>\n",
       "      <td>Series D</td>\n",
       "      <td>2020</td>\n",
       "    </tr>\n",
       "    <tr>\n",
       "      <th>3</th>\n",
       "      <td>Bizongo</td>\n",
       "      <td>2015.0</td>\n",
       "      <td>Mumbai</td>\n",
       "      <td>B2B E-commerce</td>\n",
       "      <td>Bizongo is a business-to-business online marke...</td>\n",
       "      <td>Aniket Deb, Ankit Tomar, Sachin Agrawal</td>\n",
       "      <td>CDC Group, IDG Capital</td>\n",
       "      <td>$51,000,000</td>\n",
       "      <td>Series C</td>\n",
       "      <td>2020</td>\n",
       "    </tr>\n",
       "    <tr>\n",
       "      <th>4</th>\n",
       "      <td>FypMoney</td>\n",
       "      <td>2021.0</td>\n",
       "      <td>Gurugram</td>\n",
       "      <td>FinTech</td>\n",
       "      <td>FypMoney is Digital NEO Bank for Teenagers, em...</td>\n",
       "      <td>Kapil Banwari</td>\n",
       "      <td>Liberatha Kallat, Mukesh Yadav, Dinesh Nagpal</td>\n",
       "      <td>$2,000,000</td>\n",
       "      <td>Seed</td>\n",
       "      <td>2020</td>\n",
       "    </tr>\n",
<<<<<<< HEAD
       "    <tr>\n",
       "      <th>5</th>\n",
       "      <td>Urban Company</td>\n",
       "      <td>2014.0</td>\n",
       "      <td>New Delhi</td>\n",
       "      <td>Home services</td>\n",
       "      <td>Urban Company (Formerly UrbanClap) is a home a...</td>\n",
       "      <td>Abhiraj Singh Bhal, Raghav Chandra, Varun Khaitan</td>\n",
       "      <td>Vy Capital</td>\n",
       "      <td>$188,000,000</td>\n",
       "      <td>None</td>\n",
       "      <td>2020</td>\n",
       "    </tr>\n",
       "    <tr>\n",
       "      <th>6</th>\n",
       "      <td>Comofi Medtech</td>\n",
       "      <td>2018.0</td>\n",
       "      <td>Bangalore</td>\n",
       "      <td>HealthTech</td>\n",
       "      <td>Comofi Medtech is a healthcare robotics startup.</td>\n",
       "      <td>Gururaj KB</td>\n",
       "      <td>CIIE.CO, KIIT-TBI</td>\n",
       "      <td>$200,000</td>\n",
       "      <td>None</td>\n",
       "      <td>2020</td>\n",
       "    </tr>\n",
       "    <tr>\n",
       "      <th>7</th>\n",
       "      <td>Qube Health</td>\n",
       "      <td>2016.0</td>\n",
       "      <td>Mumbai</td>\n",
       "      <td>HealthTech</td>\n",
       "      <td>India's Most Respected Workplace Healthcare Ma...</td>\n",
       "      <td>Gagan Kapur</td>\n",
       "      <td>Inflection Point Ventures</td>\n",
       "      <td>Undisclosed</td>\n",
       "      <td>Pre-series A</td>\n",
       "      <td>2020</td>\n",
       "    </tr>\n",
       "    <tr>\n",
       "      <th>8</th>\n",
       "      <td>Vitra.ai</td>\n",
       "      <td>2020.0</td>\n",
       "      <td>Bangalore</td>\n",
       "      <td>Tech Startup</td>\n",
       "      <td>Vitra.ai is an AI-based video translation plat...</td>\n",
       "      <td>Akash Nidhi PS</td>\n",
       "      <td>Inflexor Ventures</td>\n",
       "      <td>Undisclosed</td>\n",
       "      <td>None</td>\n",
       "      <td>2020</td>\n",
       "    </tr>\n",
       "    <tr>\n",
       "      <th>9</th>\n",
       "      <td>Taikee</td>\n",
       "      <td>2010.0</td>\n",
       "      <td>Mumbai</td>\n",
       "      <td>E-commerce</td>\n",
       "      <td>Taikee is the ISO-certified, B2B e-commerce pl...</td>\n",
       "      <td>Nidhi Ramachandran, Sachin Chhabra</td>\n",
       "      <td>None</td>\n",
       "      <td>$1,000,000</td>\n",
       "      <td>None</td>\n",
       "      <td>2020</td>\n",
       "    </tr>\n",
       "    <tr>\n",
       "      <th>10</th>\n",
       "      <td>Fitterfly</td>\n",
       "      <td>2016.0</td>\n",
       "      <td>Mumbai</td>\n",
       "      <td>HealthTech</td>\n",
       "      <td>Fitterfly offers customized and personalized w...</td>\n",
       "      <td>Dr Arbinder Singal</td>\n",
       "      <td>9Unicorns Accelerator Fund, Metaform Ventures</td>\n",
       "      <td>$3,000,000</td>\n",
       "      <td>Pre-series A</td>\n",
       "      <td>2020</td>\n",
       "    </tr>\n",
       "    <tr>\n",
       "      <th>11</th>\n",
       "      <td>FreeStand</td>\n",
       "      <td>2017.0</td>\n",
       "      <td>New Delhi</td>\n",
       "      <td>B2B service</td>\n",
       "      <td>FreeStand enables FMCG brands to execute track...</td>\n",
       "      <td>Konark Sharma, Sneh Soni</td>\n",
       "      <td>SucSEED Indovation, IIM Calcutta Innovation Park</td>\n",
       "      <td>$100,000</td>\n",
       "      <td>None</td>\n",
       "      <td>2020</td>\n",
       "    </tr>\n",
       "    <tr>\n",
       "      <th>12</th>\n",
       "      <td>MyDentalPlan</td>\n",
       "      <td>2014.0</td>\n",
       "      <td>Bangalore</td>\n",
       "      <td>Helathcare</td>\n",
       "      <td>My Dental Plan provides dental care packages a...</td>\n",
       "      <td>Dr Mohender Narula, Dr AnandKrishna, Dr Girish...</td>\n",
       "      <td>Safe Planet Medicare</td>\n",
       "      <td>$700,000</td>\n",
       "      <td>Seed</td>\n",
       "      <td>2020</td>\n",
       "    </tr>\n",
       "    <tr>\n",
       "      <th>13</th>\n",
       "      <td>Freyr Energy</td>\n",
       "      <td>2014.0</td>\n",
       "      <td>Hyderabad</td>\n",
       "      <td>Renewable Energy</td>\n",
       "      <td>Freyr Energy is a company that provides full s...</td>\n",
       "      <td>Radhika Choudary, Saurabh Marda</td>\n",
       "      <td>Impact Partners, C4D Partners</td>\n",
       "      <td>$2,000,000</td>\n",
       "      <td>None</td>\n",
       "      <td>2020</td>\n",
       "    </tr>\n",
       "    <tr>\n",
       "      <th>14</th>\n",
       "      <td>DealShare</td>\n",
       "      <td>2018.0</td>\n",
       "      <td>Jaipur</td>\n",
       "      <td>E-commerce</td>\n",
       "      <td>DealShare is a Social Commerce Startup</td>\n",
       "      <td>Sankar Bora, Sourjyendu Medda, Vineet Rao</td>\n",
       "      <td>Tiger Global Management, InnoVen Capital</td>\n",
       "      <td>$9,000,000</td>\n",
       "      <td>None</td>\n",
       "      <td>2020</td>\n",
       "    </tr>\n",
       "    <tr>\n",
       "      <th>15</th>\n",
       "      <td>Tessolve</td>\n",
       "      <td>1993.0</td>\n",
       "      <td>Bangalore</td>\n",
       "      <td>Electronics</td>\n",
       "      <td>Tessolve Semiconductor offers engineering in s...</td>\n",
       "      <td>P Raja Manickam, Srinivas Chinamilli, Veerappan V</td>\n",
       "      <td>Novo Tellus Capital</td>\n",
       "      <td>$40,000,000</td>\n",
       "      <td>None</td>\n",
       "      <td>2020</td>\n",
       "    </tr>\n",
       "    <tr>\n",
       "      <th>16</th>\n",
       "      <td>Smart Joules</td>\n",
       "      <td>2014.0</td>\n",
       "      <td>New Delhi</td>\n",
       "      <td>Renewable Energy</td>\n",
       "      <td>Smart Joules is an energy management company.</td>\n",
       "      <td>Arjun P Gupta, Ujjal Majumdar, Sidhartha Gupta</td>\n",
       "      <td>Raintree Family Office, ADB arm</td>\n",
       "      <td>$49,000,000</td>\n",
       "      <td>None</td>\n",
       "      <td>2020</td>\n",
       "    </tr>\n",
       "    <tr>\n",
       "      <th>17</th>\n",
       "      <td>ORAI</td>\n",
       "      <td>2020.0</td>\n",
       "      <td>Bangalore</td>\n",
       "      <td>IT startup</td>\n",
       "      <td>AI-Powered Robotic Virtual Assistant (RVA) for...</td>\n",
       "      <td>Swapnil Jain, Sujit Das Biswas</td>\n",
       "      <td>Inflection Point Ventures</td>\n",
       "      <td>$400,000</td>\n",
       "      <td>Pre-series A</td>\n",
       "      <td>2020</td>\n",
       "    </tr>\n",
       "    <tr>\n",
       "      <th>18</th>\n",
       "      <td>ixamBee</td>\n",
       "      <td>2016.0</td>\n",
       "      <td>New Delhi</td>\n",
       "      <td>EdTech</td>\n",
       "      <td>ixamBee is to provide best online learning exp...</td>\n",
       "      <td>Chandraprakash Joshi</td>\n",
       "      <td>Mumbai Angels, Narendra Shyamsukha</td>\n",
       "      <td>$300,000</td>\n",
       "      <td>Seed</td>\n",
       "      <td>2020</td>\n",
       "    </tr>\n",
       "    <tr>\n",
       "      <th>19</th>\n",
       "      <td>CoinSwitch Kuber</td>\n",
       "      <td>2017.0</td>\n",
       "      <td>Bangalore</td>\n",
       "      <td>FinTech</td>\n",
       "      <td>CoinSwitch Kuber is an India-based cryptocurre...</td>\n",
       "      <td>Ashish Singhal, Govind Soni, Vimal Sagar Tiwari</td>\n",
       "      <td>Paradigm, Kunal Shah</td>\n",
       "      <td>$25,000,000</td>\n",
       "      <td>Series B</td>\n",
       "      <td>2020</td>\n",
       "    </tr>\n",
=======
>>>>>>> 43b96b4dfa7bddb17435e2b2cac05525a713e75a
       "  </tbody>\n",
       "</table>\n",
       "</div>"
      ],
      "text/plain": [
<<<<<<< HEAD
       "       Company_Brand  Founded HeadQuarter            Sector  \\\n",
       "0     Unbox Robotics   2019.0   Bangalore        AI startup   \n",
       "1             upGrad   2015.0      Mumbai            EdTech   \n",
       "2        Lead School   2012.0      Mumbai            EdTech   \n",
       "3            Bizongo   2015.0      Mumbai    B2B E-commerce   \n",
       "4           FypMoney   2021.0    Gurugram           FinTech   \n",
       "5      Urban Company   2014.0   New Delhi     Home services   \n",
       "6     Comofi Medtech   2018.0   Bangalore        HealthTech   \n",
       "7        Qube Health   2016.0      Mumbai        HealthTech   \n",
       "8           Vitra.ai   2020.0   Bangalore      Tech Startup   \n",
       "9             Taikee   2010.0      Mumbai        E-commerce   \n",
       "10         Fitterfly   2016.0      Mumbai        HealthTech   \n",
       "11         FreeStand   2017.0   New Delhi       B2B service   \n",
       "12      MyDentalPlan   2014.0   Bangalore        Helathcare   \n",
       "13      Freyr Energy   2014.0   Hyderabad  Renewable Energy   \n",
       "14         DealShare   2018.0      Jaipur        E-commerce   \n",
       "15          Tessolve   1993.0   Bangalore       Electronics   \n",
       "16      Smart Joules   2014.0   New Delhi  Renewable Energy   \n",
       "17              ORAI   2020.0   Bangalore        IT startup   \n",
       "18           ixamBee   2016.0   New Delhi            EdTech   \n",
       "19  CoinSwitch Kuber   2017.0   Bangalore           FinTech   \n",
       "\n",
       "                                         What_it_does  \\\n",
       "0   Unbox Robotics builds on-demand AI-driven ware...   \n",
       "1      UpGrad is an online higher education platform.   \n",
       "2   LEAD School offers technology based school tra...   \n",
       "3   Bizongo is a business-to-business online marke...   \n",
       "4   FypMoney is Digital NEO Bank for Teenagers, em...   \n",
       "5   Urban Company (Formerly UrbanClap) is a home a...   \n",
       "6    Comofi Medtech is a healthcare robotics startup.   \n",
       "7   India's Most Respected Workplace Healthcare Ma...   \n",
       "8   Vitra.ai is an AI-based video translation plat...   \n",
       "9   Taikee is the ISO-certified, B2B e-commerce pl...   \n",
       "10  Fitterfly offers customized and personalized w...   \n",
       "11  FreeStand enables FMCG brands to execute track...   \n",
       "12  My Dental Plan provides dental care packages a...   \n",
       "13  Freyr Energy is a company that provides full s...   \n",
       "14             DealShare is a Social Commerce Startup   \n",
       "15  Tessolve Semiconductor offers engineering in s...   \n",
       "16      Smart Joules is an energy management company.   \n",
       "17  AI-Powered Robotic Virtual Assistant (RVA) for...   \n",
       "18  ixamBee is to provide best online learning exp...   \n",
       "19  CoinSwitch Kuber is an India-based cryptocurre...   \n",
       "\n",
       "                                             Founders  \\\n",
       "0                         Pramod Ghadge, Shahid Memon   \n",
       "1   Mayank Kumar, Phalgun Kompalli, Ravijot Chugh,...   \n",
       "2                          Smita Deorah, Sumeet Mehta   \n",
       "3             Aniket Deb, Ankit Tomar, Sachin Agrawal   \n",
       "4                                       Kapil Banwari   \n",
       "5   Abhiraj Singh Bhal, Raghav Chandra, Varun Khaitan   \n",
       "6                                          Gururaj KB   \n",
       "7                                         Gagan Kapur   \n",
       "8                                      Akash Nidhi PS   \n",
       "9                  Nidhi Ramachandran, Sachin Chhabra   \n",
       "10                                 Dr Arbinder Singal   \n",
       "11                           Konark Sharma, Sneh Soni   \n",
       "12  Dr Mohender Narula, Dr AnandKrishna, Dr Girish...   \n",
       "13                    Radhika Choudary, Saurabh Marda   \n",
       "14          Sankar Bora, Sourjyendu Medda, Vineet Rao   \n",
       "15  P Raja Manickam, Srinivas Chinamilli, Veerappan V   \n",
       "16     Arjun P Gupta, Ujjal Majumdar, Sidhartha Gupta   \n",
       "17                     Swapnil Jain, Sujit Das Biswas   \n",
       "18                               Chandraprakash Joshi   \n",
       "19    Ashish Singhal, Govind Soni, Vimal Sagar Tiwari   \n",
       "\n",
       "                                            Investor        Amount  \\\n",
       "0                        BEENEXT, Entrepreneur First    $1,200,000   \n",
       "1           Unilazer Ventures, IIFL Asset Management  $120,000,000   \n",
       "2                   GSV Ventures, Westbridge Capital   $30,000,000   \n",
       "3                             CDC Group, IDG Capital   $51,000,000   \n",
       "4      Liberatha Kallat, Mukesh Yadav, Dinesh Nagpal    $2,000,000   \n",
       "5                                         Vy Capital  $188,000,000   \n",
       "6                                  CIIE.CO, KIIT-TBI      $200,000   \n",
       "7                          Inflection Point Ventures   Undisclosed   \n",
       "8                                  Inflexor Ventures   Undisclosed   \n",
       "9                                               None    $1,000,000   \n",
       "10     9Unicorns Accelerator Fund, Metaform Ventures    $3,000,000   \n",
       "11  SucSEED Indovation, IIM Calcutta Innovation Park      $100,000   \n",
       "12                              Safe Planet Medicare      $700,000   \n",
       "13                     Impact Partners, C4D Partners    $2,000,000   \n",
       "14          Tiger Global Management, InnoVen Capital    $9,000,000   \n",
       "15                               Novo Tellus Capital   $40,000,000   \n",
       "16                   Raintree Family Office, ADB arm   $49,000,000   \n",
       "17                         Inflection Point Ventures      $400,000   \n",
       "18                Mumbai Angels, Narendra Shyamsukha      $300,000   \n",
       "19                              Paradigm, Kunal Shah   $25,000,000   \n",
       "\n",
       "           Stage  Year Funded  \n",
       "0   Pre-series A         2020  \n",
       "1           None         2020  \n",
       "2       Series D         2020  \n",
       "3       Series C         2020  \n",
       "4           Seed         2020  \n",
       "5           None         2020  \n",
       "6           None         2020  \n",
       "7   Pre-series A         2020  \n",
       "8           None         2020  \n",
       "9           None         2020  \n",
       "10  Pre-series A         2020  \n",
       "11          None         2020  \n",
       "12          Seed         2020  \n",
       "13          None         2020  \n",
       "14          None         2020  \n",
       "15          None         2020  \n",
       "16          None         2020  \n",
       "17  Pre-series A         2020  \n",
       "18          Seed         2020  \n",
       "19      Series B         2020  "
      ]
     },
     "execution_count": 114,
=======
       "    Company_Brand  Founded HeadQuarter          Sector  \\\n",
       "0  Unbox Robotics  2019.00   Bangalore      AI startup   \n",
       "1          upGrad  2015.00      Mumbai          EdTech   \n",
       "2     Lead School  2012.00      Mumbai          EdTech   \n",
       "3         Bizongo  2015.00      Mumbai  B2B E-commerce   \n",
       "4        FypMoney  2021.00    Gurugram         FinTech   \n",
       "\n",
       "                                        What_it_does  \\\n",
       "0  Unbox Robotics builds on-demand AI-driven ware...   \n",
       "1     UpGrad is an online higher education platform.   \n",
       "2  LEAD School offers technology based school tra...   \n",
       "3  Bizongo is a business-to-business online marke...   \n",
       "4  FypMoney is Digital NEO Bank for Teenagers, em...   \n",
       "\n",
       "                                            Founders  \\\n",
       "0                        Pramod Ghadge, Shahid Memon   \n",
       "1  Mayank Kumar, Phalgun Kompalli, Ravijot Chugh,...   \n",
       "2                         Smita Deorah, Sumeet Mehta   \n",
       "3            Aniket Deb, Ankit Tomar, Sachin Agrawal   \n",
       "4                                      Kapil Banwari   \n",
       "\n",
       "                                        Investor        Amount         Stage  \n",
       "0                    BEENEXT, Entrepreneur First    $1,200,000  Pre-series A  \n",
       "1       Unilazer Ventures, IIFL Asset Management  $120,000,000          None  \n",
       "2               GSV Ventures, Westbridge Capital   $30,000,000      Series D  \n",
       "3                         CDC Group, IDG Capital   $51,000,000      Series C  \n",
       "4  Liberatha Kallat, Mukesh Yadav, Dinesh Nagpal    $2,000,000          Seed  "
      ]
     },
     "execution_count": 118,
>>>>>>> 43b96b4dfa7bddb17435e2b2cac05525a713e75a
     "metadata": {},
     "output_type": "execute_result"
    }
   ],
   "source": [
    "pd.set_option('display.max_rows', None) # Set option for the full display of all rows\n",
    "\n",
    "\n",
<<<<<<< HEAD
    "data2021.head(20)"
=======
    "data2021.head()"
>>>>>>> 43b96b4dfa7bddb17435e2b2cac05525a713e75a
   ]
  },
  {
   "cell_type": "markdown",
   "metadata": {},
   "source": [
    "#### Issues arising from data2021:\n",
    "\n",
    "* Founded column is a float. It has to be a date\n",
    "\n",
    "* Some Amounts have $undisclosed, Undisclosed and undisclosed. We may treat them as missing values\n",
    "\n",
    "* The Amounts and Stage for FanPlay company at index 98 are interchanged\n",
    "\n",
    "* At index 242, 256, 257, and 545, the amount appears at the investor’s column and then stage at the amount column\n",
    "\n",
    "* Little Leap at   at index 538 has Ah! Ventures(investors) instead of amount and then amount at stage column. Also, ‘Holistic Development Programs for children in …; should be   replaced with Vishal Gupta as founder.\n",
    "\n",
    "* BHyve company index 551 has part of ‘what_it_does’ at founders cl then founders at investor cl and investors at amount col ……. It also had investor’s name as ITO Angel Network instead of JITO Angel Network\n",
    "\n",
    "* Some amounts are separated by ‘,’ some too have ‘$$’ preceding them and some only ‘$’ as amount…this is for EventBeep, MPL\n",
    "\n",
    "* Amount for Godamwale at index 1148 is misspelt as 1000000\\t#REF! instead of 1000000 and is at investor col with stage rather taking its place. Also, the investor is **Capt. Anand Aryamane**\n",
    "\n",
    "* for index 1100-Sochcast company, Heaquarter is replaced with ‘Online Media\\t#REF!’ and sector\n",
    "* There are some duplicates"
   ]
  },
  {
   "cell_type": "markdown",
   "metadata": {},
   "source": [
    "#### Resolution\n",
    "\n",
    "* Delete duplicates\n",
    "* Update misplaced values for the specifi rows and columns\n",
    "* Impute with right values from credible sources where such values are mispelt or omitted\n",
    "* Convert columns to right data types\n",
    "* Standardise the 'Stage' column for good analysis by renaming or grouping"
   ]
  },
  {
   "cell_type": "markdown",
   "metadata": {},
   "source": [
    "#### Delete Duplicates"
   ]
  },
  {
   "cell_type": "code",
<<<<<<< HEAD
   "execution_count": 115,
=======
   "execution_count": 119,
>>>>>>> 43b96b4dfa7bddb17435e2b2cac05525a713e75a
   "metadata": {},
   "outputs": [
    {
     "data": {
      "text/plain": [
       "19"
      ]
     },
<<<<<<< HEAD
     "execution_count": 115,
=======
     "execution_count": 119,
>>>>>>> 43b96b4dfa7bddb17435e2b2cac05525a713e75a
     "metadata": {},
     "output_type": "execute_result"
    }
   ],
   "source": [
    "# Confirm duplicated records\n",
    "\n",
    "data2021.duplicated().sum()\n"
   ]
  },
  {
   "cell_type": "markdown",
   "metadata": {},
   "source": [
    "Let's take a look, first."
   ]
  },
  {
   "cell_type": "code",
<<<<<<< HEAD
   "execution_count": 116,
=======
   "execution_count": 120,
>>>>>>> 43b96b4dfa7bddb17435e2b2cac05525a713e75a
   "metadata": {},
   "outputs": [
    {
     "data": {
      "text/html": [
       "<div>\n",
       "<style scoped>\n",
       "    .dataframe tbody tr th:only-of-type {\n",
       "        vertical-align: middle;\n",
       "    }\n",
       "\n",
       "    .dataframe tbody tr th {\n",
       "        vertical-align: top;\n",
       "    }\n",
       "\n",
       "    .dataframe thead th {\n",
       "        text-align: right;\n",
       "    }\n",
       "</style>\n",
       "<table border=\"1\" class=\"dataframe\">\n",
       "  <thead>\n",
       "    <tr style=\"text-align: right;\">\n",
       "      <th></th>\n",
       "      <th>Company_Brand</th>\n",
       "      <th>Founded</th>\n",
       "      <th>HeadQuarter</th>\n",
       "      <th>Sector</th>\n",
       "      <th>What_it_does</th>\n",
       "      <th>Founders</th>\n",
       "      <th>Investor</th>\n",
       "      <th>Amount</th>\n",
       "      <th>Stage</th>\n",
       "      <th>Year Funded</th>\n",
       "    </tr>\n",
       "  </thead>\n",
       "  <tbody>\n",
       "    <tr>\n",
       "      <th>107</th>\n",
       "      <td>Curefoods</td>\n",
       "      <td>2020.0</td>\n",
       "      <td>Bangalore</td>\n",
       "      <td>Food &amp; Beverages</td>\n",
       "      <td>Healthy &amp; nutritious foods and cold pressed ju...</td>\n",
       "      <td>Ankit Nagori</td>\n",
       "      <td>Iron Pillar, Nordstar, Binny Bansal</td>\n",
       "      <td>$13000000</td>\n",
       "      <td>None</td>\n",
       "      <td>2020</td>\n",
       "    </tr>\n",
       "    <tr>\n",
       "      <th>109</th>\n",
       "      <td>Bewakoof</td>\n",
       "      <td>2012.0</td>\n",
       "      <td>Mumbai</td>\n",
       "      <td>Apparel &amp; Fashion</td>\n",
       "      <td>Bewakoof is a lifestyle fashion brand that mak...</td>\n",
       "      <td>Prabhkiran Singh</td>\n",
       "      <td>InvestCorp</td>\n",
       "      <td>$8000000</td>\n",
       "      <td>None</td>\n",
       "      <td>2020</td>\n",
       "    </tr>\n",
       "    <tr>\n",
       "      <th>111</th>\n",
       "      <td>FanPlay</td>\n",
       "      <td>2020.0</td>\n",
       "      <td>Computer Games</td>\n",
       "      <td>Computer Games</td>\n",
       "      <td>A real money game app specializing in trivia g...</td>\n",
       "      <td>YC W21</td>\n",
       "      <td>Pritesh Kumar, Bharat Gupta</td>\n",
       "      <td>Upsparks</td>\n",
       "      <td>$1200000</td>\n",
       "      <td>2020</td>\n",
       "    </tr>\n",
       "    <tr>\n",
       "      <th>117</th>\n",
       "      <td>Advantage Club</td>\n",
       "      <td>2014.0</td>\n",
       "      <td>Mumbai</td>\n",
       "      <td>HRTech</td>\n",
       "      <td>Advantage Club is India's largest employee eng...</td>\n",
       "      <td>Sourabh Deorah, Smiti Bhatt Deorah</td>\n",
       "      <td>Y Combinator, Broom Ventures, Kunal Shah</td>\n",
       "      <td>$1700000</td>\n",
       "      <td>None</td>\n",
       "      <td>2020</td>\n",
       "    </tr>\n",
       "    <tr>\n",
       "      <th>119</th>\n",
       "      <td>Ruptok</td>\n",
       "      <td>2020.0</td>\n",
       "      <td>New Delhi</td>\n",
       "      <td>FinTech</td>\n",
       "      <td>Ruptok fintech Pvt. Ltd. is an online gold loa...</td>\n",
       "      <td>Ankur Gupta</td>\n",
       "      <td>Eclear Leasing</td>\n",
       "      <td>$1000000</td>\n",
       "      <td>None</td>\n",
       "      <td>2020</td>\n",
       "    </tr>\n",
       "  </tbody>\n",
       "</table>\n",
       "</div>"
      ],
      "text/plain": [
       "      Company_Brand  Founded     HeadQuarter             Sector  \\\n",
       "107       Curefoods   2020.0       Bangalore   Food & Beverages   \n",
       "109        Bewakoof   2012.0          Mumbai  Apparel & Fashion   \n",
       "111         FanPlay   2020.0  Computer Games     Computer Games   \n",
       "117  Advantage Club   2014.0          Mumbai             HRTech   \n",
       "119          Ruptok   2020.0       New Delhi            FinTech   \n",
       "\n",
       "                                          What_it_does  \\\n",
       "107  Healthy & nutritious foods and cold pressed ju...   \n",
       "109  Bewakoof is a lifestyle fashion brand that mak...   \n",
       "111  A real money game app specializing in trivia g...   \n",
       "117  Advantage Club is India's largest employee eng...   \n",
       "119  Ruptok fintech Pvt. Ltd. is an online gold loa...   \n",
       "\n",
       "                               Founders  \\\n",
       "107                        Ankit Nagori   \n",
       "109                    Prabhkiran Singh   \n",
       "111                              YC W21   \n",
       "117  Sourabh Deorah, Smiti Bhatt Deorah   \n",
       "119                         Ankur Gupta   \n",
       "\n",
       "                                     Investor     Amount     Stage  \\\n",
       "107       Iron Pillar, Nordstar, Binny Bansal  $13000000      None   \n",
       "109                                InvestCorp   $8000000      None   \n",
       "111               Pritesh Kumar, Bharat Gupta   Upsparks  $1200000   \n",
       "117  Y Combinator, Broom Ventures, Kunal Shah   $1700000      None   \n",
       "119                            Eclear Leasing   $1000000      None   \n",
       "\n",
       "     Year Funded  \n",
       "107         2020  \n",
       "109         2020  \n",
       "111         2020  \n",
       "117         2020  \n",
       "119         2020  "
      ]
     },
<<<<<<< HEAD
     "execution_count": 116,
=======
     "execution_count": 120,
>>>>>>> 43b96b4dfa7bddb17435e2b2cac05525a713e75a
     "metadata": {},
     "output_type": "execute_result"
    }
   ],
   "source": [
    "data2021[data2021.duplicated()].head()\n"
   ]
  },
  {
   "cell_type": "markdown",
   "metadata": {},
   "source": [
    "Delete them"
   ]
  },
  {
   "cell_type": "code",
<<<<<<< HEAD
   "execution_count": 117,
=======
   "execution_count": 121,
>>>>>>> 43b96b4dfa7bddb17435e2b2cac05525a713e75a
   "metadata": {},
   "outputs": [],
   "source": [
    "# Delete the duplicates and set the index\n",
    "\n",
    "data2021 = data2021.drop_duplicates().reset_index(drop=True)"
   ]
  },
  {
   "cell_type": "code",
<<<<<<< HEAD
   "execution_count": 118,
=======
   "execution_count": 122,
>>>>>>> 43b96b4dfa7bddb17435e2b2cac05525a713e75a
   "metadata": {},
   "outputs": [
    {
     "data": {
      "text/plain": [
       "(1190, 10)"
      ]
     },
<<<<<<< HEAD
     "execution_count": 118,
=======
     "execution_count": 122,
>>>>>>> 43b96b4dfa7bddb17435e2b2cac05525a713e75a
     "metadata": {},
     "output_type": "execute_result"
    }
   ],
   "source": [
    "# Check if duplicates were dropped\n",
    "\n",
    "data2021.shape"
   ]
  },
  {
   "cell_type": "markdown",
   "metadata": {},
   "source": [
    "Swap values interchanged"
   ]
  },
  {
   "cell_type": "code",
<<<<<<< HEAD
   "execution_count": 119,
=======
   "execution_count": 123,
>>>>>>> 43b96b4dfa7bddb17435e2b2cac05525a713e75a
   "metadata": {},
   "outputs": [],
   "source": [
    "# A function to swap vulues un specif columns\n",
    "\n",
    "def swap_values(df, row_index, column1, column2):\n",
    "    \"\"\"\n",
    "    Swaps the values of two specific columns in a DataFrame for a given row index.\n",
    "\n",
    "    Args:\n",
    "        df (pd.DataFrame): The DataFrame to be modified.\n",
    "        row_index: The index of the row where the values will be swapped.\n",
    "        column1 (str): The name of the first column.\n",
    "        column2 (str): The name of the second column.\n",
    "\n",
    "    Returns:\n",
    "        pd.DataFrame: The DataFrame with the swapped values.\n",
    "    \"\"\"\n",
    "    df_modified = df.copy()\n",
    "    value1 = df_modified.at[row_index, column1]\n",
    "    value2 = df_modified.at[row_index, column2]\n",
    "    df_modified.at[row_index, column1] = value2\n",
    "    df_modified.at[row_index, column2] = value1\n",
    "    return df_modified\n"
   ]
  },
  {
   "cell_type": "code",
<<<<<<< HEAD
   "execution_count": 120,
=======
   "execution_count": 124,
>>>>>>> 43b96b4dfa7bddb17435e2b2cac05525a713e75a
   "metadata": {},
   "outputs": [],
   "source": [
    "# Apply function to swap Amount and Stage cols\n",
    "\n",
    "data2021 = swap_values(data2021, 98 , 'Amount', 'Stage')\n",
    "data2021 = swap_values(data2021, 655 , 'Amount', 'Stage')"
   ]
  },
  {
   "cell_type": "markdown",
   "metadata": {},
   "source": [
    "#### Update misplaced values"
   ]
  },
  {
   "cell_type": "markdown",
   "metadata": {},
   "source": [
    "We now update values wrongly placed or mispelt"
   ]
  },
  {
   "cell_type": "code",
<<<<<<< HEAD
   "execution_count": 121,
=======
   "execution_count": 125,
>>>>>>> 43b96b4dfa7bddb17435e2b2cac05525a713e75a
   "metadata": {},
   "outputs": [],
   "source": [
    "# A function to update values in specific columns and rows\n",
    "\n",
    "def update_values(df, row_index, column_values):\n",
    "    \"\"\"\n",
    "    Updates multiple values in a DataFrame for a specific row.\n",
    "\n",
    "    Args:\n",
    "        df (pd.DataFrame): The DataFrame to be modified.\n",
    "        row_index: The index of the row where the values will be updated.\n",
    "        column_values (dict): Dictionary where keys are column names and values are the new values.\n",
    "\n",
    "    Returns:\n",
    "        pd.DataFrame: The DataFrame with the updated values.\n",
    "    \"\"\"\n",
    "    df_modified = df.copy()\n",
    "    for column, value in column_values.items():\n",
    "        df_modified.at[row_index, column] = value\n",
    "    return df_modified\n",
    "\n"
   ]
  },
  {
   "cell_type": "code",
<<<<<<< HEAD
   "execution_count": 122,
=======
   "execution_count": 126,
>>>>>>> 43b96b4dfa7bddb17435e2b2cac05525a713e75a
   "metadata": {},
   "outputs": [],
   "source": [
    "# Apply function to specific rows and columns\n",
    "\n",
    "data2021 = update_values(data2021, 237, column_values={'Investor': 'Unknown', 'Amount': '$22000000', 'Stage': 'Series C'})\n",
    "\n",
    "data2021 = update_values(data2021, 238, column_values={'HeadQuarter':'Gurugram', 'Investor': 'Unknown', 'Amount': '$5000000', 'Stage': 'Seed'})\n",
    "\n",
    "data2021 = update_values(data2021, 526, column_values={'Investor': 'Unknown', 'Amount': '$1000000', 'Stage': 'Pre-series A'})\n",
    "\n",
    "data2021 = update_values(data2021, 532, column_values={'Founders': 'Omkar Pandharkame, Ketaki Ogale' ,'Investor': 'JITO Angel Network, LetsVenture', 'Amount': '$300000', 'Stage': 'Venture-Series Unknown'})\n",
    "\n",
    "data2021 = update_values(data2021, 658, column_values={'Founders': 'Sushil Agarwal' ,'Investor': 'JITO Angel Network, LetsVenture', 'Amount': '$1000000', 'Stage': 'Venture-Series Unknown'})\n",
    "\n",
    "# data2021 = update_values(data2021, 1100, column_values={'HeadQuarter': 'Bangalore' ,'Investor': ' VINNERS, Raj Nayak, Viacom18 Media, Amritaanshu Agrawal, Mirabaud', 'Amount': '$Undisclosed', 'Stage': 'Venture-Series Unknown'})\n",
    "\n",
    "data2021 = update_values(data2021, 519, column_values={'Founders': 'Vishal Gupta' ,'Investor': 'ah! Ventures', 'Amount': '$300000', 'Stage': 'Venture-Series Unknown'})\n",
    "\n",
    "data2021 = update_values(data2021, 1148, column_values={ 'Investor': 'Capt. Anand Aryamane', 'Amount': '$1000000', 'Stage': 'Seed'})\n",
    "\n",
    "\n",
    "data2021 = update_values(data2021, 1129, column_values={ 'Investor': 'Capt. Anand Aryamane', 'Amount': '$1000000', 'Stage': 'Seed'})"
   ]
  },
  {
   "cell_type": "code",
<<<<<<< HEAD
   "execution_count": 123,
=======
   "execution_count": 127,
>>>>>>> 43b96b4dfa7bddb17435e2b2cac05525a713e75a
   "metadata": {},
   "outputs": [
    {
     "data": {
      "text/html": [
       "<div>\n",
       "<style scoped>\n",
       "    .dataframe tbody tr th:only-of-type {\n",
       "        vertical-align: middle;\n",
       "    }\n",
       "\n",
       "    .dataframe tbody tr th {\n",
       "        vertical-align: top;\n",
       "    }\n",
       "\n",
       "    .dataframe thead th {\n",
       "        text-align: right;\n",
       "    }\n",
       "</style>\n",
       "<table border=\"1\" class=\"dataframe\">\n",
       "  <thead>\n",
       "    <tr style=\"text-align: right;\">\n",
       "      <th></th>\n",
       "      <th>Company_Brand</th>\n",
       "      <th>Founded</th>\n",
       "      <th>HeadQuarter</th>\n",
       "      <th>Sector</th>\n",
       "      <th>What_it_does</th>\n",
       "      <th>Founders</th>\n",
       "      <th>Investor</th>\n",
       "      <th>Amount</th>\n",
       "      <th>Stage</th>\n",
       "      <th>Year Funded</th>\n",
       "    </tr>\n",
       "  </thead>\n",
       "  <tbody>\n",
       "    <tr>\n",
       "      <th>1148</th>\n",
       "      <td>Coutloot</td>\n",
       "      <td>2016.0</td>\n",
       "      <td>Mumbai</td>\n",
       "      <td>Consumer Services</td>\n",
       "      <td>Empowering local markets to sell online social...</td>\n",
       "      <td>Mahima Kaul, Jasmeet Thind</td>\n",
       "      <td>Capt. Anand Aryamane</td>\n",
       "      <td>$1000000</td>\n",
       "      <td>Seed</td>\n",
       "      <td>2020</td>\n",
       "    </tr>\n",
       "  </tbody>\n",
       "</table>\n",
       "</div>"
      ],
      "text/plain": [
       "     Company_Brand  Founded HeadQuarter             Sector  \\\n",
       "1148      Coutloot   2016.0      Mumbai  Consumer Services   \n",
       "\n",
       "                                           What_it_does  \\\n",
       "1148  Empowering local markets to sell online social...   \n",
       "\n",
       "                        Founders              Investor    Amount Stage  \\\n",
       "1148  Mahima Kaul, Jasmeet Thind  Capt. Anand Aryamane  $1000000  Seed   \n",
       "\n",
       "      Year Funded  \n",
       "1148         2020  "
      ]
     },
<<<<<<< HEAD
     "execution_count": 123,
=======
     "execution_count": 127,
>>>>>>> 43b96b4dfa7bddb17435e2b2cac05525a713e75a
     "metadata": {},
     "output_type": "execute_result"
    }
   ],
   "source": [
    "# Check just by one example\n",
    "\n",
    "data2021.iloc[[1148]]"
   ]
  },
  {
   "cell_type": "markdown",
   "metadata": {},
   "source": [
    "#### Company_Brand column"
   ]
  },
  {
   "cell_type": "code",
<<<<<<< HEAD
   "execution_count": 124,
=======
   "execution_count": 128,
>>>>>>> 43b96b4dfa7bddb17435e2b2cac05525a713e75a
   "metadata": {},
   "outputs": [
    {
     "data": {
      "text/plain": [
       "BharatPe                           8\n",
       "BYJU'S                             4\n",
       "MPL                                3\n",
       "Ola Electric                       3\n",
       "OYO                                3\n",
       "Spinny                             3\n",
       "Bizongo                            3\n",
       "Siply                              3\n",
       "MediBuddy                          3\n",
       "Jumbotail                          3\n",
       "Captain Fresh                      3\n",
       "Northern Arc                       3\n",
       "Slice                              3\n",
       "KreditBee                          3\n",
       "Karbon Card                        3\n",
       "Delhivery                          3\n",
       "DealShare                          3\n",
       "Zetwerk                            3\n",
       "CoinSwitch Kuber                   3\n",
       "Teachmint                          3\n",
       "Ruptok                             2\n",
       "Pine Labs                          2\n",
       "Kirana247                          2\n",
       "Groww                              2\n",
       "PumPumPum                          2\n",
       "Comofi Medtech                     2\n",
       "Leap Finance                       2\n",
       "Licious                            2\n",
       "Bimaplan                           2\n",
       "upGrad                             2\n",
       "FloBiz                             2\n",
       "AppsForBharat                      2\n",
       "Expertrons                         2\n",
       "Uable                              2\n",
       "Rapido                             2\n",
       "Purplle                            2\n",
       "True Balance                       2\n",
       "Log 9 Materials                    2\n",
       "GlobalBees                         2\n",
       "Zepto                              2\n",
       "F5                                 2\n",
       "NeoDocs                            2\n",
       "Zingbus                            2\n",
       "SuperGaming                        2\n",
       "Mamaearth                          2\n",
       "CollegeDekho                       2\n",
       "Vidyakul                           2\n",
       "Urban Company                      2\n",
       "VerSe Innovation                   2\n",
       "Bombay Shaving Company             2\n",
       "Sporjo                             2\n",
       "BankSathi                          2\n",
       "GoKwik                             2\n",
       "Capital Float                      2\n",
       "Avanti Finance                     2\n",
       "Arcana                             2\n",
       "Nazara Technologies                2\n",
       "Advantage Club                     2\n",
       "Sapio Analytics                    2\n",
       "Pristyn Care                       2\n",
       "Chingari                           2\n",
       "Supertails                         2\n",
       "Codingal                           2\n",
       "OfBusiness                         2\n",
       "CityMall                           2\n",
       "RenewBuy                           2\n",
       "Trell                              2\n",
       "IsGoingOnline                      2\n",
       "Vanity Wagon                       2\n",
       "Celcius                            2\n",
       "SATYA MicroCapital                 2\n",
       "Wysa                               2\n",
       "Inshorts                           2\n",
       "Elda Health                        2\n",
       "Klub                               2\n",
       "Imagimake                          2\n",
       "MFine                              2\n",
       "Knocksense                         2\n",
       "Euler Motors                       2\n",
       "Digit Insurance                    2\n",
       "DotPe                              2\n",
       "MyGlamm                            2\n",
       "Practically                        2\n",
       "ReshaMandi                         2\n",
       "Miko                               2\n",
       "NFTically                          2\n",
       "Fantasy Akhada                     2\n",
       "Biconomy                           2\n",
       "Junio                              2\n",
       "Unbox Robotics                     2\n",
       "Battery Smart                      2\n",
       "FarMart                            2\n",
       "Breathe Well-being                 2\n",
       "Bijnis                             2\n",
       "LegalPay                           2\n",
       "Meesho                             2\n",
       "Flatheads                          2\n",
       "Virohan                            2\n",
       "Questt                             2\n",
       "Rupifi                             2\n",
       "Bewakoof                           2\n",
       "Chqbook                            2\n",
       "Indifi                             2\n",
       "Infra.Market                       2\n",
       "Apna                               2\n",
       "Lenskart                           2\n",
       "Chalo                              2\n",
       "Zupee                              2\n",
       "boAt                               2\n",
       "Fashinza                           2\n",
       "Unacademy                          2\n",
       "Velocity                           2\n",
       "Zolve                              2\n",
       "Furlenco                           2\n",
       "Onsurity                           2\n",
       "Cora Health                        2\n",
       "Koo                                2\n",
       "Dream Sports                       2\n",
       "Rage Coffee                        2\n",
       "Meddo                              2\n",
       "DeHaat                             2\n",
       "CRED                               2\n",
       "Progcap                            2\n",
       "Instoried                          2\n",
       "Toothsi                            2\n",
       "Camp K12                           2\n",
       "Leverage Edu                       2\n",
       "Akudo                              2\n",
       "TartanSense                        2\n",
       "Sirona Hygiene                     2\n",
       "Pariksha                           2\n",
       "Policybazaar                       1\n",
       "Safex Chemicals                    1\n",
       "Leap India                         1\n",
       "Plum                               1\n",
       "BatteryPool                        1\n",
       "Yu Foodlabs                        1\n",
       "Kissan Pro                         1\n",
       "Fyllo                              1\n",
       "InnerHour                          1\n",
       "TechEagle                          1\n",
       "Spark Studio                       1\n",
       "GalaxEye                           1\n",
       "Codedamn                           1\n",
       "Mailmodo                           1\n",
       "Deciwood                           1\n",
       "1Bridge                            1\n",
       "Postman                            1\n",
       "Edmingle                           1\n",
       "RuleZero                           1\n",
       "Get My Parking                     1\n",
       "ABL Workspaces                     1\n",
       "Skymet                             1\n",
       "Voxelgrids                         1\n",
       "Candes                             1\n",
       "IBSFINtech                         1\n",
       "Jeevam Health                      1\n",
       "Troo Good                          1\n",
       "Vahdam                             1\n",
       "Jambox Games                       1\n",
       "MYRE Capital                       1\n",
       "Enthu.ai                           1\n",
       "Jobsgaar                           1\n",
       "Wingreens Farms                    1\n",
       "Kredent                            1\n",
       "Arbo Works                         1\n",
       "Knackit                            1\n",
       "Slang Labs                         1\n",
       "Boutique Spirit Brands             1\n",
       "Rentomojo                          1\n",
       "Spintly                            1\n",
       "Smartstaff                         1\n",
       "Pitstop                            1\n",
       "Toppersnotes                       1\n",
       "Smart Express                      1\n",
       "Pixxel                             1\n",
       "Curefoods                          1\n",
       "WeRize                             1\n",
       "Hyreo                              1\n",
       "Eunimart                           1\n",
       "ideaForge                          1\n",
       "NephroPlus                         1\n",
       "Almo                               1\n",
       "Aquatein                           1\n",
       "Aquaconnect                        1\n",
       "TrulyMadly                         1\n",
       "KiranaKart                         1\n",
       "Spottabl                           1\n",
       "PlayShifu                          1\n",
       "SSA Finserv                        1\n",
       "21K School                         1\n",
       "MentorKart                         1\n",
       "CarDekho                           1\n",
       "ASQI Advisors                      1\n",
       "Sanctum Wealth                     1\n",
       "GoMechanic                         1\n",
       "3SC                                1\n",
       "My3DSelfie                         1\n",
       "FlashPrep                          1\n",
       "GrowFix                            1\n",
       "Pazcare                            1\n",
       "NIRAMAI                            1\n",
       "CuriousJr                          1\n",
       "LetsDressUp                        1\n",
       "RevFin                             1\n",
       "WINDO                              1\n",
       "CareerLabs                         1\n",
       "Razorpay                           1\n",
       "BrowserStack                       1\n",
       "Curefit                            1\n",
       "Ozonetel                           1\n",
       "Rulezero                           1\n",
       "VenWiz                             1\n",
       "Synapsica                          1\n",
       "The Sleep Company                  1\n",
       "Bolkar                             1\n",
       "Lido Learning                      1\n",
       "Edukemy                            1\n",
       "Whiz League                        1\n",
       "FreeStand                          1\n",
       "Bandhoo                            1\n",
       "Goodmeetings                       1\n",
       "Ezstays                            1\n",
       "PeakPerformer                      1\n",
       "Hakuna Matata                      1\n",
       "BimaPe                             1\n",
       "Klassroom                          1\n",
       "Svasti Microfinance                1\n",
       "CredAvenue                         1\n",
       "Prescinto                          1\n",
       "Vital                              1\n",
       "MasterMentors                      1\n",
       "TheHouseMonk                       1\n",
       "Mentoria                           1\n",
       "moneyHOP                           1\n",
       "Treebo Hotels                      1\n",
       "Turtlemint                         1\n",
       "NeoDove                            1\n",
       "EasyAspataal                       1\n",
       "Credenc                            1\n",
       "Paytail                            1\n",
       "Lio                                1\n",
       "Simple Energy                      1\n",
       "Vegrow                             1\n",
       "CommerceUp                         1\n",
       "BlueLearn                          1\n",
       "Flexmoney                          1\n",
       "Peak                               1\n",
       "Avishkaar                          1\n",
       "Stellaris Venture Partners         1\n",
       "Annapurna Finance                  1\n",
       "Mensa Brands                       1\n",
       "Atomberg                           1\n",
       "SuperBottoms                       1\n",
       "FrontRow                           1\n",
       "Jidoka Technologies                1\n",
       "FypMoney                           1\n",
       "Avalon Labs                        1\n",
       "Medpho                             1\n",
       "Powerplay                          1\n",
       "Storia                             1\n",
       "Haqdarshak                         1\n",
       "OneCard                            1\n",
       "PropReturns                        1\n",
       "Nexprt                             1\n",
       "Unlu                               1\n",
       "SK Finance                         1\n",
       "HappyCredit                        1\n",
       "Veefin                             1\n",
       "FRND                               1\n",
       "Ruptok Fintech                     1\n",
       "MoEVing                            1\n",
       "Jar                                1\n",
       "BeyondSkool                        1\n",
       "D’Moksha Homes                     1\n",
       "Stylework                          1\n",
       "Green Cure                         1\n",
       "Arthya Wealth and Investments      1\n",
       "WeSkill                            1\n",
       "Smart Joules                       1\n",
       "Superpro.ai                        1\n",
       "ProfitWheel                        1\n",
       "MyDentalPlan                       1\n",
       "BASIC Home Loan                    1\n",
       "Headfone                           1\n",
       "Hypd Store                         1\n",
       "goEgoNetwork                       1\n",
       "Fitterfly                          1\n",
       "TRDR                               1\n",
       "BricSpaces                         1\n",
       "Easebuzz                           1\n",
       "CoffeeMug.ai                       1\n",
       "Myelin Foundry                     1\n",
       "O4S                                1\n",
       "Firmway                            1\n",
       "Cogos Technologies                 1\n",
       "88academics                        1\n",
       "Legitquest                         1\n",
       "LifeCell                           1\n",
       "CHUPPS                             1\n",
       "IDfy                               1\n",
       "Melorra                            1\n",
       "Goodmylk                           1\n",
       "Beco                               1\n",
       "AnKa SumMor                        1\n",
       "Rockclimber                        1\n",
       "FanPlay                            1\n",
       "Eggoz                              1\n",
       "PharmEasy                          1\n",
       "Filo                               1\n",
       "ElasticRun                         1\n",
       "Maya                               1\n",
       "Finsall                            1\n",
       "Pocket Aces                        1\n",
       "Newton School                      1\n",
       "NewLink Group                      1\n",
       "Taskmo                             1\n",
       "PingoLearn                         1\n",
       "Upgame                             1\n",
       "Fourth Partner Energy              1\n",
       "Syook                              1\n",
       "iMumz                              1\n",
       "Grip Invest                        1\n",
       "Perfora                            1\n",
       "Aisle                              1\n",
       "Glamplus                           1\n",
       "Agri10x                            1\n",
       "WinZO                              1\n",
       "MetroRide                          1\n",
       "Sochcast                           1\n",
       "Artium Academy                     1\n",
       "Reccy Adventures                   1\n",
       "Wherehouse.io                      1\n",
       "Sunstone Eduversity                1\n",
       "CredAble                           1\n",
       "The Money Club                     1\n",
       "Fuel Buddy                         1\n",
       "QuickSell                          1\n",
       "Plutomen                           1\n",
       "MyMobiForce                        1\n",
       "Cred                               1\n",
       "Blue Tokai Coffee Roasters         1\n",
       "Scentials                          1\n",
       "LoveLocal                          1\n",
       "Now&Me                             1\n",
       "LimeChat                           1\n",
       "Chara                              1\n",
       "Knorish                            1\n",
       "Dybo                               1\n",
       "Oneiric Gaming                     1\n",
       "SupplyNote                         1\n",
       "Legalwiz.in                        1\n",
       "ANS Commerce                       1\n",
       "The Gourmet Jar                    1\n",
       "GameEon Studios                    1\n",
       "Coutloot                           1\n",
       "Fabheads                           1\n",
       "Onato                              1\n",
       "GramCover                          1\n",
       "Better Capital                     1\n",
       "CreatorStack                       1\n",
       "Alpha Coach                        1\n",
       "Kudos                              1\n",
       "HealthPlix                         1\n",
       "Snack Amor                         1\n",
       "Exotel                             1\n",
       "Tummoc                             1\n",
       "BetterPlace                        1\n",
       "Homingos                           1\n",
       "Powerhouse91                       1\n",
       "Juspay                             1\n",
       "Settl                              1\n",
       "Nestasia                           1\n",
       "Wallmantra                         1\n",
       "Adda247                            1\n",
       "TyrePlex                           1\n",
       "MedPrime Technologies              1\n",
       "SleepyCat                          1\n",
       "Airblack                           1\n",
       "Agnikul                            1\n",
       "Zoomcar                            1\n",
       "Fabriclore                         1\n",
       "Nap Chief                          1\n",
       "Pencilton                          1\n",
       "Samaaro                            1\n",
       "Kohbee                             1\n",
       "Trinkerr                           1\n",
       "Lavado                             1\n",
       "Vah Vah!                           1\n",
       "Vedic Cosmeceuticals               1\n",
       "MergerDomo                         1\n",
       "Qin1                               1\n",
       "Loop Health                        1\n",
       "Duroflex                           1\n",
       "AutomataPi                         1\n",
       "Edvizo                             1\n",
       "PayGlocal                          1\n",
       "HomeLane                           1\n",
       "WiT-ACE                            1\n",
       "Sugar.fit                          1\n",
       "Doubtnut                           1\n",
       "GalaxyCard                         1\n",
       "Fixcraft                           1\n",
       "Kale Logistics                     1\n",
       "Porter                             1\n",
       "Tekie                              1\n",
       "Exponent Energy                    1\n",
       "DigiSparsh                         1\n",
       "Jupiter                            1\n",
       "SarvaGram                          1\n",
       "BeatO                              1\n",
       "LearnVern                          1\n",
       "BigLeap                            1\n",
       "SuperK                             1\n",
       "Onelife Nutriscience               1\n",
       "Pratilipi                          1\n",
       "Revfin                             1\n",
       "TenderCuts                         1\n",
       "moEVing                            1\n",
       "immunitoAI                         1\n",
       "ShopMyLooks                        1\n",
       "SmartCoin                          1\n",
       "India Quotient                     1\n",
       "Skit                               1\n",
       "GoSats                             1\n",
       "Wiingy                             1\n",
       "CARS24                             1\n",
       "Strata                             1\n",
       "Phool.co                           1\n",
       "DcodeAI                            1\n",
       "CometChat                          1\n",
       "Pankhuri                           1\n",
       "SpEd@home                          1\n",
       "Smallcase                          1\n",
       "BookingJini                        1\n",
       "Anvidha Technologies               1\n",
       "Pencil                             1\n",
       "Wobb                               1\n",
       "NOTO                               1\n",
       "Kazam                              1\n",
       "Anar                               1\n",
       "Totality                           1\n",
       "Zerone                             1\n",
       "Nimble Growth Organics             1\n",
       "Five Star Finance                  1\n",
       "iBus                               1\n",
       "Zorro                              1\n",
       "The Whole Truth                    1\n",
       "Bluepad                            1\n",
       "Boingg                             1\n",
       "Auntie Fung                        1\n",
       "Tickertape                         1\n",
       "Faarms                             1\n",
       "Wonderchef                         1\n",
       "VRO Hospitality                    1\n",
       "Avail Finance                      1\n",
       "Eupheus                            1\n",
       "Little Leap                        1\n",
       "Vedantu                            1\n",
       "MoEngage                           1\n",
       "Optimized Electrotech              1\n",
       "Hash                               1\n",
       "M1xchange                          1\n",
       "EV Plugs                           1\n",
       "Supply6                            1\n",
       "Twin Health                        1\n",
       "Zypp Electric                      1\n",
       "NirogStreet                        1\n",
       "ZestMoney                          1\n",
       "Strip Finance                      1\n",
       "Pocket FM                          1\n",
       "8i Ventures                        1\n",
       "RIPPLR                             1\n",
       "Detect Technologies                1\n",
       "Gyde                               1\n",
       "QuickShift                         1\n",
       "Kodo Card                          1\n",
       "REVOS                              1\n",
       "Origo                              1\n",
       "Unnati                             1\n",
       "Keito                              1\n",
       "Dunzo                              1\n",
       "Shyplite                           1\n",
       "Aqgromalin                         1\n",
       "MasterChow                         1\n",
       "GlobalFair                         1\n",
       "Wiz Freight                        1\n",
       "Crater.Club                        1\n",
       "leap.club                          1\n",
       "R for Rabbit                       1\n",
       "Defy                               1\n",
       "Godamwale                          1\n",
       "Evenflow Brands                    1\n",
       "Phable                             1\n",
       "GODI Energy                        1\n",
       "ReadyAssist                        1\n",
       "Flipspaces                         1\n",
       "Shiprocket                         1\n",
       "Automovill                         1\n",
       "Insurance Samadhan                 1\n",
       "PazCare                            1\n",
       "Anveshan                           1\n",
       "NirogGyan                          1\n",
       "Otipy                              1\n",
       "Nalanda Learning                   1\n",
       "Pocketly                           1\n",
       "ixigo                              1\n",
       "Elixia Tech Solutions              1\n",
       "Raptee Energy                      1\n",
       "Ecom Express                       1\n",
       "Cashfree                           1\n",
       "Homeville                          1\n",
       "NODWIN                             1\n",
       "Plix                               1\n",
       "Sea6 Energy                        1\n",
       "MYSUN                              1\n",
       "Ishitva                            1\n",
       "MedPay                             1\n",
       "Ninety One                         1\n",
       "FanAnywhere                        1\n",
       "Cloudphysician                     1\n",
       "Kutumb                             1\n",
       "AntWak                             1\n",
       "Ankur capital                      1\n",
       "Uvi Health                         1\n",
       "Kenko Health                       1\n",
       "FanCode                            1\n",
       "Ola                                1\n",
       "M2P Fintech                        1\n",
       "IGL                                1\n",
       "ConveGenius                        1\n",
       "Clairco                            1\n",
       "Factors.AI                         1\n",
       "FRAAZO                             1\n",
       "saarthi.ai                         1\n",
       "Betterhalf.ai                      1\n",
       "Accio Robotics                     1\n",
       "Cusmat                             1\n",
       "Indi Energy                        1\n",
       "Easiloan                           1\n",
       "Wow! Momo                          1\n",
       "byteXL                             1\n",
       "Learn4o Technology                 1\n",
       "Clensta                            1\n",
       "EsportsXO                          1\n",
       "Metadome                           1\n",
       "Fi                                 1\n",
       "Superplum                          1\n",
       "SecureNow                          1\n",
       "Smytten                            1\n",
       "Studio Sirah                       1\n",
       "Fieldproxy                         1\n",
       "ZFW Hospitality                    1\n",
       "XYXX Apparels                      1\n",
       "Blive                              1\n",
       "Fitpage                            1\n",
       "Hashnode                           1\n",
       "Skylark Drones                     1\n",
       "DGV                                1\n",
       "CoRover                            1\n",
       "TagZ Foods                         1\n",
       "JetSynthesys                       1\n",
       "NimbleBox.ai                       1\n",
       "Trica                              1\n",
       "CloudFiles                         1\n",
       "Green Soul                         1\n",
       "Pepperfry                          1\n",
       "ixamBee                            1\n",
       "Neokred                            1\n",
       "Wakefit                            1\n",
       "Tinkerly                           1\n",
       "1K Kirana Bazaar                   1\n",
       "TravClan                           1\n",
       "Genext Students                    1\n",
       "Dropshop                           1\n",
       "MedTel Healthcare                  1\n",
       "Prolgae                            1\n",
       "Saveo                              1\n",
       "OWO Technologies                   1\n",
       "Puresh Daily                       1\n",
       "Elucidata                          1\n",
       "Zoko                               1\n",
       "Chargeup                           1\n",
       "MSMEx                              1\n",
       "Navia Life Care                    1\n",
       "UpScalio                           1\n",
       "Max Healthcare                     1\n",
       "Kolo                               1\n",
       "Karnival                           1\n",
       "goSTOPS                            1\n",
       "6Degree                            1\n",
       "Convosight                         1\n",
       "Ourbetterplanet                    1\n",
       "Cancer Clinics                     1\n",
       "Devnagri                           1\n",
       "ExtraaEdge                         1\n",
       "CanPe                              1\n",
       "Kiko Live                          1\n",
       "Ergos                              1\n",
       "VLCC Health Care                   1\n",
       "BlackSoil NBFC                     1\n",
       "Fleek                              1\n",
       "Lysto                              1\n",
       "Gumlet                             1\n",
       "BangDB                             1\n",
       "Chai Waale                         1\n",
       "Nestroots                          1\n",
       "Muvin                              1\n",
       "Toplyne                            1\n",
       "Makers Hive                        1\n",
       "Disprz                             1\n",
       "DusMinute                          1\n",
       "WaterScience                       1\n",
       "Bella Vita Organic                 1\n",
       "Toch.ai                            1\n",
       "Zenduty                            1\n",
       "LoanKuber                          1\n",
       "Oye Rickshaw                       1\n",
       "Mohalla Tech                       1\n",
       "GoTo                               1\n",
       "Aviom Housing Finance              1\n",
       "Wondrlab                           1\n",
       "Fountain9                          1\n",
       "Marquee Equity                     1\n",
       "SP Robotic Works                   1\n",
       "BlackSoil                          1\n",
       "Tamasha                            1\n",
       "ORAI                               1\n",
       "Zorgers                            1\n",
       "90+ My Tuition App                 1\n",
       "OZiva                              1\n",
       "YourPhysio                         1\n",
       "Mindhouse                          1\n",
       "CashBook                           1\n",
       "SMOOR                              1\n",
       "Beldara                            1\n",
       "Inzpira                            1\n",
       "SportZchain                        1\n",
       "Wasabi                             1\n",
       "Do Your Thng                       1\n",
       "Spry                               1\n",
       "Asirvad Microfinance               1\n",
       "Clear                              1\n",
       "Fable Fintech                      1\n",
       "Habbit                             1\n",
       "Gobillion                          1\n",
       "WeWork India                       1\n",
       "Thingsup                           1\n",
       "Dezerv.                            1\n",
       "SplashLearn                        1\n",
       "Auric                              1\n",
       "Dukaan                             1\n",
       "Settlrs                            1\n",
       "AcknoLedger                        1\n",
       "Farmers Fresh Zone                 1\n",
       "Braingroom                         1\n",
       "Visit Health                       1\n",
       "bitsCrunch                         1\n",
       "Zouk                               1\n",
       "Frenzi                             1\n",
       "Magenta EV                         1\n",
       "Freyr Energy                       1\n",
       "Kyt                                1\n",
       "Pickright Technologies             1\n",
       "Sanfe                              1\n",
       "Biddano                            1\n",
       "The ePlane                         1\n",
       "Tessolve                           1\n",
       "EventBeep                          1\n",
       "RACEnergy                          1\n",
       "SkilloVilla                        1\n",
       "Cell Propulsion                    1\n",
       "RENEE Cosmetics                    1\n",
       "Murf.ai                            1\n",
       "Soothe Healthcare                  1\n",
       "StockGro                           1\n",
       "ImaginXP                           1\n",
       "Biocon Biologics                   1\n",
       "Neeman                             1\n",
       "Flo Mobility                       1\n",
       "Juicy chemistry                    1\n",
       "ClearDekho                         1\n",
       "BlissClub                          1\n",
       "Kwik Foods                         1\n",
       "Ultraviolette                      1\n",
       "HealthifyMe                        1\n",
       "ApnaKlub                           1\n",
       "TWID                               1\n",
       "UptimeAI                           1\n",
       "Yojak                              1\n",
       "Haber                              1\n",
       "Koparo                             1\n",
       "Classplus                          1\n",
       "Convin                             1\n",
       "Ultrahuman                         1\n",
       "IntelleWings                       1\n",
       "Kutuki                             1\n",
       "KIKO TV                            1\n",
       "Supersourcing                      1\n",
       "Neobank Jupiter                    1\n",
       "MYFITNESS                          1\n",
       "Polygon                            1\n",
       "SaaS Labs                          1\n",
       "Karkhana.io                        1\n",
       "Hyperface                          1\n",
       "Juicy Chemistry                    1\n",
       "Bikry app                          1\n",
       "Manch Technologies                 1\n",
       "ShopSe                             1\n",
       "Tilt                               1\n",
       "TurboHire                          1\n",
       "The Hosteller                      1\n",
       "Ingenium                           1\n",
       "Aerchain                           1\n",
       "eShipz                             1\n",
       "Speciale Invest                    1\n",
       "NewsReach                          1\n",
       "SeeVC                              1\n",
       "BOX8                               1\n",
       "WESS                               1\n",
       "Credgenics                         1\n",
       "BharatAgri                         1\n",
       "KIWI                               1\n",
       "Apna.co                            1\n",
       "Enguru                             1\n",
       "Coinshift                          1\n",
       "Intervue                           1\n",
       "Express Stores                     1\n",
       "Yodacart                           1\n",
       "AdmitKard                          1\n",
       "TABLT                              1\n",
       "infra.market                       1\n",
       "Apnaklub                           1\n",
       "Pickrr                             1\n",
       "Even                               1\n",
       "KoineArth                          1\n",
       "The Ayurveda Co                    1\n",
       "The Viral Fever                    1\n",
       "Genworks Health                    1\n",
       "EarnWealth                         1\n",
       "Dozee                              1\n",
       "Loco                               1\n",
       "Vakilsearch                        1\n",
       "CredFlow                           1\n",
       "Kaar Technologies                  1\n",
       "Upside AI                          1\n",
       "Mestastop Solutions                1\n",
       "Recordent                          1\n",
       "Vahak                              1\n",
       "Verandah                           1\n",
       "Glii                               1\n",
       "Masai School                       1\n",
       "Insane AI                          1\n",
       "Vitra.ai                           1\n",
       "Pathfndr.io                        1\n",
       "Hubhopper                          1\n",
       "Swajal                             1\n",
       "Hubilo                             1\n",
       "Swiflearn                          1\n",
       "BeepKart                           1\n",
       "ApplicateAI                        1\n",
       "Oyo                                1\n",
       "VilCart                            1\n",
       "TruNativ                           1\n",
       "Proeon                             1\n",
       "MYBYK                              1\n",
       "Zaara Biotech                      1\n",
       "Sterling Accuris Wellness          1\n",
       "Prodo                              1\n",
       "Quizizz                            1\n",
       "LivQuik Technology                 1\n",
       "Paperfly                           1\n",
       "Digantara                          1\n",
       "Bikayi                             1\n",
       "Cuvette Tech                       1\n",
       "Square Yards                       1\n",
       "Anar Business Community            1\n",
       "Homversity                         1\n",
       "Pixuate                            1\n",
       "Locus                              1\n",
       "Bambinos                           1\n",
       "Playo                              1\n",
       "Samunnati                          1\n",
       "AgroStar                           1\n",
       "ION Energy                         1\n",
       "Jai Kisan                          1\n",
       "Saarthi Pedagogy                   1\n",
       "Qoohoo                             1\n",
       "Fraazo                             1\n",
       "Sarathi                            1\n",
       "Swiggy                             1\n",
       "ChefKart                           1\n",
       "Cashify                            1\n",
       "Oliveboard                         1\n",
       "Gramophone                         1\n",
       "Playto Labs                        1\n",
       "GTM Buddy                          1\n",
       "EyeMyEye                           1\n",
       "Humit                              1\n",
       "AgNext                             1\n",
       "ElectricPe                         1\n",
       "Kafqa Academy                      1\n",
       "FloCareer                          1\n",
       "Minimalist                         1\n",
       "Mobileware Technologies            1\n",
       "InfyU Labs                         1\n",
       "Nao Spirits & Beverages Pvt Ltd    1\n",
       "CredRight                          1\n",
       "Mentza                             1\n",
       "Onelife                            1\n",
       "Atomberg Technologies              1\n",
       "Happy Jars                         1\n",
       "Healofy                            1\n",
       "SuperZop                           1\n",
       "SuperOps.ai                        1\n",
       "Grinntech                          1\n",
       "Darwinbox                          1\n",
       "Avataar Ventures                   1\n",
       "House of Kieraya                   1\n",
       "Xpresslane                         1\n",
       "ThatMate                           1\n",
       "Leegality                          1\n",
       "CareerNinja                        1\n",
       "Neverinstall                       1\n",
       "PlanetSpark                        1\n",
       "GuardianLink                       1\n",
       "Disruptium                         1\n",
       "Udayy                              1\n",
       "Biocraft Innovation Technology     1\n",
       "Unremot                            1\n",
       "We Founder Circle                  1\n",
       "PurpleTutor                        1\n",
       "Ayu Health                         1\n",
       "Locale.ai                          1\n",
       "Svish                              1\n",
       "Tvasta                             1\n",
       "PredictiVu                         1\n",
       "Nobel Hygiene                      1\n",
       "Safexpay                           1\n",
       "The Switch Fix                     1\n",
       "BlackBuck                          1\n",
       "Eka.care                           1\n",
       "Clinikk                            1\n",
       "Go Swift                           1\n",
       "CHARGE+ZONE                        1\n",
       "Acko                               1\n",
       "Chirrup                            1\n",
       "TranZact                           1\n",
       "Mindler                            1\n",
       "Refyne                             1\n",
       "Vista Rooms                        1\n",
       "Lendingkart                        1\n",
       "Mosaic Wellness                    1\n",
       "EF Polymer                         1\n",
       "Droom                              1\n",
       "Rocket Skills                      1\n",
       "DrinkPrime                         1\n",
       "SalaryBox                          1\n",
       "Aviom India                        1\n",
       "Mynvax                             1\n",
       "Rubix Data Sciences                1\n",
       "Design Cafe                        1\n",
       "Inspacco                           1\n",
       "Heads Up For Tails                 1\n",
       "Earth Rhythm                       1\n",
       "Livve Homes                        1\n",
       "Say Cheese                         1\n",
       "Zenpay Solutions                   1\n",
       "Arcatron Mobility                  1\n",
       "Inficold                           1\n",
       "CloudSEK                           1\n",
       "I am Love                          1\n",
       "NeuroPixel.AI                      1\n",
       "Lohum                              1\n",
       "Xpand                              1\n",
       "PayCardo                           1\n",
       "kWh Bikes                          1\n",
       "Peppermint                         1\n",
       "IndiaLends                         1\n",
       "Navars                             1\n",
       "Skillmatics                        1\n",
       "Wellbeing Nutrition                1\n",
       "Zotalabs                           1\n",
       "OwO                                1\n",
       "Fampay                             1\n",
       "Eupheus Learning                   1\n",
       "E42                                1\n",
       "WizKlub                            1\n",
       "Bueno Finance                      1\n",
       "NoBroker.com                       1\n",
       "Alteria Capital                    1\n",
       "Locobuzz                           1\n",
       "Blume Ventures                     1\n",
       "OTO Capital                        1\n",
       "4baseCare                          1\n",
       "OneCode                            1\n",
       "Nivesh                             1\n",
       "Holisol                            1\n",
       "CropIn                             1\n",
       "Glamyo Health                      1\n",
       "Keka HR                            1\n",
       "YAP                                1\n",
       "SimpliContract                     1\n",
       "Vahan                              1\n",
       "Indic Inspirations                 1\n",
       "GetWork                            1\n",
       "Doola                              1\n",
       "The Good Glamm Group               1\n",
       "Gobbly                             1\n",
       "ANSR                               1\n",
       "Rezo.ai                            1\n",
       "Voiro                              1\n",
       "AyuRythm                           1\n",
       "Yellow Class                       1\n",
       "Answer Genomics                    1\n",
       "Hesa                               1\n",
       "GoBolt                             1\n",
       "MicroDegree                        1\n",
       "UrbanKisaan                        1\n",
       "PrepBytes                          1\n",
       "Probus Insurance                   1\n",
       "Turnip                             1\n",
       "Taikee                             1\n",
       "Buyofuel                           1\n",
       "Elevar                             1\n",
       "The Indus Valley                   1\n",
       "Blaer Motors                       1\n",
       "Phi Commerce                       1\n",
       "MarketWolf                         1\n",
       "mHealth                            1\n",
       "Planys                             1\n",
       "Cellestial                         1\n",
       "Dogsee Chew                        1\n",
       "Leena AI                           1\n",
       "Niro                               1\n",
       "Lead School                        1\n",
       "Sourcewiz                          1\n",
       "Ati Motors                         1\n",
       "Eloelo                             1\n",
       "Dista                              1\n",
       "ParkSmart                          1\n",
       "EduFund                            1\n",
       "Enmovil                            1\n",
       "Pee Safe                           1\n",
       "Power Gummies                      1\n",
       "ePayLater                          1\n",
       "peAR                               1\n",
       "Zingavita                          1\n",
       "Geniemode                          1\n",
       "Kinara Capital                     1\n",
       "Vendor Infra                       1\n",
       "SatSure                            1\n",
       "Hemp Horizons                      1\n",
       "Bombay Hemp Company                1\n",
       "O’ Be Cocktails                    1\n",
       "Simpl                              1\n",
       "Stack                              1\n",
       "Fittr                              1\n",
       "Petpooja                           1\n",
       "4Fin                               1\n",
       "Park+                              1\n",
       "Nova Benefits                      1\n",
       "G.O.A.T                            1\n",
       "Skippi Ice Pops                    1\n",
       "Karkinos Healthcare                1\n",
       "Khabri                             1\n",
       "ForeignAdmits                      1\n",
       "Moneyboxx                          1\n",
       "True Elements                      1\n",
       "Eduvanz                            1\n",
       "Probus                             1\n",
       "Valuationary                       1\n",
       "Endimension                        1\n",
       "Stelis Biopharma                   1\n",
       "Lumiq                              1\n",
       "Uni Cards                          1\n",
       "Solethreads                        1\n",
       "Janani                             1\n",
       "Enercomp                           1\n",
       "Hike                               1\n",
       "OckyPocky                          1\n",
       "ExMyB                              1\n",
       "Remedico                           1\n",
       "Vayana Network                     1\n",
       "LeadSquared                        1\n",
       "SALT                               1\n",
       "RiseBird                           1\n",
       "Riskcovry                          1\n",
       "Hypto                              1\n",
       "Keeros                             1\n",
       "Shumee                             1\n",
       "Spardha                            1\n",
       "CustomerGlu                        1\n",
       "Open Financial Technologies        1\n",
       "SuperBeings                        1\n",
       "Udaan                              1\n",
       "Crejo.Fun                          1\n",
       "Wiggles.in                         1\n",
       "Gourmet Garden                     1\n",
       "BHyve                              1\n",
       "Shadez                             1\n",
       "Truemeds                           1\n",
       "ConnectedH                         1\n",
       "ByteLearn                          1\n",
       "UrbanMatrix Technologies           1\n",
       "SUN Mobility                       1\n",
       "Gigforce                           1\n",
       "Mensa                              1\n",
       "WickedGud                          1\n",
       "BYJU’S                             1\n",
       "Fullife Healthcare                 1\n",
       "StackBOX                           1\n",
       "Greenjoules                        1\n",
       "ShareChat                          1\n",
       "HexaHealth                         1\n",
       "AMPM                               1\n",
       "Medikabazaar                       1\n",
       "LenDenClub                         1\n",
       "CredR                              1\n",
       "Awon GameZ                         1\n",
       "Good Health Clinic                 1\n",
       "Rebel Foods                        1\n",
       "GENLEAP                            1\n",
       "YPay                               1\n",
       "Qube Health                        1\n",
       "Skeps                              1\n",
       "Wright Research                    1\n",
       "Quali55Care                        1\n",
       "HobSpace                           1\n",
       "Devic Earth                        1\n",
       "ReDesyn                            1\n",
       "Method & Madness                   1\n",
       "Khatabook                          1\n",
       "Name: Company_Brand, dtype: int64"
      ]
     },
<<<<<<< HEAD
     "execution_count": 124,
=======
     "execution_count": 128,
>>>>>>> 43b96b4dfa7bddb17435e2b2cac05525a713e75a
     "metadata": {},
     "output_type": "execute_result"
    }
   ],
   "source": [
    "# Get unique values with their frequencies of the comapany_brand column\n",
    "\n",
    "data2021['Company_Brand'].value_counts()\n"
   ]
  },
  {
   "cell_type": "markdown",
   "metadata": {},
   "source": [
    "Same company name was treated as separate identities: BYJU’S and  BYJU'S. <br>This might be due to the different apostrophies used.\n",
    "\n",
    "........let's check!"
   ]
  },
  {
   "cell_type": "code",
<<<<<<< HEAD
   "execution_count": 125,
=======
   "execution_count": 129,
>>>>>>> 43b96b4dfa7bddb17435e2b2cac05525a713e75a
   "metadata": {},
   "outputs": [
    {
     "data": {
      "text/plain": [
       "False"
      ]
     },
<<<<<<< HEAD
     "execution_count": 125,
=======
     "execution_count": 129,
>>>>>>> 43b96b4dfa7bddb17435e2b2cac05525a713e75a
     "metadata": {},
     "output_type": "execute_result"
    }
   ],
   "source": [
    "# Check if they are same\n",
    "\n",
    "\"BYJU'S\" ==  'BYJU’S'\n"
   ]
  },
  {
   "cell_type": "code",
<<<<<<< HEAD
   "execution_count": 126,
=======
   "execution_count": 130,
>>>>>>> 43b96b4dfa7bddb17435e2b2cac05525a713e75a
   "metadata": {},
   "outputs": [],
   "source": [
    "# Good! Now we correct that and that's all for company_Brand\n",
    "\n",
    "data2021['Company_Brand'] = data2021['Company_Brand'].str.replace(\"’\", \"'\")"
   ]
  },
  {
   "cell_type": "code",
   "execution_count": 127,
   "metadata": {},
   "outputs": [
    {
     "data": {
      "text/plain": [
       "1032"
      ]
     },
     "execution_count": 127,
     "metadata": {},
     "output_type": "execute_result"
    }
   ],
   "source": [
    "data2021['Company_Brand'].nunique() #Checking..."
   ]
  },
  {
   "cell_type": "code",
<<<<<<< HEAD
   "execution_count": 132,
=======
   "execution_count": 131,
>>>>>>> 43b96b4dfa7bddb17435e2b2cac05525a713e75a
   "metadata": {},
   "outputs": [
    {
     "name": "stdout",
     "output_type": "stream",
     "text": [
      "<class 'pandas.core.frame.DataFrame'>\n",
      "RangeIndex: 1190 entries, 0 to 1189\n",
      "Data columns (total 10 columns):\n",
      " #   Column         Non-Null Count  Dtype  \n",
      "---  ------         --------------  -----  \n",
      " 0   Company_Brand  1190 non-null   object \n",
      " 1   Founded        1189 non-null   float64\n",
      " 2   HeadQuarter    1189 non-null   object \n",
      " 3   Sector         1190 non-null   object \n",
      " 4   What_it_does   1190 non-null   object \n",
      " 5   Founders       1186 non-null   object \n",
      " 6   Investor       1129 non-null   object \n",
      " 7   Amount         1188 non-null   object \n",
      " 8   Stage          772 non-null    object \n",
      " 9   Year Funded    1190 non-null   int64  \n",
      "dtypes: float64(1), int64(1), object(8)\n",
      "memory usage: 93.1+ KB\n",
      "None\n",
      "\n",
      "69\n",
      "\n",
      "Bangalore                            421\n",
      "Mumbai                               198\n",
      "Gurugram                             155\n",
      "New Delhi                            142\n",
      "Pune                                  46\n",
      "Chennai                               40\n",
      "Noida                                 34\n",
      "Hyderabad                             32\n",
      "Jaipur                                11\n",
      "Ahmedabad                             11\n",
      "Thane                                  7\n",
      "Gurgaon                                7\n",
      "Ahmadabad                              6\n",
      "Kolkata                                5\n",
      "Chandigarh                             5\n",
      "Haryana                                4\n",
      "Coimbatore                             3\n",
      "Gujarat                                3\n",
      "Lucknow                                3\n",
      "Faridabad, Haryana                     2\n",
      "Ghaziabad                              2\n",
      "Goa                                    2\n",
      "Surat                                  2\n",
      "Cochin                                 2\n",
      "Indore                                 2\n",
      "New York                               1\n",
      "Pharmaceuticals\\t#REF!                 1\n",
      "Roorkee                                1\n",
      "Jharkhand                              1\n",
      "Orissia                                1\n",
      "Ambernath                              1\n",
      "Panaji                                 1\n",
      "Gandhinagar                            1\n",
      "Guwahati                               1\n",
      "Mangalore                              1\n",
      "Mountain View, CA                      1\n",
      "Santra                                 1\n",
      "Small Towns, Andhra Pradesh            1\n",
      "Telangana                              1\n",
      "Jodhpur                                1\n",
      "Rajsamand                              1\n",
      "The Nilgiris                           1\n",
      "Kottayam                               1\n",
      "Mohali                                 1\n",
      "Patna                                  1\n",
      "Food & Beverages                       1\n",
      "Bhilwara                               1\n",
      "Powai                                  1\n",
      "Vadodara                               1\n",
      "Andheri                                1\n",
      "Thiruvananthapuram                     1\n",
      "West Bengal                            1\n",
      "Trivandrum                             1\n",
      "London                                 1\n",
      "Nagpur                                 1\n",
      "Samsitpur                              1\n",
      "Silvassa                               1\n",
      "Ranchi                                 1\n",
      "Bhubaneswar                            1\n",
      "Faridabad                              1\n",
      "Beijing                                1\n",
      "Computer Games                         1\n",
      "Satara                                 1\n",
      "Telugana                               1\n",
      "Kanpur                                 1\n",
      "Kochi                                  1\n",
      "Online Media\\t#REF!                    1\n",
      "Panchkula                              1\n",
      "Information Technology & Services      1\n",
      "Name: HeadQuarter, dtype: int64\n",
      "\n"
     ]
    }
   ],
   "source": [
    "# Get summary info, number of unique values and the values of the 'HeadQuarter' column\n",
    "\n",
    "print(f\"{data2021.info()}\\n\")\n",
    "print(f\"{data2021['HeadQuarter'].nunique()}\\n\")\n",
    "print(f\"{data2021['HeadQuarter'].value_counts()}\\n\")"
   ]
  },
  {
   "cell_type": "markdown",
   "metadata": {},
   "source": [
    "There sure have been wrong placement for 'Information Technology & Services' and  'Food & Beverages' <br>\n",
    "Let's check that out!"
   ]
  },
  {
   "cell_type": "code",
<<<<<<< HEAD
   "execution_count": 133,
=======
   "execution_count": 132,
>>>>>>> 43b96b4dfa7bddb17435e2b2cac05525a713e75a
   "metadata": {},
   "outputs": [
    {
     "data": {
      "text/html": [
       "<div>\n",
       "<style scoped>\n",
       "    .dataframe tbody tr th:only-of-type {\n",
       "        vertical-align: middle;\n",
       "    }\n",
       "\n",
       "    .dataframe tbody tr th {\n",
       "        vertical-align: top;\n",
       "    }\n",
       "\n",
       "    .dataframe thead th {\n",
       "        text-align: right;\n",
       "    }\n",
       "</style>\n",
       "<table border=\"1\" class=\"dataframe\">\n",
       "  <thead>\n",
       "    <tr style=\"text-align: right;\">\n",
       "      <th></th>\n",
       "      <th>Company_Brand</th>\n",
       "      <th>Founded</th>\n",
       "      <th>HeadQuarter</th>\n",
       "      <th>Sector</th>\n",
       "      <th>What_it_does</th>\n",
       "      <th>Founders</th>\n",
       "      <th>Investor</th>\n",
       "      <th>Amount</th>\n",
       "      <th>Stage</th>\n",
       "      <th>Year Funded</th>\n",
       "    </tr>\n",
       "  </thead>\n",
       "  <tbody>\n",
       "    <tr>\n",
       "      <th>236</th>\n",
       "      <td>MasterChow</td>\n",
       "      <td>2020.0</td>\n",
       "      <td>Food &amp; Beverages</td>\n",
       "      <td>Hauz Khas</td>\n",
       "      <td>A ready-to-cook Asian cuisine brand</td>\n",
       "      <td>Vidur Kataria, Sidhanth Madan</td>\n",
       "      <td>WEH Ventures</td>\n",
       "      <td>$461000</td>\n",
       "      <td>Seed</td>\n",
       "      <td>2020</td>\n",
       "    </tr>\n",
       "  </tbody>\n",
       "</table>\n",
       "</div>"
      ],
      "text/plain": [
       "    Company_Brand  Founded       HeadQuarter     Sector  \\\n",
       "236    MasterChow   2020.0  Food & Beverages  Hauz Khas   \n",
       "\n",
       "                            What_it_does                       Founders  \\\n",
       "236  A ready-to-cook Asian cuisine brand  Vidur Kataria, Sidhanth Madan   \n",
       "\n",
       "         Investor   Amount Stage  Year Funded  \n",
       "236  WEH Ventures  $461000  Seed         2020  "
      ]
     },
<<<<<<< HEAD
     "execution_count": 133,
=======
     "execution_count": 132,
>>>>>>> 43b96b4dfa7bddb17435e2b2cac05525a713e75a
     "metadata": {},
     "output_type": "execute_result"
    }
   ],
   "source": [
    "# Checking .....\n",
    "\n",
    "data2021[data2021['HeadQuarter'] == 'Food & Beverages']"
   ]
  },
  {
   "cell_type": "code",
<<<<<<< HEAD
   "execution_count": 134,
=======
   "execution_count": 133,
>>>>>>> 43b96b4dfa7bddb17435e2b2cac05525a713e75a
   "metadata": {},
   "outputs": [],
   "source": [
    "# Placing them correctly for MasterChow using the update_value function\n",
    "\n",
    "data2021 = update_values(data2021, 236, column_values={'HeadQuarter': 'New Delhi', 'Sector': 'Food & Beverages'})"
   ]
  },
  {
   "cell_type": "code",
   "execution_count": 135,
   "metadata": {},
   "outputs": [
    {
     "data": {
      "text/html": [
       "<div>\n",
       "<style scoped>\n",
       "    .dataframe tbody tr th:only-of-type {\n",
       "        vertical-align: middle;\n",
       "    }\n",
       "\n",
       "    .dataframe tbody tr th {\n",
       "        vertical-align: top;\n",
       "    }\n",
       "\n",
       "    .dataframe thead th {\n",
       "        text-align: right;\n",
       "    }\n",
       "</style>\n",
       "<table border=\"1\" class=\"dataframe\">\n",
       "  <thead>\n",
       "    <tr style=\"text-align: right;\">\n",
       "      <th></th>\n",
       "      <th>Company_Brand</th>\n",
       "      <th>Founded</th>\n",
       "      <th>HeadQuarter</th>\n",
       "      <th>Sector</th>\n",
       "      <th>What_it_does</th>\n",
       "      <th>Founders</th>\n",
       "      <th>Investor</th>\n",
       "      <th>Amount</th>\n",
       "      <th>Stage</th>\n",
       "      <th>Year Funded</th>\n",
       "    </tr>\n",
       "  </thead>\n",
       "  <tbody>\n",
       "  </tbody>\n",
       "</table>\n",
       "</div>"
      ],
      "text/plain": [
       "Empty DataFrame\n",
       "Columns: [Company_Brand, Founded, HeadQuarter, Sector, What_it_does, Founders, Investor, Amount, Stage, Year Funded]\n",
       "Index: []"
      ]
     },
     "execution_count": 135,
     "metadata": {},
     "output_type": "execute_result"
    }
   ],
   "source": [
    "# Checking .....\n",
    "\n",
    "data2021[data2021['HeadQuarter'] == 'Food & Beverages']"
   ]
  },
  {
   "cell_type": "code",
<<<<<<< HEAD
   "execution_count": 136,
=======
   "execution_count": 134,
>>>>>>> 43b96b4dfa7bddb17435e2b2cac05525a713e75a
   "metadata": {},
   "outputs": [
    {
     "data": {
      "text/html": [
       "<div>\n",
       "<style scoped>\n",
       "    .dataframe tbody tr th:only-of-type {\n",
       "        vertical-align: middle;\n",
       "    }\n",
       "\n",
       "    .dataframe tbody tr th {\n",
       "        vertical-align: top;\n",
       "    }\n",
       "\n",
       "    .dataframe thead th {\n",
       "        text-align: right;\n",
       "    }\n",
       "</style>\n",
       "<table border=\"1\" class=\"dataframe\">\n",
       "  <thead>\n",
       "    <tr style=\"text-align: right;\">\n",
       "      <th></th>\n",
       "      <th>Company_Brand</th>\n",
       "      <th>Founded</th>\n",
       "      <th>HeadQuarter</th>\n",
       "      <th>Sector</th>\n",
       "      <th>What_it_does</th>\n",
       "      <th>Founders</th>\n",
       "      <th>Investor</th>\n",
       "      <th>Amount</th>\n",
       "      <th>Stage</th>\n",
       "      <th>Year Funded</th>\n",
       "    </tr>\n",
       "  </thead>\n",
       "  <tbody>\n",
       "    <tr>\n",
       "      <th>1157</th>\n",
       "      <td>Peak</td>\n",
       "      <td>2014.0</td>\n",
       "      <td>Information Technology &amp; Services</td>\n",
       "      <td>Manchester, Greater Manchester</td>\n",
       "      <td>Peak helps the world's smartest companies put ...</td>\n",
       "      <td>Atul Sharma</td>\n",
       "      <td>SoftBank Vision Fund 2</td>\n",
       "      <td>$75000000</td>\n",
       "      <td>Series C</td>\n",
       "      <td>2020</td>\n",
       "    </tr>\n",
       "  </tbody>\n",
       "</table>\n",
       "</div>"
      ],
      "text/plain": [
       "     Company_Brand  Founded                        HeadQuarter  \\\n",
       "1157          Peak   2014.0  Information Technology & Services   \n",
       "\n",
       "                              Sector  \\\n",
       "1157  Manchester, Greater Manchester   \n",
       "\n",
       "                                           What_it_does     Founders  \\\n",
       "1157  Peak helps the world's smartest companies put ...  Atul Sharma   \n",
       "\n",
       "                    Investor     Amount     Stage  Year Funded  \n",
       "1157  SoftBank Vision Fund 2  $75000000  Series C         2020  "
      ]
     },
<<<<<<< HEAD
     "execution_count": 136,
=======
     "execution_count": 134,
>>>>>>> 43b96b4dfa7bddb17435e2b2cac05525a713e75a
     "metadata": {},
     "output_type": "execute_result"
    }
   ],
   "source": [
    "# Checking for Peak\n",
    "\n",
    "data2021[data2021['HeadQuarter'] == 'Information Technology & Services']"
   ]
  },
  {
   "cell_type": "code",
   "execution_count": 137,
   "metadata": {},
   "outputs": [],
   "source": [
    "# Placing them correctly\n",
    "\n",
    "data2021 = update_values(data2021, 1157, column_values={ 'HeadQuarter': 'Manchestor', 'Sector': 'Information Technology & Services'})"
   ]
  },
  {
   "cell_type": "code",
<<<<<<< HEAD
   "execution_count": 138,
=======
   "execution_count": 135,
>>>>>>> 43b96b4dfa7bddb17435e2b2cac05525a713e75a
   "metadata": {},
   "outputs": [
    {
     "data": {
      "text/html": [
       "<div>\n",
       "<style scoped>\n",
       "    .dataframe tbody tr th:only-of-type {\n",
       "        vertical-align: middle;\n",
       "    }\n",
       "\n",
       "    .dataframe tbody tr th {\n",
       "        vertical-align: top;\n",
       "    }\n",
       "\n",
       "    .dataframe thead th {\n",
       "        text-align: right;\n",
       "    }\n",
       "</style>\n",
       "<table border=\"1\" class=\"dataframe\">\n",
       "  <thead>\n",
       "    <tr style=\"text-align: right;\">\n",
       "      <th></th>\n",
       "      <th>Company_Brand</th>\n",
       "      <th>Founded</th>\n",
       "      <th>HeadQuarter</th>\n",
       "      <th>Sector</th>\n",
       "      <th>What_it_does</th>\n",
       "      <th>Founders</th>\n",
       "      <th>Investor</th>\n",
       "      <th>Amount</th>\n",
       "      <th>Stage</th>\n",
       "      <th>Year Funded</th>\n",
       "    </tr>\n",
       "  </thead>\n",
       "  <tbody>\n",
       "    <tr>\n",
       "      <th>1157</th>\n",
       "      <td>Peak</td>\n",
       "      <td>2014.00</td>\n",
       "      <td>Information Technology &amp; Services</td>\n",
       "      <td>Manchester, Greater Manchester</td>\n",
       "      <td>Peak helps the world's smartest companies put ...</td>\n",
       "      <td>Atul Sharma</td>\n",
       "      <td>SoftBank Vision Fund 2</td>\n",
       "      <td>$75000000</td>\n",
       "      <td>Series C</td>\n",
       "    </tr>\n",
       "  </tbody>\n",
       "</table>\n",
       "</div>"
      ],
      "text/plain": [
<<<<<<< HEAD
       "Empty DataFrame\n",
       "Columns: [Company_Brand, Founded, HeadQuarter, Sector, What_it_does, Founders, Investor, Amount, Stage, Year Funded]\n",
       "Index: []"
      ]
     },
     "execution_count": 138,
=======
       "     Company_Brand  Founded                        HeadQuarter  \\\n",
       "1157          Peak  2014.00  Information Technology & Services   \n",
       "\n",
       "                              Sector  \\\n",
       "1157  Manchester, Greater Manchester   \n",
       "\n",
       "                                           What_it_does     Founders  \\\n",
       "1157  Peak helps the world's smartest companies put ...  Atul Sharma   \n",
       "\n",
       "                    Investor     Amount     Stage  \n",
       "1157  SoftBank Vision Fund 2  $75000000  Series C  "
      ]
     },
     "execution_count": 135,
>>>>>>> 43b96b4dfa7bddb17435e2b2cac05525a713e75a
     "metadata": {},
     "output_type": "execute_result"
    }
   ],
   "source": [
    "# Checking ......\n",
    "\n",
    "data2021[data2021['HeadQuarter'] == 'Information Technology & Services']\n"
   ]
  },
  {
   "cell_type": "markdown",
   "metadata": {},
   "source": [
    "Deal with Missing Values"
   ]
  },
  {
   "cell_type": "code",
<<<<<<< HEAD
   "execution_count": 139,
=======
   "execution_count": 136,
>>>>>>> 43b96b4dfa7bddb17435e2b2cac05525a713e75a
   "metadata": {},
   "outputs": [
    {
     "data": {
      "text/html": [
       "<div>\n",
       "<style scoped>\n",
       "    .dataframe tbody tr th:only-of-type {\n",
       "        vertical-align: middle;\n",
       "    }\n",
       "\n",
       "    .dataframe tbody tr th {\n",
       "        vertical-align: top;\n",
       "    }\n",
       "\n",
       "    .dataframe thead th {\n",
       "        text-align: right;\n",
       "    }\n",
       "</style>\n",
       "<table border=\"1\" class=\"dataframe\">\n",
       "  <thead>\n",
       "    <tr style=\"text-align: right;\">\n",
       "      <th></th>\n",
       "      <th>Company_Brand</th>\n",
       "      <th>Founded</th>\n",
       "      <th>HeadQuarter</th>\n",
       "      <th>Sector</th>\n",
       "      <th>What_it_does</th>\n",
       "      <th>Founders</th>\n",
       "      <th>Investor</th>\n",
       "      <th>Amount</th>\n",
       "      <th>Stage</th>\n",
       "      <th>Year Funded</th>\n",
       "    </tr>\n",
       "  </thead>\n",
       "  <tbody>\n",
       "    <tr>\n",
       "      <th>29</th>\n",
       "      <td>Vidyakul</td>\n",
       "      <td>2018.0</td>\n",
       "      <td>None</td>\n",
       "      <td>EdTech</td>\n",
       "      <td>Vidyakul is an vernacular e-learning platform ...</td>\n",
       "      <td>Raman Garg, Tarun Saini</td>\n",
       "      <td>JITO Angel Network, SOSV</td>\n",
       "      <td>$500,000</td>\n",
       "      <td>Seed</td>\n",
       "      <td>2020</td>\n",
       "    </tr>\n",
       "  </tbody>\n",
       "</table>\n",
       "</div>"
      ],
      "text/plain": [
       "   Company_Brand  Founded HeadQuarter  Sector  \\\n",
       "29      Vidyakul   2018.0        None  EdTech   \n",
       "\n",
       "                                         What_it_does  \\\n",
       "29  Vidyakul is an vernacular e-learning platform ...   \n",
       "\n",
       "                   Founders                  Investor    Amount Stage  \\\n",
       "29  Raman Garg, Tarun Saini  JITO Angel Network, SOSV  $500,000  Seed   \n",
       "\n",
       "    Year Funded  \n",
       "29         2020  "
      ]
     },
<<<<<<< HEAD
     "execution_count": 139,
=======
     "execution_count": 136,
>>>>>>> 43b96b4dfa7bddb17435e2b2cac05525a713e75a
     "metadata": {},
     "output_type": "execute_result"
    }
   ],
   "source": [
    "# Check for missing values\n",
    "\n",
    "data2021[data2021['HeadQuarter'].isnull()]"
   ]
  },
  {
   "cell_type": "code",
   "execution_count": 140,
   "metadata": {},
   "outputs": [],
   "source": [
    "# Fill the missing value with its correct value 'Gurgaon'ArithmeticError\n",
    "data2021 = update_values(data2021, 29, column_values={'HeadQuarter': 'Gurgaon'})"
   ]
  },
  {
   "cell_type": "markdown",
   "metadata": {},
   "source": [
    "#### Dealing with the 'Founded' Col"
   ]
  },
  {
   "cell_type": "code",
   "execution_count": 141,
   "metadata": {},
   "outputs": [
    {
     "data": {
      "text/plain": [
       "array([2019., 2015., 2012., 2021., 2014., 2018., 2016., 2020., 2010.,\n",
       "       2017., 1993., 2008., 2013., 1999., 1989., 2011.,   nan, 2009.,\n",
       "       2002., 1994., 2006., 2000., 2007., 1978., 2003., 1998., 1991.,\n",
       "       1984., 2004., 2005., 1963.])"
      ]
     },
     "execution_count": 141,
     "metadata": {},
     "output_type": "execute_result"
    }
   ],
   "source": [
    "# Getting the unique values of the 'Founded' column\n",
    "\n",
    "data2021['Founded'].unique()"
   ]
  },
  {
   "cell_type": "code",
<<<<<<< HEAD
   "execution_count": 142,
=======
   "execution_count": 137,
>>>>>>> 43b96b4dfa7bddb17435e2b2cac05525a713e75a
   "metadata": {},
   "outputs": [
    {
     "data": {
      "text/plain": [
       "1"
      ]
     },
<<<<<<< HEAD
     "execution_count": 142,
=======
     "execution_count": 137,
>>>>>>> 43b96b4dfa7bddb17435e2b2cac05525a713e75a
     "metadata": {},
     "output_type": "execute_result"
    }
   ],
   "source": [
    "# Checking the number of missing values\n",
    "\n",
    "data2021['Founded'].isnull().sum()"
   ]
  },
  {
   "cell_type": "code",
   "execution_count": 143,
   "metadata": {},
   "outputs": [
    {
     "data": {
      "text/plain": [
       "count   1189.0\n",
       "mean    2016.6\n",
       "std        4.5\n",
       "min     1963.0\n",
       "25%     2015.0\n",
       "50%     2018.0\n",
       "75%     2020.0\n",
       "max     2021.0\n",
       "Name: Founded, dtype: float64"
      ]
     },
     "execution_count": 143,
     "metadata": {},
     "output_type": "execute_result"
    }
   ],
   "source": [
    "# Get statistical summaries of the column to inform \n",
    "# what strategy to use for imputation\n",
    "\n",
    "data2021['Founded'].describe()"
   ]
  },
  {
   "cell_type": "code",
<<<<<<< HEAD
   "execution_count": 144,
=======
   "execution_count": 138,
>>>>>>> 43b96b4dfa7bddb17435e2b2cac05525a713e75a
   "metadata": {},
   "outputs": [
    {
     "data": {
      "text/plain": [
       "dtype('float64')"
      ]
     },
<<<<<<< HEAD
     "execution_count": 144,
=======
     "execution_count": 138,
>>>>>>> 43b96b4dfa7bddb17435e2b2cac05525a713e75a
     "metadata": {},
     "output_type": "execute_result"
    }
   ],
   "source": [
    "# Check data type \n",
    "\n",
    "\n",
    "data2021['Founded'].dtype"
   ]
  },
  {
   "cell_type": "markdown",
   "metadata": {},
   "source": [
    "Now, we can do imputation. <br> Since 'year' is a categorical data here, we use the most frequent to fill the null."
   ]
  },
  {
   "cell_type": "code",
<<<<<<< HEAD
   "execution_count": 145,
=======
   "execution_count": 139,
>>>>>>> 43b96b4dfa7bddb17435e2b2cac05525a713e75a
   "metadata": {},
   "outputs": [],
   "source": [
    "# Imputing missing values\n",
    "\n",
    "array = data2021['Founded'].values.reshape(-1,1)\n",
    "imputer = SimpleImputer(strategy='most_frequent')\n",
    "\n",
    "data2021['Founded'] = imputer.fit_transform(array)"
   ]
  },
  {
   "cell_type": "code",
<<<<<<< HEAD
   "execution_count": 146,
=======
   "execution_count": 140,
>>>>>>> 43b96b4dfa7bddb17435e2b2cac05525a713e75a
   "metadata": {},
   "outputs": [
    {
     "data": {
      "text/plain": [
       "array([2019., 2015., 2012., 2021., 2014., 2018., 2016., 2020., 2010.,\n",
       "       2017., 1993., 2008., 2013., 1999., 1989., 2011., 2009., 2002.,\n",
       "       1994., 2006., 2000., 2007., 1978., 2003., 1998., 1991., 1984.,\n",
       "       2004., 2005., 1963.])"
      ]
     },
<<<<<<< HEAD
     "execution_count": 146,
=======
     "execution_count": 140,
>>>>>>> 43b96b4dfa7bddb17435e2b2cac05525a713e75a
     "metadata": {},
     "output_type": "execute_result"
    }
   ],
   "source": [
    "data2021['Founded'].unique()"
   ]
  },
  {
   "cell_type": "markdown",
   "metadata": {},
   "source": [
    "Converting 'Founded' from float to int64"
   ]
  },
  {
   "cell_type": "code",
<<<<<<< HEAD
   "execution_count": 147,
=======
   "execution_count": 141,
>>>>>>> 43b96b4dfa7bddb17435e2b2cac05525a713e75a
   "metadata": {},
   "outputs": [
    {
     "data": {
      "text/plain": [
       "0    2019\n",
       "1    2015\n",
       "2    2012\n",
       "3    2015\n",
       "4    2021\n",
       "Name: Founded, dtype: int32"
      ]
     },
<<<<<<< HEAD
     "execution_count": 147,
=======
     "execution_count": 141,
>>>>>>> 43b96b4dfa7bddb17435e2b2cac05525a713e75a
     "metadata": {},
     "output_type": "execute_result"
    }
   ],
   "source": [
    "# Founded column converted to int\n",
    "\n",
    "data2021['Founded'] = data2021['Founded'].astype(int)\n",
    "data2021['Founded'].head()"
   ]
  },
  {
   "cell_type": "code",
   "execution_count": 148,
   "metadata": {},
   "outputs": [
    {
     "data": {
      "text/plain": [
       "dtype('int32')"
      ]
     },
     "execution_count": 148,
     "metadata": {},
     "output_type": "execute_result"
    }
   ],
   "source": [
    "# Making sure the conversion was done\n",
    "\n",
    "data2021['Founded'].dtype"
   ]
  },
  {
   "cell_type": "code",
<<<<<<< HEAD
   "execution_count": 149,
=======
   "execution_count": 142,
>>>>>>> 43b96b4dfa7bddb17435e2b2cac05525a713e75a
   "metadata": {},
   "outputs": [
    {
     "data": {
      "text/plain": [
       "array([2019, 2015, 2012, 2021, 2014, 2018, 2016, 2020, 2010, 2017, 1993,\n",
       "       2008, 2013, 1999, 1989, 2011, 2009, 2002, 1994, 2006, 2000, 2007,\n",
       "       1978, 2003, 1998, 1991, 1984, 2004, 2005, 1963])"
      ]
     },
<<<<<<< HEAD
     "execution_count": 149,
=======
     "execution_count": 142,
>>>>>>> 43b96b4dfa7bddb17435e2b2cac05525a713e75a
     "metadata": {},
     "output_type": "execute_result"
    }
   ],
   "source": [
    "# Get unique values\n",
    "\n",
    "data2021['Founded'].unique()"
   ]
  },
  {
   "cell_type": "markdown",
   "metadata": {},
   "source": [
    "#### Cleaning the 'Amount' col"
   ]
  },
  {
   "cell_type": "code",
<<<<<<< HEAD
   "execution_count": 150,
=======
   "execution_count": 143,
>>>>>>> 43b96b4dfa7bddb17435e2b2cac05525a713e75a
   "metadata": {},
   "outputs": [
    {
     "data": {
      "text/plain": [
       "$Undisclosed        72\n",
       "$1000000            54\n",
       "Undisclosed         43\n",
       "$2000000            40\n",
       "$1,000,000          33\n",
       "$3000000            31\n",
       "$5000000            30\n",
       "$10000000           28\n",
       "$500000             24\n",
       "$undisclosed        22\n",
       "$2,000,000          20\n",
       "$4000000            20\n",
       "$200000             19\n",
       "$300000             19\n",
       "$400000             18\n",
       "$200,000            17\n",
       "$3,000,000          17\n",
       "$20000000           15\n",
       "$10,000,000         15\n",
       "$6000000            14\n",
       "$1200000            13\n",
       "$30000000           13\n",
       "$7000000            13\n",
       "$5,000,000          12\n",
       "$500,000            11\n",
       "$15,000,000         11\n",
       "$100000000          11\n",
       "$700000             11\n",
       "$6,000,000          10\n",
       "$50000000           10\n",
       "$300,000            10\n",
       "$600000             10\n",
       "$4,000,000          10\n",
       "$1500000            10\n",
       "$12000000            9\n",
       "$1,500,000           9\n",
       "$40000000            8\n",
       "$100000              8\n",
       "$30,000,000          8\n",
       "$2500000             8\n",
       "$8000000             7\n",
       "$3500000             7\n",
       "$4500000             6\n",
       "$25000000            6\n",
       "$15000000            6\n",
       "$100,000             6\n",
       "$400,000             6\n",
       "$40,000,000          6\n",
       "$5500000             6\n",
       "$150000              6\n",
       "$50,000,000          5\n",
       "$200000000           5\n",
       "$1,800,000           5\n",
       "$800,000             5\n",
       "$20,000,000          5\n",
       "$60000000            5\n",
       "$800000              5\n",
       "$1300000             5\n",
       "$125000000           4\n",
       "$13000000            4\n",
       "$75000000            4\n",
       "$250000000           4\n",
       "$35000000            4\n",
       "$75,000,000          4\n",
       "$9000000             4\n",
       "$2300000             4\n",
       "$150000000           4\n",
       "$100,000,000         4\n",
       "$70000000            4\n",
       "$11000000            4\n",
       "$1700000             4\n",
       "$24000000            4\n",
       "$600,000             4\n",
       "$1100000             4\n",
       "$11,000,000          3\n",
       "$1,600,000           3\n",
       "$700,000             3\n",
       "$1800000             3\n",
       "$3800000             3\n",
       "$1600000             3\n",
       "$22000000            3\n",
       "$6500000             3\n",
       "$7,000,000           3\n",
       "$320000              3\n",
       "$2200000             3\n",
       "$28000000            2\n",
       "$2,600,000           2\n",
       "$450000000           2\n",
       "$21000000            2\n",
       "$150,000             2\n",
       "$53000000            2\n",
       "$220000000           2\n",
       "$1900000             2\n",
       "$9,000,000           2\n",
       "$48000000            2\n",
       "$42000000            2\n",
       "$                    2\n",
       "$2,200,000           2\n",
       "$2,500,000           2\n",
       "$370000              2\n",
       "$140,000,000         2\n",
       "$65000000            2\n",
       "$32000000            2\n",
       "$4,100,000           2\n",
       "$120,000,000         2\n",
       "$90000000            2\n",
       "$17,000,000          2\n",
       "$95,000,000          2\n",
       "$330000              2\n",
       "$6700000             2\n",
       "$9500000             2\n",
       "$225000000           2\n",
       "$26,000,000          2\n",
       "$45,000,000          2\n",
       "$1,100,000           2\n",
       "$37000000            2\n",
       "$350,000             2\n",
       "$16000000            2\n",
       "$12,500,000          2\n",
       "$900000              2\n",
       "$26000000            2\n",
       "$1,300,000           2\n",
       "$3200000             2\n",
       "$5200000             2\n",
       "$76000000            2\n",
       "$12,000,000          2\n",
       "$45000000            2\n",
       "$17000000            2\n",
       "$52000000            2\n",
       "$8,000,000           2\n",
       "$200,000,000         2\n",
       "$3,500,000           2\n",
       "$36000000            1\n",
       "$234,000,000         1\n",
       "$2700000             1\n",
       "$8500000             1\n",
       "$16,000,000          1\n",
       "$5,100,000           1\n",
       "$160,000,000         1\n",
       "$41000000            1\n",
       "$540000              1\n",
       "$325000000           1\n",
       "$13,000,000          1\n",
       "$81,000,000          1\n",
       "$150,000,000,000     1\n",
       "$2600000             1\n",
       "$660000000           1\n",
       "$840000000           1\n",
       "$175000000           1\n",
       "$370000000           1\n",
       "$1,000,000,000       1\n",
       "$188,000,000         1\n",
       "$17500000            1\n",
       "$800,000,000         1\n",
       "$25,000,000          1\n",
       "$280,000,000         1\n",
       "$725000              1\n",
       "$44000000            1\n",
       "$2100000             1\n",
       "$850,000             1\n",
       "$125000              1\n",
       "$350000000           1\n",
       "$35,000,000          1\n",
       "$255000000           1\n",
       "$14000000            1\n",
       "$67000000            1\n",
       "$6,300,000           1\n",
       "$4700000             1\n",
       "$300000000           1\n",
       "$600000000           1\n",
       "$460,000,000         1\n",
       "$18000000            1\n",
       "$265000              1\n",
       "$7500000             1\n",
       "$130000              1\n",
       "$248000000           1\n",
       "$225000              1\n",
       "$2900000             1\n",
       "$140000000           1\n",
       "$260,000             1\n",
       "$135000000           1\n",
       "$96000000            1\n",
       "$18,000,000          1\n",
       "$570000              1\n",
       "$108000000           1\n",
       "$500000000           1\n",
       "$340,000             1\n",
       "$31000000            1\n",
       "$215,000,000         1\n",
       "$750000              1\n",
       "$720,000             1\n",
       "$3300000             1\n",
       "$8,200,000           1\n",
       "$6200000             1\n",
       "$85000000            1\n",
       "$1,200,000           1\n",
       "$1,400,000           1\n",
       "$450000              1\n",
       "$78000000            1\n",
       "$64000000            1\n",
       "$3,800,000           1\n",
       "$4200000             1\n",
       "$270000000           1\n",
       "$150,000,000         1\n",
       "$6300000             1\n",
       "$125,000             1\n",
       "$1,250,000           1\n",
       "$6750000             1\n",
       "$260000000           1\n",
       "$86000000            1\n",
       "$3600000             1\n",
       "$7,500,000           1\n",
       "$192000000           1\n",
       "$115000000           1\n",
       "$38000000            1\n",
       "$5,500,000           1\n",
       "$111000000           1\n",
       "$21,000,000          1\n",
       "$235000              1\n",
       "$23000000            1\n",
       "$4800000             1\n",
       "$250,000             1\n",
       "$620000              1\n",
       "$7,400,000           1\n",
       "$900,000             1\n",
       "$500,000,000         1\n",
       "$13,500,000          1\n",
       "$250000              1\n",
       "$83,000,000          1\n",
       "$550000              1\n",
       "$$1,55,000           1\n",
       "$92000000            1\n",
       "$340000              1\n",
       "$7,300,000           1\n",
       "$400,000,000         1\n",
       "$19000000            1\n",
       "$4300000             1\n",
       "$810000              1\n",
       "$49,000,000          1\n",
       "$140000              1\n",
       "$1,700,000           1\n",
       "$14,300,000          1\n",
       "$110,000,000         1\n",
       "$140,000             1\n",
       "$55000000            1\n",
       "$43,000,000          1\n",
       "$461000              1\n",
       "$6600000             1\n",
       "$5400000             1\n",
       "$70,000,000          1\n",
       "$145000000           1\n",
       "$$100,00             1\n",
       "$195,000,000         1\n",
       "$1400000             1\n",
       "$27,000,000          1\n",
       "$5,200,000           1\n",
       "$51,000,000          1\n",
       "$300,000,000         1\n",
       "$53,000,000          1\n",
       "$16,500,000          1\n",
       "$10200000            1\n",
       "$570000000           1\n",
       "$350,000,000         1\n",
       "$266000000           1\n",
       "$260000              1\n",
       "$24,000,000          1\n",
       "$65,000,000          1\n",
       "$770000              1\n",
       "$144000000           1\n",
       "$5700000             1\n",
       "$4900000             1\n",
       "Name: Amount, dtype: int64"
      ]
     },
<<<<<<< HEAD
     "execution_count": 150,
=======
     "execution_count": 143,
>>>>>>> 43b96b4dfa7bddb17435e2b2cac05525a713e75a
     "metadata": {},
     "output_type": "execute_result"
    }
   ],
   "source": [
    "# Inspecting unique values with their frequencies\n",
    "\n",
    "data2021['Amount'].value_counts()"
   ]
  },
  {
   "cell_type": "markdown",
   "metadata": {},
   "source": [
    "Replacing Undisclosed/$undisclosed/$Undisclosed values under the 'Amounts' Column"
   ]
  },
  {
   "cell_type": "code",
<<<<<<< HEAD
   "execution_count": 151,
=======
   "execution_count": 144,
>>>>>>> 43b96b4dfa7bddb17435e2b2cac05525a713e75a
   "metadata": {},
   "outputs": [],
   "source": [
    "# Function to replace anomalous amount values with np.nan\n",
    "\n",
    "def replace_values_with_nan(df, column_name, values_to_replace):\n",
    "    \"\"\"\n",
    "    Replaces specified values in a column of a DataFrame with np.nan.\n",
    "\n",
    "    Args:\n",
    "        df (pandas.DataFrame): The DataFrame containing the column to modify.\n",
    "        column_name (str): The name of the column to replace values in.\n",
    "        values_to_replace (list or scalar): The value(s) to replace with np.nan. Can be a single value or a list of values.\n",
    "\n",
    "    Returns:\n",
    "        pandas.DataFrame: A modified DataFrame with the specified values replaced by np.nan.\n",
    "\n",
    "    Example:\n",
    "        # Create a sample DataFrame\n",
    "        data = {\n",
    "            'Column1': [1, 2, 3, 4, 5],\n",
    "            'Column2': ['A', 'B', 'C', 'D', 'E'],\n",
    "            'Column3': ['X', 'Y', 'Z', 'X', 'Z']\n",
    "        }\n",
    "\n",
    "        df = pd.DataFrame(data)\n",
    "\n",
    "        # Define the column name and values to replace with np.nan\n",
    "        column_name = 'Column3'\n",
    "        values_to_replace = ['X', 'Z']\n",
    "\n",
    "        # Call the replace_values_with_nan function\n",
    "        df_modified = replace_values_with_nan(df, column_name, values_to_replace)\n",
    "\n",
    "        # Print the modified DataFrame\n",
    "        print(df_modified)\n",
    "    \"\"\"\n",
    "    df[column_name] = df[column_name].replace(values_to_replace, np.nan)\n",
    "    return df\n"
   ]
  },
  {
   "cell_type": "code",
<<<<<<< HEAD
   "execution_count": 152,
=======
   "execution_count": 145,
>>>>>>> 43b96b4dfa7bddb17435e2b2cac05525a713e75a
   "metadata": {},
   "outputs": [],
   "source": [
    "# Invoking the function to replace the missing values with np.nan\n",
    "\n",
    "data2021 = replace_values_with_nan(data2021, 'Amount', ['$Undisclosed', '$undisclosed', 'undisclosed', 'Undisclosed', 'None'])\n",
    "\n",
    "# Replacing the undesired characters\n",
    "\n",
    "data2021['Amount'] = data2021['Amount'].str.replace('[$,]', '')"
   ]
  },
  {
   "cell_type": "code",
<<<<<<< HEAD
   "execution_count": 153,
=======
   "execution_count": 146,
>>>>>>> 43b96b4dfa7bddb17435e2b2cac05525a713e75a
   "metadata": {},
   "outputs": [],
   "source": [
    "# Converting the 'Amount' col to float\n",
    "\n",
    "data2021['Amount'] = pd.to_numeric(data2021['Amount'])"
   ]
  },
  {
   "cell_type": "code",
<<<<<<< HEAD
   "execution_count": 154,
=======
   "execution_count": 147,
>>>>>>> 43b96b4dfa7bddb17435e2b2cac05525a713e75a
   "metadata": {},
   "outputs": [
    {
     "data": {
      "text/plain": [
       "dtype('float64')"
      ]
     },
<<<<<<< HEAD
     "execution_count": 154,
=======
     "execution_count": 147,
>>>>>>> 43b96b4dfa7bddb17435e2b2cac05525a713e75a
     "metadata": {},
     "output_type": "execute_result"
    }
   ],
   "source": [
    "# Checking....\n",
    "\n",
    "data2021['Amount'].dtype"
   ]
  },
  {
   "cell_type": "code",
<<<<<<< HEAD
   "execution_count": 155,
=======
   "execution_count": 148,
>>>>>>> 43b96b4dfa7bddb17435e2b2cac05525a713e75a
   "metadata": {},
   "outputs": [],
   "source": [
    "# Make scientific numbers display as normal with i decimal point\n",
    "\n",
    "pd.set_option('display.float_format', '{:.1f}'.format)\n"
   ]
  },
  {
   "cell_type": "code",
<<<<<<< HEAD
   "execution_count": 156,
=======
   "execution_count": 149,
>>>>>>> 43b96b4dfa7bddb17435e2b2cac05525a713e75a
   "metadata": {},
   "outputs": [
    {
     "data": {
      "text/html": [
       "<div>\n",
       "<style scoped>\n",
       "    .dataframe tbody tr th:only-of-type {\n",
       "        vertical-align: middle;\n",
       "    }\n",
       "\n",
       "    .dataframe tbody tr th {\n",
       "        vertical-align: top;\n",
       "    }\n",
       "\n",
       "    .dataframe thead th {\n",
       "        text-align: right;\n",
       "    }\n",
       "</style>\n",
       "<table border=\"1\" class=\"dataframe\">\n",
       "  <thead>\n",
       "    <tr style=\"text-align: right;\">\n",
       "      <th></th>\n",
       "      <th>Founded</th>\n",
       "      <th>Amount</th>\n",
       "      <th>Year Funded</th>\n",
       "    </tr>\n",
       "  </thead>\n",
       "  <tbody>\n",
       "    <tr>\n",
       "      <th>count</th>\n",
       "      <td>1190.0</td>\n",
       "      <td>1049.0</td>\n",
       "      <td>1190.0</td>\n",
       "    </tr>\n",
       "    <tr>\n",
       "      <th>mean</th>\n",
       "      <td>2016.6</td>\n",
       "      <td>171212131.6</td>\n",
       "      <td>2020.0</td>\n",
       "    </tr>\n",
       "    <tr>\n",
       "      <th>std</th>\n",
       "      <td>4.5</td>\n",
       "      <td>4631144962.5</td>\n",
       "      <td>0.0</td>\n",
       "    </tr>\n",
       "    <tr>\n",
       "      <th>min</th>\n",
       "      <td>1963.0</td>\n",
       "      <td>10000.0</td>\n",
       "      <td>2020.0</td>\n",
       "    </tr>\n",
       "    <tr>\n",
       "      <th>25%</th>\n",
       "      <td>2015.0</td>\n",
       "      <td>1000000.0</td>\n",
       "      <td>2020.0</td>\n",
       "    </tr>\n",
       "    <tr>\n",
       "      <th>50%</th>\n",
       "      <td>2018.0</td>\n",
       "      <td>3500000.0</td>\n",
       "      <td>2020.0</td>\n",
       "    </tr>\n",
       "    <tr>\n",
       "      <th>75%</th>\n",
       "      <td>2020.0</td>\n",
       "      <td>15000000.0</td>\n",
       "      <td>2020.0</td>\n",
       "    </tr>\n",
       "    <tr>\n",
       "      <th>max</th>\n",
       "      <td>2021.0</td>\n",
       "      <td>150000000000.0</td>\n",
       "      <td>2020.0</td>\n",
       "    </tr>\n",
       "  </tbody>\n",
       "</table>\n",
       "</div>"
      ],
      "text/plain": [
       "       Founded         Amount  Year Funded\n",
       "count   1190.0         1049.0       1190.0\n",
       "mean    2016.6    171212131.6       2020.0\n",
       "std        4.5   4631144962.5          0.0\n",
       "min     1963.0        10000.0       2020.0\n",
       "25%     2015.0      1000000.0       2020.0\n",
       "50%     2018.0      3500000.0       2020.0\n",
       "75%     2020.0     15000000.0       2020.0\n",
       "max     2021.0 150000000000.0       2020.0"
      ]
     },
<<<<<<< HEAD
     "execution_count": 156,
=======
     "execution_count": 149,
>>>>>>> 43b96b4dfa7bddb17435e2b2cac05525a713e75a
     "metadata": {},
     "output_type": "execute_result"
    }
   ],
   "source": [
    "# Get statistical summary of data2021\n",
    "\n",
    "data2021.describe()"
   ]
  },
  {
   "cell_type": "markdown",
   "metadata": {},
   "source": [
    "Filling missing values in the 'Amount' Col"
   ]
  },
  {
   "cell_type": "code",
<<<<<<< HEAD
   "execution_count": 157,
=======
   "execution_count": 150,
>>>>>>> 43b96b4dfa7bddb17435e2b2cac05525a713e75a
   "metadata": {},
   "outputs": [],
   "source": [
    "# Imputing missing values\n",
    "\n",
    "array = data2021['Amount'].values.reshape(-1,1) # simpleImputer takes 2d array as input\n",
    "imputer = SimpleImputer(strategy='median')   # Chose 'median' strategy because of the presence of outliers\n",
    "\n",
    "data2021['Amount'] = imputer.fit_transform(array)"
   ]
  },
  {
   "cell_type": "code",
<<<<<<< HEAD
   "execution_count": 158,
=======
   "execution_count": 151,
>>>>>>> 43b96b4dfa7bddb17435e2b2cac05525a713e75a
   "metadata": {},
   "outputs": [
    {
     "data": {
      "text/html": [
       "<div>\n",
       "<style scoped>\n",
       "    .dataframe tbody tr th:only-of-type {\n",
       "        vertical-align: middle;\n",
       "    }\n",
       "\n",
       "    .dataframe tbody tr th {\n",
       "        vertical-align: top;\n",
       "    }\n",
       "\n",
       "    .dataframe thead th {\n",
       "        text-align: right;\n",
       "    }\n",
       "</style>\n",
       "<table border=\"1\" class=\"dataframe\">\n",
       "  <thead>\n",
       "    <tr style=\"text-align: right;\">\n",
       "      <th></th>\n",
       "      <th>Company_Brand</th>\n",
       "      <th>Founded</th>\n",
       "      <th>HeadQuarter</th>\n",
       "      <th>Sector</th>\n",
       "      <th>What_it_does</th>\n",
       "      <th>Founders</th>\n",
       "      <th>Investor</th>\n",
       "      <th>Amount</th>\n",
       "      <th>Stage</th>\n",
       "      <th>Year Funded</th>\n",
       "    </tr>\n",
       "  </thead>\n",
       "  <tbody>\n",
       "    <tr>\n",
       "      <th>0</th>\n",
       "      <td>Unbox Robotics</td>\n",
       "      <td>2019</td>\n",
       "      <td>Bangalore</td>\n",
       "      <td>AI startup</td>\n",
       "      <td>Unbox Robotics builds on-demand AI-driven ware...</td>\n",
       "      <td>Pramod Ghadge, Shahid Memon</td>\n",
       "      <td>BEENEXT, Entrepreneur First</td>\n",
       "      <td>1200000.0</td>\n",
       "      <td>Pre-series A</td>\n",
       "      <td>2020</td>\n",
       "    </tr>\n",
       "    <tr>\n",
       "      <th>1</th>\n",
       "      <td>upGrad</td>\n",
       "      <td>2015</td>\n",
       "      <td>Mumbai</td>\n",
       "      <td>EdTech</td>\n",
       "      <td>UpGrad is an online higher education platform.</td>\n",
       "      <td>Mayank Kumar, Phalgun Kompalli, Ravijot Chugh,...</td>\n",
       "      <td>Unilazer Ventures, IIFL Asset Management</td>\n",
       "      <td>120000000.0</td>\n",
       "      <td>None</td>\n",
       "      <td>2020</td>\n",
       "    </tr>\n",
       "    <tr>\n",
       "      <th>2</th>\n",
       "      <td>Lead School</td>\n",
       "      <td>2012</td>\n",
       "      <td>Mumbai</td>\n",
       "      <td>EdTech</td>\n",
       "      <td>LEAD School offers technology based school tra...</td>\n",
       "      <td>Smita Deorah, Sumeet Mehta</td>\n",
       "      <td>GSV Ventures, Westbridge Capital</td>\n",
       "      <td>30000000.0</td>\n",
       "      <td>Series D</td>\n",
       "      <td>2020</td>\n",
       "    </tr>\n",
       "    <tr>\n",
       "      <th>3</th>\n",
       "      <td>Bizongo</td>\n",
       "      <td>2015</td>\n",
       "      <td>Mumbai</td>\n",
       "      <td>B2B E-commerce</td>\n",
       "      <td>Bizongo is a business-to-business online marke...</td>\n",
       "      <td>Aniket Deb, Ankit Tomar, Sachin Agrawal</td>\n",
       "      <td>CDC Group, IDG Capital</td>\n",
       "      <td>51000000.0</td>\n",
       "      <td>Series C</td>\n",
       "      <td>2020</td>\n",
       "    </tr>\n",
       "    <tr>\n",
       "      <th>4</th>\n",
       "      <td>FypMoney</td>\n",
       "      <td>2021</td>\n",
       "      <td>Gurugram</td>\n",
       "      <td>FinTech</td>\n",
       "      <td>FypMoney is Digital NEO Bank for Teenagers, em...</td>\n",
       "      <td>Kapil Banwari</td>\n",
       "      <td>Liberatha Kallat, Mukesh Yadav, Dinesh Nagpal</td>\n",
       "      <td>2000000.0</td>\n",
       "      <td>Seed</td>\n",
       "      <td>2020</td>\n",
       "    </tr>\n",
       "  </tbody>\n",
       "</table>\n",
       "</div>"
      ],
      "text/plain": [
       "    Company_Brand  Founded HeadQuarter          Sector  \\\n",
       "0  Unbox Robotics     2019   Bangalore      AI startup   \n",
       "1          upGrad     2015      Mumbai          EdTech   \n",
       "2     Lead School     2012      Mumbai          EdTech   \n",
       "3         Bizongo     2015      Mumbai  B2B E-commerce   \n",
       "4        FypMoney     2021    Gurugram         FinTech   \n",
       "\n",
       "                                        What_it_does  \\\n",
       "0  Unbox Robotics builds on-demand AI-driven ware...   \n",
       "1     UpGrad is an online higher education platform.   \n",
       "2  LEAD School offers technology based school tra...   \n",
       "3  Bizongo is a business-to-business online marke...   \n",
       "4  FypMoney is Digital NEO Bank for Teenagers, em...   \n",
       "\n",
       "                                            Founders  \\\n",
       "0                        Pramod Ghadge, Shahid Memon   \n",
       "1  Mayank Kumar, Phalgun Kompalli, Ravijot Chugh,...   \n",
       "2                         Smita Deorah, Sumeet Mehta   \n",
       "3            Aniket Deb, Ankit Tomar, Sachin Agrawal   \n",
       "4                                      Kapil Banwari   \n",
       "\n",
       "                                        Investor      Amount         Stage  \\\n",
       "0                    BEENEXT, Entrepreneur First   1200000.0  Pre-series A   \n",
       "1       Unilazer Ventures, IIFL Asset Management 120000000.0          None   \n",
       "2               GSV Ventures, Westbridge Capital  30000000.0      Series D   \n",
       "3                         CDC Group, IDG Capital  51000000.0      Series C   \n",
       "4  Liberatha Kallat, Mukesh Yadav, Dinesh Nagpal   2000000.0          Seed   \n",
       "\n",
       "   Year Funded  \n",
       "0         2020  \n",
       "1         2020  \n",
       "2         2020  \n",
       "3         2020  \n",
       "4         2020  "
      ]
     },
<<<<<<< HEAD
     "execution_count": 158,
=======
     "execution_count": 151,
>>>>>>> 43b96b4dfa7bddb17435e2b2cac05525a713e75a
     "metadata": {},
     "output_type": "execute_result"
    }
   ],
   "source": [
    "# View first 5 rows of data2021\n",
    "\n",
    "data2021.head()"
   ]
  },
  {
   "cell_type": "markdown",
   "metadata": {},
   "source": [
    "Get Outliers and Remove them"
   ]
  },
  {
   "cell_type": "code",
<<<<<<< HEAD
   "execution_count": 159,
=======
   "execution_count": 152,
>>>>>>> 43b96b4dfa7bddb17435e2b2cac05525a713e75a
   "metadata": {},
   "outputs": [],
   "source": [
    "def get_outlier(data, column):\n",
    "    \"\"\"\n",
    "    Function that identifies outliers from the dataframe\n",
    "\n",
    "    Args:\n",
    "        data : pandas dataframe\n",
    "            Contains the data where the outliers are to be found\n",
    "        column : str\n",
    "            Usually a string with the name of the column\n",
    "    \n",
    "    Returns:\n",
    "        None: prints number of outliers \n",
    "    \"\"\"\n",
    "    \n",
    "    # calculate interquartile range\n",
    "    q25, q75 = np.percentile(data2021['Amount'], 25), np.percentile(data2021['Amount'], 75)\n",
    "    iqr = q75 - q25\n",
    "    print('Percentiles: 25th = %.3f, 75th = %.3f, IQR = %.3f' % (q25, q75, iqr))\n",
    "    \n",
    "    # calculate the outlier cutoff\n",
    "    cut_off = iqr * 1.5\n",
    "    lower, upper = q25 - cut_off, q75 + cut_off\n",
    "    \n",
    "    # identify outliers\n",
    "    indx = np.where((data2021['Amount'] < lower) | (data2021['Amount'] > upper))\n",
    "    print('Identified outliers: %d' % len(indx[0]))\n",
    "    \n",
    "  "
   ]
  },
  {
   "cell_type": "code",
<<<<<<< HEAD
   "execution_count": 160,
=======
   "execution_count": 153,
>>>>>>> 43b96b4dfa7bddb17435e2b2cac05525a713e75a
   "metadata": {},
   "outputs": [
    {
     "name": "stdout",
     "output_type": "stream",
     "text": [
      "Percentiles: 25th = 1000000.000, 75th = 11000000.000, IQR = 10000000.000\n",
      "Identified outliers: 203\n"
     ]
    }
   ],
   "source": [
    "# Call the function remove_outlier()\n",
    "\n",
    "get_outlier(data2021, 'Amount')"
   ]
  },
  {
   "cell_type": "markdown",
   "metadata": {},
   "source": [
    "Since outliers are 203 representing almost 10% of our data, we choose to ignore them."
   ]
  },
  {
   "cell_type": "markdown",
   "metadata": {},
   "source": [
    "#### Cleaning the *'Stage'* Column\n",
    "\n",
    "Inspecting the unique values in the 'Stage' Column"
   ]
  },
  {
   "cell_type": "code",
<<<<<<< HEAD
   "execution_count": 161,
=======
   "execution_count": 154,
>>>>>>> 43b96b4dfa7bddb17435e2b2cac05525a713e75a
   "metadata": {},
   "outputs": [
    {
     "data": {
      "text/plain": [
       "array(['Pre-series A', None, 'Series D', 'Series C', 'Seed', 'Series B',\n",
       "       'Series E', 'Pre-seed', 'Series A', 'Pre-series B', 'Debt',\n",
       "       'Upsparks', 'Bridge', 'Seed+', 'Series F2', 'Series A+',\n",
       "       'Series G', 'Series F', 'Series H', 'Series B3', 'PE', 'Series F1',\n",
       "       'Pre-series A1', 'Venture-Series Unknown', 'Early seed',\n",
       "       'Series D1', 'Seies A', 'Pre-series', 'Series A2', 'Series I'],\n",
       "      dtype=object)"
      ]
     },
<<<<<<< HEAD
     "execution_count": 161,
=======
     "execution_count": 154,
>>>>>>> 43b96b4dfa7bddb17435e2b2cac05525a713e75a
     "metadata": {},
     "output_type": "execute_result"
    }
   ],
   "source": [
    "data2021['Stage'].unique() # Get unique values of Stage column"
   ]
  },
  {
   "cell_type": "markdown",
   "metadata": {},
   "source": [
    "Check how many records have the null value at the 'Stage' column"
   ]
  },
  {
   "cell_type": "code",
<<<<<<< HEAD
   "execution_count": 162,
=======
   "execution_count": 155,
>>>>>>> 43b96b4dfa7bddb17435e2b2cac05525a713e75a
   "metadata": {},
   "outputs": [
    {
     "data": {
      "text/plain": [
       "418"
      ]
     },
<<<<<<< HEAD
     "execution_count": 162,
=======
     "execution_count": 155,
>>>>>>> 43b96b4dfa7bddb17435e2b2cac05525a713e75a
     "metadata": {},
     "output_type": "execute_result"
    }
   ],
   "source": [
    "data2021['Stage'].isnull().sum()  # Get the numer of missing values in Stage"
   ]
  },
  {
   "cell_type": "markdown",
   "metadata": {},
   "source": [
    "Oops! Pretty much! Let's take a deeper look at those records."
   ]
  },
  {
   "cell_type": "code",
<<<<<<< HEAD
   "execution_count": 163,
=======
   "execution_count": 156,
>>>>>>> 43b96b4dfa7bddb17435e2b2cac05525a713e75a
   "metadata": {},
   "outputs": [
    {
     "data": {
      "text/html": [
       "<div>\n",
       "<style scoped>\n",
       "    .dataframe tbody tr th:only-of-type {\n",
       "        vertical-align: middle;\n",
       "    }\n",
       "\n",
       "    .dataframe tbody tr th {\n",
       "        vertical-align: top;\n",
       "    }\n",
       "\n",
       "    .dataframe thead th {\n",
       "        text-align: right;\n",
       "    }\n",
       "</style>\n",
       "<table border=\"1\" class=\"dataframe\">\n",
       "  <thead>\n",
       "    <tr style=\"text-align: right;\">\n",
       "      <th></th>\n",
       "      <th>Company_Brand</th>\n",
       "      <th>Founded</th>\n",
       "      <th>HeadQuarter</th>\n",
       "      <th>Sector</th>\n",
       "      <th>What_it_does</th>\n",
       "      <th>Founders</th>\n",
       "      <th>Investor</th>\n",
       "      <th>Amount</th>\n",
       "      <th>Stage</th>\n",
       "      <th>Year Funded</th>\n",
       "    </tr>\n",
       "  </thead>\n",
       "  <tbody>\n",
       "    <tr>\n",
       "      <th>1</th>\n",
       "      <td>upGrad</td>\n",
       "      <td>2015</td>\n",
       "      <td>Mumbai</td>\n",
       "      <td>EdTech</td>\n",
       "      <td>UpGrad is an online higher education platform.</td>\n",
       "      <td>Mayank Kumar, Phalgun Kompalli, Ravijot Chugh,...</td>\n",
       "      <td>Unilazer Ventures, IIFL Asset Management</td>\n",
       "      <td>120000000.0</td>\n",
       "      <td>None</td>\n",
       "      <td>2020</td>\n",
       "    </tr>\n",
       "    <tr>\n",
       "      <th>5</th>\n",
       "      <td>Urban Company</td>\n",
       "      <td>2014</td>\n",
       "      <td>New Delhi</td>\n",
       "      <td>Home services</td>\n",
       "      <td>Urban Company (Formerly UrbanClap) is a home a...</td>\n",
       "      <td>Abhiraj Singh Bhal, Raghav Chandra, Varun Khaitan</td>\n",
       "      <td>Vy Capital</td>\n",
       "      <td>188000000.0</td>\n",
       "      <td>None</td>\n",
       "      <td>2020</td>\n",
       "    </tr>\n",
       "    <tr>\n",
       "      <th>6</th>\n",
       "      <td>Comofi Medtech</td>\n",
       "      <td>2018</td>\n",
       "      <td>Bangalore</td>\n",
       "      <td>HealthTech</td>\n",
       "      <td>Comofi Medtech is a healthcare robotics startup.</td>\n",
       "      <td>Gururaj KB</td>\n",
       "      <td>CIIE.CO, KIIT-TBI</td>\n",
       "      <td>200000.0</td>\n",
       "      <td>None</td>\n",
       "      <td>2020</td>\n",
       "    </tr>\n",
       "    <tr>\n",
       "      <th>8</th>\n",
       "      <td>Vitra.ai</td>\n",
       "      <td>2020</td>\n",
       "      <td>Bangalore</td>\n",
       "      <td>Tech Startup</td>\n",
       "      <td>Vitra.ai is an AI-based video translation plat...</td>\n",
       "      <td>Akash Nidhi PS</td>\n",
       "      <td>Inflexor Ventures</td>\n",
       "      <td>3500000.0</td>\n",
       "      <td>None</td>\n",
       "      <td>2020</td>\n",
       "    </tr>\n",
       "    <tr>\n",
       "      <th>9</th>\n",
       "      <td>Taikee</td>\n",
       "      <td>2010</td>\n",
       "      <td>Mumbai</td>\n",
       "      <td>E-commerce</td>\n",
       "      <td>Taikee is the ISO-certified, B2B e-commerce pl...</td>\n",
       "      <td>Nidhi Ramachandran, Sachin Chhabra</td>\n",
       "      <td>None</td>\n",
       "      <td>1000000.0</td>\n",
       "      <td>None</td>\n",
       "      <td>2020</td>\n",
       "    </tr>\n",
       "  </tbody>\n",
       "</table>\n",
       "</div>"
      ],
      "text/plain": [
       "    Company_Brand  Founded HeadQuarter         Sector  \\\n",
       "1          upGrad     2015      Mumbai         EdTech   \n",
       "5   Urban Company     2014   New Delhi  Home services   \n",
       "6  Comofi Medtech     2018   Bangalore     HealthTech   \n",
       "8        Vitra.ai     2020   Bangalore   Tech Startup   \n",
       "9          Taikee     2010      Mumbai     E-commerce   \n",
       "\n",
       "                                        What_it_does  \\\n",
       "1     UpGrad is an online higher education platform.   \n",
       "5  Urban Company (Formerly UrbanClap) is a home a...   \n",
       "6   Comofi Medtech is a healthcare robotics startup.   \n",
       "8  Vitra.ai is an AI-based video translation plat...   \n",
       "9  Taikee is the ISO-certified, B2B e-commerce pl...   \n",
       "\n",
       "                                            Founders  \\\n",
       "1  Mayank Kumar, Phalgun Kompalli, Ravijot Chugh,...   \n",
       "5  Abhiraj Singh Bhal, Raghav Chandra, Varun Khaitan   \n",
       "6                                         Gururaj KB   \n",
       "8                                     Akash Nidhi PS   \n",
       "9                 Nidhi Ramachandran, Sachin Chhabra   \n",
       "\n",
       "                                   Investor      Amount Stage  Year Funded  \n",
       "1  Unilazer Ventures, IIFL Asset Management 120000000.0  None         2020  \n",
       "5                                Vy Capital 188000000.0  None         2020  \n",
       "6                         CIIE.CO, KIIT-TBI    200000.0  None         2020  \n",
       "8                         Inflexor Ventures   3500000.0  None         2020  \n",
       "9                                      None   1000000.0  None         2020  "
      ]
     },
<<<<<<< HEAD
     "execution_count": 163,
=======
     "execution_count": 156,
>>>>>>> 43b96b4dfa7bddb17435e2b2cac05525a713e75a
     "metadata": {},
     "output_type": "execute_result"
    }
   ],
   "source": [
    "data2021[data2021['Stage'].isnull()].head() # View first 5 rows whose stage column are null"
   ]
  },
  {
   "cell_type": "markdown",
   "metadata": {},
   "source": [
    "Alright! These companies are listed on cruchbase, the leading provider of private-company prospecting and research solutions. <br>\n",
    "Let's see if we can get reliable data to fill-in the nulls"
   ]
  },
  {
   "cell_type": "code",
<<<<<<< HEAD
   "execution_count": 164,
=======
   "execution_count": 157,
>>>>>>> 43b96b4dfa7bddb17435e2b2cac05525a713e75a
   "metadata": {},
   "outputs": [],
   "source": [
    "# A function to update multiple rows and columns with values\n",
    "\n",
    "def update_values_(df, row_indices, column_index, values):\n",
    "    \"\"\"\n",
    "    Updates multiple values in a DataFrame for specific rows and a specific column.\n",
    "\n",
    "    Args:\n",
    "        df (pd.DataFrame): The DataFrame to be modified.\n",
    "        row_indices (list): Indices of the rows where the values will be updated.\n",
    "        column_index (int or str): Index or name of the column where the values will be updated.\n",
    "        values (list): List of new values to be assigned to the specified cells.\n",
    "\n",
    "    Returns:\n",
    "        pd.DataFrame: The DataFrame with the updated values.\n",
    "    \"\"\"\n",
    "    df_modified = df.copy()\n",
    "    column_index = df.columns.get_loc(column_index) if isinstance(column_index, str) else column_index\n",
    "\n",
    "    for i, row_index in enumerate(row_indices):\n",
    "        df_modified.iloc[row_index, column_index] = values[i]\n",
    "\n",
    "    return df_modified\n"
   ]
  },
  {
   "cell_type": "code",
<<<<<<< HEAD
   "execution_count": 165,
=======
   "execution_count": 158,
>>>>>>> 43b96b4dfa7bddb17435e2b2cac05525a713e75a
   "metadata": {},
   "outputs": [],
   "source": [
    "# Define row_indices, column_index, values to be passed to the function update_values_() to insert values\n",
    "\n",
    "row_indices = [1,5,6,8,11,13,14,15,16,24,31,34,35,36,37,40,42,46]\n",
    "column_index = 8\n",
    "values = ['Venture - Series Unknown','Secondary Market', 'Pre-Seed','Seed', 'Venture - Series Unknown','Pre-Seed',\\\n",
    "         'Series A', 'Series D','Series E','Series A','Debt','Series A','Venture - Series Unknown','Venture - Series Unknown','Venture - Series Unknown','Venture - Series Unknown','Series A', 'Seed','Equity Crowdfunding']\n",
    "data2021 = update_values_(data2021, row_indices, column_index, values)"
   ]
  },
  {
   "cell_type": "markdown",
   "metadata": {},
   "source": [
    "Good! I could just get a few. \n",
    "\n",
    "Let's have a look at what the unique values are again."
   ]
  },
  {
   "cell_type": "code",
<<<<<<< HEAD
   "execution_count": 166,
=======
   "execution_count": 159,
>>>>>>> 43b96b4dfa7bddb17435e2b2cac05525a713e75a
   "metadata": {},
   "outputs": [
    {
     "data": {
      "text/plain": [
       "array(['Pre-series A', 'Venture - Series Unknown', 'Series D', 'Series C',\n",
       "       'Seed', 'Secondary Market', 'Pre-Seed', None, 'Series A',\n",
       "       'Series E', 'Series B', 'Pre-seed', 'Debt', 'Pre-series B',\n",
       "       'Upsparks', 'Bridge', 'Seed+', 'Series F2', 'Series A+',\n",
       "       'Series G', 'Series F', 'Series H', 'Series B3', 'PE', 'Series F1',\n",
       "       'Pre-series A1', 'Venture-Series Unknown', 'Early seed',\n",
       "       'Series D1', 'Seies A', 'Pre-series', 'Series A2', 'Series I'],\n",
       "      dtype=object)"
      ]
     },
<<<<<<< HEAD
     "execution_count": 166,
=======
     "execution_count": 159,
>>>>>>> 43b96b4dfa7bddb17435e2b2cac05525a713e75a
     "metadata": {},
     "output_type": "execute_result"
    }
   ],
   "source": [
    "data2021['Stage'].unique()  # Get unique values of stage column again"
   ]
  },
  {
   "cell_type": "markdown",
   "metadata": {},
   "source": [
    "Ok, Let's put these values in a standard format."
   ]
  },
  {
   "cell_type": "code",
<<<<<<< HEAD
   "execution_count": 167,
=======
   "execution_count": 160,
>>>>>>> 43b96b4dfa7bddb17435e2b2cac05525a713e75a
   "metadata": {},
   "outputs": [],
   "source": [
    "# Function to replace or group the funding rounds\n",
    "\n",
    "\n",
    "\n",
    "def update_value(value):\n",
    "    \"\"\"\n",
    "    Update the given value based on predefined replacements specific to the 'Stage' column.\n",
    "\n",
    "    Args:\n",
    "        value (str): The value to be updated.\n",
    "\n",
    "    Returns:\n",
    "        str: The updated value.\n",
    "    \"\"\"\n",
    "    replacements = {\n",
    "        r'Pre series|Early seed|Pre-series A|Pre-series A1': 'Pre-series',\n",
    "        r'Seies A|Seed+|Pre-series B|Series A2': 'Series A',\n",
    "        r'PE': 'Private Equity',\n",
    "        r'Debt': 'Debt Financing',\n",
    "        r'Seed1': 'Seed',\n",
    "        r'None': 'Venture - Series Unknown',\n",
    "        r'Series A+|Series B3| Series B': 'Series B',\n",
    "        r'Series F2|Series F1|Series D1|Series D|Series G|Series H|Series I|Series E|Series F': 'Series C',\n",
    "    }\n",
    "\n",
    "    for pattern, replacement in replacements.items():\n",
    "        value = re.sub(pattern, replacement, str(value))\n",
    "\n",
    "    return value\n",
    "\n",
    "\n",
    "# Apply the function to the 'Stage' column of the DataFrame\n",
    "data2021['Stage'] = data2021['Stage'].apply(update_value)\n"
   ]
  },
  {
   "cell_type": "markdown",
   "metadata": {},
   "source": [
    "Great! Checking........"
   ]
  },
  {
   "cell_type": "code",
<<<<<<< HEAD
   "execution_count": 168,
=======
   "execution_count": 161,
>>>>>>> 43b96b4dfa7bddb17435e2b2cac05525a713e75a
   "metadata": {},
   "outputs": [
    {
     "data": {
      "text/plain": [
       "array(['Pre-series', 'Venture - Series Unknown', 'Series C', 'Series B',\n",
       "       'Secondary Market', 'Pre-Series B', 'Pre-seed', 'Debt Financing',\n",
       "       'Upsparks', 'Bridge', 'Series B+', 'Private Equity', 'Pre-series1',\n",
       "       'Venture-Series Unknown'], dtype=object)"
      ]
     },
<<<<<<< HEAD
     "execution_count": 168,
=======
     "execution_count": 161,
>>>>>>> 43b96b4dfa7bddb17435e2b2cac05525a713e75a
     "metadata": {},
     "output_type": "execute_result"
    }
   ],
   "source": [
    "# Check the unique values of the stage column\n",
    "\n",
    "data2021['Stage'].unique()"
   ]
  },
  {
   "cell_type": "markdown",
   "metadata": {},
   "source": [
    "Ouch!  'Series B+',  'Pre-Series B' and 'Pre-series1' want to be treated diferently! I see. Let's implore another method!"
   ]
  },
  {
   "cell_type": "code",
<<<<<<< HEAD
   "execution_count": 169,
=======
   "execution_count": 162,
>>>>>>> 43b96b4dfa7bddb17435e2b2cac05525a713e75a
   "metadata": {},
   "outputs": [],
   "source": [
    "# Replace values\n",
    "\n",
    "data2021['Stage'].replace('Series B+', 'Series B', inplace=True)\n",
    "data2021['Stage'].replace('Pre-series1', 'Pre-series', inplace=True)\n",
    "data2021['Stage'].replace('Pre-Series B', 'Series A', inplace=True)\n",
    "data2021['Stage'].replace(' Series B', 'Series B', inplace=True)\n"
   ]
  },
  {
   "cell_type": "markdown",
   "metadata": {},
   "source": [
    "Nice! Let's take a look at the unique values for stage column again!"
   ]
  },
  {
   "cell_type": "code",
<<<<<<< HEAD
   "execution_count": 170,
=======
   "execution_count": 163,
>>>>>>> 43b96b4dfa7bddb17435e2b2cac05525a713e75a
   "metadata": {},
   "outputs": [
    {
     "data": {
      "text/plain": [
       "array(['Pre-series', 'Venture - Series Unknown', 'Series C', 'Series B',\n",
       "       'Secondary Market', 'Series A', 'Pre-seed', 'Debt Financing',\n",
       "       'Upsparks', 'Bridge', 'Private Equity', 'Venture-Series Unknown'],\n",
       "      dtype=object)"
      ]
     },
<<<<<<< HEAD
     "execution_count": 170,
=======
     "execution_count": 163,
>>>>>>> 43b96b4dfa7bddb17435e2b2cac05525a713e75a
     "metadata": {},
     "output_type": "execute_result"
    }
   ],
   "source": [
    "# Get unique valaues of the stage column again\n",
    "\n",
    "data2021['Stage'].unique()"
   ]
  },
  {
   "cell_type": "markdown",
   "metadata": {},
   "source": [
    "#### Investor Column <br>\n",
    "\n",
    "Inspecting the unique instances of the 'Investor Column'"
   ]
  },
  {
   "cell_type": "code",
<<<<<<< HEAD
   "execution_count": 171,
=======
   "execution_count": 164,
>>>>>>> 43b96b4dfa7bddb17435e2b2cac05525a713e75a
   "metadata": {},
   "outputs": [
    {
     "data": {
      "text/plain": [
       "Inflection Point Ventures                                                                         23\n",
       "Venture Catalysts                                                                                 11\n",
       "Tiger Global                                                                                      11\n",
       "Elevation Capital                                                                                  7\n",
       "Titan Capital                                                                                      6\n",
       "We Founder Circle                                                                                  6\n",
       "Kalaari Capital                                                                                    5\n",
       "Sequoia Capital India                                                                              5\n",
       "Sixth Sense Ventures                                                                               5\n",
       "Y Combinator                                                                                       4\n",
       "Alteria Capital                                                                                    4\n",
       "SucSEED Indovation Fund                                                                            4\n",
       "Venture Catalysts, 9Unicorns Accelerator Fund                                                      4\n",
       "Better Capital                                                                                     4\n",
       "Anicut Angel Fund                                                                                  4\n",
       "Unicorn India Ventures                                                                             4\n",
       "9Unicorns                                                                                          4\n",
       "Blue Ashva Capital                                                                                 4\n",
       "ah! Ventures                                                                                       4\n",
       "Mumbai Angels Network                                                                              4\n",
       "Angel investors                                                                                    3\n",
       "Axilor                                                                                             3\n",
       "Sequoia Capital                                                                                    3\n",
       "Anthill Ventures                                                                                   3\n",
       "Alpha Wave Incubation                                                                              3\n",
       "Venture Catalysts, 9unicorns                                                                       3\n",
       "Accel Partners, Elevation Capital                                                                  3\n",
       "JITO Angel Network, LetsVenture                                                                    3\n",
       "Unknown                                                                                            3\n",
       "Indian Angel Network                                                                               3\n",
       "Sequoia’s Surge                                                                                    3\n",
       "Khosla Ventures                                                                                    3\n",
       "Info Edge Ventures                                                                                 3\n",
       "Accel                                                                                              3\n",
       "Klub                                                                                               3\n",
       "Jungle Ventures                                                                                    3\n",
       "Endiya Partners                                                                                    3\n",
       "Antler India                                                                                       3\n",
       "JITO Angel Network                                                                                 3\n",
       "IAN                                                                                                3\n",
       "WestBridge Capital                                                                                 3\n",
       "Wurk                                                                                               2\n",
       "A91 Partners                                                                                       2\n",
       "Chiratae Ventures                                                                                  2\n",
       "Eaglewings Ventures                                                                                2\n",
       "MassMutual Ventures                                                                                2\n",
       "BlackSoil                                                                                          2\n",
       "Punit Balan                                                                                        2\n",
       "CIIE.CO                                                                                            2\n",
       "Blume Ventures, Exfinity Venture Partners                                                          2\n",
       "Skycatcher, AET Fund, BAce Capital, Dream Incubator, 1Up Ventures                                  2\n",
       "Capt. Anand Aryamane                                                                               2\n",
       "Marquee investors                                                                                  2\n",
       "Alkeon Capital                                                                                     2\n",
       "Inflexor Ventures                                                                                  2\n",
       "LC Nueva AIF                                                                                       2\n",
       "Bharat Inclusion                                                                                   2\n",
       "Tomorrow Capital                                                                                   2\n",
       "Speciale Invest                                                                                    2\n",
       "Unicorn India Ventures, SEA Fund, Devdatt Shah                                                     2\n",
       "Lightrock India                                                                                    2\n",
       "Amazon                                                                                             2\n",
       "Hindustan Media Venture                                                                            2\n",
       "TradeCred                                                                                          2\n",
       "FMC, Omnivore, Blume Ventures                                                                      2\n",
       "Velocity                                                                                           2\n",
       "Shell Foundation                                                                                   2\n",
       "Y Combinator, 9Unicorns, Titan Capital                                                             2\n",
       "Stellaris Venture Partners                                                                         2\n",
       "Tiga Investments, Baron Capital                                                                    2\n",
       "Matrix Partners India, Elevation Capital                                                           2\n",
       "pi Ventures                                                                                        2\n",
       "Falcon Edge, Softbank                                                                              2\n",
       "Vy Capital                                                                                         2\n",
       "Global Founders Capital                                                                            2\n",
       "Unitus Ventures                                                                                    2\n",
       "Nexus Venture Partners                                                                             2\n",
       "SoftBank Vision Fund 2                                                                             2\n",
       "Westbridge Capital                                                                                 2\n",
       "Fireside Ventures                                                                                  2\n",
       "Bessemer Venture Partners                                                                          2\n",
       "Matrix Partners India                                                                              2\n",
       "Ananta Capital                                                                                     2\n",
       "Avaana Capital, Orios Ventures                                                                     2\n",
       "Aroa Ventures                                                                                      2\n",
       "Elevar Equity                                                                                      2\n",
       "Amplo, Insight Partners                                                                            2\n",
       "India Accelerator                                                                                  2\n",
       "Valar Ventures                                                                                     2\n",
       "InnoVen Capital, Steadview Capital                                                                 2\n",
       "Navneet Education                                                                                  2\n",
       "CDC Group                                                                                          2\n",
       "Pegasus Tech Ventures, Base Partners                                                               2\n",
       "Sequoia                                                                                            2\n",
       "Arena Holdings, Think Investments                                                                  1\n",
       "Sunil Kumar Singhvi, 9Unicorns Accelerator Fund                                                    1\n",
       "Gaurav Munjal, Snehil Khanor                                                                       1\n",
       "Kunal Sarkar                                                                                       1\n",
       "Qualgro                                                                                            1\n",
       "Siana Capital                                                                                      1\n",
       "SUNiCON Ventures, Shubhkam Ventures, Jito Angel network, FAAD Network                              1\n",
       "Mumbai Angels Network, Huddle, Lumis Partners                                                      1\n",
       "Brex, Y-Combinator                                                                                 1\n",
       "Info Edge Ventures, Omnivore                                                                       1\n",
       "Lasons India                                                                                       1\n",
       "BEENEXT, Sequoia’s Surge                                                                           1\n",
       "Hashed                                                                                             1\n",
       "Premji Invest, Steadview Capital                                                                   1\n",
       "ah! Ventures, We Founder Circle                                                                    1\n",
       "IvyCap Ventures                                                                                    1\n",
       "Zoho                                                                                               1\n",
       "Owl Ventures                                                                                       1\n",
       "Abu Dhabi Growth Fund, Tiger Global                                                                1\n",
       "Induslaw, Reddy Futures                                                                            1\n",
       "Alok Kohli, Sanjeev Bhargava                                                                       1\n",
       "KRAFTON                                                                                            1\n",
       "Kedaara                                                                                            1\n",
       "Sequoia Capital India, BEENEXT                                                                     1\n",
       "Appit Simple Infotek                                                                               1\n",
       "Stride Ventures, InnoVen Capital                                                                   1\n",
       "Spanache                                                                                           1\n",
       "Omidyar Network India, Avaana Capital                                                              1\n",
       "Lok Capital, IIFL Asset Management                                                                 1\n",
       "Investcorp, Omidyar Network                                                                        1\n",
       "W Health Ventures, Pi Ventures                                                                     1\n",
       "Orbimed Asia Partners                                                                              1\n",
       "Signal Peak Ventures                                                                               1\n",
       "GoAhead Ventures                                                                                   1\n",
       "Balaji Srinivasan, Naval Ravikant                                                                  1\n",
       "Info Edge, Ruizheng Investment                                                                     1\n",
       "Speciale Invest, Farid Ahsan                                                                       1\n",
       "InCorp India                                                                                       1\n",
       "Skycatcher, Nexus Venture Partners                                                                 1\n",
       "IvyCap Ventures, Endiya Partners                                                                   1\n",
       "Microsoft                                                                                          1\n",
       "Matrix Partners India, 021 Capital                                                                 1\n",
       "VANS Group                                                                                         1\n",
       "DST Global, General Catalyst                                                                       1\n",
       "021 Capital, Y Combinator                                                                          1\n",
       "InnoVen Capital, TEAMFund                                                                          1\n",
       "3one4 Capital, Accel                                                                               1\n",
       "PointOne Capital, Core91 VC                                                                        1\n",
       "Ocean View Investment, QED Fund                                                                    1\n",
       "Gaurav Gupta, Vivek Srivatsav                                                                      1\n",
       "Vivek Vaidya, Kevin Donlon, Ayush Singh                                                            1\n",
       "Invesco Developing Markets Fund                                                                    1\n",
       "Nueva                                                                                              1\n",
       "Varun Alagh, Harish Daiya                                                                          1\n",
       "Ten Innovate                                                                                       1\n",
       "GetVantage, Velocity, Shiprocket Capital                                                           1\n",
       "Geekster                                                                                           1\n",
       "Capital Group, Falcon Edge                                                                         1\n",
       "Elevation Partners, Emergent Ventures                                                              1\n",
       "responsAbility Investments, Blue Orchard                                                           1\n",
       "Anicut Angel Fund, Sauce.VC                                                                        1\n",
       "General Catalyst, Eight Roads Ventures, Elevation Capital                                          1\n",
       "Kumar Aakash, Amit Singhal                                                                         1\n",
       "growX ventures                                                                                     1\n",
       "Salesforce Ventures, Sierra Ventures, Sequoia Capital India’s Surge                                1\n",
       "Jitendra Gupta, Amrish Rau                                                                         1\n",
       "Orios Venture Partners                                                                             1\n",
       "Kalaari Capital, Incubate Fund India                                                               1\n",
       "Tiger Global, Falcon Edge                                                                          1\n",
       "Petronas Ventures                                                                                  1\n",
       "Avataar Venture Partners, Kalaari Capital                                                          1\n",
       "Sequoia Capital India, rocketship.vc                                                               1\n",
       "Trifecta Capital Advisors, Blume Ventures                                                          1\n",
       "$Undisclosed                                                                                       1\n",
       "BlueOrchard Finance S A, Gojo & Company                                                            1\n",
       "Campus Fund                                                                                        1\n",
       "CreedCap Asia Advisors                                                                             1\n",
       "Aavishkaar Capital                                                                                 1\n",
       "Jaipuria Family Office                                                                             1\n",
       "EXPERT DOJO                                                                                        1\n",
       "Yamaha Motors, Omidyar Network India, Eight Roads Ventures                                         1\n",
       "CDC Group, Partners Group                                                                          1\n",
       "Agility Venture Partners                                                                           1\n",
       "Saama Capital, DSG Consumer Partners, Sharrp Ventures                                              1\n",
       "Evolvence Capital                                                                                  1\n",
       "Matrix Partners India, Jitendra Gupta, RTP Global                                                  1\n",
       "Unilazer Ventures, IIFL Asset Management                                                           1\n",
       "Manuvel Malabar Jewellers                                                                          1\n",
       "Greenoaks Capital, Elevation Capital                                                               1\n",
       "RTP Global, Harshil Mathur                                                                         1\n",
       "Hindustan Media Ventures                                                                           1\n",
       "BASF Venture Capital GmbH                                                                          1\n",
       "Curesense Therapeutics                                                                             1\n",
       "Alia Bhatt, IAN Fund, Social Alpha, Draper Richards Kaplan Foundation                              1\n",
       "Vy Capital, Wellington Management                                                                  1\n",
       "Ascent Capital                                                                                     1\n",
       "LetsVenture                                                                                        1\n",
       "GUSEC Seed Fund, DeVX Venture Fund                                                                 1\n",
       "The Xander Group                                                                                   1\n",
       "TNF Ventures, Razorpay                                                                             1\n",
       "LetsVenture, AngelList India, Founder's Room Circle                                                1\n",
       "Venture Highway, Stellaris Venture Partners                                                        1\n",
       "Falcon Edge, DST Global, D1 Capital, Redbird Capital, Tiger Global                                 1\n",
       "Nubank, Global Founders Capital, Sequoia Capital India, Matrix Partners India                      1\n",
       "Ecosystem Ventures, CMM group                                                                      1\n",
       "Kae Capital, Pi Ventures                                                                           1\n",
       "Vaibhav Domkundwar, Kunal Shah                                                                     1\n",
       "Nadir B Godrej                                                                                     1\n",
       "Iconiq Growth                                                                                      1\n",
       "Eight Roads Ventures, GSV                                                                          1\n",
       "Artha Venture Fund                                                                                 1\n",
       "Triodos Investment Management, SAIF Partners                                                       1\n",
       "F-Prime Capital, Eight Roads Ventures India                                                        1\n",
       "Elevar Equity, Accel India                                                                         1\n",
       "Alfa Ventures                                                                                      1\n",
       "The Good Glamm Group                                                                               1\n",
       "WorldBusiness Capital, Northern Arc                                                                1\n",
       "Y Combinator, Harvard Management                                                                   1\n",
       "IIFL India Private Equity Fund, Smiti Holding & Trading Company                                    1\n",
       "Ashish Shah                                                                                        1\n",
       "Indian Angel Network, Axilor                                                                       1\n",
       "Shaival Desai, Flowstate Ventures                                                                  1\n",
       "EXPERT DOJO, Mumbai Angels                                                                         1\n",
       "Y-Combinator                                                                                       1\n",
       "Anas Rahman Junaid, Vinod Jose                                                                     1\n",
       "Think Investments, Venture Highway                                                                 1\n",
       "Jimmy Singh                                                                                        1\n",
       "Y Combinator, Jetty Ventures, Earlsfield Capital, SMC Advisors, Kunal Shah                         1\n",
       "Info Edge, FalconEdge                                                                              1\n",
       "Tiger Global Management, InnoVen Capital                                                           1\n",
       "Ashwini Kakkar. 9Unicorns                                                                          1\n",
       "DSG Consumer Partners, Saama Capital                                                               1\n",
       "Kotak Investment Advisors Limited, Gruhas Proptech                                                 1\n",
       "Shaival Desai, Alkemi Venture Partners                                                             1\n",
       "Kayenne Ventures, Nordic Microfinance Initiative                                                   1\n",
       "Amrac Investment Trust                                                                             1\n",
       "TransUnion, Blume Ventures                                                                         1\n",
       "C4D Partners                                                                                       1\n",
       "Docprime Technologies                                                                              1\n",
       "9Unicorns, Anthill Ventures                                                                        1\n",
       "Kunal Shah, Krishna Kumar                                                                          1\n",
       "velocity.in                                                                                        1\n",
       "Elevation Capital, Matrix Partners India                                                           1\n",
       "Sistema Asia Capital, Evolvence India Fund                                                         1\n",
       "Jetty Ventures, Srinivas Anumolu                                                                   1\n",
       "BAce Capital, Heritas Capital, 3Lines Venture Capital                                              1\n",
       "Rajesh Agarwal, Nandkishore Mundada                                                                1\n",
       "StartupXseed Ventures                                                                              1\n",
       "YourNest Venture Capital                                                                           1\n",
       "STRIVE VC                                                                                          1\n",
       "Krafton Inc, Omidyar                                                                               1\n",
       "IIFL AMC, Mankind Pharma Family Office, Aroa Ventures                                              1\n",
       "Gokul Rajaram, Pureland Venture, Wavemaker Partners                                                1\n",
       "Sonu Nigam, Whiteboard Capital                                                                     1\n",
       "Temasek, Google, SBI Investment                                                                    1\n",
       "Titan Capital, LetsVenture                                                                         1\n",
       "Recur Club                                                                                         1\n",
       "AdvantEdge Founders                                                                                1\n",
       "Guild Capital, RPSG Capital Ventures                                                               1\n",
       "Solana                                                                                             1\n",
       "Tiger Global, Flipkart Ventures                                                                    1\n",
       "Canbank Venture Capital Fund                                                                       1\n",
       "Dhianu Das, Agility Venture Partners                                                               1\n",
       "Avon Cycles                                                                                        1\n",
       "iSeed, Titan Capital                                                                               1\n",
       "Trifecta Capital                                                                                   1\n",
       "MaGEHold                                                                                           1\n",
       "Season Two Ventures, IndiaMart                                                                     1\n",
       "JSW Ventures, Kalaari Capital                                                                      1\n",
       "Morgan Stanley                                                                                     1\n",
       "DevX Venture Fund                                                                                  1\n",
       "NewQuest Capital Partners, Motilal Oswal Private Equity                                            1\n",
       "Y Combinator, Broom Ventures, Kunal Shah                                                           1\n",
       "Let’s Venture, Better Capital                                                                      1\n",
       "Norfund, The Rise Fund                                                                             1\n",
       "Incofin, NabVentures, Orios                                                                        1\n",
       "Auxano                                                                                             1\n",
       "Chaitanya Kalipatnapu, Kedar Gavane                                                                1\n",
       "Chiratae Ventures, BEENEXT                                                                         1\n",
       "General Atlantic, Tiger Global, Moore Strategic Ventures                                           1\n",
       "Acko Technology, Services, LetsVenture                                                             1\n",
       "Aditya Singhal, Nishant Sinha                                                                      1\n",
       "Infoedge ventures                                                                                  1\n",
       "Iron Pillar, Nordstar, Binny Bansal                                                                1\n",
       "Bhavin Turakhia                                                                                    1\n",
       "Tiger Global Management, Y Combinator Continuity Fund                                              1\n",
       "Sabre Partners                                                                                     1\n",
       "Binny Bansal, Kunal Shah                                                                           1\n",
       "Arali Ventures                                                                                     1\n",
       "Tribe Capital, IFC Emerging Asia Fund, VEF                                                         1\n",
       "Shell Ventures, Yamaha, Kunal Shah                                                                 1\n",
       "1Crowd                                                                                             1\n",
       "Chiratae Ventures, JAFCO Asia                                                                      1\n",
       "Titan Capital, Sequoia Capital                                                                     1\n",
       "Y Combinator, Rebright Partners                                                                    1\n",
       "Sunil Sethia, Sunil Kumar Singhvi, Manish Mardia                                                   1\n",
       "100X.VC﻿,﻿ Titan Capital, Rahul Mathur, Gaurav Mandlecha                                           1\n",
       "TCN International Commerce                                                                         1\n",
       "Siddharth Bhaskar Shah, Upsparks                                                                   1\n",
       "Lightspeed Venture Partners, Elevation Capital                                                     1\n",
       "Ashok Goyal                                                                                        1\n",
       "GSF Accelerator                                                                                    1\n",
       "Aurum Proptech                                                                                     1\n",
       "Sequoia’s Surge, Accel Partners                                                                    1\n",
       "Accel Partners, Matrix India                                                                       1\n",
       "Callapina Capital                                                                                  1\n",
       "Venture Catalysts, Auxano Capital, Venture Garage, Yoga Capital, Ah!Ventures, Lead Angels          1\n",
       "SucSEED Venture Partners, TMT Connekt                                                              1\n",
       "India Angel Network                                                                                1\n",
       "Harsh Jain, Lalit Keshre                                                                           1\n",
       "Awign Enterprises                                                                                  1\n",
       "Arcilla, Samir Khosla                                                                              1\n",
       "CIIE.CO, KIIT-TBI                                                                                  1\n",
       "Vitol                                                                                              1\n",
       "TCV, D1 Capital Partners, Falcon Edge.                                                             1\n",
       "Goldman Sachs, Tata Capital                                                                        1\n",
       "Fidelity, GIC                                                                                      1\n",
       "Sanjay Baldwa, Ajay Jain                                                                           1\n",
       "Y Combinator, JAFCO Asia, Incubate Fund India, marquee angels                                      1\n",
       "Balaji Srinivasan                                                                                  1\n",
       "Y Combinator﻿, ﻿Goodwater Capital                                                                  1\n",
       "Kunal Shah, Deepinder Goyal, Abhiraj Singh Bhal                                                    1\n",
       "LetsVenture, Paradigm Shift VC, Binny Bansal                                                       1\n",
       "Techstars, Ryan Johnson                                                                            1\n",
       "9Unicorns, Symphony International Holdings Limited, Value Quest                                    1\n",
       "RTP Global                                                                                         1\n",
       "ADM Capital                                                                                        1\n",
       "3one4 Capital, DSP Group                                                                           1\n",
       "Sequoia Capital , Together Fund                                                                    1\n",
       "The Chatterjee Group, Prophetic Ventures                                                           1\n",
       "MaGEHold Pte. Ltd.                                                                                 1\n",
       "Novo Tellus Capital                                                                                1\n",
       "Binny Bansal, Deep Kalra, Dr Ashish Gupta, Gokul Rajaram, Shirish Nadkarni                         1\n",
       "Momentum 6, Basics Capital, Krypital Capital, Shima Capital, Magnus Capital                        1\n",
       "Chiratae Ventures, Better Capital                                                                  1\n",
       "Pankaj Chaddah, Srivatsan Rajan                                                                    1\n",
       "Mumbai Angels Network, Expert DOJO                                                                 1\n",
       "Infosys, Qualcomm Ventures                                                                         1\n",
       "Accel Partners, Falcon Edge Capital, Norwest Venture Partners                                      1\n",
       "India Accelerator’s Angel Investor Network                                                         1\n",
       "Oxshott Capital Partners, XN Exponent, Edelweiss                                                   1\n",
       "Siana Capital, Inflexor Ventures, Stride Ventures                                                  1\n",
       "Sequoia Capital India, 3one4 Capital                                                               1\n",
       "Ashish Hemrajani, Parikshit Dar                                                                    1\n",
       "Yuj Ventures                                                                                       1\n",
       "Alfa Ventures, Agility Venture Partners                                                            1\n",
       "Binny Bansal, General Catalyst                                                                     1\n",
       "ScoopWhoop                                                                                         1\n",
       "View Trade Holding Corp                                                                            1\n",
       "Lightrock India, Filter Capital                                                                    1\n",
       "Omidyar Network India                                                                              1\n",
       "Cholamandalam                                                                                      1\n",
       "India Quotient                                                                                     1\n",
       "9Unicorns, Varanium NexGen Fund                                                                    1\n",
       "NEVF, AccelNest                                                                                    1\n",
       "ITI Growth Opportunities                                                                           1\n",
       "MyAsia VC, Orios Venture Partners                                                                  1\n",
       "Norwest Venture Partners                                                                           1\n",
       "WEH Ventures                                                                                       1\n",
       "Titan Capital, AngelList's syndicate                                                               1\n",
       "Nexus Venture Partners, 23 High Networth Individuals (HNIs)                                        1\n",
       "Smallcase                                                                                          1\n",
       "SternAegis Ventures                                                                                1\n",
       "Sixth Sense Ventures, NABVENTURES                                                                  1\n",
       "CDC Group, IDG Capital                                                                             1\n",
       "Elevation Capital, Accel India                                                                     1\n",
       "Zerodha's Rainmatter Capital, Better Capital                                                       1\n",
       "Omidyar Network, Flourish Ventures, Elevar Equity, Accel                                           1\n",
       "Accel, Owl Ventures                                                                                1\n",
       "Varun Alagh, Sahil Barua                                                                           1\n",
       "Paragon Partners, NABVENTURES                                                                      1\n",
       "Sequoia’s Surge, Y Combinator                                                                      1\n",
       "Jupiter                                                                                            1\n",
       "Z3Partners                                                                                         1\n",
       "General Atlantic, Multiples                                                                        1\n",
       "Sixth Sense Ventures, Colgate Palmolive                                                            1\n",
       "IIFL Wealth, Asset Management, Northern Arc Capital                                                1\n",
       "Bertelsmann India Investments, Fullerton Financial Holdings                                        1\n",
       "Sofina, Lightrock India, Temasek                                                                   1\n",
       "Plutus Wealth Management, Turtle Entertainment                                                     1\n",
       "NB Ventures, IAN Fund                                                                              1\n",
       "The Treasury                                                                                       1\n",
       "Tiger Global, Dragoneer Investment Group, Steadview Capital, General Atlantic                      1\n",
       "Tiger Global, Prosus Ventures                                                                      1\n",
       "Supriya Kumari, Premanshu Singh                                                                    1\n",
       "Quadria Capital                                                                                    1\n",
       "Saama Capital, DSG Consumer Partners                                                               1\n",
       "GSV Ventures, Westbridge Capital                                                                   1\n",
       "GetVantage, Prakash Katama                                                                         1\n",
       "Republic Crypto, Woodstock, DCG, Sahil Lavingia                                                    1\n",
       "Gurj Aujla, Ashik K                                                                                1\n",
       "Mirae Asset, H&M                                                                                   1\n",
       "9Unicorns, Ashneer Grover                                                                          1\n",
       "Y Combinator, Rehan A Khan                                                                         1\n",
       "Kotak Securities                                                                                   1\n",
       "Chiratae Ventures, YourNest Venture Capital                                                        1\n",
       "3one4 Capital, Sixth Sense Ventures                                                                1\n",
       "InnoVen Capital, InnoVen Capita                                                                    1\n",
       "BEENEXT, 3one4 Capital                                                                             1\n",
       "Roshan Abbas, Ritesh Malik                                                                         1\n",
       "enture Catalyst, IPV                                                                               1\n",
       "Winter Capital, ETS, Man Capital                                                                   1\n",
       "IAN Fund                                                                                           1\n",
       "Gokul Rajaram, Venture Catalysts                                                                   1\n",
       "Mark Cuban, MiH Ventures                                                                           1\n",
       "India Accelerator, Lyxel&Flamingo                                                                  1\n",
       "Capital India                                                                                      1\n",
       "Radiant Life Care Private Ltd, Life Healthcare                                                     1\n",
       "T Choithrams BVI, Ardor                                                                            1\n",
       "Paradigm, Kunal Shah                                                                               1\n",
       "YCombinator, Justin Mateen, Pioneer Fund                                                           1\n",
       "Ramp, Rainfall Ventures, Roka Works, Y Combinator                                                  1\n",
       "Eight Roads Ventures, Think Investments, Mankekar Family Office                                    1\n",
       "Potencia Ventures, Bisk Ventures, LetsVenture, Ronnie Screwvala, Arihant Patni                     1\n",
       "SoftBank Vision Fund, Hindustan Media Venture                                                      1\n",
       "Inflection Point Ventures, DLabs                                                                   1\n",
       "Ecom Express                                                                                       1\n",
       "YourNest VC                                                                                        1\n",
       "Omnivore, Strive Ventures                                                                          1\n",
       "Inflection Point Ventures, Rockstud Capital, FirstPort Capital, Bliss Flow Investments Pvt Ltd     1\n",
       "Rajan Anadan                                                                                       1\n",
       "Hungama, Hindustan Talkies                                                                         1\n",
       "Zone Startups In                                                                                   1\n",
       "Edge Ventures, Elevation Capital                                                                   1\n",
       "Saama Capital﻿, ﻿Titan Capital﻿, DSG Consumer Partners                                             1\n",
       "Morgan Stanley Private Equity Asia                                                                 1\n",
       "Better Capital, Titan Capital                                                                      1\n",
       "Faering Capital                                                                                    1\n",
       "Omidyar Network India, Chiratae Ventures                                                           1\n",
       "Twitter Ventures, Pawan Munjal                                                                     1\n",
       "Arvind Venugopal Nair, Amritendu Mukherjee                                                         1\n",
       "Zinnia Global                                                                                      1\n",
       "Beyond Next Ventures                                                                               1\n",
       "Accel Partners                                                                                     1\n",
       "Capital A, Collective Artists Network                                                              1\n",
       "Dream Capital, Elysian Park Ventures                                                               1\n",
       "Micelio Fund, growX ventures                                                                       1\n",
       "Jesse Lucas                                                                                        1\n",
       "Crossbeam Venture Partners                                                                         1\n",
       "Northern Arc, Arthmate, Shine Star, E clear, Hinduja                                               1\n",
       "Michael & Susan Dell Foundation                                                                    1\n",
       "Nitish Mittersain, Gaurav Munjal                                                                   1\n",
       "Enzia Ventures, Kunal Shah                                                                         1\n",
       "Better Capital, Bharat Inclusion Seed Fund                                                         1\n",
       "Kogta Financial India Limited, ICICI Bank                                                          1\n",
       "Shrishti Sahu, Umang Vohra                                                                         1\n",
       "Liberatha Kallat, Mukesh Yadav, Dinesh Nagpal                                                      1\n",
       "Vijay Shekhar Sharma, Rohit Kapoor, Amanpreet Bajaj, Lalit Singh                                   1\n",
       "Sauce.vc                                                                                           1\n",
       "SucSEED  Indovation Fund, Uincept, Palimala Ventures                                               1\n",
       "Stellaris Venture Partners, Chiratae Ventures                                                      1\n",
       "Baring Private Equity Partners India, Talbros                                                      1\n",
       "Rajasthan Venture Capital Fund                                                                     1\n",
       "OAKS Asset Management                                                                              1\n",
       "Sujeet Kumar, SucSEED Indovation Fund                                                              1\n",
       "GIC, Infoedge                                                                                      1\n",
       "Rocketship.vc, Vulcan Capital                                                                      1\n",
       "Dallas Venture Capital, Mars Growth Capital                                                        1\n",
       "InvestCorp                                                                                         1\n",
       "Elevation, General Catalyst                                                                        1\n",
       "The StarupLab, AngelBay                                                                            1\n",
       "IIFL AMC                                                                                           1\n",
       "Parthiv Group                                                                                      1\n",
       "Mumbai Angels                                                                                      1\n",
       "MTG Ventures                                                                                       1\n",
       "Titan Capital, Rockstud Capital,  John Abraham, WEH Ventures                                       1\n",
       "9Unicorns, ZNL                                                                                     1\n",
       "Chiratae Ventures, AET Fund                                                                        1\n",
       "Alteria Capital, Matrix Partners India                                                             1\n",
       "Amit Singal, Manish Aggarwal                                                                       1\n",
       "Rukam Capital, DSG Consumer Partners, The Chennai Angels                                           1\n",
       "WaterBridge Ventures, SAIF Partners                                                                1\n",
       "Northern Arc, Vivriti Capital                                                                      1\n",
       "Darq Capital, Jagadeesh Atukuri                                                                    1\n",
       "CDC Group, Creaegis                                                                                1\n",
       "IAN, Yuj Ventures                                                                                  1\n",
       "Celesta Capital, Omidyar Network India                                                             1\n",
       "HOF Capital, Old Well Ventures, LetsVenture, 9Unicorns                                             1\n",
       "Pravesh Mehta                                                                                      1\n",
       "Lumikai                                                                                            1\n",
       "TATA Cleantech Capital                                                                             1\n",
       "Yuj Ventures, Sixth Sense Ventures                                                                 1\n",
       "Krafton, Lumikai                                                                                   1\n",
       "3one4 Capital, Kalaari Capital                                                                     1\n",
       "DST Global, RTP Global                                                                             1\n",
       "InnoVen Capital, Bertelsmann India Investments                                                     1\n",
       "Justin Mateen                                                                                      1\n",
       "Falcon Edge Capital, White Oak Global Advisors                                                     1\n",
       "Krafton                                                                                            1\n",
       "SARA ELGI                                                                                          1\n",
       "BlackSoil, CLSA Capital Partners                                                                   1\n",
       "Leo Capital, Mayfield Fund                                                                         1\n",
       "Blume, Alpha Wave Incubation                                                                       1\n",
       "General Catalyst, Jungle Ventures                                                                  1\n",
       "Sequoia Capital India, Matrix Partners India                                                       1\n",
       "PayU, Google                                                                                       1\n",
       "BEENEXT, Entrepreneur First                                                                        1\n",
       "Matrix Partners India, RTP Global                                                                  1\n",
       "GSV, Multiply Ventures                                                                             1\n",
       "Better Capital, First Cheque, Titan Capital                                                        1\n",
       "Manish Subramaniam, Upaya Social Ventures                                                          1\n",
       "Hitesh Oberoi, Lightbox                                                                            1\n",
       "Base 10 Partners, Eight Roads Ventures                                                             1\n",
       "Angelbay Holdings, Faad Network                                                                    1\n",
       "National Skill Development Corporation, Rianta Capital                                             1\n",
       "WestCap Group, Tomales Bay Capital                                                                 1\n",
       "BlackRock, Owl Ventures                                                                            1\n",
       "IIFL AMC, Oman India Joint Investment Fund                                                         1\n",
       "Pavestone Ventures                                                                                 1\n",
       "SRI Capital, Picus Capital, Alkemi Capital                                                         1\n",
       "Blume Ventures, Nexus Venture Partners                                                             1\n",
       "Spring Marketing Capital                                                                           1\n",
       "Alphabit Fund, Fulgur Ventures, Stacks Accelerator, SBX Capital                                    1\n",
       "W Health Ventures                                                                                  1\n",
       "Anicut Angel Fund, 9 Unicorns                                                                      1\n",
       "We Founder Circle, Dexter Angels                                                                   1\n",
       "Ribbit Capital, Kunal Shah                                                                         1\n",
       "Mapmyindia                                                                                         1\n",
       "Stakeboat Capital                                                                                  1\n",
       "ah! Ventures High Tables                                                                           1\n",
       "SAB Holdings                                                                                       1\n",
       "Blume Ventures, Whiteboard Capital                                                                 1\n",
       "Kvanto Payment Services                                                                            1\n",
       "TheVentures                                                                                        1\n",
       "Deep Kalra, Ashish Kashyap, Rajesh Magow                                                           1\n",
       "IIFL Wealth, TPG Growth, Norwest Venture Partners                                                  1\n",
       "DST Global                                                                                         1\n",
       "We Founder Circle, Appyhigh, Mumbai Angels                                                         1\n",
       "Fidelity, B Capital                                                                                1\n",
       "Titan Capital, Archana Priyadarshini, Gaurav Ahuja                                                 1\n",
       "Keiretsu Forum, SucSEED Venture Partners                                                           1\n",
       "Qualcomm Ventures, Warburg Pincus                                                                  1\n",
       "Aavishkaar Venture Capital, YWC Venture Capital                                                    1\n",
       "Legatum Capital                                                                                    1\n",
       "Accel, Bain Capital                                                                                1\n",
       "Bank of Baroda                                                                                     1\n",
       "Dream Sports                                                                                       1\n",
       "Tiger Global, Sequoia Capital                                                                      1\n",
       "Orios Venture Partners, Matrix Partners India                                                      1\n",
       "EKKI                                                                                               1\n",
       "InnoVen Capital                                                                                    1\n",
       "Qatar Investment Authority                                                                         1\n",
       "Y Combinator, Incubate Fund India                                                                  1\n",
       "Equanimity Ventures, 9Unicorns                                                                     1\n",
       "Evolvence, Hero Enterprise                                                                         1\n",
       "Anand Prakash Sharma                                                                               1\n",
       "Stellaris Venture Partners, Ramakant Sharma                                                        1\n",
       "Reliance Digital Health                                                                            1\n",
       "Akya Ventures                                                                                      1\n",
       "Mike Novogratz, Neeraj Arora                                                                       1\n",
       "Lightspeed India Partners, CM Ventures                                                             1\n",
       "DST Global, Falcon Edge, SoftBank Vision Fund 2                                                    1\n",
       "JAM, Better Tomorrow Ventures                                                                      1\n",
       "Manish Choksi, Varun Vakil                                                                         1\n",
       "Zomato                                                                                             1\n",
       "Eight Roads Ventures India, Nexus Venture Partners                                                 1\n",
       "Astra Ventures, Gaurav Jaitly                                                                      1\n",
       "Accel, Nexus Venture                                                                               1\n",
       "Xponentia Capital Partners                                                                         1\n",
       "Sequoia Capital, Matrix Partners                                                                   1\n",
       "Falcon Edge India, Norwest Venture Partners                                                        1\n",
       "Satish Grampurohit                                                                                 1\n",
       "Kunal Shah, Deepak Abbot                                                                           1\n",
       "Ka Enterprises                                                                                     1\n",
       "Matrix Partners India, GIC                                                                         1\n",
       "Premji Invest, Mirae Asset Naver Asia Growth Fund, Alpine Capital                                  1\n",
       "Dinesh Godara, Anuj Ahuja, Aditya                                                                  1\n",
       "First Cheque, Letsventure                                                                          1\n",
       "Titan Capital, Y Combinator                                                                        1\n",
       "Eclear Leasing                                                                                     1\n",
       "Saama Capital, India Quotient                                                                      1\n",
       "UC Inclusive Credit, Western Capital                                                               1\n",
       "IIFL, Mumbai Angels                                                                                1\n",
       "Safe Planet Medicare                                                                               1\n",
       "Asian Development Bank, Oman India Joint Investment Fund                                           1\n",
       "Better Capital, Ashish Achrekar                                                                    1\n",
       "Steadview Capital, Insight Partners                                                                1\n",
       "IAN, Social Alpha, Startup Oasis                                                                   1\n",
       "HNIs, Angels                                                                                       1\n",
       "Dragoneer Investment Group, Tiger Global Management                                                1\n",
       "The Chennai Angels                                                                                 1\n",
       "JAFCO Asia, Chiratae Ventures                                                                      1\n",
       "Temasek, Falcon Edge                                                                               1\n",
       "Carmignac, Falcon Edge Capital                                                                     1\n",
       "Habitat for Humanity International                                                                 1\n",
       "Vulcan Capital                                                                                     1\n",
       "Nvidia Inception                                                                                   1\n",
       "Accor                                                                                              1\n",
       "Tiger Global, Insight Partners                                                                     1\n",
       "Ambiga Subramanian, Goutham Ekollu                                                                 1\n",
       "Asian Development Bank, U.S. International Development Finance Corp                                1\n",
       "Sachin Tendulkar                                                                                   1\n",
       "Tiger Global, Sequoia                                                                              1\n",
       "Faad Network                                                                                       1\n",
       "Saama, Whiteboard Capital                                                                          1\n",
       "Rebright Partners, Wadhwani Foundation                                                             1\n",
       "9Unicorns, Spearhead Capital, Venture Catalysts                                                    1\n",
       "Octahedron Capital, Moonstone Capital                                                              1\n",
       "Chiratae Ventures, Lenskart Vision Fund                                                            1\n",
       "Roha Investment Managers, angel investor Saumil Shah                                               1\n",
       "Mumbai Angels, DNA Entertainment Networks                                                          1\n",
       "M2P Fintech                                                                                        1\n",
       "BLinC Invest                                                                                       1\n",
       "Addition, SIG Global India Fund                                                                    1\n",
       "Invus                                                                                              1\n",
       "Uday Sodhi                                                                                         1\n",
       "Kalaari Capital, Dream Capital                                                                     1\n",
       "Mount Judi Ventures, growX Ventures, Season Two Ventures                                           1\n",
       "Auxano, Falcon5                                                                                    1\n",
       "Glade Brook Capital, Nexus, Y Combinator                                                           1\n",
       "Accel, LetsVenture, 1Crowd                                                                         1\n",
       "9Unicorns Accelerator Fund, Metaform Ventures                                                      1\n",
       "GEF Capital’s South Asia Fund                                                                      1\n",
       "Invested Development, Pratithi Investment Trust                                                    1\n",
       "IAN Fund, Malabar Angel Network, Native Angel Network                                              1\n",
       "Warburg Pincus﻿, Prosus Ventures                                                                   1\n",
       "CDC Group, Jungle Ventures, March Capital, Marshall Wace                                           1\n",
       "Rebright Partners, Flourish Ventures                                                               1\n",
       "Canaan Valley Capital, Glade Brook Capital Partners                                                1\n",
       "Unilazer Ventures                                                                                  1\n",
       "Baring PE India                                                                                    1\n",
       "James Milner, Adam Lallana                                                                         1\n",
       "Raghav Kapur, Indian Angel Network                                                                 1\n",
       "Oasis Capital, Scorpio VC, DeltaHub Capital                                                        1\n",
       "Dinesh Godara, Aditya Talwar                                                                       1\n",
       "Riteesh Mohan Bakshi, Raghav Mohan Bakshi, Achin Kochar                                            1\n",
       "Healthcare veterans, PIEDS                                                                         1\n",
       "Tribe Capital, Prime Venture Partners                                                              1\n",
       "IIFL AMC, Sistema Asia Fund, CX Partners, Singularity Growth Opportunities Fund                    1\n",
       "Inflection Point Ventures, Rockstud Capital, Pentathlon Ventures, Prophetic Ventures syndicate     1\n",
       "Raj Nair, Gopinath Latpate                                                                         1\n",
       "Venture Catalysts, Indian Angel Network                                                            1\n",
       "Venture Catalysts, Jeevak Gupta                                                                    1\n",
       "Equanimity Ventures                                                                                1\n",
       "Blume Ventures, Micelio Fund                                                                       1\n",
       "Alteria Capital, Chiratae Ventures                                                                 1\n",
       "Siti Cable                                                                                         1\n",
       "Paradigm Shift Capital, AngelList India                                                            1\n",
       "Apoorva Sharma, The Chennai Angels, Karthik Bhat                                                   1\n",
       "Blume Ventures, Orios Ventures                                                                     1\n",
       "Vijayan                                                                                            1\n",
       "Jayanti Kanani                                                                                     1\n",
       "ABC World Asia                                                                                     1\n",
       "Rishi Kumar Bagla, Krishen Lal Khanna                                                              1\n",
       "Responsibility, Blue Ashva Capital, Pravega Ventures                                               1\n",
       "Omnivore                                                                                           1\n",
       "Incubate Fund India                                                                                1\n",
       "InfoEdge                                                                                           1\n",
       "Nabventures, Avaana Capital                                                                        1\n",
       "Lee Fixel’s venture capital firm, Addition                                                         1\n",
       "Marquee international institutional investors                                                      1\n",
       "Northern Arc, Caspian Impact Investments                                                           1\n",
       "Bon Angels Venture Partners, Daesung Private Equity                                                1\n",
       "Sequoia Capital India, Accel                                                                       1\n",
       "Kora Capital, Stripe, Alua Capital                                                                 1\n",
       "Kallol Banerjee, Jaydeep Barman                                                                    1\n",
       "Tuscan Ventures, Ohm Stock Brokers, Artha Venture Fund                                             1\n",
       "SIG                                                                                                1\n",
       "Centrum Financial Services                                                                         1\n",
       "Richard Rekhy                                                                                      1\n",
       "Pi Ventures LLP, Tanas Capital, Prodapt Holdings                                                   1\n",
       "Vijay Shekhar Sharma, Dr Ritesh Malik                                                              1\n",
       "RP-Sanjiv Goenka Group                                                                             1\n",
       "Rajasthan Venture Capital Fund, ACPL Exports                                                       1\n",
       "Transworld Group                                                                                   1\n",
       "Climate Angels Fund                                                                                1\n",
       "Indian Angel Network, Titan Capital, Lead Angels                                                   1\n",
       "DSG Consumer Partners, Titan Capital                                                               1\n",
       "Akash Prakash, Madhu Jayakumar, Dipinder Sandhu, Shagun Khandelwal                                 1\n",
       "TPG Capital Asia, Epiq Capital                                                                     1\n",
       "Jitendra Gupta, Better Capital                                                                     1\n",
       "Zephyr Peacock                                                                                     1\n",
       "YES Bank                                                                                           1\n",
       "Kunal Shah, Better Capital                                                                         1\n",
       "Avendus                                                                                            1\n",
       "Prime VP                                                                                           1\n",
       "Nitin Passi, Ruchirans Jaipuria                                                                    1\n",
       "Indovation Fund, Mumbai Angels                                                                     1\n",
       "Shark Tank India                                                                                   1\n",
       "Tribe Capital, Moore Strategic Ventures (MSV)                                                      1\n",
       "InfoEdge Ventures, IAN Fund                                                                        1\n",
       "100x Entrepreneurs                                                                                 1\n",
       "Kunal Shah, Greg Kidd                                                                              1\n",
       "YourNest                                                                                           1\n",
       "Alpha Wave Ventures, Falcon Edge Capital                                                           1\n",
       "SAIF Partners, Venture Highway                                                                     1\n",
       "NB Ventures                                                                                        1\n",
       "Netcore Cloud, Vallabh Bhansali, Jimmy Mahtani                                                     1\n",
       "Vertex Ventures, Stellaris Venture Partners                                                        1\n",
       "GSF, Pras Hanuma                                                                                   1\n",
       "Beyond Next Ventures, M Venture Partners                                                           1\n",
       "BlackSoil Capital                                                                                  1\n",
       "Kotak Mahindra Bank, FMO                                                                           1\n",
       "Entrepreneur First (EF), GrowX Ventures                                                            1\n",
       "Nabventures                                                                                        1\n",
       "RouteOne, Mankekar Family Office                                                                   1\n",
       "Global Founders Capital, Enzia Ventures, Better Capital                                            1\n",
       "Sequoia Capital India, Hummingbird Ventures                                                        1\n",
       "Mechanism Capital, DACM                                                                            1\n",
       "Aqua-Spark                                                                                         1\n",
       "Apis Insurtech Fund I                                                                              1\n",
       "Titan Capital, iSeed, First Cheque, 3.0 Fund.                                                      1\n",
       "Sequoia Capital, Lightspeed, TVS Capital Funds                                                     1\n",
       "Accel India                                                                                        1\n",
       "U.S. International Development Finance Corp, Asian Development Bank                                1\n",
       "Vineet Singh, Krishna D, Deependra Bisht, Alan Aim                                                 1\n",
       "Hyperplane Venture Capital                                                                         1\n",
       "Griffin Gaming Partners                                                                            1\n",
       "Zip Co                                                                                             1\n",
       "Temasek, Multiples PE                                                                              1\n",
       "ADB Ventures, Jetty Ventures                                                                       1\n",
       "BEENEXT                                                                                            1\n",
       "Ramakant Sharma, Elevation Capital                                                                 1\n",
       "Kieretsu Forum, Lets Venture, Shell                                                                1\n",
       "Alpine Capital, PremjiInvest                                                                       1\n",
       "Pradeep K Jaisingh, Jayant Mehrotra                                                                1\n",
       "Prosus Ventures, RTP Global                                                                        1\n",
       "Blackstone Group, ADQ                                                                              1\n",
       "Riso Capital                                                                                       1\n",
       "IvyCap Ventures, Pratithi Investment Trust                                                         1\n",
       "Hardcastle Petrofer                                                                                1\n",
       "Sequoia Surge                                                                                      1\n",
       "Pritt Investment Partners, 9Unicorns                                                               1\n",
       "CRV, Nexus Venture Partners                                                                        1\n",
       "Cure.fit, Endiya Partners, Tanglin Venture                                                         1\n",
       "Verlinvest, Sequoia Capital India                                                                  1\n",
       "Northern Arc Capital, Niyogin Fintech Limited, Credit Saison India, Vivriti Capital                1\n",
       "GAWA Capital, Gaja Capital                                                                         1\n",
       "Hornbill Capital Advisers, Plutus Wealth Management                                                1\n",
       "Spring Marketing Capital, Verlinvest                                                               1\n",
       "Incofin’s India Progress Fund                                                                      1\n",
       "Aryaman Vir                                                                                        1\n",
       "Shireen Rangaswamy, Dilesh Gathani                                                                 1\n",
       "WaterBridge Ventures, Enzia Ventures                                                               1\n",
       "Jinisha Sharma, Aditya Agarwal, Victoria, Abhishek Shroff                                          1\n",
       "Aditya Duggar                                                                                      1\n",
       "Faering Capital, Sequoia Capital India, IIFL Alternate Asset Managers                              1\n",
       "International Finance Corporation                                                                  1\n",
       "Jungle Ventures, CX Partners                                                                       1\n",
       "S Chand                                                                                            1\n",
       "State Bank of India, Y Combinator                                                                  1\n",
       "Oikocredit, Nomura, The Bill & Melinda Gates Foundation                                            1\n",
       "Omidyar Network India, Innoven Capital                                                             1\n",
       "Westbridge Capital, Sixth Sense Ventures                                                           1\n",
       "Omidyar Network, Tencent Holdings                                                                  1\n",
       "TVS Motor, Zoho                                                                                    1\n",
       "Siguler Guff, Baillie Gifford                                                                      1\n",
       "Real Estate Accelerator Program (REAP), AngelList                                                  1\n",
       "Tree Line Investment Management                                                                    1\n",
       "2000000                                                                                            1\n",
       "Unitus Ventures, Omidyar Network India                                                             1\n",
       "DevX Venture Fund, Blume Founder Fund                                                              1\n",
       "Yatra Angel Network, BEENEXT                                                                       1\n",
       "Amara Raja Batteries                                                                               1\n",
       "LetsVenture, 2am VC, magic.fund                                                                    1\n",
       "Cygnus Medicare Group, Probal Ghoshal, Shuchin Bajaj                                               1\n",
       "Chiratae Ventures, Bharat Innovation Fund                                                          1\n",
       "CDC Group, Aavishkaar Venture Capital                                                              1\n",
       "Inflection Point Ventures, SucSEED Venture Partners                                                1\n",
       "India Infoline Finance                                                                             1\n",
       "Rohit Goutamchand, India CXO Fund                                                                  1\n",
       "Sequoia Capital, Sandeep Nailwal                                                                   1\n",
       "Ritu Marya Family Office.                                                                          1\n",
       "FirstCry, Lightspeed Venture Partners                                                              1\n",
       "Valar Ventures, IA Ventures                                                                        1\n",
       "Wipro venture capital arm                                                                          1\n",
       "Paytm                                                                                              1\n",
       "Artha India Ventures, Sriram Krishnan                                                              1\n",
       "Gojo & Company                                                                                     1\n",
       "Binance Labs, Zee Prime Capital                                                                    1\n",
       "Pritesh Kumar, Bharat Gupta                                                                        1\n",
       "WaterBridge Ventures, Info Edge                                                                    1\n",
       "Pearl Investment LLC                                                                               1\n",
       "BlueOrchard Impact Investment Managers                                                             1\n",
       "Sweta Rau, 9Unicorns Accelerator Fund                                                              1\n",
       "Blacksoil                                                                                          1\n",
       "Sequoia Capital India, ICONIQ Capital, Perceptive Advisors                                         1\n",
       "Data Point Capital                                                                                 1\n",
       "Prashant Pansare, Supermorpheus                                                                    1\n",
       "YCombinator                                                                                        1\n",
       "IDFC Private Equity, Bessemer Venture Partners                                                     1\n",
       "Stellaris Venture Partners, Omidyar Network India, Flourish Ventures                               1\n",
       "Raintree Family Office, ADB arm                                                                    1\n",
       "ContCentric                                                                                        1\n",
       "Trishneet Arora                                                                                    1\n",
       "Amit Singhal, Raine Ventures                                                                       1\n",
       "Ajat Hukkoo, Piyush Chaplot                                                                        1\n",
       "Titan Capital, Haresh Chawla, AngelList Syndicate                                                  1\n",
       "Family Office of Kantamaneni, IIM Calcutta Innovation Park                                         1\n",
       "Venture Catalysts, Tahseen Consulting                                                              1\n",
       "Sixth Sense Ventures, Godrej Family office, Malpani Group                                          1\n",
       "Westbridge Capital, Tanglin Venture Partners                                                       1\n",
       "Harsha Bhogle                                                                                      1\n",
       "Y-Combinator, AME Cloud Ventures, Gokul Rajaram                                                    1\n",
       "Virenxia Group, Rajesh Jain, Nitin Agarwal                                                         1\n",
       "Amit Lakhotia, Pravin Jadhav                                                                       1\n",
       "Learn Capital                                                                                      1\n",
       "9Unicorns Accelerator Fund, Sunder Nookala                                                         1\n",
       "Mount Judi India Growth Fund                                                                       1\n",
       "MAS Financial Services                                                                             1\n",
       "Joseph Joy                                                                                         1\n",
       "Anil Thadani, Ashutosh Sinha, Roy van Leeuwen                                                      1\n",
       "Venture Highway, Endiya Partners                                                                   1\n",
       "Stanford Angels and Entrepreneurs India, Anjali Bansal                                             1\n",
       "Dinesh Agarwal, Amarjit Batra                                                                      1\n",
       "Tiger Global, Vitruvian Partners                                                                   1\n",
       "9Unicorns, Sequoia Capital India’s Surge                                                           1\n",
       "Sequoia’s Surge, Nexus Venture Partners                                                            1\n",
       "Bain Capital                                                                                       1\n",
       "Lead Angels, Titan Capital, Pravega Ventures                                                       1\n",
       "Dia Mirza                                                                                          1\n",
       "SOSV, Omphalos Ventures India                                                                      1\n",
       "Old Fashion Research, Nothing Research, Tenzor capital                                             1\n",
       "Rajesh Rajendran                                                                                   1\n",
       "SK Tripathi, Sanjeev Gupta                                                                         1\n",
       "Impact Partners, C4D Partners                                                                      1\n",
       "NB Ventures, Earlsfield Capital                                                                    1\n",
       "Fresco Capital, Social Starts                                                                      1\n",
       "Lead Angels                                                                                        1\n",
       "Aavishkaar Capital, Rajiv Dadlani Group                                                            1\n",
       "JITO Angel Network, SOSV                                                                           1\n",
       "021 Capital, Sparrow Capital                                                                       1\n",
       "Matrix Partners India, Ankur Capital                                                               1\n",
       "N+1 Capital                                                                                        1\n",
       "Aroa Ventures, GVFL, Udaan                                                                         1\n",
       "IIFL Asset Management                                                                              1\n",
       "InCred Financial Services, Vivriti Capital, Northern Arc Capital                                   1\n",
       "Jyoti Bansal                                                                                       1\n",
       "9Unicorns, Venture Catalysts, Sandeep Singhal                                                      1\n",
       "Kohlberg Kravis Roberts, Temasek Holdings                                                          1\n",
       "U.S. International Development Finance Corp, responsAbility                                        1\n",
       "Ruchirans Jaipuria, Rishi Kajaria                                                                  1\n",
       "Ashish Jain, Ajay Surana                                                                           1\n",
       "Ronnie Screwvala                                                                                   1\n",
       "Shuru Up, Ankit Kedia, Arun Gupta                                                                  1\n",
       "IvyCap Ventures, IAN Fund                                                                          1\n",
       "Research Innovation Incubation Design Labs                                                         1\n",
       "Rajesh Sud, KULDEEP JAIN                                                                           1\n",
       "Sojitz Corporation, Stride Ventures                                                                1\n",
       "Waterbridge, Lumikai                                                                               1\n",
       "Goat Capital, JAM Fund                                                                             1\n",
       "Pravega Ventures                                                                                   1\n",
       "Inflection Point Ventures, ONGC                                                                    1\n",
       "Sanchit Agarwal, Sujan Sinha, Michael Cooke                                                        1\n",
       "IIFL﻿, ﻿Anicut Angel Fund﻿, ﻿Kae Capital﻿, TradeCred                                               1\n",
       "March Capital, Tribe Capital                                                                       1\n",
       "Founders Room Capital                                                                              1\n",
       "Mumbai Angels, Narendra Shyamsukha                                                                 1\n",
       "Tribe Capital, Arkam Ventures, WEH, Kunal Shah                                                     1\n",
       "Covalent, Double Peak, GenBlock Capital, Ledger Prime, MEXC Global, Synaps                         1\n",
       "Ajith Daneil                                                                                       1\n",
       "Tiger Global Management, DST Global                                                                1\n",
       "ITI Growth Opportunities Fund, Unit-E Ventures                                                     1\n",
       "Celesta Capital                                                                                    1\n",
       "Steadview Capital                                                                                  1\n",
       "FJ Labs, Brian Norgard                                                                             1\n",
       "BanyanTree Finance Pvt. Ltd.                                                                       1\n",
       "Venture Highway                                                                                    1\n",
       "Sofina Ventures SA                                                                                 1\n",
       "Quona Capital                                                                                      1\n",
       "Disrupt ADQ, QIC                                                                                   1\n",
       "9Unicorns Accelerator Fund, Indian Angel Network                                                   1\n",
       "IIFL, Amicus Capital, Ananta Capital                                                               1\n",
       "Titan Capital, First Cheque                                                                        1\n",
       "Prime Securities Limited                                                                           1\n",
       "Ashv Finance, BlackSoil Capital                                                                    1\n",
       "growX ventures, Venture Gurukool                                                                   1\n",
       "Xentel Investments                                                                                 1\n",
       "Fidelity, BlackRock                                                                                1\n",
       "Anicut Angel Fund, Axilor Ventures                                                                 1\n",
       "Quess Corp India                                                                                   1\n",
       "Susquehanna International Group, Bessemer Venture Partners                                         1\n",
       "Tiger Global’s Scott Schleifer                                                                     1\n",
       "Moore Strategic Ventures, BEENEXT                                                                  1\n",
       "Angelist India                                                                                     1\n",
       "Vertex Ventures, Omnivore                                                                          1\n",
       "Titan Capital, Kunal Shah                                                                          1\n",
       "Marquee fintech founders                                                                           1\n",
       "Mumbai Angels Network, Social Alpha                                                                1\n",
       "Venture Catalysts, Gruhas Proptech                                                                 1\n",
       "SucSEED Indovation, IIM Calcutta Innovation Park                                                   1\n",
       "ACPI Investments, AdvantEdge Founders                                                              1\n",
       "Anup Kumar Yama                                                                                    1\n",
       "Kunal Shah, Snehal Fulzele                                                                         1\n",
       "Roots Ventures, Velo Partners                                                                      1\n",
       "LeapFrog, Khosla Ventures                                                                          1\n",
       "Axilor Ventures                                                                                    1\n",
       "BEENEXT, Orios                                                                                     1\n",
       "Addition                                                                                           1\n",
       "Vijay Shekhar Sharma, Ritesh Agarwal, Ankiti Bose                                                  1\n",
       "Pentathlon Ventures                                                                                1\n",
       "Tanglin Ventures, Better Capital, Whiteboard Capital                                               1\n",
       "SOSV, Venture Catalysts                                                                            1\n",
       "Fluid Ventures, Mulberry Silks                                                                     1\n",
       "IAN Fund, World Startup Factory                                                                    1\n",
       "Plutus Wealth, Oaks Asset Management                                                               1\n",
       "Capital One, Arrowroot Capital                                                                     1\n",
       "Sundi Natarajan, Srinivas Anumolu                                                                  1\n",
       "Enzia Ventures, AngelList                                                                          1\n",
       "GVFL                                                                                               1\n",
       "Coinbase Ventures, Andreessen Horowitz                                                             1\n",
       "Prashasta Seth                                                                                     1\n",
       "Rachit Poddar, Rajesh Gupta                                                                        1\n",
       "Auxano Capital                                                                                     1\n",
       "Point One Capital, Yatra Angel Network (YAN), Opus Consulting, Manipal Technologies.               1\n",
       "Jani Ventures INC                                                                                  1\n",
       "InnoVen Capital, Nexus Venture Partners                                                            1\n",
       "A91 Partners, Faering Capital                                                                      1\n",
       "Mumbai Angels, Amitesh Pandey                                                                      1\n",
       "Gokul Rajaram, JPIN, Venture Catalysts UK, AngelList                                               1\n",
       "Venture Highway, Rohit Bansal                                                                      1\n",
       "Alpha Wave Ventures II, Tiger Global Management, SoftBank Vision Fund II                           1\n",
       "TPG Growth, Caisse de Depot et Placement du Quebec                                                 1\n",
       "Paragon Partners, Aavishkaar Capital                                                               1\n",
       "Devesh Sachdev, Bhavesh Manglani                                                                   1\n",
       "Omnivore, India Quotient                                                                           1\n",
       "Lightbox, Evolvence India Fund                                                                     1\n",
       "Gunosy, Blume Ventures                                                                             1\n",
       "Aarin Capital                                                                                      1\n",
       "Starfish Growth Partners, Investpad                                                                1\n",
       "Kunal Shah, Anant Maheshwari                                                                       1\n",
       "Ankit Mehrotra, Saurabh Aggarwal                                                                   1\n",
       "Y Combinator, Goat VC, JAM Fund, Goodwater Capital                                                 1\n",
       "Somak Ghosh, M V Nair                                                                              1\n",
       "Lightspeed, Times Group, Tanglin Venture Partners                                                  1\n",
       "Bessemer Venture Partners, CDH Investments                                                         1\n",
       "Blockchain Capital, SBI Ven Capital                                                                1\n",
       "Omidyar Network, Falcon Edge Capital                                                               1\n",
       "Think Investments                                                                                  1\n",
       "LetsVenture, Ajay Garg, Tarun Sharma                                                               1\n",
       "Jitendra Gupta, Harsh Shah                                                                         1\n",
       "Bertelsmann India                                                                                  1\n",
       "Singapore Angel Network, Artha India Ventures                                                      1\n",
       "http://100x.vc/                                                                                    1\n",
       "Lightspeed, Sequioa                                                                                1\n",
       "CitiusTech                                                                                         1\n",
       "Sequoia Capital India, Rocketship.vc                                                               1\n",
       "Name: Investor, dtype: int64"
      ]
     },
<<<<<<< HEAD
     "execution_count": 171,
=======
     "execution_count": 164,
>>>>>>> 43b96b4dfa7bddb17435e2b2cac05525a713e75a
     "metadata": {},
     "output_type": "execute_result"
    }
   ],
   "source": [
    "data2021['Investor'].value_counts()"
   ]
  },
  {
   "cell_type": "markdown",
   "metadata": {},
   "source": [
    "NO anomaly spotted here, good! Let's now separate and keep first names......nooooo....wait! <br>\n",
    "\n",
    "..before that I just saw 'http://100x.vc/' and '2000000' as an investor. Let's check that out!"
   ]
  },
  {
   "cell_type": "code",
<<<<<<< HEAD
   "execution_count": 172,
=======
   "execution_count": 165,
>>>>>>> 43b96b4dfa7bddb17435e2b2cac05525a713e75a
   "metadata": {},
   "outputs": [
    {
     "data": {
      "text/html": [
       "<div>\n",
       "<style scoped>\n",
       "    .dataframe tbody tr th:only-of-type {\n",
       "        vertical-align: middle;\n",
       "    }\n",
       "\n",
       "    .dataframe tbody tr th {\n",
       "        vertical-align: top;\n",
       "    }\n",
       "\n",
       "    .dataframe thead th {\n",
       "        text-align: right;\n",
       "    }\n",
       "</style>\n",
       "<table border=\"1\" class=\"dataframe\">\n",
       "  <thead>\n",
       "    <tr style=\"text-align: right;\">\n",
       "      <th></th>\n",
       "      <th>Company_Brand</th>\n",
       "      <th>Founded</th>\n",
       "      <th>HeadQuarter</th>\n",
       "      <th>Sector</th>\n",
       "      <th>What_it_does</th>\n",
       "      <th>Founders</th>\n",
       "      <th>Investor</th>\n",
       "      <th>Amount</th>\n",
       "      <th>Stage</th>\n",
       "      <th>Year Funded</th>\n",
       "    </tr>\n",
       "  </thead>\n",
       "  <tbody>\n",
       "    <tr>\n",
       "      <th>59</th>\n",
       "      <td>Karnival</td>\n",
       "      <td>2015</td>\n",
       "      <td>Bangalore</td>\n",
       "      <td>SaaS startup</td>\n",
       "      <td>A SAAS platform for retailers and brands to cr...</td>\n",
       "      <td>Neeraj Tyagi</td>\n",
       "      <td>http://100x.vc/</td>\n",
       "      <td>2500000.0</td>\n",
       "      <td>Series B</td>\n",
       "      <td>2020</td>\n",
       "    </tr>\n",
       "    <tr>\n",
       "      <th>883</th>\n",
       "      <td>EyeMyEye</td>\n",
       "      <td>2021</td>\n",
       "      <td>Gurugram</td>\n",
       "      <td>Eyewear</td>\n",
       "      <td>Shop the latest Eyeglasses, Sunglasses, Power ...</td>\n",
       "      <td>Ganesh Iyer</td>\n",
       "      <td>2000000</td>\n",
       "      <td>2000000.0</td>\n",
       "      <td>Pre-series</td>\n",
       "      <td>2020</td>\n",
       "    </tr>\n",
       "  </tbody>\n",
       "</table>\n",
       "</div>"
      ],
      "text/plain": [
       "    Company_Brand  Founded HeadQuarter        Sector  \\\n",
       "59       Karnival     2015   Bangalore  SaaS startup   \n",
       "883      EyeMyEye     2021    Gurugram       Eyewear   \n",
       "\n",
       "                                          What_it_does      Founders  \\\n",
       "59   A SAAS platform for retailers and brands to cr...  Neeraj Tyagi   \n",
       "883  Shop the latest Eyeglasses, Sunglasses, Power ...   Ganesh Iyer   \n",
       "\n",
       "            Investor    Amount       Stage  Year Funded  \n",
       "59   http://100x.vc/ 2500000.0    Series B         2020  \n",
       "883          2000000 2000000.0  Pre-series         2020  "
      ]
     },
<<<<<<< HEAD
     "execution_count": 172,
=======
     "execution_count": 165,
>>>>>>> 43b96b4dfa7bddb17435e2b2cac05525a713e75a
     "metadata": {},
     "output_type": "execute_result"
    }
   ],
   "source": [
    "# Get the row/rows that have 'http://100x.vc/' as investor\n",
    "\n",
    "data2021[(data2021['Investor'] == 'http://100x.vc/')|(data2021['Investor'] == '2000000')]"
   ]
  },
  {
   "cell_type": "markdown",
   "metadata": {},
   "source": [
    "Alright, let's dig deeper by clicking the link.......Ohh, I got it! The Investor is a company named '100x.vc' <br>\n",
    "\n",
    "Making the change........"
   ]
  },
  {
   "cell_type": "code",
<<<<<<< HEAD
   "execution_count": 173,
=======
   "execution_count": 166,
>>>>>>> 43b96b4dfa7bddb17435e2b2cac05525a713e75a
   "metadata": {},
   "outputs": [],
   "source": [
    "# Slice that value and asign '100x.vc'\n",
    "\n",
    "data2021.at[59, 'Investor'] = '100x.vc'\n",
    "data2021.at[877, 'Investor'] = 'LetsVenture'"
   ]
  },
  {
   "cell_type": "code",
<<<<<<< HEAD
   "execution_count": 174,
=======
   "execution_count": 168,
>>>>>>> 43b96b4dfa7bddb17435e2b2cac05525a713e75a
   "metadata": {},
   "outputs": [
    {
     "data": {
      "text/html": [
       "<div>\n",
       "<style scoped>\n",
       "    .dataframe tbody tr th:only-of-type {\n",
       "        vertical-align: middle;\n",
       "    }\n",
       "\n",
       "    .dataframe tbody tr th {\n",
       "        vertical-align: top;\n",
       "    }\n",
       "\n",
       "    .dataframe thead th {\n",
       "        text-align: right;\n",
       "    }\n",
       "</style>\n",
       "<table border=\"1\" class=\"dataframe\">\n",
       "  <thead>\n",
       "    <tr style=\"text-align: right;\">\n",
       "      <th></th>\n",
       "      <th>Company_Brand</th>\n",
       "      <th>Founded</th>\n",
       "      <th>HeadQuarter</th>\n",
       "      <th>Sector</th>\n",
       "      <th>What_it_does</th>\n",
       "      <th>Founders</th>\n",
       "      <th>Investor</th>\n",
       "      <th>Amount</th>\n",
       "      <th>Stage</th>\n",
       "      <th>Year Funded</th>\n",
       "    </tr>\n",
       "  </thead>\n",
       "  <tbody>\n",
       "    <tr>\n",
       "      <th>59</th>\n",
       "      <td>Karnival</td>\n",
       "      <td>2015</td>\n",
       "      <td>Bangalore</td>\n",
       "      <td>SaaS startup</td>\n",
       "      <td>A SAAS platform for retailers and brands to cr...</td>\n",
       "      <td>Neeraj Tyagi</td>\n",
       "      <td>100x.vc</td>\n",
       "      <td>2500000.0</td>\n",
       "      <td>Series B</td>\n",
       "      <td>2020</td>\n",
       "    </tr>\n",
       "    <tr>\n",
       "      <th>877</th>\n",
       "      <td>Vayana Network</td>\n",
       "      <td>2017</td>\n",
       "      <td>Pune</td>\n",
       "      <td>Financial Services</td>\n",
       "      <td>Vayana Network is an electronic network that c...</td>\n",
       "      <td>Ramaswamy Iyer</td>\n",
       "      <td>LetsVenture</td>\n",
       "      <td>30000000.0</td>\n",
       "      <td>Series C</td>\n",
       "      <td>2020</td>\n",
       "    </tr>\n",
       "    <tr>\n",
       "      <th>947</th>\n",
       "      <td>Trica</td>\n",
       "      <td>2021</td>\n",
       "      <td>Mumbai</td>\n",
       "      <td>Equity Management</td>\n",
       "      <td>Powering private markets - A technology platfo...</td>\n",
       "      <td>Nimesh Kampani</td>\n",
       "      <td>LetsVenture</td>\n",
       "      <td>3000000.0</td>\n",
       "      <td>Series B</td>\n",
       "      <td>2020</td>\n",
       "    </tr>\n",
       "  </tbody>\n",
       "</table>\n",
       "</div>"
      ],
      "text/plain": [
       "      Company_Brand  Founded HeadQuarter              Sector  \\\n",
       "59         Karnival     2015   Bangalore        SaaS startup   \n",
       "877  Vayana Network     2017        Pune  Financial Services   \n",
       "947           Trica     2021      Mumbai   Equity Management   \n",
       "\n",
       "                                          What_it_does        Founders  \\\n",
       "59   A SAAS platform for retailers and brands to cr...    Neeraj Tyagi   \n",
       "877  Vayana Network is an electronic network that c...  Ramaswamy Iyer   \n",
       "947  Powering private markets - A technology platfo...  Nimesh Kampani   \n",
       "\n",
       "        Investor     Amount     Stage  Year Funded  \n",
       "59       100x.vc  2500000.0  Series B         2020  \n",
       "877  LetsVenture 30000000.0  Series C         2020  \n",
       "947  LetsVenture  3000000.0  Series B         2020  "
      ]
     },
<<<<<<< HEAD
     "execution_count": 174,
=======
     "execution_count": 168,
>>>>>>> 43b96b4dfa7bddb17435e2b2cac05525a713e75a
     "metadata": {},
     "output_type": "execute_result"
    }
   ],
   "source": [
    "# Checking..........\n",
    "data2021[(data2021['Investor'] == '100x.vc')|(data2021['Investor'] == 'LetsVenture')]"
   ]
  },
  {
   "cell_type": "markdown",
   "metadata": {},
   "source": [
    "Good! What next?............ Let's now clean by retaining only the first"
   ]
  },
  {
   "cell_type": "code",
<<<<<<< HEAD
   "execution_count": 175,
=======
   "execution_count": 169,
>>>>>>> 43b96b4dfa7bddb17435e2b2cac05525a713e75a
   "metadata": {},
   "outputs": [],
   "source": [
    "# Splitting the names separated by ',' and keeping the first\n",
    "\n",
    "data2021[\"Investor\"] = data2021[\"Investor\"].map(lambda x: str(x).split(',')[0])\n"
   ]
  },
  {
   "cell_type": "code",
<<<<<<< HEAD
   "execution_count": 176,
=======
   "execution_count": 170,
>>>>>>> 43b96b4dfa7bddb17435e2b2cac05525a713e75a
   "metadata": {},
   "outputs": [
    {
     "data": {
      "text/plain": [
       "None                                             61\n",
       "Inflection Point Ventures                        28\n",
       "Venture Catalysts                                23\n",
       "Tiger Global                                     19\n",
       "Titan Capital                                    16\n",
       "Y Combinator                                     14\n",
       "Sequoia Capital India                            13\n",
       "9Unicorns                                        12\n",
       "Matrix Partners India                             9\n",
       "Chiratae Ventures                                 9\n",
       "Elevation Capital                                 9\n",
       "We Founder Circle                                 8\n",
       "Better Capital                                    8\n",
       "Sixth Sense Ventures                              8\n",
       "Kunal Shah                                        7\n",
       "InnoVen Capital                                   7\n",
       "JITO Angel Network                                7\n",
       "Accel                                             7\n",
       "Kalaari Capital                                   7\n",
       "Mumbai Angels Network                             7\n",
       "Anicut Angel Fund                                 7\n",
       "Sequoia Capital                                   6\n",
       "Blume Ventures                                    6\n",
       "LetsVenture                                       6\n",
       "Unicorn India Ventures                            6\n",
       "Alteria Capital                                   6\n",
       "Accel Partners                                    6\n",
       "CDC Group                                         6\n",
       "Sequoia’s Surge                                   6\n",
       "Indian Angel Network                              5\n",
       "IAN                                               5\n",
       "ah! Ventures                                      5\n",
       "Stellaris Venture Partners                        5\n",
       "BEENEXT                                           5\n",
       "Mumbai Angels                                     4\n",
       "IvyCap Ventures                                   4\n",
       "Info Edge Ventures                                4\n",
       "IIFL AMC                                          4\n",
       "Tribe Capital                                     4\n",
       "Venture Highway                                   4\n",
       "SucSEED Indovation Fund                           4\n",
       "Blue Ashva Capital                                4\n",
       "Omidyar Network India                             4\n",
       "Jungle Ventures                                   4\n",
       "Westbridge Capital                                4\n",
       "DST Global                                        4\n",
       "3one4 Capital                                     4\n",
       "Angel investors                                   3\n",
       "Vy Capital                                        3\n",
       "Falcon Edge                                       3\n",
       "BlackSoil                                         3\n",
       "Vijay Shekhar Sharma                              3\n",
       "Saama Capital                                     3\n",
       "Skycatcher                                        3\n",
       "Unknown                                           3\n",
       "Valar Ventures                                    3\n",
       "Nexus Venture Partners                            3\n",
       "Speciale Invest                                   3\n",
       "Alpha Wave Incubation                             3\n",
       "NB Ventures                                       3\n",
       "WestBridge Capital                                3\n",
       "Tiger Global Management                           3\n",
       "Lightrock India                                   3\n",
       "Jitendra Gupta                                    3\n",
       "Aroa Ventures                                     3\n",
       "Global Founders Capital                           3\n",
       "Anthill Ventures                                  3\n",
       "Elevar Equity                                     3\n",
       "CIIE.CO                                           3\n",
       "Khosla Ventures                                   3\n",
       "Endiya Partners                                   3\n",
       "Binny Bansal                                      3\n",
       "9Unicorns Accelerator Fund                        3\n",
       "Omidyar Network                                   3\n",
       "Bessemer Venture Partners                         3\n",
       "Gokul Rajaram                                     3\n",
       "Klub                                              3\n",
       "Unitus Ventures                                   3\n",
       "A91 Partners                                      3\n",
       "Omnivore                                          3\n",
       "Northern Arc                                      3\n",
       "Axilor                                            3\n",
       "IAN Fund                                          3\n",
       "WaterBridge Ventures                              3\n",
       "Temasek                                           3\n",
       "India Accelerator                                 3\n",
       "Fidelity                                          3\n",
       "Antler India                                      3\n",
       "Krafton                                           2\n",
       "Hindustan Media Venture                           2\n",
       "Siana Capital                                     2\n",
       "Amplo                                             2\n",
       "GetVantage                                        2\n",
       "Wurk                                              2\n",
       "Addition                                          2\n",
       "Alkeon Capital                                    2\n",
       "W Health Ventures                                 2\n",
       "Tomorrow Capital                                  2\n",
       "Spring Marketing Capital                          2\n",
       "Punit Balan                                       2\n",
       "IIFL                                              2\n",
       "pi Ventures                                       2\n",
       "EXPERT DOJO                                       2\n",
       "Eaglewings Ventures                               2\n",
       "Celesta Capital                                   2\n",
       "MassMutual Ventures                               2\n",
       "Amazon                                            2\n",
       "DevX Venture Fund                                 2\n",
       "growX ventures                                    2\n",
       "RTP Global                                        2\n",
       "Rajasthan Venture Capital Fund                    2\n",
       "Think Investments                                 2\n",
       "Fireside Ventures                                 2\n",
       "Vertex Ventures                                   2\n",
       "Shell Foundation                                  2\n",
       "Avaana Capital                                    2\n",
       "Varun Alagh                                       2\n",
       "Inflexor Ventures                                 2\n",
       "LC Nueva AIF                                      2\n",
       "SOSV                                              2\n",
       "Lightspeed                                        2\n",
       "Steadview Capital                                 2\n",
       "Pegasus Tech Ventures                             2\n",
       "Balaji Srinivasan                                 2\n",
       "IIFL Wealth                                       2\n",
       "Info Edge                                         2\n",
       "Rebright Partners                                 2\n",
       "Paragon Partners                                  2\n",
       "SoftBank Vision Fund 2                            2\n",
       "Premji Invest                                     2\n",
       "Aavishkaar Capital                                2\n",
       "Marquee investors                                 2\n",
       "Equanimity Ventures                               2\n",
       "Lead Angels                                       2\n",
       "Bharat Inclusion                                  2\n",
       "Shaival Desai                                     2\n",
       "Sequoia                                           2\n",
       "Capt. Anand Aryamane                              2\n",
       "Enzia Ventures                                    2\n",
       "Dinesh Godara                                     2\n",
       "Ananta Capital                                    2\n",
       "U.S. International Development Finance Corp       2\n",
       "Nabventures                                       2\n",
       "TradeCred                                         2\n",
       "Yuj Ventures                                      2\n",
       "Navneet Education                                 2\n",
       "Faering Capital                                   2\n",
       "Alfa Ventures                                     2\n",
       "Eight Roads Ventures                              2\n",
       "Beyond Next Ventures                              2\n",
       "Unilazer Ventures                                 2\n",
       "General Atlantic                                  2\n",
       "Orios Venture Partners                            2\n",
       "021 Capital                                       2\n",
       "Tiga Investments                                  2\n",
       "DSG Consumer Partners                             2\n",
       "General Catalyst                                  2\n",
       "Velocity                                          2\n",
       "FMC                                               2\n",
       "Y-Combinator                                      2\n",
       "Auxano                                            2\n",
       "YCombinator                                       2\n",
       "Asian Development Bank                            2\n",
       "Arena Holdings                                    1\n",
       "Sofina Ventures SA                                1\n",
       "Tiger Global’s Scott Schleifer                    1\n",
       "Amit Lakhotia                                     1\n",
       "Aditya Singhal                                    1\n",
       "InCred Financial Services                         1\n",
       "Roha Investment Managers                          1\n",
       "Amara Raja Batteries                              1\n",
       "100X.VC﻿                                          1\n",
       "UC Inclusive Credit                               1\n",
       "Jinisha Sharma                                    1\n",
       "Bertelsmann India                                 1\n",
       "Raghav Kapur                                      1\n",
       "Entrepreneur First (EF)                           1\n",
       "MTG Ventures                                      1\n",
       "Capital India                                     1\n",
       "Pavestone Ventures                                1\n",
       "FirstCry                                          1\n",
       "Parthiv Group                                     1\n",
       "Ajat Hukkoo                                       1\n",
       "Invesco Developing Markets Fund                   1\n",
       "Sauce.vc                                          1\n",
       "Ecom Express                                      1\n",
       "CitiusTech                                        1\n",
       "InvestCorp                                        1\n",
       "Marquee fintech founders                          1\n",
       "Disrupt ADQ                                       1\n",
       "Angelist India                                    1\n",
       "TPG Capital Asia                                  1\n",
       "OAKS Asset Management                             1\n",
       "Alpha Wave Ventures II                            1\n",
       "Elevation                                         1\n",
       "GIC                                               1\n",
       "Saama                                             1\n",
       "JAFCO Asia                                        1\n",
       "NewQuest Capital Partners                         1\n",
       "Base 10 Partners                                  1\n",
       "Mark Cuban                                        1\n",
       "BAce Capital                                      1\n",
       "Lumikai                                           1\n",
       "TATA Cleantech Capital                            1\n",
       "Investcorp                                        1\n",
       "Nubank                                            1\n",
       "Coinbase Ventures                                 1\n",
       "Ajith Daneil                                      1\n",
       "InfoEdge                                          1\n",
       "Cygnus Medicare Group                             1\n",
       "SARA ELGI                                         1\n",
       "Founders Room Capital                             1\n",
       "The Chatterjee Group                              1\n",
       "Manish Subramaniam                                1\n",
       "Old Fashion Research                              1\n",
       "TPG Growth                                        1\n",
       "Nitish Mittersain                                 1\n",
       "WestCap Group                                     1\n",
       "Warburg Pincus﻿                                   1\n",
       "Netcore Cloud                                     1\n",
       "Aarin Capital                                     1\n",
       "Manish Choksi                                     1\n",
       "Arcilla                                           1\n",
       "Winter Capital                                    1\n",
       "BanyanTree Finance Pvt. Ltd.                      1\n",
       "Abu Dhabi Growth Fund                             1\n",
       "Northern Arc Capital                              1\n",
       "Justin Mateen                                     1\n",
       "James Milner                                      1\n",
       "LeapFrog                                          1\n",
       "Pravesh Mehta                                     1\n",
       "Evolvence Capital                                 1\n",
       "Z3Partners                                        1\n",
       "Lightspeed India Partners                         1\n",
       "PointOne Capital                                  1\n",
       "Research Innovation Incubation Design Labs        1\n",
       "FJ Labs                                           1\n",
       "Alpha Wave Ventures                               1\n",
       "Plutus Wealth                                     1\n",
       "Evolvence                                         1\n",
       "Rohit Goutamchand                                 1\n",
       "IDFC Private Equity                               1\n",
       "Bon Angels Venture Partners                       1\n",
       "Sabre Partners                                    1\n",
       "GAWA Capital                                      1\n",
       "Gaurav Munjal                                     1\n",
       "Darq Capital                                      1\n",
       "Kae Capital                                       1\n",
       "Dinesh Agarwal                                    1\n",
       "Ambiga Subramanian                                1\n",
       "SucSEED Indovation                                1\n",
       "Quadria Capital                                   1\n",
       "Raj Nair                                          1\n",
       "Rachit Poddar                                     1\n",
       "BlueOrchard Impact Investment Managers            1\n",
       "N+1 Capital                                       1\n",
       "Blacksoil                                         1\n",
       "Goat Capital                                      1\n",
       "Sequoia Capital                                   1\n",
       "Sojitz Corporation                                1\n",
       "Prashasta Seth                                    1\n",
       "SAIF Partners                                     1\n",
       "Tanglin Ventures                                  1\n",
       "Shrishti Sahu                                     1\n",
       "GSF                                               1\n",
       "Sequoia Surge                                     1\n",
       "Jupiter                                           1\n",
       "Aryaman Vir                                       1\n",
       "Ronnie Screwvala                                  1\n",
       "GSV Ventures                                      1\n",
       "Covalent                                          1\n",
       "Ten Innovate                                      1\n",
       "Responsibility                                    1\n",
       "Techstars                                         1\n",
       "Ramakant Sharma                                   1\n",
       "Arvind Venugopal Nair                             1\n",
       "Iron Pillar                                       1\n",
       "WEH Ventures                                      1\n",
       "Supriya Kumari                                    1\n",
       "ITI Growth Opportunities                          1\n",
       "Eclear Leasing                                    1\n",
       "enture Catalyst                                   1\n",
       "Gojo & Company                                    1\n",
       "Yatra Angel Network                               1\n",
       "Zoho                                              1\n",
       "SternAegis Ventures                               1\n",
       "Verlinvest                                        1\n",
       "Season Two Ventures                               1\n",
       "Singapore Angel Network                           1\n",
       "Smallcase                                         1\n",
       "Manuvel Malabar Jewellers                         1\n",
       "Incofin’s India Progress Fund                     1\n",
       "Shireen Rangaswamy                                1\n",
       "AdvantEdge Founders                               1\n",
       "GUSEC Seed Fund                                   1\n",
       "Qualcomm Ventures                                 1\n",
       "View Trade Holding Corp                           1\n",
       "Capital One                                       1\n",
       "Vivek Vaidya                                      1\n",
       "Harsh Jain                                        1\n",
       "Rajesh Rajendran                                  1\n",
       "Lightspeed Venture Partners                       1\n",
       "BASF Venture Capital GmbH                         1\n",
       "Dia Mirza                                         1\n",
       "Pritt Investment Partners                         1\n",
       "Vaibhav Domkundwar                                1\n",
       "India Accelerator’s Angel Investor Network        1\n",
       "Bain Capital                                      1\n",
       "BLinC Invest                                      1\n",
       "Octahedron Capital                                1\n",
       "Trifecta Capital                                  1\n",
       "Kieretsu Forum                                    1\n",
       "Pi Ventures LLP                                   1\n",
       "Dream Capital                                     1\n",
       "Ocean View Investment                             1\n",
       "Lightbox                                          1\n",
       "S Chand                                           1\n",
       "Hitesh Oberoi                                     1\n",
       "TVS Motor                                         1\n",
       "Jani Ventures INC                                 1\n",
       "Mike Novogratz                                    1\n",
       "Hardcastle Petrofer                               1\n",
       "ADM Capital                                       1\n",
       "Hindustan Media Ventures                          1\n",
       "Rajesh Agarwal                                    1\n",
       "Sanchit Agarwal                                   1\n",
       "MaGEHold Pte. Ltd.                                1\n",
       "GVFL                                              1\n",
       "Ashok Goyal                                       1\n",
       "Nvidia Inception                                  1\n",
       "YES Bank                                          1\n",
       "Kedaara                                           1\n",
       "WorldBusiness Capital                             1\n",
       "Qualgro                                           1\n",
       "Paradigm Shift Capital                            1\n",
       "Nitin Passi                                       1\n",
       "Vitol                                             1\n",
       "International Finance Corporation                 1\n",
       "The Treasury                                      1\n",
       "Potencia Ventures                                 1\n",
       "Anas Rahman Junaid                                1\n",
       "India Angel Network                               1\n",
       "Kotak Mahindra Bank                               1\n",
       "Ecosystem Ventures                                1\n",
       "Novo Tellus Capital                               1\n",
       "Zerodha's Rainmatter Capital                      1\n",
       "Triodos Investment Management                     1\n",
       "TCN International Commerce                        1\n",
       "Lok Capital                                       1\n",
       "Callapina Capital                                 1\n",
       "Sistema Asia Capital                              1\n",
       "Habitat for Humanity International                1\n",
       "Tree Line Investment Management                   1\n",
       "2000000                                           1\n",
       "Pearl Investment LLC                              1\n",
       "Alpine Capital                                    1\n",
       "Aurum Proptech                                    1\n",
       "GSF Accelerator                                   1\n",
       "Trifecta Capital Advisors                         1\n",
       "Pradeep K Jaisingh                                1\n",
       "Paytm                                             1\n",
       "Wipro venture capital arm                         1\n",
       "RouteOne                                          1\n",
       "Guild Capital                                     1\n",
       "Ritu Marya Family Office.                         1\n",
       "State Bank of India                               1\n",
       "Riteesh Mohan Bakshi                              1\n",
       "Jetty Ventures                                    1\n",
       "Healthcare veterans                               1\n",
       "India Infoline Finance                            1\n",
       "responsAbility Investments                        1\n",
       "GSV                                               1\n",
       "Quess Corp India                                  1\n",
       "Micelio Fund                                      1\n",
       "Bhavin Turakhia                                   1\n",
       "Infoedge ventures                                 1\n",
       "Glade Brook Capital                               1\n",
       "$Undisclosed                                      1\n",
       "SoftBank Vision Fund                              1\n",
       "StartupXseed Ventures                             1\n",
       "Pankaj Chaddah                                    1\n",
       "Blackstone Group                                  1\n",
       "Griffin Gaming Partners                           1\n",
       "HOF Capital                                       1\n",
       "Recur Club                                        1\n",
       "Transworld Group                                  1\n",
       "Astra Ventures                                    1\n",
       "Michael & Susan Dell Foundation                   1\n",
       "HNIs                                              1\n",
       "Canbank Venture Capital Fund                      1\n",
       "Avon Cycles                                       1\n",
       "BlackSoil Capital                                 1\n",
       "MaGEHold                                          1\n",
       "Stanford Angels and Entrepreneurs India           1\n",
       "Morgan Stanley                                    1\n",
       "Zephyr Peacock                                    1\n",
       "Hornbill Capital Advisers                         1\n",
       "Lee Fixel’s venture capital firm                  1\n",
       "Paradigm                                          1\n",
       "Dragoneer Investment Group                        1\n",
       "SIG                                               1\n",
       "SucSEED  Indovation Fund                          1\n",
       "ACPI Investments                                  1\n",
       "Agility Venture Partners                          1\n",
       "Raintree Family Office                            1\n",
       "100x.vc                                           1\n",
       "Binance Labs                                      1\n",
       "Apis Insurtech Fund I                             1\n",
       "Jyoti Bansal                                      1\n",
       "First Cheque                                      1\n",
       "Liberatha Kallat                                  1\n",
       "Anup Kumar Yama                                   1\n",
       "Ashish Hemrajani                                  1\n",
       "Accel India                                       1\n",
       "March Capital                                     1\n",
       "Point One Capital                                 1\n",
       "Infosys                                           1\n",
       "TNF Ventures                                      1\n",
       "Legatum Capital                                   1\n",
       "IIFL Asset Management                             1\n",
       "Kohlberg Kravis Roberts                           1\n",
       "Amit Singhal                                      1\n",
       "Docprime Technologies                             1\n",
       "India Quotient                                    1\n",
       "Real Estate Accelerator Program (REAP)            1\n",
       "velocity.in                                       1\n",
       "C4D Partners                                      1\n",
       "Fluid Ventures                                    1\n",
       "Rishi Kumar Bagla                                 1\n",
       "Avataar Venture Partners                          1\n",
       "Aavishkaar Venture Capital                        1\n",
       "Tuscan Ventures                                   1\n",
       "Bank of Baroda                                    1\n",
       "Jimmy Singh                                       1\n",
       "Amrac Investment Trust                            1\n",
       "Prime VP                                          1\n",
       "100x Entrepreneurs                                1\n",
       "Sofina                                            1\n",
       "Awign Enterprises                                 1\n",
       "Shark Tank India                                  1\n",
       "ITI Growth Opportunities Fund                     1\n",
       "YourNest Venture Capital                          1\n",
       "Shuru Up                                          1\n",
       "ADB Ventures                                      1\n",
       "Gunosy                                            1\n",
       "Sujeet Kumar                                      1\n",
       "Ashwini Kakkar. 9Unicorns                         1\n",
       "Morgan Stanley Private Equity Asia                1\n",
       "Norwest Venture Partners                          1\n",
       "Petronas Ventures                                 1\n",
       "Angelbay Holdings                                 1\n",
       "Alia Bhatt                                        1\n",
       "Twitter Ventures                                  1\n",
       "ScoopWhoop                                        1\n",
       "Centrum Financial Services                        1\n",
       "SRI Capital                                       1\n",
       "Mount Judi India Growth Fund                      1\n",
       "MAS Financial Services                            1\n",
       "Aqua-Spark                                        1\n",
       "SucSEED Venture Partners                          1\n",
       "TransUnion                                        1\n",
       "Starfish Growth Partners                          1\n",
       "Canaan Valley Capital                             1\n",
       "Cholamandalam                                     1\n",
       "Siddharth Bhaskar Shah                            1\n",
       "Baring Private Equity Partners India              1\n",
       "InfoEdge Ventures                                 1\n",
       "Aditya Duggar                                     1\n",
       "Induslaw                                          1\n",
       "Learn Capital                                     1\n",
       "Auxano Capital                                    1\n",
       "Iconiq Growth                                     1\n",
       "Trishneet Arora                                   1\n",
       "Jayanti Kanani                                    1\n",
       "Brex                                              1\n",
       "Norfund                                           1\n",
       "NEVF                                              1\n",
       "Incubate Fund India                               1\n",
       "ContCentric                                       1\n",
       "Marquee international institutional investors     1\n",
       "Impact Partners                                   1\n",
       "Saama Capital﻿                                    1\n",
       "Mechanism Capital                                 1\n",
       "Axilor Ventures                                   1\n",
       "Kvanto Payment Services                           1\n",
       "Yamaha Motors                                     1\n",
       "Harsha Bhogle                                     1\n",
       "Nadir B Godrej                                    1\n",
       "Pritesh Kumar                                     1\n",
       "Xponentia Capital Partners                        1\n",
       "Appit Simple Infotek                              1\n",
       "Akash Prakash                                     1\n",
       "Chaitanya Kalipatnapu                             1\n",
       "Amit Singal                                       1\n",
       "Sonu Nigam                                        1\n",
       "Artha India Ventures                              1\n",
       "Roshan Abbas                                      1\n",
       "Campus Fund                                       1\n",
       "Sachin Tendulkar                                  1\n",
       "Radiant Life Care Private Ltd                     1\n",
       "CreedCap Asia Advisors                            1\n",
       "Siti Cable                                        1\n",
       "PayU                                              1\n",
       "Jaipuria Family Office                            1\n",
       "Keiretsu Forum                                    1\n",
       "Stride Ventures                                   1\n",
       "1Crowd                                            1\n",
       "Artha Venture Fund                                1\n",
       "Ashish Shah                                       1\n",
       "M2P Fintech                                       1\n",
       "The Good Glamm Group                              1\n",
       "Baring PE India                                   1\n",
       "RP-Sanjiv Goenka Group                            1\n",
       "Prashant Pansare                                  1\n",
       "Y Combinator﻿                                     1\n",
       "GEF Capital’s South Asia Fund                     1\n",
       "Krafton Inc                                       1\n",
       "Vineet Singh                                      1\n",
       "Moore Strategic Ventures                          1\n",
       "Mirae Asset                                       1\n",
       "IIFL﻿                                             1\n",
       "Ka Enterprises                                    1\n",
       "The Xander Group                                  1\n",
       "Dream Sports                                      1\n",
       "Gurj Aujla                                        1\n",
       "BlackRock                                         1\n",
       "STRIVE VC                                         1\n",
       "Hyperplane Venture Capital                        1\n",
       "Sweta Rau                                         1\n",
       "Vulcan Capital                                    1\n",
       "Curesense Therapeutics                            1\n",
       "Zone Startups In                                  1\n",
       "Siguler Guff                                      1\n",
       "Gaurav Gupta                                      1\n",
       "Pentathlon Ventures                               1\n",
       "Rajan Anadan                                      1\n",
       "Dhianu Das                                        1\n",
       "Susquehanna International Group                   1\n",
       "Satish Grampurohit                                1\n",
       "Kogta Financial India Limited                     1\n",
       "Avendus                                           1\n",
       "Indovation Fund                                   1\n",
       "Prime Securities Limited                          1\n",
       "Rocketship.vc                                     1\n",
       "Kotak Investment Advisors Limited                 1\n",
       "SK Tripathi                                       1\n",
       "Shell Ventures                                    1\n",
       "Nueva                                             1\n",
       "Fresco Capital                                    1\n",
       "Ramp                                              1\n",
       "Spanache                                          1\n",
       "Kunal Sarkar                                      1\n",
       "Kora Capital                                      1\n",
       "Uday Sodhi                                        1\n",
       "Dallas Venture Capital                            1\n",
       "Pravega Ventures                                  1\n",
       "Alok Kohli                                        1\n",
       "Carmignac                                         1\n",
       "Invus                                             1\n",
       "Owl Ventures                                      1\n",
       "Roots Ventures                                    1\n",
       "JSW Ventures                                      1\n",
       "Edge Ventures                                     1\n",
       "YourNest VC                                       1\n",
       "The Chennai Angels                                1\n",
       "Riso Capital                                      1\n",
       "Mount Judi Ventures                               1\n",
       "YourNest                                          1\n",
       "Rukam Capital                                     1\n",
       "Quona Capital                                     1\n",
       "Alphabit Fund                                     1\n",
       "Zip Co                                            1\n",
       "Kotak Securities                                  1\n",
       "Ashv Finance                                      1\n",
       "ABC World Asia                                    1\n",
       "Somak Ghosh                                       1\n",
       "Xentel Investments                                1\n",
       "Sunil Kumar Singhvi                               1\n",
       "Family Office of Kantamaneni                      1\n",
       "MyAsia VC                                         1\n",
       "Greenoaks Capital                                 1\n",
       "Oasis Capital                                     1\n",
       "Capital A                                         1\n",
       "Republic Crypto                                   1\n",
       "Stakeboat Capital                                 1\n",
       "Jesse Lucas                                       1\n",
       "Crossbeam Venture Partners                        1\n",
       "Acko Technology                                   1\n",
       "Joseph Joy                                        1\n",
       "Safe Planet Medicare                              1\n",
       "Let’s Venture                                     1\n",
       "Ashish Jain                                       1\n",
       "Deep Kalra                                        1\n",
       "Invested Development                              1\n",
       "The StarupLab                                     1\n",
       "Prosus Ventures                                   1\n",
       "Cure.fit                                          1\n",
       "Falcon Edge India                                 1\n",
       "Oikocredit                                        1\n",
       "Sanjay Baldwa                                     1\n",
       "iSeed                                             1\n",
       "CRV                                               1\n",
       "Zomato                                            1\n",
       "Ruchirans Jaipuria                                1\n",
       "T Choithrams BVI                                  1\n",
       "Plutus Wealth Management                          1\n",
       "Eight Roads Ventures India                        1\n",
       "Devesh Sachdev                                    1\n",
       "Elevation Partners                                1\n",
       "BlueOrchard Finance S A                           1\n",
       "Falcon Edge Capital                               1\n",
       "Data Point Capital                                1\n",
       "Ribbit Capital                                    1\n",
       "Arali Ventures                                    1\n",
       "TCV                                               1\n",
       "Sundi Natarajan                                   1\n",
       "Oxshott Capital Partners                          1\n",
       "Virenxia Group                                    1\n",
       "JAM                                               1\n",
       "Climate Angels Fund                               1\n",
       "EKKI                                              1\n",
       "Incofin                                           1\n",
       "Qatar Investment Authority                        1\n",
       "Momentum 6                                        1\n",
       "Kumar Aakash                                      1\n",
       "IIFL India Private Equity Fund                    1\n",
       "Anand Prakash Sharma                              1\n",
       "Apoorva Sharma                                    1\n",
       "KRAFTON                                           1\n",
       "Reliance Digital Health                           1\n",
       "Akya Ventures                                     1\n",
       "Hashed                                            1\n",
       "Geekster                                          1\n",
       "F-Prime Capital                                   1\n",
       "Faad Network                                      1\n",
       "Zinnia Global                                     1\n",
       "Lasons India                                      1\n",
       "Accor                                             1\n",
       "Leo Capital                                       1\n",
       "GoAhead Ventures                                  1\n",
       "InCorp India                                      1\n",
       "Blockchain Capital                                1\n",
       "SUNiCON Ventures                                  1\n",
       "VANS Group                                        1\n",
       "Signal Peak Ventures                              1\n",
       "National Skill Development Corporation            1\n",
       "Microsoft                                         1\n",
       "Waterbridge                                       1\n",
       "Ascent Capital                                    1\n",
       "Anil Thadani                                      1\n",
       "Goldman Sachs                                     1\n",
       "Sunil Sethia                                      1\n",
       "Bertelsmann India Investments                     1\n",
       "Salesforce Ventures                               1\n",
       "Rajesh Sud                                        1\n",
       "Kallol Banerjee                                   1\n",
       "Kayenne Ventures                                  1\n",
       "Blume                                             1\n",
       "Capital Group                                     1\n",
       "Solana                                            1\n",
       "Richard Rekhy                                     1\n",
       "Ankit Mehrotra                                    1\n",
       "Mapmyindia                                        1\n",
       "Vijayan                                           1\n",
       "ah! Ventures High Tables                          1\n",
       "SAB Holdings                                      1\n",
       "TheVentures                                       1\n",
       "Orbimed Asia Partners                             1\n",
       "Hungama                                           1\n",
       "Name: Investor, dtype: int64"
      ]
     },
<<<<<<< HEAD
     "execution_count": 176,
=======
     "execution_count": 170,
>>>>>>> 43b96b4dfa7bddb17435e2b2cac05525a713e75a
     "metadata": {},
     "output_type": "execute_result"
    }
   ],
   "source": [
    "data2021['Investor'].value_counts()"
   ]
  },
  {
   "cell_type": "code",
<<<<<<< HEAD
   "execution_count": 177,
=======
   "execution_count": 171,
>>>>>>> 43b96b4dfa7bddb17435e2b2cac05525a713e75a
   "metadata": {},
   "outputs": [
    {
     "data": {
      "text/html": [
       "<div>\n",
       "<style scoped>\n",
       "    .dataframe tbody tr th:only-of-type {\n",
       "        vertical-align: middle;\n",
       "    }\n",
       "\n",
       "    .dataframe tbody tr th {\n",
       "        vertical-align: top;\n",
       "    }\n",
       "\n",
       "    .dataframe thead th {\n",
       "        text-align: right;\n",
       "    }\n",
       "</style>\n",
       "<table border=\"1\" class=\"dataframe\">\n",
       "  <thead>\n",
       "    <tr style=\"text-align: right;\">\n",
       "      <th></th>\n",
       "      <th>Company_Brand</th>\n",
       "      <th>Founded</th>\n",
       "      <th>HeadQuarter</th>\n",
       "      <th>Sector</th>\n",
       "      <th>What_it_does</th>\n",
       "      <th>Founders</th>\n",
       "      <th>Investor</th>\n",
       "      <th>Amount</th>\n",
       "      <th>Stage</th>\n",
       "      <th>Year Funded</th>\n",
       "    </tr>\n",
       "  </thead>\n",
       "  <tbody>\n",
       "    <tr>\n",
       "      <th>883</th>\n",
       "      <td>EyeMyEye</td>\n",
       "      <td>2021</td>\n",
       "      <td>Gurugram</td>\n",
       "      <td>Eyewear</td>\n",
       "      <td>Shop the latest Eyeglasses, Sunglasses, Power ...</td>\n",
       "      <td>Ganesh Iyer</td>\n",
       "      <td>2000000</td>\n",
       "      <td>2000000.0</td>\n",
       "      <td>Pre-series</td>\n",
       "      <td>2020</td>\n",
       "    </tr>\n",
       "  </tbody>\n",
       "</table>\n",
       "</div>"
      ],
      "text/plain": [
       "    Company_Brand  Founded HeadQuarter   Sector  \\\n",
       "883      EyeMyEye     2021    Gurugram  Eyewear   \n",
       "\n",
       "                                          What_it_does     Founders Investor  \\\n",
       "883  Shop the latest Eyeglasses, Sunglasses, Power ...  Ganesh Iyer  2000000   \n",
       "\n",
       "       Amount       Stage  Year Funded  \n",
       "883 2000000.0  Pre-series         2020  "
      ]
     },
<<<<<<< HEAD
     "execution_count": 177,
=======
     "execution_count": 171,
>>>>>>> 43b96b4dfa7bddb17435e2b2cac05525a713e75a
     "metadata": {},
     "output_type": "execute_result"
    }
   ],
   "source": [
    "# Get the investor named '2000000'ArithmeticError\n",
    "data2021[data2021['Investor']== '2000000']"
   ]
  },
  {
   "cell_type": "code",
<<<<<<< HEAD
   "execution_count": 178,
=======
   "execution_count": 172,
>>>>>>> 43b96b4dfa7bddb17435e2b2cac05525a713e75a
   "metadata": {},
   "outputs": [],
   "source": [
    "# Let's update the value\n",
    "\n",
    "data2021 = update_values(data2021, 883, column_values={'Investor': 'Nueva Capital'})"
   ]
  },
  {
   "cell_type": "markdown",
   "metadata": {},
   "source": [
    "Done!.............let's check further for missing values"
   ]
  },
  {
   "cell_type": "code",
<<<<<<< HEAD
   "execution_count": 179,
=======
   "execution_count": 173,
>>>>>>> 43b96b4dfa7bddb17435e2b2cac05525a713e75a
   "metadata": {},
   "outputs": [
    {
     "data": {
      "text/html": [
       "<div>\n",
       "<style scoped>\n",
       "    .dataframe tbody tr th:only-of-type {\n",
       "        vertical-align: middle;\n",
       "    }\n",
       "\n",
       "    .dataframe tbody tr th {\n",
       "        vertical-align: top;\n",
       "    }\n",
       "\n",
       "    .dataframe thead th {\n",
       "        text-align: right;\n",
       "    }\n",
       "</style>\n",
       "<table border=\"1\" class=\"dataframe\">\n",
       "  <thead>\n",
       "    <tr style=\"text-align: right;\">\n",
       "      <th></th>\n",
       "      <th>Company_Brand</th>\n",
       "      <th>Founded</th>\n",
       "      <th>HeadQuarter</th>\n",
       "      <th>Sector</th>\n",
       "      <th>What_it_does</th>\n",
       "      <th>Founders</th>\n",
       "      <th>Investor</th>\n",
       "      <th>Amount</th>\n",
       "      <th>Stage</th>\n",
       "      <th>Year Funded</th>\n",
       "    </tr>\n",
       "  </thead>\n",
       "  <tbody>\n",
       "    <tr>\n",
       "      <th>9</th>\n",
       "      <td>Taikee</td>\n",
       "      <td>2010</td>\n",
       "      <td>Mumbai</td>\n",
       "      <td>E-commerce</td>\n",
       "      <td>Taikee is the ISO-certified, B2B e-commerce pl...</td>\n",
       "      <td>Nidhi Ramachandran, Sachin Chhabra</td>\n",
       "      <td>None</td>\n",
       "      <td>1000000.0</td>\n",
       "      <td>Venture - Series Unknown</td>\n",
       "      <td>2020</td>\n",
       "    </tr>\n",
       "    <tr>\n",
       "      <th>30</th>\n",
       "      <td>Jambox Games</td>\n",
       "      <td>2021</td>\n",
       "      <td>Bangalore</td>\n",
       "      <td>Gaming</td>\n",
       "      <td>A competitive game publishing platform to help...</td>\n",
       "      <td>Ravi Vyas</td>\n",
       "      <td>None</td>\n",
       "      <td>1100000.0</td>\n",
       "      <td>Series B</td>\n",
       "      <td>2020</td>\n",
       "    </tr>\n",
       "    <tr>\n",
       "      <th>42</th>\n",
       "      <td>LearnVern</td>\n",
       "      <td>2016</td>\n",
       "      <td>Ahmadabad</td>\n",
       "      <td>EdTech</td>\n",
       "      <td>LearnVern.com is a training portal where anyon...</td>\n",
       "      <td>Niral Modi, Aditi Modi</td>\n",
       "      <td>None</td>\n",
       "      <td>1000000.0</td>\n",
       "      <td>Series B</td>\n",
       "      <td>2020</td>\n",
       "    </tr>\n",
       "    <tr>\n",
       "      <th>45</th>\n",
       "      <td>moEVing</td>\n",
       "      <td>2021</td>\n",
       "      <td>Gurugram</td>\n",
       "      <td>Logistics</td>\n",
       "      <td>Delivering clean, cost-effective and efficient...</td>\n",
       "      <td>VIKASH MISHRA</td>\n",
       "      <td>None</td>\n",
       "      <td>1000000.0</td>\n",
       "      <td>Series B</td>\n",
       "      <td>2020</td>\n",
       "    </tr>\n",
       "    <tr>\n",
       "      <th>46</th>\n",
       "      <td>WeWork India</td>\n",
       "      <td>2017</td>\n",
       "      <td>Bangalore</td>\n",
       "      <td>Hospitality</td>\n",
       "      <td>Transform buildings into beautiful, collaborat...</td>\n",
       "      <td>Karan Virwani</td>\n",
       "      <td>None</td>\n",
       "      <td>26000000.0</td>\n",
       "      <td>Series B</td>\n",
       "      <td>2020</td>\n",
       "    </tr>\n",
       "    <tr>\n",
       "      <th>73</th>\n",
       "      <td>Alteria Capital</td>\n",
       "      <td>2018</td>\n",
       "      <td>Mumbai</td>\n",
       "      <td>FinTech</td>\n",
       "      <td>Alteria Capital is a Venture debt firm .</td>\n",
       "      <td>Vinod Murali</td>\n",
       "      <td>None</td>\n",
       "      <td>150000000000.0</td>\n",
       "      <td>Debt Financing</td>\n",
       "      <td>2020</td>\n",
       "    </tr>\n",
       "    <tr>\n",
       "      <th>76</th>\n",
       "      <td>Speciale Invest</td>\n",
       "      <td>2017</td>\n",
       "      <td>Bangalore</td>\n",
       "      <td>FinTech</td>\n",
       "      <td>Speciale Invest is an early stage investor foc...</td>\n",
       "      <td>Vishesh Rajaram, Arjun Rao</td>\n",
       "      <td>None</td>\n",
       "      <td>10000000.0</td>\n",
       "      <td>Venture - Series Unknown</td>\n",
       "      <td>2020</td>\n",
       "    </tr>\n",
       "    <tr>\n",
       "      <th>97</th>\n",
       "      <td>Kirana247</td>\n",
       "      <td>2018</td>\n",
       "      <td>New Delhi</td>\n",
       "      <td>Logistics &amp; Supply Chain</td>\n",
       "      <td>An on-demand FMCG supply chain company leverag...</td>\n",
       "      <td>Tarun Jiwarajka, Pankhuri Jiwarajka</td>\n",
       "      <td>None</td>\n",
       "      <td>1000000.0</td>\n",
       "      <td>Venture - Series Unknown</td>\n",
       "      <td>2020</td>\n",
       "    </tr>\n",
       "    <tr>\n",
       "      <th>108</th>\n",
       "      <td>Kirana247</td>\n",
       "      <td>2018</td>\n",
       "      <td>New Delhi</td>\n",
       "      <td>Logistics &amp; Supply Chain</td>\n",
       "      <td>An on-demand FMCG supply chain company leverag...</td>\n",
       "      <td>Tarun Jiwarajka, Pankhuri Jiwarajka</td>\n",
       "      <td>None</td>\n",
       "      <td>1000000.0</td>\n",
       "      <td>Pre-series</td>\n",
       "      <td>2020</td>\n",
       "    </tr>\n",
       "    <tr>\n",
       "      <th>116</th>\n",
       "      <td>Zetwerk</td>\n",
       "      <td>2018</td>\n",
       "      <td>Bangalore</td>\n",
       "      <td>Mechanical &amp; Industrial Engineering</td>\n",
       "      <td>ZETWERK is a universal manufacturing network p...</td>\n",
       "      <td>Srinath Ramakkrushnan, Amrit Acharya</td>\n",
       "      <td>None</td>\n",
       "      <td>150000000.0</td>\n",
       "      <td>Series C</td>\n",
       "      <td>2020</td>\n",
       "    </tr>\n",
       "    <tr>\n",
       "      <th>129</th>\n",
       "      <td>goEgoNetwork</td>\n",
       "      <td>2019</td>\n",
       "      <td>Pune</td>\n",
       "      <td>Automotive</td>\n",
       "      <td>goEgo is a complete E Mobility charging soluti...</td>\n",
       "      <td>Dheeman Kadam, Sayantan Chakraborti</td>\n",
       "      <td>None</td>\n",
       "      <td>2000000.0</td>\n",
       "      <td>Venture - Series Unknown</td>\n",
       "      <td>2020</td>\n",
       "    </tr>\n",
       "    <tr>\n",
       "      <th>144</th>\n",
       "      <td>LoanKuber</td>\n",
       "      <td>2016</td>\n",
       "      <td>New Delhi</td>\n",
       "      <td>Digital mortgage</td>\n",
       "      <td>LoanKuber is the lowest cost lender to Yest-to...</td>\n",
       "      <td>Saurabh Nagpal</td>\n",
       "      <td>None</td>\n",
       "      <td>1200000.0</td>\n",
       "      <td>Pre-series</td>\n",
       "      <td>2020</td>\n",
       "    </tr>\n",
       "    <tr>\n",
       "      <th>150</th>\n",
       "      <td>UpScalio</td>\n",
       "      <td>2021</td>\n",
       "      <td>Gurugram</td>\n",
       "      <td>E-commerce</td>\n",
       "      <td>UpScalio is India’s next generation, data-driv...</td>\n",
       "      <td>Gautam Kshatriya</td>\n",
       "      <td>None</td>\n",
       "      <td>42000000.0</td>\n",
       "      <td>Venture - Series Unknown</td>\n",
       "      <td>2020</td>\n",
       "    </tr>\n",
       "    <tr>\n",
       "      <th>162</th>\n",
       "      <td>MetroRide</td>\n",
       "      <td>2020</td>\n",
       "      <td>Bangalore</td>\n",
       "      <td>Transportation</td>\n",
       "      <td>Urban Mobility Affordable, Punctual &amp; Sustaina...</td>\n",
       "      <td>Girish Nagpal, Kaaman Agarwal</td>\n",
       "      <td>None</td>\n",
       "      <td>3500000.0</td>\n",
       "      <td>Venture - Series Unknown</td>\n",
       "      <td>2020</td>\n",
       "    </tr>\n",
       "    <tr>\n",
       "      <th>176</th>\n",
       "      <td>Stellaris Venture Partners</td>\n",
       "      <td>2015</td>\n",
       "      <td>Bangalore</td>\n",
       "      <td>Venture Capital</td>\n",
       "      <td>Early-stage tech VC in India.</td>\n",
       "      <td>Ritesh Banglani, Alok Goyal, Rahul Chowdhri</td>\n",
       "      <td>None</td>\n",
       "      <td>225000000.0</td>\n",
       "      <td>Venture - Series Unknown</td>\n",
       "      <td>2020</td>\n",
       "    </tr>\n",
       "    <tr>\n",
       "      <th>185</th>\n",
       "      <td>Khabri</td>\n",
       "      <td>2017</td>\n",
       "      <td>Gurugram</td>\n",
       "      <td>Media</td>\n",
       "      <td>Khabri is India’s fastest growing vernacular a...</td>\n",
       "      <td>Pulkit Sharma, Aankit Roy, Sandeep Singh</td>\n",
       "      <td>None</td>\n",
       "      <td>2000000.0</td>\n",
       "      <td>Pre-series</td>\n",
       "      <td>2020</td>\n",
       "    </tr>\n",
       "    <tr>\n",
       "      <th>191</th>\n",
       "      <td>Faarms</td>\n",
       "      <td>2020</td>\n",
       "      <td>Bangalore</td>\n",
       "      <td>AgriTech</td>\n",
       "      <td>FAARMS™ is a new age digital platform which ai...</td>\n",
       "      <td>Taranbir Singh, Alok Duggal</td>\n",
       "      <td>None</td>\n",
       "      <td>2000000.0</td>\n",
       "      <td>Series B</td>\n",
       "      <td>2020</td>\n",
       "    </tr>\n",
       "    <tr>\n",
       "      <th>210</th>\n",
       "      <td>8i Ventures</td>\n",
       "      <td>2018</td>\n",
       "      <td>Mumbai</td>\n",
       "      <td>Venture Capital &amp; Private Equity</td>\n",
       "      <td>8i is a Mumbai &amp; Bangalore based early stage f...</td>\n",
       "      <td>Vikram Chachra</td>\n",
       "      <td>None</td>\n",
       "      <td>50000000.0</td>\n",
       "      <td>Venture - Series Unknown</td>\n",
       "      <td>2020</td>\n",
       "    </tr>\n",
       "    <tr>\n",
       "      <th>235</th>\n",
       "      <td>Evenflow Brands</td>\n",
       "      <td>2020</td>\n",
       "      <td>Mumbai</td>\n",
       "      <td>Consumer Goods</td>\n",
       "      <td>Identify and partner with the upcoming eCommer...</td>\n",
       "      <td>Utsav Agarwal, Pulkit Chhabra</td>\n",
       "      <td>None</td>\n",
       "      <td>500000.0</td>\n",
       "      <td>Venture - Series Unknown</td>\n",
       "      <td>2020</td>\n",
       "    </tr>\n",
       "    <tr>\n",
       "      <th>283</th>\n",
       "      <td>OWO Technologies</td>\n",
       "      <td>2020</td>\n",
       "      <td>Gurugram</td>\n",
       "      <td>Food &amp; Beverages</td>\n",
       "      <td>An ecommerce startup offering online beverages...</td>\n",
       "      <td>Ajay Changani, Hardev Sahu</td>\n",
       "      <td>None</td>\n",
       "      <td>3000000.0</td>\n",
       "      <td>Series B</td>\n",
       "      <td>2020</td>\n",
       "    </tr>\n",
       "    <tr>\n",
       "      <th>314</th>\n",
       "      <td>Avataar Ventures</td>\n",
       "      <td>2019</td>\n",
       "      <td>Bangalore</td>\n",
       "      <td>FinTech</td>\n",
       "      <td>Avataar Venture Partners is a growth Capital I...</td>\n",
       "      <td>Mohan Kumar</td>\n",
       "      <td>None</td>\n",
       "      <td>100000000.0</td>\n",
       "      <td>Venture - Series Unknown</td>\n",
       "      <td>2020</td>\n",
       "    </tr>\n",
       "    <tr>\n",
       "      <th>363</th>\n",
       "      <td>MasterMentors</td>\n",
       "      <td>2019</td>\n",
       "      <td>West Bengal</td>\n",
       "      <td>EdTech</td>\n",
       "      <td>India's first online platform for mentors enab...</td>\n",
       "      <td>Suraj Juneja, Vijay Rachh, and Aaquib Hussain</td>\n",
       "      <td>None</td>\n",
       "      <td>1500000.0</td>\n",
       "      <td>Venture - Series Unknown</td>\n",
       "      <td>2020</td>\n",
       "    </tr>\n",
       "    <tr>\n",
       "      <th>398</th>\n",
       "      <td>Nao Spirits &amp; Beverages Pvt Ltd</td>\n",
       "      <td>2016</td>\n",
       "      <td>New Delhi</td>\n",
       "      <td>Beverages</td>\n",
       "      <td>India's first Craft Gin company</td>\n",
       "      <td>Anand Virmani</td>\n",
       "      <td>None</td>\n",
       "      <td>2000000.0</td>\n",
       "      <td>Series B</td>\n",
       "      <td>2020</td>\n",
       "    </tr>\n",
       "    <tr>\n",
       "      <th>445</th>\n",
       "      <td>Fixcraft</td>\n",
       "      <td>2018</td>\n",
       "      <td>Gurugram</td>\n",
       "      <td>Automotive</td>\n",
       "      <td>India's Most Trusted Automotive Repair Brand</td>\n",
       "      <td>Vivek Sharma, Abhishek Goyal, Inderjeet Rao</td>\n",
       "      <td>None</td>\n",
       "      <td>1000000.0</td>\n",
       "      <td>Pre-series</td>\n",
       "      <td>2020</td>\n",
       "    </tr>\n",
       "    <tr>\n",
       "      <th>467</th>\n",
       "      <td>Droom</td>\n",
       "      <td>2014</td>\n",
       "      <td>Gurugram</td>\n",
       "      <td>Automobile</td>\n",
       "      <td>Droom is an AI and data science driven online ...</td>\n",
       "      <td>Sandeep Aggarwal</td>\n",
       "      <td>None</td>\n",
       "      <td>200000000.0</td>\n",
       "      <td>Venture - Series Unknown</td>\n",
       "      <td>2020</td>\n",
       "    </tr>\n",
       "    <tr>\n",
       "      <th>474</th>\n",
       "      <td>Inspacco</td>\n",
       "      <td>2019</td>\n",
       "      <td>Pune</td>\n",
       "      <td>Facilities Services</td>\n",
       "      <td>For residential commercial and industrial esta...</td>\n",
       "      <td>Sanket Nerkar, Paresh Kotkar</td>\n",
       "      <td>None</td>\n",
       "      <td>200000.0</td>\n",
       "      <td>Venture - Series Unknown</td>\n",
       "      <td>2020</td>\n",
       "    </tr>\n",
       "    <tr>\n",
       "      <th>541</th>\n",
       "      <td>ION Energy</td>\n",
       "      <td>2016</td>\n",
       "      <td>Mumbai</td>\n",
       "      <td>Automotive</td>\n",
       "      <td>Advanced Electronics &amp; Software Supplier for E...</td>\n",
       "      <td>Akhil Aryan</td>\n",
       "      <td>None</td>\n",
       "      <td>3600000.0</td>\n",
       "      <td>Pre-series</td>\n",
       "      <td>2020</td>\n",
       "    </tr>\n",
       "    <tr>\n",
       "      <th>555</th>\n",
       "      <td>Pocketly</td>\n",
       "      <td>2019</td>\n",
       "      <td>Bangalore</td>\n",
       "      <td>FinTech</td>\n",
       "      <td>Pocketly provides quick cash on hand, anytime ...</td>\n",
       "      <td>Aarav Bhatia, Navdeesh Ahuja</td>\n",
       "      <td>None</td>\n",
       "      <td>3500000.0</td>\n",
       "      <td>Venture - Series Unknown</td>\n",
       "      <td>2020</td>\n",
       "    </tr>\n",
       "    <tr>\n",
       "      <th>562</th>\n",
       "      <td>SpEd@home</td>\n",
       "      <td>2020</td>\n",
       "      <td>Mumbai</td>\n",
       "      <td>EdTech</td>\n",
       "      <td>Provide Remediation, Occupational Therapy, Spe...</td>\n",
       "      <td>Dhaval Mody</td>\n",
       "      <td>None</td>\n",
       "      <td>300000.0</td>\n",
       "      <td>Venture - Series Unknown</td>\n",
       "      <td>2020</td>\n",
       "    </tr>\n",
       "    <tr>\n",
       "      <th>594</th>\n",
       "      <td>Cora Health</td>\n",
       "      <td>2020</td>\n",
       "      <td>Bangalore</td>\n",
       "      <td>HealthCare</td>\n",
       "      <td>Social Commerce Marketplace for health and wel...</td>\n",
       "      <td>Shrijit Venkatesh, Snigdha Kumar</td>\n",
       "      <td>None</td>\n",
       "      <td>3500000.0</td>\n",
       "      <td>Venture - Series Unknown</td>\n",
       "      <td>2020</td>\n",
       "    </tr>\n",
       "    <tr>\n",
       "      <th>604</th>\n",
       "      <td>IntelleWings</td>\n",
       "      <td>2019</td>\n",
       "      <td>Panchkula</td>\n",
       "      <td>IT startup</td>\n",
       "      <td>IntelleWings develops Sanctions &amp; Anti-money l...</td>\n",
       "      <td>Pramod Sharma</td>\n",
       "      <td>None</td>\n",
       "      <td>100000.0</td>\n",
       "      <td>Series B</td>\n",
       "      <td>2020</td>\n",
       "    </tr>\n",
       "    <tr>\n",
       "      <th>627</th>\n",
       "      <td>XYXX Apparels</td>\n",
       "      <td>2017</td>\n",
       "      <td>Surat</td>\n",
       "      <td>Fashion</td>\n",
       "      <td>XYXX Apparels,which runs an eponymous innerwea...</td>\n",
       "      <td>Yogesh Kabra</td>\n",
       "      <td>None</td>\n",
       "      <td>4000000.0</td>\n",
       "      <td>Series B</td>\n",
       "      <td>2020</td>\n",
       "    </tr>\n",
       "    <tr>\n",
       "      <th>628</th>\n",
       "      <td>WaterScience</td>\n",
       "      <td>2014</td>\n",
       "      <td>Bangalore</td>\n",
       "      <td>D2C startup</td>\n",
       "      <td>The aim of making good water affordable and ac...</td>\n",
       "      <td>Sudeep N</td>\n",
       "      <td>None</td>\n",
       "      <td>3500000.0</td>\n",
       "      <td>Venture - Series Unknown</td>\n",
       "      <td>2020</td>\n",
       "    </tr>\n",
       "    <tr>\n",
       "      <th>647</th>\n",
       "      <td>India Quotient</td>\n",
       "      <td>2012</td>\n",
       "      <td>Mumbai</td>\n",
       "      <td>Venture capitalist</td>\n",
       "      <td>India Quotient is a new type of early stage in...</td>\n",
       "      <td>Anand Lunia, Madhukar Sinha</td>\n",
       "      <td>None</td>\n",
       "      <td>64000000.0</td>\n",
       "      <td>Venture - Series Unknown</td>\n",
       "      <td>2020</td>\n",
       "    </tr>\n",
       "    <tr>\n",
       "      <th>649</th>\n",
       "      <td>Anvidha Technologies</td>\n",
       "      <td>2020</td>\n",
       "      <td>Haryana</td>\n",
       "      <td>Tech Startup</td>\n",
       "      <td>Anvidha Technologies Private Limited is a HARY...</td>\n",
       "      <td>Ganesh ranganathan iyer</td>\n",
       "      <td>None</td>\n",
       "      <td>1500000.0</td>\n",
       "      <td>Series B</td>\n",
       "      <td>2020</td>\n",
       "    </tr>\n",
       "    <tr>\n",
       "      <th>663</th>\n",
       "      <td>Grinntech</td>\n",
       "      <td>2013</td>\n",
       "      <td>Chennai</td>\n",
       "      <td>Automotive</td>\n",
       "      <td>Grinntech is an investor backed, growth phase ...</td>\n",
       "      <td>Nikhilesh Mishra, Puneet Jain</td>\n",
       "      <td>None</td>\n",
       "      <td>2000000.0</td>\n",
       "      <td>Venture - Series Unknown</td>\n",
       "      <td>2020</td>\n",
       "    </tr>\n",
       "    <tr>\n",
       "      <th>692</th>\n",
       "      <td>Raptee Energy</td>\n",
       "      <td>2019</td>\n",
       "      <td>Chennai</td>\n",
       "      <td>Automotive</td>\n",
       "      <td>Raptee Energy Inc. is looking to accelerate th...</td>\n",
       "      <td>Phunith Kumar</td>\n",
       "      <td>None</td>\n",
       "      <td>700000.0</td>\n",
       "      <td>Venture - Series Unknown</td>\n",
       "      <td>2020</td>\n",
       "    </tr>\n",
       "    <tr>\n",
       "      <th>729</th>\n",
       "      <td>Muvin</td>\n",
       "      <td>2020</td>\n",
       "      <td>Bangalore</td>\n",
       "      <td>FinTech</td>\n",
       "      <td>Youth Neobank enabling financial solutions for...</td>\n",
       "      <td>Mukund V Rao</td>\n",
       "      <td>None</td>\n",
       "      <td>1000000.0</td>\n",
       "      <td>Series B</td>\n",
       "      <td>2020</td>\n",
       "    </tr>\n",
       "    <tr>\n",
       "      <th>748</th>\n",
       "      <td>Ankur capital</td>\n",
       "      <td>2011</td>\n",
       "      <td>Mumbai</td>\n",
       "      <td>FinTech</td>\n",
       "      <td>Early stage venture capital fund focused on op...</td>\n",
       "      <td>Ritu Verma</td>\n",
       "      <td>None</td>\n",
       "      <td>40000000.0</td>\n",
       "      <td>Venture - Series Unknown</td>\n",
       "      <td>2020</td>\n",
       "    </tr>\n",
       "    <tr>\n",
       "      <th>750</th>\n",
       "      <td>Firmway</td>\n",
       "      <td>2016</td>\n",
       "      <td>Mumbai</td>\n",
       "      <td>FinTech</td>\n",
       "      <td>Firmway is a platform that digitizes balance c...</td>\n",
       "      <td>Prashant Gupta, Vivek Chandan</td>\n",
       "      <td>None</td>\n",
       "      <td>3500000.0</td>\n",
       "      <td>Pre-seed</td>\n",
       "      <td>2020</td>\n",
       "    </tr>\n",
       "    <tr>\n",
       "      <th>751</th>\n",
       "      <td>Say Cheese</td>\n",
       "      <td>2020</td>\n",
       "      <td>Mumbai</td>\n",
       "      <td>FemTech</td>\n",
       "      <td>Say Cheese is the first holistic women-happine...</td>\n",
       "      <td>Rajpreet Kaur</td>\n",
       "      <td>None</td>\n",
       "      <td>1000000.0</td>\n",
       "      <td>Series B</td>\n",
       "      <td>2020</td>\n",
       "    </tr>\n",
       "    <tr>\n",
       "      <th>756</th>\n",
       "      <td>BlackSoil NBFC</td>\n",
       "      <td>2010</td>\n",
       "      <td>Mumbai</td>\n",
       "      <td>FinTech</td>\n",
       "      <td>BlackSoil Capital has transformed into an alte...</td>\n",
       "      <td>Mohinder Pal Bansal</td>\n",
       "      <td>None</td>\n",
       "      <td>3000000.0</td>\n",
       "      <td>Venture - Series Unknown</td>\n",
       "      <td>2020</td>\n",
       "    </tr>\n",
       "    <tr>\n",
       "      <th>825</th>\n",
       "      <td>MedTel Healthcare</td>\n",
       "      <td>2017</td>\n",
       "      <td>Orissia</td>\n",
       "      <td>HealthCare</td>\n",
       "      <td>An aggregator for Digital Health Clinics in lo...</td>\n",
       "      <td>Ajit Choudhury, Lalit Ranjan Manik, Manish Kum...</td>\n",
       "      <td>None</td>\n",
       "      <td>5000000.0</td>\n",
       "      <td>Pre-series</td>\n",
       "      <td>2020</td>\n",
       "    </tr>\n",
       "    <tr>\n",
       "      <th>830</th>\n",
       "      <td>Rubix Data Sciences</td>\n",
       "      <td>2018</td>\n",
       "      <td>Mumbai</td>\n",
       "      <td>IT startup</td>\n",
       "      <td>Rubix Data Sciences focuses on simplifying dec...</td>\n",
       "      <td>Mohan Ramaswamy</td>\n",
       "      <td>None</td>\n",
       "      <td>800000.0</td>\n",
       "      <td>Series B</td>\n",
       "      <td>2020</td>\n",
       "    </tr>\n",
       "    <tr>\n",
       "      <th>840</th>\n",
       "      <td>Sarathi</td>\n",
       "      <td>2020</td>\n",
       "      <td>Jodhpur</td>\n",
       "      <td>HealthCare</td>\n",
       "      <td>Offer a range of services like lab tests, cons...</td>\n",
       "      <td>Aditi Poyam</td>\n",
       "      <td>None</td>\n",
       "      <td>100000.0</td>\n",
       "      <td>Series B</td>\n",
       "      <td>2020</td>\n",
       "    </tr>\n",
       "    <tr>\n",
       "      <th>841</th>\n",
       "      <td>Jidoka Technologies</td>\n",
       "      <td>2018</td>\n",
       "      <td>Chennai</td>\n",
       "      <td>Software</td>\n",
       "      <td>Deliver automation of visual inspection, retai...</td>\n",
       "      <td>Sekar Udayamurthy</td>\n",
       "      <td>None</td>\n",
       "      <td>340000.0</td>\n",
       "      <td>Series B</td>\n",
       "      <td>2020</td>\n",
       "    </tr>\n",
       "    <tr>\n",
       "      <th>897</th>\n",
       "      <td>Better Capital</td>\n",
       "      <td>2006</td>\n",
       "      <td>Santra</td>\n",
       "      <td>Venture Capital &amp; Private Equity</td>\n",
       "      <td>Better is a top-tier India-focused pre-seed ve...</td>\n",
       "      <td>Vaibhav Domkundwar</td>\n",
       "      <td>None</td>\n",
       "      <td>15000000.0</td>\n",
       "      <td>Venture - Series Unknown</td>\n",
       "      <td>2020</td>\n",
       "    </tr>\n",
       "    <tr>\n",
       "      <th>905</th>\n",
       "      <td>Homversity</td>\n",
       "      <td>2017</td>\n",
       "      <td>Ahmedabad</td>\n",
       "      <td>Housing Marketplace</td>\n",
       "      <td>Homversity is the digital ecosystem that aims ...</td>\n",
       "      <td>Saurav Kumar Sinha</td>\n",
       "      <td>None</td>\n",
       "      <td>155000.0</td>\n",
       "      <td>Venture - Series Unknown</td>\n",
       "      <td>2020</td>\n",
       "    </tr>\n",
       "    <tr>\n",
       "      <th>915</th>\n",
       "      <td>Simple Energy</td>\n",
       "      <td>2019</td>\n",
       "      <td>Bangalore</td>\n",
       "      <td>Automotive</td>\n",
       "      <td>A Research and development driven company on a...</td>\n",
       "      <td>Suhas Rajkumar</td>\n",
       "      <td>None</td>\n",
       "      <td>21000000.0</td>\n",
       "      <td>Pre-series</td>\n",
       "      <td>2020</td>\n",
       "    </tr>\n",
       "    <tr>\n",
       "      <th>934</th>\n",
       "      <td>Licious</td>\n",
       "      <td>2015</td>\n",
       "      <td>Bangalore</td>\n",
       "      <td>Food &amp; Beverages</td>\n",
       "      <td>Licious is a consumer food company, focussed a...</td>\n",
       "      <td>Vivek Gupta, Abhay</td>\n",
       "      <td>None</td>\n",
       "      <td>52000000.0</td>\n",
       "      <td>Series C</td>\n",
       "      <td>2020</td>\n",
       "    </tr>\n",
       "    <tr>\n",
       "      <th>943</th>\n",
       "      <td>IBSFINtech</td>\n",
       "      <td>2006</td>\n",
       "      <td>Bangalore</td>\n",
       "      <td>Information Technology &amp; Services</td>\n",
       "      <td>Driving Digitization &amp; Automation of Cash &amp; Li...</td>\n",
       "      <td>C M Grover, TM Manjunath</td>\n",
       "      <td>None</td>\n",
       "      <td>1000000.0</td>\n",
       "      <td>Pre-series</td>\n",
       "      <td>2020</td>\n",
       "    </tr>\n",
       "    <tr>\n",
       "      <th>959</th>\n",
       "      <td>EarnWealth</td>\n",
       "      <td>2014</td>\n",
       "      <td>Pune</td>\n",
       "      <td>Financial Services</td>\n",
       "      <td>EarnWealth is India's First Social Commerce Fi...</td>\n",
       "      <td>Rajesh P Nair</td>\n",
       "      <td>None</td>\n",
       "      <td>500000.0</td>\n",
       "      <td>Pre-series</td>\n",
       "      <td>2020</td>\n",
       "    </tr>\n",
       "    <tr>\n",
       "      <th>970</th>\n",
       "      <td>CarDekho</td>\n",
       "      <td>2008</td>\n",
       "      <td>Jaipur</td>\n",
       "      <td>Automotive</td>\n",
       "      <td>Redefining the country’s personal mobility eco...</td>\n",
       "      <td>Amit Jain, Anurag Jain</td>\n",
       "      <td>None</td>\n",
       "      <td>250000000.0</td>\n",
       "      <td>Series C</td>\n",
       "      <td>2020</td>\n",
       "    </tr>\n",
       "    <tr>\n",
       "      <th>973</th>\n",
       "      <td>Toch.ai</td>\n",
       "      <td>2016</td>\n",
       "      <td>Mumbai</td>\n",
       "      <td>SaaS</td>\n",
       "      <td>Toch is an AI-driven platform that helps broad...</td>\n",
       "      <td>Vinayak Shrivastav, Saket Dandotia, Alok Patil</td>\n",
       "      <td>None</td>\n",
       "      <td>11000000.0</td>\n",
       "      <td>Series B</td>\n",
       "      <td>2020</td>\n",
       "    </tr>\n",
       "    <tr>\n",
       "      <th>980</th>\n",
       "      <td>ApplicateAI</td>\n",
       "      <td>2014</td>\n",
       "      <td>Gurugram</td>\n",
       "      <td>Information Technology &amp; Services</td>\n",
       "      <td>‘ApplicateAI’ is an integrated AI BOT platform...</td>\n",
       "      <td>Madhusudan Atmakuri, Ranjeet Kumar</td>\n",
       "      <td>None</td>\n",
       "      <td>30000000.0</td>\n",
       "      <td>Series B</td>\n",
       "      <td>2020</td>\n",
       "    </tr>\n",
       "    <tr>\n",
       "      <th>981</th>\n",
       "      <td>VLCC Health Care</td>\n",
       "      <td>1989</td>\n",
       "      <td>Gurugram</td>\n",
       "      <td>Health, Wellness &amp; Fitness</td>\n",
       "      <td>VLCC is today widely recognized for its compre...</td>\n",
       "      <td>Vandana Luthra</td>\n",
       "      <td>None</td>\n",
       "      <td>4000000.0</td>\n",
       "      <td>Venture - Series Unknown</td>\n",
       "      <td>2020</td>\n",
       "    </tr>\n",
       "    <tr>\n",
       "      <th>1061</th>\n",
       "      <td>EV Plugs</td>\n",
       "      <td>2021</td>\n",
       "      <td>Gurugram</td>\n",
       "      <td>Information Technology &amp; Services</td>\n",
       "      <td>EV charging station aggregator platform</td>\n",
       "      <td>Manish Narang, Kapil Narang, Ashwani Arora</td>\n",
       "      <td>None</td>\n",
       "      <td>150000.0</td>\n",
       "      <td>Venture - Series Unknown</td>\n",
       "      <td>2020</td>\n",
       "    </tr>\n",
       "    <tr>\n",
       "      <th>1069</th>\n",
       "      <td>Nimble Growth Organics</td>\n",
       "      <td>2016</td>\n",
       "      <td>Bangalore</td>\n",
       "      <td>Farming</td>\n",
       "      <td>Nimble Growth Organics is the new age Agri sta...</td>\n",
       "      <td>Rahul Saria, Nagendra Kalkuli, Abhisek Bhagcha...</td>\n",
       "      <td>None</td>\n",
       "      <td>3500000.0</td>\n",
       "      <td>Series B</td>\n",
       "      <td>2020</td>\n",
       "    </tr>\n",
       "    <tr>\n",
       "      <th>1154</th>\n",
       "      <td>moneyHOP</td>\n",
       "      <td>2018</td>\n",
       "      <td>London</td>\n",
       "      <td>Financial Services</td>\n",
       "      <td>moneyHOP is India’s first cross-border neo bank.</td>\n",
       "      <td>Mayank Goyal</td>\n",
       "      <td>None</td>\n",
       "      <td>1200000.0</td>\n",
       "      <td>Series B</td>\n",
       "      <td>2020</td>\n",
       "    </tr>\n",
       "    <tr>\n",
       "      <th>1155</th>\n",
       "      <td>Codingal</td>\n",
       "      <td>2020</td>\n",
       "      <td>Bangalore</td>\n",
       "      <td>EdTech</td>\n",
       "      <td>Codingal is on a mission to inspire school kid...</td>\n",
       "      <td>Vivek Prakash, Satyam Baranwal</td>\n",
       "      <td>None</td>\n",
       "      <td>1200000.0</td>\n",
       "      <td>Series B</td>\n",
       "      <td>2020</td>\n",
       "    </tr>\n",
       "    <tr>\n",
       "      <th>1158</th>\n",
       "      <td>REVOS</td>\n",
       "      <td>2017</td>\n",
       "      <td>Bangalore</td>\n",
       "      <td>Automotive</td>\n",
       "      <td>REVOS is a smart mobility platform that empowe...</td>\n",
       "      <td>Mohit Yadav, Jyotrian Jan Harichandran</td>\n",
       "      <td>None</td>\n",
       "      <td>4000000.0</td>\n",
       "      <td>Series B</td>\n",
       "      <td>2020</td>\n",
       "    </tr>\n",
       "  </tbody>\n",
       "</table>\n",
       "</div>"
      ],
      "text/plain": [
       "                        Company_Brand  Founded  HeadQuarter  \\\n",
       "9                              Taikee     2010       Mumbai   \n",
       "30                       Jambox Games     2021    Bangalore   \n",
       "42                          LearnVern     2016    Ahmadabad   \n",
       "45                            moEVing     2021     Gurugram   \n",
       "46                       WeWork India     2017    Bangalore   \n",
       "73                    Alteria Capital     2018       Mumbai   \n",
       "76                    Speciale Invest     2017    Bangalore   \n",
       "97                          Kirana247     2018    New Delhi   \n",
       "108                         Kirana247     2018    New Delhi   \n",
       "116                           Zetwerk     2018    Bangalore   \n",
       "129                      goEgoNetwork     2019         Pune   \n",
       "144                         LoanKuber     2016    New Delhi   \n",
       "150                          UpScalio     2021     Gurugram   \n",
       "162                         MetroRide     2020    Bangalore   \n",
       "176        Stellaris Venture Partners     2015    Bangalore   \n",
       "185                            Khabri     2017     Gurugram   \n",
       "191                            Faarms     2020    Bangalore   \n",
       "210                       8i Ventures     2018       Mumbai   \n",
       "235                   Evenflow Brands     2020       Mumbai   \n",
       "283                  OWO Technologies     2020     Gurugram   \n",
       "314                  Avataar Ventures     2019    Bangalore   \n",
       "363                     MasterMentors     2019  West Bengal   \n",
       "398   Nao Spirits & Beverages Pvt Ltd     2016    New Delhi   \n",
       "445                          Fixcraft     2018     Gurugram   \n",
       "467                             Droom     2014     Gurugram   \n",
       "474                          Inspacco     2019         Pune   \n",
       "541                        ION Energy     2016       Mumbai   \n",
       "555                          Pocketly     2019    Bangalore   \n",
       "562                         SpEd@home     2020       Mumbai   \n",
       "594                       Cora Health     2020    Bangalore   \n",
       "604                      IntelleWings     2019    Panchkula   \n",
       "627                     XYXX Apparels     2017        Surat   \n",
       "628                      WaterScience     2014    Bangalore   \n",
       "647                    India Quotient     2012       Mumbai   \n",
       "649              Anvidha Technologies     2020      Haryana   \n",
       "663                         Grinntech     2013      Chennai   \n",
       "692                     Raptee Energy     2019      Chennai   \n",
       "729                             Muvin     2020    Bangalore   \n",
       "748                     Ankur capital     2011       Mumbai   \n",
       "750                           Firmway     2016       Mumbai   \n",
       "751                        Say Cheese     2020       Mumbai   \n",
       "756                    BlackSoil NBFC     2010       Mumbai   \n",
       "825                 MedTel Healthcare     2017      Orissia   \n",
       "830               Rubix Data Sciences     2018       Mumbai   \n",
       "840                           Sarathi     2020      Jodhpur   \n",
       "841               Jidoka Technologies     2018      Chennai   \n",
       "897                    Better Capital     2006       Santra   \n",
       "905                        Homversity     2017    Ahmedabad   \n",
       "915                     Simple Energy     2019    Bangalore   \n",
       "934                           Licious     2015    Bangalore   \n",
       "943                        IBSFINtech     2006    Bangalore   \n",
       "959                        EarnWealth     2014         Pune   \n",
       "970                          CarDekho     2008       Jaipur   \n",
       "973                           Toch.ai     2016       Mumbai   \n",
       "980                       ApplicateAI     2014     Gurugram   \n",
       "981                  VLCC Health Care     1989     Gurugram   \n",
       "1061                         EV Plugs     2021     Gurugram   \n",
       "1069           Nimble Growth Organics     2016    Bangalore   \n",
       "1154                         moneyHOP     2018       London   \n",
       "1155                         Codingal     2020    Bangalore   \n",
       "1158                            REVOS     2017    Bangalore   \n",
       "\n",
       "                                   Sector  \\\n",
       "9                              E-commerce   \n",
       "30                                 Gaming   \n",
       "42                                 EdTech   \n",
       "45                              Logistics   \n",
       "46                            Hospitality   \n",
       "73                                FinTech   \n",
       "76                                FinTech   \n",
       "97               Logistics & Supply Chain   \n",
       "108              Logistics & Supply Chain   \n",
       "116   Mechanical & Industrial Engineering   \n",
       "129                            Automotive   \n",
       "144                      Digital mortgage   \n",
       "150                            E-commerce   \n",
       "162                        Transportation   \n",
       "176                       Venture Capital   \n",
       "185                                 Media   \n",
       "191                              AgriTech   \n",
       "210      Venture Capital & Private Equity   \n",
       "235                        Consumer Goods   \n",
       "283                      Food & Beverages   \n",
       "314                               FinTech   \n",
       "363                                EdTech   \n",
       "398                             Beverages   \n",
       "445                            Automotive   \n",
       "467                            Automobile   \n",
       "474                   Facilities Services   \n",
       "541                            Automotive   \n",
       "555                               FinTech   \n",
       "562                                EdTech   \n",
       "594                            HealthCare   \n",
       "604                            IT startup   \n",
       "627                               Fashion   \n",
       "628                           D2C startup   \n",
       "647                    Venture capitalist   \n",
       "649                          Tech Startup   \n",
       "663                            Automotive   \n",
       "692                            Automotive   \n",
       "729                               FinTech   \n",
       "748                               FinTech   \n",
       "750                               FinTech   \n",
       "751                               FemTech   \n",
       "756                               FinTech   \n",
       "825                            HealthCare   \n",
       "830                            IT startup   \n",
       "840                            HealthCare   \n",
       "841                              Software   \n",
       "897      Venture Capital & Private Equity   \n",
       "905                   Housing Marketplace   \n",
       "915                            Automotive   \n",
       "934                      Food & Beverages   \n",
       "943     Information Technology & Services   \n",
       "959                    Financial Services   \n",
       "970                            Automotive   \n",
       "973                                  SaaS   \n",
       "980     Information Technology & Services   \n",
       "981            Health, Wellness & Fitness   \n",
       "1061    Information Technology & Services   \n",
       "1069                              Farming   \n",
       "1154                   Financial Services   \n",
       "1155                               EdTech   \n",
       "1158                           Automotive   \n",
       "\n",
       "                                           What_it_does  \\\n",
       "9     Taikee is the ISO-certified, B2B e-commerce pl...   \n",
       "30    A competitive game publishing platform to help...   \n",
       "42    LearnVern.com is a training portal where anyon...   \n",
       "45    Delivering clean, cost-effective and efficient...   \n",
       "46    Transform buildings into beautiful, collaborat...   \n",
       "73             Alteria Capital is a Venture debt firm .   \n",
       "76    Speciale Invest is an early stage investor foc...   \n",
       "97    An on-demand FMCG supply chain company leverag...   \n",
       "108   An on-demand FMCG supply chain company leverag...   \n",
       "116   ZETWERK is a universal manufacturing network p...   \n",
       "129   goEgo is a complete E Mobility charging soluti...   \n",
       "144   LoanKuber is the lowest cost lender to Yest-to...   \n",
       "150   UpScalio is India’s next generation, data-driv...   \n",
       "162   Urban Mobility Affordable, Punctual & Sustaina...   \n",
       "176                       Early-stage tech VC in India.   \n",
       "185   Khabri is India’s fastest growing vernacular a...   \n",
       "191   FAARMS™ is a new age digital platform which ai...   \n",
       "210   8i is a Mumbai & Bangalore based early stage f...   \n",
       "235   Identify and partner with the upcoming eCommer...   \n",
       "283   An ecommerce startup offering online beverages...   \n",
       "314   Avataar Venture Partners is a growth Capital I...   \n",
       "363   India's first online platform for mentors enab...   \n",
       "398                     India's first Craft Gin company   \n",
       "445        India's Most Trusted Automotive Repair Brand   \n",
       "467   Droom is an AI and data science driven online ...   \n",
       "474   For residential commercial and industrial esta...   \n",
       "541   Advanced Electronics & Software Supplier for E...   \n",
       "555   Pocketly provides quick cash on hand, anytime ...   \n",
       "562   Provide Remediation, Occupational Therapy, Spe...   \n",
       "594   Social Commerce Marketplace for health and wel...   \n",
       "604   IntelleWings develops Sanctions & Anti-money l...   \n",
       "627   XYXX Apparels,which runs an eponymous innerwea...   \n",
       "628   The aim of making good water affordable and ac...   \n",
       "647   India Quotient is a new type of early stage in...   \n",
       "649   Anvidha Technologies Private Limited is a HARY...   \n",
       "663   Grinntech is an investor backed, growth phase ...   \n",
       "692   Raptee Energy Inc. is looking to accelerate th...   \n",
       "729   Youth Neobank enabling financial solutions for...   \n",
       "748   Early stage venture capital fund focused on op...   \n",
       "750   Firmway is a platform that digitizes balance c...   \n",
       "751   Say Cheese is the first holistic women-happine...   \n",
       "756   BlackSoil Capital has transformed into an alte...   \n",
       "825   An aggregator for Digital Health Clinics in lo...   \n",
       "830   Rubix Data Sciences focuses on simplifying dec...   \n",
       "840   Offer a range of services like lab tests, cons...   \n",
       "841   Deliver automation of visual inspection, retai...   \n",
       "897   Better is a top-tier India-focused pre-seed ve...   \n",
       "905   Homversity is the digital ecosystem that aims ...   \n",
       "915   A Research and development driven company on a...   \n",
       "934   Licious is a consumer food company, focussed a...   \n",
       "943   Driving Digitization & Automation of Cash & Li...   \n",
       "959   EarnWealth is India's First Social Commerce Fi...   \n",
       "970   Redefining the country’s personal mobility eco...   \n",
       "973   Toch is an AI-driven platform that helps broad...   \n",
       "980   ‘ApplicateAI’ is an integrated AI BOT platform...   \n",
       "981   VLCC is today widely recognized for its compre...   \n",
       "1061            EV charging station aggregator platform   \n",
       "1069  Nimble Growth Organics is the new age Agri sta...   \n",
       "1154   moneyHOP is India’s first cross-border neo bank.   \n",
       "1155  Codingal is on a mission to inspire school kid...   \n",
       "1158  REVOS is a smart mobility platform that empowe...   \n",
       "\n",
       "                                               Founders Investor  \\\n",
       "9                    Nidhi Ramachandran, Sachin Chhabra     None   \n",
       "30                                            Ravi Vyas     None   \n",
       "42                               Niral Modi, Aditi Modi     None   \n",
       "45                                        VIKASH MISHRA     None   \n",
       "46                                        Karan Virwani     None   \n",
       "73                                         Vinod Murali     None   \n",
       "76                           Vishesh Rajaram, Arjun Rao     None   \n",
       "97                  Tarun Jiwarajka, Pankhuri Jiwarajka     None   \n",
       "108                 Tarun Jiwarajka, Pankhuri Jiwarajka     None   \n",
       "116                Srinath Ramakkrushnan, Amrit Acharya     None   \n",
       "129                 Dheeman Kadam, Sayantan Chakraborti     None   \n",
       "144                                      Saurabh Nagpal     None   \n",
       "150                                    Gautam Kshatriya     None   \n",
       "162                       Girish Nagpal, Kaaman Agarwal     None   \n",
       "176         Ritesh Banglani, Alok Goyal, Rahul Chowdhri     None   \n",
       "185            Pulkit Sharma, Aankit Roy, Sandeep Singh     None   \n",
       "191                         Taranbir Singh, Alok Duggal     None   \n",
       "210                                      Vikram Chachra     None   \n",
       "235                       Utsav Agarwal, Pulkit Chhabra     None   \n",
       "283                          Ajay Changani, Hardev Sahu     None   \n",
       "314                                         Mohan Kumar     None   \n",
       "363       Suraj Juneja, Vijay Rachh, and Aaquib Hussain     None   \n",
       "398                                       Anand Virmani     None   \n",
       "445         Vivek Sharma, Abhishek Goyal, Inderjeet Rao     None   \n",
       "467                                    Sandeep Aggarwal     None   \n",
       "474                        Sanket Nerkar, Paresh Kotkar     None   \n",
       "541                                         Akhil Aryan     None   \n",
       "555                        Aarav Bhatia, Navdeesh Ahuja     None   \n",
       "562                                         Dhaval Mody     None   \n",
       "594                    Shrijit Venkatesh, Snigdha Kumar     None   \n",
       "604                                       Pramod Sharma     None   \n",
       "627                                        Yogesh Kabra     None   \n",
       "628                                            Sudeep N     None   \n",
       "647                         Anand Lunia, Madhukar Sinha     None   \n",
       "649                             Ganesh ranganathan iyer     None   \n",
       "663                       Nikhilesh Mishra, Puneet Jain     None   \n",
       "692                                       Phunith Kumar     None   \n",
       "729                                        Mukund V Rao     None   \n",
       "748                                          Ritu Verma     None   \n",
       "750                       Prashant Gupta, Vivek Chandan     None   \n",
       "751                                       Rajpreet Kaur     None   \n",
       "756                                 Mohinder Pal Bansal     None   \n",
       "825   Ajit Choudhury, Lalit Ranjan Manik, Manish Kum...     None   \n",
       "830                                     Mohan Ramaswamy     None   \n",
       "840                                         Aditi Poyam     None   \n",
       "841                                   Sekar Udayamurthy     None   \n",
       "897                                  Vaibhav Domkundwar     None   \n",
       "905                                  Saurav Kumar Sinha     None   \n",
       "915                                      Suhas Rajkumar     None   \n",
       "934                                  Vivek Gupta, Abhay     None   \n",
       "943                            C M Grover, TM Manjunath     None   \n",
       "959                                       Rajesh P Nair     None   \n",
       "970                              Amit Jain, Anurag Jain     None   \n",
       "973      Vinayak Shrivastav, Saket Dandotia, Alok Patil     None   \n",
       "980                  Madhusudan Atmakuri, Ranjeet Kumar     None   \n",
       "981                                      Vandana Luthra     None   \n",
       "1061         Manish Narang, Kapil Narang, Ashwani Arora     None   \n",
       "1069  Rahul Saria, Nagendra Kalkuli, Abhisek Bhagcha...     None   \n",
       "1154                                       Mayank Goyal     None   \n",
       "1155                     Vivek Prakash, Satyam Baranwal     None   \n",
       "1158             Mohit Yadav, Jyotrian Jan Harichandran     None   \n",
       "\n",
       "             Amount                     Stage  Year Funded  \n",
       "9         1000000.0  Venture - Series Unknown         2020  \n",
       "30        1100000.0                  Series B         2020  \n",
       "42        1000000.0                  Series B         2020  \n",
       "45        1000000.0                  Series B         2020  \n",
       "46       26000000.0                  Series B         2020  \n",
       "73   150000000000.0            Debt Financing         2020  \n",
       "76       10000000.0  Venture - Series Unknown         2020  \n",
       "97        1000000.0  Venture - Series Unknown         2020  \n",
       "108       1000000.0                Pre-series         2020  \n",
       "116     150000000.0                  Series C         2020  \n",
       "129       2000000.0  Venture - Series Unknown         2020  \n",
       "144       1200000.0                Pre-series         2020  \n",
       "150      42000000.0  Venture - Series Unknown         2020  \n",
       "162       3500000.0  Venture - Series Unknown         2020  \n",
       "176     225000000.0  Venture - Series Unknown         2020  \n",
       "185       2000000.0                Pre-series         2020  \n",
       "191       2000000.0                  Series B         2020  \n",
       "210      50000000.0  Venture - Series Unknown         2020  \n",
       "235        500000.0  Venture - Series Unknown         2020  \n",
       "283       3000000.0                  Series B         2020  \n",
       "314     100000000.0  Venture - Series Unknown         2020  \n",
       "363       1500000.0  Venture - Series Unknown         2020  \n",
       "398       2000000.0                  Series B         2020  \n",
       "445       1000000.0                Pre-series         2020  \n",
       "467     200000000.0  Venture - Series Unknown         2020  \n",
       "474        200000.0  Venture - Series Unknown         2020  \n",
       "541       3600000.0                Pre-series         2020  \n",
       "555       3500000.0  Venture - Series Unknown         2020  \n",
       "562        300000.0  Venture - Series Unknown         2020  \n",
       "594       3500000.0  Venture - Series Unknown         2020  \n",
       "604        100000.0                  Series B         2020  \n",
       "627       4000000.0                  Series B         2020  \n",
       "628       3500000.0  Venture - Series Unknown         2020  \n",
       "647      64000000.0  Venture - Series Unknown         2020  \n",
       "649       1500000.0                  Series B         2020  \n",
       "663       2000000.0  Venture - Series Unknown         2020  \n",
       "692        700000.0  Venture - Series Unknown         2020  \n",
       "729       1000000.0                  Series B         2020  \n",
       "748      40000000.0  Venture - Series Unknown         2020  \n",
       "750       3500000.0                  Pre-seed         2020  \n",
       "751       1000000.0                  Series B         2020  \n",
       "756       3000000.0  Venture - Series Unknown         2020  \n",
       "825       5000000.0                Pre-series         2020  \n",
       "830        800000.0                  Series B         2020  \n",
       "840        100000.0                  Series B         2020  \n",
       "841        340000.0                  Series B         2020  \n",
       "897      15000000.0  Venture - Series Unknown         2020  \n",
       "905        155000.0  Venture - Series Unknown         2020  \n",
       "915      21000000.0                Pre-series         2020  \n",
       "934      52000000.0                  Series C         2020  \n",
       "943       1000000.0                Pre-series         2020  \n",
       "959        500000.0                Pre-series         2020  \n",
       "970     250000000.0                  Series C         2020  \n",
       "973      11000000.0                  Series B         2020  \n",
       "980      30000000.0                  Series B         2020  \n",
       "981       4000000.0  Venture - Series Unknown         2020  \n",
       "1061       150000.0  Venture - Series Unknown         2020  \n",
       "1069      3500000.0                  Series B         2020  \n",
       "1154      1200000.0                  Series B         2020  \n",
       "1155      1200000.0                  Series B         2020  \n",
       "1158      4000000.0                  Series B         2020  "
      ]
     },
<<<<<<< HEAD
     "execution_count": 179,
=======
     "execution_count": 173,
>>>>>>> 43b96b4dfa7bddb17435e2b2cac05525a713e75a
     "metadata": {},
     "output_type": "execute_result"
    }
   ],
   "source": [
    "data2021[data2021['Investor']== 'None'] # Check rows that are 'None' at the 'Investor' column"
   ]
  },
  {
   "cell_type": "markdown",
   "metadata": {},
   "source": [
    "Update the values from 'None' to 'Unknown'"
   ]
  },
  {
   "cell_type": "code",
<<<<<<< HEAD
   "execution_count": 180,
=======
   "execution_count": 174,
>>>>>>> 43b96b4dfa7bddb17435e2b2cac05525a713e75a
   "metadata": {},
   "outputs": [],
   "source": [
    "# Change 'None' to 'Unknown'\n",
    "data2021.loc[data2021['Investor'] == 'None', 'Investor'] = 'Unknown'\n"
   ]
  },
  {
   "cell_type": "code",
<<<<<<< HEAD
   "execution_count": 181,
=======
   "execution_count": 175,
>>>>>>> 43b96b4dfa7bddb17435e2b2cac05525a713e75a
   "metadata": {},
   "outputs": [
    {
     "data": {
      "text/plain": [
       "Unknown                                          64\n",
       "Inflection Point Ventures                        28\n",
       "Venture Catalysts                                23\n",
       "Tiger Global                                     19\n",
       "Titan Capital                                    16\n",
       "Y Combinator                                     14\n",
       "Sequoia Capital India                            13\n",
       "9Unicorns                                        12\n",
       "Elevation Capital                                 9\n",
       "Matrix Partners India                             9\n",
       "Chiratae Ventures                                 9\n",
       "We Founder Circle                                 8\n",
       "Better Capital                                    8\n",
       "Sixth Sense Ventures                              8\n",
       "Kunal Shah                                        7\n",
       "Kalaari Capital                                   7\n",
       "Mumbai Angels Network                             7\n",
       "Anicut Angel Fund                                 7\n",
       "Accel                                             7\n",
       "InnoVen Capital                                   7\n",
       "JITO Angel Network                                7\n",
       "Unicorn India Ventures                            6\n",
       "Alteria Capital                                   6\n",
       "LetsVenture                                       6\n",
       "Sequoia’s Surge                                   6\n",
       "Blume Ventures                                    6\n",
       "CDC Group                                         6\n",
       "Accel Partners                                    6\n",
       "Sequoia Capital                                   6\n",
       "ah! Ventures                                      5\n",
       "Indian Angel Network                              5\n",
       "IAN                                               5\n",
       "Stellaris Venture Partners                        5\n",
       "BEENEXT                                           5\n",
       "DST Global                                        4\n",
       "Jungle Ventures                                   4\n",
       "Venture Highway                                   4\n",
       "IvyCap Ventures                                   4\n",
       "Blue Ashva Capital                                4\n",
       "Tribe Capital                                     4\n",
       "IIFL AMC                                          4\n",
       "3one4 Capital                                     4\n",
       "Mumbai Angels                                     4\n",
       "Omidyar Network India                             4\n",
       "Westbridge Capital                                4\n",
       "SucSEED Indovation Fund                           4\n",
       "Info Edge Ventures                                4\n",
       "Binny Bansal                                      3\n",
       "Tiger Global Management                           3\n",
       "Northern Arc                                      3\n",
       "A91 Partners                                      3\n",
       "Endiya Partners                                   3\n",
       "Angel investors                                   3\n",
       "NB Ventures                                       3\n",
       "Khosla Ventures                                   3\n",
       "CIIE.CO                                           3\n",
       "Aroa Ventures                                     3\n",
       "Global Founders Capital                           3\n",
       "Nexus Venture Partners                            3\n",
       "Vy Capital                                        3\n",
       "9Unicorns Accelerator Fund                        3\n",
       "Vijay Shekhar Sharma                              3\n",
       "WestBridge Capital                                3\n",
       "Skycatcher                                        3\n",
       "BlackSoil                                         3\n",
       "Elevar Equity                                     3\n",
       "Valar Ventures                                    3\n",
       "Jitendra Gupta                                    3\n",
       "Saama Capital                                     3\n",
       "Lightrock India                                   3\n",
       "Speciale Invest                                   3\n",
       "Alpha Wave Incubation                             3\n",
       "Anthill Ventures                                  3\n",
       "Fidelity                                          3\n",
       "WaterBridge Ventures                              3\n",
       "Falcon Edge                                       3\n",
       "Antler India                                      3\n",
       "IAN Fund                                          3\n",
       "Omnivore                                          3\n",
       "India Accelerator                                 3\n",
       "Temasek                                           3\n",
       "Unitus Ventures                                   3\n",
       "Klub                                              3\n",
       "Gokul Rajaram                                     3\n",
       "Bessemer Venture Partners                         3\n",
       "Axilor                                            3\n",
       "Omidyar Network                                   3\n",
       "Vertex Ventures                                   2\n",
       "Rajasthan Venture Capital Fund                    2\n",
       "Krafton                                           2\n",
       "IIFL Wealth                                       2\n",
       "Varun Alagh                                       2\n",
       "Navneet Education                                 2\n",
       "DevX Venture Fund                                 2\n",
       "Yuj Ventures                                      2\n",
       "RTP Global                                        2\n",
       "IIFL                                              2\n",
       "GetVantage                                        2\n",
       "LC Nueva AIF                                      2\n",
       "Amplo                                             2\n",
       "MassMutual Ventures                               2\n",
       "Amazon                                            2\n",
       "Lead Angels                                       2\n",
       "Think Investments                                 2\n",
       "Balaji Srinivasan                                 2\n",
       "SoftBank Vision Fund 2                            2\n",
       "Punit Balan                                       2\n",
       "Pegasus Tech Ventures                             2\n",
       "Fireside Ventures                                 2\n",
       "growX ventures                                    2\n",
       "Steadview Capital                                 2\n",
       "SOSV                                              2\n",
       "Capt. Anand Aryamane                              2\n",
       "Marquee investors                                 2\n",
       "U.S. International Development Finance Corp       2\n",
       "021 Capital                                       2\n",
       "Y-Combinator                                      2\n",
       "Enzia Ventures                                    2\n",
       "Avaana Capital                                    2\n",
       "Inflexor Ventures                                 2\n",
       "Tomorrow Capital                                  2\n",
       "Lightspeed                                        2\n",
       "DSG Consumer Partners                             2\n",
       "YCombinator                                       2\n",
       "Celesta Capital                                   2\n",
       "Dinesh Godara                                     2\n",
       "TradeCred                                         2\n",
       "Alkeon Capital                                    2\n",
       "Premji Invest                                     2\n",
       "General Atlantic                                  2\n",
       "Orios Venture Partners                            2\n",
       "Aavishkaar Capital                                2\n",
       "Equanimity Ventures                               2\n",
       "Bharat Inclusion                                  2\n",
       "Beyond Next Ventures                              2\n",
       "Sequoia                                           2\n",
       "Addition                                          2\n",
       "Nabventures                                       2\n",
       "Hindustan Media Venture                           2\n",
       "Paragon Partners                                  2\n",
       "Info Edge                                         2\n",
       "Ananta Capital                                    2\n",
       "Spring Marketing Capital                          2\n",
       "Asian Development Bank                            2\n",
       "EXPERT DOJO                                       2\n",
       "Tiga Investments                                  2\n",
       "pi Ventures                                       2\n",
       "Alfa Ventures                                     2\n",
       "Eight Roads Ventures                              2\n",
       "Eaglewings Ventures                               2\n",
       "Auxano                                            2\n",
       "W Health Ventures                                 2\n",
       "Unilazer Ventures                                 2\n",
       "Rebright Partners                                 2\n",
       "Shell Foundation                                  2\n",
       "Faering Capital                                   2\n",
       "General Catalyst                                  2\n",
       "Velocity                                          2\n",
       "FMC                                               2\n",
       "Shaival Desai                                     2\n",
       "Wurk                                              2\n",
       "Siana Capital                                     2\n",
       "Manish Choksi                                     1\n",
       "Abu Dhabi Growth Fund                             1\n",
       "Saama                                             1\n",
       "Winter Capital                                    1\n",
       "Angelist India                                    1\n",
       "Aditya Singhal                                    1\n",
       "Capital India                                     1\n",
       "InvestCorp                                        1\n",
       "MTG Ventures                                      1\n",
       "TPG Capital Asia                                  1\n",
       "CitiusTech                                        1\n",
       "Parthiv Group                                     1\n",
       "Invesco Developing Markets Fund                   1\n",
       "Sauce.vc                                          1\n",
       "Raghav Kapur                                      1\n",
       "Arena Holdings                                    1\n",
       "Evolvence                                         1\n",
       "100X.VC﻿                                          1\n",
       "Bertelsmann India                                 1\n",
       "UC Inclusive Credit                               1\n",
       "Amara Raja Batteries                              1\n",
       "Tiger Global’s Scott Schleifer                    1\n",
       "Ajat Hukkoo                                       1\n",
       "PointOne Capital                                  1\n",
       "James Milner                                      1\n",
       "Aarin Capital                                     1\n",
       "Nitish Mittersain                                 1\n",
       "Justin Mateen                                     1\n",
       "Roha Investment Managers                          1\n",
       "GIC                                               1\n",
       "TPG Growth                                        1\n",
       "Manish Subramaniam                                1\n",
       "Founders Room Capital                             1\n",
       "Cygnus Medicare Group                             1\n",
       "InfoEdge                                          1\n",
       "Ecom Express                                      1\n",
       "Coinbase Ventures                                 1\n",
       "JAFCO Asia                                        1\n",
       "Arcilla                                           1\n",
       "TATA Cleantech Capital                            1\n",
       "BanyanTree Finance Pvt. Ltd.                      1\n",
       "Lumikai                                           1\n",
       "Northern Arc Capital                              1\n",
       "Base 10 Partners                                  1\n",
       "Warburg Pincus﻿                                   1\n",
       "Pravesh Mehta                                     1\n",
       "LeapFrog                                          1\n",
       "Research Innovation Incubation Design Labs        1\n",
       "Evolvence Capital                                 1\n",
       "Old Fashion Research                              1\n",
       "Accel India                                       1\n",
       "The Chatterjee Group                              1\n",
       "WestCap Group                                     1\n",
       "Alpha Wave Ventures II                            1\n",
       "Z3Partners                                        1\n",
       "Lightspeed India Partners                         1\n",
       "Nueva Capital                                     1\n",
       "FJ Labs                                           1\n",
       "FirstCry                                          1\n",
       "Alpha Wave Ventures                               1\n",
       "Plutus Wealth                                     1\n",
       "Netcore Cloud                                     1\n",
       "Elevation                                         1\n",
       "NewQuest Capital Partners                         1\n",
       "Amit Lakhotia                                     1\n",
       "Mark Cuban                                        1\n",
       "BAce Capital                                      1\n",
       "Marquee fintech founders                          1\n",
       "Disrupt ADQ                                       1\n",
       "OAKS Asset Management                             1\n",
       "Investcorp                                        1\n",
       "Ajith Daneil                                      1\n",
       "Entrepreneur First (EF)                           1\n",
       "SARA ELGI                                         1\n",
       "Jinisha Sharma                                    1\n",
       "Rohit Goutamchand                                 1\n",
       "Rajesh Agarwal                                    1\n",
       "InCred Financial Services                         1\n",
       "Bon Angels Venture Partners                       1\n",
       "Sabre Partners                                    1\n",
       "GAWA Capital                                      1\n",
       "Gaurav Munjal                                     1\n",
       "Darq Capital                                      1\n",
       "Kae Capital                                       1\n",
       "Dinesh Agarwal                                    1\n",
       "Ambiga Subramanian                                1\n",
       "SucSEED Indovation                                1\n",
       "Quadria Capital                                   1\n",
       "Raj Nair                                          1\n",
       "Rachit Poddar                                     1\n",
       "BlueOrchard Impact Investment Managers            1\n",
       "N+1 Capital                                       1\n",
       "Blacksoil                                         1\n",
       "Goat Capital                                      1\n",
       "Sequoia Capital                                   1\n",
       "Sojitz Corporation                                1\n",
       "Prashasta Seth                                    1\n",
       "SAIF Partners                                     1\n",
       "Tanglin Ventures                                  1\n",
       "Shrishti Sahu                                     1\n",
       "GSF                                               1\n",
       "Sequoia Surge                                     1\n",
       "Jupiter                                           1\n",
       "Aryaman Vir                                       1\n",
       "Ronnie Screwvala                                  1\n",
       "GSV Ventures                                      1\n",
       "Covalent                                          1\n",
       "Ten Innovate                                      1\n",
       "Responsibility                                    1\n",
       "Techstars                                         1\n",
       "Ramakant Sharma                                   1\n",
       "Arvind Venugopal Nair                             1\n",
       "IDFC Private Equity                               1\n",
       "WEH Ventures                                      1\n",
       "Supriya Kumari                                    1\n",
       "ITI Growth Opportunities                          1\n",
       "Eclear Leasing                                    1\n",
       "enture Catalyst                                   1\n",
       "Gojo & Company                                    1\n",
       "Yatra Angel Network                               1\n",
       "Zoho                                              1\n",
       "SternAegis Ventures                               1\n",
       "Verlinvest                                        1\n",
       "Season Two Ventures                               1\n",
       "Singapore Angel Network                           1\n",
       "Smallcase                                         1\n",
       "Manuvel Malabar Jewellers                         1\n",
       "Incofin’s India Progress Fund                     1\n",
       "Shireen Rangaswamy                                1\n",
       "AdvantEdge Founders                               1\n",
       "GUSEC Seed Fund                                   1\n",
       "Qualcomm Ventures                                 1\n",
       "View Trade Holding Corp                           1\n",
       "Capital One                                       1\n",
       "Vivek Vaidya                                      1\n",
       "Harsh Jain                                        1\n",
       "Rajesh Rajendran                                  1\n",
       "Lightspeed Venture Partners                       1\n",
       "BASF Venture Capital GmbH                         1\n",
       "Dia Mirza                                         1\n",
       "Pritt Investment Partners                         1\n",
       "Vaibhav Domkundwar                                1\n",
       "India Accelerator’s Angel Investor Network        1\n",
       "Bain Capital                                      1\n",
       "BLinC Invest                                      1\n",
       "Octahedron Capital                                1\n",
       "Trifecta Capital                                  1\n",
       "Kieretsu Forum                                    1\n",
       "TVS Motor                                         1\n",
       "GVFL                                              1\n",
       "Dream Capital                                     1\n",
       "Ocean View Investment                             1\n",
       "Lightbox                                          1\n",
       "S Chand                                           1\n",
       "Hitesh Oberoi                                     1\n",
       "Pi Ventures LLP                                   1\n",
       "Mike Novogratz                                    1\n",
       "Jani Ventures INC                                 1\n",
       "Hardcastle Petrofer                               1\n",
       "ADM Capital                                       1\n",
       "Sweta Rau                                         1\n",
       "Pankaj Chaddah                                    1\n",
       "SoftBank Vision Fund                              1\n",
       "Ashok Goyal                                       1\n",
       "Nvidia Inception                                  1\n",
       "YES Bank                                          1\n",
       "Kedaara                                           1\n",
       "WorldBusiness Capital                             1\n",
       "Qualgro                                           1\n",
       "Paradigm Shift Capital                            1\n",
       "Nitin Passi                                       1\n",
       "Vitol                                             1\n",
       "International Finance Corporation                 1\n",
       "The Treasury                                      1\n",
       "Potencia Ventures                                 1\n",
       "Anas Rahman Junaid                                1\n",
       "India Angel Network                               1\n",
       "Kotak Mahindra Bank                               1\n",
       "Ecosystem Ventures                                1\n",
       "Iron Pillar                                       1\n",
       "MaGEHold Pte. Ltd.                                1\n",
       "Novo Tellus Capital                               1\n",
       "Zerodha's Rainmatter Capital                      1\n",
       "RouteOne                                          1\n",
       "Lok Capital                                       1\n",
       "Callapina Capital                                 1\n",
       "Sistema Asia Capital                              1\n",
       "Habitat for Humanity International                1\n",
       "Tree Line Investment Management                   1\n",
       "Pearl Investment LLC                              1\n",
       "Alpine Capital                                    1\n",
       "Aurum Proptech                                    1\n",
       "GSF Accelerator                                   1\n",
       "Trifecta Capital Advisors                         1\n",
       "Pradeep K Jaisingh                                1\n",
       "Paytm                                             1\n",
       "Wipro venture capital arm                         1\n",
       "TCN International Commerce                        1\n",
       "Ritu Marya Family Office.                         1\n",
       "Triodos Investment Management                     1\n",
       "State Bank of India                               1\n",
       "Riteesh Mohan Bakshi                              1\n",
       "Jetty Ventures                                    1\n",
       "Healthcare veterans                               1\n",
       "India Infoline Finance                            1\n",
       "Sofina Ventures SA                                1\n",
       "GSV                                               1\n",
       "Quess Corp India                                  1\n",
       "Micelio Fund                                      1\n",
       "Bhavin Turakhia                                   1\n",
       "Infoedge ventures                                 1\n",
       "Glade Brook Capital                               1\n",
       "$Undisclosed                                      1\n",
       "Guild Capital                                     1\n",
       "Sanchit Agarwal                                   1\n",
       "Greenoaks Capital                                 1\n",
       "BlackRock                                         1\n",
       "ScoopWhoop                                        1\n",
       "Lee Fixel’s venture capital firm                  1\n",
       "Griffin Gaming Partners                           1\n",
       "HOF Capital                                       1\n",
       "Recur Club                                        1\n",
       "Transworld Group                                  1\n",
       "Astra Ventures                                    1\n",
       "Michael & Susan Dell Foundation                   1\n",
       "HNIs                                              1\n",
       "Canbank Venture Capital Fund                      1\n",
       "Avon Cycles                                       1\n",
       "BlackSoil Capital                                 1\n",
       "MaGEHold                                          1\n",
       "Stanford Angels and Entrepreneurs India           1\n",
       "Morgan Stanley                                    1\n",
       "Zephyr Peacock                                    1\n",
       "Paradigm                                          1\n",
       "Dragoneer Investment Group                        1\n",
       "Jyoti Bansal                                      1\n",
       "Binance Labs                                      1\n",
       "Alia Bhatt                                        1\n",
       "SucSEED  Indovation Fund                          1\n",
       "ACPI Investments                                  1\n",
       "Agility Venture Partners                          1\n",
       "Raintree Family Office                            1\n",
       "100x.vc                                           1\n",
       "SIG                                               1\n",
       "March Capital                                     1\n",
       "Apis Insurtech Fund I                             1\n",
       "First Cheque                                      1\n",
       "Liberatha Kallat                                  1\n",
       "Anup Kumar Yama                                   1\n",
       "Ashish Hemrajani                                  1\n",
       "Hindustan Media Ventures                          1\n",
       "Hornbill Capital Advisers                         1\n",
       "Point One Capital                                 1\n",
       "Infosys                                           1\n",
       "Real Estate Accelerator Program (REAP)            1\n",
       "Jimmy Singh                                       1\n",
       "IIFL Asset Management                             1\n",
       "Kohlberg Kravis Roberts                           1\n",
       "Amit Singhal                                      1\n",
       "Docprime Technologies                             1\n",
       "India Quotient                                    1\n",
       "Legatum Capital                                   1\n",
       "Amrac Investment Trust                            1\n",
       "velocity.in                                       1\n",
       "Fluid Ventures                                    1\n",
       "Rishi Kumar Bagla                                 1\n",
       "Avataar Venture Partners                          1\n",
       "Aavishkaar Venture Capital                        1\n",
       "Tuscan Ventures                                   1\n",
       "C4D Partners                                      1\n",
       "Gunosy                                            1\n",
       "TNF Ventures                                      1\n",
       "Shuru Up                                          1\n",
       "Prime VP                                          1\n",
       "Sofina                                            1\n",
       "Awign Enterprises                                 1\n",
       "Shark Tank India                                  1\n",
       "ITI Growth Opportunities Fund                     1\n",
       "YourNest Venture Capital                          1\n",
       "100x Entrepreneurs                                1\n",
       "Angelbay Holdings                                 1\n",
       "ADB Ventures                                      1\n",
       "Sujeet Kumar                                      1\n",
       "Ashwini Kakkar. 9Unicorns                         1\n",
       "Morgan Stanley Private Equity Asia                1\n",
       "Norwest Venture Partners                          1\n",
       "Petronas Ventures                                 1\n",
       "Twitter Ventures                                  1\n",
       "Xponentia Capital Partners                        1\n",
       "Sunil Kumar Singhvi                               1\n",
       "Keiretsu Forum                                    1\n",
       "SRI Capital                                       1\n",
       "Mount Judi India Growth Fund                      1\n",
       "MAS Financial Services                            1\n",
       "Aqua-Spark                                        1\n",
       "SucSEED Venture Partners                          1\n",
       "TransUnion                                        1\n",
       "Centrum Financial Services                        1\n",
       "Starfish Growth Partners                          1\n",
       "Cholamandalam                                     1\n",
       "Siddharth Bhaskar Shah                            1\n",
       "Baring Private Equity Partners India              1\n",
       "InfoEdge Ventures                                 1\n",
       "Aditya Duggar                                     1\n",
       "Induslaw                                          1\n",
       "Nadir B Godrej                                    1\n",
       "Learn Capital                                     1\n",
       "Canaan Valley Capital                             1\n",
       "Auxano Capital                                    1\n",
       "Trishneet Arora                                   1\n",
       "Jayanti Kanani                                    1\n",
       "Brex                                              1\n",
       "Norfund                                           1\n",
       "NEVF                                              1\n",
       "Incubate Fund India                               1\n",
       "ContCentric                                       1\n",
       "Marquee international institutional investors     1\n",
       "Impact Partners                                   1\n",
       "Saama Capital﻿                                    1\n",
       "Mechanism Capital                                 1\n",
       "Axilor Ventures                                   1\n",
       "Kvanto Payment Services                           1\n",
       "Yamaha Motors                                     1\n",
       "Harsha Bhogle                                     1\n",
       "Iconiq Growth                                     1\n",
       "Pritesh Kumar                                     1\n",
       "Artha Venture Fund                                1\n",
       "Roshan Abbas                                      1\n",
       "Akash Prakash                                     1\n",
       "Chaitanya Kalipatnapu                             1\n",
       "Amit Singal                                       1\n",
       "Sonu Nigam                                        1\n",
       "Pavestone Ventures                                1\n",
       "Artha India Ventures                              1\n",
       "Appit Simple Infotek                              1\n",
       "Sachin Tendulkar                                  1\n",
       "Campus Fund                                       1\n",
       "Radiant Life Care Private Ltd                     1\n",
       "CreedCap Asia Advisors                            1\n",
       "Siti Cable                                        1\n",
       "PayU                                              1\n",
       "Jaipuria Family Office                            1\n",
       "Stride Ventures                                   1\n",
       "1Crowd                                            1\n",
       "M2P Fintech                                       1\n",
       "GEF Capital’s South Asia Fund                     1\n",
       "The Good Glamm Group                              1\n",
       "Baring PE India                                   1\n",
       "RP-Sanjiv Goenka Group                            1\n",
       "Prashant Pansare                                  1\n",
       "Y Combinator﻿                                     1\n",
       "Ashish Shah                                       1\n",
       "Vineet Singh                                      1\n",
       "Krafton Inc                                       1\n",
       "Moore Strategic Ventures                          1\n",
       "responsAbility Investments                        1\n",
       "Mirae Asset                                       1\n",
       "IIFL﻿                                             1\n",
       "Ka Enterprises                                    1\n",
       "The Xander Group                                  1\n",
       "Bank of Baroda                                    1\n",
       "Dream Sports                                      1\n",
       "Blackstone Group                                  1\n",
       "Gurj Aujla                                        1\n",
       "Rocketship.vc                                     1\n",
       "Prime Securities Limited                          1\n",
       "Hyperplane Venture Capital                        1\n",
       "Vulcan Capital                                    1\n",
       "Curesense Therapeutics                            1\n",
       "Zone Startups In                                  1\n",
       "Siguler Guff                                      1\n",
       "Gaurav Gupta                                      1\n",
       "Pentathlon Ventures                               1\n",
       "Rajan Anadan                                      1\n",
       "Dhianu Das                                        1\n",
       "Susquehanna International Group                   1\n",
       "Satish Grampurohit                                1\n",
       "Kogta Financial India Limited                     1\n",
       "Avendus                                           1\n",
       "Kotak Investment Advisors Limited                 1\n",
       "Uday Sodhi                                        1\n",
       "Owl Ventures                                      1\n",
       "Spanache                                          1\n",
       "Falcon Edge India                                 1\n",
       "Cure.fit                                          1\n",
       "Shell Ventures                                    1\n",
       "Nueva                                             1\n",
       "Fresco Capital                                    1\n",
       "Ramp                                              1\n",
       "Kunal Sarkar                                      1\n",
       "Invus                                             1\n",
       "SK Tripathi                                       1\n",
       "Kora Capital                                      1\n",
       "Dallas Venture Capital                            1\n",
       "Pravega Ventures                                  1\n",
       "Alok Kohli                                        1\n",
       "Carmignac                                         1\n",
       "Indovation Fund                                   1\n",
       "Roots Ventures                                    1\n",
       "JSW Ventures                                      1\n",
       "Quona Capital                                     1\n",
       "Family Office of Kantamaneni                      1\n",
       "The Chennai Angels                                1\n",
       "Riso Capital                                      1\n",
       "Mount Judi Ventures                               1\n",
       "YourNest                                          1\n",
       "Rukam Capital                                     1\n",
       "YourNest VC                                       1\n",
       "MyAsia VC                                         1\n",
       "Alphabit Fund                                     1\n",
       "Kotak Securities                                  1\n",
       "Ashv Finance                                      1\n",
       "ABC World Asia                                    1\n",
       "Somak Ghosh                                       1\n",
       "Xentel Investments                                1\n",
       "Zip Co                                            1\n",
       "Safe Planet Medicare                              1\n",
       "StartupXseed Ventures                             1\n",
       "Acko Technology                                   1\n",
       "Edge Ventures                                     1\n",
       "Capital A                                         1\n",
       "Republic Crypto                                   1\n",
       "Stakeboat Capital                                 1\n",
       "Jesse Lucas                                       1\n",
       "Crossbeam Venture Partners                        1\n",
       "Oasis Capital                                     1\n",
       "Prosus Ventures                                   1\n",
       "Joseph Joy                                        1\n",
       "Let’s Venture                                     1\n",
       "Ashish Jain                                       1\n",
       "Deep Kalra                                        1\n",
       "Invested Development                              1\n",
       "The StarupLab                                     1\n",
       "Oikocredit                                        1\n",
       "Faad Network                                      1\n",
       "Anil Thadani                                      1\n",
       "Plutus Wealth Management                          1\n",
       "TCV                                               1\n",
       "iSeed                                             1\n",
       "CRV                                               1\n",
       "Zomato                                            1\n",
       "Ruchirans Jaipuria                                1\n",
       "T Choithrams BVI                                  1\n",
       "Sanjay Baldwa                                     1\n",
       "Sundi Natarajan                                   1\n",
       "Eight Roads Ventures India                        1\n",
       "Nubank                                            1\n",
       "Elevation Partners                                1\n",
       "BlueOrchard Finance S A                           1\n",
       "Falcon Edge Capital                               1\n",
       "Data Point Capital                                1\n",
       "Devesh Sachdev                                    1\n",
       "IIFL India Private Equity Fund                    1\n",
       "Arali Ventures                                    1\n",
       "Momentum 6                                        1\n",
       "STRIVE VC                                         1\n",
       "JAM                                               1\n",
       "Climate Angels Fund                               1\n",
       "EKKI                                              1\n",
       "Incofin                                           1\n",
       "Qatar Investment Authority                        1\n",
       "Virenxia Group                                    1\n",
       "Hashed                                            1\n",
       "Kumar Aakash                                      1\n",
       "Anand Prakash Sharma                              1\n",
       "Apoorva Sharma                                    1\n",
       "KRAFTON                                           1\n",
       "Reliance Digital Health                           1\n",
       "Akya Ventures                                     1\n",
       "Ribbit Capital                                    1\n",
       "Geekster                                          1\n",
       "Ascent Capital                                    1\n",
       "InCorp India                                      1\n",
       "VANS Group                                        1\n",
       "Goldman Sachs                                     1\n",
       "Lasons India                                      1\n",
       "Accor                                             1\n",
       "Leo Capital                                       1\n",
       "GoAhead Ventures                                  1\n",
       "Blockchain Capital                                1\n",
       "Ankit Mehrotra                                    1\n",
       "Zinnia Global                                     1\n",
       "SUNiCON Ventures                                  1\n",
       "Signal Peak Ventures                              1\n",
       "National Skill Development Corporation            1\n",
       "Microsoft                                         1\n",
       "Waterbridge                                       1\n",
       "Sunil Sethia                                      1\n",
       "Orbimed Asia Partners                             1\n",
       "Oxshott Capital Partners                          1\n",
       "Capital Group                                     1\n",
       "F-Prime Capital                                   1\n",
       "Bertelsmann India Investments                     1\n",
       "Rajesh Sud                                        1\n",
       "Kallol Banerjee                                   1\n",
       "Kayenne Ventures                                  1\n",
       "Blume                                             1\n",
       "Solana                                            1\n",
       "TheVentures                                       1\n",
       "Salesforce Ventures                               1\n",
       "Richard Rekhy                                     1\n",
       "Mapmyindia                                        1\n",
       "Vijayan                                           1\n",
       "ah! Ventures High Tables                          1\n",
       "SAB Holdings                                      1\n",
       "Hungama                                           1\n",
       "Name: Investor, dtype: int64"
      ]
     },
<<<<<<< HEAD
     "execution_count": 181,
=======
     "execution_count": 175,
>>>>>>> 43b96b4dfa7bddb17435e2b2cac05525a713e75a
     "metadata": {},
     "output_type": "execute_result"
    }
   ],
   "source": [
    "# Check \n",
    "\n",
    "data2021.Investor.value_counts()"
   ]
  },
  {
   "cell_type": "code",
<<<<<<< HEAD
   "execution_count": 182,
=======
   "execution_count": 176,
>>>>>>> 43b96b4dfa7bddb17435e2b2cac05525a713e75a
   "metadata": {},
   "outputs": [
    {
     "data": {
      "text/plain": [
       "0"
      ]
     },
<<<<<<< HEAD
     "execution_count": 182,
=======
     "execution_count": 176,
>>>>>>> 43b96b4dfa7bddb17435e2b2cac05525a713e75a
     "metadata": {},
     "output_type": "execute_result"
    }
   ],
   "source": [
    "# Get the number of null values in the investor column\n",
    "data2021['Investor'].isnull().sum()"
   ]
  },
  {
   "cell_type": "code",
<<<<<<< HEAD
   "execution_count": 183,
=======
   "execution_count": 177,
>>>>>>> 43b96b4dfa7bddb17435e2b2cac05525a713e75a
   "metadata": {},
   "outputs": [
    {
     "data": {
      "text/plain": [
       "0        AI startup\n",
       "1            EdTech\n",
       "2            EdTech\n",
       "3    B2B E-commerce\n",
       "4           FinTech\n",
       "5     Home services\n",
       "6        HealthTech\n",
       "7        HealthTech\n",
       "8      Tech Startup\n",
       "9        E-commerce\n",
       "Name: Sector, dtype: object"
      ]
     },
<<<<<<< HEAD
     "execution_count": 183,
=======
     "execution_count": 177,
>>>>>>> 43b96b4dfa7bddb17435e2b2cac05525a713e75a
     "metadata": {},
     "output_type": "execute_result"
    }
   ],
   "source": [
    "data2021['Sector'].head(10)"
   ]
  },
  {
   "cell_type": "code",
<<<<<<< HEAD
   "execution_count": 184,
=======
   "execution_count": 178,
>>>>>>> 43b96b4dfa7bddb17435e2b2cac05525a713e75a
   "metadata": {},
   "outputs": [
    {
     "data": {
      "text/plain": [
       "Index(['Company_Brand', 'Founded', 'HeadQuarter', 'Sector', 'What_it_does',\n",
       "       'Founders', 'Investor', 'Amount', 'Stage', 'Year Funded'],\n",
       "      dtype='object')"
      ]
     },
<<<<<<< HEAD
     "execution_count": 184,
=======
     "execution_count": 178,
>>>>>>> 43b96b4dfa7bddb17435e2b2cac05525a713e75a
     "metadata": {},
     "output_type": "execute_result"
    }
   ],
   "source": [
    "data2021.columns # Get columns of data2021"
   ]
  },
  {
   "cell_type": "code",
<<<<<<< HEAD
   "execution_count": 185,
=======
   "execution_count": 179,
>>>>>>> 43b96b4dfa7bddb17435e2b2cac05525a713e75a
   "metadata": {},
   "outputs": [],
   "source": [
    "# Rename columns\n",
    "\n",
    "data2021.rename(columns={'Company_Brand':'Company Name',\n",
    "                         'Founded': 'Year Established',\n",
    "                         'HeadQuarter': 'Location',\n",
    "                         'Sector': 'Industry',\n",
    "                         'What_it_does': 'Company Description',\n",
    "                         'Stage': 'Round/Series'}, inplace=True)"
   ]
  },
  {
   "cell_type": "code",
<<<<<<< HEAD
   "execution_count": 186,
=======
   "execution_count": 180,
>>>>>>> 43b96b4dfa7bddb17435e2b2cac05525a713e75a
   "metadata": {},
   "outputs": [
    {
     "data": {
      "text/plain": [
       "Index(['Company Name', 'Year Established', 'Location', 'Industry',\n",
       "       'Company Description', 'Founders', 'Investor', 'Amount', 'Round/Series',\n",
       "       'Year Funded'],\n",
       "      dtype='object')"
      ]
     },
<<<<<<< HEAD
     "execution_count": 186,
=======
     "execution_count": 180,
>>>>>>> 43b96b4dfa7bddb17435e2b2cac05525a713e75a
     "metadata": {},
     "output_type": "execute_result"
    }
   ],
   "source": [
    "data2021.columns # Check the renaming"
   ]
  },
  {
   "cell_type": "code",
<<<<<<< HEAD
   "execution_count": 187,
=======
   "execution_count": 181,
>>>>>>> 43b96b4dfa7bddb17435e2b2cac05525a713e75a
   "metadata": {},
   "outputs": [
    {
     "data": {
      "text/plain": [
       "Company Name           0\n",
       "Year Established       0\n",
       "Location               1\n",
       "Industry               0\n",
       "Company Description    0\n",
       "Founders               4\n",
       "Investor               0\n",
       "Amount                 0\n",
       "Round/Series           0\n",
       "Year Funded            0\n",
       "dtype: int64"
      ]
     },
<<<<<<< HEAD
     "execution_count": 187,
=======
     "execution_count": 181,
>>>>>>> 43b96b4dfa7bddb17435e2b2cac05525a713e75a
     "metadata": {},
     "output_type": "execute_result"
    }
   ],
   "source": [
    "data2021.isnull().sum()  # Get number of nulls in data2021"
   ]
  },
  {
   "cell_type": "code",
<<<<<<< HEAD
   "execution_count": 188,
=======
   "execution_count": 182,
>>>>>>> 43b96b4dfa7bddb17435e2b2cac05525a713e75a
   "metadata": {},
   "outputs": [],
   "source": [
    "# Drop the 'Founders' column and introduce another column.....year_funded\n",
    "\n",
    "data2021.drop('Founders', axis=1, inplace=True)\n",
    "\n",
    "data2021['Year Funded'] = 2021"
   ]
  },
  {
   "cell_type": "code",
<<<<<<< HEAD
   "execution_count": 189,
=======
   "execution_count": 183,
>>>>>>> 43b96b4dfa7bddb17435e2b2cac05525a713e75a
   "metadata": {},
   "outputs": [
    {
     "data": {
      "text/plain": [
       "Company Name           0\n",
       "Year Established       0\n",
       "Location               1\n",
       "Industry               0\n",
       "Company Description    0\n",
       "Investor               0\n",
       "Amount                 0\n",
       "Round/Series           0\n",
       "Year Funded            0\n",
       "dtype: int64"
      ]
     },
<<<<<<< HEAD
     "execution_count": 189,
=======
     "execution_count": 183,
>>>>>>> 43b96b4dfa7bddb17435e2b2cac05525a713e75a
     "metadata": {},
     "output_type": "execute_result"
    }
   ],
   "source": [
    "data2021.isnull().sum()"
   ]
  }
 ],
 "metadata": {
  "kernelspec": {
   "display_name": "learn-env",
   "language": "python",
   "name": "python3"
  },
  "language_info": {
   "codemirror_mode": {
    "name": "ipython",
    "version": 3
   },
   "file_extension": ".py",
   "mimetype": "text/x-python",
   "name": "python",
   "nbconvert_exporter": "python",
   "pygments_lexer": "ipython3",
   "version": "3.8.5"
  },
  "orig_nbformat": 4
 },
 "nbformat": 4,
 "nbformat_minor": 2
}
