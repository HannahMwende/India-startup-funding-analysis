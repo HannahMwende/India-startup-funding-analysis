{
 "cells": [
  {
   "attachments": {},
   "cell_type": "markdown",
   "metadata": {},
   "source": [
    "# Analysis of Funding Received by Start-ups in India from 2018 to 2021\n",
    "\n",
    "## 1. Business Understanding\n",
    "\n",
    "### 1.1 Project Description\n",
    "This data analysis project focuses on the funding received by start-ups in India from 2018 to 2021. The objective is to gain insights into the Indian start-up ecosystem and propose the best course of action for our team's venture. By analyzing the data on funding amounts, start-up details, and investor information, we aim to unearth prevailing patterns and gain insights about the opportunities in India's start-up ecosystem to inform decision-making.\n",
    "\n",
    "### 1.2 The type of the problem\n",
    "This project is of the exploratory data analytics and visualization type as it is our aim to deduce hidden insights and patterns from the available data.\n",
    "\n",
    "\n",
    "\n",
    "## 2. Data understanding\n",
    "The data used in this project was sampled from different start-up companies in India. It contains funding history for the period 2018 - 2021. The data was obtained from 4 datasets."
   ]
  },
  {
   "attachments": {},
   "cell_type": "markdown",
   "metadata": {},
   "source": [
    "## 3. Data preparation\n",
    "### 3.1 Installing and importing libraries"
   ]
  },
  {
   "cell_type": "code",
   "execution_count": 2,
   "metadata": {},
   "outputs": [
    {
     "name": "stdout",
     "output_type": "stream",
     "text": [
      "Requirement already satisfied: pyodbc in c:\\users\\hp\\anaconda3\\lib\\site-packages (4.0.34)\n",
      "Note: you may need to restart the kernel to use updated packages.\n",
      "Requirement already satisfied: python-dotenv in c:\\users\\hp\\anaconda3\\lib\\site-packages (1.0.0)\n",
      "Note: you may need to restart the kernel to use updated packages.\n",
      "Requirement already satisfied: fuzzywuzzy in c:\\users\\hp\\anaconda3\\lib\\site-packages (0.18.0)\n",
      "Note: you may need to restart the kernel to use updated packages.\n"
     ]
    }
   ],
   "source": [
    "%pip install pyodbc  \n",
    "%pip install python-dotenv \n",
    "%pip install fuzzywuzzy"
   ]
  },
  {
   "cell_type": "code",
   "execution_count": 3,
   "metadata": {},
   "outputs": [
    {
     "name": "stderr",
     "output_type": "stream",
     "text": [
      "c:\\Users\\hp\\anaconda3\\lib\\site-packages\\fuzzywuzzy\\fuzz.py:11: UserWarning: Using slow pure-python SequenceMatcher. Install python-Levenshtein to remove this warning\n",
      "  warnings.warn('Using slow pure-python SequenceMatcher. Install python-Levenshtein to remove this warning')\n"
     ]
    }
   ],
   "source": [
    "import pyodbc\n",
    "from dotenv import dotenv_values \n",
    "\n",
    "# Analysis libraries\n",
    "import pandas as pd \n",
    "import numpy as np\n",
    "from sklearn.impute import SimpleImputer\n",
    "import re\n",
    "import datetime\n",
    "from datetime import datetime\n",
    "from fuzzywuzzy import fuzz\n",
    "from fuzzywuzzy import process\n",
    "\n",
    "# Visualization libraries\n",
    "import matplotlib.pyplot as plt\n",
    "%matplotlib inline\n",
    "import seaborn as sns\n",
    "# Warning libraries\n",
    "import warnings\n",
    "warnings.filterwarnings('ignore')"
   ]
  },
  {
   "attachments": {},
   "cell_type": "markdown",
   "metadata": {},
   "source": [
    "### 3.2 Loading data"
   ]
  },
  {
   "cell_type": "code",
   "execution_count": 4,
   "metadata": {},
   "outputs": [
    {
     "data": {
      "text/html": [
       "<div>\n",
       "<style scoped>\n",
       "    .dataframe tbody tr th:only-of-type {\n",
       "        vertical-align: middle;\n",
       "    }\n",
       "\n",
       "    .dataframe tbody tr th {\n",
       "        vertical-align: top;\n",
       "    }\n",
       "\n",
       "    .dataframe thead th {\n",
       "        text-align: right;\n",
       "    }\n",
       "</style>\n",
       "<table border=\"1\" class=\"dataframe\">\n",
       "  <thead>\n",
       "    <tr style=\"text-align: right;\">\n",
       "      <th></th>\n",
       "      <th>Company Name</th>\n",
       "      <th>Industry</th>\n",
       "      <th>Round/Series</th>\n",
       "      <th>Amount</th>\n",
       "      <th>Location</th>\n",
       "      <th>About Company</th>\n",
       "    </tr>\n",
       "  </thead>\n",
       "  <tbody>\n",
       "    <tr>\n",
       "      <th>0</th>\n",
       "      <td>TheCollegeFever</td>\n",
       "      <td>Brand Marketing, Event Promotion, Marketing, S...</td>\n",
       "      <td>Seed</td>\n",
       "      <td>250000</td>\n",
       "      <td>Bangalore, Karnataka, India</td>\n",
       "      <td>TheCollegeFever is a hub for fun, fiesta and f...</td>\n",
       "    </tr>\n",
       "    <tr>\n",
       "      <th>1</th>\n",
       "      <td>Happy Cow Dairy</td>\n",
       "      <td>Agriculture, Farming</td>\n",
       "      <td>Seed</td>\n",
       "      <td>₹40,000,000</td>\n",
       "      <td>Mumbai, Maharashtra, India</td>\n",
       "      <td>A startup which aggregates milk from dairy far...</td>\n",
       "    </tr>\n",
       "    <tr>\n",
       "      <th>2</th>\n",
       "      <td>MyLoanCare</td>\n",
       "      <td>Credit, Financial Services, Lending, Marketplace</td>\n",
       "      <td>Series A</td>\n",
       "      <td>₹65,000,000</td>\n",
       "      <td>Gurgaon, Haryana, India</td>\n",
       "      <td>Leading Online Loans Marketplace in India</td>\n",
       "    </tr>\n",
       "    <tr>\n",
       "      <th>3</th>\n",
       "      <td>PayMe India</td>\n",
       "      <td>Financial Services, FinTech</td>\n",
       "      <td>Angel</td>\n",
       "      <td>2000000</td>\n",
       "      <td>Noida, Uttar Pradesh, India</td>\n",
       "      <td>PayMe India is an innovative FinTech organizat...</td>\n",
       "    </tr>\n",
       "    <tr>\n",
       "      <th>4</th>\n",
       "      <td>Eunimart</td>\n",
       "      <td>E-Commerce Platforms, Retail, SaaS</td>\n",
       "      <td>Seed</td>\n",
       "      <td>—</td>\n",
       "      <td>Hyderabad, Andhra Pradesh, India</td>\n",
       "      <td>Eunimart is a one stop solution for merchants ...</td>\n",
       "    </tr>\n",
       "  </tbody>\n",
       "</table>\n",
       "</div>"
      ],
      "text/plain": [
       "      Company Name                                           Industry  \\\n",
       "0  TheCollegeFever  Brand Marketing, Event Promotion, Marketing, S...   \n",
       "1  Happy Cow Dairy                               Agriculture, Farming   \n",
       "2       MyLoanCare   Credit, Financial Services, Lending, Marketplace   \n",
       "3      PayMe India                        Financial Services, FinTech   \n",
       "4         Eunimart                 E-Commerce Platforms, Retail, SaaS   \n",
       "\n",
       "  Round/Series       Amount                          Location  \\\n",
       "0         Seed       250000       Bangalore, Karnataka, India   \n",
       "1         Seed  ₹40,000,000        Mumbai, Maharashtra, India   \n",
       "2     Series A  ₹65,000,000           Gurgaon, Haryana, India   \n",
       "3        Angel      2000000       Noida, Uttar Pradesh, India   \n",
       "4         Seed            —  Hyderabad, Andhra Pradesh, India   \n",
       "\n",
       "                                       About Company  \n",
       "0  TheCollegeFever is a hub for fun, fiesta and f...  \n",
       "1  A startup which aggregates milk from dairy far...  \n",
       "2          Leading Online Loans Marketplace in India  \n",
       "3  PayMe India is an innovative FinTech organizat...  \n",
       "4  Eunimart is a one stop solution for merchants ...  "
      ]
     },
     "execution_count": 4,
     "metadata": {},
     "output_type": "execute_result"
    }
   ],
   "source": [
    "data2018 = pd.read_csv('data/startup_funding2018.csv')\n",
    "data2018.head()"
   ]
  },
  {
   "cell_type": "code",
   "execution_count": 5,
   "metadata": {},
   "outputs": [
    {
     "data": {
      "text/html": [
       "<div>\n",
       "<style scoped>\n",
       "    .dataframe tbody tr th:only-of-type {\n",
       "        vertical-align: middle;\n",
       "    }\n",
       "\n",
       "    .dataframe tbody tr th {\n",
       "        vertical-align: top;\n",
       "    }\n",
       "\n",
       "    .dataframe thead th {\n",
       "        text-align: right;\n",
       "    }\n",
       "</style>\n",
       "<table border=\"1\" class=\"dataframe\">\n",
       "  <thead>\n",
       "    <tr style=\"text-align: right;\">\n",
       "      <th></th>\n",
       "      <th>Company/Brand</th>\n",
       "      <th>Founded</th>\n",
       "      <th>HeadQuarter</th>\n",
       "      <th>Sector</th>\n",
       "      <th>What it does</th>\n",
       "      <th>Founders</th>\n",
       "      <th>Investor</th>\n",
       "      <th>Amount($)</th>\n",
       "      <th>Stage</th>\n",
       "    </tr>\n",
       "  </thead>\n",
       "  <tbody>\n",
       "    <tr>\n",
       "      <th>0</th>\n",
       "      <td>Bombay Shaving</td>\n",
       "      <td>NaN</td>\n",
       "      <td>NaN</td>\n",
       "      <td>Ecommerce</td>\n",
       "      <td>Provides a range of male grooming products</td>\n",
       "      <td>Shantanu Deshpande</td>\n",
       "      <td>Sixth Sense Ventures</td>\n",
       "      <td>$6,300,000</td>\n",
       "      <td>NaN</td>\n",
       "    </tr>\n",
       "    <tr>\n",
       "      <th>1</th>\n",
       "      <td>Ruangguru</td>\n",
       "      <td>2014.0</td>\n",
       "      <td>Mumbai</td>\n",
       "      <td>Edtech</td>\n",
       "      <td>A learning platform that provides topic-based ...</td>\n",
       "      <td>Adamas Belva Syah Devara, Iman Usman.</td>\n",
       "      <td>General Atlantic</td>\n",
       "      <td>$150,000,000</td>\n",
       "      <td>Series C</td>\n",
       "    </tr>\n",
       "    <tr>\n",
       "      <th>2</th>\n",
       "      <td>Eduisfun</td>\n",
       "      <td>NaN</td>\n",
       "      <td>Mumbai</td>\n",
       "      <td>Edtech</td>\n",
       "      <td>It aims to make learning fun via games.</td>\n",
       "      <td>Jatin Solanki</td>\n",
       "      <td>Deepak Parekh, Amitabh Bachchan, Piyush Pandey</td>\n",
       "      <td>$28,000,000</td>\n",
       "      <td>Fresh funding</td>\n",
       "    </tr>\n",
       "    <tr>\n",
       "      <th>3</th>\n",
       "      <td>HomeLane</td>\n",
       "      <td>2014.0</td>\n",
       "      <td>Chennai</td>\n",
       "      <td>Interior design</td>\n",
       "      <td>Provides interior designing solutions</td>\n",
       "      <td>Srikanth Iyer, Rama Harinath</td>\n",
       "      <td>Evolvence India Fund (EIF), Pidilite Group, FJ...</td>\n",
       "      <td>$30,000,000</td>\n",
       "      <td>Series D</td>\n",
       "    </tr>\n",
       "    <tr>\n",
       "      <th>4</th>\n",
       "      <td>Nu Genes</td>\n",
       "      <td>2004.0</td>\n",
       "      <td>Telangana</td>\n",
       "      <td>AgriTech</td>\n",
       "      <td>It is a seed company engaged in production, pr...</td>\n",
       "      <td>Narayana Reddy Punyala</td>\n",
       "      <td>Innovation in Food and Agriculture (IFA)</td>\n",
       "      <td>$6,000,000</td>\n",
       "      <td>NaN</td>\n",
       "    </tr>\n",
       "  </tbody>\n",
       "</table>\n",
       "</div>"
      ],
      "text/plain": [
       "    Company/Brand  Founded HeadQuarter           Sector  \\\n",
       "0  Bombay Shaving      NaN         NaN        Ecommerce   \n",
       "1       Ruangguru   2014.0      Mumbai           Edtech   \n",
       "2        Eduisfun      NaN      Mumbai           Edtech   \n",
       "3        HomeLane   2014.0     Chennai  Interior design   \n",
       "4        Nu Genes   2004.0   Telangana         AgriTech   \n",
       "\n",
       "                                        What it does  \\\n",
       "0         Provides a range of male grooming products   \n",
       "1  A learning platform that provides topic-based ...   \n",
       "2            It aims to make learning fun via games.   \n",
       "3              Provides interior designing solutions   \n",
       "4  It is a seed company engaged in production, pr...   \n",
       "\n",
       "                                Founders  \\\n",
       "0                     Shantanu Deshpande   \n",
       "1  Adamas Belva Syah Devara, Iman Usman.   \n",
       "2                          Jatin Solanki   \n",
       "3           Srikanth Iyer, Rama Harinath   \n",
       "4                 Narayana Reddy Punyala   \n",
       "\n",
       "                                            Investor     Amount($)  \\\n",
       "0                               Sixth Sense Ventures    $6,300,000   \n",
       "1                                   General Atlantic  $150,000,000   \n",
       "2     Deepak Parekh, Amitabh Bachchan, Piyush Pandey   $28,000,000   \n",
       "3  Evolvence India Fund (EIF), Pidilite Group, FJ...   $30,000,000   \n",
       "4           Innovation in Food and Agriculture (IFA)    $6,000,000   \n",
       "\n",
       "           Stage  \n",
       "0            NaN  \n",
       "1       Series C  \n",
       "2  Fresh funding  \n",
       "3       Series D  \n",
       "4            NaN  "
      ]
     },
     "execution_count": 5,
     "metadata": {},
     "output_type": "execute_result"
    }
   ],
   "source": [
    "data_2019 = pd.read_csv('data/startup_funding2019.csv')\n",
    "data_2019.head()"
   ]
  },
  {
   "cell_type": "code",
   "execution_count": 6,
   "metadata": {},
   "outputs": [],
   "source": [
    "# Load environment variables from .env file into a dictionary\n",
    "environment_variables = dotenv_values('.env')\n",
    "\n",
    "\n",
    "# Get the values for the credentials you set in the '.env' file\n",
    "database = environment_variables.get(\"DATABASE\")\n",
    "server = environment_variables.get(\"SERVER\")\n",
    "username = environment_variables.get(\"USERNAME\")\n",
    "password = environment_variables.get(\"PASSWORD\")\n",
    "\n",
    "\n",
    "connection_string = f\"DRIVER={{SQL Server}};SERVER={server};DATABASE={database};UID={username};PWD={password}\""
   ]
  },
  {
   "cell_type": "code",
   "execution_count": 7,
   "metadata": {},
   "outputs": [],
   "source": [
    "# Use the connect method of the pyodbc library and pass in the connection string.\n",
    "# This will connect to the server and might take a few seconds to be complete. \n",
    "# Check your internet connection if it takes more time than necessary\n",
    "\n",
    "connection = pyodbc.connect(connection_string)"
   ]
  },
  {
   "cell_type": "code",
   "execution_count": 8,
   "metadata": {},
   "outputs": [],
   "source": [
    "# Now the sql query to get the data is what what you see below. \n",
    "# Note that you will not have permissions to insert delete or update this database table. \n",
    "\n",
    "query = \"Select * from dbo.LP1_startup_funding2020\"\n",
    "data2020 = pd.read_sql(query, connection)"
   ]
  },
  {
   "cell_type": "code",
   "execution_count": 9,
   "metadata": {},
   "outputs": [
    {
     "data": {
      "text/html": [
       "<div>\n",
       "<style scoped>\n",
       "    .dataframe tbody tr th:only-of-type {\n",
       "        vertical-align: middle;\n",
       "    }\n",
       "\n",
       "    .dataframe tbody tr th {\n",
       "        vertical-align: top;\n",
       "    }\n",
       "\n",
       "    .dataframe thead th {\n",
       "        text-align: right;\n",
       "    }\n",
       "</style>\n",
       "<table border=\"1\" class=\"dataframe\">\n",
       "  <thead>\n",
       "    <tr style=\"text-align: right;\">\n",
       "      <th></th>\n",
       "      <th>Company_Brand</th>\n",
       "      <th>Founded</th>\n",
       "      <th>HeadQuarter</th>\n",
       "      <th>Sector</th>\n",
       "      <th>What_it_does</th>\n",
       "      <th>Founders</th>\n",
       "      <th>Investor</th>\n",
       "      <th>Amount</th>\n",
       "      <th>Stage</th>\n",
       "      <th>column10</th>\n",
       "    </tr>\n",
       "  </thead>\n",
       "  <tbody>\n",
       "    <tr>\n",
       "      <th>0</th>\n",
       "      <td>Aqgromalin</td>\n",
       "      <td>2019.0</td>\n",
       "      <td>Chennai</td>\n",
       "      <td>AgriTech</td>\n",
       "      <td>Cultivating Ideas for Profit</td>\n",
       "      <td>Prasanna Manogaran, Bharani C L</td>\n",
       "      <td>Angel investors</td>\n",
       "      <td>200000.0</td>\n",
       "      <td>None</td>\n",
       "      <td>None</td>\n",
       "    </tr>\n",
       "    <tr>\n",
       "      <th>1</th>\n",
       "      <td>Krayonnz</td>\n",
       "      <td>2019.0</td>\n",
       "      <td>Bangalore</td>\n",
       "      <td>EdTech</td>\n",
       "      <td>An academy-guardian-scholar centric ecosystem ...</td>\n",
       "      <td>Saurabh Dixit, Gurudutt Upadhyay</td>\n",
       "      <td>GSF Accelerator</td>\n",
       "      <td>100000.0</td>\n",
       "      <td>Pre-seed</td>\n",
       "      <td>None</td>\n",
       "    </tr>\n",
       "    <tr>\n",
       "      <th>2</th>\n",
       "      <td>PadCare Labs</td>\n",
       "      <td>2018.0</td>\n",
       "      <td>Pune</td>\n",
       "      <td>Hygiene management</td>\n",
       "      <td>Converting bio-hazardous waste to harmless waste</td>\n",
       "      <td>Ajinkya Dhariya</td>\n",
       "      <td>Venture Center</td>\n",
       "      <td>NaN</td>\n",
       "      <td>Pre-seed</td>\n",
       "      <td>None</td>\n",
       "    </tr>\n",
       "    <tr>\n",
       "      <th>3</th>\n",
       "      <td>NCOME</td>\n",
       "      <td>2020.0</td>\n",
       "      <td>New Delhi</td>\n",
       "      <td>Escrow</td>\n",
       "      <td>Escrow-as-a-service platform</td>\n",
       "      <td>Ritesh Tiwari</td>\n",
       "      <td>Venture Catalysts, PointOne Capital</td>\n",
       "      <td>400000.0</td>\n",
       "      <td>None</td>\n",
       "      <td>None</td>\n",
       "    </tr>\n",
       "    <tr>\n",
       "      <th>4</th>\n",
       "      <td>Gramophone</td>\n",
       "      <td>2016.0</td>\n",
       "      <td>Indore</td>\n",
       "      <td>AgriTech</td>\n",
       "      <td>Gramophone is an AgTech platform enabling acce...</td>\n",
       "      <td>Ashish Rajan Singh, Harshit Gupta, Nishant Mah...</td>\n",
       "      <td>Siana Capital Management, Info Edge</td>\n",
       "      <td>340000.0</td>\n",
       "      <td>None</td>\n",
       "      <td>None</td>\n",
       "    </tr>\n",
       "  </tbody>\n",
       "</table>\n",
       "</div>"
      ],
      "text/plain": [
       "  Company_Brand  Founded HeadQuarter              Sector  \\\n",
       "0    Aqgromalin   2019.0     Chennai            AgriTech   \n",
       "1      Krayonnz   2019.0   Bangalore              EdTech   \n",
       "2  PadCare Labs   2018.0        Pune  Hygiene management   \n",
       "3         NCOME   2020.0   New Delhi              Escrow   \n",
       "4    Gramophone   2016.0      Indore            AgriTech   \n",
       "\n",
       "                                        What_it_does  \\\n",
       "0                       Cultivating Ideas for Profit   \n",
       "1  An academy-guardian-scholar centric ecosystem ...   \n",
       "2   Converting bio-hazardous waste to harmless waste   \n",
       "3                       Escrow-as-a-service platform   \n",
       "4  Gramophone is an AgTech platform enabling acce...   \n",
       "\n",
       "                                            Founders  \\\n",
       "0                    Prasanna Manogaran, Bharani C L   \n",
       "1                   Saurabh Dixit, Gurudutt Upadhyay   \n",
       "2                                    Ajinkya Dhariya   \n",
       "3                                      Ritesh Tiwari   \n",
       "4  Ashish Rajan Singh, Harshit Gupta, Nishant Mah...   \n",
       "\n",
       "                              Investor    Amount     Stage column10  \n",
       "0                      Angel investors  200000.0      None     None  \n",
       "1                      GSF Accelerator  100000.0  Pre-seed     None  \n",
       "2                       Venture Center       NaN  Pre-seed     None  \n",
       "3  Venture Catalysts, PointOne Capital  400000.0      None     None  \n",
       "4  Siana Capital Management, Info Edge  340000.0      None     None  "
      ]
     },
     "execution_count": 9,
     "metadata": {},
     "output_type": "execute_result"
    }
   ],
   "source": [
    "data2020.head()"
   ]
  },
  {
   "cell_type": "code",
   "execution_count": 10,
   "metadata": {},
   "outputs": [],
   "source": [
    "query = \"Select * from dbo.LP1_startup_funding2021\"\n",
    "data2021 = pd.read_sql(query, connection)"
   ]
  },
  {
   "cell_type": "code",
   "execution_count": 11,
   "metadata": {},
   "outputs": [
    {
     "data": {
      "text/html": [
       "<div>\n",
       "<style scoped>\n",
       "    .dataframe tbody tr th:only-of-type {\n",
       "        vertical-align: middle;\n",
       "    }\n",
       "\n",
       "    .dataframe tbody tr th {\n",
       "        vertical-align: top;\n",
       "    }\n",
       "\n",
       "    .dataframe thead th {\n",
       "        text-align: right;\n",
       "    }\n",
       "</style>\n",
       "<table border=\"1\" class=\"dataframe\">\n",
       "  <thead>\n",
       "    <tr style=\"text-align: right;\">\n",
       "      <th></th>\n",
       "      <th>Company_Brand</th>\n",
       "      <th>Founded</th>\n",
       "      <th>HeadQuarter</th>\n",
       "      <th>Sector</th>\n",
       "      <th>What_it_does</th>\n",
       "      <th>Founders</th>\n",
       "      <th>Investor</th>\n",
       "      <th>Amount</th>\n",
       "      <th>Stage</th>\n",
       "    </tr>\n",
       "  </thead>\n",
       "  <tbody>\n",
       "    <tr>\n",
       "      <th>0</th>\n",
       "      <td>Unbox Robotics</td>\n",
       "      <td>2019.0</td>\n",
       "      <td>Bangalore</td>\n",
       "      <td>AI startup</td>\n",
       "      <td>Unbox Robotics builds on-demand AI-driven ware...</td>\n",
       "      <td>Pramod Ghadge, Shahid Memon</td>\n",
       "      <td>BEENEXT, Entrepreneur First</td>\n",
       "      <td>$1,200,000</td>\n",
       "      <td>Pre-series A</td>\n",
       "    </tr>\n",
       "    <tr>\n",
       "      <th>1</th>\n",
       "      <td>upGrad</td>\n",
       "      <td>2015.0</td>\n",
       "      <td>Mumbai</td>\n",
       "      <td>EdTech</td>\n",
       "      <td>UpGrad is an online higher education platform.</td>\n",
       "      <td>Mayank Kumar, Phalgun Kompalli, Ravijot Chugh,...</td>\n",
       "      <td>Unilazer Ventures, IIFL Asset Management</td>\n",
       "      <td>$120,000,000</td>\n",
       "      <td>None</td>\n",
       "    </tr>\n",
       "    <tr>\n",
       "      <th>2</th>\n",
       "      <td>Lead School</td>\n",
       "      <td>2012.0</td>\n",
       "      <td>Mumbai</td>\n",
       "      <td>EdTech</td>\n",
       "      <td>LEAD School offers technology based school tra...</td>\n",
       "      <td>Smita Deorah, Sumeet Mehta</td>\n",
       "      <td>GSV Ventures, Westbridge Capital</td>\n",
       "      <td>$30,000,000</td>\n",
       "      <td>Series D</td>\n",
       "    </tr>\n",
       "    <tr>\n",
       "      <th>3</th>\n",
       "      <td>Bizongo</td>\n",
       "      <td>2015.0</td>\n",
       "      <td>Mumbai</td>\n",
       "      <td>B2B E-commerce</td>\n",
       "      <td>Bizongo is a business-to-business online marke...</td>\n",
       "      <td>Aniket Deb, Ankit Tomar, Sachin Agrawal</td>\n",
       "      <td>CDC Group, IDG Capital</td>\n",
       "      <td>$51,000,000</td>\n",
       "      <td>Series C</td>\n",
       "    </tr>\n",
       "    <tr>\n",
       "      <th>4</th>\n",
       "      <td>FypMoney</td>\n",
       "      <td>2021.0</td>\n",
       "      <td>Gurugram</td>\n",
       "      <td>FinTech</td>\n",
       "      <td>FypMoney is Digital NEO Bank for Teenagers, em...</td>\n",
       "      <td>Kapil Banwari</td>\n",
       "      <td>Liberatha Kallat, Mukesh Yadav, Dinesh Nagpal</td>\n",
       "      <td>$2,000,000</td>\n",
       "      <td>Seed</td>\n",
       "    </tr>\n",
       "  </tbody>\n",
       "</table>\n",
       "</div>"
      ],
      "text/plain": [
       "    Company_Brand  Founded HeadQuarter          Sector  \\\n",
       "0  Unbox Robotics   2019.0   Bangalore      AI startup   \n",
       "1          upGrad   2015.0      Mumbai          EdTech   \n",
       "2     Lead School   2012.0      Mumbai          EdTech   \n",
       "3         Bizongo   2015.0      Mumbai  B2B E-commerce   \n",
       "4        FypMoney   2021.0    Gurugram         FinTech   \n",
       "\n",
       "                                        What_it_does  \\\n",
       "0  Unbox Robotics builds on-demand AI-driven ware...   \n",
       "1     UpGrad is an online higher education platform.   \n",
       "2  LEAD School offers technology based school tra...   \n",
       "3  Bizongo is a business-to-business online marke...   \n",
       "4  FypMoney is Digital NEO Bank for Teenagers, em...   \n",
       "\n",
       "                                            Founders  \\\n",
       "0                        Pramod Ghadge, Shahid Memon   \n",
       "1  Mayank Kumar, Phalgun Kompalli, Ravijot Chugh,...   \n",
       "2                         Smita Deorah, Sumeet Mehta   \n",
       "3            Aniket Deb, Ankit Tomar, Sachin Agrawal   \n",
       "4                                      Kapil Banwari   \n",
       "\n",
       "                                        Investor        Amount         Stage  \n",
       "0                    BEENEXT, Entrepreneur First    $1,200,000  Pre-series A  \n",
       "1       Unilazer Ventures, IIFL Asset Management  $120,000,000          None  \n",
       "2               GSV Ventures, Westbridge Capital   $30,000,000      Series D  \n",
       "3                         CDC Group, IDG Capital   $51,000,000      Series C  \n",
       "4  Liberatha Kallat, Mukesh Yadav, Dinesh Nagpal    $2,000,000          Seed  "
      ]
     },
     "execution_count": 11,
     "metadata": {},
     "output_type": "execute_result"
    }
   ],
   "source": [
    "data2021.head()"
   ]
  },
  {
   "attachments": {},
   "cell_type": "markdown",
   "metadata": {},
   "source": [
    "### To guide our analysis, we have formulated 5 SMART questions:\n",
    "* What is the overall trend in funding received by start-ups in India from 2018 to 2021?\n",
    "* Which industries or sectors have received the highest funding during this period?\n",
    "* What is the distribution of startups across the cities in India?\n",
    "* What is the average funding amount received by start-ups in India during this period?\n",
    "* Is there a correlation between the funding amount and the number of investors involved in funding rounds?\n",
    "\n",
    "###  We have also developed three hypotheses for testing:\n",
    "Hypothesis 1:<br>\n",
    "Null: The funding received by start-ups in India has not demonstrated consistent upward trajectory over the years.<br>\n",
    "Alternate: The funding received by start-ups in India has demonstrated a consistent upward trajectory over the years.\n",
    "\n",
    "Hypothesis 2: <br>\n",
    "Null: There are no significant disparities in funding received by all sectors of the Indian startups. <br>\n",
    "Alternate: The technology sectors receive higher funding compared to other industries.\n",
    "\n",
    "Hypothesis 3: <br>\n",
    "Null: Situating a startup in a particular city does not influence funding.<br>\n",
    "Alternate: Situating a startup in a particular city significantly affects funding.\n",
    "\n",
    "To test these hypotheses, we will conduct the following analyses: \n",
    "* For Hypothesis 1, we will analyze the year-by-year funding amounts and calculate the average growth rate of funding.\n",
    "* To investigate Hypothesis 2, we will categorize start-ups based on industry and compare the funding amounts received by each sector.\n",
    "* Regarding Hypothesis 3, we will examine the distribution of start-ups across cities and deduce which cities harbour most highly-funded start-ups.\n",
    "\n",
    "## 3.2 Data Cleaning\n"
   ]
  },
  {
   "cell_type": "markdown",
   "metadata": {},
   "source": [
    "### 3.2.1 2018 Data"
   ]
  },
  {
   "cell_type": "markdown",
   "metadata": {},
   "source": [
    "First, the 2018 data will be inspected then cleaned."
   ]
  },
  {
   "cell_type": "code",
   "execution_count": 12,
   "metadata": {},
   "outputs": [
    {
     "data": {
      "text/html": [
       "<div>\n",
       "<style scoped>\n",
       "    .dataframe tbody tr th:only-of-type {\n",
       "        vertical-align: middle;\n",
       "    }\n",
       "\n",
       "    .dataframe tbody tr th {\n",
       "        vertical-align: top;\n",
       "    }\n",
       "\n",
       "    .dataframe thead th {\n",
       "        text-align: right;\n",
       "    }\n",
       "</style>\n",
       "<table border=\"1\" class=\"dataframe\">\n",
       "  <thead>\n",
       "    <tr style=\"text-align: right;\">\n",
       "      <th></th>\n",
       "      <th>Company Name</th>\n",
       "      <th>Industry</th>\n",
       "      <th>Round/Series</th>\n",
       "      <th>Amount</th>\n",
       "      <th>Location</th>\n",
       "      <th>About Company</th>\n",
       "    </tr>\n",
       "  </thead>\n",
       "  <tbody>\n",
       "    <tr>\n",
       "      <th>0</th>\n",
       "      <td>TheCollegeFever</td>\n",
       "      <td>Brand Marketing, Event Promotion, Marketing, S...</td>\n",
       "      <td>Seed</td>\n",
       "      <td>250000</td>\n",
       "      <td>Bangalore, Karnataka, India</td>\n",
       "      <td>TheCollegeFever is a hub for fun, fiesta and f...</td>\n",
       "    </tr>\n",
       "    <tr>\n",
       "      <th>1</th>\n",
       "      <td>Happy Cow Dairy</td>\n",
       "      <td>Agriculture, Farming</td>\n",
       "      <td>Seed</td>\n",
       "      <td>₹40,000,000</td>\n",
       "      <td>Mumbai, Maharashtra, India</td>\n",
       "      <td>A startup which aggregates milk from dairy far...</td>\n",
       "    </tr>\n",
       "    <tr>\n",
       "      <th>2</th>\n",
       "      <td>MyLoanCare</td>\n",
       "      <td>Credit, Financial Services, Lending, Marketplace</td>\n",
       "      <td>Series A</td>\n",
       "      <td>₹65,000,000</td>\n",
       "      <td>Gurgaon, Haryana, India</td>\n",
       "      <td>Leading Online Loans Marketplace in India</td>\n",
       "    </tr>\n",
       "    <tr>\n",
       "      <th>3</th>\n",
       "      <td>PayMe India</td>\n",
       "      <td>Financial Services, FinTech</td>\n",
       "      <td>Angel</td>\n",
       "      <td>2000000</td>\n",
       "      <td>Noida, Uttar Pradesh, India</td>\n",
       "      <td>PayMe India is an innovative FinTech organizat...</td>\n",
       "    </tr>\n",
       "    <tr>\n",
       "      <th>4</th>\n",
       "      <td>Eunimart</td>\n",
       "      <td>E-Commerce Platforms, Retail, SaaS</td>\n",
       "      <td>Seed</td>\n",
       "      <td>—</td>\n",
       "      <td>Hyderabad, Andhra Pradesh, India</td>\n",
       "      <td>Eunimart is a one stop solution for merchants ...</td>\n",
       "    </tr>\n",
       "    <tr>\n",
       "      <th>5</th>\n",
       "      <td>Hasura</td>\n",
       "      <td>Cloud Infrastructure, PaaS, SaaS</td>\n",
       "      <td>Seed</td>\n",
       "      <td>1600000</td>\n",
       "      <td>Bengaluru, Karnataka, India</td>\n",
       "      <td>Hasura is a platform that allows developers to...</td>\n",
       "    </tr>\n",
       "    <tr>\n",
       "      <th>6</th>\n",
       "      <td>Tripshelf</td>\n",
       "      <td>Internet, Leisure, Marketplace</td>\n",
       "      <td>Seed</td>\n",
       "      <td>₹16,000,000</td>\n",
       "      <td>Kalkaji, Delhi, India</td>\n",
       "      <td>Tripshelf is an online market place for holida...</td>\n",
       "    </tr>\n",
       "    <tr>\n",
       "      <th>7</th>\n",
       "      <td>Hyperdata.IO</td>\n",
       "      <td>Market Research</td>\n",
       "      <td>Angel</td>\n",
       "      <td>₹50,000,000</td>\n",
       "      <td>Hyderabad, Andhra Pradesh, India</td>\n",
       "      <td>Hyperdata combines advanced machine learning w...</td>\n",
       "    </tr>\n",
       "    <tr>\n",
       "      <th>8</th>\n",
       "      <td>Freightwalla</td>\n",
       "      <td>Information Services, Information Technology</td>\n",
       "      <td>Seed</td>\n",
       "      <td>—</td>\n",
       "      <td>Mumbai, Maharashtra, India</td>\n",
       "      <td>Freightwalla is an international forwarder tha...</td>\n",
       "    </tr>\n",
       "    <tr>\n",
       "      <th>9</th>\n",
       "      <td>Microchip Payments</td>\n",
       "      <td>Mobile Payments</td>\n",
       "      <td>Seed</td>\n",
       "      <td>—</td>\n",
       "      <td>Bangalore, Karnataka, India</td>\n",
       "      <td>Microchip payments is a mobile-based payment a...</td>\n",
       "    </tr>\n",
       "  </tbody>\n",
       "</table>\n",
       "</div>"
      ],
      "text/plain": [
       "         Company Name                                           Industry  \\\n",
       "0     TheCollegeFever  Brand Marketing, Event Promotion, Marketing, S...   \n",
       "1     Happy Cow Dairy                               Agriculture, Farming   \n",
       "2          MyLoanCare   Credit, Financial Services, Lending, Marketplace   \n",
       "3         PayMe India                        Financial Services, FinTech   \n",
       "4            Eunimart                 E-Commerce Platforms, Retail, SaaS   \n",
       "5              Hasura                   Cloud Infrastructure, PaaS, SaaS   \n",
       "6           Tripshelf                     Internet, Leisure, Marketplace   \n",
       "7        Hyperdata.IO                                    Market Research   \n",
       "8        Freightwalla       Information Services, Information Technology   \n",
       "9  Microchip Payments                                    Mobile Payments   \n",
       "\n",
       "  Round/Series       Amount                          Location  \\\n",
       "0         Seed       250000       Bangalore, Karnataka, India   \n",
       "1         Seed  ₹40,000,000        Mumbai, Maharashtra, India   \n",
       "2     Series A  ₹65,000,000           Gurgaon, Haryana, India   \n",
       "3        Angel      2000000       Noida, Uttar Pradesh, India   \n",
       "4         Seed            —  Hyderabad, Andhra Pradesh, India   \n",
       "5         Seed      1600000       Bengaluru, Karnataka, India   \n",
       "6         Seed  ₹16,000,000             Kalkaji, Delhi, India   \n",
       "7        Angel  ₹50,000,000  Hyderabad, Andhra Pradesh, India   \n",
       "8         Seed            —        Mumbai, Maharashtra, India   \n",
       "9         Seed            —       Bangalore, Karnataka, India   \n",
       "\n",
       "                                       About Company  \n",
       "0  TheCollegeFever is a hub for fun, fiesta and f...  \n",
       "1  A startup which aggregates milk from dairy far...  \n",
       "2          Leading Online Loans Marketplace in India  \n",
       "3  PayMe India is an innovative FinTech organizat...  \n",
       "4  Eunimart is a one stop solution for merchants ...  \n",
       "5  Hasura is a platform that allows developers to...  \n",
       "6  Tripshelf is an online market place for holida...  \n",
       "7  Hyperdata combines advanced machine learning w...  \n",
       "8  Freightwalla is an international forwarder tha...  \n",
       "9  Microchip payments is a mobile-based payment a...  "
      ]
     },
     "execution_count": 12,
     "metadata": {},
     "output_type": "execute_result"
    }
   ],
   "source": [
    "#Overview of the first 5 rows \n",
    "data2018.head(10)"
   ]
  },
  {
   "cell_type": "code",
   "execution_count": 13,
   "metadata": {},
   "outputs": [
    {
     "name": "stdout",
     "output_type": "stream",
     "text": [
      "<class 'pandas.core.frame.DataFrame'>\n",
      "RangeIndex: 526 entries, 0 to 525\n",
      "Data columns (total 6 columns):\n",
      " #   Column         Non-Null Count  Dtype \n",
      "---  ------         --------------  ----- \n",
      " 0   Company Name   526 non-null    object\n",
      " 1   Industry       526 non-null    object\n",
      " 2   Round/Series   526 non-null    object\n",
      " 3   Amount         526 non-null    object\n",
      " 4   Location       526 non-null    object\n",
      " 5   About Company  526 non-null    object\n",
      "dtypes: object(6)\n",
      "memory usage: 24.8+ KB\n"
     ]
    }
   ],
   "source": [
    "#Summary of the data\n",
    "data2018.info()"
   ]
  },
  {
   "cell_type": "markdown",
   "metadata": {},
   "source": [
    "From the displayed summary:\n",
    "* our data has no missing values\n",
    "* All the columns are in string data type "
   ]
  },
  {
   "cell_type": "code",
   "execution_count": 14,
   "metadata": {},
   "outputs": [],
   "source": [
    "#defining a function that returns counts of unique values\n",
    "def value(column):\n",
    "    return data2018[column].value_counts()                         "
   ]
  },
  {
   "cell_type": "code",
   "execution_count": 15,
   "metadata": {},
   "outputs": [
    {
     "data": {
      "text/plain": [
       "—                                              30\n",
       "Financial Services                             15\n",
       "Education                                       8\n",
       "Information Technology                          7\n",
       "Health Care, Hospital                           5\n",
       "                                               ..\n",
       "Education, Gaming, Training                     1\n",
       "Automotive, Search Engine, Service Industry     1\n",
       "Wealth Management                               1\n",
       "B2B, Farming, Marketplace                       1\n",
       "Biotechnology, Health Care, Pharmaceutical      1\n",
       "Name: Industry, Length: 405, dtype: int64"
      ]
     },
     "execution_count": 15,
     "metadata": {},
     "output_type": "execute_result"
    }
   ],
   "source": [
    "value(\"Industry\")"
   ]
  },
  {
   "cell_type": "code",
   "execution_count": 16,
   "metadata": {},
   "outputs": [
    {
     "data": {
      "text/plain": [
       "Seed                                                                                                       280\n",
       "Series A                                                                                                    73\n",
       "Angel                                                                                                       37\n",
       "Venture - Series Unknown                                                                                    37\n",
       "Series B                                                                                                    20\n",
       "Series C                                                                                                    16\n",
       "Debt Financing                                                                                              13\n",
       "Private Equity                                                                                              10\n",
       "Corporate Round                                                                                              8\n",
       "Pre-Seed                                                                                                     6\n",
       "Series E                                                                                                     5\n",
       "Grant                                                                                                        4\n",
       "Series D                                                                                                     3\n",
       "Secondary Market                                                                                             3\n",
       "Post-IPO Equity                                                                                              3\n",
       "Undisclosed                                                                                                  2\n",
       "Post-IPO Debt                                                                                                2\n",
       "Non-equity Assistance                                                                                        1\n",
       "Series H                                                                                                     1\n",
       "https://docs.google.com/spreadsheets/d/1x9ziNeaz6auNChIHnMI8U6kS7knTr3byy_YBGfQaoUA/edit#gid=1861303593      1\n",
       "Funding Round                                                                                                1\n",
       "Name: Round/Series, dtype: int64"
      ]
     },
     "execution_count": 16,
     "metadata": {},
     "output_type": "execute_result"
    }
   ],
   "source": [
    "value(\"Round/Series\")"
   ]
  },
  {
   "cell_type": "code",
   "execution_count": 17,
   "metadata": {},
   "outputs": [
    {
     "data": {
      "text/plain": [
       "Bangalore, Karnataka, India         102\n",
       "Mumbai, Maharashtra, India           94\n",
       "Bengaluru, Karnataka, India          55\n",
       "Gurgaon, Haryana, India              52\n",
       "New Delhi, Delhi, India              51\n",
       "Pune, Maharashtra, India             20\n",
       "Chennai, Tamil Nadu, India           19\n",
       "Hyderabad, Andhra Pradesh, India     18\n",
       "Delhi, Delhi, India                  16\n",
       "Noida, Uttar Pradesh, India          15\n",
       "Haryana, Haryana, India              11\n",
       "Jaipur, Rajasthan, India              9\n",
       "Ahmedabad, Gujarat, India             6\n",
       "Kolkata, West Bengal, India           6\n",
       "Bangalore City, Karnataka, India      5\n",
       "Indore, Madhya Pradesh, India         4\n",
       "India, Asia                           4\n",
       "Kormangala, Karnataka, India          3\n",
       "Ghaziabad, Uttar Pradesh, India       2\n",
       "Kochi, Kerala, India                  2\n",
       "Bhopal, Madhya Pradesh, India         2\n",
       "Thane, Maharashtra, India             2\n",
       "Jodhpur, Rajasthan, India             1\n",
       "Powai, Assam, India                   1\n",
       "Andheri, Maharashtra, India           1\n",
       "Mylapore, Tamil Nadu, India           1\n",
       "Kalpakkam, Tamil Nadu, India          1\n",
       "Guntur, Andhra Pradesh, India         1\n",
       "Coimbatore, Tamil Nadu, India         1\n",
       "Worli, Maharashtra, India             1\n",
       "Alleppey, Kerala, India               1\n",
       "Chandigarh, Chandigarh, India         1\n",
       "Guindy, Tamil Nadu, India             1\n",
       "Uttar Pradesh, India, Asia            1\n",
       "Trivandrum, Kerala, India             1\n",
       "Ernakulam, Kerala, India              1\n",
       "Kanpur, Uttar Pradesh, India          1\n",
       "Kannur, Kerala, India                 1\n",
       "Alwar, Rajasthan, India               1\n",
       "Margão, Goa, India                    1\n",
       "Belgaum, Karnataka, India             1\n",
       "Kalkaji, Delhi, India                 1\n",
       "Anand, Gujarat, India                 1\n",
       "Kota, Rajasthan, India                1\n",
       "Faridabad, Haryana, India             1\n",
       "Cochin, Kerala, India                 1\n",
       "Hubli, Karnataka, India               1\n",
       "Azadpur, Delhi, India                 1\n",
       "Mohali, Punjab, India                 1\n",
       "Lucknow, Uttar Pradesh, India         1\n",
       "Name: Location, dtype: int64"
      ]
     },
     "execution_count": 17,
     "metadata": {},
     "output_type": "execute_result"
    }
   ],
   "source": [
    "value(\"Location\")"
   ]
  },
  {
   "cell_type": "code",
   "execution_count": 18,
   "metadata": {},
   "outputs": [
    {
     "data": {
      "text/plain": [
       "—              148\n",
       "1000000         24\n",
       "500000          13\n",
       "2000000         12\n",
       "₹50,000,000      9\n",
       "              ... \n",
       "2200000          1\n",
       "1200000          1\n",
       "$15,000          1\n",
       "$1,041,000       1\n",
       "35000000         1\n",
       "Name: Amount, Length: 198, dtype: int64"
      ]
     },
     "execution_count": 18,
     "metadata": {},
     "output_type": "execute_result"
    }
   ],
   "source": [
    "value(\"Amount\")"
   ]
  },
  {
   "cell_type": "markdown",
   "metadata": {},
   "source": [
    "#### Issues arising from the data:\n",
    "* The Amount column is in string data type yet it contains numerical values.\n",
    "* ```_``` characters in Amount and Industry columns which indicates the values are missing.\n",
    "* Some amounts have characters such as ```₹```, ```,``` ,```$```\n",
    "* Industry column contains many names for one industry."
   ]
  },
  {
   "attachments": {},
   "cell_type": "markdown",
   "metadata": {},
   "source": [
    " #### Dealing with duplicates"
   ]
  },
  {
   "cell_type": "code",
   "execution_count": 19,
   "metadata": {},
   "outputs": [
    {
     "data": {
      "text/plain": [
       "False    525\n",
       "True       1\n",
       "dtype: int64"
      ]
     },
     "execution_count": 19,
     "metadata": {},
     "output_type": "execute_result"
    }
   ],
   "source": [
    "#checking for duplicates\n",
    "data2018.duplicated().value_counts()"
   ]
  },
  {
   "attachments": {},
   "cell_type": "markdown",
   "metadata": {},
   "source": [
    "Our 2018 data contains one duplicate which is marked by 'True' value."
   ]
  },
  {
   "cell_type": "code",
   "execution_count": 20,
   "metadata": {},
   "outputs": [
    {
     "data": {
      "text/html": [
       "<div>\n",
       "<style scoped>\n",
       "    .dataframe tbody tr th:only-of-type {\n",
       "        vertical-align: middle;\n",
       "    }\n",
       "\n",
       "    .dataframe tbody tr th {\n",
       "        vertical-align: top;\n",
       "    }\n",
       "\n",
       "    .dataframe thead th {\n",
       "        text-align: right;\n",
       "    }\n",
       "</style>\n",
       "<table border=\"1\" class=\"dataframe\">\n",
       "  <thead>\n",
       "    <tr style=\"text-align: right;\">\n",
       "      <th></th>\n",
       "      <th>Company Name</th>\n",
       "      <th>Industry</th>\n",
       "      <th>Round/Series</th>\n",
       "      <th>Amount</th>\n",
       "      <th>Location</th>\n",
       "      <th>About Company</th>\n",
       "    </tr>\n",
       "  </thead>\n",
       "  <tbody>\n",
       "    <tr>\n",
       "      <th>0</th>\n",
       "      <td>TheCollegeFever</td>\n",
       "      <td>Brand Marketing, Event Promotion, Marketing, S...</td>\n",
       "      <td>Seed</td>\n",
       "      <td>250000</td>\n",
       "      <td>Bangalore, Karnataka, India</td>\n",
       "      <td>TheCollegeFever is a hub for fun, fiesta and f...</td>\n",
       "    </tr>\n",
       "    <tr>\n",
       "      <th>348</th>\n",
       "      <td>TheCollegeFever</td>\n",
       "      <td>Brand Marketing, Event Promotion, Marketing, S...</td>\n",
       "      <td>Seed</td>\n",
       "      <td>250000</td>\n",
       "      <td>Bangalore, Karnataka, India</td>\n",
       "      <td>TheCollegeFever is a hub for fun, fiesta and f...</td>\n",
       "    </tr>\n",
       "  </tbody>\n",
       "</table>\n",
       "</div>"
      ],
      "text/plain": [
       "        Company Name                                           Industry  \\\n",
       "0    TheCollegeFever  Brand Marketing, Event Promotion, Marketing, S...   \n",
       "348  TheCollegeFever  Brand Marketing, Event Promotion, Marketing, S...   \n",
       "\n",
       "    Round/Series  Amount                     Location  \\\n",
       "0           Seed  250000  Bangalore, Karnataka, India   \n",
       "348         Seed  250000  Bangalore, Karnataka, India   \n",
       "\n",
       "                                         About Company  \n",
       "0    TheCollegeFever is a hub for fun, fiesta and f...  \n",
       "348  TheCollegeFever is a hub for fun, fiesta and f...  "
      ]
     },
     "execution_count": 20,
     "metadata": {},
     "output_type": "execute_result"
    }
   ],
   "source": [
    "#print out all the duplicates next to each other\n",
    "data2018[data2018.duplicated(keep=False)]"
   ]
  },
  {
   "cell_type": "code",
   "execution_count": 21,
   "metadata": {},
   "outputs": [],
   "source": [
    "#dropping all duplicates\n",
    "data2018=data2018.drop_duplicates()"
   ]
  },
  {
   "cell_type": "code",
   "execution_count": 22,
   "metadata": {},
   "outputs": [
    {
     "data": {
      "text/plain": [
       "False    525\n",
       "dtype: int64"
      ]
     },
     "execution_count": 22,
     "metadata": {},
     "output_type": "execute_result"
    }
   ],
   "source": [
    "#RECHECK IF THERE ANY DUPLICATES LEFT\n",
    "data2018.duplicated().value_counts()"
   ]
  },
  {
   "attachments": {},
   "cell_type": "markdown",
   "metadata": {},
   "source": [
    "#### Data type conversion"
   ]
  },
  {
   "attachments": {},
   "cell_type": "markdown",
   "metadata": {},
   "source": [
    "The ```Amount``` column is categorised as a string data type yet amount should be in integer. This is brought about by several problems in this column:\n",
    "* The ```,``` ,```$``` ,```₹``` characters which should be removed.\n",
    "* Also there are ```_``` characters which indicate null values.\n",
    "* Some currencies are Indian rupees while others US Dollars , so for standard currency the Indian rupee will be converted to US Dollar.\n",
    "* Finally, the ```Amount``` column will be converted to numeric data type."
   ]
  },
  {
   "cell_type": "code",
   "execution_count": 23,
   "metadata": {},
   "outputs": [
    {
     "data": {
      "text/plain": [
       "516    ₹1400000000\n",
       "517      ₹10000000\n",
       "518              —\n",
       "519        6000000\n",
       "520       14900000\n",
       "521      225000000\n",
       "522              —\n",
       "523           7500\n",
       "524      ₹35000000\n",
       "525       35000000\n",
       "Name: Amount, dtype: object"
      ]
     },
     "execution_count": 23,
     "metadata": {},
     "output_type": "execute_result"
    }
   ],
   "source": [
    "#Removing ',' from the Amount column\n",
    "data2018['Amount'].replace(',','', regex=True, inplace=True)\n",
    "data2018['Amount'].tail(10)"
   ]
  },
  {
   "cell_type": "code",
   "execution_count": 24,
   "metadata": {},
   "outputs": [],
   "source": [
    "#Function to convert Indian rupee currency to dollars\n",
    "def convert_to_dollars(value):\n",
    "\n",
    "    if '₹' in str(value):\n",
    "        # Remove the currency symbol\n",
    "        amount = value.replace('₹', '')\n",
    "\n",
    "       # Convert to dollars using the exchange rate for 2018\n",
    "        return pd.to_numeric(amount, errors='coerce') * 0.146\n",
    "\n",
    "    elif '$' in str(value):\n",
    "\n",
    "        return value.replace('$', '')\n",
    "\n",
    "    elif \"—\" in str(value):\n",
    "\n",
    "        return None  #  a suitable value to represent missing/invalid data\n",
    "\n",
    "    else:\n",
    "\n",
    "        return value\n",
    "\n",
    "#Displays the Amount column to 1 decimal place\n",
    "pd.set_option('display.float_format', '{:.1f}'.format)\n",
    "\n",
    "data2018 = data2018.applymap(convert_to_dollars)\n",
    "\n",
    "\n",
    "    \n",
    "        "
   ]
  },
  {
   "cell_type": "code",
   "execution_count": 25,
   "metadata": {},
   "outputs": [
    {
     "data": {
      "text/plain": [
       "dtype('float64')"
      ]
     },
     "execution_count": 25,
     "metadata": {},
     "output_type": "execute_result"
    }
   ],
   "source": [
    "#Converting the column to a numeric data type\n",
    "data2018[\"Amount\"]=data2018[\"Amount\"].astype(float)\n",
    "data2018[\"Amount\"].dtype"
   ]
  },
  {
   "cell_type": "code",
   "execution_count": 26,
   "metadata": {},
   "outputs": [
    {
     "data": {
      "text/plain": [
       "0      250000.0\n",
       "1     5840000.0\n",
       "2     9490000.0\n",
       "3     2000000.0\n",
       "4           NaN\n",
       "5     1600000.0\n",
       "6     2336000.0\n",
       "7     7300000.0\n",
       "8           NaN\n",
       "9           NaN\n",
       "10          NaN\n",
       "11          NaN\n",
       "12          NaN\n",
       "13          NaN\n",
       "14          NaN\n",
       "15   14600000.0\n",
       "16     150000.0\n",
       "17    1100000.0\n",
       "18          NaN\n",
       "19      73000.0\n",
       "Name: Amount, dtype: float64"
      ]
     },
     "execution_count": 26,
     "metadata": {},
     "output_type": "execute_result"
    }
   ],
   "source": [
    "data2018[\"Amount\"].head(20)"
   ]
  },
  {
   "attachments": {},
   "cell_type": "markdown",
   "metadata": {},
   "source": [
    "#### Data Uniformity\n",
    "For data uniformity across the 4 datasets which will later make merging easier, ```Location``` and ```Industry``` columns will only remain with the first word."
   ]
  },
  {
   "cell_type": "code",
   "execution_count": 27,
   "metadata": {},
   "outputs": [
    {
     "data": {
      "text/plain": [
       "506    Bangalore\n",
       "507       Mumbai\n",
       "508    New Delhi\n",
       "509       Mumbai\n",
       "510    Bengaluru\n",
       "511       Mumbai\n",
       "512       Jaipur\n",
       "513       Mumbai\n",
       "514    New Delhi\n",
       "515         Pune\n",
       "516    New Delhi\n",
       "517    Bengaluru\n",
       "518    Ghaziabad\n",
       "519    Bangalore\n",
       "520    Bengaluru\n",
       "521    Bangalore\n",
       "522      Haryana\n",
       "523       Mumbai\n",
       "524       Mumbai\n",
       "525      Chennai\n",
       "Name: Location, dtype: object"
      ]
     },
     "execution_count": 27,
     "metadata": {},
     "output_type": "execute_result"
    }
   ],
   "source": [
    "#maintianing first word before comma in the location column\n",
    "data2018[\"Location\"] = data2018[\"Location\"].map(lambda x: x.split(',')[0])\n",
    "data2018[\"Location\"].tail(20)"
   ]
  },
  {
   "cell_type": "code",
   "execution_count": 28,
   "metadata": {},
   "outputs": [
    {
     "data": {
      "text/plain": [
       "0             Brand Marketing\n",
       "1                 Agriculture\n",
       "2                      Credit\n",
       "3          Financial Services\n",
       "4        E-Commerce Platforms\n",
       "5        Cloud Infrastructure\n",
       "6                    Internet\n",
       "7             Market Research\n",
       "8        Information Services\n",
       "9             Mobile Payments\n",
       "10                        B2B\n",
       "11                   Internet\n",
       "12                       Apps\n",
       "13              Food Delivery\n",
       "14      Industrial Automation\n",
       "15                 Automotive\n",
       "16                    Finance\n",
       "17                 Accounting\n",
       "18    Artificial Intelligence\n",
       "19         Internet of Things\n",
       "Name: Industry, dtype: object"
      ]
     },
     "execution_count": 28,
     "metadata": {},
     "output_type": "execute_result"
    }
   ],
   "source": [
    "#maintianing first word before comma in the industry column\n",
    "data2018[\"Industry\"] = data2018[\"Industry\"].map(lambda x: str(x).split(',')[0])\n",
    "data2018[\"Industry\"].head(20)"
   ]
  },
  {
   "attachments": {},
   "cell_type": "markdown",
   "metadata": {},
   "source": [
    "Earlier, it was noticed that the ```Industry``` column had '-' characters which indicate the values are missing. So the missing values are going to be replaced with ```Unknown ``` value given the column is a categorical data type."
   ]
  },
  {
   "cell_type": "code",
   "execution_count": 29,
   "metadata": {},
   "outputs": [
    {
     "data": {
      "text/plain": [
       "0             Brand Marketing\n",
       "1                 Agriculture\n",
       "2                      Credit\n",
       "3          Financial Services\n",
       "4        E-Commerce Platforms\n",
       "5        Cloud Infrastructure\n",
       "6                    Internet\n",
       "7             Market Research\n",
       "8        Information Services\n",
       "9             Mobile Payments\n",
       "10                        B2B\n",
       "11                   Internet\n",
       "12                       Apps\n",
       "13              Food Delivery\n",
       "14      Industrial Automation\n",
       "15                 Automotive\n",
       "16                    Finance\n",
       "17                 Accounting\n",
       "18    Artificial Intelligence\n",
       "19         Internet of Things\n",
       "Name: Industry, dtype: object"
      ]
     },
     "execution_count": 29,
     "metadata": {},
     "output_type": "execute_result"
    }
   ],
   "source": [
    "#Replacing '_' with Unknown values\n",
    "data2018[\"Industry\"]=data2018[\"Industry\"].replace('—', \"Unknown\", regex=True)\n",
    "data2018[\"Industry\"].head(20)"
   ]
  },
  {
   "attachments": {},
   "cell_type": "markdown",
   "metadata": {},
   "source": [
    "####  Handling Missing values"
   ]
  },
  {
   "cell_type": "code",
   "execution_count": 30,
   "metadata": {},
   "outputs": [
    {
     "data": {
      "text/plain": [
       "Company Name       0\n",
       "Industry           0\n",
       "Round/Series       0\n",
       "Amount           148\n",
       "Location           0\n",
       "About Company      0\n",
       "dtype: int64"
      ]
     },
     "execution_count": 30,
     "metadata": {},
     "output_type": "execute_result"
    }
   ],
   "source": [
    "#Checking for missing values \n",
    "data2018.isnull().sum()"
   ]
  },
  {
   "cell_type": "code",
   "execution_count": 31,
   "metadata": {},
   "outputs": [
    {
     "data": {
      "text/html": [
       "<div>\n",
       "<style scoped>\n",
       "    .dataframe tbody tr th:only-of-type {\n",
       "        vertical-align: middle;\n",
       "    }\n",
       "\n",
       "    .dataframe tbody tr th {\n",
       "        vertical-align: top;\n",
       "    }\n",
       "\n",
       "    .dataframe thead th {\n",
       "        text-align: right;\n",
       "    }\n",
       "</style>\n",
       "<table border=\"1\" class=\"dataframe\">\n",
       "  <thead>\n",
       "    <tr style=\"text-align: right;\">\n",
       "      <th></th>\n",
       "      <th>Amount</th>\n",
       "    </tr>\n",
       "  </thead>\n",
       "  <tbody>\n",
       "    <tr>\n",
       "      <th>count</th>\n",
       "      <td>377.0</td>\n",
       "    </tr>\n",
       "    <tr>\n",
       "      <th>mean</th>\n",
       "      <td>47244478.4</td>\n",
       "    </tr>\n",
       "    <tr>\n",
       "      <th>std</th>\n",
       "      <td>212692748.2</td>\n",
       "    </tr>\n",
       "    <tr>\n",
       "      <th>min</th>\n",
       "      <td>7500.0</td>\n",
       "    </tr>\n",
       "    <tr>\n",
       "      <th>25%</th>\n",
       "      <td>1000000.0</td>\n",
       "    </tr>\n",
       "    <tr>\n",
       "      <th>50%</th>\n",
       "      <td>3530000.0</td>\n",
       "    </tr>\n",
       "    <tr>\n",
       "      <th>75%</th>\n",
       "      <td>14965000.0</td>\n",
       "    </tr>\n",
       "    <tr>\n",
       "      <th>max</th>\n",
       "      <td>2920000000.0</td>\n",
       "    </tr>\n",
       "  </tbody>\n",
       "</table>\n",
       "</div>"
      ],
      "text/plain": [
       "            Amount\n",
       "count        377.0\n",
       "mean    47244478.4\n",
       "std    212692748.2\n",
       "min         7500.0\n",
       "25%      1000000.0\n",
       "50%      3530000.0\n",
       "75%     14965000.0\n",
       "max   2920000000.0"
      ]
     },
     "execution_count": 31,
     "metadata": {},
     "output_type": "execute_result"
    }
   ],
   "source": [
    "#Computing summary of statistics for 2018 data\n",
    "data2018.describe()"
   ]
  },
  {
   "attachments": {},
   "cell_type": "markdown",
   "metadata": {},
   "source": [
    "The ```Amount``` column contains several missing values. Given the column is numerical, the best strategy would be to replace the missing values with the median  as it is less sensitive to outliers than the mean."
   ]
  },
  {
   "cell_type": "code",
   "execution_count": 32,
   "metadata": {},
   "outputs": [],
   "source": [
    "#Imputing missing values\n",
    "array= data2018[\"Amount\"].values.reshape(-1,1)\n",
    "imputer=SimpleImputer(strategy=\"median\")\n",
    "\n",
    "data2018[\"Amount\"]=imputer.fit_transform(array)"
   ]
  },
  {
   "cell_type": "code",
   "execution_count": 33,
   "metadata": {},
   "outputs": [
    {
     "data": {
      "text/plain": [
       "Company Name     0\n",
       "Industry         0\n",
       "Round/Series     0\n",
       "Amount           0\n",
       "Location         0\n",
       "About Company    0\n",
       "dtype: int64"
      ]
     },
     "execution_count": 33,
     "metadata": {},
     "output_type": "execute_result"
    }
   ],
   "source": [
    "#Confirming there are no more missing values\n",
    "data2018.isnull().sum()"
   ]
  },
  {
   "attachments": {},
   "cell_type": "markdown",
   "metadata": {},
   "source": [
    "Inorder to make merging and analysis after merging easier, a column named ```Year Funded ``` which contains the respective years for the dataset will be formed."
   ]
  },
  {
   "cell_type": "code",
   "execution_count": 34,
   "metadata": {},
   "outputs": [],
   "source": [
    "data2018['Year Funded'] = 2018"
   ]
  },
  {
   "cell_type": "markdown",
   "metadata": {},
   "source": [
    "Dropping columns\n",
    "* The column ```About Company``` won't be needed in our analysis, it will therefore be dropped."
   ]
  },
  {
   "cell_type": "code",
   "execution_count": 35,
   "metadata": {},
   "outputs": [
    {
     "data": {
      "text/html": [
       "<div>\n",
       "<style scoped>\n",
       "    .dataframe tbody tr th:only-of-type {\n",
       "        vertical-align: middle;\n",
       "    }\n",
       "\n",
       "    .dataframe tbody tr th {\n",
       "        vertical-align: top;\n",
       "    }\n",
       "\n",
       "    .dataframe thead th {\n",
       "        text-align: right;\n",
       "    }\n",
       "</style>\n",
       "<table border=\"1\" class=\"dataframe\">\n",
       "  <thead>\n",
       "    <tr style=\"text-align: right;\">\n",
       "      <th></th>\n",
       "      <th>Company Name</th>\n",
       "      <th>Industry</th>\n",
       "      <th>Round/Series</th>\n",
       "      <th>Amount</th>\n",
       "      <th>Location</th>\n",
       "      <th>Year Funded</th>\n",
       "    </tr>\n",
       "  </thead>\n",
       "  <tbody>\n",
       "    <tr>\n",
       "      <th>0</th>\n",
       "      <td>TheCollegeFever</td>\n",
       "      <td>Brand Marketing</td>\n",
       "      <td>Seed</td>\n",
       "      <td>250000.0</td>\n",
       "      <td>Bangalore</td>\n",
       "      <td>2018</td>\n",
       "    </tr>\n",
       "    <tr>\n",
       "      <th>1</th>\n",
       "      <td>Happy Cow Dairy</td>\n",
       "      <td>Agriculture</td>\n",
       "      <td>Seed</td>\n",
       "      <td>5840000.0</td>\n",
       "      <td>Mumbai</td>\n",
       "      <td>2018</td>\n",
       "    </tr>\n",
       "    <tr>\n",
       "      <th>2</th>\n",
       "      <td>MyLoanCare</td>\n",
       "      <td>Credit</td>\n",
       "      <td>Series A</td>\n",
       "      <td>9490000.0</td>\n",
       "      <td>Gurgaon</td>\n",
       "      <td>2018</td>\n",
       "    </tr>\n",
       "    <tr>\n",
       "      <th>3</th>\n",
       "      <td>PayMe India</td>\n",
       "      <td>Financial Services</td>\n",
       "      <td>Angel</td>\n",
       "      <td>2000000.0</td>\n",
       "      <td>Noida</td>\n",
       "      <td>2018</td>\n",
       "    </tr>\n",
       "    <tr>\n",
       "      <th>4</th>\n",
       "      <td>Eunimart</td>\n",
       "      <td>E-Commerce Platforms</td>\n",
       "      <td>Seed</td>\n",
       "      <td>3530000.0</td>\n",
       "      <td>Hyderabad</td>\n",
       "      <td>2018</td>\n",
       "    </tr>\n",
       "  </tbody>\n",
       "</table>\n",
       "</div>"
      ],
      "text/plain": [
       "      Company Name              Industry Round/Series    Amount   Location  \\\n",
       "0  TheCollegeFever       Brand Marketing         Seed  250000.0  Bangalore   \n",
       "1  Happy Cow Dairy           Agriculture         Seed 5840000.0     Mumbai   \n",
       "2       MyLoanCare                Credit     Series A 9490000.0    Gurgaon   \n",
       "3      PayMe India    Financial Services        Angel 2000000.0      Noida   \n",
       "4         Eunimart  E-Commerce Platforms         Seed 3530000.0  Hyderabad   \n",
       "\n",
       "   Year Funded  \n",
       "0         2018  \n",
       "1         2018  \n",
       "2         2018  \n",
       "3         2018  \n",
       "4         2018  "
      ]
     },
     "execution_count": 35,
     "metadata": {},
     "output_type": "execute_result"
    }
   ],
   "source": [
    "#Dropping columns\n",
    "data2018.drop(['About Company'],axis=1, inplace=True)\n",
    "data2018.head()"
   ]
  },
  {
   "cell_type": "markdown",
   "metadata": {},
   "source": [
    "### 3.3.2 2019 Data"
   ]
  },
  {
   "cell_type": "markdown",
   "metadata": {},
   "source": [
    "#### Data Exploration"
   ]
  },
  {
   "cell_type": "markdown",
   "metadata": {},
   "source": [
    "\n",
    "The exploration techniques vary for numerical, categorical, or time-series variables. Currently, \n",
    "\n",
    "Here we typically:\n",
    "\n",
    "- look at example records in the dataset\n",
    "- investigate the datatypes of variables in the dataset\n",
    "- calculate and investigate descriptive statistics (ex: central tendencies, variability etc.)\n",
    "\n",
    "Common steps to check the health of the data:\n",
    "\n",
    "- Check for missing data\n",
    "- Check the skewness of the data, outlier detection\n",
    "- etc..."
   ]
  },
  {
   "cell_type": "markdown",
   "metadata": {},
   "source": [
    "Look at Example Records"
   ]
  },
  {
   "cell_type": "code",
   "execution_count": 36,
   "metadata": {},
   "outputs": [
    {
     "data": {
      "text/html": [
       "<div>\n",
       "<style scoped>\n",
       "    .dataframe tbody tr th:only-of-type {\n",
       "        vertical-align: middle;\n",
       "    }\n",
       "\n",
       "    .dataframe tbody tr th {\n",
       "        vertical-align: top;\n",
       "    }\n",
       "\n",
       "    .dataframe thead th {\n",
       "        text-align: right;\n",
       "    }\n",
       "</style>\n",
       "<table border=\"1\" class=\"dataframe\">\n",
       "  <thead>\n",
       "    <tr style=\"text-align: right;\">\n",
       "      <th></th>\n",
       "      <th>Company/Brand</th>\n",
       "      <th>Founded</th>\n",
       "      <th>HeadQuarter</th>\n",
       "      <th>Sector</th>\n",
       "      <th>What it does</th>\n",
       "      <th>Founders</th>\n",
       "      <th>Investor</th>\n",
       "      <th>Amount($)</th>\n",
       "      <th>Stage</th>\n",
       "    </tr>\n",
       "  </thead>\n",
       "  <tbody>\n",
       "    <tr>\n",
       "      <th>16</th>\n",
       "      <td>Byju's</td>\n",
       "      <td>2011.0</td>\n",
       "      <td>NaN</td>\n",
       "      <td>Edtech</td>\n",
       "      <td>Provides online learning classes</td>\n",
       "      <td>Byju Raveendran</td>\n",
       "      <td>South Africa’s Naspers Ventures, the CPP Inves...</td>\n",
       "      <td>$540,000,000</td>\n",
       "      <td>NaN</td>\n",
       "    </tr>\n",
       "    <tr>\n",
       "      <th>47</th>\n",
       "      <td>Ecozen</td>\n",
       "      <td>NaN</td>\n",
       "      <td>Pune</td>\n",
       "      <td>AgriTech</td>\n",
       "      <td>It develops technology-enabled products to str...</td>\n",
       "      <td>Devendra Gupta, Prateek Singhal, Vivek Pandey</td>\n",
       "      <td>Innovation in Food &amp; Agriculture Fund (IFA Fund)</td>\n",
       "      <td>$6,000,000</td>\n",
       "      <td>Series A</td>\n",
       "    </tr>\n",
       "    <tr>\n",
       "      <th>28</th>\n",
       "      <td>HungerBox</td>\n",
       "      <td>2015.0</td>\n",
       "      <td>Bangalore</td>\n",
       "      <td>Foodtech</td>\n",
       "      <td>Offers B2B tech platform to corporates, aimed ...</td>\n",
       "      <td>Sandipan Mitra, Uttam Kumar</td>\n",
       "      <td>Paytm, Asian VC fund NPTK, Sabre Partners, Neo...</td>\n",
       "      <td>$12,000,000</td>\n",
       "      <td>Series C</td>\n",
       "    </tr>\n",
       "    <tr>\n",
       "      <th>21</th>\n",
       "      <td>Pristyn Care</td>\n",
       "      <td>2018.0</td>\n",
       "      <td>NaN</td>\n",
       "      <td>Healthcare</td>\n",
       "      <td>Delivers advanced medical care &amp; clinical exce...</td>\n",
       "      <td>Harsimarbir Singh, Dr Vaibhav Kapoor, Dr Garim...</td>\n",
       "      <td>Sequoia India, Hummingbird Ventures, Greenoaks...</td>\n",
       "      <td>$12,000,000</td>\n",
       "      <td>Series B</td>\n",
       "    </tr>\n",
       "    <tr>\n",
       "      <th>51</th>\n",
       "      <td>Freightwalla</td>\n",
       "      <td>2017.0</td>\n",
       "      <td>Mumbai</td>\n",
       "      <td>B2B</td>\n",
       "      <td>Provides digital platform for businesses to pl...</td>\n",
       "      <td>Sanjay Bhatia, Bharat Tanvi, Punit Java</td>\n",
       "      <td>Amplo, FJ Labs, Rogue One Capital</td>\n",
       "      <td>$4,000,000</td>\n",
       "      <td>Series A</td>\n",
       "    </tr>\n",
       "    <tr>\n",
       "      <th>18</th>\n",
       "      <td>Witblox</td>\n",
       "      <td>2014.0</td>\n",
       "      <td>NaN</td>\n",
       "      <td>Edtech</td>\n",
       "      <td>Offers a range of robotics learning tools</td>\n",
       "      <td>Amit Modi</td>\n",
       "      <td>Mumbai Angels Network</td>\n",
       "      <td>$182,700</td>\n",
       "      <td>NaN</td>\n",
       "    </tr>\n",
       "    <tr>\n",
       "      <th>25</th>\n",
       "      <td>Seekify</td>\n",
       "      <td>2019.0</td>\n",
       "      <td>Delhi</td>\n",
       "      <td>SaaS</td>\n",
       "      <td>Customer Experience (CX) Automation platform</td>\n",
       "      <td>Arihant Jain, Ajeet Kushwaha</td>\n",
       "      <td>Sequoia Capita</td>\n",
       "      <td>$1,500,000</td>\n",
       "      <td>Seed funding</td>\n",
       "    </tr>\n",
       "    <tr>\n",
       "      <th>31</th>\n",
       "      <td>truMe</td>\n",
       "      <td>NaN</td>\n",
       "      <td>NaN</td>\n",
       "      <td>IoT</td>\n",
       "      <td>A global platform for Identity and Access Mana...</td>\n",
       "      <td>Babu Dayal, Pramod Uniyal, Lalit Mehta</td>\n",
       "      <td>Rajan Kaistha</td>\n",
       "      <td>$140,000</td>\n",
       "      <td>NaN</td>\n",
       "    </tr>\n",
       "    <tr>\n",
       "      <th>1</th>\n",
       "      <td>Ruangguru</td>\n",
       "      <td>2014.0</td>\n",
       "      <td>Mumbai</td>\n",
       "      <td>Edtech</td>\n",
       "      <td>A learning platform that provides topic-based ...</td>\n",
       "      <td>Adamas Belva Syah Devara, Iman Usman.</td>\n",
       "      <td>General Atlantic</td>\n",
       "      <td>$150,000,000</td>\n",
       "      <td>Series C</td>\n",
       "    </tr>\n",
       "    <tr>\n",
       "      <th>11</th>\n",
       "      <td>Appnomic</td>\n",
       "      <td>NaN</td>\n",
       "      <td>Bangalore</td>\n",
       "      <td>SaaS</td>\n",
       "      <td>It is a self-healing enterprise, the IT operat...</td>\n",
       "      <td>D Padmanabhan</td>\n",
       "      <td>Avataar Ventures</td>\n",
       "      <td>$22,000,000</td>\n",
       "      <td>NaN</td>\n",
       "    </tr>\n",
       "  </tbody>\n",
       "</table>\n",
       "</div>"
      ],
      "text/plain": [
       "   Company/Brand  Founded HeadQuarter      Sector  \\\n",
       "16        Byju's   2011.0         NaN      Edtech   \n",
       "47        Ecozen      NaN        Pune    AgriTech   \n",
       "28     HungerBox   2015.0   Bangalore    Foodtech   \n",
       "21  Pristyn Care   2018.0         NaN  Healthcare   \n",
       "51  Freightwalla   2017.0      Mumbai         B2B   \n",
       "18       Witblox   2014.0         NaN      Edtech   \n",
       "25       Seekify   2019.0       Delhi        SaaS   \n",
       "31         truMe      NaN         NaN         IoT   \n",
       "1      Ruangguru   2014.0      Mumbai      Edtech   \n",
       "11      Appnomic      NaN   Bangalore        SaaS   \n",
       "\n",
       "                                         What it does  \\\n",
       "16                   Provides online learning classes   \n",
       "47  It develops technology-enabled products to str...   \n",
       "28  Offers B2B tech platform to corporates, aimed ...   \n",
       "21  Delivers advanced medical care & clinical exce...   \n",
       "51  Provides digital platform for businesses to pl...   \n",
       "18          Offers a range of robotics learning tools   \n",
       "25       Customer Experience (CX) Automation platform   \n",
       "31  A global platform for Identity and Access Mana...   \n",
       "1   A learning platform that provides topic-based ...   \n",
       "11  It is a self-healing enterprise, the IT operat...   \n",
       "\n",
       "                                             Founders  \\\n",
       "16                                    Byju Raveendran   \n",
       "47      Devendra Gupta, Prateek Singhal, Vivek Pandey   \n",
       "28                        Sandipan Mitra, Uttam Kumar   \n",
       "21  Harsimarbir Singh, Dr Vaibhav Kapoor, Dr Garim...   \n",
       "51            Sanjay Bhatia, Bharat Tanvi, Punit Java   \n",
       "18                                          Amit Modi   \n",
       "25                       Arihant Jain, Ajeet Kushwaha   \n",
       "31             Babu Dayal, Pramod Uniyal, Lalit Mehta   \n",
       "1               Adamas Belva Syah Devara, Iman Usman.   \n",
       "11                                      D Padmanabhan   \n",
       "\n",
       "                                             Investor     Amount($)  \\\n",
       "16  South Africa’s Naspers Ventures, the CPP Inves...  $540,000,000   \n",
       "47   Innovation in Food & Agriculture Fund (IFA Fund)    $6,000,000   \n",
       "28  Paytm, Asian VC fund NPTK, Sabre Partners, Neo...   $12,000,000   \n",
       "21  Sequoia India, Hummingbird Ventures, Greenoaks...   $12,000,000   \n",
       "51                  Amplo, FJ Labs, Rogue One Capital    $4,000,000   \n",
       "18                              Mumbai Angels Network      $182,700   \n",
       "25                                     Sequoia Capita    $1,500,000   \n",
       "31                                      Rajan Kaistha      $140,000   \n",
       "1                                    General Atlantic  $150,000,000   \n",
       "11                                   Avataar Ventures   $22,000,000   \n",
       "\n",
       "           Stage  \n",
       "16           NaN  \n",
       "47      Series A  \n",
       "28      Series C  \n",
       "21      Series B  \n",
       "51      Series A  \n",
       "18           NaN  \n",
       "25  Seed funding  \n",
       "31           NaN  \n",
       "1       Series C  \n",
       "11           NaN  "
      ]
     },
     "execution_count": 36,
     "metadata": {},
     "output_type": "execute_result"
    }
   ],
   "source": [
    " # display 10 random rows from the dataset \n",
    "data_2019.sample(10)"
   ]
  },
  {
   "cell_type": "markdown",
   "metadata": {},
   "source": [
    "#### Data-types, completeness Information\n",
    "\n",
    "Using the Pandas \"info\" function, in addition to the data-type information for the dataset, we can look at counts of available records/missing records too."
   ]
  },
  {
   "cell_type": "code",
   "execution_count": 37,
   "metadata": {},
   "outputs": [
    {
     "name": "stdout",
     "output_type": "stream",
     "text": [
      "<class 'pandas.core.frame.DataFrame'>\n",
      "RangeIndex: 89 entries, 0 to 88\n",
      "Data columns (total 9 columns):\n",
      " #   Column         Non-Null Count  Dtype  \n",
      "---  ------         --------------  -----  \n",
      " 0   Company/Brand  89 non-null     object \n",
      " 1   Founded        60 non-null     float64\n",
      " 2   HeadQuarter    70 non-null     object \n",
      " 3   Sector         84 non-null     object \n",
      " 4   What it does   89 non-null     object \n",
      " 5   Founders       86 non-null     object \n",
      " 6   Investor       89 non-null     object \n",
      " 7   Amount($)      89 non-null     object \n",
      " 8   Stage          43 non-null     object \n",
      "dtypes: float64(1), object(8)\n",
      "memory usage: 6.4+ KB\n"
     ]
    }
   ],
   "source": [
    "data_2019.info()"
   ]
  },
  {
   "cell_type": "markdown",
   "metadata": {},
   "source": [
    "From the summary above:\n",
    "* All data types are string except the Founded column\n",
    "* There are missing values in Founded, Headquarter, Sector, Founders, Stage columns\n"
   ]
  },
  {
   "cell_type": "code",
   "execution_count": 38,
   "metadata": {},
   "outputs": [
    {
     "data": {
      "text/plain": [
       "Index(['Company/Brand', 'Founded', 'HeadQuarter', 'Sector', 'What it does',\n",
       "       'Founders', 'Investor', 'Amount($)', 'Stage'],\n",
       "      dtype='object')"
      ]
     },
     "execution_count": 38,
     "metadata": {},
     "output_type": "execute_result"
    }
   ],
   "source": [
    "# check the columns \n",
    "data_2019.columns"
   ]
  },
  {
   "cell_type": "markdown",
   "metadata": {},
   "source": [
    "#### Data Cleaning "
   ]
  },
  {
   "cell_type": "markdown",
   "metadata": {},
   "source": [
    "To reduce code repetition, a few fuctions were created to :\n",
    "* Calculate descriptive statistics of a variable\n",
    "* Plot the data distribution of a variable using a histogram\n",
    "* Check for missing values in a variable\n"
   ]
  },
  {
   "cell_type": "code",
   "execution_count": 39,
   "metadata": {},
   "outputs": [],
   "source": [
    "# Function to calculate descriptive statistics of a variable\n",
    "def calculate_descriptive_stats(variable):\n",
    "    return variable.describe()\n",
    "\n",
    "# Function to plot the data distribution of a variable using a histogram\n",
    "def plot_data_distribution(variable):\n",
    "    plt.hist(variable)\n",
    "    plt.xlabel('Values')\n",
    "    plt.ylabel('Frequency')\n",
    "    plt.title('Histogram')\n",
    "    plt.show()\n",
    "\n",
    "# Function to check for missing values in a variable\n",
    "def check_missing_values(variable):\n",
    "    return variable.isnull().sum()\n",
    "\n",
    "# detect outliers\n",
    "def detect_outliers(data, column):\n",
    "    Q1 = data[column].quantile(0.25)\n",
    "    Q3 = data[column].quantile(0.75)\n",
    "    IQR = Q3 - Q1\n",
    "    lower_bound = Q1 - 1.5 * IQR\n",
    "    upper_bound = Q3 + 1.5 * IQR\n",
    "    outliers = data[(data[column] < lower_bound) | (data[column] > upper_bound)]\n",
    "    return outliers\n",
    "  \n",
    "\n"
   ]
  },
  {
   "cell_type": "markdown",
   "metadata": {},
   "source": [
    "#### Investigating missing Values\n"
   ]
  },
  {
   "cell_type": "code",
   "execution_count": 40,
   "metadata": {},
   "outputs": [
    {
     "data": {
      "text/plain": [
       "Company/Brand     0\n",
       "Founded          29\n",
       "HeadQuarter      19\n",
       "Sector            5\n",
       "What it does      0\n",
       "Founders          3\n",
       "Investor          0\n",
       "Amount($)         0\n",
       "Stage            46\n",
       "dtype: int64"
      ]
     },
     "execution_count": 40,
     "metadata": {},
     "output_type": "execute_result"
    }
   ],
   "source": [
    "check_missing_values(data_2019)"
   ]
  },
  {
   "cell_type": "markdown",
   "metadata": {},
   "source": [
    "#### Visualizing missing values"
   ]
  },
  {
   "cell_type": "code",
   "execution_count": 41,
   "metadata": {},
   "outputs": [],
   "source": [
    "def plot_missing_values_heatmap(dataframe):\n",
    "    # Creating a DataFrame indicating missing values\n",
    "    missing_values = dataframe.isnull()\n",
    "    # Plotting the missing values heatmap\n",
    "    sns.heatmap(missing_values, cmap='viridis')\n",
    "    # Setting plot properties\n",
    "    plt.title('Missing Values Heatmap')\n",
    "    plt.xlabel('Columns')\n",
    "    plt.ylabel('Rows')\n",
    "    # Display the plot\n",
    "    plt.show()"
   ]
  },
  {
   "cell_type": "code",
   "execution_count": 42,
   "metadata": {},
   "outputs": [
    {
     "data": {
      "image/png": "[encoded data removed]",
      "text/plain": [
       "<Figure size 640x480 with 2 Axes>"
      ]
     },
     "metadata": {},
     "output_type": "display_data"
    }
   ],
   "source": [
    "plot_missing_values_heatmap(data_2019)"
   ]
  },
  {
   "cell_type": "markdown",
   "metadata": {},
   "source": [
    "From the heatmap, it is clearly seen that ```Stage``` column has the most missing values followed by ```Founded``` while ```Company/Brand``` , ```What it does``` and ```Investor/Amount($)``` columns have no missing values."
   ]
  },
  {
   "cell_type": "markdown",
   "metadata": {},
   "source": [
    "#### **Company column Exploration**"
   ]
  },
  {
   "cell_type": "markdown",
   "metadata": {},
   "source": [
    "Data Cleaning Steps:\n",
    "- Data Exploration and Descriptive Statistics\n",
    "- Number of Company Names\n",
    "- Remove leading, trailing spaces and Standardize case\n",
    "- Handle missing values"
   ]
  },
  {
   "cell_type": "markdown",
   "metadata": {},
   "source": [
    "Data Exploration and Descriptive Statistics"
   ]
  },
  {
   "cell_type": "code",
   "execution_count": 43,
   "metadata": {},
   "outputs": [
    {
     "name": "stdout",
     "output_type": "stream",
     "text": [
      "Count of Unique Company Names: 87\n",
      "\n",
      "Most Common Company Name(s):\n",
      "Kratikal    2\n",
      "Licious     2\n",
      "Name: Company/Brand, dtype: int64\n"
     ]
    }
   ],
   "source": [
    "# Calculate the count of unique company names\n",
    "unique_company_count = data_2019['Company/Brand'].nunique()\n",
    "print(\"Count of Unique Company Names: {}\".format(unique_company_count))\n",
    "\n",
    "# Examine the most common company names\n",
    "company_name_counts = data_2019['Company/Brand'].value_counts()\n",
    "most_common_names = company_name_counts[company_name_counts == company_name_counts.max()]\n",
    "print(\"\\nMost Common Company Name(s):\")\n",
    "print(most_common_names)"
   ]
  },
  {
   "cell_type": "markdown",
   "metadata": {},
   "source": [
    "Remove leading, trailing spaces and Standardize case"
   ]
  },
  {
   "cell_type": "code",
   "execution_count": 44,
   "metadata": {},
   "outputs": [],
   "source": [
    "# Remove leading and trailing spaces from the 'Company Name' column\n",
    "data_2019['Company/Brand'] = data_2019['Company/Brand'].str.strip()\n",
    "\n",
    "# standardize city name to lower case\n",
    "data_2019['Company/Brand'] = data_2019['Company/Brand'].str.title()"
   ]
  },
  {
   "cell_type": "markdown",
   "metadata": {},
   "source": [
    "Handle missing values"
   ]
  },
  {
   "cell_type": "code",
   "execution_count": 45,
   "metadata": {},
   "outputs": [
    {
     "data": {
      "text/plain": [
       "0"
      ]
     },
     "execution_count": 45,
     "metadata": {},
     "output_type": "execute_result"
    }
   ],
   "source": [
    "# Check missing values\n",
    "check_missing_values(data_2019['Company/Brand'])"
   ]
  },
  {
   "cell_type": "markdown",
   "metadata": {},
   "source": [
    "The ```Company Name``` column has no missing values."
   ]
  },
  {
   "cell_type": "markdown",
   "metadata": {},
   "source": [
    "#### **Year Founded Exploration**"
   ]
  },
  {
   "cell_type": "markdown",
   "metadata": {},
   "source": [
    "Data cleaning steps:\n",
    "- Validate data format\n",
    "- Handle missing values\n",
    "- Identifying Outliers"
   ]
  },
  {
   "cell_type": "markdown",
   "metadata": {},
   "source": [
    "Handle the missing values"
   ]
  },
  {
   "cell_type": "code",
   "execution_count": 46,
   "metadata": {},
   "outputs": [
    {
     "data": {
      "text/plain": [
       "29"
      ]
     },
     "execution_count": 46,
     "metadata": {},
     "output_type": "execute_result"
    }
   ],
   "source": [
    "# Check missing values\n",
    "check_missing_values(data_2019['Founded'])"
   ]
  },
  {
   "cell_type": "markdown",
   "metadata": {},
   "source": [
    "The column ```Year Founded``` contains 29 missing values which will handle by replacing them with the mode."
   ]
  },
  {
   "cell_type": "code",
   "execution_count": 47,
   "metadata": {},
   "outputs": [],
   "source": [
    "# Create an instance of the SimpleImputer with the median strategy\n",
    "array = data_2019['Founded'].values.reshape(-1,1)\n",
    "imputer = SimpleImputer(strategy='most_frequent')\n",
    "\n",
    "# Fit the imputer on the 'Year Founded' column and transform the column to impute missing values\n",
    "data_2019['Founded'] = imputer.fit_transform(array)"
   ]
  },
  {
   "cell_type": "markdown",
   "metadata": {},
   "source": [
    "Validate data format<br>\n",
    "* The column will be converted into an interger from the earlier float data type."
   ]
  },
  {
   "cell_type": "code",
   "execution_count": 48,
   "metadata": {},
   "outputs": [
    {
     "data": {
      "text/plain": [
       "0    2015\n",
       "1    2014\n",
       "2    2015\n",
       "3    2014\n",
       "4    2004\n",
       "Name: Founded, dtype: int32"
      ]
     },
     "execution_count": 48,
     "metadata": {},
     "output_type": "execute_result"
    }
   ],
   "source": [
    "# Convert the 'Year Founded' column to integer\n",
    "data_2019['Founded'] = data_2019['Founded'].astype(int)\n",
    "data_2019['Founded'].head()"
   ]
  },
  {
   "cell_type": "markdown",
   "metadata": {},
   "source": [
    "#### **Headquarter Exploration**"
   ]
  },
  {
   "cell_type": "markdown",
   "metadata": {},
   "source": [
    "Data cleaning steps:\n",
    "- Remove leading, trailing spaces and Standardize case\n",
    "- Handle missing values\n",
    "- Number of cities\n",
    "- Examine the most common cities"
   ]
  },
  {
   "cell_type": "markdown",
   "metadata": {},
   "source": [
    "Remove leading, trailing spaces and Standardize case"
   ]
  },
  {
   "cell_type": "code",
   "execution_count": 49,
   "metadata": {},
   "outputs": [],
   "source": [
    "# Standardize case\n",
    "data_2019['HeadQuarter'] = data_2019['HeadQuarter'].str.title()\n",
    "\n",
    "# Remove leading and trailing spaces\n",
    "data_2019['HeadQuarter'] = data_2019['HeadQuarter'].str.strip()"
   ]
  },
  {
   "cell_type": "markdown",
   "metadata": {},
   "source": [
    "Handle the missing Values"
   ]
  },
  {
   "cell_type": "code",
   "execution_count": 50,
   "metadata": {},
   "outputs": [
    {
     "data": {
      "text/plain": [
       "19"
      ]
     },
     "execution_count": 50,
     "metadata": {},
     "output_type": "execute_result"
    }
   ],
   "source": [
    "# Check missing values\n",
    "check_missing_values(data_2019['HeadQuarter'])"
   ]
  },
  {
   "cell_type": "markdown",
   "metadata": {},
   "source": [
    "The columns contains 19 missing values which will replace with 'Unknown' ."
   ]
  },
  {
   "cell_type": "code",
   "execution_count": 51,
   "metadata": {},
   "outputs": [],
   "source": [
    "# fill the null categorical values with 'Unknown'\n",
    "data_2019['HeadQuarter'] = data_2019['HeadQuarter'].fillna('Unknown')"
   ]
  },
  {
   "cell_type": "markdown",
   "metadata": {},
   "source": [
    "Data exploration and descriptive stastistics"
   ]
  },
  {
   "cell_type": "code",
   "execution_count": 52,
   "metadata": {},
   "outputs": [
    {
     "name": "stdout",
     "output_type": "stream",
     "text": [
      "Count of Unique Cities: 18\n",
      "\n",
      "Most Common Cities:\n",
      "Bangalore    21\n",
      "Name: HeadQuarter, dtype: int64\n"
     ]
    }
   ],
   "source": [
    "# Calculate the count of unique cities\n",
    "unique_city_count = data_2019['HeadQuarter'].nunique()\n",
    "print(\"Count of Unique Cities: {}\".format(unique_city_count))\n",
    "\n",
    "# Examine the most common cities\n",
    "city_counts = data_2019['HeadQuarter'].value_counts()\n",
    "most_common_cities = city_counts[city_counts == city_counts.max()]\n",
    "print(\"\\nMost Common Cities:\")\n",
    "print(most_common_cities)"
   ]
  },
  {
   "cell_type": "markdown",
   "metadata": {},
   "source": [
    "#### **Explore Sector**"
   ]
  },
  {
   "cell_type": "markdown",
   "metadata": {},
   "source": [
    "Data Cleaning Steps:\n",
    "- Data Exploration and Descriptive Statistics\n",
    "- Clean sector name\n",
    "- Remove leading, trailing spaces and Standardize case\n",
    "- Handle missing values"
   ]
  },
  {
   "cell_type": "markdown",
   "metadata": {},
   "source": [
    "Data Exploration and Descriptive Statistics"
   ]
  },
  {
   "cell_type": "code",
   "execution_count": 53,
   "metadata": {},
   "outputs": [
    {
     "name": "stdout",
     "output_type": "stream",
     "text": [
      "Count of Unique Sectors: 52\n",
      "\n",
      "Most Common Sectors:\n",
      "Edtech    7\n",
      "Name: Sector, dtype: int64\n"
     ]
    }
   ],
   "source": [
    "# Calculate the count of unique sectors\n",
    "unique_sector_count = data_2019['Sector'].nunique()\n",
    "print(\"Count of Unique Sectors: {}\".format(unique_sector_count))\n",
    "\n",
    "# Examine the most common sectors\n",
    "sector_counts = data_2019['Sector'].value_counts()\n",
    "most_common_sectors = sector_counts[sector_counts == sector_counts.max()]\n",
    "print(\"\\nMost Common Sectors:\")\n",
    "print(most_common_sectors)"
   ]
  },
  {
   "cell_type": "markdown",
   "metadata": {},
   "source": [
    "Clean sector names"
   ]
  },
  {
   "cell_type": "code",
   "execution_count": 54,
   "metadata": {},
   "outputs": [],
   "source": [
    "# cleaning sectory names\n",
    "sector_replacements = {\n",
    "    'AI & Tech': 'AI',\n",
    "    'Ai': 'AI',\n",
    "    'Automobile & Technology': 'Automobile',\n",
    "    'Automotive tech': 'Automobile',\n",
    "    'Automotive Tech': 'Automobile',\n",
    "    'B2B Supply Chain': 'B2B',\n",
    "    'E-commerce & AR': 'E-commerce',\n",
    "    'E-commerce & Ar': 'E-commerce',\n",
    "    'E-Commerce & Ar': 'E-commerce',\n",
    "    'Ecommerce': 'E-commerce',\n",
    "    'Food & Nutrition': 'Food',\n",
    "    'Food & tech': 'Food',\n",
    "    'Food & Tech': 'Food',\n",
    "    'Food Tech': 'Food',\n",
    "    'Foodtech': 'Food',\n",
    "    'Games': 'Gaming',\n",
    "    'Healthcare': 'Health',\n",
    "    'Healthtech': 'Health',\n",
    "    'Manufacturing': 'Industrial',\n",
    "    'Marketing & Customer loyalty': 'Marketing',\n",
    "    'Marketing & Customer Loyalty': 'Marketing',\n",
    "    'Pharmaceutical': 'Pharma',\n",
    "    'Robotics & AI': 'AI',\n",
    "    'Robotics & Ai': 'AI',\n",
    "    'SaaS': 'Software',\n",
    "    'Safety tech': 'Security',\n",
    "    'Social Media': 'SocialMedia',\n",
    "    'Transport & Rentals': 'Transportation',\n",
    "    'Virtual Banking': 'Banking',\n",
    "    'Yoga & wellness': 'Wellness',\n",
    "    'Hr Tech': \"Human Resource\",\n",
    "    'Ai & Tech': 'AI',\n",
    "}\n",
    "data_2019['Sector'] = data_2019['Sector'].replace(sector_replacements)"
   ]
  },
  {
   "cell_type": "markdown",
   "metadata": {},
   "source": [
    "Remove leading, trailing spaces and Standardize case"
   ]
  },
  {
   "cell_type": "code",
   "execution_count": 55,
   "metadata": {},
   "outputs": [],
   "source": [
    "# Standardize case\n",
    "data_2019['Sector'] = data_2019['Sector'].str.title()\n",
    "\n",
    "# Remove leading and trailing spaces\n",
    "data_2019['Sector'] = data_2019['Sector'].str.strip()"
   ]
  },
  {
   "cell_type": "markdown",
   "metadata": {},
   "source": [
    "Handle missing values"
   ]
  },
  {
   "cell_type": "code",
   "execution_count": 56,
   "metadata": {},
   "outputs": [
    {
     "data": {
      "text/plain": [
       "5"
      ]
     },
     "execution_count": 56,
     "metadata": {},
     "output_type": "execute_result"
    }
   ],
   "source": [
    "# Check missing values\n",
    "check_missing_values(data_2019['Sector'])"
   ]
  },
  {
   "cell_type": "markdown",
   "metadata": {},
   "source": [
    "The column contains 5 missing values which will be replaced by 'Unknown' value"
   ]
  },
  {
   "cell_type": "code",
   "execution_count": 57,
   "metadata": {},
   "outputs": [],
   "source": [
    "# Handle missing values\n",
    "data_2019['Sector'] = data_2019['Sector'].fillna('Unknown')"
   ]
  },
  {
   "cell_type": "markdown",
   "metadata": {},
   "source": [
    "#### **Explore Investor**"
   ]
  },
  {
   "cell_type": "markdown",
   "metadata": {},
   "source": [
    "Data Cleaning Steps:\n",
    "- Data Exploration and Descriptive Statistics\n",
    "- Remove leading, trailing spaces and Standardize case\n",
    "- Detect duplicates\n",
    "- Handle missing values"
   ]
  },
  {
   "cell_type": "markdown",
   "metadata": {},
   "source": [
    "Data Exploration and Descriptive Statistics"
   ]
  },
  {
   "cell_type": "code",
   "execution_count": 58,
   "metadata": {},
   "outputs": [
    {
     "name": "stdout",
     "output_type": "stream",
     "text": [
      "Count of Unique Investors: 86\n",
      "\n",
      "Most Common Investor(s):\n",
      "Undisclosed    3\n",
      "Name: Investor, dtype: int64\n"
     ]
    }
   ],
   "source": [
    "# Calculate the count of unique Investor names\n",
    "unique_investors_count = data_2019['Investor'].nunique()\n",
    "print(\"Count of Unique Investors: {}\".format(unique_investors_count))\n",
    "\n",
    "# Examine the most common Investors\n",
    "investors_name_counts = data_2019['Investor'].value_counts()\n",
    "most_common_Investors = investors_name_counts[investors_name_counts == investors_name_counts.max()]\n",
    "print(\"\\nMost Common Investor(s):\")\n",
    "print(most_common_Investors)"
   ]
  },
  {
   "cell_type": "markdown",
   "metadata": {},
   "source": [
    "Remove leading, trailing spaces and Standardize case"
   ]
  },
  {
   "cell_type": "code",
   "execution_count": 59,
   "metadata": {},
   "outputs": [
    {
     "data": {
      "text/plain": [
       "0                                 Sixth Sense Ventures\n",
       "1                                     General Atlantic\n",
       "2     Deepak Parekh & Amitabh Bachchan & Piyush Pandey\n",
       "3    Evolvence India Fund (EIF) & Pidilite Group & ...\n",
       "4             Innovation in Food and Agriculture (IFA)\n",
       "5                                          Undisclosed\n",
       "6    Social Capital & AngelList India & Gemba Capit...\n",
       "7         Gilda VC & Art Venture & Rajeev Chitrabhanu.\n",
       "8                 Multiples Alternate Asset Management\n",
       "9                                             SoftBank\n",
       "Name: Investor, dtype: object"
      ]
     },
     "execution_count": 59,
     "metadata": {},
     "output_type": "execute_result"
    }
   ],
   "source": [
    "# Cleaning Investor names\n",
    "data_2019['Investor'] = data_2019['Investor'].str.strip()\n",
    "data_2019['Investor'] = data_2019['Investor'].str.split(',')\n",
    "\n",
    "# Formatting Investors\n",
    "data_2019['Investor'] = data_2019['Investor'].apply(lambda x: ' & '.join([str(name).strip() for name in x]))\n",
    "data_2019['Investor'].head(10)"
   ]
  },
  {
   "cell_type": "markdown",
   "metadata": {},
   "source": [
    "Handle missing values\n"
   ]
  },
  {
   "cell_type": "code",
   "execution_count": 60,
   "metadata": {},
   "outputs": [
    {
     "data": {
      "text/plain": [
       "0"
      ]
     },
     "execution_count": 60,
     "metadata": {},
     "output_type": "execute_result"
    }
   ],
   "source": [
    "# Check missing values\n",
    "check_missing_values(data_2019['Investor'])"
   ]
  },
  {
   "cell_type": "markdown",
   "metadata": {},
   "source": [
    "The column does not contain any missing values."
   ]
  },
  {
   "cell_type": "markdown",
   "metadata": {},
   "source": [
    "#### **Explore Funding Amount**"
   ]
  },
  {
   "cell_type": "markdown",
   "metadata": {},
   "source": [
    "Data Cleaning Steps:\n",
    "- Data Exploration and Descriptive Statistics\n",
    "- Remove and replacing empty spaces, leading and trailing spaces\n",
    "- Handle missing values\n",
    "- Visualize the distribution\n",
    "- Detecting and removing Outliers"
   ]
  },
  {
   "cell_type": "code",
   "execution_count": 61,
   "metadata": {},
   "outputs": [
    {
     "data": {
      "text/plain": [
       "0       $6,300,000\n",
       "1     $150,000,000\n",
       "2      $28,000,000\n",
       "3      $30,000,000\n",
       "4       $6,000,000\n",
       "          ...     \n",
       "84     $20,000,000\n",
       "85    $693,000,000\n",
       "86      $5,000,000\n",
       "87     $50,000,000\n",
       "88     $33,000,000\n",
       "Name: Amount($), Length: 89, dtype: object"
      ]
     },
     "execution_count": 61,
     "metadata": {},
     "output_type": "execute_result"
    }
   ],
   "source": [
    "\n",
    "data_2019['Amount($)']"
   ]
  },
  {
   "cell_type": "markdown",
   "metadata": {},
   "source": [
    "Data Exploration and Descriptive Statistics"
   ]
  },
  {
   "cell_type": "code",
   "execution_count": 62,
   "metadata": {},
   "outputs": [
    {
     "name": "stdout",
     "output_type": "stream",
     "text": [
      "Descriptive Statistics:\n",
      "count              89\n",
      "unique             50\n",
      "top       Undisclosed\n",
      "freq               12\n",
      "Name: Amount($), dtype: object\n",
      "\n"
     ]
    }
   ],
   "source": [
    "# Data Exploration and Descriptive Statistics\n",
    "print(\"Descriptive Statistics:\")\n",
    "print(data_2019['Amount($)'].describe())\n",
    "print()"
   ]
  },
  {
   "cell_type": "markdown",
   "metadata": {},
   "source": [
    "Remove and replacing empty spaces, leading and trailing spaces"
   ]
  },
  {
   "cell_type": "code",
   "execution_count": 63,
   "metadata": {},
   "outputs": [],
   "source": [
    "# Remove the dollar sign\n",
    "data_2019['Amount($)'] = data_2019['Amount($)'].str.replace('$','').replace(',', '', regex=True)\n",
    "\n",
    "# Cleaning the Funding Amount ($)\n",
    "data_2019['Amount($)'] = pd.to_numeric(data_2019['Amount($)'], errors='coerce')"
   ]
  },
  {
   "cell_type": "markdown",
   "metadata": {},
   "source": [
    "Handle Undisclosed Values"
   ]
  },
  {
   "cell_type": "code",
   "execution_count": 64,
   "metadata": {},
   "outputs": [],
   "source": [
    "# handling undisclosed\n",
    "data_2019['Amount($)'] = data_2019['Amount($)'].replace('Undisclosed', np.nan)"
   ]
  },
  {
   "cell_type": "code",
   "execution_count": 65,
   "metadata": {},
   "outputs": [],
   "source": [
    "# Create an instance of the SimpleImputer with the median strategy\n",
    "imputer = SimpleImputer(strategy='median')\n",
    "\n",
    "# Fit the imputer on the 'Year Founded' column and transform the column to impute missing values\n",
    "data_2019['Amount($)'] = imputer.fit_transform(data_2019[['Amount($)']])"
   ]
  },
  {
   "cell_type": "markdown",
   "metadata": {},
   "source": [
    "Detecting and removing Outliers"
   ]
  },
  {
   "cell_type": "code",
   "execution_count": 66,
   "metadata": {},
   "outputs": [
    {
     "data": {
      "text/plain": [
       "count          89.0\n",
       "mean     38297002.2\n",
       "std     103599437.8\n",
       "min        100000.0\n",
       "25%       4000000.0\n",
       "50%       6000000.0\n",
       "75%      26000000.0\n",
       "max     693000000.0\n",
       "Name: Amount($), dtype: float64"
      ]
     },
     "execution_count": 66,
     "metadata": {},
     "output_type": "execute_result"
    }
   ],
   "source": [
    "data_2019['Amount($)'].describe()"
   ]
  },
  {
   "cell_type": "code",
   "execution_count": 67,
   "metadata": {},
   "outputs": [
    {
     "data": {
      "image/png": "[encoded data removed]",
      "text/plain": [
       "<Figure size 800x600 with 1 Axes>"
      ]
     },
     "metadata": {},
     "output_type": "display_data"
    }
   ],
   "source": [
    "# Box Plot to visualize outliers\n",
    "plt.figure(figsize=(8, 6))\n",
    "sns.boxplot(x=data_2019['Amount($)'])\n",
    "plt.title('Box Plot - Amount($)')\n",
    "plt.xlabel('Amount($)')\n",
    "plt.show()"
   ]
  },
  {
   "cell_type": "markdown",
   "metadata": {},
   "source": [
    "#### Handle Outliers"
   ]
  },
  {
   "cell_type": "code",
   "execution_count": 68,
   "metadata": {},
   "outputs": [
    {
     "name": "stdout",
     "output_type": "stream",
     "text": [
      "Number of Outliers: 10\n",
      "\n",
      "Number of Outliers after Handling: 7\n"
     ]
    }
   ],
   "source": [
    "# Detecting outliers:\n",
    "outliers = detect_outliers(data_2019, 'Amount($)')\n",
    "print(\"Number of Outliers: {}\".format(len(outliers)))\n",
    "print()\n",
    "\n",
    "# removing outliers:\n",
    "data_2019 = data_2019[~data_2019['Amount($)'].isin(outliers['Amount($)'])]\n",
    "\n",
    "# Verify if outliers were handled\n",
    "outliers_after_handling = detect_outliers(data_2019, 'Amount($)')\n",
    "print(\"Number of Outliers after Handling: {}\".format(len(outliers_after_handling)))"
   ]
  },
  {
   "cell_type": "markdown",
   "metadata": {},
   "source": [
    "After handling the outliers"
   ]
  },
  {
   "cell_type": "code",
   "execution_count": 69,
   "metadata": {},
   "outputs": [
    {
     "data": {
      "image/png": "[encoded data removed]",
      "text/plain": [
       "<Figure size 800x600 with 1 Axes>"
      ]
     },
     "metadata": {},
     "output_type": "display_data"
    }
   ],
   "source": [
    "# Box Plot to visualize outliers\n",
    "plt.figure(figsize=(8, 6))\n",
    "sns.boxplot(x=data_2019['Amount($)'])\n",
    "plt.title('Box Plot - Amount($)')\n",
    "plt.xlabel('Amount($)')\n",
    "plt.show()"
   ]
  },
  {
   "cell_type": "code",
   "execution_count": 70,
   "metadata": {},
   "outputs": [
    {
     "name": "stdout",
     "output_type": "stream",
     "text": [
      "\n",
      "Number of Outliers reduced to: 7\n",
      "\n"
     ]
    }
   ],
   "source": [
    "# Detecting outliers:\n",
    "outliers = detect_outliers(data_2019, 'Amount($)')\n",
    "print(\"\\nNumber of Outliers reduced to: {}\".format(len(outliers)))\n",
    "print()"
   ]
  },
  {
   "cell_type": "markdown",
   "metadata": {},
   "source": [
    "#### **Explore Stage**"
   ]
  },
  {
   "cell_type": "markdown",
   "metadata": {},
   "source": [
    "Clean Funding Round names"
   ]
  },
  {
   "cell_type": "code",
   "execution_count": 71,
   "metadata": {},
   "outputs": [
    {
     "data": {
      "text/plain": [
       "Series A         10\n",
       "Pre series A      8\n",
       "Series B          8\n",
       "Series D          2\n",
       "Series C          2\n",
       "Fresh funding     1\n",
       "Post series A     1\n",
       "Seed funding      1\n",
       "Seed fund         1\n",
       "Series E          1\n",
       "Series F          1\n",
       "Series B+         1\n",
       "Seed round        1\n",
       "Pre-series A      1\n",
       "Name: Stage, dtype: int64"
      ]
     },
     "execution_count": 71,
     "metadata": {},
     "output_type": "execute_result"
    }
   ],
   "source": [
    "data_2019[\"Stage\"].value_counts()"
   ]
  },
  {
   "cell_type": "code",
   "execution_count": 72,
   "metadata": {},
   "outputs": [],
   "source": [
    "#cleaning Funding round names\n",
    "funding_round_replacement = {\n",
    "    \"Fresh funding\" :\"Seed\",\n",
    "    \"Seed funding\":\"Seed\",\n",
    "    \"Seed fund\" :\"Seed\",\n",
    "    \"Pre series A\": \"Pre-series A\",\n",
    "    \"Series B+\" : \"Series B\",\n",
    "    \"Seed round\" :\"Seed\"}\n",
    "data_2019['Stage'] = data_2019['Stage'].replace(funding_round_replacement)"
   ]
  },
  {
   "cell_type": "code",
   "execution_count": 73,
   "metadata": {},
   "outputs": [
    {
     "data": {
      "text/plain": [
       "Series A         10\n",
       "Pre-series A      9\n",
       "Series B          9\n",
       "Seed              4\n",
       "Series D          2\n",
       "Series C          2\n",
       "Post series A     1\n",
       "Series E          1\n",
       "Series F          1\n",
       "Name: Stage, dtype: int64"
      ]
     },
     "execution_count": 73,
     "metadata": {},
     "output_type": "execute_result"
    }
   ],
   "source": [
    "data_2019[\"Stage\"].value_counts()"
   ]
  },
  {
   "cell_type": "markdown",
   "metadata": {},
   "source": [
    "#### Handle missing values"
   ]
  },
  {
   "cell_type": "code",
   "execution_count": 74,
   "metadata": {},
   "outputs": [
    {
     "data": {
      "text/plain": [
       "40"
      ]
     },
     "execution_count": 74,
     "metadata": {},
     "output_type": "execute_result"
    }
   ],
   "source": [
    "# Check missing values\n",
    "check_missing_values(data_2019['Stage'])"
   ]
  },
  {
   "cell_type": "markdown",
   "metadata": {},
   "source": [
    "The column contains 40 missing values which will handle by filling them in with 'Unknown' value."
   ]
  },
  {
   "cell_type": "code",
   "execution_count": 75,
   "metadata": {},
   "outputs": [],
   "source": [
    "data_2019['Stage'] = data_2019['Stage'].fillna('Unknown')"
   ]
  },
  {
   "cell_type": "markdown",
   "metadata": {},
   "source": [
    "Dropping columns\n",
    "- The ```What it does``` and ```Founders``` column won't be needed in our analysis therefore they will drop them."
   ]
  },
  {
   "cell_type": "code",
   "execution_count": 76,
   "metadata": {},
   "outputs": [],
   "source": [
    "#Dropping columns\n",
    "data_2019.drop(['What it does', 'Founders'],axis=1, inplace=True)"
   ]
  },
  {
   "cell_type": "markdown",
   "metadata": {},
   "source": [
    "**Preview after Data cleaning**"
   ]
  },
  {
   "cell_type": "markdown",
   "metadata": {},
   "source": [
    "check for any missing values in the dataset"
   ]
  },
  {
   "cell_type": "code",
   "execution_count": 77,
   "metadata": {},
   "outputs": [
    {
     "name": "stdout",
     "output_type": "stream",
     "text": [
      "\n",
      "\n",
      " No missing values found. Data cleaning is complete\n"
     ]
    },
    {
     "data": {
      "image/png": "[encoded data removed]",
      "text/plain": [
       "<Figure size 640x480 with 2 Axes>"
      ]
     },
     "metadata": {},
     "output_type": "display_data"
    }
   ],
   "source": [
    "# check for any missing values\n",
    "missing_values = data_2019.isnull().sum()\n",
    "if missing_values.any():\n",
    "    print(\"\\n\\nMissing values still exist in the dataset\")\n",
    "else:\n",
    "    print(\"\\n\\n No missing values found. Data cleaning is complete\")\n",
    "\n",
    "# plot missing values\n",
    "plot_missing_values_heatmap(data_2019)"
   ]
  },
  {
   "cell_type": "markdown",
   "metadata": {},
   "source": [
    "#### Check for Duplicates"
   ]
  },
  {
   "cell_type": "code",
   "execution_count": 78,
   "metadata": {},
   "outputs": [
    {
     "name": "stdout",
     "output_type": "stream",
     "text": [
      "\n",
      "\n",
      "No duplicate records found. Data cleaning is complete.\n"
     ]
    }
   ],
   "source": [
    "duplicates = data_2019.duplicated()\n",
    "if duplicates.any():\n",
    "    print(\"\\n\\nDuplicate records still exist in the dataset.\")\n",
    "else:\n",
    "    print(\"\\n\\nNo duplicate records found. Data cleaning is complete.\")\n"
   ]
  },
  {
   "cell_type": "code",
   "execution_count": 79,
   "metadata": {},
   "outputs": [
    {
     "data": {
      "text/html": [
       "<div>\n",
       "<style scoped>\n",
       "    .dataframe tbody tr th:only-of-type {\n",
       "        vertical-align: middle;\n",
       "    }\n",
       "\n",
       "    .dataframe tbody tr th {\n",
       "        vertical-align: top;\n",
       "    }\n",
       "\n",
       "    .dataframe thead th {\n",
       "        text-align: right;\n",
       "    }\n",
       "</style>\n",
       "<table border=\"1\" class=\"dataframe\">\n",
       "  <thead>\n",
       "    <tr style=\"text-align: right;\">\n",
       "      <th></th>\n",
       "      <th>Company/Brand</th>\n",
       "      <th>Founded</th>\n",
       "      <th>HeadQuarter</th>\n",
       "      <th>Sector</th>\n",
       "      <th>Investor</th>\n",
       "      <th>Amount($)</th>\n",
       "      <th>Stage</th>\n",
       "      <th>Year Funded</th>\n",
       "    </tr>\n",
       "  </thead>\n",
       "  <tbody>\n",
       "    <tr>\n",
       "      <th>0</th>\n",
       "      <td>Bombay Shaving</td>\n",
       "      <td>2015</td>\n",
       "      <td>Unknown</td>\n",
       "      <td>E-Commerce</td>\n",
       "      <td>Sixth Sense Ventures</td>\n",
       "      <td>6300000.0</td>\n",
       "      <td>Unknown</td>\n",
       "      <td>2019</td>\n",
       "    </tr>\n",
       "    <tr>\n",
       "      <th>2</th>\n",
       "      <td>Eduisfun</td>\n",
       "      <td>2015</td>\n",
       "      <td>Mumbai</td>\n",
       "      <td>Edtech</td>\n",
       "      <td>Deepak Parekh &amp; Amitabh Bachchan &amp; Piyush Pandey</td>\n",
       "      <td>28000000.0</td>\n",
       "      <td>Seed</td>\n",
       "      <td>2019</td>\n",
       "    </tr>\n",
       "    <tr>\n",
       "      <th>3</th>\n",
       "      <td>Homelane</td>\n",
       "      <td>2014</td>\n",
       "      <td>Chennai</td>\n",
       "      <td>Interior Design</td>\n",
       "      <td>Evolvence India Fund (EIF) &amp; Pidilite Group &amp; ...</td>\n",
       "      <td>30000000.0</td>\n",
       "      <td>Series D</td>\n",
       "      <td>2019</td>\n",
       "    </tr>\n",
       "    <tr>\n",
       "      <th>4</th>\n",
       "      <td>Nu Genes</td>\n",
       "      <td>2004</td>\n",
       "      <td>Telangana</td>\n",
       "      <td>Agritech</td>\n",
       "      <td>Innovation in Food and Agriculture (IFA)</td>\n",
       "      <td>6000000.0</td>\n",
       "      <td>Unknown</td>\n",
       "      <td>2019</td>\n",
       "    </tr>\n",
       "    <tr>\n",
       "      <th>5</th>\n",
       "      <td>Flytbase</td>\n",
       "      <td>2015</td>\n",
       "      <td>Pune</td>\n",
       "      <td>Technology</td>\n",
       "      <td>Undisclosed</td>\n",
       "      <td>6000000.0</td>\n",
       "      <td>Unknown</td>\n",
       "      <td>2019</td>\n",
       "    </tr>\n",
       "  </tbody>\n",
       "</table>\n",
       "</div>"
      ],
      "text/plain": [
       "    Company/Brand  Founded HeadQuarter           Sector  \\\n",
       "0  Bombay Shaving     2015     Unknown       E-Commerce   \n",
       "2        Eduisfun     2015      Mumbai           Edtech   \n",
       "3        Homelane     2014     Chennai  Interior Design   \n",
       "4        Nu Genes     2004   Telangana         Agritech   \n",
       "5        Flytbase     2015        Pune       Technology   \n",
       "\n",
       "                                            Investor  Amount($)     Stage  \\\n",
       "0                               Sixth Sense Ventures  6300000.0   Unknown   \n",
       "2   Deepak Parekh & Amitabh Bachchan & Piyush Pandey 28000000.0      Seed   \n",
       "3  Evolvence India Fund (EIF) & Pidilite Group & ... 30000000.0  Series D   \n",
       "4           Innovation in Food and Agriculture (IFA)  6000000.0   Unknown   \n",
       "5                                        Undisclosed  6000000.0   Unknown   \n",
       "\n",
       "   Year Funded  \n",
       "0         2019  \n",
       "2         2019  \n",
       "3         2019  \n",
       "4         2019  \n",
       "5         2019  "
      ]
     },
     "execution_count": 79,
     "metadata": {},
     "output_type": "execute_result"
    }
   ],
   "source": [
    "#Creating a column named 'Year Funded'\n",
    "data_2019['Year Funded'] = 2019\n",
    "data_2019.head()"
   ]
  },
  {
   "cell_type": "markdown",
   "metadata": {},
   "source": [
    "#### 3.2.3  2020 Data"
   ]
  },
  {
   "cell_type": "markdown",
   "metadata": {},
   "source": [
    "<h4>Data Exploration. The columns in the data are:</h4>\n",
    "<div>\n",
    "<li style=\"list-style: none;\">\n",
    "<ol>Company_Brand</ol>\n",
    "<ol>Founded</ol>\n",
    "<ol>HeadQuarter</ol>\n",
    "<ol>Sector</ol>\n",
    "<ol>What_it_does</ol>\n",
    "<ol>Founders</ol>\n",
    "<ol>Investor</ol>\n",
    "<ol>Amount</ol>\n",
    "<ol>Stage</ol>\n",
    "<ol>column10</ol>\n",
    "</li>\n",
    "</div>\n"
   ]
  },
  {
   "cell_type": "code",
   "execution_count": 80,
   "metadata": {},
   "outputs": [
    {
     "data": {
      "text/plain": [
       "Index(['Company_Brand', 'Founded', 'HeadQuarter', 'Sector', 'What_it_does',\n",
       "       'Founders', 'Investor', 'Amount', 'Stage', 'column10'],\n",
       "      dtype='object')"
      ]
     },
     "execution_count": 80,
     "metadata": {},
     "output_type": "execute_result"
    }
   ],
   "source": [
    "#display the columns in the dataframe\n",
    "data2020.columns"
   ]
  },
  {
   "cell_type": "code",
   "execution_count": 81,
   "metadata": {},
   "outputs": [
    {
     "data": {
      "text/plain": [
       "(1055, 10)"
      ]
     },
     "execution_count": 81,
     "metadata": {},
     "output_type": "execute_result"
    }
   ],
   "source": [
    "#shape of the data\n",
    "data2020.shape"
   ]
  },
  {
   "cell_type": "code",
   "execution_count": 82,
   "metadata": {},
   "outputs": [
    {
     "name": "stdout",
     "output_type": "stream",
     "text": [
      "<class 'pandas.core.frame.DataFrame'>\n",
      "RangeIndex: 1055 entries, 0 to 1054\n",
      "Data columns (total 10 columns):\n",
      " #   Column         Non-Null Count  Dtype  \n",
      "---  ------         --------------  -----  \n",
      " 0   Company_Brand  1055 non-null   object \n",
      " 1   Founded        842 non-null    float64\n",
      " 2   HeadQuarter    961 non-null    object \n",
      " 3   Sector         1042 non-null   object \n",
      " 4   What_it_does   1055 non-null   object \n",
      " 5   Founders       1043 non-null   object \n",
      " 6   Investor       1017 non-null   object \n",
      " 7   Amount         801 non-null    float64\n",
      " 8   Stage          591 non-null    object \n",
      " 9   column10       2 non-null      object \n",
      "dtypes: float64(2), object(8)\n",
      "memory usage: 82.5+ KB\n"
     ]
    }
   ],
   "source": [
    "#display the summary of the data\n",
    "data2020.info()"
   ]
  },
  {
   "cell_type": "markdown",
   "metadata": {},
   "source": [
    "From the summary above:\n",
    "* All columns are string data type except ```Founded``` and ```Amount```\n",
    "* All columns contain missing values except for ```Company Name``` and ```What_it_does```"
   ]
  },
  {
   "cell_type": "code",
   "execution_count": 83,
   "metadata": {},
   "outputs": [
    {
     "data": {
      "text/plain": [
       "0       None\n",
       "1       None\n",
       "2       None\n",
       "3       None\n",
       "4       None\n",
       "        ... \n",
       "1050    None\n",
       "1051    None\n",
       "1052    None\n",
       "1053    None\n",
       "1054    None\n",
       "Name: column10, Length: 1055, dtype: object"
      ]
     },
     "execution_count": 83,
     "metadata": {},
     "output_type": "execute_result"
    }
   ],
   "source": [
    "#Overview of column 10\n",
    "data2020['column10']"
   ]
  },
  {
   "cell_type": "code",
   "execution_count": 84,
   "metadata": {},
   "outputs": [
    {
     "data": {
      "text/plain": [
       "0      2019.0\n",
       "1      2019.0\n",
       "2      2018.0\n",
       "3      2020.0\n",
       "4      2016.0\n",
       "        ...  \n",
       "1050      NaN\n",
       "1051      NaN\n",
       "1052   2012.0\n",
       "1053   2015.0\n",
       "1054   2017.0\n",
       "Name: Founded, Length: 1055, dtype: float64"
      ]
     },
     "execution_count": 84,
     "metadata": {},
     "output_type": "execute_result"
    }
   ],
   "source": [
    "#Overview of column 10\n",
    "data2020['Founded']"
   ]
  },
  {
   "cell_type": "markdown",
   "metadata": {},
   "source": [
    "#### Dealing with duplicates"
   ]
  },
  {
   "cell_type": "code",
   "execution_count": 85,
   "metadata": {},
   "outputs": [
    {
     "data": {
      "text/plain": [
       "False    1052\n",
       "True        3\n",
       "dtype: int64"
      ]
     },
     "execution_count": 85,
     "metadata": {},
     "output_type": "execute_result"
    }
   ],
   "source": [
    "data2020.duplicated().value_counts()"
   ]
  },
  {
   "cell_type": "markdown",
   "metadata": {},
   "source": [
    "The 2020 data contains 3 duplicates which will later drop"
   ]
  },
  {
   "cell_type": "code",
   "execution_count": 86,
   "metadata": {},
   "outputs": [
    {
     "data": {
      "text/html": [
       "<div>\n",
       "<style scoped>\n",
       "    .dataframe tbody tr th:only-of-type {\n",
       "        vertical-align: middle;\n",
       "    }\n",
       "\n",
       "    .dataframe tbody tr th {\n",
       "        vertical-align: top;\n",
       "    }\n",
       "\n",
       "    .dataframe thead th {\n",
       "        text-align: right;\n",
       "    }\n",
       "</style>\n",
       "<table border=\"1\" class=\"dataframe\">\n",
       "  <thead>\n",
       "    <tr style=\"text-align: right;\">\n",
       "      <th></th>\n",
       "      <th>Company_Brand</th>\n",
       "      <th>Founded</th>\n",
       "      <th>HeadQuarter</th>\n",
       "      <th>Sector</th>\n",
       "      <th>What_it_does</th>\n",
       "      <th>Founders</th>\n",
       "      <th>Investor</th>\n",
       "      <th>Amount</th>\n",
       "      <th>Stage</th>\n",
       "      <th>column10</th>\n",
       "    </tr>\n",
       "  </thead>\n",
       "  <tbody>\n",
       "    <tr>\n",
       "      <th>120</th>\n",
       "      <td>Nykaa</td>\n",
       "      <td>2012.0</td>\n",
       "      <td>Mumbai</td>\n",
       "      <td>Cosmetics</td>\n",
       "      <td>Nykaa is an online marketplace for different b...</td>\n",
       "      <td>Falguni Nayar</td>\n",
       "      <td>Alia Bhatt, Katrina Kaif</td>\n",
       "      <td>NaN</td>\n",
       "      <td>None</td>\n",
       "      <td>None</td>\n",
       "    </tr>\n",
       "    <tr>\n",
       "      <th>129</th>\n",
       "      <td>Krimanshi</td>\n",
       "      <td>2015.0</td>\n",
       "      <td>Jodhpur</td>\n",
       "      <td>Biotechnology company</td>\n",
       "      <td>Krimanshi aims to increase rural income by imp...</td>\n",
       "      <td>Nikhil Bohra</td>\n",
       "      <td>Rajasthan Venture Capital Fund, AIM Smart City</td>\n",
       "      <td>600000.0</td>\n",
       "      <td>Seed</td>\n",
       "      <td>None</td>\n",
       "    </tr>\n",
       "    <tr>\n",
       "      <th>145</th>\n",
       "      <td>Krimanshi</td>\n",
       "      <td>2015.0</td>\n",
       "      <td>Jodhpur</td>\n",
       "      <td>Biotechnology company</td>\n",
       "      <td>Krimanshi aims to increase rural income by imp...</td>\n",
       "      <td>Nikhil Bohra</td>\n",
       "      <td>Rajasthan Venture Capital Fund, AIM Smart City</td>\n",
       "      <td>600000.0</td>\n",
       "      <td>Seed</td>\n",
       "      <td>None</td>\n",
       "    </tr>\n",
       "    <tr>\n",
       "      <th>205</th>\n",
       "      <td>Nykaa</td>\n",
       "      <td>2012.0</td>\n",
       "      <td>Mumbai</td>\n",
       "      <td>Cosmetics</td>\n",
       "      <td>Nykaa is an online marketplace for different b...</td>\n",
       "      <td>Falguni Nayar</td>\n",
       "      <td>Alia Bhatt, Katrina Kaif</td>\n",
       "      <td>NaN</td>\n",
       "      <td>None</td>\n",
       "      <td>None</td>\n",
       "    </tr>\n",
       "    <tr>\n",
       "      <th>326</th>\n",
       "      <td>Byju’s</td>\n",
       "      <td>2011.0</td>\n",
       "      <td>Bangalore</td>\n",
       "      <td>EdTech</td>\n",
       "      <td>An Indian educational technology and online tu...</td>\n",
       "      <td>Byju Raveendran</td>\n",
       "      <td>Owl Ventures, Tiger Global Management</td>\n",
       "      <td>500000000.0</td>\n",
       "      <td>None</td>\n",
       "      <td>None</td>\n",
       "    </tr>\n",
       "    <tr>\n",
       "      <th>362</th>\n",
       "      <td>Byju’s</td>\n",
       "      <td>2011.0</td>\n",
       "      <td>Bangalore</td>\n",
       "      <td>EdTech</td>\n",
       "      <td>An Indian educational technology and online tu...</td>\n",
       "      <td>Byju Raveendran</td>\n",
       "      <td>Owl Ventures, Tiger Global Management</td>\n",
       "      <td>500000000.0</td>\n",
       "      <td>None</td>\n",
       "      <td>None</td>\n",
       "    </tr>\n",
       "  </tbody>\n",
       "</table>\n",
       "</div>"
      ],
      "text/plain": [
       "    Company_Brand  Founded HeadQuarter                 Sector  \\\n",
       "120         Nykaa   2012.0      Mumbai              Cosmetics   \n",
       "129     Krimanshi   2015.0     Jodhpur  Biotechnology company   \n",
       "145     Krimanshi   2015.0     Jodhpur  Biotechnology company   \n",
       "205         Nykaa   2012.0      Mumbai              Cosmetics   \n",
       "326        Byju’s   2011.0   Bangalore                 EdTech   \n",
       "362        Byju’s   2011.0   Bangalore                 EdTech   \n",
       "\n",
       "                                          What_it_does         Founders  \\\n",
       "120  Nykaa is an online marketplace for different b...    Falguni Nayar   \n",
       "129  Krimanshi aims to increase rural income by imp...     Nikhil Bohra   \n",
       "145  Krimanshi aims to increase rural income by imp...     Nikhil Bohra   \n",
       "205  Nykaa is an online marketplace for different b...    Falguni Nayar   \n",
       "326  An Indian educational technology and online tu...  Byju Raveendran   \n",
       "362  An Indian educational technology and online tu...  Byju Raveendran   \n",
       "\n",
       "                                           Investor      Amount Stage column10  \n",
       "120                        Alia Bhatt, Katrina Kaif         NaN  None     None  \n",
       "129  Rajasthan Venture Capital Fund, AIM Smart City    600000.0  Seed     None  \n",
       "145  Rajasthan Venture Capital Fund, AIM Smart City    600000.0  Seed     None  \n",
       "205                        Alia Bhatt, Katrina Kaif         NaN  None     None  \n",
       "326           Owl Ventures, Tiger Global Management 500000000.0  None     None  \n",
       "362           Owl Ventures, Tiger Global Management 500000000.0  None     None  "
      ]
     },
     "execution_count": 86,
     "metadata": {},
     "output_type": "execute_result"
    }
   ],
   "source": [
    "#print out all the duplicates next to each other\n",
    "data2020[data2020.duplicated(keep=False)]"
   ]
  },
  {
   "cell_type": "code",
   "execution_count": 87,
   "metadata": {},
   "outputs": [
    {
     "data": {
      "text/plain": [
       "False    1052\n",
       "dtype: int64"
      ]
     },
     "execution_count": 87,
     "metadata": {},
     "output_type": "execute_result"
    }
   ],
   "source": [
    "#Drop the duplicate\n",
    "data2020=data2020.drop_duplicates()\n",
    "\n",
    "#Confirming the duplicates are dealt with\n",
    "data2020.duplicated().value_counts()"
   ]
  },
  {
   "cell_type": "markdown",
   "metadata": {},
   "source": [
    "\n",
    "\n",
    "<h3>Decisions made:</h3>\n",
    "\n",
    "* Change the ```Founded``` column to numerical data type.\n",
    "* Drop ```column 10``` \n",
    "* Handle missing values\n",
    "\n",
    "\n",
    "\n",
    "\n",
    "\n",
    "\n",
    "\n"
   ]
  },
  {
   "cell_type": "code",
   "execution_count": 88,
   "metadata": {},
   "outputs": [
    {
     "data": {
      "text/html": [
       "<div>\n",
       "<style scoped>\n",
       "    .dataframe tbody tr th:only-of-type {\n",
       "        vertical-align: middle;\n",
       "    }\n",
       "\n",
       "    .dataframe tbody tr th {\n",
       "        vertical-align: top;\n",
       "    }\n",
       "\n",
       "    .dataframe thead th {\n",
       "        text-align: right;\n",
       "    }\n",
       "</style>\n",
       "<table border=\"1\" class=\"dataframe\">\n",
       "  <thead>\n",
       "    <tr style=\"text-align: right;\">\n",
       "      <th></th>\n",
       "      <th>Company_Brand</th>\n",
       "      <th>Founded</th>\n",
       "      <th>HeadQuarter</th>\n",
       "      <th>Sector</th>\n",
       "      <th>What_it_does</th>\n",
       "      <th>Founders</th>\n",
       "      <th>Investor</th>\n",
       "      <th>Amount</th>\n",
       "      <th>Stage</th>\n",
       "    </tr>\n",
       "  </thead>\n",
       "  <tbody>\n",
       "    <tr>\n",
       "      <th>0</th>\n",
       "      <td>Aqgromalin</td>\n",
       "      <td>2019.0</td>\n",
       "      <td>Chennai</td>\n",
       "      <td>AgriTech</td>\n",
       "      <td>Cultivating Ideas for Profit</td>\n",
       "      <td>Prasanna Manogaran, Bharani C L</td>\n",
       "      <td>Angel investors</td>\n",
       "      <td>200000.0</td>\n",
       "      <td>None</td>\n",
       "    </tr>\n",
       "    <tr>\n",
       "      <th>1</th>\n",
       "      <td>Krayonnz</td>\n",
       "      <td>2019.0</td>\n",
       "      <td>Bangalore</td>\n",
       "      <td>EdTech</td>\n",
       "      <td>An academy-guardian-scholar centric ecosystem ...</td>\n",
       "      <td>Saurabh Dixit, Gurudutt Upadhyay</td>\n",
       "      <td>GSF Accelerator</td>\n",
       "      <td>100000.0</td>\n",
       "      <td>Pre-seed</td>\n",
       "    </tr>\n",
       "    <tr>\n",
       "      <th>2</th>\n",
       "      <td>PadCare Labs</td>\n",
       "      <td>2018.0</td>\n",
       "      <td>Pune</td>\n",
       "      <td>Hygiene management</td>\n",
       "      <td>Converting bio-hazardous waste to harmless waste</td>\n",
       "      <td>Ajinkya Dhariya</td>\n",
       "      <td>Venture Center</td>\n",
       "      <td>NaN</td>\n",
       "      <td>Pre-seed</td>\n",
       "    </tr>\n",
       "    <tr>\n",
       "      <th>3</th>\n",
       "      <td>NCOME</td>\n",
       "      <td>2020.0</td>\n",
       "      <td>New Delhi</td>\n",
       "      <td>Escrow</td>\n",
       "      <td>Escrow-as-a-service platform</td>\n",
       "      <td>Ritesh Tiwari</td>\n",
       "      <td>Venture Catalysts, PointOne Capital</td>\n",
       "      <td>400000.0</td>\n",
       "      <td>None</td>\n",
       "    </tr>\n",
       "    <tr>\n",
       "      <th>4</th>\n",
       "      <td>Gramophone</td>\n",
       "      <td>2016.0</td>\n",
       "      <td>Indore</td>\n",
       "      <td>AgriTech</td>\n",
       "      <td>Gramophone is an AgTech platform enabling acce...</td>\n",
       "      <td>Ashish Rajan Singh, Harshit Gupta, Nishant Mah...</td>\n",
       "      <td>Siana Capital Management, Info Edge</td>\n",
       "      <td>340000.0</td>\n",
       "      <td>None</td>\n",
       "    </tr>\n",
       "  </tbody>\n",
       "</table>\n",
       "</div>"
      ],
      "text/plain": [
       "  Company_Brand  Founded HeadQuarter              Sector  \\\n",
       "0    Aqgromalin   2019.0     Chennai            AgriTech   \n",
       "1      Krayonnz   2019.0   Bangalore              EdTech   \n",
       "2  PadCare Labs   2018.0        Pune  Hygiene management   \n",
       "3         NCOME   2020.0   New Delhi              Escrow   \n",
       "4    Gramophone   2016.0      Indore            AgriTech   \n",
       "\n",
       "                                        What_it_does  \\\n",
       "0                       Cultivating Ideas for Profit   \n",
       "1  An academy-guardian-scholar centric ecosystem ...   \n",
       "2   Converting bio-hazardous waste to harmless waste   \n",
       "3                       Escrow-as-a-service platform   \n",
       "4  Gramophone is an AgTech platform enabling acce...   \n",
       "\n",
       "                                            Founders  \\\n",
       "0                    Prasanna Manogaran, Bharani C L   \n",
       "1                   Saurabh Dixit, Gurudutt Upadhyay   \n",
       "2                                    Ajinkya Dhariya   \n",
       "3                                      Ritesh Tiwari   \n",
       "4  Ashish Rajan Singh, Harshit Gupta, Nishant Mah...   \n",
       "\n",
       "                              Investor   Amount     Stage  \n",
       "0                      Angel investors 200000.0      None  \n",
       "1                      GSF Accelerator 100000.0  Pre-seed  \n",
       "2                       Venture Center      NaN  Pre-seed  \n",
       "3  Venture Catalysts, PointOne Capital 400000.0      None  \n",
       "4  Siana Capital Management, Info Edge 340000.0      None  "
      ]
     },
     "execution_count": 88,
     "metadata": {},
     "output_type": "execute_result"
    }
   ],
   "source": [
    "#drop the column named column 10\n",
    "# Assuming data2020 is your DataFrame and 'column_name' is the column you want to drop\n",
    "data2020=data2020.drop(['column10'],axis=1)\n",
    "data2020.head()\n"
   ]
  },
  {
   "cell_type": "markdown",
   "metadata": {},
   "source": [
    "#### Handling missing values"
   ]
  },
  {
   "cell_type": "code",
   "execution_count": 89,
   "metadata": {},
   "outputs": [
    {
     "data": {
      "text/plain": [
       "Company_Brand      0\n",
       "Founded          213\n",
       "HeadQuarter       94\n",
       "Sector            13\n",
       "What_it_does       0\n",
       "Founders          12\n",
       "Investor          38\n",
       "Amount           253\n",
       "Stage            462\n",
       "dtype: int64"
      ]
     },
     "execution_count": 89,
     "metadata": {},
     "output_type": "execute_result"
    }
   ],
   "source": [
    "#Checking missing values\n",
    "data2020.isnull().sum()"
   ]
  },
  {
   "cell_type": "code",
   "execution_count": 90,
   "metadata": {},
   "outputs": [],
   "source": [
    "#Imputing missing values in the Founded column using simple imputer method with most frequest value\n",
    "array= data2020[\"Founded\"].values.reshape(-1,1)\n",
    "imputer=SimpleImputer(strategy=\"most_frequent\")\n",
    "\n",
    "data2020[\"Founded\"]=imputer.fit_transform(array)\n",
    "\n"
   ]
  },
  {
   "cell_type": "code",
   "execution_count": 91,
   "metadata": {},
   "outputs": [
    {
     "data": {
      "text/plain": [
       "count           799.0\n",
       "mean      112699397.5\n",
       "std      2479695497.0\n",
       "min           12700.0\n",
       "25%         1000000.0\n",
       "50%         3000000.0\n",
       "75%        11000000.0\n",
       "max     70000000000.0\n",
       "Name: Amount, dtype: float64"
      ]
     },
     "execution_count": 91,
     "metadata": {},
     "output_type": "execute_result"
    }
   ],
   "source": [
    "#Statistical summary for Amount column\n",
    "data2020[\"Amount\"].describe()"
   ]
  },
  {
   "cell_type": "markdown",
   "metadata": {},
   "source": [
    "For the ```Amount``` column the missing values will be replaced using the median since it is less sensitive to outliers than the mean."
   ]
  },
  {
   "cell_type": "code",
   "execution_count": 92,
   "metadata": {},
   "outputs": [],
   "source": [
    "#Imputing missing values in the amount column using simple imputer method\n",
    "array= data2020[\"Amount\"].values.reshape(-1,1)\n",
    "imputer=SimpleImputer(strategy=\"median\")\n",
    "\n",
    "data2020[\"Amount\"]=imputer.fit_transform(array)\n"
   ]
  },
  {
   "cell_type": "code",
   "execution_count": 93,
   "metadata": {},
   "outputs": [
    {
     "data": {
      "text/plain": [
       "Company_Brand      0\n",
       "Founded            0\n",
       "HeadQuarter       94\n",
       "Sector            13\n",
       "What_it_does       0\n",
       "Founders          12\n",
       "Investor          38\n",
       "Amount             0\n",
       "Stage            462\n",
       "dtype: int64"
      ]
     },
     "execution_count": 93,
     "metadata": {},
     "output_type": "execute_result"
    }
   ],
   "source": [
    "#Confirming the missing values are dealt with for the Amount and Founded column\n",
    "data2020.isnull().sum()"
   ]
  },
  {
   "cell_type": "markdown",
   "metadata": {},
   "source": [
    "Given the other columns with missing values are catergorical, they will be replaced using \"Undisclosed\" value."
   ]
  },
  {
   "cell_type": "code",
   "execution_count": 94,
   "metadata": {},
   "outputs": [
    {
     "data": {
      "text/plain": [
       "Company_Brand    0\n",
       "Founded          0\n",
       "HeadQuarter      0\n",
       "Sector           0\n",
       "What_it_does     0\n",
       "Founders         0\n",
       "Investor         0\n",
       "Amount           0\n",
       "Stage            0\n",
       "dtype: int64"
      ]
     },
     "execution_count": 94,
     "metadata": {},
     "output_type": "execute_result"
    }
   ],
   "source": [
    "data2020=data2020.fillna(\"Undisclosed\")\n",
    "data2020.isnull().sum()"
   ]
  },
  {
   "cell_type": "markdown",
   "metadata": {},
   "source": [
    "#### Data uniformity\n",
    "There some values in the ```Stage``` column which have different casing therefore all the values will be made consistent and uniform.\n"
   ]
  },
  {
   "cell_type": "code",
   "execution_count": 95,
   "metadata": {},
   "outputs": [
    {
     "data": {
      "text/plain": [
       "Undisclosed              462\n",
       "Series A                  96\n",
       "Seed                      79\n",
       "Seed Round                69\n",
       "Series B                  57\n",
       "Pre series A              54\n",
       "Pre-series A              53\n",
       "Series C                  50\n",
       "Series D                  22\n",
       "Debt                      18\n",
       "Pre Series A              12\n",
       "Pre-seed                  11\n",
       "Seed round                 9\n",
       "Bridge                     6\n",
       "Series E                   6\n",
       "Pre-series B               4\n",
       "Series F                   4\n",
       "Pre seed round             4\n",
       "Angel Round                4\n",
       "Pre-Seed                   2\n",
       "Pre series B               2\n",
       "Pre-seed Round             2\n",
       "Seed funding               2\n",
       "Seed Funding               2\n",
       "Pre-series C               2\n",
       "Series B2                  2\n",
       "Pre-Series B               2\n",
       "Seed Round & Series A      1\n",
       "Series C, D                1\n",
       "Mid series                 1\n",
       "Series D1                  1\n",
       "Seed Investment            1\n",
       "Pre series C               1\n",
       "Pre-series                 1\n",
       "Bridge Round               1\n",
       "Series H                   1\n",
       "Seed A                     1\n",
       "Pre- series A              1\n",
       "Series E2                  1\n",
       "Pre series A1              1\n",
       "Edge                       1\n",
       "Pre seed Round             1\n",
       "Series A-1                 1\n",
       "Name: Stage, dtype: int64"
      ]
     },
     "execution_count": 95,
     "metadata": {},
     "output_type": "execute_result"
    }
   ],
   "source": [
    "#Overview of the Stage column\n",
    "data2020[\"Stage\"].value_counts()"
   ]
  },
  {
   "cell_type": "code",
   "execution_count": 96,
   "metadata": {},
   "outputs": [],
   "source": [
    "#Handling the inconsistent values \n",
    "data2020.replace({\"Stage\": {\"Seed Round\" : \"Seed\",\n",
    "                            \"Pre series A\": \"Pre-series A\",\n",
    "                            \"Pre Series A\" : \"Pre-series A\" ,\n",
    "                            \"Seed round\" :   \"Seed\",\n",
    "                            \"Pre seed round\" :\"Pre-seed\",\n",
    "                            \"Series B2\" :    \"Series B\",\n",
    "                            \"Pre series B\" : \"Pre-series B\",\n",
    "                            \"Seed Funding\" : \"Seed\",\n",
    "                            \"Pre-Series B\" : \"Pre-series B\",\n",
    "                            \"Pre-Seed\"  :    \"Pre-seed\",\n",
    "                            \"Seed funding\" : \"Seed\",\n",
    "                            \"Pre-seed Round\" :\"Pre-seed\",\n",
    "                            \"Series E2\" :     \"Series E\",\n",
    "                            \"Pre series A1\" : \"Pre-series A\",\n",
    "                            \"Series D1\" :     \"Series\",\n",
    "                            \"Pre seed Round\" :\"Pre-seed\",\n",
    "                            \"Pre series C\"  : \"Pre-Series C\",\n",
    "                            \"Bridge Round\" :  \"Bridge\",\n",
    "                            \"Series A-1\" :    \"Series\",\n",
    "                            \"Pre- series A\":  \"Pre-series A\",\n",
    "                            \"Seed Investment\" :\"Seed\"}},inplace =True)"
   ]
  },
  {
   "cell_type": "code",
   "execution_count": 97,
   "metadata": {},
   "outputs": [
    {
     "data": {
      "text/plain": [
       "Undisclosed              462\n",
       "Seed                     162\n",
       "Pre-series A             121\n",
       "Series A                  96\n",
       "Series B                  59\n",
       "Series C                  50\n",
       "Series D                  22\n",
       "Pre-seed                  20\n",
       "Debt                      18\n",
       "Pre-series B               8\n",
       "Series E                   7\n",
       "Bridge                     7\n",
       "Series F                   4\n",
       "Angel Round                4\n",
       "Pre-series C               2\n",
       "Series                     2\n",
       "Pre-series                 1\n",
       "Edge                       1\n",
       "Series H                   1\n",
       "Seed A                     1\n",
       "Seed Round & Series A      1\n",
       "Pre-Series C               1\n",
       "Mid series                 1\n",
       "Series C, D                1\n",
       "Name: Stage, dtype: int64"
      ]
     },
     "execution_count": 97,
     "metadata": {},
     "output_type": "execute_result"
    }
   ],
   "source": [
    "#Confirming data uniformity\n",
    "data2020[\"Stage\"].value_counts()"
   ]
  },
  {
   "cell_type": "markdown",
   "metadata": {},
   "source": [
    "In the ```HeadQuarter``` column,there were locations outside India yet our analysis focuses on India .Therefore , the locations will be named outside India."
   ]
  },
  {
   "cell_type": "code",
   "execution_count": 98,
   "metadata": {},
   "outputs": [],
   "source": [
    "data2020.loc[data2020['HeadQuarter'] == 'San Francisco, California, United States', 'HeadQuarter'] = 'Outside India'\n",
    "data2020.loc[data2020['HeadQuarter'] == 'London, England, United Kingdom', 'HeadQuarter'] = 'Outside India'\n",
    "data2020.loc[data2020['HeadQuarter'] == 'San Francisco Bay Area, Silicon Valley, West Coast', 'HeadQuarter'] = 'Outside India'\n",
    "data2020.loc[data2020['HeadQuarter'] == 'New York, United States', 'HeadQuarter'] = 'Outside India'\n",
    "data2020.loc[data2020['HeadQuarter'] == 'San Francisco, United States', 'HeadQuarter'] = 'Outside India'\n",
    "data2020.loc[data2020['HeadQuarter'] == 'Tirunelveli, Tamilnadu', 'HeadQuarter'] = 'Chennai'\n",
    "data2020.loc[data2020['HeadQuarter'] == 'Tangerang, Jawa Barat, Indonesia', 'HeadQuarter'] = 'Outside India'\n",
    "data2020.loc[data2020['HeadQuarter'] == 'San Ramon, California ', 'HeadQuarter'] = 'Outside India'\n",
    "data2020.loc[data2020['HeadQuarter'] == 'Frisco, Texas, United States ', 'HeadQuarter'] = 'Outside India'\n",
    "data2020.loc[data2020['HeadQuarter'] == 'Paris, Ile-de-France, France', 'HeadQuarter'] = 'Outside India'\n",
    "data2020.loc[data2020['HeadQuarter'] == 'Plano, Texas, United States', 'HeadQuarter'] = 'Outside India'\n",
    "data2020.loc[data2020['HeadQuarter'] == 'Palmwoods, Queensland, Australia', 'HeadQuarter'] = 'Outside India'\n",
    "data2020.loc[data2020['HeadQuarter'] == 'France', 'HeadQuarter'] = 'Outside India'\n",
    "data2020.loc[data2020['HeadQuarter'] == 'San Ramon, California', 'HeadQuarter'] = 'Outside India'\n",
    "data2020.loc[data2020['HeadQuarter'] == 'San Francisco Bay Area, West Coast, Western US', 'HeadQuarter'] = 'Outside India'\n",
    "data2020.loc[data2020['HeadQuarter'] == 'Trivandrum, Kerala, India', 'HeadQuarter'] = 'Trivandrum'\n",
    "data2020.loc[data2020['HeadQuarter'] == 'Samastipur, Bihar', 'HeadQuarter'] = 'Samastipur'\n",
    "data2020.loc[data2020['HeadQuarter'] == 'Irvine, California, United States', 'HeadQuarter'] = 'Outside India'\n",
    "data2020.loc[data2020['HeadQuarter'] == 'Tumkur, Karnataka', 'HeadQuarter'] = 'Tumkur'\n",
    "data2020.loc[data2020['HeadQuarter'] == 'Newcastle Upon Tyne, Newcastle upon Tyne, United Kingdom', 'HeadQuarter'] = 'Outside India'\n",
    "data2020.loc[data2020['HeadQuarter'] == 'Shanghai, China', 'HeadQuarter'] = 'Outside India'\n",
    "data2020.loc[data2020['HeadQuarter'] == 'Jiaxing, Zhejiang, China', 'HeadQuarter'] = 'Outside India'\n",
    "data2020.loc[data2020['HeadQuarter'] == 'Sydney, New South Wales, Australia', 'HeadQuarter'] = 'Outside India'\n",
    "data2020.loc[data2020['HeadQuarter'] == 'California', 'HeadQuarter'] = 'Outside India'\n",
    "data2020.loc[data2020['HeadQuarter'] == 'Singapore', 'HeadQuarter'] = 'Outside India'\n",
    "data2020.loc[data2020['HeadQuarter'] == 'San Francisco', 'HeadQuarter'] = 'Outside India'\n",
    "data2020.loc[data2020['HeadQuarter'] == 'Jaipur, Rajastan', 'HeadQuarter'] = 'Jaipur'\n",
    "data2020.loc[data2020['HeadQuarter'] == 'San Franciscao', 'HeadQuarter'] = 'Outside India'\n",
    "data2020.loc[data2020['HeadQuarter'] == 'Sydney', 'HeadQuarter'] = 'Outside India'\n",
    "data2020.loc[data2020['HeadQuarter'] == 'Dhingsara, Haryana', 'HeadQuarter'] = 'Dhingsara'\n",
    "data2020.loc[data2020['HeadQuarter'] == 'Bangaldesh', 'HeadQuarter'] = 'Outside India'\n",
    "data2020.loc[data2020['HeadQuarter'] == 'Frisco, Texas, United States', 'HeadQuarter'] = 'Outside India'\n",
    "data2020.loc[data2020['HeadQuarter'] == 'New York', 'HeadQuarter'] = 'Outside India'\n",
    "data2020.loc[data2020['HeadQuarter'] == 'Bangkok', 'HeadQuarter'] = 'Outside India'\n",
    "data2020.loc[data2020['HeadQuarter'] == 'Seattle', 'HeadQuarter'] = 'Outside India'\n",
    "data2020.loc[data2020['HeadQuarter'] == 'Milano, Lombardia, Italy', 'HeadQuarter'] = 'Outside India'\n",
    "data2020.loc[data2020['HeadQuarter'] == 'Seoul', 'HeadQuarter'] = 'Outside India'\n",
    "data2020.loc[data2020['HeadQuarter'] == 'Berlin', 'HeadQuarter'] = 'Outside India'\n",
    "\n",
    "\n"
   ]
  },
  {
   "cell_type": "code",
   "execution_count": 99,
   "metadata": {},
   "outputs": [
    {
     "data": {
      "text/plain": [
       "Bangalore        316\n",
       "Mumbai           164\n",
       "Undisclosed       94\n",
       "Gurugram          79\n",
       "Delhi             62\n",
       "Chennai           44\n",
       "Outside India     43\n",
       "Pune              36\n",
       "New Delhi         36\n",
       "Noida             32\n",
       "Hyderabad         25\n",
       "Gurgaon           21\n",
       "Kolkata           11\n",
       "Ahmedabad         11\n",
       "Haryana           10\n",
       "Jaipur             9\n",
       "Indore             8\n",
       "Thane              5\n",
       "Kochi              5\n",
       "Gujarat            5\n",
       "Kerala             3\n",
       "Jodhpur            3\n",
       "Chandigarh         3\n",
       "Goa                2\n",
       "Bengaluru          2\n",
       "Andheri            2\n",
       "Trivandrum         1\n",
       "Hyderebad          1\n",
       "Coimbatore         1\n",
       "Banglore           1\n",
       "Bhopal             1\n",
       "Uttar Pradesh      1\n",
       "Tamil Nadu         1\n",
       "Belgaum            1\n",
       "Bihar              1\n",
       "Odisha             1\n",
       "Warangal           1\n",
       "Cochin             1\n",
       "Kanpur             1\n",
       "Riyadh             1\n",
       "Dehradun           1\n",
       "Ludhiana           1\n",
       "Patna              1\n",
       "Rajastan           1\n",
       "Tumkur             1\n",
       "Samastipur         1\n",
       "Dhingsara          1\n",
       "Name: HeadQuarter, dtype: int64"
      ]
     },
     "execution_count": 99,
     "metadata": {},
     "output_type": "execute_result"
    }
   ],
   "source": [
    "#Rechecking to ensure Headquarter is correctly assigned\n",
    "data2020['HeadQuarter'].value_counts()"
   ]
  },
  {
   "cell_type": "markdown",
   "metadata": {},
   "source": [
    "Drooping columns\n",
    "* Column ```Founders``` and ```What_it_does``` won't be needed in our analysis therefore they will be dropped."
   ]
  },
  {
   "cell_type": "code",
   "execution_count": 100,
   "metadata": {},
   "outputs": [],
   "source": [
    "#Dropping columns\n",
    "data2020.drop(['Founders', 'What_it_does'],axis=1, inplace=True)"
   ]
  },
  {
   "cell_type": "code",
   "execution_count": 101,
   "metadata": {},
   "outputs": [
    {
     "data": {
      "text/html": [
       "<div>\n",
       "<style scoped>\n",
       "    .dataframe tbody tr th:only-of-type {\n",
       "        vertical-align: middle;\n",
       "    }\n",
       "\n",
       "    .dataframe tbody tr th {\n",
       "        vertical-align: top;\n",
       "    }\n",
       "\n",
       "    .dataframe thead th {\n",
       "        text-align: right;\n",
       "    }\n",
       "</style>\n",
       "<table border=\"1\" class=\"dataframe\">\n",
       "  <thead>\n",
       "    <tr style=\"text-align: right;\">\n",
       "      <th></th>\n",
       "      <th>Company_Brand</th>\n",
       "      <th>Founded</th>\n",
       "      <th>HeadQuarter</th>\n",
       "      <th>Sector</th>\n",
       "      <th>Investor</th>\n",
       "      <th>Amount</th>\n",
       "      <th>Stage</th>\n",
       "      <th>Year Funded</th>\n",
       "    </tr>\n",
       "  </thead>\n",
       "  <tbody>\n",
       "    <tr>\n",
       "      <th>0</th>\n",
       "      <td>Aqgromalin</td>\n",
       "      <td>2019.0</td>\n",
       "      <td>Chennai</td>\n",
       "      <td>AgriTech</td>\n",
       "      <td>Angel investors</td>\n",
       "      <td>200000.0</td>\n",
       "      <td>Undisclosed</td>\n",
       "      <td>2020</td>\n",
       "    </tr>\n",
       "    <tr>\n",
       "      <th>1</th>\n",
       "      <td>Krayonnz</td>\n",
       "      <td>2019.0</td>\n",
       "      <td>Bangalore</td>\n",
       "      <td>EdTech</td>\n",
       "      <td>GSF Accelerator</td>\n",
       "      <td>100000.0</td>\n",
       "      <td>Pre-seed</td>\n",
       "      <td>2020</td>\n",
       "    </tr>\n",
       "    <tr>\n",
       "      <th>2</th>\n",
       "      <td>PadCare Labs</td>\n",
       "      <td>2018.0</td>\n",
       "      <td>Pune</td>\n",
       "      <td>Hygiene management</td>\n",
       "      <td>Venture Center</td>\n",
       "      <td>3000000.0</td>\n",
       "      <td>Pre-seed</td>\n",
       "      <td>2020</td>\n",
       "    </tr>\n",
       "    <tr>\n",
       "      <th>3</th>\n",
       "      <td>NCOME</td>\n",
       "      <td>2020.0</td>\n",
       "      <td>New Delhi</td>\n",
       "      <td>Escrow</td>\n",
       "      <td>Venture Catalysts, PointOne Capital</td>\n",
       "      <td>400000.0</td>\n",
       "      <td>Undisclosed</td>\n",
       "      <td>2020</td>\n",
       "    </tr>\n",
       "    <tr>\n",
       "      <th>4</th>\n",
       "      <td>Gramophone</td>\n",
       "      <td>2016.0</td>\n",
       "      <td>Indore</td>\n",
       "      <td>AgriTech</td>\n",
       "      <td>Siana Capital Management, Info Edge</td>\n",
       "      <td>340000.0</td>\n",
       "      <td>Undisclosed</td>\n",
       "      <td>2020</td>\n",
       "    </tr>\n",
       "  </tbody>\n",
       "</table>\n",
       "</div>"
      ],
      "text/plain": [
       "  Company_Brand  Founded HeadQuarter              Sector  \\\n",
       "0    Aqgromalin   2019.0     Chennai            AgriTech   \n",
       "1      Krayonnz   2019.0   Bangalore              EdTech   \n",
       "2  PadCare Labs   2018.0        Pune  Hygiene management   \n",
       "3         NCOME   2020.0   New Delhi              Escrow   \n",
       "4    Gramophone   2016.0      Indore            AgriTech   \n",
       "\n",
       "                              Investor    Amount        Stage  Year Funded  \n",
       "0                      Angel investors  200000.0  Undisclosed         2020  \n",
       "1                      GSF Accelerator  100000.0     Pre-seed         2020  \n",
       "2                       Venture Center 3000000.0     Pre-seed         2020  \n",
       "3  Venture Catalysts, PointOne Capital  400000.0  Undisclosed         2020  \n",
       "4  Siana Capital Management, Info Edge  340000.0  Undisclosed         2020  "
      ]
     },
     "execution_count": 101,
     "metadata": {},
     "output_type": "execute_result"
    }
   ],
   "source": [
    "#Creating a column named 'year Funded'\n",
    "data2020['Year Funded'] = 2020\n",
    "data2020.head()"
   ]
  },
  {
   "cell_type": "markdown",
   "metadata": {},
   "source": [
    "#### 3.2.4 2021 Data"
   ]
  },
  {
   "cell_type": "markdown",
   "metadata": {},
   "source": [
    "Inspect the data"
   ]
  },
  {
   "cell_type": "code",
   "execution_count": 102,
   "metadata": {},
   "outputs": [
    {
     "data": {
      "text/html": [
       "<div>\n",
       "<style scoped>\n",
       "    .dataframe tbody tr th:only-of-type {\n",
       "        vertical-align: middle;\n",
       "    }\n",
       "\n",
       "    .dataframe tbody tr th {\n",
       "        vertical-align: top;\n",
       "    }\n",
       "\n",
       "    .dataframe thead th {\n",
       "        text-align: right;\n",
       "    }\n",
       "</style>\n",
       "<table border=\"1\" class=\"dataframe\">\n",
       "  <thead>\n",
       "    <tr style=\"text-align: right;\">\n",
       "      <th></th>\n",
       "      <th>Company_Brand</th>\n",
       "      <th>Founded</th>\n",
       "      <th>HeadQuarter</th>\n",
       "      <th>Sector</th>\n",
       "      <th>What_it_does</th>\n",
       "      <th>Founders</th>\n",
       "      <th>Investor</th>\n",
       "      <th>Amount</th>\n",
       "      <th>Stage</th>\n",
       "    </tr>\n",
       "  </thead>\n",
       "  <tbody>\n",
       "    <tr>\n",
       "      <th>0</th>\n",
       "      <td>Unbox Robotics</td>\n",
       "      <td>2019.0</td>\n",
       "      <td>Bangalore</td>\n",
       "      <td>AI startup</td>\n",
       "      <td>Unbox Robotics builds on-demand AI-driven ware...</td>\n",
       "      <td>Pramod Ghadge, Shahid Memon</td>\n",
       "      <td>BEENEXT, Entrepreneur First</td>\n",
       "      <td>$1,200,000</td>\n",
       "      <td>Pre-series A</td>\n",
       "    </tr>\n",
       "    <tr>\n",
       "      <th>1</th>\n",
       "      <td>upGrad</td>\n",
       "      <td>2015.0</td>\n",
       "      <td>Mumbai</td>\n",
       "      <td>EdTech</td>\n",
       "      <td>UpGrad is an online higher education platform.</td>\n",
       "      <td>Mayank Kumar, Phalgun Kompalli, Ravijot Chugh,...</td>\n",
       "      <td>Unilazer Ventures, IIFL Asset Management</td>\n",
       "      <td>$120,000,000</td>\n",
       "      <td>None</td>\n",
       "    </tr>\n",
       "    <tr>\n",
       "      <th>2</th>\n",
       "      <td>Lead School</td>\n",
       "      <td>2012.0</td>\n",
       "      <td>Mumbai</td>\n",
       "      <td>EdTech</td>\n",
       "      <td>LEAD School offers technology based school tra...</td>\n",
       "      <td>Smita Deorah, Sumeet Mehta</td>\n",
       "      <td>GSV Ventures, Westbridge Capital</td>\n",
       "      <td>$30,000,000</td>\n",
       "      <td>Series D</td>\n",
       "    </tr>\n",
       "    <tr>\n",
       "      <th>3</th>\n",
       "      <td>Bizongo</td>\n",
       "      <td>2015.0</td>\n",
       "      <td>Mumbai</td>\n",
       "      <td>B2B E-commerce</td>\n",
       "      <td>Bizongo is a business-to-business online marke...</td>\n",
       "      <td>Aniket Deb, Ankit Tomar, Sachin Agrawal</td>\n",
       "      <td>CDC Group, IDG Capital</td>\n",
       "      <td>$51,000,000</td>\n",
       "      <td>Series C</td>\n",
       "    </tr>\n",
       "    <tr>\n",
       "      <th>4</th>\n",
       "      <td>FypMoney</td>\n",
       "      <td>2021.0</td>\n",
       "      <td>Gurugram</td>\n",
       "      <td>FinTech</td>\n",
       "      <td>FypMoney is Digital NEO Bank for Teenagers, em...</td>\n",
       "      <td>Kapil Banwari</td>\n",
       "      <td>Liberatha Kallat, Mukesh Yadav, Dinesh Nagpal</td>\n",
       "      <td>$2,000,000</td>\n",
       "      <td>Seed</td>\n",
       "    </tr>\n",
       "    <tr>\n",
       "      <th>5</th>\n",
       "      <td>Urban Company</td>\n",
       "      <td>2014.0</td>\n",
       "      <td>New Delhi</td>\n",
       "      <td>Home services</td>\n",
       "      <td>Urban Company (Formerly UrbanClap) is a home a...</td>\n",
       "      <td>Abhiraj Singh Bhal, Raghav Chandra, Varun Khaitan</td>\n",
       "      <td>Vy Capital</td>\n",
       "      <td>$188,000,000</td>\n",
       "      <td>None</td>\n",
       "    </tr>\n",
       "    <tr>\n",
       "      <th>6</th>\n",
       "      <td>Comofi Medtech</td>\n",
       "      <td>2018.0</td>\n",
       "      <td>Bangalore</td>\n",
       "      <td>HealthTech</td>\n",
       "      <td>Comofi Medtech is a healthcare robotics startup.</td>\n",
       "      <td>Gururaj KB</td>\n",
       "      <td>CIIE.CO, KIIT-TBI</td>\n",
       "      <td>$200,000</td>\n",
       "      <td>None</td>\n",
       "    </tr>\n",
       "    <tr>\n",
       "      <th>7</th>\n",
       "      <td>Qube Health</td>\n",
       "      <td>2016.0</td>\n",
       "      <td>Mumbai</td>\n",
       "      <td>HealthTech</td>\n",
       "      <td>India's Most Respected Workplace Healthcare Ma...</td>\n",
       "      <td>Gagan Kapur</td>\n",
       "      <td>Inflection Point Ventures</td>\n",
       "      <td>Undisclosed</td>\n",
       "      <td>Pre-series A</td>\n",
       "    </tr>\n",
       "    <tr>\n",
       "      <th>8</th>\n",
       "      <td>Vitra.ai</td>\n",
       "      <td>2020.0</td>\n",
       "      <td>Bangalore</td>\n",
       "      <td>Tech Startup</td>\n",
       "      <td>Vitra.ai is an AI-based video translation plat...</td>\n",
       "      <td>Akash Nidhi PS</td>\n",
       "      <td>Inflexor Ventures</td>\n",
       "      <td>Undisclosed</td>\n",
       "      <td>None</td>\n",
       "    </tr>\n",
       "    <tr>\n",
       "      <th>9</th>\n",
       "      <td>Taikee</td>\n",
       "      <td>2010.0</td>\n",
       "      <td>Mumbai</td>\n",
       "      <td>E-commerce</td>\n",
       "      <td>Taikee is the ISO-certified, B2B e-commerce pl...</td>\n",
       "      <td>Nidhi Ramachandran, Sachin Chhabra</td>\n",
       "      <td>None</td>\n",
       "      <td>$1,000,000</td>\n",
       "      <td>None</td>\n",
       "    </tr>\n",
       "  </tbody>\n",
       "</table>\n",
       "</div>"
      ],
      "text/plain": [
       "    Company_Brand  Founded HeadQuarter          Sector  \\\n",
       "0  Unbox Robotics   2019.0   Bangalore      AI startup   \n",
       "1          upGrad   2015.0      Mumbai          EdTech   \n",
       "2     Lead School   2012.0      Mumbai          EdTech   \n",
       "3         Bizongo   2015.0      Mumbai  B2B E-commerce   \n",
       "4        FypMoney   2021.0    Gurugram         FinTech   \n",
       "5   Urban Company   2014.0   New Delhi   Home services   \n",
       "6  Comofi Medtech   2018.0   Bangalore      HealthTech   \n",
       "7     Qube Health   2016.0      Mumbai      HealthTech   \n",
       "8        Vitra.ai   2020.0   Bangalore    Tech Startup   \n",
       "9          Taikee   2010.0      Mumbai      E-commerce   \n",
       "\n",
       "                                        What_it_does  \\\n",
       "0  Unbox Robotics builds on-demand AI-driven ware...   \n",
       "1     UpGrad is an online higher education platform.   \n",
       "2  LEAD School offers technology based school tra...   \n",
       "3  Bizongo is a business-to-business online marke...   \n",
       "4  FypMoney is Digital NEO Bank for Teenagers, em...   \n",
       "5  Urban Company (Formerly UrbanClap) is a home a...   \n",
       "6   Comofi Medtech is a healthcare robotics startup.   \n",
       "7  India's Most Respected Workplace Healthcare Ma...   \n",
       "8  Vitra.ai is an AI-based video translation plat...   \n",
       "9  Taikee is the ISO-certified, B2B e-commerce pl...   \n",
       "\n",
       "                                            Founders  \\\n",
       "0                        Pramod Ghadge, Shahid Memon   \n",
       "1  Mayank Kumar, Phalgun Kompalli, Ravijot Chugh,...   \n",
       "2                         Smita Deorah, Sumeet Mehta   \n",
       "3            Aniket Deb, Ankit Tomar, Sachin Agrawal   \n",
       "4                                      Kapil Banwari   \n",
       "5  Abhiraj Singh Bhal, Raghav Chandra, Varun Khaitan   \n",
       "6                                         Gururaj KB   \n",
       "7                                        Gagan Kapur   \n",
       "8                                     Akash Nidhi PS   \n",
       "9                 Nidhi Ramachandran, Sachin Chhabra   \n",
       "\n",
       "                                        Investor        Amount         Stage  \n",
       "0                    BEENEXT, Entrepreneur First    $1,200,000  Pre-series A  \n",
       "1       Unilazer Ventures, IIFL Asset Management  $120,000,000          None  \n",
       "2               GSV Ventures, Westbridge Capital   $30,000,000      Series D  \n",
       "3                         CDC Group, IDG Capital   $51,000,000      Series C  \n",
       "4  Liberatha Kallat, Mukesh Yadav, Dinesh Nagpal    $2,000,000          Seed  \n",
       "5                                     Vy Capital  $188,000,000          None  \n",
       "6                              CIIE.CO, KIIT-TBI      $200,000          None  \n",
       "7                      Inflection Point Ventures   Undisclosed  Pre-series A  \n",
       "8                              Inflexor Ventures   Undisclosed          None  \n",
       "9                                           None    $1,000,000          None  "
      ]
     },
     "execution_count": 102,
     "metadata": {},
     "output_type": "execute_result"
    }
   ],
   "source": [
    "data2021.head(10) # View first 10 rows of data2021"
   ]
  },
  {
   "cell_type": "code",
   "execution_count": 103,
   "metadata": {},
   "outputs": [
    {
     "name": "stdout",
     "output_type": "stream",
     "text": [
      "<class 'pandas.core.frame.DataFrame'>\n",
      "RangeIndex: 1209 entries, 0 to 1208\n",
      "Data columns (total 9 columns):\n",
      " #   Column         Non-Null Count  Dtype  \n",
      "---  ------         --------------  -----  \n",
      " 0   Company_Brand  1209 non-null   object \n",
      " 1   Founded        1208 non-null   float64\n",
      " 2   HeadQuarter    1208 non-null   object \n",
      " 3   Sector         1209 non-null   object \n",
      " 4   What_it_does   1209 non-null   object \n",
      " 5   Founders       1205 non-null   object \n",
      " 6   Investor       1147 non-null   object \n",
      " 7   Amount         1206 non-null   object \n",
      " 8   Stage          781 non-null    object \n",
      "dtypes: float64(1), object(8)\n",
      "memory usage: 85.1+ KB\n"
     ]
    }
   ],
   "source": [
    "# Get summarised info about missing values and data types of the columns in data2021\n",
    "\n",
    "data2021.info()"
   ]
  },
  {
   "cell_type": "markdown",
   "metadata": {},
   "source": [
    "From the displayed information about data2021,:\n",
    "\n",
    "* *Founded*, *HeadQuarter*, *Founders*, *Investor*, *Amount* and *Stage* columns have some missing data\n",
    "* All columns are of the object data type except *Founded* which is a float."
   ]
  },
  {
   "cell_type": "markdown",
   "metadata": {},
   "source": [
    "### Issues arising from data2021:\n",
    "\n",
    "* Founded column is a float. It has to be a date\n",
    "\n",
    "* Some Amounts have $undisclosed, Undisclosed and undisclosed. We may treat them as missing values\n",
    "\n",
    "* The Amounts and Stage for FanPlay company at index 98 are interchanged\n",
    "\n",
    "* At index 242, 256, 257, and 545, the amount appears at the investor’s column and then stage at the amount column\n",
    "\n",
    "* Little Leap at   at index 538 has Ah! Ventures(investors) instead of amount and then amount at stage column. Also, ‘Holistic Development Programs for children in …; should be   replaced with Vishal Gupta as founder.\n",
    "\n",
    "* BHyve company index 551 has part of ‘what_it_does’ at founders cl then founders at investor cl and investors at amount col ……. It also had investor’s name as ITO Angel Network instead of JITO Angel Network\n",
    "\n",
    "* Some amounts are separated by ‘,’ some too have ‘$$’ preceding them and some only ‘$’ as amount…this is for EventBeep, MPL\n",
    "\n",
    "* Amount for Godamwale at index 1148 is misspelt as 1000000\\t#REF! instead of 1000000 and is at investor col with stage rather taking its place. Also, the investor is **Capt. Anand Aryamane**\n",
    "\n",
    "* for index 1100-Sochcast company, Heaquarter is replaced with ‘Online Media\\t#REF!’ and sector\n",
    "* There are some duplicates"
   ]
  },
  {
   "cell_type": "markdown",
   "metadata": {},
   "source": [
    "#### Resolution"
   ]
  },
  {
   "cell_type": "markdown",
   "metadata": {},
   "source": [
    "* Delete duplicates\n",
    "* Update misplaced values for the specifi rows and columns\n",
    "* Impute with right values from credible sources where such values are mispelt or omitted\n",
    "* Convert columns to right data types\n",
    "* Standardise the 'Stage' column for good analysis by renaming or grouping"
   ]
  },
  {
   "cell_type": "markdown",
   "metadata": {},
   "source": [
    "#### Delete Duplicates"
   ]
  },
  {
   "cell_type": "code",
   "execution_count": 104,
   "metadata": {},
   "outputs": [
    {
     "data": {
      "text/plain": [
       "19"
      ]
     },
     "execution_count": 104,
     "metadata": {},
     "output_type": "execute_result"
    }
   ],
   "source": [
    "# Confirm duplicated records\n",
    "\n",
    "data2021.duplicated().sum()"
   ]
  },
  {
   "cell_type": "markdown",
   "metadata": {},
   "source": [
    "Let's take a look, first."
   ]
  },
  {
   "cell_type": "code",
   "execution_count": 105,
   "metadata": {},
   "outputs": [
    {
     "data": {
      "text/html": [
       "<div>\n",
       "<style scoped>\n",
       "    .dataframe tbody tr th:only-of-type {\n",
       "        vertical-align: middle;\n",
       "    }\n",
       "\n",
       "    .dataframe tbody tr th {\n",
       "        vertical-align: top;\n",
       "    }\n",
       "\n",
       "    .dataframe thead th {\n",
       "        text-align: right;\n",
       "    }\n",
       "</style>\n",
       "<table border=\"1\" class=\"dataframe\">\n",
       "  <thead>\n",
       "    <tr style=\"text-align: right;\">\n",
       "      <th></th>\n",
       "      <th>Company_Brand</th>\n",
       "      <th>Founded</th>\n",
       "      <th>HeadQuarter</th>\n",
       "      <th>Sector</th>\n",
       "      <th>What_it_does</th>\n",
       "      <th>Founders</th>\n",
       "      <th>Investor</th>\n",
       "      <th>Amount</th>\n",
       "      <th>Stage</th>\n",
       "    </tr>\n",
       "  </thead>\n",
       "  <tbody>\n",
       "    <tr>\n",
       "      <th>107</th>\n",
       "      <td>Curefoods</td>\n",
       "      <td>2020.0</td>\n",
       "      <td>Bangalore</td>\n",
       "      <td>Food &amp; Beverages</td>\n",
       "      <td>Healthy &amp; nutritious foods and cold pressed ju...</td>\n",
       "      <td>Ankit Nagori</td>\n",
       "      <td>Iron Pillar, Nordstar, Binny Bansal</td>\n",
       "      <td>$13000000</td>\n",
       "      <td>None</td>\n",
       "    </tr>\n",
       "    <tr>\n",
       "      <th>109</th>\n",
       "      <td>Bewakoof</td>\n",
       "      <td>2012.0</td>\n",
       "      <td>Mumbai</td>\n",
       "      <td>Apparel &amp; Fashion</td>\n",
       "      <td>Bewakoof is a lifestyle fashion brand that mak...</td>\n",
       "      <td>Prabhkiran Singh</td>\n",
       "      <td>InvestCorp</td>\n",
       "      <td>$8000000</td>\n",
       "      <td>None</td>\n",
       "    </tr>\n",
       "    <tr>\n",
       "      <th>111</th>\n",
       "      <td>FanPlay</td>\n",
       "      <td>2020.0</td>\n",
       "      <td>Computer Games</td>\n",
       "      <td>Computer Games</td>\n",
       "      <td>A real money game app specializing in trivia g...</td>\n",
       "      <td>YC W21</td>\n",
       "      <td>Pritesh Kumar, Bharat Gupta</td>\n",
       "      <td>Upsparks</td>\n",
       "      <td>$1200000</td>\n",
       "    </tr>\n",
       "    <tr>\n",
       "      <th>117</th>\n",
       "      <td>Advantage Club</td>\n",
       "      <td>2014.0</td>\n",
       "      <td>Mumbai</td>\n",
       "      <td>HRTech</td>\n",
       "      <td>Advantage Club is India's largest employee eng...</td>\n",
       "      <td>Sourabh Deorah, Smiti Bhatt Deorah</td>\n",
       "      <td>Y Combinator, Broom Ventures, Kunal Shah</td>\n",
       "      <td>$1700000</td>\n",
       "      <td>None</td>\n",
       "    </tr>\n",
       "    <tr>\n",
       "      <th>119</th>\n",
       "      <td>Ruptok</td>\n",
       "      <td>2020.0</td>\n",
       "      <td>New Delhi</td>\n",
       "      <td>FinTech</td>\n",
       "      <td>Ruptok fintech Pvt. Ltd. is an online gold loa...</td>\n",
       "      <td>Ankur Gupta</td>\n",
       "      <td>Eclear Leasing</td>\n",
       "      <td>$1000000</td>\n",
       "      <td>None</td>\n",
       "    </tr>\n",
       "  </tbody>\n",
       "</table>\n",
       "</div>"
      ],
      "text/plain": [
       "      Company_Brand  Founded     HeadQuarter             Sector  \\\n",
       "107       Curefoods   2020.0       Bangalore   Food & Beverages   \n",
       "109        Bewakoof   2012.0          Mumbai  Apparel & Fashion   \n",
       "111         FanPlay   2020.0  Computer Games     Computer Games   \n",
       "117  Advantage Club   2014.0          Mumbai             HRTech   \n",
       "119          Ruptok   2020.0       New Delhi            FinTech   \n",
       "\n",
       "                                          What_it_does  \\\n",
       "107  Healthy & nutritious foods and cold pressed ju...   \n",
       "109  Bewakoof is a lifestyle fashion brand that mak...   \n",
       "111  A real money game app specializing in trivia g...   \n",
       "117  Advantage Club is India's largest employee eng...   \n",
       "119  Ruptok fintech Pvt. Ltd. is an online gold loa...   \n",
       "\n",
       "                               Founders  \\\n",
       "107                        Ankit Nagori   \n",
       "109                    Prabhkiran Singh   \n",
       "111                              YC W21   \n",
       "117  Sourabh Deorah, Smiti Bhatt Deorah   \n",
       "119                         Ankur Gupta   \n",
       "\n",
       "                                     Investor     Amount     Stage  \n",
       "107       Iron Pillar, Nordstar, Binny Bansal  $13000000      None  \n",
       "109                                InvestCorp   $8000000      None  \n",
       "111               Pritesh Kumar, Bharat Gupta   Upsparks  $1200000  \n",
       "117  Y Combinator, Broom Ventures, Kunal Shah   $1700000      None  \n",
       "119                            Eclear Leasing   $1000000      None  "
      ]
     },
     "execution_count": 105,
     "metadata": {},
     "output_type": "execute_result"
    }
   ],
   "source": [
    "data2021[data2021.duplicated()].head()"
   ]
  },
  {
   "cell_type": "markdown",
   "metadata": {},
   "source": [
    "Delete them"
   ]
  },
  {
   "cell_type": "code",
   "execution_count": 106,
   "metadata": {},
   "outputs": [],
   "source": [
    "# Delete the duplicates and set the index\n",
    "\n",
    "data2021 = data2021.drop_duplicates().reset_index(drop=True)"
   ]
  },
  {
   "cell_type": "code",
   "execution_count": 107,
   "metadata": {},
   "outputs": [
    {
     "data": {
      "text/plain": [
       "(1190, 9)"
      ]
     },
     "execution_count": 107,
     "metadata": {},
     "output_type": "execute_result"
    }
   ],
   "source": [
    "# Check if duplicates were dropped\n",
    "\n",
    "data2021.shape"
   ]
  },
  {
   "cell_type": "markdown",
   "metadata": {},
   "source": [
    "Swap values interchanged"
   ]
  },
  {
   "cell_type": "code",
   "execution_count": 108,
   "metadata": {},
   "outputs": [],
   "source": [
    "# A function to swap vulues un specif columns\n",
    "\n",
    "def swap_values(df, row_index, column1, column2):\n",
    "    \"\"\"\n",
    "    Swaps the values of two specific columns in a DataFrame for a given row index.\n",
    "\n",
    "    Args:\n",
    "        df (pd.DataFrame): The DataFrame to be modified.\n",
    "        row_index: The index of the row where the values will be swapped.\n",
    "        column1 (str): The name of the first column.\n",
    "        column2 (str): The name of the second column.\n",
    "\n",
    "    Returns:\n",
    "        pd.DataFrame: The DataFrame with the swapped values.\n",
    "    \"\"\"\n",
    "    df_modified = df.copy()\n",
    "    value1 = df_modified.at[row_index, column1]\n",
    "    value2 = df_modified.at[row_index, column2]\n",
    "    df_modified.at[row_index, column1] = value2\n",
    "    df_modified.at[row_index, column2] = value1\n",
    "    return df_modified\n"
   ]
  },
  {
   "cell_type": "code",
   "execution_count": 109,
   "metadata": {},
   "outputs": [],
   "source": [
    "# Apply function to swap Amount and Stage cols\n",
    "\n",
    "data2021 = swap_values(data2021, 98 , 'Amount', 'Stage')\n",
    "data2021 = swap_values(data2021, 655 , 'Amount', 'Stage')"
   ]
  },
  {
   "cell_type": "markdown",
   "metadata": {},
   "source": [
    "#### Update misplaced values"
   ]
  },
  {
   "cell_type": "markdown",
   "metadata": {},
   "source": [
    "We now update values wrongly placed or mispelt"
   ]
  },
  {
   "cell_type": "code",
   "execution_count": 110,
   "metadata": {},
   "outputs": [],
   "source": [
    "# A function to update values in specific columns and rows\n",
    "\n",
    "def update_values(df, row_index, column_values):\n",
    "    \"\"\"\n",
    "    Updates multiple values in a DataFrame for a specific row.\n",
    "\n",
    "    Args:\n",
    "        df (pd.DataFrame): The DataFrame to be modified.\n",
    "        row_index: The index of the row where the values will be updated.\n",
    "        column_values (dict): Dictionary where keys are column names and values are the new values.\n",
    "\n",
    "    Returns:\n",
    "        pd.DataFrame: The DataFrame with the updated values.\n",
    "    \"\"\"\n",
    "    df_modified = df.copy()\n",
    "    for column, value in column_values.items():\n",
    "        df_modified.at[row_index, column] = value\n",
    "    return df_modified\n",
    "\n"
   ]
  },
  {
   "cell_type": "code",
   "execution_count": 111,
   "metadata": {},
   "outputs": [],
   "source": [
    "# Apply function to specific rows and columns\n",
    "\n",
    "data2021 = update_values(data2021, 237, column_values={'Investor': 'Unknown', 'Amount': '$22000000', 'Stage': 'Series C'})\n",
    "\n",
    "data2021 = update_values(data2021, 238, column_values={'HeadQuarter':'Gurugram', 'Investor': 'Unknown', 'Amount': '$5000000', 'Stage': 'Seed'})\n",
    "\n",
    "data2021 = update_values(data2021, 526, column_values={'Investor': 'Unknown', 'Amount': '$1000000', 'Stage': 'Pre-series A'})\n",
    "\n",
    "data2021 = update_values(data2021, 532, column_values={'Founders': 'Omkar Pandharkame, Ketaki Ogale' ,'Investor': 'JITO Angel Network, LetsVenture', 'Amount': '$300000', 'Stage': 'Venture-Series Unknown'})\n",
    "\n",
    "data2021 = update_values(data2021, 658, column_values={'Founders': 'Sushil Agarwal' ,'Investor': 'JITO Angel Network, LetsVenture', 'Amount': '$1000000', 'Stage': 'Venture-Series Unknown'})\n",
    "\n",
    "# data2021 = update_values(data2021, 1100, column_values={'HeadQuarter': 'Bangalore' ,'Investor': ' VINNERS, Raj Nayak, Viacom18 Media, Amritaanshu Agrawal, Mirabaud', 'Amount': '$Undisclosed', 'Stage': 'Venture-Series Unknown'})\n",
    "\n",
    "data2021 = update_values(data2021, 519, column_values={'Founders': 'Vishal Gupta' ,'Investor': 'ah! Ventures', 'Amount': '$300000', 'Stage': 'Venture-Series Unknown'})\n",
    "\n",
    "data2021 = update_values(data2021, 1148, column_values={ 'Investor': 'Capt. Anand Aryamane', 'Amount': '$1000000', 'Stage': 'Seed'})\n",
    "\n",
    "\n",
    "data2021 = update_values(data2021, 1129, column_values={ 'Investor': 'Capt. Anand Aryamane', 'Amount': '$1000000', 'Stage': 'Seed'})"
   ]
  },
  {
   "cell_type": "code",
   "execution_count": 112,
   "metadata": {},
   "outputs": [
    {
     "data": {
      "text/html": [
       "<div>\n",
       "<style scoped>\n",
       "    .dataframe tbody tr th:only-of-type {\n",
       "        vertical-align: middle;\n",
       "    }\n",
       "\n",
       "    .dataframe tbody tr th {\n",
       "        vertical-align: top;\n",
       "    }\n",
       "\n",
       "    .dataframe thead th {\n",
       "        text-align: right;\n",
       "    }\n",
       "</style>\n",
       "<table border=\"1\" class=\"dataframe\">\n",
       "  <thead>\n",
       "    <tr style=\"text-align: right;\">\n",
       "      <th></th>\n",
       "      <th>Company_Brand</th>\n",
       "      <th>Founded</th>\n",
       "      <th>HeadQuarter</th>\n",
       "      <th>Sector</th>\n",
       "      <th>What_it_does</th>\n",
       "      <th>Founders</th>\n",
       "      <th>Investor</th>\n",
       "      <th>Amount</th>\n",
       "      <th>Stage</th>\n",
       "    </tr>\n",
       "  </thead>\n",
       "  <tbody>\n",
       "    <tr>\n",
       "      <th>1148</th>\n",
       "      <td>Coutloot</td>\n",
       "      <td>2016.0</td>\n",
       "      <td>Mumbai</td>\n",
       "      <td>Consumer Services</td>\n",
       "      <td>Empowering local markets to sell online social...</td>\n",
       "      <td>Mahima Kaul, Jasmeet Thind</td>\n",
       "      <td>Capt. Anand Aryamane</td>\n",
       "      <td>$1000000</td>\n",
       "      <td>Seed</td>\n",
       "    </tr>\n",
       "  </tbody>\n",
       "</table>\n",
       "</div>"
      ],
      "text/plain": [
       "     Company_Brand  Founded HeadQuarter             Sector  \\\n",
       "1148      Coutloot   2016.0      Mumbai  Consumer Services   \n",
       "\n",
       "                                           What_it_does  \\\n",
       "1148  Empowering local markets to sell online social...   \n",
       "\n",
       "                        Founders              Investor    Amount Stage  \n",
       "1148  Mahima Kaul, Jasmeet Thind  Capt. Anand Aryamane  $1000000  Seed  "
      ]
     },
     "execution_count": 112,
     "metadata": {},
     "output_type": "execute_result"
    }
   ],
   "source": [
    "# Check just by one example\n",
    "\n",
    "data2021.iloc[[1148]]"
   ]
  },
  {
   "cell_type": "markdown",
   "metadata": {},
   "source": [
    "#### Company_Brand column"
   ]
  },
  {
   "cell_type": "code",
   "execution_count": 113,
   "metadata": {},
   "outputs": [
    {
     "data": {
      "text/plain": [
       "BharatPe            8\n",
       "BYJU'S              4\n",
       "Teachmint           3\n",
       "OYO                 3\n",
       "Captain Fresh       3\n",
       "                   ..\n",
       "SP Robotic Works    1\n",
       "3SC                 1\n",
       "Chai Waale          1\n",
       "Minimalist          1\n",
       "WeRize              1\n",
       "Name: Company_Brand, Length: 1033, dtype: int64"
      ]
     },
     "execution_count": 113,
     "metadata": {},
     "output_type": "execute_result"
    }
   ],
   "source": [
    "# Get unique values with their frequencies of the comapany_brand column\n",
    "\n",
    "data2021['Company_Brand'].value_counts()\n"
   ]
  },
  {
   "cell_type": "markdown",
   "metadata": {},
   "source": [
    "Same company name was treated as separate identities: BYJU’S and  BYJU'S. <br>This might be due to the different apostrophies used.\n",
    "\n",
    "........let's check!"
   ]
  },
  {
   "cell_type": "code",
   "execution_count": 114,
   "metadata": {},
   "outputs": [
    {
     "data": {
      "text/plain": [
       "False"
      ]
     },
     "execution_count": 114,
     "metadata": {},
     "output_type": "execute_result"
    }
   ],
   "source": [
    "# Check if they are same\n",
    "\n",
    "\"BYJU'S\" ==  'BYJU’S'\n"
   ]
  },
  {
   "cell_type": "code",
   "execution_count": 115,
   "metadata": {},
   "outputs": [],
   "source": [
    "# Good! Now we correct that and that's all for company_Brand\n",
    "\n",
    "data2021['Company_Brand'] = data2021['Company_Brand'].str.replace(\"’\", \"'\")"
   ]
  },
  {
   "cell_type": "code",
   "execution_count": 116,
   "metadata": {},
   "outputs": [
    {
     "data": {
      "text/plain": [
       "1032"
      ]
     },
     "execution_count": 116,
     "metadata": {},
     "output_type": "execute_result"
    }
   ],
   "source": [
    "data2021['Company_Brand'].nunique() #Checking..."
   ]
  },
  {
   "cell_type": "code",
   "execution_count": 117,
   "metadata": {},
   "outputs": [
    {
     "name": "stdout",
     "output_type": "stream",
     "text": [
      "<class 'pandas.core.frame.DataFrame'>\n",
      "RangeIndex: 1190 entries, 0 to 1189\n",
      "Data columns (total 9 columns):\n",
      " #   Column         Non-Null Count  Dtype  \n",
      "---  ------         --------------  -----  \n",
      " 0   Company_Brand  1190 non-null   object \n",
      " 1   Founded        1189 non-null   float64\n",
      " 2   HeadQuarter    1189 non-null   object \n",
      " 3   Sector         1190 non-null   object \n",
      " 4   What_it_does   1190 non-null   object \n",
      " 5   Founders       1186 non-null   object \n",
      " 6   Investor       1129 non-null   object \n",
      " 7   Amount         1188 non-null   object \n",
      " 8   Stage          772 non-null    object \n",
      "dtypes: float64(1), object(8)\n",
      "memory usage: 83.8+ KB\n",
      "None\n",
      "\n",
      "69\n",
      "\n",
      "Bangalore      421\n",
      "Mumbai         198\n",
      "Gurugram       155\n",
      "New Delhi      142\n",
      "Pune            46\n",
      "              ... \n",
      "Faridabad        1\n",
      "Roorkee          1\n",
      "Ambernath        1\n",
      "Panchkula        1\n",
      "Gandhinagar      1\n",
      "Name: HeadQuarter, Length: 69, dtype: int64\n",
      "\n"
     ]
    }
   ],
   "source": [
    "# Get summary info, number of unique values and the values of the 'HeadQuarter' column\n",
    "\n",
    "print(f\"{data2021.info()}\\n\")\n",
    "print(f\"{data2021['HeadQuarter'].nunique()}\\n\")\n",
    "print(f\"{data2021['HeadQuarter'].value_counts()}\\n\")"
   ]
  },
  {
   "cell_type": "markdown",
   "metadata": {},
   "source": [
    "There sure have been wrong placement for 'Information Technology & Services' and  'Food & Beverages' <br>\n",
    "Let's check that out!"
   ]
  },
  {
   "cell_type": "code",
   "execution_count": 118,
   "metadata": {},
   "outputs": [
    {
     "data": {
      "text/html": [
       "<div>\n",
       "<style scoped>\n",
       "    .dataframe tbody tr th:only-of-type {\n",
       "        vertical-align: middle;\n",
       "    }\n",
       "\n",
       "    .dataframe tbody tr th {\n",
       "        vertical-align: top;\n",
       "    }\n",
       "\n",
       "    .dataframe thead th {\n",
       "        text-align: right;\n",
       "    }\n",
       "</style>\n",
       "<table border=\"1\" class=\"dataframe\">\n",
       "  <thead>\n",
       "    <tr style=\"text-align: right;\">\n",
       "      <th></th>\n",
       "      <th>Company_Brand</th>\n",
       "      <th>Founded</th>\n",
       "      <th>HeadQuarter</th>\n",
       "      <th>Sector</th>\n",
       "      <th>What_it_does</th>\n",
       "      <th>Founders</th>\n",
       "      <th>Investor</th>\n",
       "      <th>Amount</th>\n",
       "      <th>Stage</th>\n",
       "    </tr>\n",
       "  </thead>\n",
       "  <tbody>\n",
       "    <tr>\n",
       "      <th>236</th>\n",
       "      <td>MasterChow</td>\n",
       "      <td>2020.0</td>\n",
       "      <td>Food &amp; Beverages</td>\n",
       "      <td>Hauz Khas</td>\n",
       "      <td>A ready-to-cook Asian cuisine brand</td>\n",
       "      <td>Vidur Kataria, Sidhanth Madan</td>\n",
       "      <td>WEH Ventures</td>\n",
       "      <td>$461000</td>\n",
       "      <td>Seed</td>\n",
       "    </tr>\n",
       "  </tbody>\n",
       "</table>\n",
       "</div>"
      ],
      "text/plain": [
       "    Company_Brand  Founded       HeadQuarter     Sector  \\\n",
       "236    MasterChow   2020.0  Food & Beverages  Hauz Khas   \n",
       "\n",
       "                            What_it_does                       Founders  \\\n",
       "236  A ready-to-cook Asian cuisine brand  Vidur Kataria, Sidhanth Madan   \n",
       "\n",
       "         Investor   Amount Stage  \n",
       "236  WEH Ventures  $461000  Seed  "
      ]
     },
     "execution_count": 118,
     "metadata": {},
     "output_type": "execute_result"
    }
   ],
   "source": [
    "# Checking .....\n",
    "\n",
    "data2021[data2021['HeadQuarter'] == 'Food & Beverages']"
   ]
  },
  {
   "cell_type": "code",
   "execution_count": 119,
   "metadata": {},
   "outputs": [],
   "source": [
    "# Placing them correctly for MasterChow using the update_value function\n",
    "\n",
    "data2021 = update_values(data2021, 236, column_values={'HeadQuarter': 'New Delhi', 'Sector': 'Food & Beverages'})"
   ]
  },
  {
   "cell_type": "code",
   "execution_count": 120,
   "metadata": {},
   "outputs": [
    {
     "data": {
      "text/html": [
       "<div>\n",
       "<style scoped>\n",
       "    .dataframe tbody tr th:only-of-type {\n",
       "        vertical-align: middle;\n",
       "    }\n",
       "\n",
       "    .dataframe tbody tr th {\n",
       "        vertical-align: top;\n",
       "    }\n",
       "\n",
       "    .dataframe thead th {\n",
       "        text-align: right;\n",
       "    }\n",
       "</style>\n",
       "<table border=\"1\" class=\"dataframe\">\n",
       "  <thead>\n",
       "    <tr style=\"text-align: right;\">\n",
       "      <th></th>\n",
       "      <th>Company_Brand</th>\n",
       "      <th>Founded</th>\n",
       "      <th>HeadQuarter</th>\n",
       "      <th>Sector</th>\n",
       "      <th>What_it_does</th>\n",
       "      <th>Founders</th>\n",
       "      <th>Investor</th>\n",
       "      <th>Amount</th>\n",
       "      <th>Stage</th>\n",
       "    </tr>\n",
       "  </thead>\n",
       "  <tbody>\n",
       "  </tbody>\n",
       "</table>\n",
       "</div>"
      ],
      "text/plain": [
       "Empty DataFrame\n",
       "Columns: [Company_Brand, Founded, HeadQuarter, Sector, What_it_does, Founders, Investor, Amount, Stage]\n",
       "Index: []"
      ]
     },
     "execution_count": 120,
     "metadata": {},
     "output_type": "execute_result"
    }
   ],
   "source": [
    "# Checking .....\n",
    "\n",
    "data2021[data2021['HeadQuarter'] == 'Food & Beverages']"
   ]
  },
  {
   "cell_type": "code",
   "execution_count": 121,
   "metadata": {},
   "outputs": [
    {
     "data": {
      "text/html": [
       "<div>\n",
       "<style scoped>\n",
       "    .dataframe tbody tr th:only-of-type {\n",
       "        vertical-align: middle;\n",
       "    }\n",
       "\n",
       "    .dataframe tbody tr th {\n",
       "        vertical-align: top;\n",
       "    }\n",
       "\n",
       "    .dataframe thead th {\n",
       "        text-align: right;\n",
       "    }\n",
       "</style>\n",
       "<table border=\"1\" class=\"dataframe\">\n",
       "  <thead>\n",
       "    <tr style=\"text-align: right;\">\n",
       "      <th></th>\n",
       "      <th>Company_Brand</th>\n",
       "      <th>Founded</th>\n",
       "      <th>HeadQuarter</th>\n",
       "      <th>Sector</th>\n",
       "      <th>What_it_does</th>\n",
       "      <th>Founders</th>\n",
       "      <th>Investor</th>\n",
       "      <th>Amount</th>\n",
       "      <th>Stage</th>\n",
       "    </tr>\n",
       "  </thead>\n",
       "  <tbody>\n",
       "    <tr>\n",
       "      <th>1157</th>\n",
       "      <td>Peak</td>\n",
       "      <td>2014.0</td>\n",
       "      <td>Information Technology &amp; Services</td>\n",
       "      <td>Manchester, Greater Manchester</td>\n",
       "      <td>Peak helps the world's smartest companies put ...</td>\n",
       "      <td>Atul Sharma</td>\n",
       "      <td>SoftBank Vision Fund 2</td>\n",
       "      <td>$75000000</td>\n",
       "      <td>Series C</td>\n",
       "    </tr>\n",
       "  </tbody>\n",
       "</table>\n",
       "</div>"
      ],
      "text/plain": [
       "     Company_Brand  Founded                        HeadQuarter  \\\n",
       "1157          Peak   2014.0  Information Technology & Services   \n",
       "\n",
       "                              Sector  \\\n",
       "1157  Manchester, Greater Manchester   \n",
       "\n",
       "                                           What_it_does     Founders  \\\n",
       "1157  Peak helps the world's smartest companies put ...  Atul Sharma   \n",
       "\n",
       "                    Investor     Amount     Stage  \n",
       "1157  SoftBank Vision Fund 2  $75000000  Series C  "
      ]
     },
     "execution_count": 121,
     "metadata": {},
     "output_type": "execute_result"
    }
   ],
   "source": [
    "# Checking for Peak\n",
    "\n",
    "data2021[data2021['HeadQuarter'] == 'Information Technology & Services']"
   ]
  },
  {
   "cell_type": "code",
   "execution_count": 122,
   "metadata": {},
   "outputs": [],
   "source": [
    "# Placing them correctly\n",
    "\n",
    "data2021 = update_values(data2021, 1157, column_values={ 'HeadQuarter': 'Manchestor', 'Sector': 'Information Technology & Services'})"
   ]
  },
  {
   "cell_type": "code",
   "execution_count": 123,
   "metadata": {},
   "outputs": [
    {
     "data": {
      "text/html": [
       "<div>\n",
       "<style scoped>\n",
       "    .dataframe tbody tr th:only-of-type {\n",
       "        vertical-align: middle;\n",
       "    }\n",
       "\n",
       "    .dataframe tbody tr th {\n",
       "        vertical-align: top;\n",
       "    }\n",
       "\n",
       "    .dataframe thead th {\n",
       "        text-align: right;\n",
       "    }\n",
       "</style>\n",
       "<table border=\"1\" class=\"dataframe\">\n",
       "  <thead>\n",
       "    <tr style=\"text-align: right;\">\n",
       "      <th></th>\n",
       "      <th>Company_Brand</th>\n",
       "      <th>Founded</th>\n",
       "      <th>HeadQuarter</th>\n",
       "      <th>Sector</th>\n",
       "      <th>What_it_does</th>\n",
       "      <th>Founders</th>\n",
       "      <th>Investor</th>\n",
       "      <th>Amount</th>\n",
       "      <th>Stage</th>\n",
       "    </tr>\n",
       "  </thead>\n",
       "  <tbody>\n",
       "  </tbody>\n",
       "</table>\n",
       "</div>"
      ],
      "text/plain": [
       "Empty DataFrame\n",
       "Columns: [Company_Brand, Founded, HeadQuarter, Sector, What_it_does, Founders, Investor, Amount, Stage]\n",
       "Index: []"
      ]
     },
     "execution_count": 123,
     "metadata": {},
     "output_type": "execute_result"
    }
   ],
   "source": [
    "# Checking ......\n",
    "\n",
    "data2021[data2021['HeadQuarter'] == 'Information Technology & Services']\n"
   ]
  },
  {
   "cell_type": "markdown",
   "metadata": {},
   "source": [
    "Deal with Missing Values"
   ]
  },
  {
   "cell_type": "code",
   "execution_count": 124,
   "metadata": {},
   "outputs": [
    {
     "data": {
      "text/html": [
       "<div>\n",
       "<style scoped>\n",
       "    .dataframe tbody tr th:only-of-type {\n",
       "        vertical-align: middle;\n",
       "    }\n",
       "\n",
       "    .dataframe tbody tr th {\n",
       "        vertical-align: top;\n",
       "    }\n",
       "\n",
       "    .dataframe thead th {\n",
       "        text-align: right;\n",
       "    }\n",
       "</style>\n",
       "<table border=\"1\" class=\"dataframe\">\n",
       "  <thead>\n",
       "    <tr style=\"text-align: right;\">\n",
       "      <th></th>\n",
       "      <th>Company_Brand</th>\n",
       "      <th>Founded</th>\n",
       "      <th>HeadQuarter</th>\n",
       "      <th>Sector</th>\n",
       "      <th>What_it_does</th>\n",
       "      <th>Founders</th>\n",
       "      <th>Investor</th>\n",
       "      <th>Amount</th>\n",
       "      <th>Stage</th>\n",
       "    </tr>\n",
       "  </thead>\n",
       "  <tbody>\n",
       "    <tr>\n",
       "      <th>29</th>\n",
       "      <td>Vidyakul</td>\n",
       "      <td>2018.0</td>\n",
       "      <td>None</td>\n",
       "      <td>EdTech</td>\n",
       "      <td>Vidyakul is an vernacular e-learning platform ...</td>\n",
       "      <td>Raman Garg, Tarun Saini</td>\n",
       "      <td>JITO Angel Network, SOSV</td>\n",
       "      <td>$500,000</td>\n",
       "      <td>Seed</td>\n",
       "    </tr>\n",
       "  </tbody>\n",
       "</table>\n",
       "</div>"
      ],
      "text/plain": [
       "   Company_Brand  Founded HeadQuarter  Sector  \\\n",
       "29      Vidyakul   2018.0        None  EdTech   \n",
       "\n",
       "                                         What_it_does  \\\n",
       "29  Vidyakul is an vernacular e-learning platform ...   \n",
       "\n",
       "                   Founders                  Investor    Amount Stage  \n",
       "29  Raman Garg, Tarun Saini  JITO Angel Network, SOSV  $500,000  Seed  "
      ]
     },
     "execution_count": 124,
     "metadata": {},
     "output_type": "execute_result"
    }
   ],
   "source": [
    "# Check for missing values\n",
    "\n",
    "data2021[data2021['HeadQuarter'].isnull()]"
   ]
  },
  {
   "cell_type": "code",
   "execution_count": 125,
   "metadata": {},
   "outputs": [],
   "source": [
    "# Fill the missing value with its correct value 'Gurgaon'ArithmeticError\n",
    "data2021 = update_values(data2021, 29, column_values={'HeadQuarter': 'Gurgaon'})"
   ]
  },
  {
   "cell_type": "markdown",
   "metadata": {},
   "source": [
    "#### Dealing with the 'Founded' Col"
   ]
  },
  {
   "cell_type": "code",
   "execution_count": 126,
   "metadata": {},
   "outputs": [
    {
     "data": {
      "text/plain": [
       "array([2019., 2015., 2012., 2021., 2014., 2018., 2016., 2020., 2010.,\n",
       "       2017., 1993., 2008., 2013., 1999., 1989., 2011.,   nan, 2009.,\n",
       "       2002., 1994., 2006., 2000., 2007., 1978., 2003., 1998., 1991.,\n",
       "       1984., 2004., 2005., 1963.])"
      ]
     },
     "execution_count": 126,
     "metadata": {},
     "output_type": "execute_result"
    }
   ],
   "source": [
    "# Getting the unique values of the 'Founded' column\n",
    "\n",
    "data2021['Founded'].unique()"
   ]
  },
  {
   "cell_type": "code",
   "execution_count": 127,
   "metadata": {},
   "outputs": [
    {
     "data": {
      "text/plain": [
       "1"
      ]
     },
     "execution_count": 127,
     "metadata": {},
     "output_type": "execute_result"
    }
   ],
   "source": [
    "# Checking the number of missing values\n",
    "\n",
    "data2021['Founded'].isnull().sum()"
   ]
  },
  {
   "cell_type": "code",
   "execution_count": 128,
   "metadata": {},
   "outputs": [
    {
     "data": {
      "text/plain": [
       "count   1189.0\n",
       "mean    2016.6\n",
       "std        4.5\n",
       "min     1963.0\n",
       "25%     2015.0\n",
       "50%     2018.0\n",
       "75%     2020.0\n",
       "max     2021.0\n",
       "Name: Founded, dtype: float64"
      ]
     },
     "execution_count": 128,
     "metadata": {},
     "output_type": "execute_result"
    }
   ],
   "source": [
    "# Get statistical summaries of the column to inform \n",
    "# what strategy to use for imputation\n",
    "\n",
    "data2021['Founded'].describe()"
   ]
  },
  {
   "cell_type": "code",
   "execution_count": 129,
   "metadata": {},
   "outputs": [
    {
     "data": {
      "text/plain": [
       "dtype('float64')"
      ]
     },
     "execution_count": 129,
     "metadata": {},
     "output_type": "execute_result"
    }
   ],
   "source": [
    "# Check data type \n",
    "\n",
    "\n",
    "data2021['Founded'].dtype"
   ]
  },
  {
   "cell_type": "markdown",
   "metadata": {},
   "source": [
    "Now, we can do imputation. <br> Since 'year' is a categorical data here, we use the most frequent to fill the null."
   ]
  },
  {
   "cell_type": "code",
   "execution_count": 130,
   "metadata": {},
   "outputs": [],
   "source": [
    "# Imputing missing values\n",
    "\n",
    "array = data2021['Founded'].values.reshape(-1,1)\n",
    "imputer = SimpleImputer(strategy='most_frequent')\n",
    "\n",
    "data2021['Founded'] = imputer.fit_transform(array)"
   ]
  },
  {
   "cell_type": "code",
   "execution_count": 131,
   "metadata": {},
   "outputs": [
    {
     "data": {
      "text/plain": [
       "array([2019., 2015., 2012., 2021., 2014., 2018., 2016., 2020., 2010.,\n",
       "       2017., 1993., 2008., 2013., 1999., 1989., 2011., 2009., 2002.,\n",
       "       1994., 2006., 2000., 2007., 1978., 2003., 1998., 1991., 1984.,\n",
       "       2004., 2005., 1963.])"
      ]
     },
     "execution_count": 131,
     "metadata": {},
     "output_type": "execute_result"
    }
   ],
   "source": [
    "data2021['Founded'].unique()"
   ]
  },
  {
   "cell_type": "markdown",
   "metadata": {},
   "source": [
    "Converting 'Founded' from float to int64"
   ]
  },
  {
   "cell_type": "code",
   "execution_count": 132,
   "metadata": {},
   "outputs": [
    {
     "data": {
      "text/plain": [
       "0    2019\n",
       "1    2015\n",
       "2    2012\n",
       "3    2015\n",
       "4    2021\n",
       "Name: Founded, dtype: int32"
      ]
     },
     "execution_count": 132,
     "metadata": {},
     "output_type": "execute_result"
    }
   ],
   "source": [
    "# Founded column converted to int\n",
    "\n",
    "data2021['Founded'] = data2021['Founded'].astype(int)\n",
    "data2021['Founded'].head()"
   ]
  },
  {
   "cell_type": "code",
   "execution_count": 133,
   "metadata": {},
   "outputs": [
    {
     "data": {
      "text/plain": [
       "dtype('int32')"
      ]
     },
     "execution_count": 133,
     "metadata": {},
     "output_type": "execute_result"
    }
   ],
   "source": [
    "# Making sure the conversion was done\n",
    "\n",
    "data2021['Founded'].dtype"
   ]
  },
  {
   "cell_type": "code",
   "execution_count": 134,
   "metadata": {},
   "outputs": [
    {
     "data": {
      "text/plain": [
       "array([2019, 2015, 2012, 2021, 2014, 2018, 2016, 2020, 2010, 2017, 1993,\n",
       "       2008, 2013, 1999, 1989, 2011, 2009, 2002, 1994, 2006, 2000, 2007,\n",
       "       1978, 2003, 1998, 1991, 1984, 2004, 2005, 1963])"
      ]
     },
     "execution_count": 134,
     "metadata": {},
     "output_type": "execute_result"
    }
   ],
   "source": [
    "# Get unique values\n",
    "\n",
    "data2021['Founded'].unique()"
   ]
  },
  {
   "cell_type": "markdown",
   "metadata": {},
   "source": [
    "#### Cleaning the 'Amount' col"
   ]
  },
  {
   "cell_type": "code",
   "execution_count": 135,
   "metadata": {},
   "outputs": [
    {
     "data": {
      "text/plain": [
       "$Undisclosed      72\n",
       "$1000000          54\n",
       "Undisclosed       43\n",
       "$2000000          40\n",
       "$1,000,000        33\n",
       "                  ..\n",
       "$1,000,000,000     1\n",
       "$18,000,000        1\n",
       "$5,200,000         1\n",
       "$1,400,000         1\n",
       "$55000000          1\n",
       "Name: Amount, Length: 271, dtype: int64"
      ]
     },
     "execution_count": 135,
     "metadata": {},
     "output_type": "execute_result"
    }
   ],
   "source": [
    "# Inspecting unique values with their frequencies\n",
    "\n",
    "data2021['Amount'].value_counts()"
   ]
  },
  {
   "cell_type": "markdown",
   "metadata": {},
   "source": [
    "Replacing Undisclosed/$undisclosed/$Undisclosed values under the 'Amounts' Column"
   ]
  },
  {
   "cell_type": "code",
   "execution_count": 136,
   "metadata": {},
   "outputs": [],
   "source": [
    "# Function to replace anomalous amount values with np.nan\n",
    "\n",
    "def replace_values_with_nan(df, column_name, values_to_replace):\n",
    "    \"\"\"\n",
    "    Replaces specified values in a column of a DataFrame with np.nan.\n",
    "\n",
    "    Args:\n",
    "        df (pandas.DataFrame): The DataFrame containing the column to modify.\n",
    "        column_name (str): The name of the column to replace values in.\n",
    "        values_to_replace (list or scalar): The value(s) to replace with np.nan. Can be a single value or a list of values.\n",
    "\n",
    "    Returns:\n",
    "        pandas.DataFrame: A modified DataFrame with the specified values replaced by np.nan.\n",
    "\n",
    "    Example:\n",
    "        # Create a sample DataFrame\n",
    "        data = {\n",
    "            'Column1': [1, 2, 3, 4, 5],\n",
    "            'Column2': ['A', 'B', 'C', 'D', 'E'],\n",
    "            'Column3': ['X', 'Y', 'Z', 'X', 'Z']\n",
    "        }\n",
    "\n",
    "        df = pd.DataFrame(data)\n",
    "\n",
    "        # Define the column name and values to replace with np.nan\n",
    "        column_name = 'Column3'\n",
    "        values_to_replace = ['X', 'Z']\n",
    "\n",
    "        # Call the replace_values_with_nan function\n",
    "        df_modified = replace_values_with_nan(df, column_name, values_to_replace)\n",
    "\n",
    "        # Print the modified DataFrame\n",
    "        print(df_modified)\n",
    "    \"\"\"\n",
    "    df[column_name] = df[column_name].replace(values_to_replace, np.nan)\n",
    "    return df\n"
   ]
  },
  {
   "cell_type": "code",
   "execution_count": 137,
   "metadata": {},
   "outputs": [],
   "source": [
    "# Invoking the function to replace the missing values with np.nan\n",
    "\n",
    "data2021 = replace_values_with_nan(data2021, 'Amount', ['$Undisclosed', '$undisclosed', 'undisclosed', 'Undisclosed', 'None'])\n",
    "\n",
    "# Replacing the undesired characters\n",
    "\n",
    "data2021['Amount'] = data2021['Amount'].str.replace('[$,]', '')"
   ]
  },
  {
   "cell_type": "code",
   "execution_count": 138,
   "metadata": {},
   "outputs": [
    {
     "data": {
      "text/plain": [
       "dtype('float64')"
      ]
     },
     "execution_count": 138,
     "metadata": {},
     "output_type": "execute_result"
    }
   ],
   "source": [
    "# Converting the 'Amount' col to float\n",
    "\n",
    "data2021['Amount'] = pd.to_numeric(data2021['Amount'])\n",
    "data2021['Amount'].dtype"
   ]
  },
  {
   "cell_type": "code",
   "execution_count": 139,
   "metadata": {},
   "outputs": [],
   "source": [
    "# Make scientific numbers display as normal with i decimal point\n",
    "\n",
    "pd.set_option('display.float_format', '{:.1f}'.format)\n"
   ]
  },
  {
   "cell_type": "code",
   "execution_count": 140,
   "metadata": {},
   "outputs": [
    {
     "data": {
      "text/html": [
       "<div>\n",
       "<style scoped>\n",
       "    .dataframe tbody tr th:only-of-type {\n",
       "        vertical-align: middle;\n",
       "    }\n",
       "\n",
       "    .dataframe tbody tr th {\n",
       "        vertical-align: top;\n",
       "    }\n",
       "\n",
       "    .dataframe thead th {\n",
       "        text-align: right;\n",
       "    }\n",
       "</style>\n",
       "<table border=\"1\" class=\"dataframe\">\n",
       "  <thead>\n",
       "    <tr style=\"text-align: right;\">\n",
       "      <th></th>\n",
       "      <th>Founded</th>\n",
       "      <th>Amount</th>\n",
       "    </tr>\n",
       "  </thead>\n",
       "  <tbody>\n",
       "    <tr>\n",
       "      <th>count</th>\n",
       "      <td>1190.0</td>\n",
       "      <td>1049.0</td>\n",
       "    </tr>\n",
       "    <tr>\n",
       "      <th>mean</th>\n",
       "      <td>2016.6</td>\n",
       "      <td>171212131.6</td>\n",
       "    </tr>\n",
       "    <tr>\n",
       "      <th>std</th>\n",
       "      <td>4.5</td>\n",
       "      <td>4631144962.5</td>\n",
       "    </tr>\n",
       "    <tr>\n",
       "      <th>min</th>\n",
       "      <td>1963.0</td>\n",
       "      <td>10000.0</td>\n",
       "    </tr>\n",
       "    <tr>\n",
       "      <th>25%</th>\n",
       "      <td>2015.0</td>\n",
       "      <td>1000000.0</td>\n",
       "    </tr>\n",
       "    <tr>\n",
       "      <th>50%</th>\n",
       "      <td>2018.0</td>\n",
       "      <td>3500000.0</td>\n",
       "    </tr>\n",
       "    <tr>\n",
       "      <th>75%</th>\n",
       "      <td>2020.0</td>\n",
       "      <td>15000000.0</td>\n",
       "    </tr>\n",
       "    <tr>\n",
       "      <th>max</th>\n",
       "      <td>2021.0</td>\n",
       "      <td>150000000000.0</td>\n",
       "    </tr>\n",
       "  </tbody>\n",
       "</table>\n",
       "</div>"
      ],
      "text/plain": [
       "       Founded         Amount\n",
       "count   1190.0         1049.0\n",
       "mean    2016.6    171212131.6\n",
       "std        4.5   4631144962.5\n",
       "min     1963.0        10000.0\n",
       "25%     2015.0      1000000.0\n",
       "50%     2018.0      3500000.0\n",
       "75%     2020.0     15000000.0\n",
       "max     2021.0 150000000000.0"
      ]
     },
     "execution_count": 140,
     "metadata": {},
     "output_type": "execute_result"
    }
   ],
   "source": [
    "# Get statistical summary of data2021\n",
    "\n",
    "data2021.describe()"
   ]
  },
  {
   "cell_type": "markdown",
   "metadata": {},
   "source": [
    "Filling missing values in the 'Amount' Col"
   ]
  },
  {
   "cell_type": "code",
   "execution_count": 141,
   "metadata": {},
   "outputs": [],
   "source": [
    "# Imputing missing values\n",
    "\n",
    "array = data2021['Amount'].values.reshape(-1,1) # simpleImputer takes 2d array as input\n",
    "imputer = SimpleImputer(strategy='median')   # Chose 'median' strategy because of the presence of outliers\n",
    "\n",
    "data2021['Amount'] = imputer.fit_transform(array)"
   ]
  },
  {
   "cell_type": "code",
   "execution_count": 142,
   "metadata": {},
   "outputs": [
    {
     "data": {
      "text/html": [
       "<div>\n",
       "<style scoped>\n",
       "    .dataframe tbody tr th:only-of-type {\n",
       "        vertical-align: middle;\n",
       "    }\n",
       "\n",
       "    .dataframe tbody tr th {\n",
       "        vertical-align: top;\n",
       "    }\n",
       "\n",
       "    .dataframe thead th {\n",
       "        text-align: right;\n",
       "    }\n",
       "</style>\n",
       "<table border=\"1\" class=\"dataframe\">\n",
       "  <thead>\n",
       "    <tr style=\"text-align: right;\">\n",
       "      <th></th>\n",
       "      <th>Company_Brand</th>\n",
       "      <th>Founded</th>\n",
       "      <th>HeadQuarter</th>\n",
       "      <th>Sector</th>\n",
       "      <th>What_it_does</th>\n",
       "      <th>Founders</th>\n",
       "      <th>Investor</th>\n",
       "      <th>Amount</th>\n",
       "      <th>Stage</th>\n",
       "    </tr>\n",
       "  </thead>\n",
       "  <tbody>\n",
       "    <tr>\n",
       "      <th>0</th>\n",
       "      <td>Unbox Robotics</td>\n",
       "      <td>2019</td>\n",
       "      <td>Bangalore</td>\n",
       "      <td>AI startup</td>\n",
       "      <td>Unbox Robotics builds on-demand AI-driven ware...</td>\n",
       "      <td>Pramod Ghadge, Shahid Memon</td>\n",
       "      <td>BEENEXT, Entrepreneur First</td>\n",
       "      <td>1200000.0</td>\n",
       "      <td>Pre-series A</td>\n",
       "    </tr>\n",
       "    <tr>\n",
       "      <th>1</th>\n",
       "      <td>upGrad</td>\n",
       "      <td>2015</td>\n",
       "      <td>Mumbai</td>\n",
       "      <td>EdTech</td>\n",
       "      <td>UpGrad is an online higher education platform.</td>\n",
       "      <td>Mayank Kumar, Phalgun Kompalli, Ravijot Chugh,...</td>\n",
       "      <td>Unilazer Ventures, IIFL Asset Management</td>\n",
       "      <td>120000000.0</td>\n",
       "      <td>None</td>\n",
       "    </tr>\n",
       "    <tr>\n",
       "      <th>2</th>\n",
       "      <td>Lead School</td>\n",
       "      <td>2012</td>\n",
       "      <td>Mumbai</td>\n",
       "      <td>EdTech</td>\n",
       "      <td>LEAD School offers technology based school tra...</td>\n",
       "      <td>Smita Deorah, Sumeet Mehta</td>\n",
       "      <td>GSV Ventures, Westbridge Capital</td>\n",
       "      <td>30000000.0</td>\n",
       "      <td>Series D</td>\n",
       "    </tr>\n",
       "    <tr>\n",
       "      <th>3</th>\n",
       "      <td>Bizongo</td>\n",
       "      <td>2015</td>\n",
       "      <td>Mumbai</td>\n",
       "      <td>B2B E-commerce</td>\n",
       "      <td>Bizongo is a business-to-business online marke...</td>\n",
       "      <td>Aniket Deb, Ankit Tomar, Sachin Agrawal</td>\n",
       "      <td>CDC Group, IDG Capital</td>\n",
       "      <td>51000000.0</td>\n",
       "      <td>Series C</td>\n",
       "    </tr>\n",
       "    <tr>\n",
       "      <th>4</th>\n",
       "      <td>FypMoney</td>\n",
       "      <td>2021</td>\n",
       "      <td>Gurugram</td>\n",
       "      <td>FinTech</td>\n",
       "      <td>FypMoney is Digital NEO Bank for Teenagers, em...</td>\n",
       "      <td>Kapil Banwari</td>\n",
       "      <td>Liberatha Kallat, Mukesh Yadav, Dinesh Nagpal</td>\n",
       "      <td>2000000.0</td>\n",
       "      <td>Seed</td>\n",
       "    </tr>\n",
       "  </tbody>\n",
       "</table>\n",
       "</div>"
      ],
      "text/plain": [
       "    Company_Brand  Founded HeadQuarter          Sector  \\\n",
       "0  Unbox Robotics     2019   Bangalore      AI startup   \n",
       "1          upGrad     2015      Mumbai          EdTech   \n",
       "2     Lead School     2012      Mumbai          EdTech   \n",
       "3         Bizongo     2015      Mumbai  B2B E-commerce   \n",
       "4        FypMoney     2021    Gurugram         FinTech   \n",
       "\n",
       "                                        What_it_does  \\\n",
       "0  Unbox Robotics builds on-demand AI-driven ware...   \n",
       "1     UpGrad is an online higher education platform.   \n",
       "2  LEAD School offers technology based school tra...   \n",
       "3  Bizongo is a business-to-business online marke...   \n",
       "4  FypMoney is Digital NEO Bank for Teenagers, em...   \n",
       "\n",
       "                                            Founders  \\\n",
       "0                        Pramod Ghadge, Shahid Memon   \n",
       "1  Mayank Kumar, Phalgun Kompalli, Ravijot Chugh,...   \n",
       "2                         Smita Deorah, Sumeet Mehta   \n",
       "3            Aniket Deb, Ankit Tomar, Sachin Agrawal   \n",
       "4                                      Kapil Banwari   \n",
       "\n",
       "                                        Investor      Amount         Stage  \n",
       "0                    BEENEXT, Entrepreneur First   1200000.0  Pre-series A  \n",
       "1       Unilazer Ventures, IIFL Asset Management 120000000.0          None  \n",
       "2               GSV Ventures, Westbridge Capital  30000000.0      Series D  \n",
       "3                         CDC Group, IDG Capital  51000000.0      Series C  \n",
       "4  Liberatha Kallat, Mukesh Yadav, Dinesh Nagpal   2000000.0          Seed  "
      ]
     },
     "execution_count": 142,
     "metadata": {},
     "output_type": "execute_result"
    }
   ],
   "source": [
    "# View first 5 rows of data2021\n",
    "\n",
    "data2021.head()"
   ]
  },
  {
   "cell_type": "markdown",
   "metadata": {},
   "source": [
    "Get Outliers and Remove them"
   ]
  },
  {
   "cell_type": "code",
   "execution_count": 143,
   "metadata": {},
   "outputs": [],
   "source": [
    "def get_outlier(data, column):\n",
    "    \"\"\"\n",
    "    Function that identifies outliers from the dataframe\n",
    "\n",
    "    Args:\n",
    "        data : pandas dataframe\n",
    "            Contains the data where the outliers are to be found\n",
    "        column : str\n",
    "            Usually a string with the name of the column\n",
    "    \n",
    "    Returns:\n",
    "        None: prints number of outliers \n",
    "    \"\"\"\n",
    "    \n",
    "    # calculate interquartile range\n",
    "    q25, q75 = np.percentile(data2021['Amount'], 25), np.percentile(data2021['Amount'], 75)\n",
    "    iqr = q75 - q25\n",
    "    print('Percentiles: 25th = %.3f, 75th = %.3f, IQR = %.3f' % (q25, q75, iqr))\n",
    "    \n",
    "    # calculate the outlier cutoff\n",
    "    cut_off = iqr * 1.5\n",
    "    lower, upper = q25 - cut_off, q75 + cut_off\n",
    "    \n",
    "    # identify outliers\n",
    "    indx = np.where((data2021['Amount'] < lower) | (data2021['Amount'] > upper))\n",
    "    print('Identified outliers: %d' % len(indx[0]))\n",
    "    \n",
    "  "
   ]
  },
  {
   "cell_type": "code",
   "execution_count": 144,
   "metadata": {},
   "outputs": [
    {
     "name": "stdout",
     "output_type": "stream",
     "text": [
      "Percentiles: 25th = 1000000.000, 75th = 11000000.000, IQR = 10000000.000\n",
      "Identified outliers: 203\n"
     ]
    }
   ],
   "source": [
    "# Call the function remove_outlier()\n",
    "\n",
    "get_outlier(data2021, 'Amount')"
   ]
  },
  {
   "cell_type": "markdown",
   "metadata": {},
   "source": [
    "Since outliers are 203 representing almost 10% of our data, we choose to ignore them."
   ]
  },
  {
   "cell_type": "markdown",
   "metadata": {},
   "source": [
    "#### Cleaning the *'Stage'* Column\n",
    "\n",
    "Inspecting the unique values in the 'Stage' Column"
   ]
  },
  {
   "cell_type": "code",
   "execution_count": 145,
   "metadata": {},
   "outputs": [
    {
     "data": {
      "text/plain": [
       "array(['Pre-series A', None, 'Series D', 'Series C', 'Seed', 'Series B',\n",
       "       'Series E', 'Pre-seed', 'Series A', 'Pre-series B', 'Debt',\n",
       "       'Upsparks', 'Bridge', 'Seed+', 'Series F2', 'Series A+',\n",
       "       'Series G', 'Series F', 'Series H', 'Series B3', 'PE', 'Series F1',\n",
       "       'Pre-series A1', 'Venture-Series Unknown', 'Early seed',\n",
       "       'Series D1', 'Seies A', 'Pre-series', 'Series A2', 'Series I'],\n",
       "      dtype=object)"
      ]
     },
     "execution_count": 145,
     "metadata": {},
     "output_type": "execute_result"
    }
   ],
   "source": [
    "data2021['Stage'].unique() # Get unique values of Stage column"
   ]
  },
  {
   "cell_type": "markdown",
   "metadata": {},
   "source": [
    "Check how many records have the null value at the 'Stage' column"
   ]
  },
  {
   "cell_type": "code",
   "execution_count": 146,
   "metadata": {},
   "outputs": [
    {
     "data": {
      "text/plain": [
       "418"
      ]
     },
     "execution_count": 146,
     "metadata": {},
     "output_type": "execute_result"
    }
   ],
   "source": [
    "data2021['Stage'].isnull().sum()  # Get the numer of missing values in Stage"
   ]
  },
  {
   "cell_type": "markdown",
   "metadata": {},
   "source": [
    "Oops! Pretty much! Let's take a deeper look at those records."
   ]
  },
  {
   "cell_type": "code",
   "execution_count": 147,
   "metadata": {},
   "outputs": [
    {
     "data": {
      "text/html": [
       "<div>\n",
       "<style scoped>\n",
       "    .dataframe tbody tr th:only-of-type {\n",
       "        vertical-align: middle;\n",
       "    }\n",
       "\n",
       "    .dataframe tbody tr th {\n",
       "        vertical-align: top;\n",
       "    }\n",
       "\n",
       "    .dataframe thead th {\n",
       "        text-align: right;\n",
       "    }\n",
       "</style>\n",
       "<table border=\"1\" class=\"dataframe\">\n",
       "  <thead>\n",
       "    <tr style=\"text-align: right;\">\n",
       "      <th></th>\n",
       "      <th>Company_Brand</th>\n",
       "      <th>Founded</th>\n",
       "      <th>HeadQuarter</th>\n",
       "      <th>Sector</th>\n",
       "      <th>What_it_does</th>\n",
       "      <th>Founders</th>\n",
       "      <th>Investor</th>\n",
       "      <th>Amount</th>\n",
       "      <th>Stage</th>\n",
       "    </tr>\n",
       "  </thead>\n",
       "  <tbody>\n",
       "    <tr>\n",
       "      <th>1</th>\n",
       "      <td>upGrad</td>\n",
       "      <td>2015</td>\n",
       "      <td>Mumbai</td>\n",
       "      <td>EdTech</td>\n",
       "      <td>UpGrad is an online higher education platform.</td>\n",
       "      <td>Mayank Kumar, Phalgun Kompalli, Ravijot Chugh,...</td>\n",
       "      <td>Unilazer Ventures, IIFL Asset Management</td>\n",
       "      <td>120000000.0</td>\n",
       "      <td>None</td>\n",
       "    </tr>\n",
       "    <tr>\n",
       "      <th>5</th>\n",
       "      <td>Urban Company</td>\n",
       "      <td>2014</td>\n",
       "      <td>New Delhi</td>\n",
       "      <td>Home services</td>\n",
       "      <td>Urban Company (Formerly UrbanClap) is a home a...</td>\n",
       "      <td>Abhiraj Singh Bhal, Raghav Chandra, Varun Khaitan</td>\n",
       "      <td>Vy Capital</td>\n",
       "      <td>188000000.0</td>\n",
       "      <td>None</td>\n",
       "    </tr>\n",
       "    <tr>\n",
       "      <th>6</th>\n",
       "      <td>Comofi Medtech</td>\n",
       "      <td>2018</td>\n",
       "      <td>Bangalore</td>\n",
       "      <td>HealthTech</td>\n",
       "      <td>Comofi Medtech is a healthcare robotics startup.</td>\n",
       "      <td>Gururaj KB</td>\n",
       "      <td>CIIE.CO, KIIT-TBI</td>\n",
       "      <td>200000.0</td>\n",
       "      <td>None</td>\n",
       "    </tr>\n",
       "    <tr>\n",
       "      <th>8</th>\n",
       "      <td>Vitra.ai</td>\n",
       "      <td>2020</td>\n",
       "      <td>Bangalore</td>\n",
       "      <td>Tech Startup</td>\n",
       "      <td>Vitra.ai is an AI-based video translation plat...</td>\n",
       "      <td>Akash Nidhi PS</td>\n",
       "      <td>Inflexor Ventures</td>\n",
       "      <td>3500000.0</td>\n",
       "      <td>None</td>\n",
       "    </tr>\n",
       "    <tr>\n",
       "      <th>9</th>\n",
       "      <td>Taikee</td>\n",
       "      <td>2010</td>\n",
       "      <td>Mumbai</td>\n",
       "      <td>E-commerce</td>\n",
       "      <td>Taikee is the ISO-certified, B2B e-commerce pl...</td>\n",
       "      <td>Nidhi Ramachandran, Sachin Chhabra</td>\n",
       "      <td>None</td>\n",
       "      <td>1000000.0</td>\n",
       "      <td>None</td>\n",
       "    </tr>\n",
       "  </tbody>\n",
       "</table>\n",
       "</div>"
      ],
      "text/plain": [
       "    Company_Brand  Founded HeadQuarter         Sector  \\\n",
       "1          upGrad     2015      Mumbai         EdTech   \n",
       "5   Urban Company     2014   New Delhi  Home services   \n",
       "6  Comofi Medtech     2018   Bangalore     HealthTech   \n",
       "8        Vitra.ai     2020   Bangalore   Tech Startup   \n",
       "9          Taikee     2010      Mumbai     E-commerce   \n",
       "\n",
       "                                        What_it_does  \\\n",
       "1     UpGrad is an online higher education platform.   \n",
       "5  Urban Company (Formerly UrbanClap) is a home a...   \n",
       "6   Comofi Medtech is a healthcare robotics startup.   \n",
       "8  Vitra.ai is an AI-based video translation plat...   \n",
       "9  Taikee is the ISO-certified, B2B e-commerce pl...   \n",
       "\n",
       "                                            Founders  \\\n",
       "1  Mayank Kumar, Phalgun Kompalli, Ravijot Chugh,...   \n",
       "5  Abhiraj Singh Bhal, Raghav Chandra, Varun Khaitan   \n",
       "6                                         Gururaj KB   \n",
       "8                                     Akash Nidhi PS   \n",
       "9                 Nidhi Ramachandran, Sachin Chhabra   \n",
       "\n",
       "                                   Investor      Amount Stage  \n",
       "1  Unilazer Ventures, IIFL Asset Management 120000000.0  None  \n",
       "5                                Vy Capital 188000000.0  None  \n",
       "6                         CIIE.CO, KIIT-TBI    200000.0  None  \n",
       "8                         Inflexor Ventures   3500000.0  None  \n",
       "9                                      None   1000000.0  None  "
      ]
     },
     "execution_count": 147,
     "metadata": {},
     "output_type": "execute_result"
    }
   ],
   "source": [
    "data2021[data2021['Stage'].isnull()].head() # View first 5 rows whose stage column are null"
   ]
  },
  {
   "cell_type": "markdown",
   "metadata": {},
   "source": [
    "Alright! These companies are listed on cruchbase, the leading provider of private-company prospecting and research solutions. <br>\n",
    "Let's see if we can get reliable data to fill-in the nulls"
   ]
  },
  {
   "cell_type": "code",
   "execution_count": 148,
   "metadata": {},
   "outputs": [],
   "source": [
    "# A function to update multiple rows and columns with values\n",
    "\n",
    "def update_values_(df, row_indices, column_index, values):\n",
    "    \"\"\"\n",
    "    Updates multiple values in a DataFrame for specific rows and a specific column.\n",
    "\n",
    "    Args:\n",
    "        df (pd.DataFrame): The DataFrame to be modified.\n",
    "        row_indices (list): Indices of the rows where the values will be updated.\n",
    "        column_index (int or str): Index or name of the column where the values will be updated.\n",
    "        values (list): List of new values to be assigned to the specified cells.\n",
    "\n",
    "    Returns:\n",
    "        pd.DataFrame: The DataFrame with the updated values.\n",
    "    \"\"\"\n",
    "    df_modified = df.copy()\n",
    "    column_index = df.columns.get_loc(column_index) if isinstance(column_index, str) else column_index\n",
    "\n",
    "    for i, row_index in enumerate(row_indices):\n",
    "        df_modified.iloc[row_index, column_index] = values[i]\n",
    "\n",
    "    return df_modified\n"
   ]
  },
  {
   "cell_type": "code",
   "execution_count": 149,
   "metadata": {},
   "outputs": [],
   "source": [
    "# Define row_indices, column_index, values to be passed to the function update_values_() to insert values\n",
    "\n",
    "row_indices = [1,5,6,8,11,13,14,15,16,24,31,34,35,36,37,40,42,46]\n",
    "column_index = 8\n",
    "values = ['Venture - Series Unknown','Secondary Market', 'Pre-Seed','Seed', 'Venture - Series Unknown','Pre-Seed',\\\n",
    "         'Series A', 'Series D','Series E','Series A','Debt','Series A','Venture - Series Unknown','Venture - Series Unknown','Venture - Series Unknown','Venture - Series Unknown','Series A', 'Seed','Equity Crowdfunding']\n",
    "data2021 = update_values_(data2021, row_indices, column_index, values)"
   ]
  },
  {
   "cell_type": "markdown",
   "metadata": {},
   "source": [
    "Good! I could just get a few. \n",
    "\n",
    "Let's have a look at what the unique values are again."
   ]
  },
  {
   "cell_type": "code",
   "execution_count": 150,
   "metadata": {},
   "outputs": [
    {
     "data": {
      "text/plain": [
       "array(['Pre-series A', 'Venture - Series Unknown', 'Series D', 'Series C',\n",
       "       'Seed', 'Secondary Market', 'Pre-Seed', None, 'Series A',\n",
       "       'Series E', 'Series B', 'Pre-seed', 'Debt', 'Pre-series B',\n",
       "       'Upsparks', 'Bridge', 'Seed+', 'Series F2', 'Series A+',\n",
       "       'Series G', 'Series F', 'Series H', 'Series B3', 'PE', 'Series F1',\n",
       "       'Pre-series A1', 'Venture-Series Unknown', 'Early seed',\n",
       "       'Series D1', 'Seies A', 'Pre-series', 'Series A2', 'Series I'],\n",
       "      dtype=object)"
      ]
     },
     "execution_count": 150,
     "metadata": {},
     "output_type": "execute_result"
    }
   ],
   "source": [
    "data2021['Stage'].unique()  # Get unique values of stage column again"
   ]
  },
  {
   "cell_type": "markdown",
   "metadata": {},
   "source": [
    "Ok, Let's put these values in a standard format."
   ]
  },
  {
   "cell_type": "code",
   "execution_count": 151,
   "metadata": {},
   "outputs": [],
   "source": [
    "# Function to replace or group the funding rounds\n",
    "\n",
    "\n",
    "\n",
    "def update_value(value):\n",
    "    \"\"\"\n",
    "    Update the given value based on predefined replacements specific to the 'Stage' column.\n",
    "\n",
    "    Args:\n",
    "        value (str): The value to be updated.\n",
    "\n",
    "    Returns:\n",
    "        str: The updated value.\n",
    "    \"\"\"\n",
    "    replacements = {\n",
    "        r'Pre series|Early seed|Pre-series A|Pre-series A1': 'Pre-series',\n",
    "        r'Seies A|Seed+|Pre-series B|Series A2': 'Series A',\n",
    "        r'PE': 'Private Equity',\n",
    "        r'Debt': 'Debt Financing',\n",
    "        r'Seed1': 'Seed',\n",
    "        r'None': 'Venture - Series Unknown',\n",
    "        r'Series A+|Series B3| Series B': 'Series B',\n",
    "        r'Series F2|Series F1|Series D1|Series D|Series G|Series H|Series I|Series E|Series F': 'Series C',\n",
    "    }\n",
    "\n",
    "    for pattern, replacement in replacements.items():\n",
    "        value = re.sub(pattern, replacement, str(value))\n",
    "\n",
    "    return value\n",
    "\n",
    "\n",
    "# Apply the function to the 'Stage' column of the DataFrame\n",
    "data2021['Stage'] = data2021['Stage'].apply(update_value)\n"
   ]
  },
  {
   "cell_type": "markdown",
   "metadata": {},
   "source": [
    "Great! Checking........"
   ]
  },
  {
   "cell_type": "code",
   "execution_count": 152,
   "metadata": {},
   "outputs": [
    {
     "data": {
      "text/plain": [
       "array(['Pre-series', 'Venture - Series Unknown', 'Series C', 'Series B',\n",
       "       'Secondary Market', 'Pre-Series B', 'Pre-seed', 'Debt Financing',\n",
       "       'Upsparks', 'Bridge', 'Series B+', 'Private Equity', 'Pre-series1',\n",
       "       'Venture-Series Unknown'], dtype=object)"
      ]
     },
     "execution_count": 152,
     "metadata": {},
     "output_type": "execute_result"
    }
   ],
   "source": [
    "# Check the unique values of the stage column\n",
    "\n",
    "data2021['Stage'].unique()"
   ]
  },
  {
   "cell_type": "markdown",
   "metadata": {},
   "source": [
    "Ouch!  'Series B+',  'Pre-Series B' and 'Pre-series1' want to be treated diferently! I see. Let's implore another method!"
   ]
  },
  {
   "cell_type": "code",
   "execution_count": 153,
   "metadata": {},
   "outputs": [],
   "source": [
    "# Replace values\n",
    "\n",
    "data2021['Stage'].replace('Series B+', 'Series B', inplace=True)\n",
    "data2021['Stage'].replace('Pre-series1', 'Pre-series', inplace=True)\n",
    "data2021['Stage'].replace('Pre-Series B', 'Series A', inplace=True)\n",
    "data2021['Stage'].replace(' Series B', 'Series B', inplace=True)\n"
   ]
  },
  {
   "cell_type": "markdown",
   "metadata": {},
   "source": [
    "Nice! Let's take a look at the unique values for stage column again!"
   ]
  },
  {
   "cell_type": "code",
   "execution_count": 154,
   "metadata": {},
   "outputs": [
    {
     "data": {
      "text/plain": [
       "array(['Pre-series', 'Venture - Series Unknown', 'Series C', 'Series B',\n",
       "       'Secondary Market', 'Series A', 'Pre-seed', 'Debt Financing',\n",
       "       'Upsparks', 'Bridge', 'Private Equity', 'Venture-Series Unknown'],\n",
       "      dtype=object)"
      ]
     },
     "execution_count": 154,
     "metadata": {},
     "output_type": "execute_result"
    }
   ],
   "source": [
    "# Get unique valaues of the stage column again\n",
    "\n",
    "data2021['Stage'].unique()"
   ]
  },
  {
   "cell_type": "markdown",
   "metadata": {},
   "source": [
    "#### Investor Column <br>\n",
    "\n",
    "Inspecting the unique instances of the 'Investor Column'"
   ]
  },
  {
   "cell_type": "code",
   "execution_count": 155,
   "metadata": {},
   "outputs": [
    {
     "data": {
      "text/plain": [
       "Inflection Point Ventures                23\n",
       "Venture Catalysts                        11\n",
       "Tiger Global                             11\n",
       "Elevation Capital                         7\n",
       "We Founder Circle                         6\n",
       "                                         ..\n",
       "CDC Group, Aavishkaar Venture Capital     1\n",
       "GSF, Pras Hanuma                          1\n",
       "Ajat Hukkoo, Piyush Chaplot               1\n",
       "Mumbai Angels, Amitesh Pandey             1\n",
       "3one4 Capital, Kalaari Capital            1\n",
       "Name: Investor, Length: 931, dtype: int64"
      ]
     },
     "execution_count": 155,
     "metadata": {},
     "output_type": "execute_result"
    }
   ],
   "source": [
    "data2021['Investor'].value_counts()"
   ]
  },
  {
   "cell_type": "markdown",
   "metadata": {},
   "source": [
    "NO anomaly spotted here, good! Let's now separate and keep first names......nooooo....wait! <br>\n",
    "\n",
    "..before that I just saw 'http://100x.vc/' and '2000000' as an investor. Let's check that out!"
   ]
  },
  {
   "cell_type": "code",
   "execution_count": 156,
   "metadata": {},
   "outputs": [
    {
     "data": {
      "text/html": [
       "<div>\n",
       "<style scoped>\n",
       "    .dataframe tbody tr th:only-of-type {\n",
       "        vertical-align: middle;\n",
       "    }\n",
       "\n",
       "    .dataframe tbody tr th {\n",
       "        vertical-align: top;\n",
       "    }\n",
       "\n",
       "    .dataframe thead th {\n",
       "        text-align: right;\n",
       "    }\n",
       "</style>\n",
       "<table border=\"1\" class=\"dataframe\">\n",
       "  <thead>\n",
       "    <tr style=\"text-align: right;\">\n",
       "      <th></th>\n",
       "      <th>Company_Brand</th>\n",
       "      <th>Founded</th>\n",
       "      <th>HeadQuarter</th>\n",
       "      <th>Sector</th>\n",
       "      <th>What_it_does</th>\n",
       "      <th>Founders</th>\n",
       "      <th>Investor</th>\n",
       "      <th>Amount</th>\n",
       "      <th>Stage</th>\n",
       "    </tr>\n",
       "  </thead>\n",
       "  <tbody>\n",
       "    <tr>\n",
       "      <th>59</th>\n",
       "      <td>Karnival</td>\n",
       "      <td>2015</td>\n",
       "      <td>Bangalore</td>\n",
       "      <td>SaaS startup</td>\n",
       "      <td>A SAAS platform for retailers and brands to cr...</td>\n",
       "      <td>Neeraj Tyagi</td>\n",
       "      <td>http://100x.vc/</td>\n",
       "      <td>2500000.0</td>\n",
       "      <td>Series B</td>\n",
       "    </tr>\n",
       "    <tr>\n",
       "      <th>883</th>\n",
       "      <td>EyeMyEye</td>\n",
       "      <td>2021</td>\n",
       "      <td>Gurugram</td>\n",
       "      <td>Eyewear</td>\n",
       "      <td>Shop the latest Eyeglasses, Sunglasses, Power ...</td>\n",
       "      <td>Ganesh Iyer</td>\n",
       "      <td>2000000</td>\n",
       "      <td>2000000.0</td>\n",
       "      <td>Pre-series</td>\n",
       "    </tr>\n",
       "  </tbody>\n",
       "</table>\n",
       "</div>"
      ],
      "text/plain": [
       "    Company_Brand  Founded HeadQuarter        Sector  \\\n",
       "59       Karnival     2015   Bangalore  SaaS startup   \n",
       "883      EyeMyEye     2021    Gurugram       Eyewear   \n",
       "\n",
       "                                          What_it_does      Founders  \\\n",
       "59   A SAAS platform for retailers and brands to cr...  Neeraj Tyagi   \n",
       "883  Shop the latest Eyeglasses, Sunglasses, Power ...   Ganesh Iyer   \n",
       "\n",
       "            Investor    Amount       Stage  \n",
       "59   http://100x.vc/ 2500000.0    Series B  \n",
       "883          2000000 2000000.0  Pre-series  "
      ]
     },
     "execution_count": 156,
     "metadata": {},
     "output_type": "execute_result"
    }
   ],
   "source": [
    "# Get the row/rows that have 'http://100x.vc/' as investor\n",
    "\n",
    "data2021[(data2021['Investor'] == 'http://100x.vc/')|(data2021['Investor'] == '2000000')]"
   ]
  },
  {
   "cell_type": "markdown",
   "metadata": {},
   "source": [
    "Alright, let's dig deeper by clicking the link.......Ohh, I got it! The Investor is a company named '100x.vc' <br>\n",
    "\n",
    "Making the change........"
   ]
  },
  {
   "cell_type": "code",
   "execution_count": 157,
   "metadata": {},
   "outputs": [],
   "source": [
    "# Slice that value and asign '100x.vc'\n",
    "\n",
    "data2021.at[59, 'Investor'] = '100x.vc'\n",
    "data2021.at[877, 'Investor'] = 'LetsVenture'"
   ]
  },
  {
   "cell_type": "code",
   "execution_count": 158,
   "metadata": {},
   "outputs": [
    {
     "data": {
      "text/html": [
       "<div>\n",
       "<style scoped>\n",
       "    .dataframe tbody tr th:only-of-type {\n",
       "        vertical-align: middle;\n",
       "    }\n",
       "\n",
       "    .dataframe tbody tr th {\n",
       "        vertical-align: top;\n",
       "    }\n",
       "\n",
       "    .dataframe thead th {\n",
       "        text-align: right;\n",
       "    }\n",
       "</style>\n",
       "<table border=\"1\" class=\"dataframe\">\n",
       "  <thead>\n",
       "    <tr style=\"text-align: right;\">\n",
       "      <th></th>\n",
       "      <th>Company_Brand</th>\n",
       "      <th>Founded</th>\n",
       "      <th>HeadQuarter</th>\n",
       "      <th>Sector</th>\n",
       "      <th>What_it_does</th>\n",
       "      <th>Founders</th>\n",
       "      <th>Investor</th>\n",
       "      <th>Amount</th>\n",
       "      <th>Stage</th>\n",
       "    </tr>\n",
       "  </thead>\n",
       "  <tbody>\n",
       "    <tr>\n",
       "      <th>59</th>\n",
       "      <td>Karnival</td>\n",
       "      <td>2015</td>\n",
       "      <td>Bangalore</td>\n",
       "      <td>SaaS startup</td>\n",
       "      <td>A SAAS platform for retailers and brands to cr...</td>\n",
       "      <td>Neeraj Tyagi</td>\n",
       "      <td>100x.vc</td>\n",
       "      <td>2500000.0</td>\n",
       "      <td>Series B</td>\n",
       "    </tr>\n",
       "    <tr>\n",
       "      <th>877</th>\n",
       "      <td>Vayana Network</td>\n",
       "      <td>2017</td>\n",
       "      <td>Pune</td>\n",
       "      <td>Financial Services</td>\n",
       "      <td>Vayana Network is an electronic network that c...</td>\n",
       "      <td>Ramaswamy Iyer</td>\n",
       "      <td>LetsVenture</td>\n",
       "      <td>30000000.0</td>\n",
       "      <td>Series C</td>\n",
       "    </tr>\n",
       "    <tr>\n",
       "      <th>947</th>\n",
       "      <td>Trica</td>\n",
       "      <td>2021</td>\n",
       "      <td>Mumbai</td>\n",
       "      <td>Equity Management</td>\n",
       "      <td>Powering private markets - A technology platfo...</td>\n",
       "      <td>Nimesh Kampani</td>\n",
       "      <td>LetsVenture</td>\n",
       "      <td>3000000.0</td>\n",
       "      <td>Series B</td>\n",
       "    </tr>\n",
       "  </tbody>\n",
       "</table>\n",
       "</div>"
      ],
      "text/plain": [
       "      Company_Brand  Founded HeadQuarter              Sector  \\\n",
       "59         Karnival     2015   Bangalore        SaaS startup   \n",
       "877  Vayana Network     2017        Pune  Financial Services   \n",
       "947           Trica     2021      Mumbai   Equity Management   \n",
       "\n",
       "                                          What_it_does        Founders  \\\n",
       "59   A SAAS platform for retailers and brands to cr...    Neeraj Tyagi   \n",
       "877  Vayana Network is an electronic network that c...  Ramaswamy Iyer   \n",
       "947  Powering private markets - A technology platfo...  Nimesh Kampani   \n",
       "\n",
       "        Investor     Amount     Stage  \n",
       "59       100x.vc  2500000.0  Series B  \n",
       "877  LetsVenture 30000000.0  Series C  \n",
       "947  LetsVenture  3000000.0  Series B  "
      ]
     },
     "execution_count": 158,
     "metadata": {},
     "output_type": "execute_result"
    }
   ],
   "source": [
    "# Checking..........\n",
    "data2021[(data2021['Investor'] == '100x.vc')|(data2021['Investor'] == 'LetsVenture')]"
   ]
  },
  {
   "cell_type": "markdown",
   "metadata": {},
   "source": [
    "Good! What next?............ Let's now clean by retaining only the first"
   ]
  },
  {
   "cell_type": "code",
   "execution_count": 159,
   "metadata": {},
   "outputs": [],
   "source": [
    "# Splitting the names separated by ',' and keeping the first\n",
    "\n",
    "data2021[\"Investor\"] = data2021[\"Investor\"].map(lambda x: str(x).split(',')[0])\n"
   ]
  },
  {
   "cell_type": "code",
   "execution_count": 160,
   "metadata": {},
   "outputs": [
    {
     "data": {
      "text/plain": [
       "None                         61\n",
       "Inflection Point Ventures    28\n",
       "Venture Catalysts            23\n",
       "Tiger Global                 19\n",
       "Titan Capital                16\n",
       "                             ..\n",
       "Octahedron Capital            1\n",
       "Amit Singhal                  1\n",
       "Satish Grampurohit            1\n",
       "Ecom Express                  1\n",
       "Winter Capital                1\n",
       "Name: Investor, Length: 669, dtype: int64"
      ]
     },
     "execution_count": 160,
     "metadata": {},
     "output_type": "execute_result"
    }
   ],
   "source": [
    "data2021['Investor'].value_counts()"
   ]
  },
  {
   "cell_type": "code",
   "execution_count": 161,
   "metadata": {},
   "outputs": [
    {
     "data": {
      "text/html": [
       "<div>\n",
       "<style scoped>\n",
       "    .dataframe tbody tr th:only-of-type {\n",
       "        vertical-align: middle;\n",
       "    }\n",
       "\n",
       "    .dataframe tbody tr th {\n",
       "        vertical-align: top;\n",
       "    }\n",
       "\n",
       "    .dataframe thead th {\n",
       "        text-align: right;\n",
       "    }\n",
       "</style>\n",
       "<table border=\"1\" class=\"dataframe\">\n",
       "  <thead>\n",
       "    <tr style=\"text-align: right;\">\n",
       "      <th></th>\n",
       "      <th>Company_Brand</th>\n",
       "      <th>Founded</th>\n",
       "      <th>HeadQuarter</th>\n",
       "      <th>Sector</th>\n",
       "      <th>What_it_does</th>\n",
       "      <th>Founders</th>\n",
       "      <th>Investor</th>\n",
       "      <th>Amount</th>\n",
       "      <th>Stage</th>\n",
       "    </tr>\n",
       "  </thead>\n",
       "  <tbody>\n",
       "    <tr>\n",
       "      <th>883</th>\n",
       "      <td>EyeMyEye</td>\n",
       "      <td>2021</td>\n",
       "      <td>Gurugram</td>\n",
       "      <td>Eyewear</td>\n",
       "      <td>Shop the latest Eyeglasses, Sunglasses, Power ...</td>\n",
       "      <td>Ganesh Iyer</td>\n",
       "      <td>2000000</td>\n",
       "      <td>2000000.0</td>\n",
       "      <td>Pre-series</td>\n",
       "    </tr>\n",
       "  </tbody>\n",
       "</table>\n",
       "</div>"
      ],
      "text/plain": [
       "    Company_Brand  Founded HeadQuarter   Sector  \\\n",
       "883      EyeMyEye     2021    Gurugram  Eyewear   \n",
       "\n",
       "                                          What_it_does     Founders Investor  \\\n",
       "883  Shop the latest Eyeglasses, Sunglasses, Power ...  Ganesh Iyer  2000000   \n",
       "\n",
       "       Amount       Stage  \n",
       "883 2000000.0  Pre-series  "
      ]
     },
     "execution_count": 161,
     "metadata": {},
     "output_type": "execute_result"
    }
   ],
   "source": [
    "# Get the investor named '2000000'ArithmeticError\n",
    "data2021[data2021['Investor']== '2000000']"
   ]
  },
  {
   "cell_type": "code",
   "execution_count": 162,
   "metadata": {},
   "outputs": [],
   "source": [
    "# Let's update the value\n",
    "\n",
    "data2021 = update_values(data2021, 883, column_values={'Investor': 'Nueva Capital'})"
   ]
  },
  {
   "cell_type": "markdown",
   "metadata": {},
   "source": [
    "Done!.............let's check further for missing values"
   ]
  },
  {
   "cell_type": "code",
   "execution_count": 163,
   "metadata": {},
   "outputs": [
    {
     "data": {
      "text/html": [
       "<div>\n",
       "<style scoped>\n",
       "    .dataframe tbody tr th:only-of-type {\n",
       "        vertical-align: middle;\n",
       "    }\n",
       "\n",
       "    .dataframe tbody tr th {\n",
       "        vertical-align: top;\n",
       "    }\n",
       "\n",
       "    .dataframe thead th {\n",
       "        text-align: right;\n",
       "    }\n",
       "</style>\n",
       "<table border=\"1\" class=\"dataframe\">\n",
       "  <thead>\n",
       "    <tr style=\"text-align: right;\">\n",
       "      <th></th>\n",
       "      <th>Company_Brand</th>\n",
       "      <th>Founded</th>\n",
       "      <th>HeadQuarter</th>\n",
       "      <th>Sector</th>\n",
       "      <th>What_it_does</th>\n",
       "      <th>Founders</th>\n",
       "      <th>Investor</th>\n",
       "      <th>Amount</th>\n",
       "      <th>Stage</th>\n",
       "    </tr>\n",
       "  </thead>\n",
       "  <tbody>\n",
       "    <tr>\n",
       "      <th>9</th>\n",
       "      <td>Taikee</td>\n",
       "      <td>2010</td>\n",
       "      <td>Mumbai</td>\n",
       "      <td>E-commerce</td>\n",
       "      <td>Taikee is the ISO-certified, B2B e-commerce pl...</td>\n",
       "      <td>Nidhi Ramachandran, Sachin Chhabra</td>\n",
       "      <td>None</td>\n",
       "      <td>1000000.0</td>\n",
       "      <td>Venture - Series Unknown</td>\n",
       "    </tr>\n",
       "    <tr>\n",
       "      <th>30</th>\n",
       "      <td>Jambox Games</td>\n",
       "      <td>2021</td>\n",
       "      <td>Bangalore</td>\n",
       "      <td>Gaming</td>\n",
       "      <td>A competitive game publishing platform to help...</td>\n",
       "      <td>Ravi Vyas</td>\n",
       "      <td>None</td>\n",
       "      <td>1100000.0</td>\n",
       "      <td>Series B</td>\n",
       "    </tr>\n",
       "    <tr>\n",
       "      <th>42</th>\n",
       "      <td>LearnVern</td>\n",
       "      <td>2016</td>\n",
       "      <td>Ahmadabad</td>\n",
       "      <td>EdTech</td>\n",
       "      <td>LearnVern.com is a training portal where anyon...</td>\n",
       "      <td>Niral Modi, Aditi Modi</td>\n",
       "      <td>None</td>\n",
       "      <td>1000000.0</td>\n",
       "      <td>Series B</td>\n",
       "    </tr>\n",
       "    <tr>\n",
       "      <th>45</th>\n",
       "      <td>moEVing</td>\n",
       "      <td>2021</td>\n",
       "      <td>Gurugram</td>\n",
       "      <td>Logistics</td>\n",
       "      <td>Delivering clean, cost-effective and efficient...</td>\n",
       "      <td>VIKASH MISHRA</td>\n",
       "      <td>None</td>\n",
       "      <td>1000000.0</td>\n",
       "      <td>Series B</td>\n",
       "    </tr>\n",
       "    <tr>\n",
       "      <th>46</th>\n",
       "      <td>WeWork India</td>\n",
       "      <td>2017</td>\n",
       "      <td>Bangalore</td>\n",
       "      <td>Hospitality</td>\n",
       "      <td>Transform buildings into beautiful, collaborat...</td>\n",
       "      <td>Karan Virwani</td>\n",
       "      <td>None</td>\n",
       "      <td>26000000.0</td>\n",
       "      <td>Series B</td>\n",
       "    </tr>\n",
       "    <tr>\n",
       "      <th>...</th>\n",
       "      <td>...</td>\n",
       "      <td>...</td>\n",
       "      <td>...</td>\n",
       "      <td>...</td>\n",
       "      <td>...</td>\n",
       "      <td>...</td>\n",
       "      <td>...</td>\n",
       "      <td>...</td>\n",
       "      <td>...</td>\n",
       "    </tr>\n",
       "    <tr>\n",
       "      <th>1061</th>\n",
       "      <td>EV Plugs</td>\n",
       "      <td>2021</td>\n",
       "      <td>Gurugram</td>\n",
       "      <td>Information Technology &amp; Services</td>\n",
       "      <td>EV charging station aggregator platform</td>\n",
       "      <td>Manish Narang, Kapil Narang, Ashwani Arora</td>\n",
       "      <td>None</td>\n",
       "      <td>150000.0</td>\n",
       "      <td>Venture - Series Unknown</td>\n",
       "    </tr>\n",
       "    <tr>\n",
       "      <th>1069</th>\n",
       "      <td>Nimble Growth Organics</td>\n",
       "      <td>2016</td>\n",
       "      <td>Bangalore</td>\n",
       "      <td>Farming</td>\n",
       "      <td>Nimble Growth Organics is the new age Agri sta...</td>\n",
       "      <td>Rahul Saria, Nagendra Kalkuli, Abhisek Bhagcha...</td>\n",
       "      <td>None</td>\n",
       "      <td>3500000.0</td>\n",
       "      <td>Series B</td>\n",
       "    </tr>\n",
       "    <tr>\n",
       "      <th>1154</th>\n",
       "      <td>moneyHOP</td>\n",
       "      <td>2018</td>\n",
       "      <td>London</td>\n",
       "      <td>Financial Services</td>\n",
       "      <td>moneyHOP is India’s first cross-border neo bank.</td>\n",
       "      <td>Mayank Goyal</td>\n",
       "      <td>None</td>\n",
       "      <td>1200000.0</td>\n",
       "      <td>Series B</td>\n",
       "    </tr>\n",
       "    <tr>\n",
       "      <th>1155</th>\n",
       "      <td>Codingal</td>\n",
       "      <td>2020</td>\n",
       "      <td>Bangalore</td>\n",
       "      <td>EdTech</td>\n",
       "      <td>Codingal is on a mission to inspire school kid...</td>\n",
       "      <td>Vivek Prakash, Satyam Baranwal</td>\n",
       "      <td>None</td>\n",
       "      <td>1200000.0</td>\n",
       "      <td>Series B</td>\n",
       "    </tr>\n",
       "    <tr>\n",
       "      <th>1158</th>\n",
       "      <td>REVOS</td>\n",
       "      <td>2017</td>\n",
       "      <td>Bangalore</td>\n",
       "      <td>Automotive</td>\n",
       "      <td>REVOS is a smart mobility platform that empowe...</td>\n",
       "      <td>Mohit Yadav, Jyotrian Jan Harichandran</td>\n",
       "      <td>None</td>\n",
       "      <td>4000000.0</td>\n",
       "      <td>Series B</td>\n",
       "    </tr>\n",
       "  </tbody>\n",
       "</table>\n",
       "<p>61 rows × 9 columns</p>\n",
       "</div>"
      ],
      "text/plain": [
       "               Company_Brand  Founded HeadQuarter  \\\n",
       "9                     Taikee     2010      Mumbai   \n",
       "30              Jambox Games     2021   Bangalore   \n",
       "42                 LearnVern     2016   Ahmadabad   \n",
       "45                   moEVing     2021    Gurugram   \n",
       "46              WeWork India     2017   Bangalore   \n",
       "...                      ...      ...         ...   \n",
       "1061                EV Plugs     2021    Gurugram   \n",
       "1069  Nimble Growth Organics     2016   Bangalore   \n",
       "1154                moneyHOP     2018      London   \n",
       "1155                Codingal     2020   Bangalore   \n",
       "1158                   REVOS     2017   Bangalore   \n",
       "\n",
       "                                 Sector  \\\n",
       "9                            E-commerce   \n",
       "30                               Gaming   \n",
       "42                               EdTech   \n",
       "45                            Logistics   \n",
       "46                          Hospitality   \n",
       "...                                 ...   \n",
       "1061  Information Technology & Services   \n",
       "1069                            Farming   \n",
       "1154                 Financial Services   \n",
       "1155                             EdTech   \n",
       "1158                         Automotive   \n",
       "\n",
       "                                           What_it_does  \\\n",
       "9     Taikee is the ISO-certified, B2B e-commerce pl...   \n",
       "30    A competitive game publishing platform to help...   \n",
       "42    LearnVern.com is a training portal where anyon...   \n",
       "45    Delivering clean, cost-effective and efficient...   \n",
       "46    Transform buildings into beautiful, collaborat...   \n",
       "...                                                 ...   \n",
       "1061            EV charging station aggregator platform   \n",
       "1069  Nimble Growth Organics is the new age Agri sta...   \n",
       "1154   moneyHOP is India’s first cross-border neo bank.   \n",
       "1155  Codingal is on a mission to inspire school kid...   \n",
       "1158  REVOS is a smart mobility platform that empowe...   \n",
       "\n",
       "                                               Founders Investor     Amount  \\\n",
       "9                    Nidhi Ramachandran, Sachin Chhabra     None  1000000.0   \n",
       "30                                            Ravi Vyas     None  1100000.0   \n",
       "42                               Niral Modi, Aditi Modi     None  1000000.0   \n",
       "45                                        VIKASH MISHRA     None  1000000.0   \n",
       "46                                        Karan Virwani     None 26000000.0   \n",
       "...                                                 ...      ...        ...   \n",
       "1061         Manish Narang, Kapil Narang, Ashwani Arora     None   150000.0   \n",
       "1069  Rahul Saria, Nagendra Kalkuli, Abhisek Bhagcha...     None  3500000.0   \n",
       "1154                                       Mayank Goyal     None  1200000.0   \n",
       "1155                     Vivek Prakash, Satyam Baranwal     None  1200000.0   \n",
       "1158             Mohit Yadav, Jyotrian Jan Harichandran     None  4000000.0   \n",
       "\n",
       "                         Stage  \n",
       "9     Venture - Series Unknown  \n",
       "30                    Series B  \n",
       "42                    Series B  \n",
       "45                    Series B  \n",
       "46                    Series B  \n",
       "...                        ...  \n",
       "1061  Venture - Series Unknown  \n",
       "1069                  Series B  \n",
       "1154                  Series B  \n",
       "1155                  Series B  \n",
       "1158                  Series B  \n",
       "\n",
       "[61 rows x 9 columns]"
      ]
     },
     "execution_count": 163,
     "metadata": {},
     "output_type": "execute_result"
    }
   ],
   "source": [
    "data2021[data2021['Investor']== 'None'] # Check rows that are 'None' at the 'Investor' column"
   ]
  },
  {
   "cell_type": "markdown",
   "metadata": {},
   "source": [
    "Update the values from 'None' to 'Unknown'"
   ]
  },
  {
   "cell_type": "code",
   "execution_count": 164,
   "metadata": {},
   "outputs": [],
   "source": [
    "# Change 'None' to 'Unknown'\n",
    "data2021.loc[data2021['Investor'] == 'None', 'Investor'] = 'Unknown'\n"
   ]
  },
  {
   "cell_type": "code",
   "execution_count": 165,
   "metadata": {},
   "outputs": [
    {
     "data": {
      "text/plain": [
       "Unknown                      64\n",
       "Inflection Point Ventures    28\n",
       "Venture Catalysts            23\n",
       "Tiger Global                 19\n",
       "Titan Capital                16\n",
       "                             ..\n",
       "Octahedron Capital            1\n",
       "Amit Singhal                  1\n",
       "Satish Grampurohit            1\n",
       "Ecom Express                  1\n",
       "Winter Capital                1\n",
       "Name: Investor, Length: 668, dtype: int64"
      ]
     },
     "execution_count": 165,
     "metadata": {},
     "output_type": "execute_result"
    }
   ],
   "source": [
    "# Check \n",
    "\n",
    "data2021.Investor.value_counts()"
   ]
  },
  {
   "cell_type": "code",
   "execution_count": 166,
   "metadata": {},
   "outputs": [
    {
     "data": {
      "text/plain": [
       "0"
      ]
     },
     "execution_count": 166,
     "metadata": {},
     "output_type": "execute_result"
    }
   ],
   "source": [
    "# Get the number of null values in the investor column\n",
    "data2021['Investor'].isnull().sum()"
   ]
  },
  {
   "cell_type": "code",
   "execution_count": 167,
   "metadata": {},
   "outputs": [
    {
     "data": {
      "text/plain": [
       "0        AI startup\n",
       "1            EdTech\n",
       "2            EdTech\n",
       "3    B2B E-commerce\n",
       "4           FinTech\n",
       "5     Home services\n",
       "6        HealthTech\n",
       "7        HealthTech\n",
       "8      Tech Startup\n",
       "9        E-commerce\n",
       "Name: Sector, dtype: object"
      ]
     },
     "execution_count": 167,
     "metadata": {},
     "output_type": "execute_result"
    }
   ],
   "source": [
    "data2021['Sector'].head(10)"
   ]
  },
  {
   "cell_type": "markdown",
   "metadata": {},
   "source": [
    "Dropping columns\n",
    "* The ```Founders``` and ```Company Description``` won't be needed in the analysis therefore they will be dropped."
   ]
  },
  {
   "cell_type": "code",
   "execution_count": 168,
   "metadata": {},
   "outputs": [
    {
     "data": {
      "text/html": [
       "<div>\n",
       "<style scoped>\n",
       "    .dataframe tbody tr th:only-of-type {\n",
       "        vertical-align: middle;\n",
       "    }\n",
       "\n",
       "    .dataframe tbody tr th {\n",
       "        vertical-align: top;\n",
       "    }\n",
       "\n",
       "    .dataframe thead th {\n",
       "        text-align: right;\n",
       "    }\n",
       "</style>\n",
       "<table border=\"1\" class=\"dataframe\">\n",
       "  <thead>\n",
       "    <tr style=\"text-align: right;\">\n",
       "      <th></th>\n",
       "      <th>Company_Brand</th>\n",
       "      <th>Founded</th>\n",
       "      <th>HeadQuarter</th>\n",
       "      <th>Sector</th>\n",
       "      <th>Investor</th>\n",
       "      <th>Amount</th>\n",
       "      <th>Stage</th>\n",
       "      <th>Year Funded</th>\n",
       "    </tr>\n",
       "  </thead>\n",
       "  <tbody>\n",
       "    <tr>\n",
       "      <th>0</th>\n",
       "      <td>Unbox Robotics</td>\n",
       "      <td>2019</td>\n",
       "      <td>Bangalore</td>\n",
       "      <td>AI startup</td>\n",
       "      <td>BEENEXT</td>\n",
       "      <td>1200000.0</td>\n",
       "      <td>Pre-series</td>\n",
       "      <td>2021</td>\n",
       "    </tr>\n",
       "    <tr>\n",
       "      <th>1</th>\n",
       "      <td>upGrad</td>\n",
       "      <td>2015</td>\n",
       "      <td>Mumbai</td>\n",
       "      <td>EdTech</td>\n",
       "      <td>Unilazer Ventures</td>\n",
       "      <td>120000000.0</td>\n",
       "      <td>Venture - Series Unknown</td>\n",
       "      <td>2021</td>\n",
       "    </tr>\n",
       "    <tr>\n",
       "      <th>2</th>\n",
       "      <td>Lead School</td>\n",
       "      <td>2012</td>\n",
       "      <td>Mumbai</td>\n",
       "      <td>EdTech</td>\n",
       "      <td>GSV Ventures</td>\n",
       "      <td>30000000.0</td>\n",
       "      <td>Series C</td>\n",
       "      <td>2021</td>\n",
       "    </tr>\n",
       "    <tr>\n",
       "      <th>3</th>\n",
       "      <td>Bizongo</td>\n",
       "      <td>2015</td>\n",
       "      <td>Mumbai</td>\n",
       "      <td>B2B E-commerce</td>\n",
       "      <td>CDC Group</td>\n",
       "      <td>51000000.0</td>\n",
       "      <td>Series C</td>\n",
       "      <td>2021</td>\n",
       "    </tr>\n",
       "    <tr>\n",
       "      <th>4</th>\n",
       "      <td>FypMoney</td>\n",
       "      <td>2021</td>\n",
       "      <td>Gurugram</td>\n",
       "      <td>FinTech</td>\n",
       "      <td>Liberatha Kallat</td>\n",
       "      <td>2000000.0</td>\n",
       "      <td>Series B</td>\n",
       "      <td>2021</td>\n",
       "    </tr>\n",
       "  </tbody>\n",
       "</table>\n",
       "</div>"
      ],
      "text/plain": [
       "    Company_Brand  Founded HeadQuarter          Sector           Investor  \\\n",
       "0  Unbox Robotics     2019   Bangalore      AI startup            BEENEXT   \n",
       "1          upGrad     2015      Mumbai          EdTech  Unilazer Ventures   \n",
       "2     Lead School     2012      Mumbai          EdTech       GSV Ventures   \n",
       "3         Bizongo     2015      Mumbai  B2B E-commerce          CDC Group   \n",
       "4        FypMoney     2021    Gurugram         FinTech   Liberatha Kallat   \n",
       "\n",
       "       Amount                     Stage  Year Funded  \n",
       "0   1200000.0                Pre-series         2021  \n",
       "1 120000000.0  Venture - Series Unknown         2021  \n",
       "2  30000000.0                  Series C         2021  \n",
       "3  51000000.0                  Series C         2021  \n",
       "4   2000000.0                  Series B         2021  "
      ]
     },
     "execution_count": 168,
     "metadata": {},
     "output_type": "execute_result"
    }
   ],
   "source": [
    "# Drop the 'Founders' and 'Company Description' column and introduce another column.....year_funded\n",
    "\n",
    "data2021.drop(['Founders','What_it_does'], axis=1, inplace=True)\n",
    "\n",
    "data2021['Year Funded'] = 2021\n",
    "data2021.head()"
   ]
  },
  {
   "cell_type": "code",
   "execution_count": 169,
   "metadata": {},
   "outputs": [
    {
     "data": {
      "text/plain": [
       "Company_Brand    0\n",
       "Founded          0\n",
       "HeadQuarter      0\n",
       "Sector           0\n",
       "Investor         0\n",
       "Amount           0\n",
       "Stage            0\n",
       "Year Funded      0\n",
       "dtype: int64"
      ]
     },
     "execution_count": 169,
     "metadata": {},
     "output_type": "execute_result"
    }
   ],
   "source": [
    "#Rechecking to ensure there are no missing values\n",
    "data2021.isnull().sum()"
   ]
  },
  {
   "cell_type": "markdown",
   "metadata": {},
   "source": [
    "#### Merging datasets\n",
    "**Renaming columns**"
   ]
  },
  {
   "cell_type": "code",
   "execution_count": 170,
   "metadata": {},
   "outputs": [
    {
     "name": "stdout",
     "output_type": "stream",
     "text": [
      "2018: Index(['Company Name', 'Industry', 'Round/Series', 'Amount', 'Location',\n",
      "       'Year Funded'],\n",
      "      dtype='object')\n",
      "\n",
      "        2019: Index(['Company/Brand', 'Founded', 'HeadQuarter', 'Sector', 'Investor',\n",
      "       'Amount($)', 'Stage', 'Year Funded'],\n",
      "      dtype='object')\n",
      "\n",
      "        2020: Index(['Company_Brand', 'Founded', 'HeadQuarter', 'Sector', 'Investor',\n",
      "       'Amount', 'Stage', 'Year Funded'],\n",
      "      dtype='object')\n",
      "\n",
      "        2021: Index(['Company_Brand', 'Founded', 'HeadQuarter', 'Sector', 'Investor',\n",
      "       'Amount', 'Stage', 'Year Funded'],\n",
      "      dtype='object')\n"
     ]
    }
   ],
   "source": [
    "#Print all the column names\n",
    "print(f'2018: {data2018.columns}\\n\\n\\\n",
    "        2019: {data_2019.columns}\\n\\n\\\n",
    "        2020: {data2020.columns}\\n\\n\\\n",
    "        2021: {data2021.columns}')"
   ]
  },
  {
   "cell_type": "code",
   "execution_count": 171,
   "metadata": {},
   "outputs": [],
   "source": [
    "#Renaming columns\n",
    "data2018.rename(columns={'Industry':'Sector','Round/Series':'Stage','Location':'HeadQuarter'},inplace=True)\n",
    "\n",
    "data_2019.rename(columns={'Company/Brand':'Company Name','Amount($)':'Amount'},inplace=True)\n",
    "\n",
    "data2020.rename(columns={'Company_Brand':'Company Name'},inplace=True)\n",
    "\n",
    "data2021.rename(columns={'Company_Brand':'Company Name'},inplace =True)"
   ]
  },
  {
   "cell_type": "code",
   "execution_count": 172,
   "metadata": {},
   "outputs": [
    {
     "name": "stdout",
     "output_type": "stream",
     "text": [
      "2018: Index(['Company Name', 'Sector', 'Stage', 'Amount', 'HeadQuarter',\n",
      "       'Year Funded'],\n",
      "      dtype='object')\n",
      "\n",
      "        2019: Index(['Company Name', 'Founded', 'HeadQuarter', 'Sector', 'Investor',\n",
      "       'Amount', 'Stage', 'Year Funded'],\n",
      "      dtype='object')\n",
      "\n",
      "        2020: Index(['Company Name', 'Founded', 'HeadQuarter', 'Sector', 'Investor',\n",
      "       'Amount', 'Stage', 'Year Funded'],\n",
      "      dtype='object')\n",
      "\n",
      "        2021: Index(['Company Name', 'Founded', 'HeadQuarter', 'Sector', 'Investor',\n",
      "       'Amount', 'Stage', 'Year Funded'],\n",
      "      dtype='object')\n"
     ]
    }
   ],
   "source": [
    "#Confirming company names\n",
    "print(f'2018: {data2018.columns}\\n\\n\\\n",
    "        2019: {data_2019.columns}\\n\\n\\\n",
    "        2020: {data2020.columns}\\n\\n\\\n",
    "        2021: {data2021.columns}')"
   ]
  },
  {
   "cell_type": "markdown",
   "metadata": {},
   "source": [
    "Since the dataset 2018 does not have the ```Investor``` column ,the column wil be equated to 'Unknown' in the 2018 dataset"
   ]
  },
  {
   "cell_type": "code",
   "execution_count": 173,
   "metadata": {},
   "outputs": [
    {
     "data": {
      "text/html": [
       "<div>\n",
       "<style scoped>\n",
       "    .dataframe tbody tr th:only-of-type {\n",
       "        vertical-align: middle;\n",
       "    }\n",
       "\n",
       "    .dataframe tbody tr th {\n",
       "        vertical-align: top;\n",
       "    }\n",
       "\n",
       "    .dataframe thead th {\n",
       "        text-align: right;\n",
       "    }\n",
       "</style>\n",
       "<table border=\"1\" class=\"dataframe\">\n",
       "  <thead>\n",
       "    <tr style=\"text-align: right;\">\n",
       "      <th></th>\n",
       "      <th>Company Name</th>\n",
       "      <th>Sector</th>\n",
       "      <th>Stage</th>\n",
       "      <th>Amount</th>\n",
       "      <th>HeadQuarter</th>\n",
       "      <th>Year Funded</th>\n",
       "      <th>Investor</th>\n",
       "    </tr>\n",
       "  </thead>\n",
       "  <tbody>\n",
       "    <tr>\n",
       "      <th>0</th>\n",
       "      <td>TheCollegeFever</td>\n",
       "      <td>Brand Marketing</td>\n",
       "      <td>Seed</td>\n",
       "      <td>250000.0</td>\n",
       "      <td>Bangalore</td>\n",
       "      <td>2018</td>\n",
       "      <td>Unknown</td>\n",
       "    </tr>\n",
       "    <tr>\n",
       "      <th>1</th>\n",
       "      <td>Happy Cow Dairy</td>\n",
       "      <td>Agriculture</td>\n",
       "      <td>Seed</td>\n",
       "      <td>5840000.0</td>\n",
       "      <td>Mumbai</td>\n",
       "      <td>2018</td>\n",
       "      <td>Unknown</td>\n",
       "    </tr>\n",
       "    <tr>\n",
       "      <th>2</th>\n",
       "      <td>MyLoanCare</td>\n",
       "      <td>Credit</td>\n",
       "      <td>Series A</td>\n",
       "      <td>9490000.0</td>\n",
       "      <td>Gurgaon</td>\n",
       "      <td>2018</td>\n",
       "      <td>Unknown</td>\n",
       "    </tr>\n",
       "    <tr>\n",
       "      <th>3</th>\n",
       "      <td>PayMe India</td>\n",
       "      <td>Financial Services</td>\n",
       "      <td>Angel</td>\n",
       "      <td>2000000.0</td>\n",
       "      <td>Noida</td>\n",
       "      <td>2018</td>\n",
       "      <td>Unknown</td>\n",
       "    </tr>\n",
       "    <tr>\n",
       "      <th>4</th>\n",
       "      <td>Eunimart</td>\n",
       "      <td>E-Commerce Platforms</td>\n",
       "      <td>Seed</td>\n",
       "      <td>3530000.0</td>\n",
       "      <td>Hyderabad</td>\n",
       "      <td>2018</td>\n",
       "      <td>Unknown</td>\n",
       "    </tr>\n",
       "  </tbody>\n",
       "</table>\n",
       "</div>"
      ],
      "text/plain": [
       "      Company Name                Sector     Stage    Amount HeadQuarter  \\\n",
       "0  TheCollegeFever       Brand Marketing      Seed  250000.0   Bangalore   \n",
       "1  Happy Cow Dairy           Agriculture      Seed 5840000.0      Mumbai   \n",
       "2       MyLoanCare                Credit  Series A 9490000.0     Gurgaon   \n",
       "3      PayMe India    Financial Services     Angel 2000000.0       Noida   \n",
       "4         Eunimart  E-Commerce Platforms      Seed 3530000.0   Hyderabad   \n",
       "\n",
       "   Year Funded Investor  \n",
       "0         2018  Unknown  \n",
       "1         2018  Unknown  \n",
       "2         2018  Unknown  \n",
       "3         2018  Unknown  \n",
       "4         2018  Unknown  "
      ]
     },
     "execution_count": 173,
     "metadata": {},
     "output_type": "execute_result"
    }
   ],
   "source": [
    "data2018['Investor'] = 'Unknown'\n",
    "data2018.head()"
   ]
  },
  {
   "cell_type": "code",
   "execution_count": 174,
   "metadata": {},
   "outputs": [
    {
     "data": {
      "text/html": [
       "<div>\n",
       "<style scoped>\n",
       "    .dataframe tbody tr th:only-of-type {\n",
       "        vertical-align: middle;\n",
       "    }\n",
       "\n",
       "    .dataframe tbody tr th {\n",
       "        vertical-align: top;\n",
       "    }\n",
       "\n",
       "    .dataframe thead th {\n",
       "        text-align: right;\n",
       "    }\n",
       "</style>\n",
       "<table border=\"1\" class=\"dataframe\">\n",
       "  <thead>\n",
       "    <tr style=\"text-align: right;\">\n",
       "      <th></th>\n",
       "      <th>Company Name</th>\n",
       "      <th>Sector</th>\n",
       "      <th>Stage</th>\n",
       "      <th>Amount</th>\n",
       "      <th>HeadQuarter</th>\n",
       "      <th>Year Funded</th>\n",
       "      <th>Investor</th>\n",
       "      <th>Founded</th>\n",
       "    </tr>\n",
       "  </thead>\n",
       "  <tbody>\n",
       "    <tr>\n",
       "      <th>767</th>\n",
       "      <td>FrontRow</td>\n",
       "      <td>EdTech</td>\n",
       "      <td>Seed</td>\n",
       "      <td>3200000.0</td>\n",
       "      <td>Bangalore</td>\n",
       "      <td>2020</td>\n",
       "      <td>Lightspeed, Elevation, Deepika Padukone</td>\n",
       "      <td>2015.0</td>\n",
       "    </tr>\n",
       "    <tr>\n",
       "      <th>1060</th>\n",
       "      <td>Sunday</td>\n",
       "      <td>FinTech</td>\n",
       "      <td>Pre-series B</td>\n",
       "      <td>9000000.0</td>\n",
       "      <td>Outside India</td>\n",
       "      <td>2020</td>\n",
       "      <td>SCB 10X, LINE Ventures</td>\n",
       "      <td>2017.0</td>\n",
       "    </tr>\n",
       "    <tr>\n",
       "      <th>1147</th>\n",
       "      <td>VilCart</td>\n",
       "      <td>Ecommerce</td>\n",
       "      <td>Bridge</td>\n",
       "      <td>3000000.0</td>\n",
       "      <td>Bangalore</td>\n",
       "      <td>2020</td>\n",
       "      <td>N S Parthasarathy, Dilipkumar Khandelwal, Anan...</td>\n",
       "      <td>2018.0</td>\n",
       "    </tr>\n",
       "    <tr>\n",
       "      <th>1142</th>\n",
       "      <td>Chingari</td>\n",
       "      <td>Media</td>\n",
       "      <td>Seed</td>\n",
       "      <td>1000000.0</td>\n",
       "      <td>Bangalore</td>\n",
       "      <td>2020</td>\n",
       "      <td>LogX Ventures, AngelList’s Utsav Somani, NowFl...</td>\n",
       "      <td>2015.0</td>\n",
       "    </tr>\n",
       "    <tr>\n",
       "      <th>1701</th>\n",
       "      <td>moEVing</td>\n",
       "      <td>Logistics</td>\n",
       "      <td>Series B</td>\n",
       "      <td>1000000.0</td>\n",
       "      <td>Gurugram</td>\n",
       "      <td>2021</td>\n",
       "      <td>Unknown</td>\n",
       "      <td>2021.0</td>\n",
       "    </tr>\n",
       "    <tr>\n",
       "      <th>133</th>\n",
       "      <td>Pentation Analytics</td>\n",
       "      <td>Information Services</td>\n",
       "      <td>Seed</td>\n",
       "      <td>3530000.0</td>\n",
       "      <td>Mumbai</td>\n",
       "      <td>2018</td>\n",
       "      <td>Unknown</td>\n",
       "      <td>NaN</td>\n",
       "    </tr>\n",
       "    <tr>\n",
       "      <th>405</th>\n",
       "      <td>Traveo Soft Pvt. Ltd.</td>\n",
       "      <td>Mobile</td>\n",
       "      <td>Undisclosed</td>\n",
       "      <td>175200.0</td>\n",
       "      <td>Bangalore</td>\n",
       "      <td>2018</td>\n",
       "      <td>Unknown</td>\n",
       "      <td>NaN</td>\n",
       "    </tr>\n",
       "    <tr>\n",
       "      <th>1788</th>\n",
       "      <td>Smart Express</td>\n",
       "      <td>Logistics</td>\n",
       "      <td>Series B</td>\n",
       "      <td>10000000.0</td>\n",
       "      <td>Mumbai</td>\n",
       "      <td>2021</td>\n",
       "      <td>IIFL India Private Equity Fund</td>\n",
       "      <td>2020.0</td>\n",
       "    </tr>\n",
       "    <tr>\n",
       "      <th>2234</th>\n",
       "      <td>Breathe Well-being</td>\n",
       "      <td>HealthCare</td>\n",
       "      <td>Pre-series</td>\n",
       "      <td>1000000.0</td>\n",
       "      <td>New Delhi</td>\n",
       "      <td>2021</td>\n",
       "      <td>Stanford Angels and Entrepreneurs India</td>\n",
       "      <td>2015.0</td>\n",
       "    </tr>\n",
       "    <tr>\n",
       "      <th>980</th>\n",
       "      <td>Sunstone Eduversity</td>\n",
       "      <td>EdTech</td>\n",
       "      <td>Series A</td>\n",
       "      <td>3000000.0</td>\n",
       "      <td>Gurugram</td>\n",
       "      <td>2020</td>\n",
       "      <td>Prime Venture Partners</td>\n",
       "      <td>2014.0</td>\n",
       "    </tr>\n",
       "    <tr>\n",
       "      <th>1928</th>\n",
       "      <td>Perfora</td>\n",
       "      <td>Consumer Goods</td>\n",
       "      <td>Pre-seed</td>\n",
       "      <td>260000.0</td>\n",
       "      <td>Gurugram</td>\n",
       "      <td>2021</td>\n",
       "      <td>Sauce.vc</td>\n",
       "      <td>2021.0</td>\n",
       "    </tr>\n",
       "    <tr>\n",
       "      <th>1823</th>\n",
       "      <td>Log 9 Materials</td>\n",
       "      <td>Deeptech</td>\n",
       "      <td>Series B</td>\n",
       "      <td>8500000.0</td>\n",
       "      <td>Bangalore</td>\n",
       "      <td>2021</td>\n",
       "      <td>Amara Raja Batteries</td>\n",
       "      <td>2014.0</td>\n",
       "    </tr>\n",
       "    <tr>\n",
       "      <th>1753</th>\n",
       "      <td>Kirana247</td>\n",
       "      <td>Logistics &amp; Supply Chain</td>\n",
       "      <td>Venture - Series Unknown</td>\n",
       "      <td>1000000.0</td>\n",
       "      <td>New Delhi</td>\n",
       "      <td>2021</td>\n",
       "      <td>Unknown</td>\n",
       "      <td>2018.0</td>\n",
       "    </tr>\n",
       "    <tr>\n",
       "      <th>2549</th>\n",
       "      <td>GoKwik</td>\n",
       "      <td>Information Technology &amp; Services</td>\n",
       "      <td>Series B</td>\n",
       "      <td>15000000.0</td>\n",
       "      <td>New Delhi</td>\n",
       "      <td>2021</td>\n",
       "      <td>Sequoia Capital India</td>\n",
       "      <td>2020.0</td>\n",
       "    </tr>\n",
       "    <tr>\n",
       "      <th>2298</th>\n",
       "      <td>Skillmatics</td>\n",
       "      <td>EdTech</td>\n",
       "      <td>Series B</td>\n",
       "      <td>6000000.0</td>\n",
       "      <td>Mumbai</td>\n",
       "      <td>2021</td>\n",
       "      <td>Sequoia Capital India</td>\n",
       "      <td>2016.0</td>\n",
       "    </tr>\n",
       "    <tr>\n",
       "      <th>2587</th>\n",
       "      <td>GramCover</td>\n",
       "      <td>Insurance</td>\n",
       "      <td>Series B</td>\n",
       "      <td>7000000.0</td>\n",
       "      <td>Noida</td>\n",
       "      <td>2021</td>\n",
       "      <td>Siana Capital</td>\n",
       "      <td>2016.0</td>\n",
       "    </tr>\n",
       "    <tr>\n",
       "      <th>1694</th>\n",
       "      <td>boAt</td>\n",
       "      <td>Electronics</td>\n",
       "      <td>Venture - Series Unknown</td>\n",
       "      <td>6000000.0</td>\n",
       "      <td>New Delhi</td>\n",
       "      <td>2021</td>\n",
       "      <td>Qualcomm Ventures</td>\n",
       "      <td>2016.0</td>\n",
       "    </tr>\n",
       "    <tr>\n",
       "      <th>2560</th>\n",
       "      <td>Mindhouse</td>\n",
       "      <td>Health, Wellness &amp; Fitness</td>\n",
       "      <td>Series B</td>\n",
       "      <td>6000000.0</td>\n",
       "      <td>Gurugram</td>\n",
       "      <td>2021</td>\n",
       "      <td>Binny Bansal</td>\n",
       "      <td>2019.0</td>\n",
       "    </tr>\n",
       "    <tr>\n",
       "      <th>403</th>\n",
       "      <td>BIGPHI TECHNOLOGIES PVT. LTD.</td>\n",
       "      <td>Fashion</td>\n",
       "      <td>Angel</td>\n",
       "      <td>900000.0</td>\n",
       "      <td>Bangalore</td>\n",
       "      <td>2018</td>\n",
       "      <td>Unknown</td>\n",
       "      <td>NaN</td>\n",
       "    </tr>\n",
       "    <tr>\n",
       "      <th>1135</th>\n",
       "      <td>DrinkPrime</td>\n",
       "      <td>Appliance</td>\n",
       "      <td>Pre-series A</td>\n",
       "      <td>2879000.0</td>\n",
       "      <td>Bangalore</td>\n",
       "      <td>2020</td>\n",
       "      <td>Sequoia Surge</td>\n",
       "      <td>2015.0</td>\n",
       "    </tr>\n",
       "  </tbody>\n",
       "</table>\n",
       "</div>"
      ],
      "text/plain": [
       "                       Company Name                             Sector  \\\n",
       "767                        FrontRow                             EdTech   \n",
       "1060                         Sunday                            FinTech   \n",
       "1147                        VilCart                          Ecommerce   \n",
       "1142                       Chingari                              Media   \n",
       "1701                        moEVing                          Logistics   \n",
       "133             Pentation Analytics               Information Services   \n",
       "405           Traveo Soft Pvt. Ltd.                             Mobile   \n",
       "1788                  Smart Express                          Logistics   \n",
       "2234             Breathe Well-being                         HealthCare   \n",
       "980             Sunstone Eduversity                             EdTech   \n",
       "1928                        Perfora                     Consumer Goods   \n",
       "1823                Log 9 Materials                           Deeptech   \n",
       "1753                      Kirana247           Logistics & Supply Chain   \n",
       "2549                         GoKwik  Information Technology & Services   \n",
       "2298                    Skillmatics                             EdTech   \n",
       "2587                      GramCover                          Insurance   \n",
       "1694                           boAt                        Electronics   \n",
       "2560                      Mindhouse         Health, Wellness & Fitness   \n",
       "403   BIGPHI TECHNOLOGIES PVT. LTD.                            Fashion   \n",
       "1135                     DrinkPrime                          Appliance   \n",
       "\n",
       "                         Stage     Amount    HeadQuarter  Year Funded  \\\n",
       "767                       Seed  3200000.0      Bangalore         2020   \n",
       "1060              Pre-series B  9000000.0  Outside India         2020   \n",
       "1147                    Bridge  3000000.0      Bangalore         2020   \n",
       "1142                      Seed  1000000.0      Bangalore         2020   \n",
       "1701                  Series B  1000000.0       Gurugram         2021   \n",
       "133                       Seed  3530000.0         Mumbai         2018   \n",
       "405                Undisclosed   175200.0      Bangalore         2018   \n",
       "1788                  Series B 10000000.0         Mumbai         2021   \n",
       "2234                Pre-series  1000000.0      New Delhi         2021   \n",
       "980                   Series A  3000000.0       Gurugram         2020   \n",
       "1928                  Pre-seed   260000.0       Gurugram         2021   \n",
       "1823                  Series B  8500000.0      Bangalore         2021   \n",
       "1753  Venture - Series Unknown  1000000.0      New Delhi         2021   \n",
       "2549                  Series B 15000000.0      New Delhi         2021   \n",
       "2298                  Series B  6000000.0         Mumbai         2021   \n",
       "2587                  Series B  7000000.0          Noida         2021   \n",
       "1694  Venture - Series Unknown  6000000.0      New Delhi         2021   \n",
       "2560                  Series B  6000000.0       Gurugram         2021   \n",
       "403                      Angel   900000.0      Bangalore         2018   \n",
       "1135              Pre-series A  2879000.0      Bangalore         2020   \n",
       "\n",
       "                                               Investor  Founded  \n",
       "767             Lightspeed, Elevation, Deepika Padukone   2015.0  \n",
       "1060                             SCB 10X, LINE Ventures   2017.0  \n",
       "1147  N S Parthasarathy, Dilipkumar Khandelwal, Anan...   2018.0  \n",
       "1142  LogX Ventures, AngelList’s Utsav Somani, NowFl...   2015.0  \n",
       "1701                                            Unknown   2021.0  \n",
       "133                                             Unknown      NaN  \n",
       "405                                             Unknown      NaN  \n",
       "1788                     IIFL India Private Equity Fund   2020.0  \n",
       "2234            Stanford Angels and Entrepreneurs India   2015.0  \n",
       "980                              Prime Venture Partners   2014.0  \n",
       "1928                                           Sauce.vc   2021.0  \n",
       "1823                               Amara Raja Batteries   2014.0  \n",
       "1753                                            Unknown   2018.0  \n",
       "2549                              Sequoia Capital India   2020.0  \n",
       "2298                              Sequoia Capital India   2016.0  \n",
       "2587                                      Siana Capital   2016.0  \n",
       "1694                                  Qualcomm Ventures   2016.0  \n",
       "2560                                       Binny Bansal   2019.0  \n",
       "403                                             Unknown      NaN  \n",
       "1135                                      Sequoia Surge   2015.0  "
      ]
     },
     "execution_count": 174,
     "metadata": {},
     "output_type": "execute_result"
    }
   ],
   "source": [
    "#Concating the datasets\n",
    "df = pd.concat([data2018, data_2019, data2020, data2021], ignore_index=True)\n",
    "df.sample(20)"
   ]
  },
  {
   "cell_type": "code",
   "execution_count": 175,
   "metadata": {},
   "outputs": [],
   "source": [
    "#Saving the Dataframe as an excel sheet\n",
    "df.to_excel('complete_data.xlsx', sheet_name='Sheet1',index=False)"
   ]
  },
  {
   "cell_type": "code",
   "execution_count": 176,
   "metadata": {},
   "outputs": [
    {
     "name": "stdout",
     "output_type": "stream",
     "text": [
      "(2846, 8) \n",
      "\n",
      "<class 'pandas.core.frame.DataFrame'>\n",
      "RangeIndex: 2846 entries, 0 to 2845\n",
      "Data columns (total 8 columns):\n",
      " #   Column        Non-Null Count  Dtype  \n",
      "---  ------        --------------  -----  \n",
      " 0   Company Name  2846 non-null   object \n",
      " 1   Sector        2846 non-null   object \n",
      " 2   Stage         2846 non-null   object \n",
      " 3   Amount        2846 non-null   float64\n",
      " 4   HeadQuarter   2846 non-null   object \n",
      " 5   Year Funded   2846 non-null   int64  \n",
      " 6   Investor      2846 non-null   object \n",
      " 7   Founded       2321 non-null   float64\n",
      "dtypes: float64(2), int64(1), object(5)\n",
      "memory usage: 178.0+ KB\n",
      "None\n"
     ]
    }
   ],
   "source": [
    "#Preview the data\n",
    "print(df.shape,\"\\n\")\n",
    "print(df.info())"
   ]
  },
  {
   "cell_type": "markdown",
   "metadata": {},
   "source": [
    "From the summary above:\n",
    "* Only the ```Founded``` column has missing values.\n",
    "* ```Amount```,```Year Funded``` and ```Founded``` columns are numerical data types while the rest are string.\n"
   ]
  },
  {
   "cell_type": "markdown",
   "metadata": {},
   "source": [
    "#### Dealing with duplicates"
   ]
  },
  {
   "cell_type": "code",
   "execution_count": 177,
   "metadata": {},
   "outputs": [
    {
     "data": {
      "text/plain": [
       "False    2843\n",
       "True        3\n",
       "dtype: int64"
      ]
     },
     "execution_count": 177,
     "metadata": {},
     "output_type": "execute_result"
    }
   ],
   "source": [
    "df.duplicated().value_counts()"
   ]
  },
  {
   "cell_type": "markdown",
   "metadata": {},
   "source": [
    "Our combined dataset contains 3 duplicates."
   ]
  },
  {
   "cell_type": "code",
   "execution_count": 178,
   "metadata": {},
   "outputs": [
    {
     "data": {
      "text/html": [
       "<div>\n",
       "<style scoped>\n",
       "    .dataframe tbody tr th:only-of-type {\n",
       "        vertical-align: middle;\n",
       "    }\n",
       "\n",
       "    .dataframe tbody tr th {\n",
       "        vertical-align: top;\n",
       "    }\n",
       "\n",
       "    .dataframe thead th {\n",
       "        text-align: right;\n",
       "    }\n",
       "</style>\n",
       "<table border=\"1\" class=\"dataframe\">\n",
       "  <thead>\n",
       "    <tr style=\"text-align: right;\">\n",
       "      <th></th>\n",
       "      <th>Company Name</th>\n",
       "      <th>Sector</th>\n",
       "      <th>Stage</th>\n",
       "      <th>Amount</th>\n",
       "      <th>HeadQuarter</th>\n",
       "      <th>Year Funded</th>\n",
       "      <th>Investor</th>\n",
       "      <th>Founded</th>\n",
       "    </tr>\n",
       "  </thead>\n",
       "  <tbody>\n",
       "    <tr>\n",
       "      <th>1503</th>\n",
       "      <td>Yolo</td>\n",
       "      <td>Transport</td>\n",
       "      <td>Seed</td>\n",
       "      <td>600000.0</td>\n",
       "      <td>Gurugram</td>\n",
       "      <td>2020</td>\n",
       "      <td>Undisclosed</td>\n",
       "      <td>2019.0</td>\n",
       "    </tr>\n",
       "    <tr>\n",
       "      <th>1565</th>\n",
       "      <td>Yolo</td>\n",
       "      <td>Transport</td>\n",
       "      <td>Seed</td>\n",
       "      <td>600000.0</td>\n",
       "      <td>Gurugram</td>\n",
       "      <td>2020</td>\n",
       "      <td>Undisclosed</td>\n",
       "      <td>2019.0</td>\n",
       "    </tr>\n",
       "    <tr>\n",
       "      <th>1988</th>\n",
       "      <td>Siply</td>\n",
       "      <td>FinTech</td>\n",
       "      <td>Series B</td>\n",
       "      <td>1000000.0</td>\n",
       "      <td>Bangalore</td>\n",
       "      <td>2021</td>\n",
       "      <td>Inflection Point Ventures</td>\n",
       "      <td>2020.0</td>\n",
       "    </tr>\n",
       "    <tr>\n",
       "      <th>2053</th>\n",
       "      <td>Siply</td>\n",
       "      <td>FinTech</td>\n",
       "      <td>Series B</td>\n",
       "      <td>1000000.0</td>\n",
       "      <td>Bangalore</td>\n",
       "      <td>2021</td>\n",
       "      <td>Inflection Point Ventures</td>\n",
       "      <td>2020.0</td>\n",
       "    </tr>\n",
       "    <tr>\n",
       "      <th>2610</th>\n",
       "      <td>Ola Electric</td>\n",
       "      <td>Automotive</td>\n",
       "      <td>Venture - Series Unknown</td>\n",
       "      <td>200000000.0</td>\n",
       "      <td>Bangalore</td>\n",
       "      <td>2021</td>\n",
       "      <td>Falcon Edge</td>\n",
       "      <td>2017.0</td>\n",
       "    </tr>\n",
       "    <tr>\n",
       "      <th>2713</th>\n",
       "      <td>Ola Electric</td>\n",
       "      <td>Automotive</td>\n",
       "      <td>Venture - Series Unknown</td>\n",
       "      <td>200000000.0</td>\n",
       "      <td>Bangalore</td>\n",
       "      <td>2021</td>\n",
       "      <td>Falcon Edge</td>\n",
       "      <td>2017.0</td>\n",
       "    </tr>\n",
       "  </tbody>\n",
       "</table>\n",
       "</div>"
      ],
      "text/plain": [
       "      Company Name      Sector                     Stage      Amount  \\\n",
       "1503          Yolo   Transport                      Seed    600000.0   \n",
       "1565          Yolo   Transport                      Seed    600000.0   \n",
       "1988         Siply     FinTech                  Series B   1000000.0   \n",
       "2053         Siply     FinTech                  Series B   1000000.0   \n",
       "2610  Ola Electric  Automotive  Venture - Series Unknown 200000000.0   \n",
       "2713  Ola Electric  Automotive  Venture - Series Unknown 200000000.0   \n",
       "\n",
       "     HeadQuarter  Year Funded                   Investor  Founded  \n",
       "1503    Gurugram         2020                Undisclosed   2019.0  \n",
       "1565    Gurugram         2020                Undisclosed   2019.0  \n",
       "1988   Bangalore         2021  Inflection Point Ventures   2020.0  \n",
       "2053   Bangalore         2021  Inflection Point Ventures   2020.0  \n",
       "2610   Bangalore         2021                Falcon Edge   2017.0  \n",
       "2713   Bangalore         2021                Falcon Edge   2017.0  "
      ]
     },
     "execution_count": 178,
     "metadata": {},
     "output_type": "execute_result"
    }
   ],
   "source": [
    "#print out all the duplicates next to each other\n",
    "df[df.duplicated(keep=False)]"
   ]
  },
  {
   "cell_type": "code",
   "execution_count": 179,
   "metadata": {},
   "outputs": [],
   "source": [
    "#dropping all duplicates\n",
    "df=df.drop_duplicates()"
   ]
  },
  {
   "cell_type": "code",
   "execution_count": 180,
   "metadata": {},
   "outputs": [
    {
     "data": {
      "text/plain": [
       "False    2843\n",
       "dtype: int64"
      ]
     },
     "execution_count": 180,
     "metadata": {},
     "output_type": "execute_result"
    }
   ],
   "source": [
    "#RECHECK IF THERE ANY DUPLICATES LEFT\n",
    "df.duplicated().value_counts()"
   ]
  },
  {
   "cell_type": "markdown",
   "metadata": {},
   "source": [
    "#### Data cleaning\n",
    "\n",
    "A closer inspection of all the columns shows that there are misplaced values in the ```Sector``` and ```Stage``` column ."
   ]
  },
  {
   "cell_type": "code",
   "execution_count": 181,
   "metadata": {},
   "outputs": [
    {
     "data": {
      "text/html": [
       "<div>\n",
       "<style scoped>\n",
       "    .dataframe tbody tr th:only-of-type {\n",
       "        vertical-align: middle;\n",
       "    }\n",
       "\n",
       "    .dataframe tbody tr th {\n",
       "        vertical-align: top;\n",
       "    }\n",
       "\n",
       "    .dataframe thead th {\n",
       "        text-align: right;\n",
       "    }\n",
       "</style>\n",
       "<table border=\"1\" class=\"dataframe\">\n",
       "  <thead>\n",
       "    <tr style=\"text-align: right;\">\n",
       "      <th></th>\n",
       "      <th>Company Name</th>\n",
       "      <th>Sector</th>\n",
       "      <th>Stage</th>\n",
       "      <th>Amount</th>\n",
       "      <th>HeadQuarter</th>\n",
       "      <th>Year Funded</th>\n",
       "      <th>Investor</th>\n",
       "      <th>Founded</th>\n",
       "    </tr>\n",
       "  </thead>\n",
       "  <tbody>\n",
       "    <tr>\n",
       "      <th>178</th>\n",
       "      <td>BuyForexOnline</td>\n",
       "      <td>Travel</td>\n",
       "      <td>https://docs.google.com/spreadsheets/d/1x9ziNe...</td>\n",
       "      <td>2000000.0</td>\n",
       "      <td>Bangalore</td>\n",
       "      <td>2018</td>\n",
       "      <td>Unknown</td>\n",
       "      <td>NaN</td>\n",
       "    </tr>\n",
       "    <tr>\n",
       "      <th>1893</th>\n",
       "      <td>Fullife Healthcare</td>\n",
       "      <td>Primary Business is Development and Manufactur...</td>\n",
       "      <td>Series C</td>\n",
       "      <td>22000000.0</td>\n",
       "      <td>Pharmaceuticals\\t#REF!</td>\n",
       "      <td>2021</td>\n",
       "      <td>Unknown</td>\n",
       "      <td>2009.0</td>\n",
       "    </tr>\n",
       "    <tr>\n",
       "      <th>1894</th>\n",
       "      <td>MoEVing</td>\n",
       "      <td>MoEVing is India's only Electric Mobility focu...</td>\n",
       "      <td>Series B</td>\n",
       "      <td>5000000.0</td>\n",
       "      <td>Gurugram</td>\n",
       "      <td>2021</td>\n",
       "      <td>Unknown</td>\n",
       "      <td>2021.0</td>\n",
       "    </tr>\n",
       "    <tr>\n",
       "      <th>2737</th>\n",
       "      <td>Sochcast</td>\n",
       "      <td>Sochcast is an Audio experiences company that ...</td>\n",
       "      <td>Venture - Series Unknown</td>\n",
       "      <td>3500000.0</td>\n",
       "      <td>Online Media\\t#REF!</td>\n",
       "      <td>2021</td>\n",
       "      <td>$Undisclosed</td>\n",
       "      <td>2020.0</td>\n",
       "    </tr>\n",
       "  </tbody>\n",
       "</table>\n",
       "</div>"
      ],
      "text/plain": [
       "            Company Name                                             Sector  \\\n",
       "178       BuyForexOnline                                             Travel   \n",
       "1893  Fullife Healthcare  Primary Business is Development and Manufactur...   \n",
       "1894             MoEVing  MoEVing is India's only Electric Mobility focu...   \n",
       "2737            Sochcast  Sochcast is an Audio experiences company that ...   \n",
       "\n",
       "                                                  Stage     Amount  \\\n",
       "178   https://docs.google.com/spreadsheets/d/1x9ziNe...  2000000.0   \n",
       "1893                                           Series C 22000000.0   \n",
       "1894                                           Series B  5000000.0   \n",
       "2737                           Venture - Series Unknown  3500000.0   \n",
       "\n",
       "                 HeadQuarter  Year Funded      Investor  Founded  \n",
       "178                Bangalore         2018       Unknown      NaN  \n",
       "1893  Pharmaceuticals\\t#REF!         2021       Unknown   2009.0  \n",
       "1894                Gurugram         2021       Unknown   2021.0  \n",
       "2737     Online Media\\t#REF!         2021  $Undisclosed   2020.0  "
      ]
     },
     "execution_count": 181,
     "metadata": {},
     "output_type": "execute_result"
    }
   ],
   "source": [
    "#Viewing misplaced values\n",
    "df[(df[\"Sector\"] == \"Sochcast is an Audio experiences company that give the listener and creators an Immersive Audio experience\") | \n",
    "(df[\"Sector\"] == \"MoEVing is India's only Electric Mobility focused Technology Platform with a vision to accelerate EV adoption in India.\") | \n",
    "(df[\"Stage\"] == \"https://docs.google.com/spreadsheets/d/1x9ziNeaz6auNChIHnMI8U6kS7knTr3byy_YBGfQaoUA/edit#gid=1861303593\") |\n",
    "(df[\"Sector\"] == \"Primary Business is Development and Manufacturing of Novel Healthcare Products in Effervescent forms using imported propriety ingredients.\")]"
   ]
  },
  {
   "cell_type": "markdown",
   "metadata": {},
   "source": [
    "Given that that also the ```HeadQuarter``` is misplaced in the same rows,we shall do away with the rows."
   ]
  },
  {
   "cell_type": "code",
   "execution_count": 182,
   "metadata": {},
   "outputs": [],
   "source": [
    "#Dropping misplaced values\n",
    "df= df.drop(labels=[178,1893,1894,2737], axis=0)"
   ]
  },
  {
   "cell_type": "markdown",
   "metadata": {},
   "source": [
    "**Cleaning Sector column**<br>\n",
    "The column was cleaned in reference to this [article](https://support.crunchbase.com/hc/en-us/articles/360043146954-What-Industries-are-included-in-Crunchbase-)"
   ]
  },
  {
   "cell_type": "code",
   "execution_count": 183,
   "metadata": {},
   "outputs": [],
   "source": [
    "df.replace({\"Sector\": {\"Fintech\":\"FinTech\",\n",
    "                        \"Agritech\" :\"AgriTech\",\n",
    "                        \"Computer software\" :\"Software\",\n",
    "                       \"E-Learning\" :\"E-learning\",\n",
    "                       \"IoT\":\"Internet of Things\",\n",
    "                       \"Health\":\"Health Care\",\n",
    "                       \"Apparel & Fashion\" :\"Fashion\",\n",
    "                       \"Gaming startup\":\"Gaming\",\n",
    "                       \"BioTechnology\":\"Biotechnology\",\n",
    "                       \"sports\":\"Sports\",\n",
    "                       \"LegalTech\":\"Legal Tech\",\n",
    "                       \"Fitness startup\":\"Fitness\",\n",
    "                       \"Venture capitalist\":\"Venture Capital\",\n",
    "                       \"Apparel & Fashion\" :\"Fashion\",\n",
    "                        \"Blockchain startup\":\"Blockchain\",\n",
    "                       \"HR Tech\":\"HR tech\",\n",
    "                       \"Food tech\":\"FoodTech\",\n",
    "                       \"Crypto\":\"Cryptocurrency\",\n",
    "                       \"Automobiles\":\"Automobile\",\n",
    "                       \"CleanTech\":\"Cleantech\",\n",
    "                       \"Job portal\" :\"Online Portals\",\n",
    "                       \"Edtech | EdTech Startup\":\"EdTech\",\n",
    "                       \"Healthcare |Healthtech|HealthCare |HealthTech|Hospital & Health Care|Heathcare|Health care\" :\"Health Care\",\n",
    "                       \"AI startup|AI|Ai\":\"Artificial Intelligence\",\n",
    "                       \"Health, Wellness & Fitness|Health & Wellness\" :\"Wellness\",\n",
    "                       \"Tech company|Technology\" :\"Tech\",\n",
    "                       \"IT|IT startup\":\"Information Technology\",\n",
    "                       \"Food Industry|Food & Bevarages|Beverage |Beverages|Food and Beverages\":\"Food & Beverage\",\n",
    "                       \"B2B service|B2B marketplace\":\"B2B\",\n",
    "                        \"E-Commerce|Ecommerce|Social e-commerce\":\"E-commerce\"\n",
    "\n",
    "                       }},inplace =True)"
   ]
  },
  {
   "cell_type": "code",
   "execution_count": 191,
   "metadata": {},
   "outputs": [
    {
     "data": {
      "text/plain": [
       "2839"
      ]
     },
     "execution_count": 191,
     "metadata": {},
     "output_type": "execute_result"
    }
   ],
   "source": [
    "# pd.set_option(\"max_rows\",None)\n",
    "df[\"Sector\"].value_counts().sum()"
   ]
  },
  {
   "cell_type": "code",
   "execution_count": 192,
   "metadata": {},
   "outputs": [
    {
     "data": {
      "text/plain": [
       "Index(['Industry Group', 'Industries'], dtype='object')"
      ]
     },
     "execution_count": 192,
     "metadata": {},
     "output_type": "execute_result"
    }
   ],
   "source": [
    "global_sector=pd.read_csv('data\\global_ind.csv',delimiter=',')\n",
    "global_sector.dropna(inplace=True)\n",
    "global_sector.columns"
   ]
  },
  {
   "cell_type": "code",
   "execution_count": 194,
   "metadata": {},
   "outputs": [],
   "source": [
    "# Create a new column named \"global_sector\" in the df DataFrame\n",
    "df[\"global_sector\"] = \"\"\n",
    "\n",
    "# Loop through each row in the df DataFrame\n",
    "for index, row in df.iterrows():\n",
    "    sector = row[\"Sector\"]\n",
    "    \n",
    "    # Find the best match for the sector value using fuzzy matching\n",
    "    matches = process.extractOne(sector, global_sector[\"Industries\"])\n",
    "    \n",
    "    # If a match is found with a similarity score of 50% or higher, assign the corresponding global industry value to the \"global_sector\" column in df DataFrame\n",
    "    if matches[1] >= 49.9:\n",
    "        global_sector_val = global_sector.loc[matches[2], \"Industry Group\"]\n",
    "        df.at[index, \"global_sector\"] = global_sector_val\n",
    "\n",
    "# Print the updated df DataFrame\n",
    "pd.set_option(\"display.max_rows\",None)\n"
   ]
  },
  {
   "cell_type": "markdown",
   "metadata": {},
   "source": [
    "Cleaning is done for the sector column! Let's take a look at the first five rows."
   ]
  },
  {
   "cell_type": "code",
   "execution_count": 211,
   "metadata": {},
   "outputs": [
    {
     "data": {
      "text/html": [
       "<div>\n",
       "<style scoped>\n",
       "    .dataframe tbody tr th:only-of-type {\n",
       "        vertical-align: middle;\n",
       "    }\n",
       "\n",
       "    .dataframe tbody tr th {\n",
       "        vertical-align: top;\n",
       "    }\n",
       "\n",
       "    .dataframe thead th {\n",
       "        text-align: right;\n",
       "    }\n",
       "</style>\n",
       "<table border=\"1\" class=\"dataframe\">\n",
       "  <thead>\n",
       "    <tr style=\"text-align: right;\">\n",
       "      <th></th>\n",
       "      <th>Company Name</th>\n",
       "      <th>Sector</th>\n",
       "      <th>Stage</th>\n",
       "      <th>Amount</th>\n",
       "      <th>HeadQuarter</th>\n",
       "      <th>Year Funded</th>\n",
       "      <th>Investor</th>\n",
       "      <th>Founded</th>\n",
       "      <th>global_sector</th>\n",
       "    </tr>\n",
       "  </thead>\n",
       "  <tbody>\n",
       "    <tr>\n",
       "      <th>1297</th>\n",
       "      <td>Eggoz</td>\n",
       "      <td>AgriTech</td>\n",
       "      <td>Seed</td>\n",
       "      <td>329000.0</td>\n",
       "      <td>Bihar</td>\n",
       "      <td>2020</td>\n",
       "      <td>Tracxn Labs, Angellist, Tri-Deep Capital</td>\n",
       "      <td>2017.0</td>\n",
       "      <td>Agriculture and Farming</td>\n",
       "    </tr>\n",
       "    <tr>\n",
       "      <th>2445</th>\n",
       "      <td>Virohan</td>\n",
       "      <td>EdTech</td>\n",
       "      <td>Series B</td>\n",
       "      <td>3000000.0</td>\n",
       "      <td>Gurugram</td>\n",
       "      <td>2021</td>\n",
       "      <td>Rebright Partners</td>\n",
       "      <td>2018.0</td>\n",
       "      <td>Education</td>\n",
       "    </tr>\n",
       "    <tr>\n",
       "      <th>836</th>\n",
       "      <td>Ultraviolette Automotive</td>\n",
       "      <td>Automobile</td>\n",
       "      <td>Series B</td>\n",
       "      <td>4000000.0</td>\n",
       "      <td>Bangalore</td>\n",
       "      <td>2020</td>\n",
       "      <td>TVS Motor Company</td>\n",
       "      <td>2014.0</td>\n",
       "      <td>Transportation</td>\n",
       "    </tr>\n",
       "    <tr>\n",
       "      <th>2751</th>\n",
       "      <td>Tummoc</td>\n",
       "      <td>Mobility</td>\n",
       "      <td>Series B</td>\n",
       "      <td>540000.0</td>\n",
       "      <td>Bangalore</td>\n",
       "      <td>2021</td>\n",
       "      <td>Vineet Singh</td>\n",
       "      <td>2016.0</td>\n",
       "      <td>Transportation</td>\n",
       "    </tr>\n",
       "    <tr>\n",
       "      <th>2718</th>\n",
       "      <td>Rulezero</td>\n",
       "      <td>Financial Services</td>\n",
       "      <td>Series B</td>\n",
       "      <td>2500000.0</td>\n",
       "      <td>Bangalore</td>\n",
       "      <td>2021</td>\n",
       "      <td>The Treasury</td>\n",
       "      <td>2019.0</td>\n",
       "      <td>Administrative Services</td>\n",
       "    </tr>\n",
       "    <tr>\n",
       "      <th>624</th>\n",
       "      <td>EWar</td>\n",
       "      <td>Gaming</td>\n",
       "      <td>Pre-series A</td>\n",
       "      <td>3000000.0</td>\n",
       "      <td>Bangalore</td>\n",
       "      <td>2020</td>\n",
       "      <td>Jindal Steels, Jeet Banerjee</td>\n",
       "      <td>2019.0</td>\n",
       "      <td>Gaming</td>\n",
       "    </tr>\n",
       "    <tr>\n",
       "      <th>562</th>\n",
       "      <td>Bombay Shirt Company</td>\n",
       "      <td>E-Commerce</td>\n",
       "      <td>Unknown</td>\n",
       "      <td>8000000.0</td>\n",
       "      <td>Mumbai</td>\n",
       "      <td>2019</td>\n",
       "      <td>Lightbox Ventures</td>\n",
       "      <td>2012.0</td>\n",
       "      <td>Commerce and Shopping</td>\n",
       "    </tr>\n",
       "    <tr>\n",
       "      <th>1888</th>\n",
       "      <td>Enmovil</td>\n",
       "      <td>Information Technology &amp; Services</td>\n",
       "      <td>Pre-series</td>\n",
       "      <td>1300000.0</td>\n",
       "      <td>Hyderabad</td>\n",
       "      <td>2021</td>\n",
       "      <td>Anicut Angel Fund</td>\n",
       "      <td>2015.0</td>\n",
       "      <td>Biotechnology</td>\n",
       "    </tr>\n",
       "    <tr>\n",
       "      <th>2246</th>\n",
       "      <td>Fable Fintech</td>\n",
       "      <td>FinTech</td>\n",
       "      <td>Series B</td>\n",
       "      <td>3500000.0</td>\n",
       "      <td>Mumbai</td>\n",
       "      <td>2021</td>\n",
       "      <td>Paytm</td>\n",
       "      <td>2015.0</td>\n",
       "      <td>Financial Services</td>\n",
       "    </tr>\n",
       "    <tr>\n",
       "      <th>806</th>\n",
       "      <td>Finelistings</td>\n",
       "      <td>Luxury car startup</td>\n",
       "      <td>Undisclosed</td>\n",
       "      <td>3000000.0</td>\n",
       "      <td>New Delhi</td>\n",
       "      <td>2020</td>\n",
       "      <td>Justdial</td>\n",
       "      <td>2015.0</td>\n",
       "      <td>Artificial Intelligence</td>\n",
       "    </tr>\n",
       "  </tbody>\n",
       "</table>\n",
       "</div>"
      ],
      "text/plain": [
       "                  Company Name                             Sector  \\\n",
       "1297                     Eggoz                           AgriTech   \n",
       "2445                   Virohan                             EdTech   \n",
       "836   Ultraviolette Automotive                         Automobile   \n",
       "2751                    Tummoc                           Mobility   \n",
       "2718                  Rulezero                 Financial Services   \n",
       "624                       EWar                             Gaming   \n",
       "562       Bombay Shirt Company                         E-Commerce   \n",
       "1888                   Enmovil  Information Technology & Services   \n",
       "2246             Fable Fintech                            FinTech   \n",
       "806               Finelistings                 Luxury car startup   \n",
       "\n",
       "             Stage    Amount HeadQuarter  Year Funded  \\\n",
       "1297          Seed  329000.0       Bihar         2020   \n",
       "2445      Series B 3000000.0    Gurugram         2021   \n",
       "836       Series B 4000000.0   Bangalore         2020   \n",
       "2751      Series B  540000.0   Bangalore         2021   \n",
       "2718      Series B 2500000.0   Bangalore         2021   \n",
       "624   Pre-series A 3000000.0   Bangalore         2020   \n",
       "562        Unknown 8000000.0      Mumbai         2019   \n",
       "1888    Pre-series 1300000.0   Hyderabad         2021   \n",
       "2246      Series B 3500000.0      Mumbai         2021   \n",
       "806    Undisclosed 3000000.0   New Delhi         2020   \n",
       "\n",
       "                                      Investor  Founded  \\\n",
       "1297  Tracxn Labs, Angellist, Tri-Deep Capital   2017.0   \n",
       "2445                         Rebright Partners   2018.0   \n",
       "836                          TVS Motor Company   2014.0   \n",
       "2751                              Vineet Singh   2016.0   \n",
       "2718                              The Treasury   2019.0   \n",
       "624               Jindal Steels, Jeet Banerjee   2019.0   \n",
       "562                          Lightbox Ventures   2012.0   \n",
       "1888                         Anicut Angel Fund   2015.0   \n",
       "2246                                     Paytm   2015.0   \n",
       "806                                   Justdial   2015.0   \n",
       "\n",
       "                global_sector  \n",
       "1297  Agriculture and Farming  \n",
       "2445                Education  \n",
       "836            Transportation  \n",
       "2751           Transportation  \n",
       "2718  Administrative Services  \n",
       "624                    Gaming  \n",
       "562     Commerce and Shopping  \n",
       "1888            Biotechnology  \n",
       "2246       Financial Services  \n",
       "806   Artificial Intelligence  "
      ]
     },
     "execution_count": 211,
     "metadata": {},
     "output_type": "execute_result"
    }
   ],
   "source": [
    "# Get 10 random rows of the dataset.\n",
    "\n",
    "df.sample(10)"
   ]
  },
  {
   "cell_type": "markdown",
   "metadata": {},
   "source": [
    "#### **UNIVARIATE ANALYSIS**"
   ]
  },
  {
   "cell_type": "markdown",
   "metadata": {},
   "source": [
    "Univariate analysis is a component of exploratory data analysis (EDA) that focuses on examining and interpreting individual variables in isolation. \n",
    "\n",
    "Its purpose is to analyze the characteristics, patterns, and distribution of a single variable in order to gain insights and comprehend its behavior within a dataset. \n",
    "\n",
    "By scrutinizing a variable independently, researchers can uncover valuable information about its properties without considering the influence of other variables."
   ]
  },
  {
   "cell_type": "markdown",
   "metadata": {},
   "source": [
    "#### **Company Name**"
   ]
  },
  {
   "cell_type": "markdown",
   "metadata": {},
   "source": [
    "To explore the 'Company Name' column of the data, we first want to get some statistical summaries using the .describe() method in pandas."
   ]
  },
  {
   "cell_type": "code",
   "execution_count": 197,
   "metadata": {},
   "outputs": [
    {
     "data": {
      "text/plain": [
       "count         2839\n",
       "unique        2212\n",
       "top       BharatPe\n",
       "freq            10\n",
       "Name: Company Name, dtype: object"
      ]
     },
     "execution_count": 197,
     "metadata": {},
     "output_type": "execute_result"
    }
   ],
   "source": [
    "# Get some statistical summaries about the column.\n",
    "\n",
    "df['Company Name'].describe()"
   ]
  },
  {
   "cell_type": "markdown",
   "metadata": {},
   "source": [
    "From the displayed statistics, the total count of companies in the entire dataset is 2846 out of which 2216 are unique.\n",
    "\n",
    "Also, the most frequent company is **BharatPe** with 10 occurances. This means BharatPe was able to obtain 10 multiple fundings spanning through 2018 to 2021.\n",
    "\n",
    "Let's take a more closer look for confirmation that the 10 occurances were not duplicates."
   ]
  },
  {
   "cell_type": "code",
   "execution_count": 198,
   "metadata": {},
   "outputs": [
    {
     "data": {
      "text/html": [
       "<div>\n",
       "<style scoped>\n",
       "    .dataframe tbody tr th:only-of-type {\n",
       "        vertical-align: middle;\n",
       "    }\n",
       "\n",
       "    .dataframe tbody tr th {\n",
       "        vertical-align: top;\n",
       "    }\n",
       "\n",
       "    .dataframe thead th {\n",
       "        text-align: right;\n",
       "    }\n",
       "</style>\n",
       "<table border=\"1\" class=\"dataframe\">\n",
       "  <thead>\n",
       "    <tr style=\"text-align: right;\">\n",
       "      <th></th>\n",
       "      <th>Company Name</th>\n",
       "      <th>Sector</th>\n",
       "      <th>Stage</th>\n",
       "      <th>Amount</th>\n",
       "      <th>HeadQuarter</th>\n",
       "      <th>Year Funded</th>\n",
       "      <th>Investor</th>\n",
       "      <th>Founded</th>\n",
       "      <th>global_sector</th>\n",
       "    </tr>\n",
       "  </thead>\n",
       "  <tbody>\n",
       "    <tr>\n",
       "      <th>1489</th>\n",
       "      <td>BharatPe</td>\n",
       "      <td>FinTech</td>\n",
       "      <td>Series C</td>\n",
       "      <td>75000000.0</td>\n",
       "      <td>Delhi</td>\n",
       "      <td>2020</td>\n",
       "      <td>Ribbit Capital</td>\n",
       "      <td>2018.0</td>\n",
       "      <td>Financial Services</td>\n",
       "    </tr>\n",
       "    <tr>\n",
       "      <th>1562</th>\n",
       "      <td>BharatPe</td>\n",
       "      <td>FinTech</td>\n",
       "      <td>Undisclosed</td>\n",
       "      <td>100000000.0</td>\n",
       "      <td>Delhi</td>\n",
       "      <td>2020</td>\n",
       "      <td>Coatue Management</td>\n",
       "      <td>2018.0</td>\n",
       "      <td>Financial Services</td>\n",
       "    </tr>\n",
       "    <tr>\n",
       "      <th>1795</th>\n",
       "      <td>BharatPe</td>\n",
       "      <td>FinTech</td>\n",
       "      <td>Debt Financing</td>\n",
       "      <td>20000000.0</td>\n",
       "      <td>New Delhi</td>\n",
       "      <td>2021</td>\n",
       "      <td>IIFL Wealth</td>\n",
       "      <td>2018.0</td>\n",
       "      <td>Financial Services</td>\n",
       "    </tr>\n",
       "    <tr>\n",
       "      <th>1837</th>\n",
       "      <td>BharatPe</td>\n",
       "      <td>FinTech</td>\n",
       "      <td>Series C</td>\n",
       "      <td>370000000.0</td>\n",
       "      <td>New Delhi</td>\n",
       "      <td>2021</td>\n",
       "      <td>Tiger Global</td>\n",
       "      <td>2018.0</td>\n",
       "      <td>Financial Services</td>\n",
       "    </tr>\n",
       "    <tr>\n",
       "      <th>1976</th>\n",
       "      <td>BharatPe</td>\n",
       "      <td>FinTech</td>\n",
       "      <td>Series C</td>\n",
       "      <td>100000000.0</td>\n",
       "      <td>New Delhi</td>\n",
       "      <td>2021</td>\n",
       "      <td>Amplo</td>\n",
       "      <td>2018.0</td>\n",
       "      <td>Financial Services</td>\n",
       "    </tr>\n",
       "    <tr>\n",
       "      <th>2038</th>\n",
       "      <td>BharatPe</td>\n",
       "      <td>FinTech</td>\n",
       "      <td>Debt Financing</td>\n",
       "      <td>6000000.0</td>\n",
       "      <td>New Delhi</td>\n",
       "      <td>2021</td>\n",
       "      <td>InnoVen Capital</td>\n",
       "      <td>2018.0</td>\n",
       "      <td>Financial Services</td>\n",
       "    </tr>\n",
       "    <tr>\n",
       "      <th>2044</th>\n",
       "      <td>BharatPe</td>\n",
       "      <td>FinTech</td>\n",
       "      <td>Debt Financing</td>\n",
       "      <td>10000000.0</td>\n",
       "      <td>New Delhi</td>\n",
       "      <td>2021</td>\n",
       "      <td>InnoVen Capital</td>\n",
       "      <td>2018.0</td>\n",
       "      <td>Financial Services</td>\n",
       "    </tr>\n",
       "    <tr>\n",
       "      <th>2085</th>\n",
       "      <td>BharatPe</td>\n",
       "      <td>FinTech</td>\n",
       "      <td>Debt Financing</td>\n",
       "      <td>8200000.0</td>\n",
       "      <td>New Delhi</td>\n",
       "      <td>2021</td>\n",
       "      <td>Steadview Capital</td>\n",
       "      <td>2018.0</td>\n",
       "      <td>Financial Services</td>\n",
       "    </tr>\n",
       "    <tr>\n",
       "      <th>2484</th>\n",
       "      <td>BharatPe</td>\n",
       "      <td>FinTech</td>\n",
       "      <td>Debt Financing</td>\n",
       "      <td>6000000.0</td>\n",
       "      <td>New Delhi</td>\n",
       "      <td>2021</td>\n",
       "      <td>Amplo</td>\n",
       "      <td>2018.0</td>\n",
       "      <td>Financial Services</td>\n",
       "    </tr>\n",
       "    <tr>\n",
       "      <th>2668</th>\n",
       "      <td>BharatPe</td>\n",
       "      <td>Financial Services</td>\n",
       "      <td>Venture - Series Unknown</td>\n",
       "      <td>10000000.0</td>\n",
       "      <td>New Delhi</td>\n",
       "      <td>2021</td>\n",
       "      <td>MAS Financial Services</td>\n",
       "      <td>2018.0</td>\n",
       "      <td>Administrative Services</td>\n",
       "    </tr>\n",
       "  </tbody>\n",
       "</table>\n",
       "</div>"
      ],
      "text/plain": [
       "     Company Name              Sector                     Stage      Amount  \\\n",
       "1489     BharatPe             FinTech                  Series C  75000000.0   \n",
       "1562     BharatPe             FinTech               Undisclosed 100000000.0   \n",
       "1795     BharatPe             FinTech            Debt Financing  20000000.0   \n",
       "1837     BharatPe             FinTech                  Series C 370000000.0   \n",
       "1976     BharatPe             FinTech                  Series C 100000000.0   \n",
       "2038     BharatPe             FinTech            Debt Financing   6000000.0   \n",
       "2044     BharatPe             FinTech            Debt Financing  10000000.0   \n",
       "2085     BharatPe             FinTech            Debt Financing   8200000.0   \n",
       "2484     BharatPe             FinTech            Debt Financing   6000000.0   \n",
       "2668     BharatPe  Financial Services  Venture - Series Unknown  10000000.0   \n",
       "\n",
       "     HeadQuarter  Year Funded                Investor  Founded  \\\n",
       "1489       Delhi         2020          Ribbit Capital   2018.0   \n",
       "1562       Delhi         2020       Coatue Management   2018.0   \n",
       "1795   New Delhi         2021             IIFL Wealth   2018.0   \n",
       "1837   New Delhi         2021            Tiger Global   2018.0   \n",
       "1976   New Delhi         2021                   Amplo   2018.0   \n",
       "2038   New Delhi         2021         InnoVen Capital   2018.0   \n",
       "2044   New Delhi         2021         InnoVen Capital   2018.0   \n",
       "2085   New Delhi         2021       Steadview Capital   2018.0   \n",
       "2484   New Delhi         2021                   Amplo   2018.0   \n",
       "2668   New Delhi         2021  MAS Financial Services   2018.0   \n",
       "\n",
       "                global_sector  \n",
       "1489       Financial Services  \n",
       "1562       Financial Services  \n",
       "1795       Financial Services  \n",
       "1837       Financial Services  \n",
       "1976       Financial Services  \n",
       "2038       Financial Services  \n",
       "2044       Financial Services  \n",
       "2085       Financial Services  \n",
       "2484       Financial Services  \n",
       "2668  Administrative Services  "
      ]
     },
     "execution_count": 198,
     "metadata": {},
     "output_type": "execute_result"
    }
   ],
   "source": [
    "# Get the dataframe of companies named BharatPe\n",
    "\n",
    "df.loc[df['Company Name'] == 'BharatPe']"
   ]
  },
  {
   "cell_type": "markdown",
   "metadata": {},
   "source": [
    "These are not duplicates.\n",
    "\n",
    "Let's view the distribution of the top 10 occuring companies"
   ]
  },
  {
   "cell_type": "code",
   "execution_count": 199,
   "metadata": {},
   "outputs": [],
   "source": [
    "# A function to plot countplots for the top occuring values of any specified column.\n",
    "\n",
    "def plot_top_values(data, column_name, n=10):\n",
    "    \"\"\"\n",
    "    Plot the bar plot for the top n most frequent values in a specified column.\n",
    "\n",
    "    Parameters:\n",
    "        data (DataFrame): The input DataFrame containing the data.\n",
    "        column_name (str): The name of the column to analyze.\n",
    "        n (int): The number of top values to consider (default is 10).\n",
    "\n",
    "    Returns:\n",
    "        None. Displays the bar plot.\n",
    "\n",
    "    \"\"\"\n",
    "    # Group the data by the specified column and count occurrences\n",
    "    column_counts = data[column_name].value_counts()\n",
    "\n",
    "    # Retrieve the top n most frequent values\n",
    "    top_n_values = column_counts.nlargest(n)\n",
    "\n",
    "    # Convert the series to a DataFrame\n",
    "    top_n_values_df = pd.DataFrame(top_n_values).reset_index()\n",
    "    top_n_values_df.columns = [column_name, 'Count']\n",
    "\n",
    "    # Plot the bar plot\n",
    "    plt.figure(figsize=(20, 10))\n",
    "    ax = sns.barplot(data=top_n_values_df, x=column_name, y='Count')\n",
    "    plt.xlabel(column_name)\n",
    "    plt.ylabel('Count')\n",
    "    plt.title(f'Top {n} Most Frequent {column_name}s')\n",
    "    plt.xticks(rotation=45)\n",
    "\n",
    "    # Add count labels to the edge of each bar\n",
    "    for index, row in top_n_values_df.iterrows():\n",
    "        ax.text(index, row['Count'], row['Count'], color='black', ha=\"center\")\n",
    "\n",
    "    plt.show()"
   ]
  },
  {
   "cell_type": "code",
   "execution_count": 200,
   "metadata": {},
   "outputs": [
    {
     "data": {
      "image/png": "[encoded data removed]",
      "text/plain": [
       "<Figure size 2000x1000 with 1 Axes>"
      ]
     },
     "metadata": {},
     "output_type": "display_data"
    }
   ],
   "source": [
    "# Invoke the plot_top_values() function on the column named 'Company Name' for its top 10 occuring companies\n",
    "\n",
    "plot_top_values(df, 'Company Name', n=10)"
   ]
  },
  {
   "cell_type": "markdown",
   "metadata": {},
   "source": [
    "It is conspicously outlined from the visualisation that, **BharatPe** tops Indian start-ups in obtaining fundings multiple times across the years under review.\n",
    "\n",
    "**Zomato** then came as the second most frequently funded company across the years. Meanwhile, **Nykaa**, **Trell**, **Spinny**, **Vedantu**, **Zetwerk** and **MPL** obtained funding 6 times from 2018 through 2021. \n",
    "\n",
    "**Unacademy** and **BYJU**'S did obtain funding 5 times across the years under review."
   ]
  },
  {
   "cell_type": "markdown",
   "metadata": {},
   "source": [
    "#### **Sector**"
   ]
  },
  {
   "cell_type": "markdown",
   "metadata": {},
   "source": [
    "Let's first get informed about some statistical attributes of the sector column"
   ]
  },
  {
   "cell_type": "code",
   "execution_count": 203,
   "metadata": {},
   "outputs": [
    {
     "data": {
      "text/plain": [
       "count                   2839\n",
       "unique                    48\n",
       "top       Financial Services\n",
       "freq                     361\n",
       "Name: global_sector, dtype: object"
      ]
     },
     "execution_count": 203,
     "metadata": {},
     "output_type": "execute_result"
    }
   ],
   "source": [
    "# Get the statistical summary for the global_sector column as we have recategorised the sectors in that column.\n",
    "\n",
    "df['global_sector'].describe()"
   ]
  },
  {
   "cell_type": "markdown",
   "metadata": {},
   "source": [
    "The recategorized sector column has a total of 2839 rows with 48 unique sectors. '**Financial Services**' occurred most at 361 times. \n",
    "\n",
    "This indicates that, the financial services sector is the most dorminant in the Indian start-up ecosystem for the period under review."
   ]
  },
  {
   "cell_type": "markdown",
   "metadata": {},
   "source": [
    "Let's get the visual impressions about these sectors and their distribution."
   ]
  },
  {
   "cell_type": "code",
   "execution_count": 204,
   "metadata": {},
   "outputs": [
    {
     "data": {
      "image/png": "[encoded data removed]",
      "text/plain": [
       "<Figure size 2000x1000 with 1 Axes>"
      ]
     },
     "metadata": {},
     "output_type": "display_data"
    }
   ],
   "source": [
    "# Get the top ten sectors interms of multiple funding for the period by invoking the plot_top_values() function.\n",
    "\n",
    "plot_top_values(df, 'global_sector', n=10)"
   ]
  },
  {
   "cell_type": "markdown",
   "metadata": {},
   "source": [
    "As clearly indicated by the diagram above, the most frequent sector in the Indian start-up ecosystem is the **Finance Sector**. This sector obtained 361 successful fundings throughout the period. This was followed by the **Education Sector** with 238 deals. The third most frequent sector involved in funding was the **Health Care** sector. This sector succeded in 218 funding deals over the years of 2018 through to 2021. Meanwhile the **Administrative Services** and **Commerce and Shopping** sectors obtained 198 funding deals over the period. The rest of the sectors noted for securing high number of funding deals were Artificial Intelligence, Transportaion, Food and Beverages, Agriculture and Farming and Biotechnology. They secured 170, 167, 119, 111 and 92 respectively.                             "
   ]
  },
  {
   "cell_type": "markdown",
   "metadata": {},
   "source": [
    "### **Stage**"
   ]
  },
  {
   "cell_type": "markdown",
   "metadata": {},
   "source": [
    "Here, we analyse the stage column as a separate variable"
   ]
  },
  {
   "cell_type": "code",
   "execution_count": 205,
   "metadata": {},
   "outputs": [
    {
     "data": {
      "text/plain": [
       "count         2839\n",
       "unique          40\n",
       "top       Series B\n",
       "freq           525\n",
       "Name: Stage, dtype: object"
      ]
     },
     "execution_count": 205,
     "metadata": {},
     "output_type": "execute_result"
    }
   ],
   "source": [
    "# Get some statistical summaries about the  stage column.\n",
    "\n",
    "df.Stage.describe()"
   ]
  },
  {
   "cell_type": "markdown",
   "metadata": {},
   "source": [
    "It appears the **Series B** funding stage was the most common funding stage at which Indian start-ups obtained funding. <br>It dorminated with 525 funding deals over the period of 2018 to 2021."
   ]
  },
  {
   "cell_type": "markdown",
   "metadata": {},
   "source": [
    "Let's get the visual impressions about these stages and their distribution per counts."
   ]
  },
  {
   "cell_type": "code",
   "execution_count": 206,
   "metadata": {},
   "outputs": [
    {
     "data": {
      "image/png": "[encoded data removed]",
      "text/plain": [
       "<Figure size 2000x1000 with 1 Axes>"
      ]
     },
     "metadata": {},
     "output_type": "display_data"
    }
   ],
   "source": [
    "# Get the top ten stages interms of multiple funding for the period by invoking the plot_top_values() function.\n",
    "\n",
    "plot_top_values(df, 'Stage', n=10)"
   ]
  },
  {
   "cell_type": "markdown",
   "metadata": {},
   "source": [
    "The diagram above depicts the fact that most funded stage in the Indian start-up funding ecosystem is the **Series B stage**. 361 successful fundings were obtained at this stage throughout the period. \n",
    "\n",
    "However, the number of start-ups in the said ecosystem whose funding stages were not disclosed are just 61 short of that of the top funded stage. \n",
    "\n",
    "Also, the third most stage at which funding was obtained among these said start-ups is the  **Seed** stage. Fundings were obtained at 444 times at this stage over the years of 2018 through to 2021. \n",
    "\n",
    "Meanwhile at the venture equity stage whose series are unknown, 441 funding deals were obtained then a drastic drop in number of deals occured with Series A, Series C, Pre-series, Pre-seed and the last for the top ten have been at the debt financing stage.  "
   ]
  },
  {
   "cell_type": "markdown",
   "metadata": {},
   "source": [
    "### **MULTIVARIATE ANALYSIS**"
   ]
  },
  {
   "cell_type": "markdown",
   "metadata": {},
   "source": [
    "This form of exploratory data analysis seeks to find relationships among the numeric variables. Correlation heatmap is used in this regard."
   ]
  },
  {
   "cell_type": "markdown",
   "metadata": {},
   "source": [
    "Plotting the correlation heatmap for the **Amount**, **Year Funded** and **Founded** columns."
   ]
  },
  {
   "cell_type": "code",
   "execution_count": 212,
   "metadata": {},
   "outputs": [
    {
     "data": {
      "image/png": "[encoded data removed]",
      "text/plain": [
       "<Figure size 1500x1000 with 2 Axes>"
      ]
     },
     "metadata": {},
     "output_type": "display_data"
    }
   ],
   "source": [
    "#Inspecting correlation visually\n",
    "sns.set(rc={'figure.figsize':(15,10)})\n",
    "sns.heatmap(df.corr(), annot=True);"
   ]
  },
  {
   "cell_type": "markdown",
   "metadata": {},
   "source": [
    "From our correlation heatmap, there seem to be a very weak positive relationship between the year funded and funding amount received.\n",
    "\n",
    "For founding years of companies and funding obtained, there exits a weak negative relationship.\n",
    "\n",
    "This implies that, amount funded does not depend on the particular year in which funding was received. Also, it does not rely on the age of such companies."
   ]
  }
 ],
 "metadata": {
  "kernelspec": {
   "display_name": "learn-env",
   "language": "python",
   "name": "python3"
  },
  "language_info": {
   "codemirror_mode": {
    "name": "ipython",
    "version": 3
   },
   "file_extension": ".py",
   "mimetype": "text/x-python",
   "name": "python",
   "nbconvert_exporter": "python",
   "pygments_lexer": "ipython3",
   "version": "3.10.9"
  },
  "orig_nbformat": 4
 },
 "nbformat": 4,
 "nbformat_minor": 2
}
